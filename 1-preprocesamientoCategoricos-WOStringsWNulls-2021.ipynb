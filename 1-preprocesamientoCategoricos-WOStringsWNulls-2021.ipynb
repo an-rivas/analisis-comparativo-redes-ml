{
 "cells": [
  {
   "cell_type": "markdown",
   "metadata": {},
   "source": [
    "# Preparación de datos"
   ]
  },
  {
   "cell_type": "markdown",
   "metadata": {},
   "source": [
    "## Librerías"
   ]
  },
  {
   "cell_type": "code",
   "execution_count": 1,
   "metadata": {},
   "outputs": [],
   "source": [
    "# Tratamiento de datos\n",
    "# ==============================================================================\n",
    "import pandas as pd\n",
    "import numpy as np\n",
    "import random\n",
    "\n",
    "# Gráficos\n",
    "# ==============================================================================\n",
    "import matplotlib.pyplot as plt\n",
    "import matplotlib_venn as vplt\n",
    "import seaborn as sns\n",
    "\n",
    "# Preprocesado y modelado\n",
    "# ==============================================================================\n",
    "from sklearn.preprocessing import MinMaxScaler, OrdinalEncoder\n",
    "from funciones import CargarPandasDataset, ModificarColumnasValor, BorrarColumnas, InsertarColumnaNueva\n",
    "\n",
    "# Configuración warnings\n",
    "# ==============================================================================\n",
    "import warnings\n",
    "warnings.filterwarnings('ignore')"
   ]
  },
  {
   "cell_type": "code",
   "execution_count": 2,
   "metadata": {},
   "outputs": [],
   "source": [
    "%matplotlib inline"
   ]
  },
  {
   "cell_type": "markdown",
   "metadata": {},
   "source": [
    "## Funciones"
   ]
  },
  {
   "cell_type": "code",
   "execution_count": 3,
   "metadata": {},
   "outputs": [],
   "source": [
    "def clasificacion(row):\n",
    "    val = [0,0] #ninguno\n",
    "    \n",
    "    #abuso y violencia\n",
    "    if row['P10_8_1'] == 1.0 or row['P10_8_2'] == 1.0 or row['P10_8_3'] == 1.0 or row['P10_8_4'] == 1.0 or row['P10_8_5'] == 1.0 or row['P10_8_6'] == 1.0 or row['P10_8_7'] == 1.0:\n",
    "        val[0] = 1\n",
    "    \n",
    "    #atencion no autorizada\n",
    "    if row['P10_8_8'] == 1.0 or row['P10_8_9'] == 1.0 or row['P10_8_10'] == 1.0 or row['P10_8_13'] == 2.0 or row['P10_8_14'] == 2.0:\n",
    "        val[1] = 1\n",
    "    \n",
    "    if val[0]==1 and val[1]==1: #ambas\n",
    "        return 3\n",
    "    elif val[1]==1: #atencion no autorizada\n",
    "        return 2\n",
    "    elif val[0]==1: #abuso y violencia\n",
    "        return 1\n",
    "    else: \n",
    "        return 0 #ninguno    \n",
    "\n",
    "def clasificacionAbuso(row):\n",
    "    if row['P10_8_1'] == 1.0 or row['P10_8_2'] == 1.0 or row['P10_8_3'] == 1.0 or row['P10_8_4'] == 1.0 or row['P10_8_5'] == 1.0 or row['P10_8_6'] == 1.0 or row['P10_8_7'] == 1.0:\n",
    "        return 1\n",
    "    return 0\n",
    "\n",
    "def clasificacionAtencion(row):\n",
    "    if row['P10_8_8'] == 1.0 or row['P10_8_9'] == 1.0 or row['P10_8_10'] == 1.0 or row['P10_8_13'] == 2.0 or row['P10_8_14'] == 2.0:\n",
    "        return 1\n",
    "    return 0\n",
    "\n",
    "def sumaBienesVivienda(row):\n",
    "    return row[[f'P1_4_{i}' for i in range(1,10)]].T.sum()\n",
    "\n",
    "def sumaFuentesDinero(row):\n",
    "    return row[[f'P4_8_{i}' for i in range(1,8)]].T.sum()\n",
    "\n",
    "def sumaPropiedadesHogar(row):\n",
    "    return row[[f'P4_12_{i}' for i in range(1,8)]].T.sum()\n"
   ]
  },
  {
   "cell_type": "markdown",
   "metadata": {},
   "source": [
    "## SECCIÓN I. CARACTERÍSTICAS DE LA VIVIENDA Y HOGARES EN LA VIVIENDA"
   ]
  },
  {
   "cell_type": "markdown",
   "metadata": {},
   "source": [
    "### Cargar datos"
   ]
  },
  {
   "cell_type": "code",
   "execution_count": 4,
   "metadata": {},
   "outputs": [
    {
     "data": {
      "text/html": [
       "<div>\n",
       "<style scoped>\n",
       "    .dataframe tbody tr th:only-of-type {\n",
       "        vertical-align: middle;\n",
       "    }\n",
       "\n",
       "    .dataframe tbody tr th {\n",
       "        vertical-align: top;\n",
       "    }\n",
       "\n",
       "    .dataframe thead th {\n",
       "        text-align: right;\n",
       "    }\n",
       "</style>\n",
       "<table border=\"1\" class=\"dataframe\">\n",
       "  <thead>\n",
       "    <tr style=\"text-align: right;\">\n",
       "      <th></th>\n",
       "      <th>ID_VIV</th>\n",
       "      <th>UPM</th>\n",
       "      <th>VIV_SEL</th>\n",
       "      <th>CVE_ENT</th>\n",
       "      <th>NOM_ENT</th>\n",
       "      <th>CVE_MUN</th>\n",
       "      <th>NOM_MUN</th>\n",
       "      <th>COD_RES</th>\n",
       "      <th>P1_1</th>\n",
       "      <th>P1_2</th>\n",
       "      <th>...</th>\n",
       "      <th>P1_9</th>\n",
       "      <th>P1_10_1</th>\n",
       "      <th>P1_10_2</th>\n",
       "      <th>P1_10_3</th>\n",
       "      <th>P1_10_4</th>\n",
       "      <th>FAC_VIV</th>\n",
       "      <th>DOMINIO</th>\n",
       "      <th>EST_DIS</th>\n",
       "      <th>UPM_DIS</th>\n",
       "      <th>ESTRATO</th>\n",
       "    </tr>\n",
       "  </thead>\n",
       "  <tbody>\n",
       "    <tr>\n",
       "      <th>94946</th>\n",
       "      <td>2502989.05</td>\n",
       "      <td>2502989</td>\n",
       "      <td>5</td>\n",
       "      <td>25</td>\n",
       "      <td>SINALOA\\r</td>\n",
       "      <td>12</td>\n",
       "      <td>MAZATLÃN\\r</td>\n",
       "      <td>1</td>\n",
       "      <td>3</td>\n",
       "      <td>2</td>\n",
       "      <td>...</td>\n",
       "      <td>NaN</td>\n",
       "      <td>NaN</td>\n",
       "      <td>NaN</td>\n",
       "      <td>NaN</td>\n",
       "      <td>NaN</td>\n",
       "      <td>206</td>\n",
       "      <td>U\\r</td>\n",
       "      <td>444</td>\n",
       "      <td>13900</td>\n",
       "      <td>3</td>\n",
       "    </tr>\n",
       "    <tr>\n",
       "      <th>76228</th>\n",
       "      <td>2003187.07</td>\n",
       "      <td>2003187</td>\n",
       "      <td>7</td>\n",
       "      <td>20</td>\n",
       "      <td>OAXACA\\r</td>\n",
       "      <td>467</td>\n",
       "      <td>SANTIAGO JAMILTEPEC\\r</td>\n",
       "      <td>1</td>\n",
       "      <td>1</td>\n",
       "      <td>2</td>\n",
       "      <td>...</td>\n",
       "      <td>NaN</td>\n",
       "      <td>NaN</td>\n",
       "      <td>NaN</td>\n",
       "      <td>NaN</td>\n",
       "      <td>NaN</td>\n",
       "      <td>311</td>\n",
       "      <td>C\\r</td>\n",
       "      <td>363</td>\n",
       "      <td>11179</td>\n",
       "      <td>1</td>\n",
       "    </tr>\n",
       "    <tr>\n",
       "      <th>17272</th>\n",
       "      <td>501801.05</td>\n",
       "      <td>501801</td>\n",
       "      <td>5</td>\n",
       "      <td>5</td>\n",
       "      <td>COAHUILA DE ZARAGOZA\\r</td>\n",
       "      <td>30</td>\n",
       "      <td>SALTILLO\\r</td>\n",
       "      <td>1</td>\n",
       "      <td>3</td>\n",
       "      <td>1</td>\n",
       "      <td>...</td>\n",
       "      <td>NaN</td>\n",
       "      <td>NaN</td>\n",
       "      <td>NaN</td>\n",
       "      <td>NaN</td>\n",
       "      <td>NaN</td>\n",
       "      <td>215</td>\n",
       "      <td>U\\r</td>\n",
       "      <td>66</td>\n",
       "      <td>2588</td>\n",
       "      <td>2</td>\n",
       "    </tr>\n",
       "    <tr>\n",
       "      <th>113490</th>\n",
       "      <td>3006773.12</td>\n",
       "      <td>3006773</td>\n",
       "      <td>12</td>\n",
       "      <td>30</td>\n",
       "      <td>VERACRUZ DE IGNACIO DE LA LLAVE\\r</td>\n",
       "      <td>124</td>\n",
       "      <td>PAPANTLA\\r</td>\n",
       "      <td>1</td>\n",
       "      <td>2</td>\n",
       "      <td>2</td>\n",
       "      <td>...</td>\n",
       "      <td>NaN</td>\n",
       "      <td>NaN</td>\n",
       "      <td>NaN</td>\n",
       "      <td>NaN</td>\n",
       "      <td>NaN</td>\n",
       "      <td>777</td>\n",
       "      <td>C\\r</td>\n",
       "      <td>581</td>\n",
       "      <td>16663</td>\n",
       "      <td>2</td>\n",
       "    </tr>\n",
       "    <tr>\n",
       "      <th>105345</th>\n",
       "      <td>2803248.02</td>\n",
       "      <td>2803248</td>\n",
       "      <td>2</td>\n",
       "      <td>28</td>\n",
       "      <td>TAMAULIPAS\\r</td>\n",
       "      <td>27</td>\n",
       "      <td>NUEVO LAREDO\\r</td>\n",
       "      <td>1</td>\n",
       "      <td>3</td>\n",
       "      <td>2</td>\n",
       "      <td>...</td>\n",
       "      <td>NaN</td>\n",
       "      <td>NaN</td>\n",
       "      <td>NaN</td>\n",
       "      <td>NaN</td>\n",
       "      <td>NaN</td>\n",
       "      <td>322</td>\n",
       "      <td>U\\r</td>\n",
       "      <td>515</td>\n",
       "      <td>15384</td>\n",
       "      <td>2</td>\n",
       "    </tr>\n",
       "  </tbody>\n",
       "</table>\n",
       "<p>5 rows × 35 columns</p>\n",
       "</div>"
      ],
      "text/plain": [
       "            ID_VIV      UPM  VIV_SEL  CVE_ENT  \\\n",
       "94946   2502989.05  2502989        5       25   \n",
       "76228   2003187.07  2003187        7       20   \n",
       "17272    501801.05   501801        5        5   \n",
       "113490  3006773.12  3006773       12       30   \n",
       "105345  2803248.02  2803248        2       28   \n",
       "\n",
       "                                  NOM_ENT  CVE_MUN                NOM_MUN  \\\n",
       "94946                           SINALOA\\r       12            MAZATLÃN\\r   \n",
       "76228                            OAXACA\\r      467  SANTIAGO JAMILTEPEC\\r   \n",
       "17272              COAHUILA DE ZARAGOZA\\r       30             SALTILLO\\r   \n",
       "113490  VERACRUZ DE IGNACIO DE LA LLAVE\\r      124             PAPANTLA\\r   \n",
       "105345                       TAMAULIPAS\\r       27         NUEVO LAREDO\\r   \n",
       "\n",
       "        COD_RES  P1_1  P1_2  ...  P1_9  P1_10_1  P1_10_2  P1_10_3  P1_10_4  \\\n",
       "94946         1     3     2  ...   NaN      NaN      NaN      NaN      NaN   \n",
       "76228         1     1     2  ...   NaN      NaN      NaN      NaN      NaN   \n",
       "17272         1     3     1  ...   NaN      NaN      NaN      NaN      NaN   \n",
       "113490        1     2     2  ...   NaN      NaN      NaN      NaN      NaN   \n",
       "105345        1     3     2  ...   NaN      NaN      NaN      NaN      NaN   \n",
       "\n",
       "        FAC_VIV  DOMINIO  EST_DIS  UPM_DIS  ESTRATO  \n",
       "94946       206      U\\r      444    13900        3  \n",
       "76228       311      C\\r      363    11179        1  \n",
       "17272       215      U\\r       66     2588        2  \n",
       "113490      777      C\\r      581    16663        2  \n",
       "105345      322      U\\r      515    15384        2  \n",
       "\n",
       "[5 rows x 35 columns]"
      ]
     },
     "execution_count": 4,
     "metadata": {},
     "output_type": "execute_result"
    }
   ],
   "source": [
    "ruta_parcial = \"../../conjunto_de_datos_endireh_2021_csv/conjunto_de_datos_TVIV/conjunto_de_datos/conjunto_de_datos_TVIV.csv\"\n",
    "\n",
    "seccionI = CargarPandasDataset(ruta_parcial)\n",
    "\n",
    "seccionI.iloc[random.choices(range(seccionI.shape[0]), k=5)]\n",
    "#seccionI.iloc[[83867, 107779, 25309, 64234, 81172]]"
   ]
  },
  {
   "cell_type": "code",
   "execution_count": 5,
   "metadata": {},
   "outputs": [
    {
     "data": {
      "text/plain": [
       "Index(['ID_VIV', 'UPM', 'VIV_SEL', 'CVE_ENT', 'NOM_ENT', 'CVE_MUN', 'NOM_MUN',\n",
       "       'COD_RES', 'P1_1', 'P1_2', 'P1_2_A', 'P1_3', 'P1_4_1', 'P1_4_2',\n",
       "       'P1_4_3', 'P1_4_4', 'P1_4_5', 'P1_4_6', 'P1_4_7', 'P1_4_8', 'P1_4_9',\n",
       "       'P1_5', 'P1_6', 'P1_7', 'P1_8', 'P1_9', 'P1_10_1', 'P1_10_2', 'P1_10_3',\n",
       "       'P1_10_4', 'FAC_VIV', 'DOMINIO', 'EST_DIS', 'UPM_DIS', 'ESTRATO'],\n",
       "      dtype='object')"
      ]
     },
     "execution_count": 5,
     "metadata": {},
     "output_type": "execute_result"
    }
   ],
   "source": [
    "seccionI.columns"
   ]
  },
  {
   "cell_type": "markdown",
   "metadata": {},
   "source": [
    "### Hacer columnas One Hot Encoding\n"
   ]
  },
  {
   "cell_type": "markdown",
   "metadata": {},
   "source": [
    "Cambiar los valores $2$ a $0$.\n",
    "\n",
    "Bienes de vivienda (si tienen  televisión ,lavadora , auto, internet, etc) P1_4_{1, 2, 3, ..., 9}."
   ]
  },
  {
   "cell_type": "code",
   "execution_count": 6,
   "metadata": {},
   "outputs": [],
   "source": [
    "columnasOHE = [f'P1_4_{i}' for i in range(1,10)]\n",
    "\n",
    "seccionI = ModificarColumnasValor(df=seccionI, cols=columnasOHE, valorR=2, valorN=0)"
   ]
  },
  {
   "cell_type": "markdown",
   "metadata": {},
   "source": [
    "### Política de datos faltantes"
   ]
  },
  {
   "cell_type": "markdown",
   "metadata": {},
   "source": [
    "P1_9 la cantidad de hogares en la vivienda se debe poner la existencia de 1 hogar en la vivienda."
   ]
  },
  {
   "cell_type": "code",
   "execution_count": 7,
   "metadata": {},
   "outputs": [],
   "source": [
    "seccionI = ModificarColumnasValor(df=seccionI, cols=['P1_9'], valorR=np.nan, valorN=1)"
   ]
  },
  {
   "cell_type": "markdown",
   "metadata": {},
   "source": [
    "### Creación de nueva columna\n",
    "Para la simplificación de los datos, se contará con cuantos bienes cuenta en la vivienda en lugar de cuáles."
   ]
  },
  {
   "cell_type": "code",
   "execution_count": 8,
   "metadata": {},
   "outputs": [
    {
     "data": {
      "text/plain": [
       "7    19607\n",
       "8    19584\n",
       "6    19191\n",
       "5    18521\n",
       "4    14310\n",
       "9    13897\n",
       "3     8836\n",
       "2     4910\n",
       "1     2563\n",
       "0     1227\n",
       "dtype: int64"
      ]
     },
     "execution_count": 8,
     "metadata": {},
     "output_type": "execute_result"
    }
   ],
   "source": [
    "seccionI[[f'P1_4_{i}' for i in range(1,10)]].T.sum().value_counts() # bienes de la vivienda  \n",
    "# conteo: numero de bienes en la vivienda (BIENES_DE_VIVIENDA)"
   ]
  },
  {
   "cell_type": "code",
   "execution_count": 9,
   "metadata": {},
   "outputs": [],
   "source": [
    "seccionI['BIENES_DE_VIVIENDA'] = seccionI[[f'P1_4_{i}' for i in range(1,10)]].T.sum()"
   ]
  },
  {
   "cell_type": "markdown",
   "metadata": {},
   "source": [
    "### Borrar columnas"
   ]
  },
  {
   "cell_type": "markdown",
   "metadata": {},
   "source": [
    "1. P1_8 Se reemplazó al solo usar P1_9\n",
    "5. VIV_SEL y HOGAR no tiene sentido sin ID_VIV.\n",
    "6. UPM (unidad primaria de muestreo), UPM_DIS (UPM de diseño), EST_DIS (estrato de diseño), ESTRATO, se pueden omitir al ser dato de la tecnica de muestreo y no de la mujer.\n",
    "7. FAC_VIV es Ponderador que se utiliza para estimar resultados de las preguntas que se refieren a las viviendas y la población en general.\n",
    "8. FAC_MUJ es Ponderador que se utiliza para estimar resultados de las preguntas que se refieren a las mujeres de 15 años y más.\n",
    "9. CVE_MUN La clave de municipio depende del estado, habiendo un total de 32 municipios registrados como 1.\n"
   ]
  },
  {
   "cell_type": "code",
   "execution_count": 10,
   "metadata": {},
   "outputs": [],
   "source": [
    "labels = ['CVE_ENT', 'NOM_ENT', 'NOM_MUN', 'COD_RES', 'P1_8',\n",
    "         \"VIV_SEL\", \"UPM\", 'UPM_DIS', 'EST_DIS', 'FAC_VIV', 'CVE_MUN', 'ESTRATO']\n",
    "labels.extend([F'P1_4_{i}' for i in range(1,10)])\n",
    "\n",
    "seccionI = BorrarColumnas(df=seccionI, cols=labels)"
   ]
  },
  {
   "cell_type": "markdown",
   "metadata": {},
   "source": [
    "### Guardar dataset"
   ]
  },
  {
   "cell_type": "raw",
   "metadata": {},
   "source": [
    "GuardarDataset(df=seccionI, name='data/sec_i.csv')"
   ]
  },
  {
   "cell_type": "markdown",
   "metadata": {},
   "source": [
    "## SECCIÓN II. CARACTERÍSTICAS SOCIODEMOGRÁFICAS DE RESIDENTES DE LA VIVIENDA"
   ]
  },
  {
   "cell_type": "markdown",
   "metadata": {},
   "source": [
    "### Cargar los datos"
   ]
  },
  {
   "cell_type": "code",
   "execution_count": 11,
   "metadata": {},
   "outputs": [
    {
     "data": {
      "text/html": [
       "<div>\n",
       "<style scoped>\n",
       "    .dataframe tbody tr th:only-of-type {\n",
       "        vertical-align: middle;\n",
       "    }\n",
       "\n",
       "    .dataframe tbody tr th {\n",
       "        vertical-align: top;\n",
       "    }\n",
       "\n",
       "    .dataframe thead th {\n",
       "        text-align: right;\n",
       "    }\n",
       "</style>\n",
       "<table border=\"1\" class=\"dataframe\">\n",
       "  <thead>\n",
       "    <tr style=\"text-align: right;\">\n",
       "      <th></th>\n",
       "      <th>ID_VIV</th>\n",
       "      <th>ID_PER</th>\n",
       "      <th>UPM</th>\n",
       "      <th>VIV_SEL</th>\n",
       "      <th>CVE_ENT</th>\n",
       "      <th>NOM_ENT</th>\n",
       "      <th>CVE_MUN</th>\n",
       "      <th>NOM_MUN</th>\n",
       "      <th>HOGAR</th>\n",
       "      <th>N_REN</th>\n",
       "      <th>...</th>\n",
       "      <th>COD_M15</th>\n",
       "      <th>CODIGO</th>\n",
       "      <th>REN_MUJ_EL</th>\n",
       "      <th>REN_INF_AD</th>\n",
       "      <th>FAC_VIV</th>\n",
       "      <th>FAC_MUJ</th>\n",
       "      <th>DOMINIO</th>\n",
       "      <th>ESTRATO</th>\n",
       "      <th>EST_DIS</th>\n",
       "      <th>UPM_DIS</th>\n",
       "    </tr>\n",
       "  </thead>\n",
       "  <tbody>\n",
       "    <tr>\n",
       "      <th>237619</th>\n",
       "      <td>1801624.19</td>\n",
       "      <td>1801624.19.1.02\\r</td>\n",
       "      <td>1801624</td>\n",
       "      <td>19</td>\n",
       "      <td>18</td>\n",
       "      <td>NAYARIT\\r</td>\n",
       "      <td>15</td>\n",
       "      <td>SANTIAGO IXCUINTLA\\r</td>\n",
       "      <td>1</td>\n",
       "      <td>2</td>\n",
       "      <td>...</td>\n",
       "      <td>1.0</td>\n",
       "      <td>1.0</td>\n",
       "      <td>2.0</td>\n",
       "      <td>2.0</td>\n",
       "      <td>89</td>\n",
       "      <td>89</td>\n",
       "      <td>C\\r</td>\n",
       "      <td>2</td>\n",
       "      <td>328</td>\n",
       "      <td>10137</td>\n",
       "    </tr>\n",
       "    <tr>\n",
       "      <th>260956</th>\n",
       "      <td>2002500.18</td>\n",
       "      <td>2002500.18.1.02\\r</td>\n",
       "      <td>2002500</td>\n",
       "      <td>18</td>\n",
       "      <td>20</td>\n",
       "      <td>OAXACA\\r</td>\n",
       "      <td>136</td>\n",
       "      <td>SAN FELIPE USILA\\r</td>\n",
       "      <td>1</td>\n",
       "      <td>2</td>\n",
       "      <td>...</td>\n",
       "      <td>NaN</td>\n",
       "      <td>NaN</td>\n",
       "      <td>NaN</td>\n",
       "      <td>2.0</td>\n",
       "      <td>282</td>\n",
       "      <td>0</td>\n",
       "      <td>C\\r</td>\n",
       "      <td>1</td>\n",
       "      <td>365</td>\n",
       "      <td>11136</td>\n",
       "    </tr>\n",
       "    <tr>\n",
       "      <th>369516</th>\n",
       "      <td>2803388.02</td>\n",
       "      <td>2803388.02.1.01\\r</td>\n",
       "      <td>2803388</td>\n",
       "      <td>2</td>\n",
       "      <td>28</td>\n",
       "      <td>TAMAULIPAS\\r</td>\n",
       "      <td>27</td>\n",
       "      <td>NUEVO LAREDO\\r</td>\n",
       "      <td>1</td>\n",
       "      <td>1</td>\n",
       "      <td>...</td>\n",
       "      <td>NaN</td>\n",
       "      <td>NaN</td>\n",
       "      <td>NaN</td>\n",
       "      <td>NaN</td>\n",
       "      <td>266</td>\n",
       "      <td>0</td>\n",
       "      <td>U\\r</td>\n",
       "      <td>2</td>\n",
       "      <td>515</td>\n",
       "      <td>15398</td>\n",
       "    </tr>\n",
       "    <tr>\n",
       "      <th>199404</th>\n",
       "      <td>1525922.19</td>\n",
       "      <td>1525922.19.1.04\\r</td>\n",
       "      <td>1525922</td>\n",
       "      <td>19</td>\n",
       "      <td>15</td>\n",
       "      <td>MÃXICO\\r</td>\n",
       "      <td>67</td>\n",
       "      <td>OTZOLOTEPEC\\r</td>\n",
       "      <td>1</td>\n",
       "      <td>4</td>\n",
       "      <td>...</td>\n",
       "      <td>NaN</td>\n",
       "      <td>NaN</td>\n",
       "      <td>NaN</td>\n",
       "      <td>NaN</td>\n",
       "      <td>873</td>\n",
       "      <td>0</td>\n",
       "      <td>C\\r</td>\n",
       "      <td>1</td>\n",
       "      <td>273</td>\n",
       "      <td>8725</td>\n",
       "    </tr>\n",
       "    <tr>\n",
       "      <th>226576</th>\n",
       "      <td>1703114.11</td>\n",
       "      <td>1703114.11.1.07\\r</td>\n",
       "      <td>1703114</td>\n",
       "      <td>11</td>\n",
       "      <td>17</td>\n",
       "      <td>MORELOS\\r</td>\n",
       "      <td>20</td>\n",
       "      <td>TEPOZTLÃN\\r</td>\n",
       "      <td>1</td>\n",
       "      <td>7</td>\n",
       "      <td>...</td>\n",
       "      <td>NaN</td>\n",
       "      <td>NaN</td>\n",
       "      <td>NaN</td>\n",
       "      <td>7.0</td>\n",
       "      <td>168</td>\n",
       "      <td>0</td>\n",
       "      <td>C\\r</td>\n",
       "      <td>2</td>\n",
       "      <td>316</td>\n",
       "      <td>9709</td>\n",
       "    </tr>\n",
       "  </tbody>\n",
       "</table>\n",
       "<p>5 rows × 37 columns</p>\n",
       "</div>"
      ],
      "text/plain": [
       "            ID_VIV             ID_PER      UPM  VIV_SEL  CVE_ENT  \\\n",
       "237619  1801624.19  1801624.19.1.02\\r  1801624       19       18   \n",
       "260956  2002500.18  2002500.18.1.02\\r  2002500       18       20   \n",
       "369516  2803388.02  2803388.02.1.01\\r  2803388        2       28   \n",
       "199404  1525922.19  1525922.19.1.04\\r  1525922       19       15   \n",
       "226576  1703114.11  1703114.11.1.07\\r  1703114       11       17   \n",
       "\n",
       "             NOM_ENT  CVE_MUN               NOM_MUN  HOGAR  N_REN  ...  \\\n",
       "237619     NAYARIT\\r       15  SANTIAGO IXCUINTLA\\r      1      2  ...   \n",
       "260956      OAXACA\\r      136    SAN FELIPE USILA\\r      1      2  ...   \n",
       "369516  TAMAULIPAS\\r       27        NUEVO LAREDO\\r      1      1  ...   \n",
       "199404     MÃXICO\\r       67         OTZOLOTEPEC\\r      1      4  ...   \n",
       "226576     MORELOS\\r       20          TEPOZTLÃN\\r      1      7  ...   \n",
       "\n",
       "       COD_M15  CODIGO  REN_MUJ_EL  REN_INF_AD  FAC_VIV  FAC_MUJ  DOMINIO  \\\n",
       "237619     1.0     1.0         2.0         2.0       89       89      C\\r   \n",
       "260956     NaN     NaN         NaN         2.0      282        0      C\\r   \n",
       "369516     NaN     NaN         NaN         NaN      266        0      U\\r   \n",
       "199404     NaN     NaN         NaN         NaN      873        0      C\\r   \n",
       "226576     NaN     NaN         NaN         7.0      168        0      C\\r   \n",
       "\n",
       "        ESTRATO  EST_DIS  UPM_DIS  \n",
       "237619        2      328    10137  \n",
       "260956        1      365    11136  \n",
       "369516        2      515    15398  \n",
       "199404        1      273     8725  \n",
       "226576        2      316     9709  \n",
       "\n",
       "[5 rows x 37 columns]"
      ]
     },
     "execution_count": 11,
     "metadata": {},
     "output_type": "execute_result"
    }
   ],
   "source": [
    "ruta_parcial = \"../../conjunto_de_datos_endireh_2021_csv/conjunto_de_datos_TSDem/conjunto_de_datos/conjunto_de_datos_TSDem.csv\"\n",
    "\n",
    "seccionII = CargarPandasDataset(ruta_parcial)\n",
    "\n",
    "seccionII.iloc[random.choices(range(seccionII.shape[0]), k=5)]"
   ]
  },
  {
   "cell_type": "markdown",
   "metadata": {},
   "source": [
    "### Modificar columnas a OHE"
   ]
  },
  {
   "cell_type": "markdown",
   "metadata": {},
   "source": [
    "Cambiar los valores $2$ a $0$."
   ]
  },
  {
   "cell_type": "code",
   "execution_count": 12,
   "metadata": {},
   "outputs": [],
   "source": [
    "columnasOHE = ['P2_8', 'P2_9', 'P2_11', 'P2_13']\n",
    "\n",
    "seccionII = ModificarColumnasValor(df=seccionII, cols=columnasOHE, valorR=2, valorN=0)"
   ]
  },
  {
   "cell_type": "markdown",
   "metadata": {},
   "source": [
    "### Política de datos faltantes"
   ]
  },
  {
   "cell_type": "markdown",
   "metadata": {},
   "source": [
    "Si P2_7 es mayor a 2 (estudio mínimo la secundaria) se salta la pregunta P2_8 porque asume que sabrán escribir. Por ello, los valores nulos se remplazan por si (1) y hacer que el valor 9 (no especificado) sea nan."
   ]
  },
  {
   "cell_type": "code",
   "execution_count": 13,
   "metadata": {},
   "outputs": [],
   "source": [
    "seccionII[seccionII.NIV>2] = ModificarColumnasValor(df=seccionII[seccionII.NIV>2], cols='P2_8', valorR=np.nan, valorN=1)\n",
    "seccionII = ModificarColumnasValor(df=seccionII, cols='P2_8', valorR=9, valorN=np.nan)"
   ]
  },
  {
   "cell_type": "markdown",
   "metadata": {},
   "source": [
    "### Discretizar P2_5 y P2_6\n",
    "\n",
    "del 1 al 30 son las viviendas registradas en la propiedad, en la 96 es si vive en otro lugar, 97 si falleció y 98 si no sabe.\n",
    "\n",
    "Se discretiza a 1 como valor de que viven en la misma vivienda, 2 como vive en otro lugar, 3 como falleció y nan si no sabe."
   ]
  },
  {
   "cell_type": "code",
   "execution_count": 14,
   "metadata": {},
   "outputs": [],
   "source": [
    "seccionII = ModificarColumnasValor(df=seccionII, cols=['P2_5'], valorR=range(31), valorN=1)\n",
    "seccionII = ModificarColumnasValor(df=seccionII, cols=['P2_5'], valorR=96, valorN=2)\n",
    "seccionII = ModificarColumnasValor(df=seccionII, cols=['P2_5'], valorR=97, valorN=3)\n",
    "seccionII = ModificarColumnasValor(df=seccionII, cols=['P2_5'], valorR=98, valorN=np.nan)"
   ]
  },
  {
   "cell_type": "code",
   "execution_count": 15,
   "metadata": {},
   "outputs": [],
   "source": [
    "seccionII = ModificarColumnasValor(df=seccionII, cols=['P2_6'], valorR=range(31), valorN=1)\n",
    "seccionII = ModificarColumnasValor(df=seccionII, cols=['P2_6'], valorR=96, valorN=2)\n",
    "seccionII = ModificarColumnasValor(df=seccionII, cols=['P2_6'], valorR=97, valorN=3)\n",
    "seccionII = ModificarColumnasValor(df=seccionII, cols=['P2_6'], valorR=98, valorN=np.nan)"
   ]
  },
  {
   "cell_type": "markdown",
   "metadata": {},
   "source": [
    "### Discretizar columna PAREN"
   ]
  },
  {
   "cell_type": "markdown",
   "metadata": {},
   "source": [
    "Según la (Clasificación de parentescos 2012 del INEGI)[https://www.inegi.org.mx/contenidos/programas/mti/2013/doc/clasificacion_parentescos.pdf] existen 9 grupos principales de parentesco que son.\n",
    "\n",
    "| Grupo | Descripción                | De los datos en la encuesta incluiría |\n",
    "|:-----:|:--------------------------:|:--------------------:|\n",
    "| 1     | Jefa o jefe                | Jefa o jefe (1) |\n",
    "| 2     | Esposa o esposo            | Esposa(o) o pareja)  (2) |\n",
    "| 3     | Hija o hijo                | Hija(o) (3) |\n",
    "| 4     | Otro parentesco            | Nieta(o) (4), Nuera o yerno (5), Hermana(o) (6), Madre o padre (7), Suegra(o) (8), Otro parentesco (9) |\n",
    "| 5     | No tiene parentesco        | Sin parentesco (10) |\n",
    "| 6     | Trabajador(a) doméstico(a) | Empleada(o) doméstica(o) (11) |\n",
    "| 7     | Huésped                    |  |\n",
    "| 9     | Parentesco no especificado |  |\n",
    "\n",
    "Que esto nos ayuda a crear menos clasificaciones en los datos para balancear la desigualdad de los datos."
   ]
  },
  {
   "cell_type": "code",
   "execution_count": 16,
   "metadata": {},
   "outputs": [
    {
     "data": {
      "text/plain": [
       "3     37.726981\n",
       "1     29.317660\n",
       "2     18.208834\n",
       "4      7.253678\n",
       "9      2.333933\n",
       "5      1.930694\n",
       "6      1.159341\n",
       "10     0.837674\n",
       "7      0.831435\n",
       "8      0.366497\n",
       "11     0.033276\n",
       "Name: PAREN, dtype: float64"
      ]
     },
     "execution_count": 16,
     "metadata": {},
     "output_type": "execute_result"
    }
   ],
   "source": [
    "seccionII.PAREN.value_counts(dropna=False)*100/seccionII.shape[0]"
   ]
  },
  {
   "cell_type": "code",
   "execution_count": 17,
   "metadata": {},
   "outputs": [],
   "source": [
    "seccionII = ModificarColumnasValor(df=seccionII, cols=['PAREN'],\n",
    "                                       valorR=[5,6,7,8,9], valorN=4)\n",
    "seccionII = ModificarColumnasValor(df=seccionII, cols=['PAREN'], \n",
    "                                       valorR=10, valorN=5)\n",
    "seccionII = ModificarColumnasValor(df=seccionII, cols=['PAREN'], \n",
    "                                       valorR=11, valorN=6)"
   ]
  },
  {
   "cell_type": "code",
   "execution_count": 18,
   "metadata": {},
   "outputs": [
    {
     "data": {
      "text/plain": [
       "3    37.726981\n",
       "1    29.317660\n",
       "2    18.208834\n",
       "4    13.875576\n",
       "5     0.837674\n",
       "6     0.033276\n",
       "Name: PAREN, dtype: float64"
      ]
     },
     "execution_count": 18,
     "metadata": {},
     "output_type": "execute_result"
    }
   ],
   "source": [
    "seccionII.PAREN.value_counts(dropna=False)*100/seccionII.shape[0]"
   ]
  },
  {
   "cell_type": "markdown",
   "metadata": {},
   "source": [
    "### Borrar columnas"
   ]
  },
  {
   "cell_type": "markdown",
   "metadata": {},
   "source": [
    "1. N_REN, REN_INF_AD, CODIGO y COD_M15 que son datos metodológicos.\n",
    "4. NOMBRE sin registros.\n",
    "6. P2_16 se borra porque está reflejado en la variable _T\\_INSTRUM_.\n",
    "5. VIV_SEL y HOGAR no tiene sentido sin ID_VIV.\n",
    "6. UPM (unidad primaria de muestreo), UPM_DIS (UPM de diseño), EST_DIS (estrato de diseño), ESTRATO, se pueden omitir al ser dato de la tecnica de muestreo y no de la mujer.\n",
    "7. FAC_VIV es Ponderador que se utiliza para estimar resultados de las preguntas que se refieren a las viviendas y la población en general.\n",
    "8. FAC_MUJ es Ponderador que se utiliza para estimar resultados de las preguntas que se refieren a las mujeres de 15 años y más.\n",
    "9. CVE_MUN La clave de municipio depende del estado, habiendo un total de 32 municipios registrados como 1."
   ]
  },
  {
   "cell_type": "code",
   "execution_count": 19,
   "metadata": {},
   "outputs": [
    {
     "data": {
      "text/plain": [
       "Index(['ID_VIV', 'ID_PER', 'UPM', 'VIV_SEL', 'CVE_ENT', 'NOM_ENT', 'CVE_MUN',\n",
       "       'NOM_MUN', 'HOGAR', 'N_REN', 'NOMBRE', 'PAREN', 'SEXO', 'EDAD', 'P2_5',\n",
       "       'P2_6', 'NIV', 'GRA', 'P2_8', 'P2_9', 'P2_10', 'P2_11', 'P2_12',\n",
       "       'P2_13', 'P2_14', 'P2_15', 'P2_16', 'COD_M15', 'CODIGO', 'REN_MUJ_EL',\n",
       "       'REN_INF_AD', 'FAC_VIV', 'FAC_MUJ', 'DOMINIO', 'ESTRATO', 'EST_DIS',\n",
       "       'UPM_DIS'],\n",
       "      dtype='object')"
      ]
     },
     "execution_count": 19,
     "metadata": {},
     "output_type": "execute_result"
    }
   ],
   "source": [
    "seccionII.columns"
   ]
  },
  {
   "cell_type": "code",
   "execution_count": 20,
   "metadata": {},
   "outputs": [],
   "source": [
    "labels = ['NOM_ENT', 'NOM_MUN', 'NOMBRE', 'N_REN', 'REN_MUJ_EL', 'REN_INF_AD', 'CODIGO', 'COD_M15', 'P2_16',\n",
    "         \"VIV_SEL\", \"HOGAR\", \"UPM\", 'UPM_DIS', 'EST_DIS', 'ESTRATO', 'FAC_VIV', 'FAC_MUJ', 'CVE_MUN']\n",
    "\n",
    "seccionII = BorrarColumnas(df=seccionII, cols=labels)"
   ]
  },
  {
   "cell_type": "markdown",
   "metadata": {},
   "source": [
    "### Guardar dataset"
   ]
  },
  {
   "cell_type": "raw",
   "metadata": {},
   "source": [
    "GuardarDataset(df=seccionII, name='data/sec_ii.csv')"
   ]
  },
  {
   "cell_type": "markdown",
   "metadata": {},
   "source": [
    "## SECCIÓN III. ELEGIBILIDAD Y VERIFICACIÓN DE ESTADO CONYUGAL DE LA MUJER ELEGIDA DE 15 AÑOS O MÁS"
   ]
  },
  {
   "cell_type": "markdown",
   "metadata": {},
   "source": [
    "P3_{1,2,3,...,8} tiene informacion que se ve reflejada en la variable T_INSTRUM, por eso se deberían borrar todas.\n",
    "Ya que en la encuesta general se ve que con base en las preguntas se elige el futuro de T_INSTRUM.\n",
    "Por ello, no cargamos esta parte de la encuesta."
   ]
  },
  {
   "cell_type": "markdown",
   "metadata": {},
   "source": [
    "## SECCIÓN IV. INGRESOS Y RECURSOS"
   ]
  },
  {
   "cell_type": "code",
   "execution_count": 21,
   "metadata": {},
   "outputs": [
    {
     "data": {
      "text/plain": [
       "(110127, 75)"
      ]
     },
     "execution_count": 21,
     "metadata": {},
     "output_type": "execute_result"
    }
   ],
   "source": [
    "ruta_parcial = \"../../conjunto_de_datos_endireh_2021_csv/conjunto_de_datos_TB_SEC_IV/conjunto_de_datos/conjunto_de_datos_TB_SEC_IV.csv\"\n",
    "\n",
    "seccionIV = CargarPandasDataset(ruta_parcial)\n",
    "\n",
    "seccionIV.shape"
   ]
  },
  {
   "cell_type": "markdown",
   "metadata": {},
   "source": [
    "### Modificar columnas a OHE\n",
    "\n",
    "'P4_1', 'P4_8_i', i pertenece {1,...,7}, 'P4_11', 'P4_12_i', i pertenece {1,...,7}, 'P4C_1', 'P4BC_4', 'P4BC_5'"
   ]
  },
  {
   "cell_type": "markdown",
   "metadata": {},
   "source": [
    "Cambiar los valores $2$ a $0$."
   ]
  },
  {
   "cell_type": "code",
   "execution_count": 22,
   "metadata": {},
   "outputs": [],
   "source": [
    "columnasOHE = ['P4_1', 'P4_11']\n",
    "columnasOHE.extend([f'P4_12_{i}' for i in range(1,8)])\n",
    "columnasOHE.extend([f'P4_8_{i}' for i in range(1,8)])\n",
    "\n",
    "seccionIV = ModificarColumnasValor(df=seccionIV, cols=columnasOHE, valorR=2, valorN=0)"
   ]
  },
  {
   "cell_type": "markdown",
   "metadata": {},
   "source": [
    "### Limpiar los códigos (política de datos faltantes)\n",
    "- 'P4_2_1', 'P4B_2','P4_3', 'P4_5_1_AB', 'P4_6_AB' ## hacer 9 nan\n",
    "- 'P4AB_2', 'P4BC_1', ## hacer 99 nan\n",
    "- 'P4_7_AB' ## 999998 y 999999 hacer nan\n"
   ]
  },
  {
   "cell_type": "code",
   "execution_count": 23,
   "metadata": {},
   "outputs": [],
   "source": [
    "columnasNaN = ['P4_3', 'P4_5_1_AB', 'P4_6_AB']\n",
    "seccionIV = ModificarColumnasValor(df=seccionIV, cols=columnasNaN, valorR=9, valorN=np.nan)\n",
    "\n",
    "seccionIV = ModificarColumnasValor(df=seccionIV, cols=['P4_7_AB'], valorR=999998, valorN=np.nan)\n",
    "seccionIV = ModificarColumnasValor(df=seccionIV, cols=['P4_7_AB'], valorR=999999, valorN=np.nan)"
   ]
  },
  {
   "cell_type": "markdown",
   "metadata": {},
   "source": [
    "### Creación de nueva columna\n",
    "Para la simplificación de los datos, se contará con cuantas fuentes de ingresos tiene la entrevistada y propiedades hay en el hogar."
   ]
  },
  {
   "cell_type": "code",
   "execution_count": 24,
   "metadata": {},
   "outputs": [
    {
     "data": {
      "text/plain": [
       "0    76448\n",
       "1    28174\n",
       "2     5016\n",
       "3      442\n",
       "4       45\n",
       "5        2\n",
       "dtype: int64"
      ]
     },
     "execution_count": 24,
     "metadata": {},
     "output_type": "execute_result"
    }
   ],
   "source": [
    "seccionIV[[F'P4_8_{i}' for i in range(1,8)]].T.sum().value_counts() # fuentes de dinero\n",
    "# conteo: numero de fuentes de ingresos (FUENTES_DE_DINERO)"
   ]
  },
  {
   "cell_type": "code",
   "execution_count": 25,
   "metadata": {},
   "outputs": [
    {
     "data": {
      "text/plain": [
       "1    39815\n",
       "2    31278\n",
       "0    23524\n",
       "3    11205\n",
       "4     3175\n",
       "5      850\n",
       "6      228\n",
       "7       52\n",
       "dtype: int64"
      ]
     },
     "execution_count": 25,
     "metadata": {},
     "output_type": "execute_result"
    }
   ],
   "source": [
    "seccionIV[[F'P4_12_{i}' for i in range(1,8)]].T.sum().value_counts() # propiedades del hogar \n",
    "# conteo: numero de propiedades del hogar (PROPIEDADES_DEL_HOGAR)"
   ]
  },
  {
   "cell_type": "code",
   "execution_count": 26,
   "metadata": {},
   "outputs": [],
   "source": [
    "seccionIV['FUENTES_DE_DINERO'] = seccionIV[[f'P4_8_{i}' for i in range(1,8)]].T.sum()\n",
    "seccionIV['PROPIEDADES_DEL_HOGAR'] = seccionIV[[f'P4_12_{i}' for i in range(1,8)]].T.sum()"
   ]
  },
  {
   "cell_type": "markdown",
   "metadata": {},
   "source": [
    "### Borrar columnas"
   ]
  },
  {
   "cell_type": "markdown",
   "metadata": {},
   "source": [
    "1. P4A_1 se borra porque nos interesa P4A_2 quee es la rutina, no lo inmediato.\n",
    "2. P4_4 tiene más de 23000 nombres de trabajos, lo cuales no necesitamos saber\n",
    "3. P4_4_CVE tiene 470 claves de tipos de trabajo los cuales no encontré documentación oficial para discretizar, por lo tanto al tener tantas clasificaciones daría problemas al entrenar. \n",
    "4. 'P4_10_i_j', i pertenece {2,3} y j pertenece {1,2,3} Muchos nan que complican la creación en el modelo, para que lo demás salga bien se decide ignorar estos\n",
    "5. VIV_SEL y HOGAR no tiene sentido sin ID_VIV.\n",
    "6. UPM (unidad primaria de muestreo), UPM_DIS (UPM de diseño), EST_DIS (estrato de diseño), ESTRATO, se pueden omitir al ser dato de la tecnica de muestreo y no de la mujer.\n",
    "7. FAC_VIV es Ponderador que se utiliza para estimar resultados de las preguntas que se refieren a las viviendas y la población en general.\n",
    "8. FAC_MUJ es Ponderador que se utiliza para estimar resultados de las preguntas que se refieren a las mujeres de 15 años y más.\n",
    "9. CVE_MUN La clave de municipio depende del estado, habiendo un total de 32 municipios registrados como 1."
   ]
  },
  {
   "cell_type": "code",
   "execution_count": 27,
   "metadata": {},
   "outputs": [],
   "source": [
    "labels = ['NOM_ENT', 'NOM_MUN', 'N_REN', 'N_REN_ESP', 'P4A_1', 'P4_4', 'P4_4_CVE',\n",
    "         \"VIV_SEL\", \"HOGAR\", \"UPM\", 'UPM_DIS', 'EST_DIS', 'ESTRATO', 'FAC_VIV', 'FAC_MUJ', 'CVE_MUN']\n",
    "labels.extend([f'P4_8_{i}' for i in range(1,8)])\n",
    "labels.extend([f'P4_10_{i}_{j}' for i in [2,3] for j in [1,2,3]])\n",
    "labels.extend([f'P4_12_{i}' for i in range(1,8)])\n",
    "\n",
    "seccionIV = BorrarColumnas(df=seccionIV, cols=labels)"
   ]
  },
  {
   "cell_type": "markdown",
   "metadata": {},
   "source": [
    "### Guardar dataset"
   ]
  },
  {
   "cell_type": "raw",
   "metadata": {},
   "source": [
    "GuardarDataset(df=seccionIV, name='data/sec_iv.csv')"
   ]
  },
  {
   "cell_type": "markdown",
   "metadata": {},
   "source": [
    "## SECCIÓN X. ATENCIÓN OBSTÉTRICA"
   ]
  },
  {
   "cell_type": "markdown",
   "metadata": {},
   "source": [
    "### Cargar datos"
   ]
  },
  {
   "cell_type": "code",
   "execution_count": 28,
   "metadata": {},
   "outputs": [
    {
     "data": {
      "text/html": [
       "<div>\n",
       "<style scoped>\n",
       "    .dataframe tbody tr th:only-of-type {\n",
       "        vertical-align: middle;\n",
       "    }\n",
       "\n",
       "    .dataframe tbody tr th {\n",
       "        vertical-align: top;\n",
       "    }\n",
       "\n",
       "    .dataframe thead th {\n",
       "        text-align: right;\n",
       "    }\n",
       "</style>\n",
       "<table border=\"1\" class=\"dataframe\">\n",
       "  <thead>\n",
       "    <tr style=\"text-align: right;\">\n",
       "      <th></th>\n",
       "      <th>ID_VIV</th>\n",
       "      <th>ID_PER</th>\n",
       "      <th>UPM</th>\n",
       "      <th>VIV_SEL</th>\n",
       "      <th>HOGAR</th>\n",
       "      <th>N_REN</th>\n",
       "      <th>DOMINIO</th>\n",
       "      <th>CVE_ENT</th>\n",
       "      <th>NOM_ENT</th>\n",
       "      <th>CVE_MUN</th>\n",
       "      <th>...</th>\n",
       "      <th>P10_8_11</th>\n",
       "      <th>P10_8_12</th>\n",
       "      <th>P10_8_13</th>\n",
       "      <th>P10_8_14</th>\n",
       "      <th>P10_8_15</th>\n",
       "      <th>FAC_VIV</th>\n",
       "      <th>FAC_MUJ</th>\n",
       "      <th>ESTRATO</th>\n",
       "      <th>UPM_DIS</th>\n",
       "      <th>EST_DIS</th>\n",
       "    </tr>\n",
       "  </thead>\n",
       "  <tbody>\n",
       "    <tr>\n",
       "      <th>45752</th>\n",
       "      <td>1406752.02</td>\n",
       "      <td>1406752.02.1.02\\r</td>\n",
       "      <td>1406752</td>\n",
       "      <td>2</td>\n",
       "      <td>1</td>\n",
       "      <td>2</td>\n",
       "      <td>U\\r</td>\n",
       "      <td>14</td>\n",
       "      <td>JALISCO\\r</td>\n",
       "      <td>101</td>\n",
       "      <td>...</td>\n",
       "      <td>NaN</td>\n",
       "      <td>NaN</td>\n",
       "      <td>NaN</td>\n",
       "      <td>NaN</td>\n",
       "      <td>NaN</td>\n",
       "      <td>698</td>\n",
       "      <td>1396</td>\n",
       "      <td>4</td>\n",
       "      <td>7854</td>\n",
       "      <td>240</td>\n",
       "    </tr>\n",
       "    <tr>\n",
       "      <th>95557</th>\n",
       "      <td>2808226.05</td>\n",
       "      <td>2808226.05.1.01\\r</td>\n",
       "      <td>2808226</td>\n",
       "      <td>5</td>\n",
       "      <td>1</td>\n",
       "      <td>1</td>\n",
       "      <td>C\\r</td>\n",
       "      <td>28</td>\n",
       "      <td>TAMAULIPAS\\r</td>\n",
       "      <td>19</td>\n",
       "      <td>...</td>\n",
       "      <td>NaN</td>\n",
       "      <td>NaN</td>\n",
       "      <td>NaN</td>\n",
       "      <td>NaN</td>\n",
       "      <td>NaN</td>\n",
       "      <td>253</td>\n",
       "      <td>506</td>\n",
       "      <td>2</td>\n",
       "      <td>15769</td>\n",
       "      <td>527</td>\n",
       "    </tr>\n",
       "    <tr>\n",
       "      <th>13783</th>\n",
       "      <td>500804.04</td>\n",
       "      <td>0500804.04.1.02\\r</td>\n",
       "      <td>500804</td>\n",
       "      <td>4</td>\n",
       "      <td>1</td>\n",
       "      <td>2</td>\n",
       "      <td>U\\r</td>\n",
       "      <td>5</td>\n",
       "      <td>COAHUILA DE ZARAGOZA\\r</td>\n",
       "      <td>18</td>\n",
       "      <td>...</td>\n",
       "      <td>2.0</td>\n",
       "      <td>1.0</td>\n",
       "      <td>1.0</td>\n",
       "      <td>1.0</td>\n",
       "      <td>NaN</td>\n",
       "      <td>160</td>\n",
       "      <td>160</td>\n",
       "      <td>3</td>\n",
       "      <td>2484</td>\n",
       "      <td>79</td>\n",
       "    </tr>\n",
       "    <tr>\n",
       "      <th>6119</th>\n",
       "      <td>207590.20</td>\n",
       "      <td>0207590.20.1.04\\r</td>\n",
       "      <td>207590</td>\n",
       "      <td>20</td>\n",
       "      <td>1</td>\n",
       "      <td>4</td>\n",
       "      <td>C\\r</td>\n",
       "      <td>2</td>\n",
       "      <td>BAJA CALIFORNIA\\r</td>\n",
       "      <td>4</td>\n",
       "      <td>...</td>\n",
       "      <td>NaN</td>\n",
       "      <td>NaN</td>\n",
       "      <td>NaN</td>\n",
       "      <td>NaN</td>\n",
       "      <td>NaN</td>\n",
       "      <td>262</td>\n",
       "      <td>524</td>\n",
       "      <td>2</td>\n",
       "      <td>1338</td>\n",
       "      <td>30</td>\n",
       "    </tr>\n",
       "    <tr>\n",
       "      <th>6122</th>\n",
       "      <td>207596.03</td>\n",
       "      <td>0207596.03.1.01\\r</td>\n",
       "      <td>207596</td>\n",
       "      <td>3</td>\n",
       "      <td>1</td>\n",
       "      <td>1</td>\n",
       "      <td>C\\r</td>\n",
       "      <td>2</td>\n",
       "      <td>BAJA CALIFORNIA\\r</td>\n",
       "      <td>4</td>\n",
       "      <td>...</td>\n",
       "      <td>NaN</td>\n",
       "      <td>NaN</td>\n",
       "      <td>NaN</td>\n",
       "      <td>NaN</td>\n",
       "      <td>NaN</td>\n",
       "      <td>268</td>\n",
       "      <td>268</td>\n",
       "      <td>2</td>\n",
       "      <td>1339</td>\n",
       "      <td>30</td>\n",
       "    </tr>\n",
       "  </tbody>\n",
       "</table>\n",
       "<p>5 rows × 60 columns</p>\n",
       "</div>"
      ],
      "text/plain": [
       "           ID_VIV             ID_PER      UPM  VIV_SEL  HOGAR  N_REN DOMINIO  \\\n",
       "45752  1406752.02  1406752.02.1.02\\r  1406752        2      1      2     U\\r   \n",
       "95557  2808226.05  2808226.05.1.01\\r  2808226        5      1      1     C\\r   \n",
       "13783   500804.04  0500804.04.1.02\\r   500804        4      1      2     U\\r   \n",
       "6119    207590.20  0207590.20.1.04\\r   207590       20      1      4     C\\r   \n",
       "6122    207596.03  0207596.03.1.01\\r   207596        3      1      1     C\\r   \n",
       "\n",
       "       CVE_ENT                 NOM_ENT  CVE_MUN  ... P10_8_11 P10_8_12  \\\n",
       "45752       14               JALISCO\\r      101  ...      NaN      NaN   \n",
       "95557       28            TAMAULIPAS\\r       19  ...      NaN      NaN   \n",
       "13783        5  COAHUILA DE ZARAGOZA\\r       18  ...      2.0      1.0   \n",
       "6119         2       BAJA CALIFORNIA\\r        4  ...      NaN      NaN   \n",
       "6122         2       BAJA CALIFORNIA\\r        4  ...      NaN      NaN   \n",
       "\n",
       "       P10_8_13  P10_8_14  P10_8_15  FAC_VIV  FAC_MUJ  ESTRATO  UPM_DIS  \\\n",
       "45752       NaN       NaN       NaN      698     1396        4     7854   \n",
       "95557       NaN       NaN       NaN      253      506        2    15769   \n",
       "13783       1.0       1.0       NaN      160      160        3     2484   \n",
       "6119        NaN       NaN       NaN      262      524        2     1338   \n",
       "6122        NaN       NaN       NaN      268      268        2     1339   \n",
       "\n",
       "       EST_DIS  \n",
       "45752      240  \n",
       "95557      527  \n",
       "13783       79  \n",
       "6119        30  \n",
       "6122        30  \n",
       "\n",
       "[5 rows x 60 columns]"
      ]
     },
     "execution_count": 28,
     "metadata": {},
     "output_type": "execute_result"
    }
   ],
   "source": [
    "ruta_parcial = \"../../conjunto_de_datos_endireh_2021_csv/conjunto_de_datos_TB_SEC_X/conjunto_de_datos/conjunto_de_datos_TB_SEC_X.csv\"\n",
    "\n",
    "seccionX = CargarPandasDataset(ruta_parcial)\n",
    "\n",
    "seccionX.iloc[random.choices(range(seccionX.shape[0]), k=5)]"
   ]
  },
  {
   "cell_type": "markdown",
   "metadata": {},
   "source": [
    "### 2. Preservar los datos de las embarazadas\n"
   ]
  },
  {
   "cell_type": "markdown",
   "metadata": {},
   "source": [
    "Borrar los registros de todas aquellas que repondieron que no estuvieron embarazadas entre Octubre 2016 hasta finales 2021 o que no se tenga resgistro de su respuesta. La manera fácil es solo preservar los registros de las que respondieron que sí estuvieron embarazadas en ese periodo de tiempo."
   ]
  },
  {
   "cell_type": "code",
   "execution_count": 29,
   "metadata": {},
   "outputs": [],
   "source": [
    "seccionX = seccionX[(seccionX.P10_2 == 1)]"
   ]
  },
  {
   "cell_type": "markdown",
   "metadata": {},
   "source": [
    "En la pregunta 10.6. ¿En qué año fue su último parto? si el último parto fue antes del 2016, está embarazada por primera vez (0000), fue aborto (8888) o no especificado (9999) se pasa a la sección XI. Se preservan aquellas que tuvieron embarazo después del 2015 y antes del 2022 (sin incluirlos).\n",
    "\n",
    "En la pregunta 10.7. ¿Dónde atendieron su último parto? si Nadie la atendió porque dio a luz sola (9) se pasa a la sección XI. \n",
    "Por lo tanto se deben borrar los registros que no contestaron toda la sección."
   ]
  },
  {
   "cell_type": "code",
   "execution_count": 30,
   "metadata": {},
   "outputs": [],
   "source": [
    "seccionX.drop(seccionX[((seccionX[\"P10_6ANIO\"]<2016.0) | (seccionX[\"P10_6ANIO\"]>2021.0))].index, axis=0, inplace=True)\n",
    "#seccionX.drop(seccionX[seccionX[\"P10_7\"]==9].index, axis=0, inplace=True)"
   ]
  },
  {
   "cell_type": "markdown",
   "metadata": {},
   "source": [
    "Dejar los años en términos de años simples al restarles 2010 años."
   ]
  },
  {
   "cell_type": "code",
   "execution_count": 31,
   "metadata": {},
   "outputs": [],
   "source": [
    "seccionX[\"P10_6ANIO\"] = seccionX[\"P10_6ANIO\"]-2015"
   ]
  },
  {
   "cell_type": "markdown",
   "metadata": {},
   "source": [
    "#### 2.2 Conservar solo los registros de hospitales públicos\n",
    "\n",
    "Borrar aquellos datos mayores al valor 5 (Hospital o Clínica privada, Consultorio Médico particular, En casa con partera o curandera(o), Nadie la atendió, dio a luz sola, Otro)."
   ]
  },
  {
   "cell_type": "code",
   "execution_count": 32,
   "metadata": {},
   "outputs": [],
   "source": [
    "seccionX.drop(seccionX[(seccionX.P10_7 > 5)].index, inplace = True)"
   ]
  },
  {
   "cell_type": "markdown",
   "metadata": {},
   "source": [
    "### 3 Política de datos faltantes"
   ]
  },
  {
   "cell_type": "markdown",
   "metadata": {},
   "source": [
    "Hay 1 registro con el valor de aborto nulo. como se tiene la información de que tuvo 2 embarazos, 1 nació vivo y 0 muertos, se puede deducir que el valor en ese registro debe ser 1."
   ]
  },
  {
   "cell_type": "code",
   "execution_count": 33,
   "metadata": {},
   "outputs": [
    {
     "data": {
      "text/html": [
       "<div>\n",
       "<style scoped>\n",
       "    .dataframe tbody tr th:only-of-type {\n",
       "        vertical-align: middle;\n",
       "    }\n",
       "\n",
       "    .dataframe tbody tr th {\n",
       "        vertical-align: top;\n",
       "    }\n",
       "\n",
       "    .dataframe thead th {\n",
       "        text-align: right;\n",
       "    }\n",
       "</style>\n",
       "<table border=\"1\" class=\"dataframe\">\n",
       "  <thead>\n",
       "    <tr style=\"text-align: right;\">\n",
       "      <th></th>\n",
       "      <th>P10_3</th>\n",
       "      <th>P10_4_1</th>\n",
       "      <th>P10_4_2</th>\n",
       "      <th>P10_4_3</th>\n",
       "    </tr>\n",
       "  </thead>\n",
       "  <tbody>\n",
       "    <tr>\n",
       "      <th>40712</th>\n",
       "      <td>2.0</td>\n",
       "      <td>1.0</td>\n",
       "      <td>0.0</td>\n",
       "      <td>NaN</td>\n",
       "    </tr>\n",
       "  </tbody>\n",
       "</table>\n",
       "</div>"
      ],
      "text/plain": [
       "       P10_3  P10_4_1  P10_4_2  P10_4_3\n",
       "40712    2.0      1.0      0.0      NaN"
      ]
     },
     "execution_count": 33,
     "metadata": {},
     "output_type": "execute_result"
    }
   ],
   "source": [
    "seccionX[(seccionX.P10_4_1.isnull()) |(seccionX.P10_4_2.isnull()) | (seccionX.P10_4_3.isnull())][['P10_3', 'P10_4_1', 'P10_4_2', 'P10_4_3']]"
   ]
  },
  {
   "cell_type": "code",
   "execution_count": 34,
   "metadata": {},
   "outputs": [],
   "source": [
    "seccionX.loc[40712, 'P10_4_3'] = 1.0"
   ]
  },
  {
   "cell_type": "markdown",
   "metadata": {},
   "source": [
    "Los registros de cuántos embarazos tuvo no coinciden con la cantidad de bebés que nacieron vivos, muertos o fueron abortados, algunos solo registran la cantidad de vivos pero no los muertos ni los abortos. Existen 683 registros que no coinciden con los datos registrados de abrotos, nacieron vivos y nacieron muertos.\n",
    "\n",
    "Los datos negativos reflejan cuántos más fueron reportados como vivos y muertos y abortos y los positivos es que se reportaron más embarazos que los que se dio info al respecto. Podrían significar embarazos actuales que no han llegado a término y solo representan el 9.9% de los datoas así que se conservará."
   ]
  },
  {
   "cell_type": "code",
   "execution_count": 35,
   "metadata": {},
   "outputs": [
    {
     "data": {
      "text/plain": [
       " 0.0     12730\n",
       "-1.0       713\n",
       " 1.0       334\n",
       "-2.0       209\n",
       "-3.0        86\n",
       "-4.0        34\n",
       "-5.0         7\n",
       "-6.0         5\n",
       " 2.0         2\n",
       "-8.0         1\n",
       " 3.0         1\n",
       " 16.0        1\n",
       "-10.0        1\n",
       " 4.0         1\n",
       "-7.0         1\n",
       "dtype: int64"
      ]
     },
     "execution_count": 35,
     "metadata": {},
     "output_type": "execute_result"
    }
   ],
   "source": [
    "(seccionX.P10_3-(seccionX.P10_4_1+seccionX.P10_4_2+seccionX.P10_4_3)).value_counts()"
   ]
  },
  {
   "cell_type": "code",
   "execution_count": 36,
   "metadata": {},
   "outputs": [
    {
     "data": {
      "text/plain": [
       "1396"
      ]
     },
     "execution_count": 36,
     "metadata": {},
     "output_type": "execute_result"
    }
   ],
   "source": [
    "(seccionX.P10_3-(seccionX.P10_4_1+seccionX.P10_4_2+seccionX.P10_4_3)).value_counts()[-1:].sum()"
   ]
  },
  {
   "cell_type": "markdown",
   "metadata": {},
   "source": [
    "### 3. Agregar columnas"
   ]
  },
  {
   "cell_type": "markdown",
   "metadata": {},
   "source": [
    "#### 3.1 Afiliación de servicios medicos"
   ]
  },
  {
   "cell_type": "code",
   "execution_count": 37,
   "metadata": {},
   "outputs": [
    {
     "data": {
      "text/plain": [
       "1.0    13971\n",
       "2.0      151\n",
       "3.0        4\n",
       "dtype: int64"
      ]
     },
     "execution_count": 37,
     "metadata": {},
     "output_type": "execute_result"
    }
   ],
   "source": [
    "seccionX[[F'P10_1_{i}' for i in range(1,10)]].T.sum().value_counts() # afiliada servicios medicos"
   ]
  },
  {
   "cell_type": "code",
   "execution_count": 38,
   "metadata": {},
   "outputs": [
    {
     "data": {
      "text/html": [
       "<div>\n",
       "<style scoped>\n",
       "    .dataframe tbody tr th:only-of-type {\n",
       "        vertical-align: middle;\n",
       "    }\n",
       "\n",
       "    .dataframe tbody tr th {\n",
       "        vertical-align: top;\n",
       "    }\n",
       "\n",
       "    .dataframe thead th {\n",
       "        text-align: right;\n",
       "    }\n",
       "</style>\n",
       "<table border=\"1\" class=\"dataframe\">\n",
       "  <thead>\n",
       "    <tr style=\"text-align: right;\">\n",
       "      <th></th>\n",
       "      <th>IMSS</th>\n",
       "      <th>Prospera</th>\n",
       "      <th>ISSSTE</th>\n",
       "      <th>ISSSTE estatal</th>\n",
       "      <th>Pemex, Defensa o Marina</th>\n",
       "      <th>Seguro Popular</th>\n",
       "      <th>Seguro de Gastos Médicos Mayores</th>\n",
       "      <th>Otro servicio</th>\n",
       "      <th>Sin afiliación</th>\n",
       "    </tr>\n",
       "  </thead>\n",
       "  <tbody>\n",
       "    <tr>\n",
       "      <th>P10_1_1</th>\n",
       "      <td>4933</td>\n",
       "      <td>9</td>\n",
       "      <td>46</td>\n",
       "      <td>5</td>\n",
       "      <td>1</td>\n",
       "      <td>55</td>\n",
       "      <td>24</td>\n",
       "      <td>3</td>\n",
       "      <td>0</td>\n",
       "    </tr>\n",
       "    <tr>\n",
       "      <th>P10_1_2</th>\n",
       "      <td>-</td>\n",
       "      <td>282</td>\n",
       "      <td>1</td>\n",
       "      <td>0</td>\n",
       "      <td>0</td>\n",
       "      <td>5</td>\n",
       "      <td>1</td>\n",
       "      <td>0</td>\n",
       "      <td>0</td>\n",
       "    </tr>\n",
       "    <tr>\n",
       "      <th>P10_1_3</th>\n",
       "      <td>-</td>\n",
       "      <td>-</td>\n",
       "      <td>486</td>\n",
       "      <td>2</td>\n",
       "      <td>0</td>\n",
       "      <td>3</td>\n",
       "      <td>3</td>\n",
       "      <td>0</td>\n",
       "      <td>0</td>\n",
       "    </tr>\n",
       "    <tr>\n",
       "      <th>P10_1_4</th>\n",
       "      <td>-</td>\n",
       "      <td>-</td>\n",
       "      <td>-</td>\n",
       "      <td>90</td>\n",
       "      <td>0</td>\n",
       "      <td>0</td>\n",
       "      <td>0</td>\n",
       "      <td>0</td>\n",
       "      <td>0</td>\n",
       "    </tr>\n",
       "    <tr>\n",
       "      <th>P10_1_5</th>\n",
       "      <td>-</td>\n",
       "      <td>-</td>\n",
       "      <td>-</td>\n",
       "      <td>-</td>\n",
       "      <td>48</td>\n",
       "      <td>1</td>\n",
       "      <td>0</td>\n",
       "      <td>0</td>\n",
       "      <td>0</td>\n",
       "    </tr>\n",
       "    <tr>\n",
       "      <th>P10_1_6</th>\n",
       "      <td>-</td>\n",
       "      <td>-</td>\n",
       "      <td>-</td>\n",
       "      <td>-</td>\n",
       "      <td>-</td>\n",
       "      <td>3080</td>\n",
       "      <td>1</td>\n",
       "      <td>3</td>\n",
       "      <td>0</td>\n",
       "    </tr>\n",
       "    <tr>\n",
       "      <th>P10_1_7</th>\n",
       "      <td>-</td>\n",
       "      <td>-</td>\n",
       "      <td>-</td>\n",
       "      <td>-</td>\n",
       "      <td>-</td>\n",
       "      <td>-</td>\n",
       "      <td>40</td>\n",
       "      <td>0</td>\n",
       "      <td>0</td>\n",
       "    </tr>\n",
       "    <tr>\n",
       "      <th>P10_1_8</th>\n",
       "      <td>-</td>\n",
       "      <td>-</td>\n",
       "      <td>-</td>\n",
       "      <td>-</td>\n",
       "      <td>-</td>\n",
       "      <td>-</td>\n",
       "      <td>-</td>\n",
       "      <td>256</td>\n",
       "      <td>0</td>\n",
       "    </tr>\n",
       "    <tr>\n",
       "      <th>P10_1_9</th>\n",
       "      <td>-</td>\n",
       "      <td>-</td>\n",
       "      <td>-</td>\n",
       "      <td>-</td>\n",
       "      <td>-</td>\n",
       "      <td>-</td>\n",
       "      <td>-</td>\n",
       "      <td>-</td>\n",
       "      <td>5070</td>\n",
       "    </tr>\n",
       "  </tbody>\n",
       "</table>\n",
       "</div>"
      ],
      "text/plain": [
       "         IMSS Prospera ISSSTE ISSSTE estatal Pemex, Defensa o Marina  \\\n",
       "P10_1_1  4933        9     46              5                       1   \n",
       "P10_1_2     -      282      1              0                       0   \n",
       "P10_1_3     -        -    486              2                       0   \n",
       "P10_1_4     -        -      -             90                       0   \n",
       "P10_1_5     -        -      -              -                      48   \n",
       "P10_1_6     -        -      -              -                       -   \n",
       "P10_1_7     -        -      -              -                       -   \n",
       "P10_1_8     -        -      -              -                       -   \n",
       "P10_1_9     -        -      -              -                       -   \n",
       "\n",
       "        Seguro Popular Seguro de Gastos Médicos Mayores Otro servicio  \\\n",
       "P10_1_1             55                               24             3   \n",
       "P10_1_2              5                                1             0   \n",
       "P10_1_3              3                                3             0   \n",
       "P10_1_4              0                                0             0   \n",
       "P10_1_5              1                                0             0   \n",
       "P10_1_6           3080                                1             3   \n",
       "P10_1_7              -                               40             0   \n",
       "P10_1_8              -                                -           256   \n",
       "P10_1_9              -                                -             -   \n",
       "\n",
       "         Sin afiliación  \n",
       "P10_1_1               0  \n",
       "P10_1_2               0  \n",
       "P10_1_3               0  \n",
       "P10_1_4               0  \n",
       "P10_1_5               0  \n",
       "P10_1_6               0  \n",
       "P10_1_7               0  \n",
       "P10_1_8               0  \n",
       "P10_1_9            5070  "
      ]
     },
     "execution_count": 38,
     "metadata": {},
     "output_type": "execute_result"
    }
   ],
   "source": [
    "term = ['IMSS', 'Prospera', 'ISSSTE', 'ISSSTE estatal', 'Pemex, Defensa o Marina', \n",
    "        'Seguro Popular', 'Seguro de Gastos Médicos Mayores', 'Otro servicio', 'Sin afiliación']\n",
    "\n",
    "freq = {F'P10_1_{i}':['-']*(i-1) for i in range(1,10)}\n",
    "\n",
    "for i in range(1,10):\n",
    "    for j in range(i,10):\n",
    "        res=seccionX[(seccionX[f'P10_1_{i}']==1) & (seccionX[f'P10_1_{j}']==1)].shape[0]\n",
    "        freq[f'P10_1_{i}'].append(res)\n",
    "\n",
    "pd.DataFrame.from_dict(freq, orient='index', columns=term)"
   ]
  },
  {
   "cell_type": "markdown",
   "metadata": {},
   "source": [
    "Se guardaran como parejas aquellos que tengan 2 dígitos. Los códigos son:\n",
    "\n",
    "0. IMSS\n",
    "1. IMSS-Bienestar (antes Prospera)\n",
    "2. ISSSTE\n",
    "3. ISSSTE estatal\n",
    "4. Pemex, Defensa o Marina\n",
    "5. Instituto de Salud para el Bienestar (INSABI) (antes Seguro Popular)\n",
    "6. Seguro de Gastos Médicos Mayores\n",
    "7. Otro servicio de salud pública del estado\n",
    "8. Entonces, ¿no está afiliada ni tiene derecho a servicios médicos?\n",
    "9. ISSSTE (3) - IMSS (1) (con 46 registros). \n",
    "10. Seguro Popular (6) - IMSS (1) (con 55 registros). \n",
    "11. Seguro de gastos médicos mayores (7) - IMSS (1) (con 24 registros)."
   ]
  },
  {
   "cell_type": "code",
   "execution_count": 39,
   "metadata": {},
   "outputs": [],
   "source": [
    "seccionX['SERVICIOS_MEDICOS_AFILIADA'] = np.nan\n",
    "\n",
    "for i in range(1,10):\n",
    "    seccionX['SERVICIOS_MEDICOS_AFILIADA'].loc[seccionX[seccionX[f'P10_1_{i}']==1].index] = i-1\n",
    "\n",
    "seccionX['SERVICIOS_MEDICOS_AFILIADA'].loc[seccionX[(seccionX['P10_1_1']==1) & (seccionX['P10_1_3']==1)].index] = 9\n",
    "seccionX['SERVICIOS_MEDICOS_AFILIADA'].loc[seccionX[(seccionX['P10_1_1']==1) & (seccionX['P10_1_6']==1)].index] = 10\n",
    "seccionX['SERVICIOS_MEDICOS_AFILIADA'].loc[seccionX[(seccionX['P10_1_1']==1) & (seccionX['P10_1_7']==1)].index] = 11"
   ]
  },
  {
   "cell_type": "markdown",
   "metadata": {},
   "source": [
    "#### 3.2 Donde atendió consultas prenatales"
   ]
  },
  {
   "cell_type": "code",
   "execution_count": 40,
   "metadata": {},
   "outputs": [
    {
     "data": {
      "text/plain": [
       "1.0    13448\n",
       "2.0      664\n",
       "3.0       14\n",
       "dtype: int64"
      ]
     },
     "execution_count": 40,
     "metadata": {},
     "output_type": "execute_result"
    }
   ],
   "source": [
    "seccionX[['P10_5_01', 'P10_5_02', 'P10_5_03', 'P10_5_04', \n",
    "        'P10_5_05', 'P10_5_06', 'P10_5_07', 'P10_5_08', 'P10_5_09', 'P10_5_10', 'P10_5_11']].T.sum().value_counts() # donde consultas prenatales"
   ]
  },
  {
   "cell_type": "code",
   "execution_count": 41,
   "metadata": {},
   "outputs": [
    {
     "data": {
      "text/html": [
       "<div>\n",
       "<style scoped>\n",
       "    .dataframe tbody tr th:only-of-type {\n",
       "        vertical-align: middle;\n",
       "    }\n",
       "\n",
       "    .dataframe tbody tr th {\n",
       "        vertical-align: top;\n",
       "    }\n",
       "\n",
       "    .dataframe thead th {\n",
       "        text-align: right;\n",
       "    }\n",
       "</style>\n",
       "<table border=\"1\" class=\"dataframe\">\n",
       "  <thead>\n",
       "    <tr style=\"text-align: right;\">\n",
       "      <th></th>\n",
       "      <th>Centro de salud</th>\n",
       "      <th>Clínica del IMSS</th>\n",
       "      <th>Clínica del ISSSTE</th>\n",
       "      <th>Clínica del ISSSTE del estado</th>\n",
       "      <th>Hospital o clínica pública</th>\n",
       "      <th>Clínica o dispensario médico</th>\n",
       "      <th>Hospital, clínica o médico particular</th>\n",
       "      <th>Partera o curandera</th>\n",
       "      <th>Consultorio de farmacia</th>\n",
       "      <th>Otro</th>\n",
       "      <th>Nadie la atendió</th>\n",
       "    </tr>\n",
       "  </thead>\n",
       "  <tbody>\n",
       "    <tr>\n",
       "      <th>Centro de salud</th>\n",
       "      <td>4945</td>\n",
       "      <td>66</td>\n",
       "      <td>4</td>\n",
       "      <td>0</td>\n",
       "      <td>118</td>\n",
       "      <td>3</td>\n",
       "      <td>72</td>\n",
       "      <td>2</td>\n",
       "      <td>3</td>\n",
       "      <td>3</td>\n",
       "      <td>0</td>\n",
       "    </tr>\n",
       "    <tr>\n",
       "      <th>Clínica del IMSS</th>\n",
       "      <td>-</td>\n",
       "      <td>4793</td>\n",
       "      <td>8</td>\n",
       "      <td>0</td>\n",
       "      <td>45</td>\n",
       "      <td>2</td>\n",
       "      <td>241</td>\n",
       "      <td>2</td>\n",
       "      <td>6</td>\n",
       "      <td>3</td>\n",
       "      <td>0</td>\n",
       "    </tr>\n",
       "    <tr>\n",
       "      <th>Clínica del ISSSTE</th>\n",
       "      <td>-</td>\n",
       "      <td>-</td>\n",
       "      <td>344</td>\n",
       "      <td>1</td>\n",
       "      <td>2</td>\n",
       "      <td>0</td>\n",
       "      <td>38</td>\n",
       "      <td>0</td>\n",
       "      <td>1</td>\n",
       "      <td>0</td>\n",
       "      <td>0</td>\n",
       "    </tr>\n",
       "    <tr>\n",
       "      <th>Clínica del ISSSTE del estado</th>\n",
       "      <td>-</td>\n",
       "      <td>-</td>\n",
       "      <td>-</td>\n",
       "      <td>87</td>\n",
       "      <td>0</td>\n",
       "      <td>0</td>\n",
       "      <td>4</td>\n",
       "      <td>0</td>\n",
       "      <td>0</td>\n",
       "      <td>0</td>\n",
       "      <td>0</td>\n",
       "    </tr>\n",
       "    <tr>\n",
       "      <th>Hospital o clínica pública</th>\n",
       "      <td>-</td>\n",
       "      <td>-</td>\n",
       "      <td>-</td>\n",
       "      <td>-</td>\n",
       "      <td>2826</td>\n",
       "      <td>8</td>\n",
       "      <td>52</td>\n",
       "      <td>2</td>\n",
       "      <td>2</td>\n",
       "      <td>6</td>\n",
       "      <td>0</td>\n",
       "    </tr>\n",
       "    <tr>\n",
       "      <th>Clínica o dispensario médico</th>\n",
       "      <td>-</td>\n",
       "      <td>-</td>\n",
       "      <td>-</td>\n",
       "      <td>-</td>\n",
       "      <td>-</td>\n",
       "      <td>208</td>\n",
       "      <td>5</td>\n",
       "      <td>1</td>\n",
       "      <td>2</td>\n",
       "      <td>1</td>\n",
       "      <td>0</td>\n",
       "    </tr>\n",
       "    <tr>\n",
       "      <th>Hospital, clínica o médico particular</th>\n",
       "      <td>-</td>\n",
       "      <td>-</td>\n",
       "      <td>-</td>\n",
       "      <td>-</td>\n",
       "      <td>-</td>\n",
       "      <td>-</td>\n",
       "      <td>1363</td>\n",
       "      <td>0</td>\n",
       "      <td>2</td>\n",
       "      <td>1</td>\n",
       "      <td>0</td>\n",
       "    </tr>\n",
       "    <tr>\n",
       "      <th>Partera o curandera</th>\n",
       "      <td>-</td>\n",
       "      <td>-</td>\n",
       "      <td>-</td>\n",
       "      <td>-</td>\n",
       "      <td>-</td>\n",
       "      <td>-</td>\n",
       "      <td>-</td>\n",
       "      <td>22</td>\n",
       "      <td>0</td>\n",
       "      <td>0</td>\n",
       "      <td>0</td>\n",
       "    </tr>\n",
       "    <tr>\n",
       "      <th>Consultorio de farmacia</th>\n",
       "      <td>-</td>\n",
       "      <td>-</td>\n",
       "      <td>-</td>\n",
       "      <td>-</td>\n",
       "      <td>-</td>\n",
       "      <td>-</td>\n",
       "      <td>-</td>\n",
       "      <td>-</td>\n",
       "      <td>57</td>\n",
       "      <td>0</td>\n",
       "      <td>0</td>\n",
       "    </tr>\n",
       "    <tr>\n",
       "      <th>Otro</th>\n",
       "      <td>-</td>\n",
       "      <td>-</td>\n",
       "      <td>-</td>\n",
       "      <td>-</td>\n",
       "      <td>-</td>\n",
       "      <td>-</td>\n",
       "      <td>-</td>\n",
       "      <td>-</td>\n",
       "      <td>-</td>\n",
       "      <td>97</td>\n",
       "      <td>0</td>\n",
       "    </tr>\n",
       "    <tr>\n",
       "      <th>Nadie la atendió</th>\n",
       "      <td>-</td>\n",
       "      <td>-</td>\n",
       "      <td>-</td>\n",
       "      <td>-</td>\n",
       "      <td>-</td>\n",
       "      <td>-</td>\n",
       "      <td>-</td>\n",
       "      <td>-</td>\n",
       "      <td>-</td>\n",
       "      <td>-</td>\n",
       "      <td>76</td>\n",
       "    </tr>\n",
       "  </tbody>\n",
       "</table>\n",
       "</div>"
      ],
      "text/plain": [
       "                                      Centro de salud Clínica del IMSS  \\\n",
       "Centro de salud                                  4945               66   \n",
       "Clínica del IMSS                                    -             4793   \n",
       "Clínica del ISSSTE                                  -                -   \n",
       "Clínica del ISSSTE del estado                       -                -   \n",
       "Hospital o clínica pública                          -                -   \n",
       "Clínica o dispensario médico                        -                -   \n",
       "Hospital, clínica o médico particular               -                -   \n",
       "Partera o curandera                                 -                -   \n",
       "Consultorio de farmacia                             -                -   \n",
       "Otro                                                -                -   \n",
       "Nadie la atendió                                    -                -   \n",
       "\n",
       "                                      Clínica del ISSSTE  \\\n",
       "Centro de salud                                        4   \n",
       "Clínica del IMSS                                       8   \n",
       "Clínica del ISSSTE                                   344   \n",
       "Clínica del ISSSTE del estado                          -   \n",
       "Hospital o clínica pública                             -   \n",
       "Clínica o dispensario médico                           -   \n",
       "Hospital, clínica o médico particular                  -   \n",
       "Partera o curandera                                    -   \n",
       "Consultorio de farmacia                                -   \n",
       "Otro                                                   -   \n",
       "Nadie la atendió                                       -   \n",
       "\n",
       "                                      Clínica del ISSSTE del estado  \\\n",
       "Centro de salud                                                   0   \n",
       "Clínica del IMSS                                                  0   \n",
       "Clínica del ISSSTE                                                1   \n",
       "Clínica del ISSSTE del estado                                    87   \n",
       "Hospital o clínica pública                                        -   \n",
       "Clínica o dispensario médico                                      -   \n",
       "Hospital, clínica o médico particular                             -   \n",
       "Partera o curandera                                               -   \n",
       "Consultorio de farmacia                                           -   \n",
       "Otro                                                              -   \n",
       "Nadie la atendió                                                  -   \n",
       "\n",
       "                                      Hospital o clínica pública  \\\n",
       "Centro de salud                                              118   \n",
       "Clínica del IMSS                                              45   \n",
       "Clínica del ISSSTE                                             2   \n",
       "Clínica del ISSSTE del estado                                  0   \n",
       "Hospital o clínica pública                                  2826   \n",
       "Clínica o dispensario médico                                   -   \n",
       "Hospital, clínica o médico particular                          -   \n",
       "Partera o curandera                                            -   \n",
       "Consultorio de farmacia                                        -   \n",
       "Otro                                                           -   \n",
       "Nadie la atendió                                               -   \n",
       "\n",
       "                                      Clínica o dispensario médico  \\\n",
       "Centro de salud                                                  3   \n",
       "Clínica del IMSS                                                 2   \n",
       "Clínica del ISSSTE                                               0   \n",
       "Clínica del ISSSTE del estado                                    0   \n",
       "Hospital o clínica pública                                       8   \n",
       "Clínica o dispensario médico                                   208   \n",
       "Hospital, clínica o médico particular                            -   \n",
       "Partera o curandera                                              -   \n",
       "Consultorio de farmacia                                          -   \n",
       "Otro                                                             -   \n",
       "Nadie la atendió                                                 -   \n",
       "\n",
       "                                      Hospital, clínica o médico particular  \\\n",
       "Centro de salud                                                          72   \n",
       "Clínica del IMSS                                                        241   \n",
       "Clínica del ISSSTE                                                       38   \n",
       "Clínica del ISSSTE del estado                                             4   \n",
       "Hospital o clínica pública                                               52   \n",
       "Clínica o dispensario médico                                              5   \n",
       "Hospital, clínica o médico particular                                  1363   \n",
       "Partera o curandera                                                       -   \n",
       "Consultorio de farmacia                                                   -   \n",
       "Otro                                                                      -   \n",
       "Nadie la atendió                                                          -   \n",
       "\n",
       "                                      Partera o curandera  \\\n",
       "Centro de salud                                         2   \n",
       "Clínica del IMSS                                        2   \n",
       "Clínica del ISSSTE                                      0   \n",
       "Clínica del ISSSTE del estado                           0   \n",
       "Hospital o clínica pública                              2   \n",
       "Clínica o dispensario médico                            1   \n",
       "Hospital, clínica o médico particular                   0   \n",
       "Partera o curandera                                    22   \n",
       "Consultorio de farmacia                                 -   \n",
       "Otro                                                    -   \n",
       "Nadie la atendió                                        -   \n",
       "\n",
       "                                      Consultorio de farmacia Otro  \\\n",
       "Centro de salud                                             3    3   \n",
       "Clínica del IMSS                                            6    3   \n",
       "Clínica del ISSSTE                                          1    0   \n",
       "Clínica del ISSSTE del estado                               0    0   \n",
       "Hospital o clínica pública                                  2    6   \n",
       "Clínica o dispensario médico                                2    1   \n",
       "Hospital, clínica o médico particular                       2    1   \n",
       "Partera o curandera                                         0    0   \n",
       "Consultorio de farmacia                                    57    0   \n",
       "Otro                                                        -   97   \n",
       "Nadie la atendió                                            -    -   \n",
       "\n",
       "                                       Nadie la atendió  \n",
       "Centro de salud                                       0  \n",
       "Clínica del IMSS                                      0  \n",
       "Clínica del ISSSTE                                    0  \n",
       "Clínica del ISSSTE del estado                         0  \n",
       "Hospital o clínica pública                            0  \n",
       "Clínica o dispensario médico                          0  \n",
       "Hospital, clínica o médico particular                 0  \n",
       "Partera o curandera                                   0  \n",
       "Consultorio de farmacia                               0  \n",
       "Otro                                                  0  \n",
       "Nadie la atendió                                     76  "
      ]
     },
     "execution_count": 41,
     "metadata": {},
     "output_type": "execute_result"
    }
   ],
   "source": [
    "term = ['Centro de salud', 'Clínica del IMSS', 'Clínica del ISSSTE', 'Clínica del ISSSTE del estado','Hospital o clínica pública',\n",
    "        'Clínica o dispensario médico', 'Hospital, clínica o médico particular', 'Partera o curandera', \n",
    "        'Consultorio de farmacia', 'Otro', 'Nadie la atendió']\n",
    "cols = ['P10_5_01', 'P10_5_02', 'P10_5_03', 'P10_5_04', \n",
    "        'P10_5_05', 'P10_5_06', 'P10_5_07', 'P10_5_08', 'P10_5_09', 'P10_5_10', 'P10_5_11']\n",
    "\n",
    "freq = {term[i]:['-']*(i) for i in range(11)}\n",
    "\n",
    "for i in range(11):\n",
    "    for j in range(i,11):\n",
    "        res=seccionX[(seccionX[cols[i]]==1) & (seccionX[cols[j]]==1)].shape[0]\n",
    "        freq[term[i]].append(res)\n",
    "\n",
    "pd.DataFrame.from_dict(freq, orient='index', columns=term)"
   ]
  },
  {
   "cell_type": "markdown",
   "metadata": {},
   "source": [
    "Se guardaran como parejas aquellos que tengan 3 dígitos. Los códigos son:\n",
    "\n",
    "0. Centro de salud.\n",
    "1. Clínica del IMSS\n",
    "2. Clínica del ISSSTE.\n",
    "3. Clínica del ISSSTE del estado.\n",
    "4. Hospital o clínica pública.\n",
    "5. Clínica o dispensario médico.\n",
    "6. Hospital, clínica o médico particular.\n",
    "7. Partera o curandera.\n",
    "8. Consultorio de farmacia (del Ahorro, Similares, etcétera).\n",
    "9. Otro.\n",
    "10. Nadie la atendió.\n",
    "11. Centro de salud (1) - Hospital o clínica pública (5) (con 118 registros).\n",
    "12. Clínica del IMSS (2) - Hospital, clínica o médico particular (6) (con 241 registros)."
   ]
  },
  {
   "cell_type": "code",
   "execution_count": 42,
   "metadata": {},
   "outputs": [],
   "source": [
    "seccionX['DONDE_CONSULTAS_PRENATALES'] = np.nan\n",
    "\n",
    "for i in range(11):\n",
    "    seccionX['DONDE_CONSULTAS_PRENATALES'].loc[seccionX[seccionX[cols[i]]==1].index] = i\n",
    "\n",
    "seccionX['DONDE_CONSULTAS_PRENATALES'].loc[seccionX[(seccionX['P10_5_01']==1) & (seccionX['P10_5_05']==1)].index] = 11\n",
    "seccionX['DONDE_CONSULTAS_PRENATALES'].loc[seccionX[(seccionX['P10_5_02']==1) & (seccionX['P10_5_06']==1)].index] = 12"
   ]
  },
  {
   "cell_type": "markdown",
   "metadata": {},
   "source": [
    "### 3.2 Crear clasificación\n",
    "\n",
    "A partir de las respuestas de la pregunta 8, crear columna que va a servir de clasificación para los niveles de violencia obstétrica."
   ]
  },
  {
   "cell_type": "code",
   "execution_count": 43,
   "metadata": {},
   "outputs": [],
   "source": [
    "seccionX_cls = InsertarColumnaNueva(df=seccionX, nombreCol='P10_8', \n",
    "                                    numeroCol=41, funcion=clasificacion)"
   ]
  },
  {
   "cell_type": "code",
   "execution_count": 44,
   "metadata": {},
   "outputs": [],
   "source": [
    "seccionX_cls = InsertarColumnaNueva(df=seccionX_cls, nombreCol='P10_8_abuso', \n",
    "                                    numeroCol=41, funcion=clasificacionAbuso)\n",
    "seccionX_cls = InsertarColumnaNueva(df=seccionX_cls, nombreCol='P10_8_atencion', \n",
    "                                    numeroCol=42, funcion=clasificacionAtencion)"
   ]
  },
  {
   "cell_type": "markdown",
   "metadata": {},
   "source": [
    "#### 3.2.1 Distribución de clases"
   ]
  },
  {
   "cell_type": "code",
   "execution_count": 45,
   "metadata": {},
   "outputs": [
    {
     "name": "stdout",
     "output_type": "stream",
     "text": [
      "Ninguno:\t64.2%\n",
      "Abuso y violencia:\t15.7%\n",
      "Atencion no autorizada:\t10.6%\n",
      "Ambos:\t9.5%\n"
     ]
    },
    {
     "data": {
      "image/png": "[encoded data removed]",
      "text/plain": [
       "<Figure size 1440x360 with 2 Axes>"
      ]
     },
     "metadata": {
      "needs_background": "light"
     },
     "output_type": "display_data"
    }
   ],
   "source": [
    "# obtengo las categorias y su cantidad de concurrencias\n",
    "ocurrencias = seccionX_cls[\"P10_8\"].value_counts()\n",
    "# sumo el porcentaje con 1 decimal de 'Ambos' para ' Abuso y violencia' y 'Atencion no autorizada'\n",
    "oc_ambos = np.around(np.array([ocurrencias[0], ocurrencias[1]+ocurrencias[3], ocurrencias[2]+ocurrencias[3]])/ocurrencias.sum()*1000)/10\n",
    "# obtengo los porcentajes con 1 decimal de los tipos 'Ninguno', ' Abuso y violencia' y 'Atencion no autorizada'\n",
    "ocurrencias = np.around(ocurrencias/ocurrencias.sum()*1000)/10\n",
    "groups = ['Ninguno',  'Abuso y violencia', 'Atencion no autorizada', 'Ambos']\n",
    "\n",
    "# imprimo los porcentajes\n",
    "for i,j in zip(groups, ocurrencias):\n",
    "    print(f'{i}:\\t{j}%')\n",
    "\n",
    "fig, axes = plt.subplots(1, 2, figsize=(20, 5))\n",
    "\n",
    "# Grafico los tipos 'Ninguno', ' Abuso y violencia' y 'Atencion no autorizada' y 'Ambos' \n",
    "ax = sns.barplot(x=groups, y=ocurrencias, palette = 'Accent', ax=axes[0])\n",
    "for x, y in enumerate(ocurrencias):\n",
    "    ax.text(x, y+3, f'{y}%', ha='center')\n",
    "\n",
    "# Grafico los tipos 'Ninguno', ' Abuso y violencia' y 'Atencion no autorizada'. Aparte, 'Ambos' encima de los dos últimos para representar el valor total de estos tipos\n",
    "groups = ['Ninguno',  'Abuso y violencia', 'Atencion no autorizada']\n",
    "ax = sns.barplot(x=groups, y=oc_ambos, color = '#fff6a3', label='porcentaje de personas que sufrieron ambos tipos de violencia', ax=axes[1])\n",
    "sns.barplot(x=groups, y=ocurrencias[:-1], palette = 'Accent', ax=axes[1])\n",
    "for x, y in enumerate(oc_ambos):\n",
    "    ax.text(x, y+3, f'{y}%', ha='center')\n",
    "\n",
    "for ax in axes:\n",
    "    ax.set_xlabel('Tipos de violencia', fontsize=14)\n",
    "    ax.set_ylabel('Porcentajes', fontsize=14)\n",
    "    ax.set_ylim([0, 100])\n",
    "\n",
    "axes[0].set_title('Las 4 categorías de violencia', fontsize=15)\n",
    "axes[1].set_title('Las 3 categorías de violencia agregando la cantidad de ambos', fontsize=15)\n",
    "plt.legend()\n",
    "plt.show()"
   ]
  },
  {
   "cell_type": "code",
   "execution_count": 46,
   "metadata": {},
   "outputs": [
    {
     "data": {
      "image/png": "[encoded data removed]",
      "text/plain": [
       "<Figure size 720x720 with 1 Axes>"
      ]
     },
     "metadata": {},
     "output_type": "display_data"
    }
   ],
   "source": [
    "ocurrencias = seccionX_cls[\"P10_8\"].value_counts()\n",
    "ocurrencias = np.around(ocurrencias/ocurrencias.sum()*1000)/10\n",
    "fig = plt.figure(figsize=(10, 10), facecolor='#ebeae8')\n",
    "v = vplt.venn2(subsets={'10':ocurrencias[1], '01':ocurrencias[2], '11':ocurrencias[3]}, set_labels=['Abuso y violencia', 'Atencion no autorizada'], set_colors=('#e89ff5', '#9ff5f1'), alpha = 0.7)\n",
    "plt.text(0.5, 0.4, f\"Ninguno\\n\\n   {ocurrencias[0]}\", fontdict={'size':12})\n",
    "plt.show()"
   ]
  },
  {
   "cell_type": "markdown",
   "metadata": {},
   "source": [
    "### Borrar columnas"
   ]
  },
  {
   "cell_type": "markdown",
   "metadata": {},
   "source": [
    "1. P10_2 porque tienen un único valor al todos los registros haber tenido un embarazo.\n",
    "2. P10_8_{1,2,3,...,10,12} porque son los datos usados para crear la categoría de violencia.\n",
    "3. P10_1_{1,2,3,...,9} y P10_5_{1,2,3,...,11} que se usaron para crear las columnas P9_1 y P9_5.\n",
    "4. P10_8 se creó para la visualización de los datos.\n",
    "5. VIV_SEL y HOGAR no tiene sentido sin ID_VIV.\n",
    "6. UPM (unidad primaria de muestreo), UPM_DIS (UPM de diseño), EST_DIS (estrato de diseño), ESTRATO, se pueden omitir al ser dato de la tecnica de muestreo y no de la mujer.\n",
    "7. FAC_VIV es Ponderador que se utiliza para estimar resultados de las preguntas que se refieren a las viviendas y la población en general.\n",
    "8. FAC_MUJ es Ponderador que se utiliza para estimar resultados de las preguntas que se refieren a las mujeres de 15 años y más.\n",
    "9. CVE_MUN La clave de municipio depende del estado, habiendo un total de 32 municipios registrados como 1."
   ]
  },
  {
   "cell_type": "code",
   "execution_count": 47,
   "metadata": {},
   "outputs": [],
   "source": [
    "labels = ['NOM_ENT', 'NOM_MUN', 'N_REN', 'P10_2', 'P10_8',\n",
    "         \"VIV_SEL\", \"HOGAR\", \"UPM\", 'UPM_DIS', 'EST_DIS', 'FAC_VIV', 'FAC_MUJ', 'CVE_MUN', 'ESTRATO']\n",
    "labels.extend([f'P10_1_{i}' for i in range(1,10)])\n",
    "labels.extend([f'P10_5_0{i}' for i in range(1,10)])\n",
    "labels.extend([f'P10_5_{i}' for i in range(10,12)])\n",
    "labels.extend([f'P10_8_{i}' for i in range(1,16)])\n",
    "\n",
    "seccionX_cls = BorrarColumnas(df=seccionX_cls, cols=labels)"
   ]
  },
  {
   "cell_type": "markdown",
   "metadata": {},
   "source": [
    "### Guardar dataset"
   ]
  },
  {
   "cell_type": "code",
   "execution_count": 48,
   "metadata": {},
   "outputs": [
    {
     "data": {
      "text/plain": [
       "(14126, 16)"
      ]
     },
     "execution_count": 48,
     "metadata": {},
     "output_type": "execute_result"
    }
   ],
   "source": [
    "seccionX_cls.shape"
   ]
  },
  {
   "cell_type": "raw",
   "metadata": {},
   "source": [
    "GuardarDataset(df=seccionX_cls, name='data/sec_ix.csv')"
   ]
  },
  {
   "cell_type": "markdown",
   "metadata": {},
   "source": [
    "# Overall"
   ]
  },
  {
   "cell_type": "markdown",
   "metadata": {},
   "source": [
    "## Unir datasets"
   ]
  },
  {
   "cell_type": "code",
   "execution_count": 49,
   "metadata": {},
   "outputs": [],
   "source": [
    "result = pd.merge(seccionI, seccionII, how=\"inner\")\n",
    "result = pd.merge(result, seccionIV, how=\"inner\")\n",
    "result = pd.merge(result, seccionX_cls, how=\"inner\")"
   ]
  },
  {
   "cell_type": "code",
   "execution_count": 50,
   "metadata": {},
   "outputs": [],
   "source": [
    "result.reset_index(drop=True, inplace=True) #reajustar el índice"
   ]
  },
  {
   "cell_type": "code",
   "execution_count": 51,
   "metadata": {},
   "outputs": [
    {
     "data": {
      "text/html": [
       "<div>\n",
       "<style scoped>\n",
       "    .dataframe tbody tr th:only-of-type {\n",
       "        vertical-align: middle;\n",
       "    }\n",
       "\n",
       "    .dataframe tbody tr th {\n",
       "        vertical-align: top;\n",
       "    }\n",
       "\n",
       "    .dataframe thead th {\n",
       "        text-align: right;\n",
       "    }\n",
       "</style>\n",
       "<table border=\"1\" class=\"dataframe\">\n",
       "  <thead>\n",
       "    <tr style=\"text-align: right;\">\n",
       "      <th></th>\n",
       "      <th>ID_VIV</th>\n",
       "      <th>P1_1</th>\n",
       "      <th>P1_2</th>\n",
       "      <th>P1_2_A</th>\n",
       "      <th>P1_3</th>\n",
       "      <th>P1_5</th>\n",
       "      <th>P1_6</th>\n",
       "      <th>P1_7</th>\n",
       "      <th>P1_9</th>\n",
       "      <th>P1_10_1</th>\n",
       "      <th>...</th>\n",
       "      <th>P10_4_1</th>\n",
       "      <th>P10_4_2</th>\n",
       "      <th>P10_4_3</th>\n",
       "      <th>P10_6ANIO</th>\n",
       "      <th>P10_6MES</th>\n",
       "      <th>P10_7</th>\n",
       "      <th>P10_8_abuso</th>\n",
       "      <th>P10_8_atencion</th>\n",
       "      <th>SERVICIOS_MEDICOS_AFILIADA</th>\n",
       "      <th>DONDE_CONSULTAS_PRENATALES</th>\n",
       "    </tr>\n",
       "  </thead>\n",
       "  <tbody>\n",
       "    <tr>\n",
       "      <th>0</th>\n",
       "      <td>100045.04</td>\n",
       "      <td>1</td>\n",
       "      <td>3</td>\n",
       "      <td>3</td>\n",
       "      <td>4</td>\n",
       "      <td>1</td>\n",
       "      <td>1</td>\n",
       "      <td>10</td>\n",
       "      <td>1.0</td>\n",
       "      <td>NaN</td>\n",
       "      <td>...</td>\n",
       "      <td>1.0</td>\n",
       "      <td>0.0</td>\n",
       "      <td>0.0</td>\n",
       "      <td>4.0</td>\n",
       "      <td>9.0</td>\n",
       "      <td>5.0</td>\n",
       "      <td>0</td>\n",
       "      <td>0</td>\n",
       "      <td>5.0</td>\n",
       "      <td>0.0</td>\n",
       "    </tr>\n",
       "    <tr>\n",
       "      <th>1</th>\n",
       "      <td>100054.02</td>\n",
       "      <td>3</td>\n",
       "      <td>1</td>\n",
       "      <td>10</td>\n",
       "      <td>1</td>\n",
       "      <td>1</td>\n",
       "      <td>1</td>\n",
       "      <td>2</td>\n",
       "      <td>1.0</td>\n",
       "      <td>NaN</td>\n",
       "      <td>...</td>\n",
       "      <td>1.0</td>\n",
       "      <td>1.0</td>\n",
       "      <td>0.0</td>\n",
       "      <td>3.0</td>\n",
       "      <td>7.0</td>\n",
       "      <td>1.0</td>\n",
       "      <td>1</td>\n",
       "      <td>0</td>\n",
       "      <td>5.0</td>\n",
       "      <td>0.0</td>\n",
       "    </tr>\n",
       "    <tr>\n",
       "      <th>2</th>\n",
       "      <td>100071.02</td>\n",
       "      <td>3</td>\n",
       "      <td>1</td>\n",
       "      <td>3</td>\n",
       "      <td>5</td>\n",
       "      <td>1</td>\n",
       "      <td>1</td>\n",
       "      <td>3</td>\n",
       "      <td>1.0</td>\n",
       "      <td>NaN</td>\n",
       "      <td>...</td>\n",
       "      <td>1.0</td>\n",
       "      <td>0.0</td>\n",
       "      <td>0.0</td>\n",
       "      <td>3.0</td>\n",
       "      <td>5.0</td>\n",
       "      <td>2.0</td>\n",
       "      <td>0</td>\n",
       "      <td>1</td>\n",
       "      <td>0.0</td>\n",
       "      <td>1.0</td>\n",
       "    </tr>\n",
       "    <tr>\n",
       "      <th>3</th>\n",
       "      <td>100086.03</td>\n",
       "      <td>3</td>\n",
       "      <td>2</td>\n",
       "      <td>3</td>\n",
       "      <td>6</td>\n",
       "      <td>1</td>\n",
       "      <td>1</td>\n",
       "      <td>6</td>\n",
       "      <td>1.0</td>\n",
       "      <td>NaN</td>\n",
       "      <td>...</td>\n",
       "      <td>1.0</td>\n",
       "      <td>0.0</td>\n",
       "      <td>0.0</td>\n",
       "      <td>5.0</td>\n",
       "      <td>9.0</td>\n",
       "      <td>5.0</td>\n",
       "      <td>0</td>\n",
       "      <td>0</td>\n",
       "      <td>5.0</td>\n",
       "      <td>0.0</td>\n",
       "    </tr>\n",
       "    <tr>\n",
       "      <th>4</th>\n",
       "      <td>100087.03</td>\n",
       "      <td>2</td>\n",
       "      <td>1</td>\n",
       "      <td>1</td>\n",
       "      <td>3</td>\n",
       "      <td>1</td>\n",
       "      <td>1</td>\n",
       "      <td>5</td>\n",
       "      <td>1.0</td>\n",
       "      <td>NaN</td>\n",
       "      <td>...</td>\n",
       "      <td>2.0</td>\n",
       "      <td>0.0</td>\n",
       "      <td>0.0</td>\n",
       "      <td>4.0</td>\n",
       "      <td>6.0</td>\n",
       "      <td>5.0</td>\n",
       "      <td>1</td>\n",
       "      <td>1</td>\n",
       "      <td>0.0</td>\n",
       "      <td>0.0</td>\n",
       "    </tr>\n",
       "    <tr>\n",
       "      <th>...</th>\n",
       "      <td>...</td>\n",
       "      <td>...</td>\n",
       "      <td>...</td>\n",
       "      <td>...</td>\n",
       "      <td>...</td>\n",
       "      <td>...</td>\n",
       "      <td>...</td>\n",
       "      <td>...</td>\n",
       "      <td>...</td>\n",
       "      <td>...</td>\n",
       "      <td>...</td>\n",
       "      <td>...</td>\n",
       "      <td>...</td>\n",
       "      <td>...</td>\n",
       "      <td>...</td>\n",
       "      <td>...</td>\n",
       "      <td>...</td>\n",
       "      <td>...</td>\n",
       "      <td>...</td>\n",
       "      <td>...</td>\n",
       "      <td>...</td>\n",
       "    </tr>\n",
       "    <tr>\n",
       "      <th>14121</th>\n",
       "      <td>3260756.06</td>\n",
       "      <td>2</td>\n",
       "      <td>2</td>\n",
       "      <td>4</td>\n",
       "      <td>10</td>\n",
       "      <td>1</td>\n",
       "      <td>1</td>\n",
       "      <td>5</td>\n",
       "      <td>1.0</td>\n",
       "      <td>NaN</td>\n",
       "      <td>...</td>\n",
       "      <td>3.0</td>\n",
       "      <td>0.0</td>\n",
       "      <td>0.0</td>\n",
       "      <td>3.0</td>\n",
       "      <td>2.0</td>\n",
       "      <td>5.0</td>\n",
       "      <td>0</td>\n",
       "      <td>0</td>\n",
       "      <td>5.0</td>\n",
       "      <td>4.0</td>\n",
       "    </tr>\n",
       "    <tr>\n",
       "      <th>14122</th>\n",
       "      <td>3260756.03</td>\n",
       "      <td>2</td>\n",
       "      <td>2</td>\n",
       "      <td>3</td>\n",
       "      <td>4</td>\n",
       "      <td>2</td>\n",
       "      <td>1</td>\n",
       "      <td>5</td>\n",
       "      <td>1.0</td>\n",
       "      <td>NaN</td>\n",
       "      <td>...</td>\n",
       "      <td>2.0</td>\n",
       "      <td>0.0</td>\n",
       "      <td>0.0</td>\n",
       "      <td>5.0</td>\n",
       "      <td>5.0</td>\n",
       "      <td>2.0</td>\n",
       "      <td>0</td>\n",
       "      <td>0</td>\n",
       "      <td>0.0</td>\n",
       "      <td>1.0</td>\n",
       "    </tr>\n",
       "    <tr>\n",
       "      <th>14123</th>\n",
       "      <td>3260756.04</td>\n",
       "      <td>3</td>\n",
       "      <td>1</td>\n",
       "      <td>1</td>\n",
       "      <td>1</td>\n",
       "      <td>2</td>\n",
       "      <td>1</td>\n",
       "      <td>4</td>\n",
       "      <td>1.0</td>\n",
       "      <td>NaN</td>\n",
       "      <td>...</td>\n",
       "      <td>1.0</td>\n",
       "      <td>0.0</td>\n",
       "      <td>0.0</td>\n",
       "      <td>3.0</td>\n",
       "      <td>8.0</td>\n",
       "      <td>5.0</td>\n",
       "      <td>0</td>\n",
       "      <td>0</td>\n",
       "      <td>8.0</td>\n",
       "      <td>10.0</td>\n",
       "    </tr>\n",
       "    <tr>\n",
       "      <th>14124</th>\n",
       "      <td>3260756.01</td>\n",
       "      <td>3</td>\n",
       "      <td>1</td>\n",
       "      <td>2</td>\n",
       "      <td>3</td>\n",
       "      <td>1</td>\n",
       "      <td>1</td>\n",
       "      <td>3</td>\n",
       "      <td>1.0</td>\n",
       "      <td>NaN</td>\n",
       "      <td>...</td>\n",
       "      <td>1.0</td>\n",
       "      <td>0.0</td>\n",
       "      <td>0.0</td>\n",
       "      <td>3.0</td>\n",
       "      <td>9.0</td>\n",
       "      <td>5.0</td>\n",
       "      <td>1</td>\n",
       "      <td>1</td>\n",
       "      <td>8.0</td>\n",
       "      <td>4.0</td>\n",
       "    </tr>\n",
       "    <tr>\n",
       "      <th>14125</th>\n",
       "      <td>3202645.09</td>\n",
       "      <td>2</td>\n",
       "      <td>1</td>\n",
       "      <td>2</td>\n",
       "      <td>3</td>\n",
       "      <td>1</td>\n",
       "      <td>1</td>\n",
       "      <td>4</td>\n",
       "      <td>1.0</td>\n",
       "      <td>NaN</td>\n",
       "      <td>...</td>\n",
       "      <td>2.0</td>\n",
       "      <td>0.0</td>\n",
       "      <td>0.0</td>\n",
       "      <td>5.0</td>\n",
       "      <td>3.0</td>\n",
       "      <td>2.0</td>\n",
       "      <td>0</td>\n",
       "      <td>0</td>\n",
       "      <td>8.0</td>\n",
       "      <td>4.0</td>\n",
       "    </tr>\n",
       "  </tbody>\n",
       "</table>\n",
       "<p>14126 rows × 80 columns</p>\n",
       "</div>"
      ],
      "text/plain": [
       "           ID_VIV  P1_1  P1_2  P1_2_A  P1_3  P1_5  P1_6  P1_7  P1_9  P1_10_1  \\\n",
       "0       100045.04     1     3       3     4     1     1    10   1.0      NaN   \n",
       "1       100054.02     3     1      10     1     1     1     2   1.0      NaN   \n",
       "2       100071.02     3     1       3     5     1     1     3   1.0      NaN   \n",
       "3       100086.03     3     2       3     6     1     1     6   1.0      NaN   \n",
       "4       100087.03     2     1       1     3     1     1     5   1.0      NaN   \n",
       "...           ...   ...   ...     ...   ...   ...   ...   ...   ...      ...   \n",
       "14121  3260756.06     2     2       4    10     1     1     5   1.0      NaN   \n",
       "14122  3260756.03     2     2       3     4     2     1     5   1.0      NaN   \n",
       "14123  3260756.04     3     1       1     1     2     1     4   1.0      NaN   \n",
       "14124  3260756.01     3     1       2     3     1     1     3   1.0      NaN   \n",
       "14125  3202645.09     2     1       2     3     1     1     4   1.0      NaN   \n",
       "\n",
       "       ...  P10_4_1  P10_4_2  P10_4_3 P10_6ANIO  P10_6MES P10_7  P10_8_abuso  \\\n",
       "0      ...      1.0      0.0      0.0       4.0       9.0   5.0            0   \n",
       "1      ...      1.0      1.0      0.0       3.0       7.0   1.0            1   \n",
       "2      ...      1.0      0.0      0.0       3.0       5.0   2.0            0   \n",
       "3      ...      1.0      0.0      0.0       5.0       9.0   5.0            0   \n",
       "4      ...      2.0      0.0      0.0       4.0       6.0   5.0            1   \n",
       "...    ...      ...      ...      ...       ...       ...   ...          ...   \n",
       "14121  ...      3.0      0.0      0.0       3.0       2.0   5.0            0   \n",
       "14122  ...      2.0      0.0      0.0       5.0       5.0   2.0            0   \n",
       "14123  ...      1.0      0.0      0.0       3.0       8.0   5.0            0   \n",
       "14124  ...      1.0      0.0      0.0       3.0       9.0   5.0            1   \n",
       "14125  ...      2.0      0.0      0.0       5.0       3.0   2.0            0   \n",
       "\n",
       "       P10_8_atencion  SERVICIOS_MEDICOS_AFILIADA  DONDE_CONSULTAS_PRENATALES  \n",
       "0                   0                         5.0                         0.0  \n",
       "1                   0                         5.0                         0.0  \n",
       "2                   1                         0.0                         1.0  \n",
       "3                   0                         5.0                         0.0  \n",
       "4                   1                         0.0                         0.0  \n",
       "...               ...                         ...                         ...  \n",
       "14121               0                         5.0                         4.0  \n",
       "14122               0                         0.0                         1.0  \n",
       "14123               0                         8.0                        10.0  \n",
       "14124               1                         8.0                         4.0  \n",
       "14125               0                         8.0                         4.0  \n",
       "\n",
       "[14126 rows x 80 columns]"
      ]
     },
     "execution_count": 51,
     "metadata": {},
     "output_type": "execute_result"
    }
   ],
   "source": [
    "result"
   ]
  },
  {
   "cell_type": "markdown",
   "metadata": {},
   "source": [
    "### Borrar columnas\n",
    "\n",
    "1. ID_PER no es necesario ya que no necesitamos identificar a las mujeres y son caracteres unicos para cada registro.\n",
    "2. ID_VIV son caracteres unicos para cada registro.\n",
    "3. SEXO solo tiene el valor de femenino."
   ]
  },
  {
   "cell_type": "code",
   "execution_count": 52,
   "metadata": {},
   "outputs": [
    {
     "data": {
      "text/plain": [
       "2    14126\n",
       "Name: SEXO, dtype: int64"
      ]
     },
     "execution_count": 52,
     "metadata": {},
     "output_type": "execute_result"
    }
   ],
   "source": [
    "result.SEXO.value_counts(dropna=False)"
   ]
  },
  {
   "cell_type": "code",
   "execution_count": 53,
   "metadata": {},
   "outputs": [],
   "source": [
    "result = BorrarColumnas(df=result, cols=[\"ID_PER\", 'ID_VIV', 'SEXO'])"
   ]
  },
  {
   "cell_type": "markdown",
   "metadata": {},
   "source": [
    "### Quitar caracteres especiales\n",
    "\n",
    "Convierto las columnas de texto a numeros"
   ]
  },
  {
   "cell_type": "code",
   "execution_count": 54,
   "metadata": {},
   "outputs": [],
   "source": [
    "encoder = OrdinalEncoder()"
   ]
  },
  {
   "cell_type": "code",
   "execution_count": 55,
   "metadata": {},
   "outputs": [
    {
     "data": {
      "text/plain": [
       "[array(['C\\r', 'R\\r', 'U\\r'], dtype=object)]"
      ]
     },
     "execution_count": 55,
     "metadata": {},
     "output_type": "execute_result"
    }
   ],
   "source": [
    "result['DOMINIO'] = encoder.fit_transform(result[['DOMINIO']])\n",
    "encoder.categories_"
   ]
  },
  {
   "cell_type": "code",
   "execution_count": 56,
   "metadata": {},
   "outputs": [
    {
     "data": {
      "text/plain": [
       "[array(['A1\\r', 'A2\\r', 'B1\\r', 'B2\\r', 'C1\\r', 'C2\\r'], dtype=object)]"
      ]
     },
     "execution_count": 56,
     "metadata": {},
     "output_type": "execute_result"
    }
   ],
   "source": [
    "result['T_INSTRUM'] = encoder.fit_transform(result[['T_INSTRUM']])\n",
    "encoder.categories_"
   ]
  },
  {
   "cell_type": "markdown",
   "metadata": {},
   "source": [
    "### Escalar columnas continuas"
   ]
  },
  {
   "cell_type": "code",
   "execution_count": 57,
   "metadata": {},
   "outputs": [],
   "source": [
    "scaler = MinMaxScaler()"
   ]
  },
  {
   "cell_type": "code",
   "execution_count": 58,
   "metadata": {},
   "outputs": [],
   "source": [
    "result['P1_3'] = scaler.fit_transform(result[['P1_3']])\n",
    "result['P4_5_AB'] = scaler.fit_transform(result[['P4_5_AB']])\n",
    "result['P4_7_AB'] = scaler.fit_transform(result[['P4_7_AB']])"
   ]
  },
  {
   "cell_type": "markdown",
   "metadata": {},
   "source": [
    "### Cambiar edades a rangos\n",
    "Para la interpretabilidad se hacen rangos de cada 5 años.\n",
    "\n",
    "\n",
    "|  Código  | Edades     |\n",
    "|:--------:|:----------:|\n",
    "| 0        | 10 a 15    |\n",
    "| 1        | 15 a 19    |\n",
    "| 2        | 20 a 24    |\n",
    "| 3        | 25 a 29    |\n",
    "| 4        | 30 a 34    |\n",
    "| 5        | 35 a 39    |\n",
    "| 6        | 40 a 44    |\n",
    "| 7        | 45 a 49    |"
   ]
  },
  {
   "cell_type": "code",
   "execution_count": 59,
   "metadata": {},
   "outputs": [],
   "source": [
    "result['EDAD'] = result.EDAD+(result.P10_6ANIO-6)\n",
    "\n",
    "for i in range(8):\n",
    "    actual = i*5 + 10\n",
    "    result.loc[result[(result[\"EDAD\"]>=actual) & (result[\"EDAD\"]<actual+5)].index, \"EDAD\"] = i"
   ]
  },
  {
   "cell_type": "code",
   "execution_count": 60,
   "metadata": {},
   "outputs": [
    {
     "data": {
      "text/plain": [
       "3.0    4053\n",
       "2.0    3764\n",
       "4.0    2768\n",
       "1.0    1810\n",
       "5.0    1323\n",
       "6.0     351\n",
       "0.0      37\n",
       "7.0      20\n",
       "Name: EDAD, dtype: int64"
      ]
     },
     "execution_count": 60,
     "metadata": {},
     "output_type": "execute_result"
    }
   ],
   "source": [
    "result.EDAD.value_counts()"
   ]
  },
  {
   "cell_type": "markdown",
   "metadata": {},
   "source": [
    "## Acomodar columnas"
   ]
  },
  {
   "cell_type": "markdown",
   "metadata": {},
   "source": [
    "Para una visioón estética del dataset se dejan las columnas con nombres indicando el tipo de pregunta que representa para el final."
   ]
  },
  {
   "cell_type": "code",
   "execution_count": 63,
   "metadata": {},
   "outputs": [],
   "source": [
    "# las columnas en el orden actual\n",
    "columnas = list(result.columns)\n",
    "\n",
    "# columnas que pasare al inicio del dataframe\n",
    "columnas_al_principio = ['CVE_ENT', 'DOMINIO', 'T_INSTRUM']\n",
    "\n",
    "# quitar las columnas del lugar actual\n",
    "for i in columnas_al_principio:\n",
    "    columnas.remove(i)\n",
    "\n",
    "# pasar al inicio de las columnas\n",
    "columnas = columnas_al_principio+columnas\n",
    "    \n",
    "result = result[columnas]"
   ]
  },
  {
   "cell_type": "markdown",
   "metadata": {},
   "source": [
    "### Hacer columnas categóricas empiecen en 0"
   ]
  },
  {
   "cell_type": "raw",
   "metadata": {},
   "source": [
    "columnas_no_modificar = ['DOMINIO', 'T_INSTRUM', 'P1_3', 'EDAD',  'NIV', 'P2_8',\n",
    "                         'P2_9', 'P2_11','P2_12', 'P2_13', 'GRA',\n",
    "                         'P4BC_2', 'P4C_1', 'P4AB_2', 'P4BC_4', 'P4BC_5', 'P4_1', 'P4_2', 'P4_3', 'P4_2_nivel', 'P4_5_AB', 'P4_5_AB_nivel',\n",
    "                         'P4_7_AB', 'P4_11', 'P10_1', 'P10_3', 'P10_4_1', 'P10_4_2', 'P10_4_3', 'P10_5', 'P10_8_abuso', 'P10_8_atencion']\n",
    "columnas_no_modificar.extend([f'P1_4_{i}' for i in range(1, 10)])\n",
    "columnas_no_modificar.extend([f'P1_10_{i}' for i in range(1, 5)])\n",
    "columnas_no_modificar.extend([F'P4_8_{i}' for i in range(1,8)])\n",
    "columnas_no_modificar.extend([F'P4_9_{i}' for i in range(1,8)])\n",
    "columnas_no_modificar.extend([F'P4_12_{i}' for i in range(1,8)])\n",
    "columnas_no_modificar.extend(['BIENES_DE_VIVIENDA', 'FUENTES_DE_DINERO', 'PROPIEDADES_DEL_HOGAR', 'SERVICIOS_MEDICOS_AFILIADA', 'DONDE_CONSULTAS_PRENATALES'])\n",
    "\n",
    "\n",
    "for col in result.columns:\n",
    "    if col not in columnas_no_modificar:\n",
    "        result[col] = result[col]-1"
   ]
  },
  {
   "cell_type": "markdown",
   "metadata": {},
   "source": [
    "Contar cuántas variables tienen el valor -1 que da error al pasar por XGBoost."
   ]
  },
  {
   "cell_type": "raw",
   "metadata": {},
   "source": [
    "for col in result.columns:\n",
    "    try:\n",
    "        print(col, result[col].value_counts()[-1])\n",
    "    except:\n",
    "        pass"
   ]
  },
  {
   "cell_type": "markdown",
   "metadata": {},
   "source": [
    "## Borrar columnas\n",
    "\n",
    "Aquellas columnas que tengan más de 1/3 de datos faltantes serán borrados para no afectar los resultados."
   ]
  },
  {
   "cell_type": "code",
   "execution_count": 64,
   "metadata": {},
   "outputs": [
    {
     "name": "stdout",
     "output_type": "stream",
     "text": [
      "columna   cantidad proporcion \n",
      "-----------------------------\n",
      "P1_10_1    13553   95.943650\n",
      "P1_10_2    13553   95.943650\n",
      "P1_10_3    13553   95.943650\n",
      "P1_10_4    13553   95.943650\n",
      "P2_5          14   0.099108\n",
      "P2_6         189   1.337958\n",
      "P2_12      12843   90.917457\n",
      "P2_14       5256   37.207985\n",
      "P2_15       8151   57.702110\n",
      "P4AB_1       654   4.629761\n",
      "P4AB_2     12100   85.657653\n",
      "P4A_2      13555   95.957808\n",
      "P4B_1      12671   89.699844\n",
      "P4B_2      12760   90.329888\n",
      "P4BC_1     12028   85.147954\n",
      "P4BC_2     12028   85.147954\n",
      "P4C_1      13483   95.448110\n",
      "P4BC_3     12028   85.147954\n",
      "P4BC_4     12028   85.147954\n",
      "P4BC_5     13992   99.051395\n",
      "P4_2        8348   59.096701\n",
      "P4_2_1      8651   61.241682\n",
      "P4_3         106   0.750389\n",
      "P4_5_AB     1848   13.082260\n",
      "P4_5_1_AB   3690   26.122044\n",
      "P4_6_AB      749   5.302279\n",
      "P4_7_AB     2545   18.016424\n",
      "P4_9_1     13984   98.994761\n",
      "P4_9_2     13911   98.477984\n",
      "P4_9_3     13897   98.378876\n",
      "P4_9_4     13031   92.248336\n",
      "P4_9_5     14009   99.171740\n",
      "P4_9_6     12757   90.308651\n",
      "P4_9_7     14067   99.582330\n",
      "P4_13_1    12532   88.715843\n",
      "P4_13_2     9357   66.239558\n",
      "P4_13_3    12912   91.405918\n",
      "P4_13_4     6507   46.063995\n",
      "P4_13_5    13903   98.421351\n",
      "P4_13_6    13972   98.909812\n",
      "P4_13_7    13695   96.948889\n"
     ]
    }
   ],
   "source": [
    "columnas_nan = []\n",
    "columnas_nan_borrar = []\n",
    "print('%-10s%-9s%-5s' % ('columna', 'cantidad', 'proporcion'), '\\n-----------------------------')\n",
    "#print(f'{'columna':10} {'cantidad nan':5d}   {'porcentaje':5f}')\n",
    "for col,nan in zip(result.columns,list(result.isnull().sum())):\n",
    "    if nan != 0:\n",
    "        #print('%-12s%-12i%-12i' % (col, nan, nan*100/14126))\n",
    "        print(f'{col:10} {nan:5d}   {nan*100/14126:5f}')\n",
    "        if nan > result.shape[0]/3:\n",
    "            columnas_nan_borrar.append(col)\n",
    "        else:\n",
    "            columnas_nan.append(col)"
   ]
  },
  {
   "cell_type": "code",
   "execution_count": 65,
   "metadata": {},
   "outputs": [
    {
     "name": "stdout",
     "output_type": "stream",
     "text": [
      "['P2_5', 'P2_6', 'P4AB_1', 'P4_3', 'P4_5_AB', 'P4_5_1_AB', 'P4_6_AB', 'P4_7_AB']\n"
     ]
    },
    {
     "data": {
      "text/plain": [
       "(None, 8)"
      ]
     },
     "execution_count": 65,
     "metadata": {},
     "output_type": "execute_result"
    }
   ],
   "source": [
    "print(columnas_nan), len(columnas_nan)"
   ]
  },
  {
   "cell_type": "code",
   "execution_count": 66,
   "metadata": {},
   "outputs": [
    {
     "name": "stdout",
     "output_type": "stream",
     "text": [
      "['P1_10_1', 'P1_10_2', 'P1_10_3', 'P1_10_4', 'P2_12', 'P2_14', 'P2_15', 'P4AB_2', 'P4A_2', 'P4B_1', 'P4B_2', 'P4BC_1', 'P4BC_2', 'P4C_1', 'P4BC_3', 'P4BC_4', 'P4BC_5', 'P4_2', 'P4_2_1', 'P4_9_1', 'P4_9_2', 'P4_9_3', 'P4_9_4', 'P4_9_5', 'P4_9_6', 'P4_9_7', 'P4_13_1', 'P4_13_2', 'P4_13_3', 'P4_13_4', 'P4_13_5', 'P4_13_6', 'P4_13_7']\n"
     ]
    },
    {
     "data": {
      "text/plain": [
       "(None, 33)"
      ]
     },
     "execution_count": 66,
     "metadata": {},
     "output_type": "execute_result"
    }
   ],
   "source": [
    "print(columnas_nan_borrar), len(columnas_nan_borrar)"
   ]
  },
  {
   "cell_type": "code",
   "execution_count": 67,
   "metadata": {},
   "outputs": [],
   "source": [
    "endireh = BorrarColumnas(result, columnas_nan_borrar)"
   ]
  },
  {
   "cell_type": "markdown",
   "metadata": {},
   "source": [
    "### Variables que relfejan la misma información\n",
    "\n",
    "P4_1 y P2_13 reflejan valores similares. P4_1 es Actualmente, ¿usted trabaja por un ingreso, salario o ganancia? y P2_13 es ¿Trabajó la semana pasada?. Como queremos saber rutinas, me quedaré con el valor de P4_1 porque ese fue preguntado directo a la entrevistada (en el otro valor fue a informate que pudo no saber de la situación laboral)."
   ]
  },
  {
   "cell_type": "code",
   "execution_count": 68,
   "metadata": {},
   "outputs": [
    {
     "data": {
      "text/plain": [
       "0.8344145029614746"
      ]
     },
     "execution_count": 68,
     "metadata": {},
     "output_type": "execute_result"
    }
   ],
   "source": [
    "endireh['P4_1'].corr(endireh['P2_13'])"
   ]
  },
  {
   "cell_type": "code",
   "execution_count": 69,
   "metadata": {},
   "outputs": [
    {
     "data": {
      "text/plain": [
       "0    8348\n",
       "1    5778\n",
       "Name: P4_1, dtype: int64"
      ]
     },
     "execution_count": 69,
     "metadata": {},
     "output_type": "execute_result"
    }
   ],
   "source": [
    "endireh.P4_1.value_counts(dropna=False)"
   ]
  },
  {
   "cell_type": "code",
   "execution_count": 70,
   "metadata": {},
   "outputs": [
    {
     "data": {
      "text/plain": [
       "0.0    8870\n",
       "1.0    5256\n",
       "Name: P2_13, dtype: int64"
      ]
     },
     "execution_count": 70,
     "metadata": {},
     "output_type": "execute_result"
    }
   ],
   "source": [
    "endireh.P2_13.value_counts(dropna=False)"
   ]
  },
  {
   "cell_type": "code",
   "execution_count": 71,
   "metadata": {},
   "outputs": [],
   "source": [
    "endireh = BorrarColumnas(endireh, ['P2_13'])"
   ]
  },
  {
   "cell_type": "markdown",
   "metadata": {},
   "source": [
    "### Cambiar nombre de columna\n",
    "\n",
    "Para que los nombres sean más descriptivos en los resultados."
   ]
  },
  {
   "cell_type": "code",
   "execution_count": 72,
   "metadata": {},
   "outputs": [],
   "source": [
    "renombrar_columnas = {'T_INSTRUM' : 'SITUACION_CONYUGAL', 'P1_1': 'MATERIAL_PISOS', 'P1_2': 'CUARTOS_DORMIR', 'P1_2_A': 'CUARTOS_TOTAL', 'P1_3': 'FOCOS',\n",
    "           'P1_5': 'AGUA', 'P1_6': 'DRENAJE', 'P1_7': 'NUM_RESIDENTES', 'P1_9': 'NUM_HOGARES',\n",
    "           \n",
    "           'P2_5': 'RES_MADRE', 'P2_6': 'RES_PADRE', 'NIV': 'ESCOLARIDAD', 'GRA': 'GRADO_ESCOLAR', 'P2_8': 'ALFABETISMO', \n",
    "           'P2_9': 'ASISTENCIA_ESC', 'P2_10': 'PERT_INDIGENA', 'P2_11': 'LENG_INDIGENA', \n",
    "           \n",
    "           'P4AB_1': 'VERIF_SITUACION_PAREJA', 'P4_1': 'ENTREVISTADA_TRABAJA', 'P4_3': 'PAREJA_TRABAJA', 'P4_5_AB': 'PAREJA_GANANCIAS',  \n",
    "           'P4_5_1_AB': 'PAREJA_GANANCIAS_FRECUENCIA', 'P4_6_AB': 'PAREJA_APORTA_PARA_GASTO', 'P4_7_AB': 'PAREJA_CUANTO_APORTA_GASTO', \n",
    "           'P4_11': 'LIBERTAD_USAR_DINERO', \n",
    "           \n",
    "           'P10_3': 'NUM_EMBARAZOS', 'P10_4_1': 'NACIO_VIV', 'P10_4_2': 'NACIO_MUERT', 'P10_4_3': 'ABORTO', 'P10_6ANIO': 'ANIO_PARTO',\n",
    "           'P10_6MES': 'MES_PARTO', 'P10_7': 'DONDE_ATENDIO_PARTO'}\n",
    "\n",
    "endireh.rename(columns = renombrar_columnas, inplace=True)"
   ]
  },
  {
   "cell_type": "code",
   "execution_count": 73,
   "metadata": {},
   "outputs": [
    {
     "name": "stdout",
     "output_type": "stream",
     "text": [
      "['CVE_ENT', 'DOMINIO', 'SITUACION_CONYUGAL', 'MATERIAL_PISOS', 'CUARTOS_DORMIR', 'CUARTOS_TOTAL', 'FOCOS', 'AGUA', 'DRENAJE', 'NUM_RESIDENTES', 'NUM_HOGARES', 'BIENES_DE_VIVIENDA', 'PAREN', 'EDAD', 'RES_MADRE', 'RES_PADRE', 'ESCOLARIDAD', 'GRADO_ESCOLAR', 'ALFABETISMO', 'ASISTENCIA_ESC', 'PERT_INDIGENA', 'LENG_INDIGENA', 'VERIF_SITUACION_PAREJA', 'ENTREVISTADA_TRABAJA', 'PAREJA_TRABAJA', 'PAREJA_GANANCIAS', 'PAREJA_GANANCIAS_FRECUENCIA', 'PAREJA_APORTA_PARA_GASTO', 'PAREJA_CUANTO_APORTA_GASTO', 'LIBERTAD_USAR_DINERO', 'FUENTES_DE_DINERO', 'PROPIEDADES_DEL_HOGAR', 'NUM_EMBARAZOS', 'NACIO_VIV', 'NACIO_MUERT', 'ABORTO', 'ANIO_PARTO', 'MES_PARTO', 'DONDE_ATENDIO_PARTO', 'P10_8_abuso', 'P10_8_atencion', 'SERVICIOS_MEDICOS_AFILIADA', 'DONDE_CONSULTAS_PRENATALES']\n"
     ]
    }
   ],
   "source": [
    "print(list(endireh.columns))"
   ]
  },
  {
   "cell_type": "markdown",
   "metadata": {},
   "source": [
    "### Guardar datasets"
   ]
  },
  {
   "cell_type": "code",
   "execution_count": 74,
   "metadata": {},
   "outputs": [
    {
     "data": {
      "text/html": [
       "<div>\n",
       "<style scoped>\n",
       "    .dataframe tbody tr th:only-of-type {\n",
       "        vertical-align: middle;\n",
       "    }\n",
       "\n",
       "    .dataframe tbody tr th {\n",
       "        vertical-align: top;\n",
       "    }\n",
       "\n",
       "    .dataframe thead th {\n",
       "        text-align: right;\n",
       "    }\n",
       "</style>\n",
       "<table border=\"1\" class=\"dataframe\">\n",
       "  <thead>\n",
       "    <tr style=\"text-align: right;\">\n",
       "      <th></th>\n",
       "      <th>CVE_ENT</th>\n",
       "      <th>DOMINIO</th>\n",
       "      <th>SITUACION_CONYUGAL</th>\n",
       "      <th>MATERIAL_PISOS</th>\n",
       "      <th>CUARTOS_DORMIR</th>\n",
       "      <th>CUARTOS_TOTAL</th>\n",
       "      <th>FOCOS</th>\n",
       "      <th>AGUA</th>\n",
       "      <th>DRENAJE</th>\n",
       "      <th>NUM_RESIDENTES</th>\n",
       "      <th>...</th>\n",
       "      <th>NACIO_VIV</th>\n",
       "      <th>NACIO_MUERT</th>\n",
       "      <th>ABORTO</th>\n",
       "      <th>ANIO_PARTO</th>\n",
       "      <th>MES_PARTO</th>\n",
       "      <th>DONDE_ATENDIO_PARTO</th>\n",
       "      <th>P10_8_abuso</th>\n",
       "      <th>P10_8_atencion</th>\n",
       "      <th>SERVICIOS_MEDICOS_AFILIADA</th>\n",
       "      <th>DONDE_CONSULTAS_PRENATALES</th>\n",
       "    </tr>\n",
       "  </thead>\n",
       "  <tbody>\n",
       "    <tr>\n",
       "      <th>0</th>\n",
       "      <td>1</td>\n",
       "      <td>2.0</td>\n",
       "      <td>0.0</td>\n",
       "      <td>1</td>\n",
       "      <td>3</td>\n",
       "      <td>3</td>\n",
       "      <td>0.040816</td>\n",
       "      <td>1</td>\n",
       "      <td>1</td>\n",
       "      <td>10</td>\n",
       "      <td>...</td>\n",
       "      <td>1.0</td>\n",
       "      <td>0.0</td>\n",
       "      <td>0.0</td>\n",
       "      <td>4.0</td>\n",
       "      <td>9.0</td>\n",
       "      <td>5.0</td>\n",
       "      <td>0</td>\n",
       "      <td>0</td>\n",
       "      <td>5.0</td>\n",
       "      <td>0.0</td>\n",
       "    </tr>\n",
       "    <tr>\n",
       "      <th>1</th>\n",
       "      <td>1</td>\n",
       "      <td>2.0</td>\n",
       "      <td>4.0</td>\n",
       "      <td>3</td>\n",
       "      <td>1</td>\n",
       "      <td>10</td>\n",
       "      <td>0.010204</td>\n",
       "      <td>1</td>\n",
       "      <td>1</td>\n",
       "      <td>2</td>\n",
       "      <td>...</td>\n",
       "      <td>1.0</td>\n",
       "      <td>1.0</td>\n",
       "      <td>0.0</td>\n",
       "      <td>3.0</td>\n",
       "      <td>7.0</td>\n",
       "      <td>1.0</td>\n",
       "      <td>1</td>\n",
       "      <td>0</td>\n",
       "      <td>5.0</td>\n",
       "      <td>0.0</td>\n",
       "    </tr>\n",
       "    <tr>\n",
       "      <th>2</th>\n",
       "      <td>1</td>\n",
       "      <td>2.0</td>\n",
       "      <td>0.0</td>\n",
       "      <td>3</td>\n",
       "      <td>1</td>\n",
       "      <td>3</td>\n",
       "      <td>0.051020</td>\n",
       "      <td>1</td>\n",
       "      <td>1</td>\n",
       "      <td>3</td>\n",
       "      <td>...</td>\n",
       "      <td>1.0</td>\n",
       "      <td>0.0</td>\n",
       "      <td>0.0</td>\n",
       "      <td>3.0</td>\n",
       "      <td>5.0</td>\n",
       "      <td>2.0</td>\n",
       "      <td>0</td>\n",
       "      <td>1</td>\n",
       "      <td>0.0</td>\n",
       "      <td>1.0</td>\n",
       "    </tr>\n",
       "    <tr>\n",
       "      <th>3</th>\n",
       "      <td>1</td>\n",
       "      <td>2.0</td>\n",
       "      <td>0.0</td>\n",
       "      <td>3</td>\n",
       "      <td>2</td>\n",
       "      <td>3</td>\n",
       "      <td>0.061224</td>\n",
       "      <td>1</td>\n",
       "      <td>1</td>\n",
       "      <td>6</td>\n",
       "      <td>...</td>\n",
       "      <td>1.0</td>\n",
       "      <td>0.0</td>\n",
       "      <td>0.0</td>\n",
       "      <td>5.0</td>\n",
       "      <td>9.0</td>\n",
       "      <td>5.0</td>\n",
       "      <td>0</td>\n",
       "      <td>0</td>\n",
       "      <td>5.0</td>\n",
       "      <td>0.0</td>\n",
       "    </tr>\n",
       "    <tr>\n",
       "      <th>4</th>\n",
       "      <td>1</td>\n",
       "      <td>2.0</td>\n",
       "      <td>0.0</td>\n",
       "      <td>2</td>\n",
       "      <td>1</td>\n",
       "      <td>1</td>\n",
       "      <td>0.030612</td>\n",
       "      <td>1</td>\n",
       "      <td>1</td>\n",
       "      <td>5</td>\n",
       "      <td>...</td>\n",
       "      <td>2.0</td>\n",
       "      <td>0.0</td>\n",
       "      <td>0.0</td>\n",
       "      <td>4.0</td>\n",
       "      <td>6.0</td>\n",
       "      <td>5.0</td>\n",
       "      <td>1</td>\n",
       "      <td>1</td>\n",
       "      <td>0.0</td>\n",
       "      <td>0.0</td>\n",
       "    </tr>\n",
       "    <tr>\n",
       "      <th>...</th>\n",
       "      <td>...</td>\n",
       "      <td>...</td>\n",
       "      <td>...</td>\n",
       "      <td>...</td>\n",
       "      <td>...</td>\n",
       "      <td>...</td>\n",
       "      <td>...</td>\n",
       "      <td>...</td>\n",
       "      <td>...</td>\n",
       "      <td>...</td>\n",
       "      <td>...</td>\n",
       "      <td>...</td>\n",
       "      <td>...</td>\n",
       "      <td>...</td>\n",
       "      <td>...</td>\n",
       "      <td>...</td>\n",
       "      <td>...</td>\n",
       "      <td>...</td>\n",
       "      <td>...</td>\n",
       "      <td>...</td>\n",
       "      <td>...</td>\n",
       "    </tr>\n",
       "    <tr>\n",
       "      <th>14121</th>\n",
       "      <td>32</td>\n",
       "      <td>1.0</td>\n",
       "      <td>0.0</td>\n",
       "      <td>2</td>\n",
       "      <td>2</td>\n",
       "      <td>4</td>\n",
       "      <td>0.102041</td>\n",
       "      <td>1</td>\n",
       "      <td>1</td>\n",
       "      <td>5</td>\n",
       "      <td>...</td>\n",
       "      <td>3.0</td>\n",
       "      <td>0.0</td>\n",
       "      <td>0.0</td>\n",
       "      <td>3.0</td>\n",
       "      <td>2.0</td>\n",
       "      <td>5.0</td>\n",
       "      <td>0</td>\n",
       "      <td>0</td>\n",
       "      <td>5.0</td>\n",
       "      <td>4.0</td>\n",
       "    </tr>\n",
       "    <tr>\n",
       "      <th>14122</th>\n",
       "      <td>32</td>\n",
       "      <td>1.0</td>\n",
       "      <td>0.0</td>\n",
       "      <td>2</td>\n",
       "      <td>2</td>\n",
       "      <td>3</td>\n",
       "      <td>0.040816</td>\n",
       "      <td>2</td>\n",
       "      <td>1</td>\n",
       "      <td>5</td>\n",
       "      <td>...</td>\n",
       "      <td>2.0</td>\n",
       "      <td>0.0</td>\n",
       "      <td>0.0</td>\n",
       "      <td>5.0</td>\n",
       "      <td>5.0</td>\n",
       "      <td>2.0</td>\n",
       "      <td>0</td>\n",
       "      <td>0</td>\n",
       "      <td>0.0</td>\n",
       "      <td>1.0</td>\n",
       "    </tr>\n",
       "    <tr>\n",
       "      <th>14123</th>\n",
       "      <td>32</td>\n",
       "      <td>1.0</td>\n",
       "      <td>0.0</td>\n",
       "      <td>3</td>\n",
       "      <td>1</td>\n",
       "      <td>1</td>\n",
       "      <td>0.010204</td>\n",
       "      <td>2</td>\n",
       "      <td>1</td>\n",
       "      <td>4</td>\n",
       "      <td>...</td>\n",
       "      <td>1.0</td>\n",
       "      <td>0.0</td>\n",
       "      <td>0.0</td>\n",
       "      <td>3.0</td>\n",
       "      <td>8.0</td>\n",
       "      <td>5.0</td>\n",
       "      <td>0</td>\n",
       "      <td>0</td>\n",
       "      <td>8.0</td>\n",
       "      <td>10.0</td>\n",
       "    </tr>\n",
       "    <tr>\n",
       "      <th>14124</th>\n",
       "      <td>32</td>\n",
       "      <td>1.0</td>\n",
       "      <td>0.0</td>\n",
       "      <td>3</td>\n",
       "      <td>1</td>\n",
       "      <td>2</td>\n",
       "      <td>0.030612</td>\n",
       "      <td>1</td>\n",
       "      <td>1</td>\n",
       "      <td>3</td>\n",
       "      <td>...</td>\n",
       "      <td>1.0</td>\n",
       "      <td>0.0</td>\n",
       "      <td>0.0</td>\n",
       "      <td>3.0</td>\n",
       "      <td>9.0</td>\n",
       "      <td>5.0</td>\n",
       "      <td>1</td>\n",
       "      <td>1</td>\n",
       "      <td>8.0</td>\n",
       "      <td>4.0</td>\n",
       "    </tr>\n",
       "    <tr>\n",
       "      <th>14125</th>\n",
       "      <td>32</td>\n",
       "      <td>0.0</td>\n",
       "      <td>0.0</td>\n",
       "      <td>2</td>\n",
       "      <td>1</td>\n",
       "      <td>2</td>\n",
       "      <td>0.030612</td>\n",
       "      <td>1</td>\n",
       "      <td>1</td>\n",
       "      <td>4</td>\n",
       "      <td>...</td>\n",
       "      <td>2.0</td>\n",
       "      <td>0.0</td>\n",
       "      <td>0.0</td>\n",
       "      <td>5.0</td>\n",
       "      <td>3.0</td>\n",
       "      <td>2.0</td>\n",
       "      <td>0</td>\n",
       "      <td>0</td>\n",
       "      <td>8.0</td>\n",
       "      <td>4.0</td>\n",
       "    </tr>\n",
       "  </tbody>\n",
       "</table>\n",
       "<p>14126 rows × 43 columns</p>\n",
       "</div>"
      ],
      "text/plain": [
       "       CVE_ENT  DOMINIO  SITUACION_CONYUGAL  MATERIAL_PISOS  CUARTOS_DORMIR  \\\n",
       "0            1      2.0                 0.0               1               3   \n",
       "1            1      2.0                 4.0               3               1   \n",
       "2            1      2.0                 0.0               3               1   \n",
       "3            1      2.0                 0.0               3               2   \n",
       "4            1      2.0                 0.0               2               1   \n",
       "...        ...      ...                 ...             ...             ...   \n",
       "14121       32      1.0                 0.0               2               2   \n",
       "14122       32      1.0                 0.0               2               2   \n",
       "14123       32      1.0                 0.0               3               1   \n",
       "14124       32      1.0                 0.0               3               1   \n",
       "14125       32      0.0                 0.0               2               1   \n",
       "\n",
       "       CUARTOS_TOTAL     FOCOS  AGUA  DRENAJE  NUM_RESIDENTES  ...  NACIO_VIV  \\\n",
       "0                  3  0.040816     1        1              10  ...        1.0   \n",
       "1                 10  0.010204     1        1               2  ...        1.0   \n",
       "2                  3  0.051020     1        1               3  ...        1.0   \n",
       "3                  3  0.061224     1        1               6  ...        1.0   \n",
       "4                  1  0.030612     1        1               5  ...        2.0   \n",
       "...              ...       ...   ...      ...             ...  ...        ...   \n",
       "14121              4  0.102041     1        1               5  ...        3.0   \n",
       "14122              3  0.040816     2        1               5  ...        2.0   \n",
       "14123              1  0.010204     2        1               4  ...        1.0   \n",
       "14124              2  0.030612     1        1               3  ...        1.0   \n",
       "14125              2  0.030612     1        1               4  ...        2.0   \n",
       "\n",
       "       NACIO_MUERT  ABORTO  ANIO_PARTO  MES_PARTO  DONDE_ATENDIO_PARTO  \\\n",
       "0              0.0     0.0         4.0        9.0                  5.0   \n",
       "1              1.0     0.0         3.0        7.0                  1.0   \n",
       "2              0.0     0.0         3.0        5.0                  2.0   \n",
       "3              0.0     0.0         5.0        9.0                  5.0   \n",
       "4              0.0     0.0         4.0        6.0                  5.0   \n",
       "...            ...     ...         ...        ...                  ...   \n",
       "14121          0.0     0.0         3.0        2.0                  5.0   \n",
       "14122          0.0     0.0         5.0        5.0                  2.0   \n",
       "14123          0.0     0.0         3.0        8.0                  5.0   \n",
       "14124          0.0     0.0         3.0        9.0                  5.0   \n",
       "14125          0.0     0.0         5.0        3.0                  2.0   \n",
       "\n",
       "       P10_8_abuso  P10_8_atencion  SERVICIOS_MEDICOS_AFILIADA  \\\n",
       "0                0               0                         5.0   \n",
       "1                1               0                         5.0   \n",
       "2                0               1                         0.0   \n",
       "3                0               0                         5.0   \n",
       "4                1               1                         0.0   \n",
       "...            ...             ...                         ...   \n",
       "14121            0               0                         5.0   \n",
       "14122            0               0                         0.0   \n",
       "14123            0               0                         8.0   \n",
       "14124            1               1                         8.0   \n",
       "14125            0               0                         8.0   \n",
       "\n",
       "       DONDE_CONSULTAS_PRENATALES  \n",
       "0                             0.0  \n",
       "1                             0.0  \n",
       "2                             1.0  \n",
       "3                             0.0  \n",
       "4                             0.0  \n",
       "...                           ...  \n",
       "14121                         4.0  \n",
       "14122                         1.0  \n",
       "14123                        10.0  \n",
       "14124                         4.0  \n",
       "14125                         4.0  \n",
       "\n",
       "[14126 rows x 43 columns]"
      ]
     },
     "execution_count": 74,
     "metadata": {},
     "output_type": "execute_result"
    }
   ],
   "source": [
    "endireh "
   ]
  },
  {
   "cell_type": "raw",
   "metadata": {},
   "source": [
    "python3.8 Baseline-XGB_GS-2021.py > output_GS_r1.txt\n",
    "python3.8 Baseline-XGB_per_column-2021.py > output_respaldo.txt \n"
   ]
  },
  {
   "cell_type": "raw",
   "metadata": {},
   "source": [
    "endireh.to_csv(f'data/endireh_nac.csv', index=False)"
   ]
  },
  {
   "cell_type": "raw",
   "metadata": {},
   "source": [
    "gk = endireh.groupby('DOMINIO')\n",
    "\n",
    "for dom in endireh.DOMINIO.unique():\n",
    "    X = gk.get_group(dom)\n",
    "    X = X.drop(columns=['DOMINIO'], inplace=False)\n",
    "    X.to_csv(f'data/endireh_dom_{int(dom)}.csv', index=False)\n",
    "    \"\"\"\n",
    "    if dom == 0:\n",
    "        X.drop(X[(X.P2_14==8)|(X.P2_14==10)].index , inplace=False).to_csv(f'data/endireh_dom_{dom}.csv', index=False)\n",
    "    elif dom == 1:\n",
    "        X.drop(X[(X.P2_14==10)].index , inplace=False).to_csv(f'data/endireh_dom_{dom}.csv', index=False)\n",
    "    elif dom == 2:\n",
    "        X.drop(X[(X.P2_14==2)|(X.P2_14==8)].index , inplace=False).to_csv(f'data/endireh_dom_{dom}.csv', index=False)\n",
    "    \"\"\""
   ]
  },
  {
   "cell_type": "markdown",
   "metadata": {},
   "source": [
    "# Estadísticas simples interesantes?"
   ]
  },
  {
   "cell_type": "markdown",
   "metadata": {},
   "source": [
    "Violencia en las trabajadores domésticas."
   ]
  },
  {
   "cell_type": "code",
   "execution_count": 75,
   "metadata": {},
   "outputs": [
    {
     "data": {
      "text/html": [
       "<div>\n",
       "<style scoped>\n",
       "    .dataframe tbody tr th:only-of-type {\n",
       "        vertical-align: middle;\n",
       "    }\n",
       "\n",
       "    .dataframe tbody tr th {\n",
       "        vertical-align: top;\n",
       "    }\n",
       "\n",
       "    .dataframe thead th {\n",
       "        text-align: right;\n",
       "    }\n",
       "</style>\n",
       "<table border=\"1\" class=\"dataframe\">\n",
       "  <thead>\n",
       "    <tr style=\"text-align: right;\">\n",
       "      <th></th>\n",
       "      <th>PAREN</th>\n",
       "      <th>P10_8_abuso</th>\n",
       "      <th>P10_8_atencion</th>\n",
       "      <th>NIV</th>\n",
       "      <th>GRA</th>\n",
       "      <th>P2_13</th>\n",
       "      <th>P2_15</th>\n",
       "    </tr>\n",
       "  </thead>\n",
       "  <tbody>\n",
       "    <tr>\n",
       "      <th>419</th>\n",
       "      <td>5</td>\n",
       "      <td>0</td>\n",
       "      <td>0</td>\n",
       "      <td>3.0</td>\n",
       "      <td>3.0</td>\n",
       "      <td>0.0</td>\n",
       "      <td>NaN</td>\n",
       "    </tr>\n",
       "    <tr>\n",
       "      <th>604</th>\n",
       "      <td>5</td>\n",
       "      <td>0</td>\n",
       "      <td>0</td>\n",
       "      <td>4.0</td>\n",
       "      <td>1.0</td>\n",
       "      <td>1.0</td>\n",
       "      <td>1.0</td>\n",
       "    </tr>\n",
       "    <tr>\n",
       "      <th>632</th>\n",
       "      <td>5</td>\n",
       "      <td>0</td>\n",
       "      <td>0</td>\n",
       "      <td>3.0</td>\n",
       "      <td>3.0</td>\n",
       "      <td>0.0</td>\n",
       "      <td>NaN</td>\n",
       "    </tr>\n",
       "    <tr>\n",
       "      <th>646</th>\n",
       "      <td>5</td>\n",
       "      <td>0</td>\n",
       "      <td>0</td>\n",
       "      <td>3.0</td>\n",
       "      <td>3.0</td>\n",
       "      <td>0.0</td>\n",
       "      <td>NaN</td>\n",
       "    </tr>\n",
       "    <tr>\n",
       "      <th>722</th>\n",
       "      <td>5</td>\n",
       "      <td>0</td>\n",
       "      <td>0</td>\n",
       "      <td>4.0</td>\n",
       "      <td>3.0</td>\n",
       "      <td>0.0</td>\n",
       "      <td>NaN</td>\n",
       "    </tr>\n",
       "    <tr>\n",
       "      <th>...</th>\n",
       "      <td>...</td>\n",
       "      <td>...</td>\n",
       "      <td>...</td>\n",
       "      <td>...</td>\n",
       "      <td>...</td>\n",
       "      <td>...</td>\n",
       "      <td>...</td>\n",
       "    </tr>\n",
       "    <tr>\n",
       "      <th>12741</th>\n",
       "      <td>5</td>\n",
       "      <td>0</td>\n",
       "      <td>0</td>\n",
       "      <td>3.0</td>\n",
       "      <td>3.0</td>\n",
       "      <td>1.0</td>\n",
       "      <td>1.0</td>\n",
       "    </tr>\n",
       "    <tr>\n",
       "      <th>12946</th>\n",
       "      <td>5</td>\n",
       "      <td>0</td>\n",
       "      <td>0</td>\n",
       "      <td>4.0</td>\n",
       "      <td>1.0</td>\n",
       "      <td>0.0</td>\n",
       "      <td>NaN</td>\n",
       "    </tr>\n",
       "    <tr>\n",
       "      <th>13343</th>\n",
       "      <td>5</td>\n",
       "      <td>1</td>\n",
       "      <td>0</td>\n",
       "      <td>3.0</td>\n",
       "      <td>3.0</td>\n",
       "      <td>1.0</td>\n",
       "      <td>2.0</td>\n",
       "    </tr>\n",
       "    <tr>\n",
       "      <th>13585</th>\n",
       "      <td>5</td>\n",
       "      <td>1</td>\n",
       "      <td>0</td>\n",
       "      <td>4.0</td>\n",
       "      <td>1.0</td>\n",
       "      <td>0.0</td>\n",
       "      <td>NaN</td>\n",
       "    </tr>\n",
       "    <tr>\n",
       "      <th>13733</th>\n",
       "      <td>5</td>\n",
       "      <td>0</td>\n",
       "      <td>0</td>\n",
       "      <td>3.0</td>\n",
       "      <td>3.0</td>\n",
       "      <td>0.0</td>\n",
       "      <td>NaN</td>\n",
       "    </tr>\n",
       "  </tbody>\n",
       "</table>\n",
       "<p>67 rows × 7 columns</p>\n",
       "</div>"
      ],
      "text/plain": [
       "       PAREN  P10_8_abuso  P10_8_atencion  NIV  GRA  P2_13  P2_15\n",
       "419        5            0               0  3.0  3.0    0.0    NaN\n",
       "604        5            0               0  4.0  1.0    1.0    1.0\n",
       "632        5            0               0  3.0  3.0    0.0    NaN\n",
       "646        5            0               0  3.0  3.0    0.0    NaN\n",
       "722        5            0               0  4.0  3.0    0.0    NaN\n",
       "...      ...          ...             ...  ...  ...    ...    ...\n",
       "12741      5            0               0  3.0  3.0    1.0    1.0\n",
       "12946      5            0               0  4.0  1.0    0.0    NaN\n",
       "13343      5            1               0  3.0  3.0    1.0    2.0\n",
       "13585      5            1               0  4.0  1.0    0.0    NaN\n",
       "13733      5            0               0  3.0  3.0    0.0    NaN\n",
       "\n",
       "[67 rows x 7 columns]"
      ]
     },
     "execution_count": 75,
     "metadata": {},
     "output_type": "execute_result"
    }
   ],
   "source": [
    "result[result.PAREN==5][['PAREN', 'P10_8_abuso', 'P10_8_atencion', 'NIV', 'GRA', 'P2_13', 'P2_15']]"
   ]
  },
  {
   "cell_type": "markdown",
   "metadata": {},
   "source": [
    "Violencia en las personas con alguna limitación física o mental que le impide trabajar."
   ]
  },
  {
   "cell_type": "code",
   "execution_count": 76,
   "metadata": {},
   "outputs": [
    {
     "data": {
      "text/html": [
       "<div>\n",
       "<style scoped>\n",
       "    .dataframe tbody tr th:only-of-type {\n",
       "        vertical-align: middle;\n",
       "    }\n",
       "\n",
       "    .dataframe tbody tr th {\n",
       "        vertical-align: top;\n",
       "    }\n",
       "\n",
       "    .dataframe thead th {\n",
       "        text-align: right;\n",
       "    }\n",
       "</style>\n",
       "<table border=\"1\" class=\"dataframe\">\n",
       "  <thead>\n",
       "    <tr style=\"text-align: right;\">\n",
       "      <th></th>\n",
       "      <th>PAREN</th>\n",
       "      <th>P10_8_abuso</th>\n",
       "      <th>P10_8_atencion</th>\n",
       "      <th>NIV</th>\n",
       "      <th>GRA</th>\n",
       "      <th>P2_13</th>\n",
       "      <th>P2_14</th>\n",
       "      <th>P2_15</th>\n",
       "    </tr>\n",
       "  </thead>\n",
       "  <tbody>\n",
       "    <tr>\n",
       "      <th>0</th>\n",
       "      <td>4</td>\n",
       "      <td>0</td>\n",
       "      <td>0</td>\n",
       "      <td>3.0</td>\n",
       "      <td>3.0</td>\n",
       "      <td>0.0</td>\n",
       "      <td>10.0</td>\n",
       "      <td>NaN</td>\n",
       "    </tr>\n",
       "    <tr>\n",
       "      <th>3</th>\n",
       "      <td>4</td>\n",
       "      <td>0</td>\n",
       "      <td>0</td>\n",
       "      <td>3.0</td>\n",
       "      <td>2.0</td>\n",
       "      <td>0.0</td>\n",
       "      <td>10.0</td>\n",
       "      <td>NaN</td>\n",
       "    </tr>\n",
       "    <tr>\n",
       "      <th>4</th>\n",
       "      <td>2</td>\n",
       "      <td>1</td>\n",
       "      <td>1</td>\n",
       "      <td>4.0</td>\n",
       "      <td>1.0</td>\n",
       "      <td>0.0</td>\n",
       "      <td>10.0</td>\n",
       "      <td>NaN</td>\n",
       "    </tr>\n",
       "    <tr>\n",
       "      <th>5</th>\n",
       "      <td>2</td>\n",
       "      <td>0</td>\n",
       "      <td>0</td>\n",
       "      <td>3.0</td>\n",
       "      <td>3.0</td>\n",
       "      <td>0.0</td>\n",
       "      <td>10.0</td>\n",
       "      <td>NaN</td>\n",
       "    </tr>\n",
       "    <tr>\n",
       "      <th>9</th>\n",
       "      <td>2</td>\n",
       "      <td>0</td>\n",
       "      <td>0</td>\n",
       "      <td>2.0</td>\n",
       "      <td>6.0</td>\n",
       "      <td>0.0</td>\n",
       "      <td>10.0</td>\n",
       "      <td>NaN</td>\n",
       "    </tr>\n",
       "    <tr>\n",
       "      <th>...</th>\n",
       "      <td>...</td>\n",
       "      <td>...</td>\n",
       "      <td>...</td>\n",
       "      <td>...</td>\n",
       "      <td>...</td>\n",
       "      <td>...</td>\n",
       "      <td>...</td>\n",
       "      <td>...</td>\n",
       "    </tr>\n",
       "    <tr>\n",
       "      <th>14119</th>\n",
       "      <td>2</td>\n",
       "      <td>0</td>\n",
       "      <td>0</td>\n",
       "      <td>4.0</td>\n",
       "      <td>3.0</td>\n",
       "      <td>0.0</td>\n",
       "      <td>10.0</td>\n",
       "      <td>NaN</td>\n",
       "    </tr>\n",
       "    <tr>\n",
       "      <th>14120</th>\n",
       "      <td>2</td>\n",
       "      <td>0</td>\n",
       "      <td>1</td>\n",
       "      <td>4.0</td>\n",
       "      <td>3.0</td>\n",
       "      <td>0.0</td>\n",
       "      <td>10.0</td>\n",
       "      <td>NaN</td>\n",
       "    </tr>\n",
       "    <tr>\n",
       "      <th>14121</th>\n",
       "      <td>1</td>\n",
       "      <td>0</td>\n",
       "      <td>0</td>\n",
       "      <td>3.0</td>\n",
       "      <td>3.0</td>\n",
       "      <td>0.0</td>\n",
       "      <td>10.0</td>\n",
       "      <td>NaN</td>\n",
       "    </tr>\n",
       "    <tr>\n",
       "      <th>14123</th>\n",
       "      <td>2</td>\n",
       "      <td>0</td>\n",
       "      <td>0</td>\n",
       "      <td>3.0</td>\n",
       "      <td>3.0</td>\n",
       "      <td>0.0</td>\n",
       "      <td>10.0</td>\n",
       "      <td>NaN</td>\n",
       "    </tr>\n",
       "    <tr>\n",
       "      <th>14124</th>\n",
       "      <td>2</td>\n",
       "      <td>1</td>\n",
       "      <td>1</td>\n",
       "      <td>4.0</td>\n",
       "      <td>3.0</td>\n",
       "      <td>0.0</td>\n",
       "      <td>10.0</td>\n",
       "      <td>NaN</td>\n",
       "    </tr>\n",
       "  </tbody>\n",
       "</table>\n",
       "<p>7700 rows × 8 columns</p>\n",
       "</div>"
      ],
      "text/plain": [
       "       PAREN  P10_8_abuso  P10_8_atencion  NIV  GRA  P2_13  P2_14  P2_15\n",
       "0          4            0               0  3.0  3.0    0.0   10.0    NaN\n",
       "3          4            0               0  3.0  2.0    0.0   10.0    NaN\n",
       "4          2            1               1  4.0  1.0    0.0   10.0    NaN\n",
       "5          2            0               0  3.0  3.0    0.0   10.0    NaN\n",
       "9          2            0               0  2.0  6.0    0.0   10.0    NaN\n",
       "...      ...          ...             ...  ...  ...    ...    ...    ...\n",
       "14119      2            0               0  4.0  3.0    0.0   10.0    NaN\n",
       "14120      2            0               1  4.0  3.0    0.0   10.0    NaN\n",
       "14121      1            0               0  3.0  3.0    0.0   10.0    NaN\n",
       "14123      2            0               0  3.0  3.0    0.0   10.0    NaN\n",
       "14124      2            1               1  4.0  3.0    0.0   10.0    NaN\n",
       "\n",
       "[7700 rows x 8 columns]"
      ]
     },
     "execution_count": 76,
     "metadata": {},
     "output_type": "execute_result"
    }
   ],
   "source": [
    "result[result.P2_14==10][['PAREN', 'P10_8_abuso', 'P10_8_atencion', 'NIV', 'GRA', 'P2_13', 'P2_14', 'P2_15']]"
   ]
  },
  {
   "cell_type": "markdown",
   "metadata": {},
   "source": [
    "Notar que de la seccion 4 solo se quedaron aquellas de las casadas y no hay de solteras"
   ]
  },
  {
   "cell_type": "markdown",
   "metadata": {},
   "source": [
    "# Descripción de los datos resultantes"
   ]
  },
  {
   "cell_type": "markdown",
   "metadata": {},
   "source": [
    "## General\n",
    "\n",
    "1. CVE_ENT:     clave de entidad federativo (estado). Del 1 al 32.\n",
    "4. DOMINIO:     si vive en área urbana, semiurbana o rural. Del 0 al 2.\n",
    "5. SITUACION_CONYUGAL:   situación ormántica de la mujer elegida. Del 0 al 5."
   ]
  },
  {
   "cell_type": "markdown",
   "metadata": {},
   "source": [
    "## SECCIÓN I. CARACTERÍSTICAS DE LA VIVIENDA Y HOGARES EN LA VIVIENDA\n",
    "\n",
    "1. MATERIAL_PISOS: material del piso en la vivienda. Del 0 al 2.\n",
    "2. CUARTOS_DORMIR: cantidad de cuartos para dormir. Del 0 al 9.\n",
    "3. CUARTOS_TOTAL: cantidad de cuartos en la vivienda. Del 1 al 13.\n",
    "4. FOCOS: número de focos. Del 0 al 1, donde 0 refleja 1 foco y 1 refleja 98 focos.\n",
    "5. BIENES_DE_VIVIENDA: cuántos de los bienes listados hay aunque sea 1 en la vivienda. Del 0 al 9, donde 0 refleja ninguno y 9 refleja que tiene todos.\n",
    "    1. P1_4_1:   tiene aparato para oír radio.\n",
    "    2. P1_4_2:   tiene television.\n",
    "    3. P1_4_3:   tiene computadora.\n",
    "    4. P1_4_4:   tiene linea telefonica fija.\n",
    "    5. P1_4_5:   tiene telefono celular.\n",
    "    6. P1_4_6:  tiene refrigerador.\n",
    "    7. P1_4_7:  tiene lavadora.\n",
    "    8. P1_4_8:  tiene auto o camioneta.\n",
    "    9. P1_4_9:  tiene servicio de internet.\n",
    "6. AGUA: tipos de acceso a agua que tienen en la vivienda. Del 0 al 5.\n",
    "7. DRENAJE: tipos de acceso a drenaje que tienen en la vivienda. Del 0 al 4.\n",
    "8. NUM_RESIDENTES: cantidad de personas que viven en la vivienda. Del 1 a 24.\n",
    "9. NUM_HOGARES: cuantos grupos de personas comparten gastos en la vivienda. Del 1 al 5."
   ]
  },
  {
   "cell_type": "markdown",
   "metadata": {},
   "source": [
    "## SECCIÓN II. CARACTERÍSTICAS SOCIODEMOGRÁFICAS DE RESIDENTES DE LA VIVIENDA\n",
    "\n",
    "1. PAREN: parentezco de la mujer elegida a el/la jefe/jefa del hogar. Del 1 al 5.\n",
    "2. EDAD: rango de edad de la mujer elegida creado en esta libreta. Del 0 al 8.\n",
    "3. RES_MADRE: residencia de la madre (categorias creadas en esta libreta). 0 (vive con ella), 1 (vive n otra vivienda), 2 (falleció) y NULL (no sabe).\n",
    "4. RES_PADRE: residencia del padre (categorias creadas en esta libreta). 0 (vive con ella), 1 (vive n otra vivienda), 2 (falleció) y NULL (no sabe).\n",
    "5. ESCOLARIDAD: último nivel de estudios cursado. Del 0 al 11.\n",
    "6. GRADO_ESCOLAR: último grado de estudios cursado. Del 0 al 8.\n",
    "7. ALFABETISMO: si sabe leer y escribir un recado. 0 o 1.\n",
    "8. ASISTENCIA_ESC: si asiste actualmente a la escuela. 0 o 1.\n",
    "9. PERT_INDIGENA: si se considera indígene. 0 (si), 1 (si en parte), 2 (no) y 7 (no sabe).\n",
    "10. LENG_INDIGENA: si habla alguna lengua indígena. 0 o 1."
   ]
  },
  {
   "cell_type": "markdown",
   "metadata": {},
   "source": [
    "## SECCIÓN IV. SITUACIÓN DE LA RELACIÓN DE PAREJA/INGRESOS Y RECURSOS\n",
    "\n",
    "1. VERIF_SITUACION_PAREJA: Desarrollo de SITUACION_CONYUGAL. Del 0 al 3.\n",
    "2. ENTREVISTADA_TRABAJA: Si la entrevistada trabaja por un ingreso, salario o ganancia. 0 o 1.\n",
    "3. PAREJA_TRABAJA: Si la pareja de la entrevistada trabaja. 0 o 1.\n",
    "4. PAREJA_GANANCIAS: Cuanto gana la pareja. 0 a 1.\n",
    "5. PAREJA_GANANCIAS_FRECUENCIA: Con que frecuencia teien ganancias. 0 (a la semana), 1 (a la quincena), 2 (al mes) y NULL (no sabe).\n",
    "6. PAREJA_APORTA_PARA_GASTO: Si la pareja aporta para el gasto de la vivienda. 0 (si), 1 (no), 2 (no tienen hijxs en comun o ya son grandes) y NULL.\n",
    "7. PAREJA_CUANTO_APORTA_GASTO: Cuanto aporta la pareja para el gasto de la vivienda. 0 a 1.\n",
    "8. LIBERTAD_USAR_DINERO: libertad d ela entrevistada de usar el dinero como quiera. 0 o 1.\n",
    "9. FUENTES_DE_DINERO: Cantidad de fuentes de dinero de la entrevistada. 0 a 4.\n",
    "10. PROPIEDADES_DEL_HOGAR: DE las personas que viven en el hogar, de cuantos patrimonios/propiedades son dueños. 0 a 7."
   ]
  },
  {
   "cell_type": "markdown",
   "metadata": {},
   "source": [
    "## SECCIÓN IX. ATENCIÓN OBSTÉTRICA\n",
    "\n",
    "1. P10SERVICIOS_MEDICOS_AFILIADA_1: afiliación a servicios médicos.\n",
    "2. NUM_EMBARAZOS: embarazos que tuvo durante el periodo de la encuesta. del 1 al 18.\n",
    "3. NACIO_VIV: cuantos partos el resultado nació vivo. Del 0 al 10.\n",
    "4. NACIO_MUERT: cuantos partos el resultado nació muerto. Del 0 al 6.\n",
    "5. ABORTO: cuantos partos el resultado fue aborto. Del 0 al 5.\n",
    "6. DONDE_CONSULTAS_PRENATALES: servicio(s) médico(s) donde atendió consultas prenatales. \n",
    "7. P10_6ANIO_PARTOANIO: año del último parto. Del 0 al 5 representando del 2016 al 2021.\n",
    "8. MES_PARTO: año del último parto. Del 0 al 12 representando los meses del año.\n",
    "9. DONDE_ATENDIO_PARTO: donde se atendió el parto. Del 0 al 4.\n",
    "10. P10_8_abuso: si sufrió del tipo de violencia obstétrica 'abuso o violencia'. 0 o 1.\n",
    "11. P10_8_atencion: si sufrió el tipo de violencia obstétrica 'atención no autorizada'. 0 o 1."
   ]
  },
  {
   "cell_type": "markdown",
   "metadata": {},
   "source": [
    "# Repaso"
   ]
  },
  {
   "cell_type": "code",
   "execution_count": 77,
   "metadata": {},
   "outputs": [
    {
     "data": {
      "text/plain": [
       "(14126, 43)"
      ]
     },
     "execution_count": 77,
     "metadata": {},
     "output_type": "execute_result"
    }
   ],
   "source": [
    "endireh.shape"
   ]
  },
  {
   "cell_type": "code",
   "execution_count": 78,
   "metadata": {},
   "outputs": [],
   "source": [
    "columnas_regression = ['FOCOS', 'PAREJA_GANANCIAS', 'PAREJA_CUANTO_APORTA_GASTO'] \n",
    "#StandardScaler\n",
    "\n",
    "columnas_nan = ['RES_MADRE', 'RES_PADRE', 'VERIF_SITUACION_PAREJA', 'PAREJA_TRABAJA', 'PAREJA_GANANCIAS', \n",
    "                'PAREJA_GANANCIAS_FRECUENCIA', 'PAREJA_APORTA_PARA_GASTO', 'PAREJA_CUANTO_APORTA_GASTO'] \n",
    "#cuando son objetivo solo se usan aquellas que tienen datos\n",
    "\n",
    "columnasBin = ['ALFABETISMO', 'ASISTENCIA_ESC', 'LENG_INDIGENA', 'ENTREVISTADA_TRABAJA', \n",
    "               'LIBERTAD_USAR_DINERO', 'P10_8_abuso', 'P10_8_atencion']\n"
   ]
  },
  {
   "cell_type": "code",
   "execution_count": 79,
   "metadata": {},
   "outputs": [
    {
     "data": {
      "text/plain": [
       "['CVE_ENT',\n",
       " 'DOMINIO',\n",
       " 'SITUACION_CONYUGAL',\n",
       " 'MATERIAL_PISOS',\n",
       " 'CUARTOS_DORMIR',\n",
       " 'CUARTOS_TOTAL',\n",
       " 'AGUA',\n",
       " 'DRENAJE',\n",
       " 'NUM_RESIDENTES',\n",
       " 'NUM_HOGARES',\n",
       " 'BIENES_DE_VIVIENDA',\n",
       " 'PAREN',\n",
       " 'EDAD',\n",
       " 'RES_MADRE',\n",
       " 'RES_PADRE',\n",
       " 'ESCOLARIDAD',\n",
       " 'GRADO_ESCOLAR',\n",
       " 'PERT_INDIGENA',\n",
       " 'VERIF_SITUACION_PAREJA',\n",
       " 'PAREJA_TRABAJA',\n",
       " 'PAREJA_GANANCIAS_FRECUENCIA',\n",
       " 'PAREJA_APORTA_PARA_GASTO',\n",
       " 'FUENTES_DE_DINERO',\n",
       " 'PROPIEDADES_DEL_HOGAR',\n",
       " 'NUM_EMBARAZOS',\n",
       " 'NACIO_VIV',\n",
       " 'NACIO_MUERT',\n",
       " 'ABORTO',\n",
       " 'ANIO_PARTO',\n",
       " 'MES_PARTO',\n",
       " 'DONDE_ATENDIO_PARTO',\n",
       " 'SERVICIOS_MEDICOS_AFILIADA',\n",
       " 'DONDE_CONSULTAS_PRENATALES']"
      ]
     },
     "execution_count": 79,
     "metadata": {},
     "output_type": "execute_result"
    }
   ],
   "source": [
    "multcat = []\n",
    "for c in endireh.columns:\n",
    "    if c not in columnas_regression and c not in columnasBin:\n",
    "        multcat.append(c)\n",
    "multcat"
   ]
  },
  {
   "cell_type": "raw",
   "metadata": {},
   "source": [
    "for col in endireh.columns:\n",
    "    print(f'{col:13} {len(endireh[col].unique()):5d} {sorted(endireh[col].unique())}\\n')"
   ]
  }
 ],
 "metadata": {
  "kernelspec": {
   "display_name": "Python 3",
   "language": "python",
   "name": "python3"
  },
  "language_info": {
   "codemirror_mode": {
    "name": "ipython",
    "version": 3
   },
   "file_extension": ".py",
   "mimetype": "text/x-python",
   "name": "python",
   "nbconvert_exporter": "python",
   "pygments_lexer": "ipython3",
   "version": "3.6.9"
  }
 },
 "nbformat": 4,
 "nbformat_minor": 4
}
