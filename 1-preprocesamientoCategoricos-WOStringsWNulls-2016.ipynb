{
 "cells": [
  {
   "cell_type": "markdown",
   "metadata": {},
   "source": [
    "# Preprocesamiento de datos"
   ]
  },
  {
   "cell_type": "markdown",
   "metadata": {},
   "source": [
    "## Librerías"
   ]
  },
  {
   "cell_type": "code",
   "execution_count": 1,
   "metadata": {},
   "outputs": [],
   "source": [
    "# Tratamiento de datos\n",
    "# ==============================================================================\n",
    "import pandas as pd\n",
    "import numpy as np\n",
    "import random\n",
    "\n",
    "# Gráficos\n",
    "# ==============================================================================\n",
    "import matplotlib.pyplot as plt\n",
    "import matplotlib_venn as vplt\n",
    "import seaborn as sns\n",
    "\n",
    "# Preprocesado y modelado\n",
    "# ==============================================================================\n",
    "from sklearn.preprocessing import LabelEncoder, OrdinalEncoder\n",
    "from sklearn import preprocessing\n",
    "from funciones import *\n",
    "\n",
    "# Configuración warnings\n",
    "# ==============================================================================\n",
    "import warnings\n",
    "warnings.filterwarnings('ignore')"
   ]
  },
  {
   "cell_type": "code",
   "execution_count": 2,
   "metadata": {},
   "outputs": [],
   "source": [
    "%matplotlib inline"
   ]
  },
  {
   "cell_type": "markdown",
   "metadata": {},
   "source": [
    "## Funciones"
   ]
  },
  {
   "cell_type": "code",
   "execution_count": 3,
   "metadata": {},
   "outputs": [],
   "source": [
    "def transformColumn(col):\n",
    "    \"\"\"\n",
    "    Encodea la columna de 0 a n-1, siendo n el numero de clases en la columna usando un LabelEncoder de sklearn llamado lb\n",
    "    Recibe:\n",
    "        col: columna de pandas\n",
    "    Devuelve:\n",
    "        la columna transformada\n",
    "    \"\"\"\n",
    "    return lb.fit_transform(col)\n",
    "\n",
    "def regionalizacion(row):\n",
    "    if   row['NOM_ENT'] in ['Baja California\\r', 'Baja California Sur\\r', 'Sonora\\r', 'Sinaloa\\r', 'Nayarit\\r']:\n",
    "        return 0 #Noroeste\n",
    "    elif row['NOM_ENT'] in ['Chihuahua\\r', 'Coahuila de Zaragoza\\r', 'Durango\\r', 'Zacatecas\\r', 'San Luis Potosi\\r']:\n",
    "        return 1 #Norte\n",
    "    elif row['NOM_ENT'] in ['Nuevo Leon\\r', 'Tamaulipas\\r']:\n",
    "        return 2 #Noreste\n",
    "    elif row['NOM_ENT'] in ['Jalisco\\r', 'Aguascalientes\\r', 'Guanajuato\\r', 'Colima\\r', 'Michoacan de Ocampo\\r']:\n",
    "        return 3 #Centro Occidente\n",
    "    elif row['NOM_ENT'] in ['Queretaro\\r', 'Hidalgo\\r', 'Estado de Mexico\\r',  'Ciudad de Mexico\\r','Morelos\\r', 'Puebla\\r', 'Tlaxcala\\r']:\n",
    "        return 4 #Centro Sur\n",
    "    elif row['NOM_ENT'] in ['Veracruz de Ignacio de la Llave\\r', 'Tabasco\\r']:\n",
    "        return 5 #Golfo de México\n",
    "    elif row['NOM_ENT'] in ['Guerrero\\r', 'Oaxaca\\r', 'Chiapas\\r']:\n",
    "        return 6 #Pacífico Sur\n",
    "    elif row['NOM_ENT'] in ['Campeche\\r', 'Yucatan\\r', 'Quintana Roo\\r']:\n",
    "        return 7 #Península de Yucatán\n",
    "\n",
    "def clasificacion(row):\n",
    "    val = [0,0] #ninguno\n",
    "    \n",
    "    #abuso y violencia\n",
    "    if row['P9_8_1'] == 1.0 or row['P9_8_2'] == 1.0 or row['P9_8_3'] == 1.0 or row['P9_8_4'] == 1.0 or row['P9_8_5'] == 1.0 or row['P9_8_6'] == 1.0:\n",
    "        val[0] = 1\n",
    "    \n",
    "    #atencion no autorizada\n",
    "    if row['P9_8_7'] == 1.0 or row['P9_8_8'] == 1.0 or row['P9_8_9'] == 1.0 or row['P9_8_12'] == 2.0 or row['P9_8_13'] == 2.0:\n",
    "        val[1] = 1\n",
    "    \n",
    "    if val[0]==1 and val[1]==1: #ambas\n",
    "        return 3\n",
    "    elif val[1]==1: #atencion no autorizada\n",
    "        return 2\n",
    "    elif val[0]==1: #abuso y violencia\n",
    "        return 1\n",
    "    else: \n",
    "        return 0 #ninguno"
   ]
  },
  {
   "cell_type": "markdown",
   "metadata": {},
   "source": [
    "## SECCIÓN I. CARACTERÍSTICAS DE LA VIVIENDA Y HOGARES EN LA VIVIENDA"
   ]
  },
  {
   "cell_type": "markdown",
   "metadata": {},
   "source": [
    "### Cargar datos"
   ]
  },
  {
   "cell_type": "code",
   "execution_count": 4,
   "metadata": {},
   "outputs": [
    {
     "data": {
      "text/html": [
       "<div>\n",
       "<style scoped>\n",
       "    .dataframe tbody tr th:only-of-type {\n",
       "        vertical-align: middle;\n",
       "    }\n",
       "\n",
       "    .dataframe tbody tr th {\n",
       "        vertical-align: top;\n",
       "    }\n",
       "\n",
       "    .dataframe thead th {\n",
       "        text-align: right;\n",
       "    }\n",
       "</style>\n",
       "<table border=\"1\" class=\"dataframe\">\n",
       "  <thead>\n",
       "    <tr style=\"text-align: right;\">\n",
       "      <th></th>\n",
       "      <th>ID_VIV</th>\n",
       "      <th>UPM</th>\n",
       "      <th>PROG</th>\n",
       "      <th>VIV_SEL</th>\n",
       "      <th>CVE_ENT</th>\n",
       "      <th>NOM_ENT</th>\n",
       "      <th>CVE_MUN</th>\n",
       "      <th>NOM_MUN</th>\n",
       "      <th>COD_RES</th>\n",
       "      <th>P1_1</th>\n",
       "      <th>...</th>\n",
       "      <th>P1_9</th>\n",
       "      <th>P1_10_1</th>\n",
       "      <th>P1_10_2</th>\n",
       "      <th>P1_10_3</th>\n",
       "      <th>P1_10_4</th>\n",
       "      <th>FAC_VIV</th>\n",
       "      <th>DOMINIO</th>\n",
       "      <th>EST_DIS</th>\n",
       "      <th>UPM_DIS</th>\n",
       "      <th>ESTRATO</th>\n",
       "    </tr>\n",
       "  </thead>\n",
       "  <tbody>\n",
       "    <tr>\n",
       "      <th>83867</th>\n",
       "      <td>2260379.02</td>\n",
       "      <td>2260379</td>\n",
       "      <td>154</td>\n",
       "      <td>2</td>\n",
       "      <td>22</td>\n",
       "      <td>Queretaro\\r</td>\n",
       "      <td>6</td>\n",
       "      <td>Corregidora\\r</td>\n",
       "      <td>1</td>\n",
       "      <td>2</td>\n",
       "      <td>...</td>\n",
       "      <td>2.0</td>\n",
       "      <td>0.0</td>\n",
       "      <td>1.0</td>\n",
       "      <td>0.0</td>\n",
       "      <td>0.0</td>\n",
       "      <td>132</td>\n",
       "      <td>R\\r</td>\n",
       "      <td>4080</td>\n",
       "      <td>12538</td>\n",
       "      <td>2</td>\n",
       "    </tr>\n",
       "    <tr>\n",
       "      <th>107779</th>\n",
       "      <td>2900558.02</td>\n",
       "      <td>2900558</td>\n",
       "      <td>124</td>\n",
       "      <td>2</td>\n",
       "      <td>29</td>\n",
       "      <td>Tlaxcala\\r</td>\n",
       "      <td>25</td>\n",
       "      <td>San Pablo del Monte\\r</td>\n",
       "      <td>1</td>\n",
       "      <td>2</td>\n",
       "      <td>...</td>\n",
       "      <td>NaN</td>\n",
       "      <td>NaN</td>\n",
       "      <td>NaN</td>\n",
       "      <td>NaN</td>\n",
       "      <td>NaN</td>\n",
       "      <td>91</td>\n",
       "      <td>U\\r</td>\n",
       "      <td>5340</td>\n",
       "      <td>16156</td>\n",
       "      <td>2</td>\n",
       "    </tr>\n",
       "    <tr>\n",
       "      <th>25309</th>\n",
       "      <td>760617.01</td>\n",
       "      <td>760617</td>\n",
       "      <td>51</td>\n",
       "      <td>1</td>\n",
       "      <td>7</td>\n",
       "      <td>Chiapas\\r</td>\n",
       "      <td>18</td>\n",
       "      <td>Coapilla\\r</td>\n",
       "      <td>1</td>\n",
       "      <td>2</td>\n",
       "      <td>...</td>\n",
       "      <td>NaN</td>\n",
       "      <td>NaN</td>\n",
       "      <td>NaN</td>\n",
       "      <td>NaN</td>\n",
       "      <td>NaN</td>\n",
       "      <td>341</td>\n",
       "      <td>R\\r</td>\n",
       "      <td>1290</td>\n",
       "      <td>4017</td>\n",
       "      <td>1</td>\n",
       "    </tr>\n",
       "    <tr>\n",
       "      <th>64234</th>\n",
       "      <td>1800193.01</td>\n",
       "      <td>1800193</td>\n",
       "      <td>48</td>\n",
       "      <td>1</td>\n",
       "      <td>18</td>\n",
       "      <td>Nayarit\\r</td>\n",
       "      <td>17</td>\n",
       "      <td>Tepic\\r</td>\n",
       "      <td>1</td>\n",
       "      <td>2</td>\n",
       "      <td>...</td>\n",
       "      <td>NaN</td>\n",
       "      <td>NaN</td>\n",
       "      <td>NaN</td>\n",
       "      <td>NaN</td>\n",
       "      <td>NaN</td>\n",
       "      <td>99</td>\n",
       "      <td>U\\r</td>\n",
       "      <td>3220</td>\n",
       "      <td>9834</td>\n",
       "      <td>3</td>\n",
       "    </tr>\n",
       "    <tr>\n",
       "      <th>81172</th>\n",
       "      <td>2200733.02</td>\n",
       "      <td>2200733</td>\n",
       "      <td>110</td>\n",
       "      <td>2</td>\n",
       "      <td>22</td>\n",
       "      <td>Queretaro\\r</td>\n",
       "      <td>14</td>\n",
       "      <td>Querétaro\\r</td>\n",
       "      <td>1</td>\n",
       "      <td>3</td>\n",
       "      <td>...</td>\n",
       "      <td>NaN</td>\n",
       "      <td>NaN</td>\n",
       "      <td>NaN</td>\n",
       "      <td>NaN</td>\n",
       "      <td>NaN</td>\n",
       "      <td>132</td>\n",
       "      <td>U\\r</td>\n",
       "      <td>3930</td>\n",
       "      <td>12132</td>\n",
       "      <td>3</td>\n",
       "    </tr>\n",
       "  </tbody>\n",
       "</table>\n",
       "<p>5 rows × 36 columns</p>\n",
       "</div>"
      ],
      "text/plain": [
       "            ID_VIV      UPM  PROG  VIV_SEL  CVE_ENT      NOM_ENT  CVE_MUN  \\\n",
       "83867   2260379.02  2260379   154        2       22  Queretaro\\r        6   \n",
       "107779  2900558.02  2900558   124        2       29   Tlaxcala\\r       25   \n",
       "25309    760617.01   760617    51        1        7    Chiapas\\r       18   \n",
       "64234   1800193.01  1800193    48        1       18    Nayarit\\r       17   \n",
       "81172   2200733.02  2200733   110        2       22  Queretaro\\r       14   \n",
       "\n",
       "                      NOM_MUN  COD_RES  P1_1  ...  P1_9  P1_10_1  P1_10_2  \\\n",
       "83867           Corregidora\\r        1     2  ...   2.0      0.0      1.0   \n",
       "107779  San Pablo del Monte\\r        1     2  ...   NaN      NaN      NaN   \n",
       "25309              Coapilla\\r        1     2  ...   NaN      NaN      NaN   \n",
       "64234                 Tepic\\r        1     2  ...   NaN      NaN      NaN   \n",
       "81172             Querétaro\\r        1     3  ...   NaN      NaN      NaN   \n",
       "\n",
       "        P1_10_3  P1_10_4  FAC_VIV  DOMINIO  EST_DIS  UPM_DIS  ESTRATO  \n",
       "83867       0.0      0.0      132      R\\r     4080    12538        2  \n",
       "107779      NaN      NaN       91      U\\r     5340    16156        2  \n",
       "25309       NaN      NaN      341      R\\r     1290     4017        1  \n",
       "64234       NaN      NaN       99      U\\r     3220     9834        3  \n",
       "81172       NaN      NaN      132      U\\r     3930    12132        3  \n",
       "\n",
       "[5 rows x 36 columns]"
      ]
     },
     "execution_count": 4,
     "metadata": {},
     "output_type": "execute_result"
    }
   ],
   "source": [
    "ruta_parcial = \"../../conjunto_de_datos_endireh_2016_csv/conjunto_de_datos_tviv_endireh_2016/conjunto_de_datos/conjunto_de_datos_tviv_endireh_2016.csv\"\n",
    "\n",
    "seccionI = CargarPandasDataset(ruta_parcial)\n",
    "\n",
    "#seccionI.iloc[random.choices(range(seccionI.shape[0]), k=5)]\n",
    "seccionI.iloc[[83867, 107779, 25309, 64234, 81172]]"
   ]
  },
  {
   "cell_type": "markdown",
   "metadata": {},
   "source": [
    "### Hacer columnas One Hot Encoding\n"
   ]
  },
  {
   "cell_type": "markdown",
   "metadata": {},
   "source": [
    "Cambiar los valores $2$ a $0$.\n",
    "\n",
    "Bienes de vivienda (si tienen  televisión ,lavadora , auto, internet, etc) P1_4_{1, 2, 3, ..., 9}."
   ]
  },
  {
   "cell_type": "code",
   "execution_count": 5,
   "metadata": {},
   "outputs": [],
   "source": [
    "columnasOHE = [f'P1_4_{i}' for i in range(1,10)]\n",
    "\n",
    "seccionI = ModificarColumnasValor(df=seccionI, cols=columnasOHE, valorR=2, valorN=0)"
   ]
  },
  {
   "cell_type": "markdown",
   "metadata": {},
   "source": [
    "### Política de datos faltantes"
   ]
  },
  {
   "cell_type": "markdown",
   "metadata": {},
   "source": [
    "P1_9 la cantidad de hogares en la vivienda se debe poner la existencia de 1 hogar en la vivienda."
   ]
  },
  {
   "cell_type": "code",
   "execution_count": 6,
   "metadata": {},
   "outputs": [],
   "source": [
    "seccionI = ModificarColumnasValor(df=seccionI, cols=['P1_9'], valorR=np.nan, valorN=1)"
   ]
  },
  {
   "cell_type": "markdown",
   "metadata": {},
   "source": [
    "En P1_3 cambiar el valor nulo 99 por NaN."
   ]
  },
  {
   "cell_type": "code",
   "execution_count": 7,
   "metadata": {},
   "outputs": [],
   "source": [
    "seccionI = ModificarColumnasValor(df=seccionI, cols=['P1_3'], valorR=99, valorN=seccionI['P1_3'].median())"
   ]
  },
  {
   "cell_type": "markdown",
   "metadata": {},
   "source": [
    "Ya que 3 y 4 son los de menor frecuencia y esto da problema la entrenar el algoritmo de clasificación\n",
    "\n",
    "y que se tratan de un tipo de tubería de no red pública, estas dos serán una nueva categoría y los demás seguirán igual.\n"
   ]
  },
  {
   "cell_type": "raw",
   "metadata": {},
   "source": [
    "seccionI = ModificarColumnasValor(df=seccionI, cols=['P1_6'], valorR=4, valorN=3)"
   ]
  },
  {
   "cell_type": "raw",
   "metadata": {},
   "source": [
    "seccionI = ModificarColumnasValor(df=seccionI, cols=['P1_6'], valorR=5, valorN=4)"
   ]
  },
  {
   "cell_type": "markdown",
   "metadata": {},
   "source": [
    "### Borrar columnas"
   ]
  },
  {
   "cell_type": "markdown",
   "metadata": {},
   "source": [
    "La pregunta 1.8. ¿Todas las personas que viven en esta vivienda comparten un mismo gasto para comer? se puede remplazar por ¿cuantos hogares comparten gastos? para solo usar el P1_9 y poder borrar esta."
   ]
  },
  {
   "cell_type": "code",
   "execution_count": 8,
   "metadata": {},
   "outputs": [],
   "source": [
    "labels = ['CVE_ENT', 'NOM_ENT', 'CVE_MUN', 'NOM_MUN', 'COD_RES', 'UPM', 'PROG','FAC_VIV', 'EST_DIS', 'UPM_DIS', 'P1_8']\n",
    "\n",
    "seccionI = BorrarColumnas(df=seccionI, cols=labels)"
   ]
  },
  {
   "cell_type": "code",
   "execution_count": 9,
   "metadata": {},
   "outputs": [
    {
     "data": {
      "text/plain": [
       "Index(['ID_VIV', 'VIV_SEL', 'P1_1', 'P1_2', 'P1_2_A', 'P1_3', 'P1_4_1',\n",
       "       'P1_4_2', 'P1_4_3', 'P1_4_4', 'P1_4_5', 'P1_4_6', 'P1_4_7', 'P1_4_8',\n",
       "       'P1_4_9', 'P1_5', 'P1_6', 'P1_7', 'P1_9', 'P1_10_1', 'P1_10_2',\n",
       "       'P1_10_3', 'P1_10_4', 'DOMINIO', 'ESTRATO'],\n",
       "      dtype='object')"
      ]
     },
     "execution_count": 9,
     "metadata": {},
     "output_type": "execute_result"
    }
   ],
   "source": [
    "seccionI.columns"
   ]
  },
  {
   "cell_type": "markdown",
   "metadata": {},
   "source": [
    "### Guardar dataset"
   ]
  },
  {
   "cell_type": "raw",
   "metadata": {},
   "source": [
    "GuardarDataset(df=seccionI, name='data/sec_i.csv')"
   ]
  },
  {
   "cell_type": "markdown",
   "metadata": {},
   "source": [
    "## SECCIÓN II. CARACTERÍSTICAS SOCIODEMOGRÁFICAS DE RESIDENTES DE LA VIVIENDA"
   ]
  },
  {
   "cell_type": "markdown",
   "metadata": {},
   "source": [
    "### Cargar los datos"
   ]
  },
  {
   "cell_type": "code",
   "execution_count": 10,
   "metadata": {},
   "outputs": [
    {
     "data": {
      "text/html": [
       "<div>\n",
       "<style scoped>\n",
       "    .dataframe tbody tr th:only-of-type {\n",
       "        vertical-align: middle;\n",
       "    }\n",
       "\n",
       "    .dataframe tbody tr th {\n",
       "        vertical-align: top;\n",
       "    }\n",
       "\n",
       "    .dataframe thead th {\n",
       "        text-align: right;\n",
       "    }\n",
       "</style>\n",
       "<table border=\"1\" class=\"dataframe\">\n",
       "  <thead>\n",
       "    <tr style=\"text-align: right;\">\n",
       "      <th></th>\n",
       "      <th>ID_VIV</th>\n",
       "      <th>ID_MUJ</th>\n",
       "      <th>UPM</th>\n",
       "      <th>PROG</th>\n",
       "      <th>VIV_SEL</th>\n",
       "      <th>CVE_ENT</th>\n",
       "      <th>NOM_ENT</th>\n",
       "      <th>CVE_MUN</th>\n",
       "      <th>NOM_MUN</th>\n",
       "      <th>HOGAR</th>\n",
       "      <th>...</th>\n",
       "      <th>REN_INF_AD</th>\n",
       "      <th>FN_DIA</th>\n",
       "      <th>FN_MES</th>\n",
       "      <th>FAC_VIV</th>\n",
       "      <th>FAC_MUJ</th>\n",
       "      <th>DOMINIO</th>\n",
       "      <th>ESTRATO</th>\n",
       "      <th>EST_DIS</th>\n",
       "      <th>UPM_DIS</th>\n",
       "      <th>COD_M15</th>\n",
       "    </tr>\n",
       "  </thead>\n",
       "  <tbody>\n",
       "    <tr>\n",
       "      <th>357933</th>\n",
       "      <td>2560724.02</td>\n",
       "      <td>2560724.02.01.02\\r</td>\n",
       "      <td>2560724</td>\n",
       "      <td>101</td>\n",
       "      <td>2</td>\n",
       "      <td>25</td>\n",
       "      <td>Sinaloa\\r</td>\n",
       "      <td>12</td>\n",
       "      <td>Mazatlán\\r</td>\n",
       "      <td>1</td>\n",
       "      <td>...</td>\n",
       "      <td>2.0</td>\n",
       "      <td>NaN</td>\n",
       "      <td>NaN</td>\n",
       "      <td>175</td>\n",
       "      <td>350</td>\n",
       "      <td>R\\r</td>\n",
       "      <td>2</td>\n",
       "      <td>4600</td>\n",
       "      <td>14324</td>\n",
       "      <td>1.0</td>\n",
       "    </tr>\n",
       "    <tr>\n",
       "      <th>258404</th>\n",
       "      <td>1903262.04</td>\n",
       "      <td>1903262.04.01.04\\r</td>\n",
       "      <td>1903262</td>\n",
       "      <td>75</td>\n",
       "      <td>4</td>\n",
       "      <td>19</td>\n",
       "      <td>Nuevo Leon\\r</td>\n",
       "      <td>26</td>\n",
       "      <td>Guadalupe\\r</td>\n",
       "      <td>1</td>\n",
       "      <td>...</td>\n",
       "      <td>NaN</td>\n",
       "      <td>NaN</td>\n",
       "      <td>NaN</td>\n",
       "      <td>262</td>\n",
       "      <td>0</td>\n",
       "      <td>U\\r</td>\n",
       "      <td>3</td>\n",
       "      <td>3340</td>\n",
       "      <td>10433</td>\n",
       "      <td>NaN</td>\n",
       "    </tr>\n",
       "    <tr>\n",
       "      <th>189983</th>\n",
       "      <td>1406437.02</td>\n",
       "      <td>1406437.02.01.03\\r</td>\n",
       "      <td>1406437</td>\n",
       "      <td>109</td>\n",
       "      <td>2</td>\n",
       "      <td>14</td>\n",
       "      <td>Jalisco\\r</td>\n",
       "      <td>101</td>\n",
       "      <td>Tonalá\\r</td>\n",
       "      <td>1</td>\n",
       "      <td>...</td>\n",
       "      <td>NaN</td>\n",
       "      <td>NaN</td>\n",
       "      <td>NaN</td>\n",
       "      <td>585</td>\n",
       "      <td>0</td>\n",
       "      <td>U\\r</td>\n",
       "      <td>2</td>\n",
       "      <td>2380</td>\n",
       "      <td>7832</td>\n",
       "      <td>NaN</td>\n",
       "    </tr>\n",
       "    <tr>\n",
       "      <th>155651</th>\n",
       "      <td>1161587.11</td>\n",
       "      <td>1161587.11.01.01\\r</td>\n",
       "      <td>1161587</td>\n",
       "      <td>97</td>\n",
       "      <td>11</td>\n",
       "      <td>11</td>\n",
       "      <td>Guanajuato\\r</td>\n",
       "      <td>35</td>\n",
       "      <td>Santa Cruz de Juventino Rosas\\r</td>\n",
       "      <td>1</td>\n",
       "      <td>...</td>\n",
       "      <td>NaN</td>\n",
       "      <td>NaN</td>\n",
       "      <td>NaN</td>\n",
       "      <td>295</td>\n",
       "      <td>0</td>\n",
       "      <td>R\\r</td>\n",
       "      <td>2</td>\n",
       "      <td>1990</td>\n",
       "      <td>6737</td>\n",
       "      <td>NaN</td>\n",
       "    </tr>\n",
       "    <tr>\n",
       "      <th>336429</th>\n",
       "      <td>2403243.02</td>\n",
       "      <td>2403243.02.01.04\\r</td>\n",
       "      <td>2403243</td>\n",
       "      <td>196</td>\n",
       "      <td>2</td>\n",
       "      <td>24</td>\n",
       "      <td>San Luis Potosi\\r</td>\n",
       "      <td>16</td>\n",
       "      <td>Ebano\\r</td>\n",
       "      <td>1</td>\n",
       "      <td>...</td>\n",
       "      <td>NaN</td>\n",
       "      <td>NaN</td>\n",
       "      <td>NaN</td>\n",
       "      <td>177</td>\n",
       "      <td>0</td>\n",
       "      <td>C\\r</td>\n",
       "      <td>2</td>\n",
       "      <td>4360</td>\n",
       "      <td>13669</td>\n",
       "      <td>NaN</td>\n",
       "    </tr>\n",
       "  </tbody>\n",
       "</table>\n",
       "<p>5 rows × 42 columns</p>\n",
       "</div>"
      ],
      "text/plain": [
       "            ID_VIV              ID_MUJ      UPM  PROG  VIV_SEL  CVE_ENT  \\\n",
       "357933  2560724.02  2560724.02.01.02\\r  2560724   101        2       25   \n",
       "258404  1903262.04  1903262.04.01.04\\r  1903262    75        4       19   \n",
       "189983  1406437.02  1406437.02.01.03\\r  1406437   109        2       14   \n",
       "155651  1161587.11  1161587.11.01.01\\r  1161587    97       11       11   \n",
       "336429  2403243.02  2403243.02.01.04\\r  2403243   196        2       24   \n",
       "\n",
       "                  NOM_ENT  CVE_MUN                          NOM_MUN  HOGAR  \\\n",
       "357933          Sinaloa\\r       12                       Mazatlán\\r      1   \n",
       "258404       Nuevo Leon\\r       26                      Guadalupe\\r      1   \n",
       "189983          Jalisco\\r      101                         Tonalá\\r      1   \n",
       "155651       Guanajuato\\r       35  Santa Cruz de Juventino Rosas\\r      1   \n",
       "336429  San Luis Potosi\\r       16                          Ebano\\r      1   \n",
       "\n",
       "        ...  REN_INF_AD  FN_DIA  FN_MES  FAC_VIV  FAC_MUJ  DOMINIO  ESTRATO  \\\n",
       "357933  ...         2.0     NaN     NaN      175      350      R\\r        2   \n",
       "258404  ...         NaN     NaN     NaN      262        0      U\\r        3   \n",
       "189983  ...         NaN     NaN     NaN      585        0      U\\r        2   \n",
       "155651  ...         NaN     NaN     NaN      295        0      R\\r        2   \n",
       "336429  ...         NaN     NaN     NaN      177        0      C\\r        2   \n",
       "\n",
       "        EST_DIS  UPM_DIS  COD_M15  \n",
       "357933     4600    14324      1.0  \n",
       "258404     3340    10433      NaN  \n",
       "189983     2380     7832      NaN  \n",
       "155651     1990     6737      NaN  \n",
       "336429     4360    13669      NaN  \n",
       "\n",
       "[5 rows x 42 columns]"
      ]
     },
     "execution_count": 10,
     "metadata": {},
     "output_type": "execute_result"
    }
   ],
   "source": [
    "ruta_parcial = \"../../conjunto_de_datos_endireh_2016_csv/conjunto_de_datos_tsdem_endireh_2016/conjunto_de_datos/conjunto_de_datos_tsdem_endireh_2016.csv\"\n",
    "\n",
    "seccionII = CargarPandasDataset(ruta_parcial)\n",
    "\n",
    "seccionII.iloc[random.choices(range(seccionII.shape[0]), k=5)]"
   ]
  },
  {
   "cell_type": "markdown",
   "metadata": {},
   "source": [
    "### Modificar columnas a OHE"
   ]
  },
  {
   "cell_type": "markdown",
   "metadata": {},
   "source": [
    "Cambiar los valores $2$ a $0$."
   ]
  },
  {
   "cell_type": "code",
   "execution_count": 11,
   "metadata": {},
   "outputs": [],
   "source": [
    "columnasOHE = ['P2_8', 'P2_9', 'P2_11', 'P2_12', 'P2_13']\n",
    "\n",
    "seccionII = ModificarColumnasValor(df=seccionII, cols=columnasOHE, valorR=2, valorN=0)"
   ]
  },
  {
   "cell_type": "markdown",
   "metadata": {},
   "source": [
    "### Política de datos faltantes"
   ]
  },
  {
   "cell_type": "markdown",
   "metadata": {},
   "source": [
    "Si P2_7 es mayor a 3 (estudio mínimo la secundaria) se salta la pregunta P2_8 porque asume que sabrán escribir. Por ello, los valores nulos se remplazan por si (1)."
   ]
  },
  {
   "cell_type": "code",
   "execution_count": 12,
   "metadata": {},
   "outputs": [],
   "source": [
    "columnasNaN = ['P2_8']\n",
    "\n",
    "seccionII = ModificarColumnasValor(df=seccionII, cols=columnasNaN, valorR=np.nan, valorN=1)"
   ]
  },
  {
   "cell_type": "markdown",
   "metadata": {},
   "source": [
    "En GRA (grado) hay elementos faltantes que obtendré al calcular la moda por nivel de estudios (NIV) que tienen registrado."
   ]
  },
  {
   "cell_type": "code",
   "execution_count": 13,
   "metadata": {},
   "outputs": [],
   "source": [
    "gk = seccionII.groupby('NIV')\n",
    "    \n",
    "for grupo in seccionII['NIV'].unique():\n",
    "    try: # NIV tiene valor nan que da error\n",
    "        sub_df = seccionII['GRA'].replace(9, gk.get_group(grupo)['GRA'].mode()[0], inplace=True)\n",
    "    except:\n",
    "        pass"
   ]
  },
  {
   "cell_type": "markdown",
   "metadata": {},
   "source": [
    "P2_10 ¿se considera indigena? 9 equivale a no especificado y 8 no sabe. Por lo tanto, pongo 9 valor nulo y 8 como un cuarto valor."
   ]
  },
  {
   "cell_type": "code",
   "execution_count": 14,
   "metadata": {},
   "outputs": [],
   "source": [
    "seccionII = ModificarColumnasValor(df=seccionII, cols=['P2_10'], valorR=9, valorN=np.nan)"
   ]
  },
  {
   "cell_type": "code",
   "execution_count": 15,
   "metadata": {},
   "outputs": [],
   "source": [
    "seccionII = ModificarColumnasValor(df=seccionII, cols=['P2_10'], valorR=8, valorN=4)"
   ]
  },
  {
   "cell_type": "markdown",
   "metadata": {},
   "source": [
    "### 2.2 Dividir por regiones de méxico.\n",
    "\n",
    "Para no dividir entre 32 entidades federativas, dividiré el país en principales regiones de México.\n",
    "Según la regionalización económica de la [CONABIO](http://www.conabio.gob.mx/informacion/metadata/gis/recomgw.xml?_xsl=/db/metadata/xsl/fgdc_html.xsl&_indent=no) existen un total de 8 regiones.\n",
    "   \n",
    "<img src=\"conabio.gob.mx/informacion/gis/layouts/recomgw.png\"\n",
    "     alt=\"Regiones económicas de Mexico\"\n",
    "     style=\"float: left; margin-right: 10px;\" />\n",
    "     \n",
    "Cada código representa a una región como se muestra en la siguiente tabla:\n",
    "\n",
    "|  Código  | Región              |\n",
    "|:--------:|:-------------------:|\n",
    "| 0        | Noroeste            |\n",
    "| 1        | Norte               |\n",
    "| 2        | Noreste             |\n",
    "| 3        | Centro Occidente    |\n",
    "| 4        | Centro Sur          |\n",
    "| 5        | Golfo de México     |\n",
    "| 6        | Pacífico Sur        |\n",
    "| 7        | Península de Yucatán|\n"
   ]
  },
  {
   "cell_type": "code",
   "execution_count": 16,
   "metadata": {},
   "outputs": [],
   "source": [
    "seccionII_reg = InsertarColumnaNueva(df=seccionII, nombreCol='REGION', numeroCol=12, funcion=regionalizacion)"
   ]
  },
  {
   "cell_type": "markdown",
   "metadata": {},
   "source": [
    "### Discretizar P2_5 y P2_6\n",
    "\n",
    "del 1 al 30 son las viviendas registradas en la propiedad, en la 96 es si vive en otro lugar, 97 si falleció y 98 si no sabe.\n",
    "\n",
    "Se discretizará a todos tener valores cercanos y solo 4 categorías."
   ]
  },
  {
   "cell_type": "code",
   "execution_count": 17,
   "metadata": {},
   "outputs": [],
   "source": [
    "seccionII_reg = ModificarColumnasValor(df=seccionII_reg, cols=['P2_5'], valorR=range(31), valorN=1)\n",
    "seccionII_reg = ModificarColumnasValor(df=seccionII_reg, cols=['P2_5'], valorR=96, valorN=2)\n",
    "seccionII_reg = ModificarColumnasValor(df=seccionII_reg, cols=['P2_5'], valorR=97, valorN=3)\n",
    "seccionII_reg = ModificarColumnasValor(df=seccionII_reg, cols=['P2_5'], valorR=98, valorN=0)"
   ]
  },
  {
   "cell_type": "code",
   "execution_count": 18,
   "metadata": {},
   "outputs": [],
   "source": [
    "seccionII_reg = ModificarColumnasValor(df=seccionII_reg, cols=['P2_6'], valorR=range(31), valorN=1)\n",
    "seccionII_reg = ModificarColumnasValor(df=seccionII_reg, cols=['P2_6'], valorR=96, valorN=2)\n",
    "seccionII_reg = ModificarColumnasValor(df=seccionII_reg, cols=['P2_6'], valorR=97, valorN=3)\n",
    "seccionII_reg = ModificarColumnasValor(df=seccionII_reg, cols=['P2_6'], valorR=98, valorN=0)"
   ]
  },
  {
   "cell_type": "markdown",
   "metadata": {},
   "source": [
    "Según la Ley General de educación:\n",
    "1. Educacion básica: Preescolar, primaria y secundaria.\n",
    "2. Educación media superior: Preparatoria o bachillerato.\n",
    "3. Educación superior: El resto.\n",
    "\n",
    "Así que serían:\n",
    "1. Grupo 0: 0 (ninguno).\n",
    "2. Grupo 1: 1 (preescolar), 2 (primaria) y 3 (secundaria).\n",
    "2. Grupo 2: 5 (Estudios técnicos o comerciales con primaria terminada), 6 (Estudios técnicos o comerciales con secundaria terminada), 7 (Estudios técnicos o comerciales con preparatoria terminada) y 8 (Normal con primaria o secundaria terminada).\n",
    "3. Grupo 3: 9 (Normal licenciatura), 10 (Licenciatura o profesional) y 11 (Posgrado (Especialidad, Maestría o Doctorado)).\n",
    "\n"
   ]
  },
  {
   "cell_type": "code",
   "execution_count": 19,
   "metadata": {},
   "outputs": [],
   "source": [
    "seccionII_reg = ModificarColumnasValor(df=seccionII_reg, cols=['NIV'], valorR=[1,2,3], valorN=1)\n",
    "seccionII_reg = ModificarColumnasValor(df=seccionII_reg, cols=['NIV'], valorR=4, valorN=2)\n",
    "seccionII_reg = ModificarColumnasValor(df=seccionII_reg, cols=['NIV'], valorR=[5,6,7,8], valorN=3)\n",
    "seccionII_reg = ModificarColumnasValor(df=seccionII_reg, cols=['NIV'], valorR=[9,10,11], valorN=4)"
   ]
  },
  {
   "cell_type": "markdown",
   "metadata": {},
   "source": [
    "### Borrar columnas"
   ]
  },
  {
   "cell_type": "markdown",
   "metadata": {},
   "source": [
    "1. N_REN, REN_INF_AD, CODIGO y COD_M15 que son datos metodológicos.\n",
    "3. FN_DIA y FN_MES fecha de nacimiento día y  mes.no aportan información útil.\n",
    "4. NOMBRE sin registros.\n",
    "6. P2_16 se borra porque está reflejado en la variable _T\\_INSTRUM_."
   ]
  },
  {
   "cell_type": "code",
   "execution_count": 20,
   "metadata": {},
   "outputs": [],
   "source": [
    "labels = ['NOM_ENT', 'NOM_MUN', 'COD_RES', 'COD_RES_E', 'FN_DIA', 'FN_MES', 'NOMBRE', 'HOGAR', \n",
    "          'UPM', 'VIV_SEL', 'N_REN', 'REN_MUJ_EL', 'REN_INF_AD', 'FAC_VIV', 'FAC_MUJ',\n",
    "          'EST_DIS', 'UPM_DIS', 'CODIGO', 'COD_M15', 'PROG', 'P2_16']\n",
    "\n",
    "seccionII_reg = BorrarColumnas(df=seccionII_reg, cols=labels)"
   ]
  },
  {
   "cell_type": "markdown",
   "metadata": {},
   "source": [
    "Todos los que tienen NIV 0 (ninguna escolaridad) tienen GRA 0 (ningún grado). Por lo tanto, es correcto decir que si tienen NIV 0 tienen grado nulo."
   ]
  },
  {
   "cell_type": "code",
   "execution_count": 21,
   "metadata": {},
   "outputs": [],
   "source": [
    "seccionII_reg.loc[seccionII_reg[seccionII_reg.GRA==0].index, 'GRA'] = np.nan"
   ]
  },
  {
   "cell_type": "markdown",
   "metadata": {},
   "source": [
    "Al ser muy pocos valores en Residencia de la madre {0}, genera errores con el modelo. Se borran los registros.\n",
    "\n",
    " - P2_5 en 0 es que no sabe donde vive la mamá\n",
    "\n",
    "Un total de 717 registros menos en esta seccion pero 18 en la versión final."
   ]
  },
  {
   "cell_type": "code",
   "execution_count": 22,
   "metadata": {},
   "outputs": [],
   "source": [
    "seccionII_reg = seccionII_reg[seccionII_reg.P2_5!=0]"
   ]
  },
  {
   "cell_type": "raw",
   "metadata": {},
   "source": [
    "seccionII_reg = seccionII_reg[(seccionII_reg.GRA < 7)]"
   ]
  },
  {
   "cell_type": "markdown",
   "metadata": {},
   "source": [
    "### Guardar dataset"
   ]
  },
  {
   "cell_type": "code",
   "execution_count": 23,
   "metadata": {},
   "outputs": [],
   "source": [
    "seccionII_reg.reset_index(drop=True, inplace=True) #reajustar el índice"
   ]
  },
  {
   "cell_type": "raw",
   "metadata": {},
   "source": [
    "GuardarDataset(df=seccionII_reg, name='data/sec_ii.csv')"
   ]
  },
  {
   "cell_type": "markdown",
   "metadata": {},
   "source": [
    "## SECCIÓN III. ELEGIBILIDAD Y VERIFICACIÓN DE ESTADO CONYUGAL DE LA MUJER ELEGIDA DE 15 AÑOS O MÁS"
   ]
  },
  {
   "cell_type": "markdown",
   "metadata": {},
   "source": [
    "P3_{1,2,3,...,8} tiene informacion que se ve reflejada en la variable T_INSTRUM, por eso se deberían borrar todas.\n",
    "Ya que en la encuesta general se ve que con base en las preguntas se elige el futuro de T_INSTRUM.\n",
    "Por ello, no cargamos esta parte de la encuesta."
   ]
  },
  {
   "cell_type": "markdown",
   "metadata": {},
   "source": [
    "## SECCIÓN IX. ATENCIÓN OBSTÉTRICA"
   ]
  },
  {
   "cell_type": "markdown",
   "metadata": {},
   "source": [
    "### Cargar datos"
   ]
  },
  {
   "cell_type": "code",
   "execution_count": 24,
   "metadata": {},
   "outputs": [
    {
     "data": {
      "text/html": [
       "<div>\n",
       "<style scoped>\n",
       "    .dataframe tbody tr th:only-of-type {\n",
       "        vertical-align: middle;\n",
       "    }\n",
       "\n",
       "    .dataframe tbody tr th {\n",
       "        vertical-align: top;\n",
       "    }\n",
       "\n",
       "    .dataframe thead th {\n",
       "        text-align: right;\n",
       "    }\n",
       "</style>\n",
       "<table border=\"1\" class=\"dataframe\">\n",
       "  <thead>\n",
       "    <tr style=\"text-align: right;\">\n",
       "      <th></th>\n",
       "      <th>ID_VIV</th>\n",
       "      <th>ID_MUJ</th>\n",
       "      <th>UPM</th>\n",
       "      <th>REN_M_ELE</th>\n",
       "      <th>VIV_SEL</th>\n",
       "      <th>PROG</th>\n",
       "      <th>HOGAR</th>\n",
       "      <th>DOMINIO</th>\n",
       "      <th>CVE_ENT</th>\n",
       "      <th>NOM_ENT</th>\n",
       "      <th>...</th>\n",
       "      <th>P9_8_10</th>\n",
       "      <th>P9_8_11</th>\n",
       "      <th>P9_8_12</th>\n",
       "      <th>P9_8_13</th>\n",
       "      <th>P9_8_14</th>\n",
       "      <th>FAC_VIV</th>\n",
       "      <th>FAC_MUJ</th>\n",
       "      <th>ESTRATO</th>\n",
       "      <th>UPM_DIS</th>\n",
       "      <th>EST_DIS</th>\n",
       "    </tr>\n",
       "  </thead>\n",
       "  <tbody>\n",
       "    <tr>\n",
       "      <th>75966</th>\n",
       "      <td>2000717.01</td>\n",
       "      <td>2000717.01.01.02\\r</td>\n",
       "      <td>2000717</td>\n",
       "      <td>2</td>\n",
       "      <td>1</td>\n",
       "      <td>25</td>\n",
       "      <td>1</td>\n",
       "      <td>U\\r</td>\n",
       "      <td>20</td>\n",
       "      <td>Oaxaca\\r</td>\n",
       "      <td>...</td>\n",
       "      <td>NaN</td>\n",
       "      <td>NaN</td>\n",
       "      <td>NaN</td>\n",
       "      <td>NaN</td>\n",
       "      <td>NaN</td>\n",
       "      <td>232</td>\n",
       "      <td>232</td>\n",
       "      <td>2</td>\n",
       "      <td>11038</td>\n",
       "      <td>3590</td>\n",
       "    </tr>\n",
       "    <tr>\n",
       "      <th>86339</th>\n",
       "      <td>2202646.16</td>\n",
       "      <td>2202646.16.01.02\\r</td>\n",
       "      <td>2202646</td>\n",
       "      <td>2</td>\n",
       "      <td>16</td>\n",
       "      <td>184</td>\n",
       "      <td>1</td>\n",
       "      <td>C\\r</td>\n",
       "      <td>22</td>\n",
       "      <td>Queretaro\\r</td>\n",
       "      <td>...</td>\n",
       "      <td>NaN</td>\n",
       "      <td>NaN</td>\n",
       "      <td>NaN</td>\n",
       "      <td>NaN</td>\n",
       "      <td>NaN</td>\n",
       "      <td>169</td>\n",
       "      <td>169</td>\n",
       "      <td>2</td>\n",
       "      <td>12457</td>\n",
       "      <td>4040</td>\n",
       "    </tr>\n",
       "    <tr>\n",
       "      <th>20443</th>\n",
       "      <td>701531.02</td>\n",
       "      <td>0701531.02.01.01\\r</td>\n",
       "      <td>701531</td>\n",
       "      <td>1</td>\n",
       "      <td>2</td>\n",
       "      <td>6</td>\n",
       "      <td>1</td>\n",
       "      <td>U\\r</td>\n",
       "      <td>7</td>\n",
       "      <td>Chiapas\\r</td>\n",
       "      <td>...</td>\n",
       "      <td>NaN</td>\n",
       "      <td>NaN</td>\n",
       "      <td>NaN</td>\n",
       "      <td>NaN</td>\n",
       "      <td>NaN</td>\n",
       "      <td>294</td>\n",
       "      <td>294</td>\n",
       "      <td>2</td>\n",
       "      <td>3838</td>\n",
       "      <td>1090</td>\n",
       "    </tr>\n",
       "    <tr>\n",
       "      <th>29620</th>\n",
       "      <td>921801.03</td>\n",
       "      <td>0921801.03.01.01\\r</td>\n",
       "      <td>921801</td>\n",
       "      <td>1</td>\n",
       "      <td>3</td>\n",
       "      <td>54</td>\n",
       "      <td>1</td>\n",
       "      <td>U\\r</td>\n",
       "      <td>9</td>\n",
       "      <td>Ciudad de Mexico\\r</td>\n",
       "      <td>...</td>\n",
       "      <td>NaN</td>\n",
       "      <td>NaN</td>\n",
       "      <td>NaN</td>\n",
       "      <td>NaN</td>\n",
       "      <td>NaN</td>\n",
       "      <td>749</td>\n",
       "      <td>1498</td>\n",
       "      <td>4</td>\n",
       "      <td>5639</td>\n",
       "      <td>1560</td>\n",
       "    </tr>\n",
       "    <tr>\n",
       "      <th>853</th>\n",
       "      <td>100879.04</td>\n",
       "      <td>0100879.04.01.02\\r</td>\n",
       "      <td>100879</td>\n",
       "      <td>2</td>\n",
       "      <td>4</td>\n",
       "      <td>13</td>\n",
       "      <td>1</td>\n",
       "      <td>U\\r</td>\n",
       "      <td>1</td>\n",
       "      <td>Aguascalientes\\r</td>\n",
       "      <td>...</td>\n",
       "      <td>NaN</td>\n",
       "      <td>NaN</td>\n",
       "      <td>NaN</td>\n",
       "      <td>NaN</td>\n",
       "      <td>NaN</td>\n",
       "      <td>82</td>\n",
       "      <td>82</td>\n",
       "      <td>2</td>\n",
       "      <td>249</td>\n",
       "      <td>10</td>\n",
       "    </tr>\n",
       "  </tbody>\n",
       "</table>\n",
       "<p>5 rows × 61 columns</p>\n",
       "</div>"
      ],
      "text/plain": [
       "           ID_VIV              ID_MUJ      UPM  REN_M_ELE  VIV_SEL  PROG  \\\n",
       "75966  2000717.01  2000717.01.01.02\\r  2000717          2        1    25   \n",
       "86339  2202646.16  2202646.16.01.02\\r  2202646          2       16   184   \n",
       "20443   701531.02  0701531.02.01.01\\r   701531          1        2     6   \n",
       "29620   921801.03  0921801.03.01.01\\r   921801          1        3    54   \n",
       "853     100879.04  0100879.04.01.02\\r   100879          2        4    13   \n",
       "\n",
       "       HOGAR DOMINIO  CVE_ENT             NOM_ENT  ...  P9_8_10 P9_8_11  \\\n",
       "75966      1     U\\r       20            Oaxaca\\r  ...      NaN     NaN   \n",
       "86339      1     C\\r       22         Queretaro\\r  ...      NaN     NaN   \n",
       "20443      1     U\\r        7           Chiapas\\r  ...      NaN     NaN   \n",
       "29620      1     U\\r        9  Ciudad de Mexico\\r  ...      NaN     NaN   \n",
       "853        1     U\\r        1    Aguascalientes\\r  ...      NaN     NaN   \n",
       "\n",
       "       P9_8_12  P9_8_13 P9_8_14  FAC_VIV  FAC_MUJ  ESTRATO  UPM_DIS  EST_DIS  \n",
       "75966      NaN      NaN     NaN      232      232        2    11038     3590  \n",
       "86339      NaN      NaN     NaN      169      169        2    12457     4040  \n",
       "20443      NaN      NaN     NaN      294      294        2     3838     1090  \n",
       "29620      NaN      NaN     NaN      749     1498        4     5639     1560  \n",
       "853        NaN      NaN     NaN       82       82        2      249       10  \n",
       "\n",
       "[5 rows x 61 columns]"
      ]
     },
     "execution_count": 24,
     "metadata": {},
     "output_type": "execute_result"
    }
   ],
   "source": [
    "ruta_parcial = \"../../conjunto_de_datos_endireh_2016_csv/conjunto_de_datos_tb_sec_ix_endireh_2016/conjunto_de_datos/conjunto_de_datos_tb_sec_ix_endireh_2016.csv\"\n",
    "\n",
    "seccionIX = CargarPandasDataset(ruta_parcial)\n",
    "\n",
    "seccionIX.iloc[random.choices(range(seccionIX.shape[0]), k=5)]"
   ]
  },
  {
   "cell_type": "markdown",
   "metadata": {},
   "source": [
    "### 2. Preservar los datos de las embarazadas\n"
   ]
  },
  {
   "cell_type": "markdown",
   "metadata": {},
   "source": [
    "Borrar los registros de todas aquellas que repondieron que no estuvieron embarazadas entre Octubre 2011 hasta finales 2016 o que no se tenga resgistro de su respuesta. La manera fácil es solo preservar los registros de las que respondieron que sí estuvieron embarazadas en ese periodo de tiempo."
   ]
  },
  {
   "cell_type": "code",
   "execution_count": 25,
   "metadata": {},
   "outputs": [],
   "source": [
    "seccionIX = seccionIX[(seccionIX.P9_2 == 1)]"
   ]
  },
  {
   "cell_type": "markdown",
   "metadata": {},
   "source": [
    "En la pregunta 9.6. ¿En qué año fue su último parto? si el último parto fue antes del 2011, fue aborto (8888) o está embarazada (0000) por primera vez se pasa a la sección X. Se preservan aquellas que tuvieron embarazo después del 2010 y antes del 2017 (sin incluirlos).\n",
    "\n",
    "En la pregunta 9.7. ¿Dónde atendieron su último parto? si Nadie la atendió porque dio a luz sola (9) se pasa a la sección X. \n",
    "Por lo tanto se deben borrar los registros que no contestaron toda la sección."
   ]
  },
  {
   "cell_type": "code",
   "execution_count": 26,
   "metadata": {},
   "outputs": [],
   "source": [
    "seccionIX.drop(seccionIX[~(((seccionIX[\"P9_6\"]>2010.0) & (seccionIX[\"P9_6\"]<2017.0)) | (seccionIX[\"P9_7\"]==9))].index, axis=0, inplace=True)"
   ]
  },
  {
   "cell_type": "markdown",
   "metadata": {},
   "source": [
    "#### 2.2 Conservar solo los registros de hospitales públicos\n",
    "\n",
    "Borrar aquellos datos mayores al valor 5 (Hospital o Clínica privada, Consultorio Médico particular, En casa con partera o curandera(o), Nadie la atendió, dio a luz sola, Otro) y conservando 99 de datos sin registro."
   ]
  },
  {
   "cell_type": "code",
   "execution_count": 27,
   "metadata": {},
   "outputs": [],
   "source": [
    "seccionIX.drop(seccionIX[((seccionIX.P9_7 > 5) & (seccionIX.P9_7 < 20))].index, inplace = True)"
   ]
  },
  {
   "cell_type": "markdown",
   "metadata": {},
   "source": [
    "### 3. Agregar columnas"
   ]
  },
  {
   "cell_type": "markdown",
   "metadata": {},
   "source": [
    "#### Pregunta 1\n",
    "\n",
    "np.nan quedará como sin registro."
   ]
  },
  {
   "cell_type": "code",
   "execution_count": 28,
   "metadata": {},
   "outputs": [],
   "source": [
    "seccionIX.insert(24, \"P9_1\", np.nan) #agregar columna nueva que representa todas las respuestas con valor default nulo"
   ]
  },
  {
   "cell_type": "code",
   "execution_count": 29,
   "metadata": {},
   "outputs": [],
   "source": [
    "for i in range(1,10):\n",
    "    seccionIX.loc[seccionIX[F'P9_1_{i}']==1, 'P9_1'] = i-1 #reemplazar los valores en columna nueva"
   ]
  },
  {
   "cell_type": "markdown",
   "metadata": {},
   "source": [
    "#### Pregunta 5\n",
    "\n",
    "np.nan quedará como sin registro."
   ]
  },
  {
   "cell_type": "code",
   "execution_count": 30,
   "metadata": {},
   "outputs": [],
   "source": [
    "seccionIX.insert(41, \"P9_5\", np.nan) #agregar columna nueva que representa todas las respuestas con valor default nulo"
   ]
  },
  {
   "cell_type": "code",
   "execution_count": 31,
   "metadata": {},
   "outputs": [],
   "source": [
    "for i in range(1,12):\n",
    "    seccionIX.loc[seccionIX[F'P9_5_{i}']==1, 'P9_5'] = i-1 #reemplazar los valores en columna nueva"
   ]
  },
  {
   "cell_type": "markdown",
   "metadata": {},
   "source": [
    "### 3.2 Crear clasificación\n",
    "\n",
    "A partir de las respuestas de la pregunta 8, crear columna que va a servir de clasificación para los niveles de violencia obstétrica."
   ]
  },
  {
   "cell_type": "code",
   "execution_count": 32,
   "metadata": {},
   "outputs": [],
   "source": [
    "seccionIX_cls = InsertarColumnaNueva(df=seccionIX, nombreCol='P9_8', numeroCol=58, funcion=clasificacion)"
   ]
  },
  {
   "cell_type": "markdown",
   "metadata": {},
   "source": [
    "#### 3.2.1 Distribución de clases"
   ]
  },
  {
   "cell_type": "code",
   "execution_count": 33,
   "metadata": {},
   "outputs": [
    {
     "name": "stdout",
     "output_type": "stream",
     "text": [
      "Ninguno:\t64.6%\n",
      "Abuso y violencia:\t17.2%\n",
      "Atencion no autorizada:\t9.2%\n",
      "Ambos:\t9.0%\n"
     ]
    },
    {
     "data": {
      "image/png": "[encoded data removed]",
      "text/plain": [
       "<Figure size 1440x360 with 2 Axes>"
      ]
     },
     "metadata": {
      "needs_background": "light"
     },
     "output_type": "display_data"
    }
   ],
   "source": [
    "# obtengo las categorias y su cantidad de concurrencias\n",
    "ocurrencias = seccionIX_cls[\"P9_8\"].value_counts()\n",
    "# sumo el porcentaje con 1 decimal de 'Ambos' para ' Abuso y violencia' y 'Atencion no autorizada'\n",
    "oc_ambos = np.around(np.array([ocurrencias[0], ocurrencias[1]+ocurrencias[3], ocurrencias[2]+ocurrencias[3]])/ocurrencias.sum()*1000)/10\n",
    "# obtengo los porcentajes con 1 decimal de los tipos 'Ninguno', ' Abuso y violencia' y 'Atencion no autorizada'\n",
    "ocurrencias = np.around(ocurrencias/ocurrencias.sum()*1000)/10\n",
    "groups = ['Ninguno',  'Abuso y violencia', 'Atencion no autorizada', 'Ambos']\n",
    "\n",
    "# imprimo los porcentajes\n",
    "for i,j in zip(groups, ocurrencias):\n",
    "    print(f'{i}:\\t{j}%')\n",
    "\n",
    "fig, axes = plt.subplots(1, 2, figsize=(20, 5))\n",
    "\n",
    "# Grafico los tipos 'Ninguno', ' Abuso y violencia' y 'Atencion no autorizada' y 'Ambos' \n",
    "ax = sns.barplot(x=groups, y=ocurrencias, palette = 'Accent', ax=axes[0])\n",
    "for x, y in enumerate(ocurrencias):\n",
    "    ax.text(x, y+3, f'{y}%', ha='center')\n",
    "\n",
    "# Grafico los tipos 'Ninguno', ' Abuso y violencia' y 'Atencion no autorizada'. Aparte, 'Ambos' encima de los dos últimos para representar el valor total de estos tipos\n",
    "groups = ['Ninguno',  'Abuso y violencia', 'Atencion no autorizada']\n",
    "ax = sns.barplot(x=groups, y=oc_ambos, color = '#fff6a3', label='porcentaje de personas que sufrieron ambos tipos de violencia', ax=axes[1])\n",
    "sns.barplot(x=groups, y=ocurrencias[:-1], palette = 'Accent', ax=axes[1])\n",
    "for x, y in enumerate(oc_ambos):\n",
    "    ax.text(x, y+3, f'{y}%', ha='center')\n",
    "\n",
    "for ax in axes:\n",
    "    ax.set_xlabel('Tipos de violencia', fontsize=14)\n",
    "    ax.set_ylabel('Porcentajes', fontsize=14)\n",
    "    ax.set_ylim([0, 100])\n",
    "\n",
    "axes[0].set_title('Las 4 categorías de violencia', fontsize=15)\n",
    "axes[1].set_title('Las 3 categorías de violencia agregando la cantidad de ambos', fontsize=15)\n",
    "plt.legend()\n",
    "plt.show()"
   ]
  },
  {
   "cell_type": "code",
   "execution_count": 34,
   "metadata": {},
   "outputs": [
    {
     "data": {
      "image/png": "[encoded data removed]",
      "text/plain": [
       "<Figure size 720x720 with 1 Axes>"
      ]
     },
     "metadata": {},
     "output_type": "display_data"
    }
   ],
   "source": [
    "ocurrencias = seccionIX_cls[\"P9_8\"].value_counts()\n",
    "ocurrencias = np.around(ocurrencias/ocurrencias.sum()*1000)/10\n",
    "fig = plt.figure(figsize=(10, 10), facecolor='#ebeae8')\n",
    "v = vplt.venn2(subsets={'10':ocurrencias[1], '01':ocurrencias[2], '11':ocurrencias[3]}, set_labels=['Abuso y violencia', 'Atencion no autorizada'], set_colors=('#e89ff5', '#9ff5f1'), alpha = 0.7)\n",
    "plt.text(0.5, 0.4, f\"Ninguno\\n\\n   {ocurrencias[0]}\", fontdict={'size':12})\n",
    "plt.show()"
   ]
  },
  {
   "cell_type": "markdown",
   "metadata": {},
   "source": [
    "### Cambiar los años de último embarazo a años pequeños"
   ]
  },
  {
   "cell_type": "code",
   "execution_count": 35,
   "metadata": {},
   "outputs": [],
   "source": [
    "seccionIX_cls['P9_6'] = seccionIX_cls['P9_6']-2010"
   ]
  },
  {
   "cell_type": "markdown",
   "metadata": {},
   "source": [
    "### Política de datos faltantes"
   ]
  },
  {
   "cell_type": "markdown",
   "metadata": {},
   "source": [
    "En las columnas correspondientes a la pregunta 9.4. Resultado de ese (esos) embarazo(s) tiene valores 99 que significa que no cuenta con el registro original. Basandose en la posible respuesta de la pregunta 9.3. ¿Cuántos embarazos tuvo durante ese periodo? cambiaré a datos np.nan."
   ]
  },
  {
   "cell_type": "code",
   "execution_count": 36,
   "metadata": {},
   "outputs": [],
   "source": [
    "for i in range(1,4):\n",
    "    seccionIX_cls = ModificarColumnasValor(df=seccionIX_cls, cols=[f'P9_4_{i}'], valorR=99, valorN=np.nan)"
   ]
  },
  {
   "cell_type": "markdown",
   "metadata": {},
   "source": [
    "Segun el catalogo de esta variable, 99 significa que no se tiene registro, asi que se le pone el valor np.nan."
   ]
  },
  {
   "cell_type": "code",
   "execution_count": 37,
   "metadata": {},
   "outputs": [],
   "source": [
    "seccionIX_cls = ModificarColumnasValor(df=seccionIX_cls, cols=[\"P9_7\"], valorR=99, valorN=np.nan)"
   ]
  },
  {
   "cell_type": "markdown",
   "metadata": {},
   "source": [
    "Hay registros que todas las preguntas de la sección P9_8 tienen registros nulos. Estos son los que en P9_8_11 son nulos."
   ]
  },
  {
   "cell_type": "code",
   "execution_count": 38,
   "metadata": {},
   "outputs": [],
   "source": [
    "seccionIX_cls.drop(seccionIX_cls[(seccionIX_cls.P9_8_11!=2)&(seccionIX_cls.P9_8_11!=1)].index, axis=0, inplace=True)"
   ]
  },
  {
   "cell_type": "markdown",
   "metadata": {},
   "source": [
    "### Borrar columnas"
   ]
  },
  {
   "cell_type": "markdown",
   "metadata": {},
   "source": [
    "1. P9_2 porque tienen un único valor.\n",
    "2. P9_8_{1,2,3,...,10,12} porque son los datos usados para crear la categoría de violencia.\n",
    "3. P9_1_{1,2,3,...,9} y P9_5_{1,2,3,...,11} que se usaron para crear las columnas P9_1 y P9_5.\n"
   ]
  },
  {
   "cell_type": "code",
   "execution_count": 39,
   "metadata": {},
   "outputs": [],
   "source": [
    "labels = ['NOM_ENT', 'NOM_MUN', 'COD_RES_MU', 'COD_RES', 'P9_2']\n",
    "labels.extend([f'P9_1_{i}' for i in range(1,10)])\n",
    "labels.extend([f'P9_5_{i}' for i in range(1,12)])\n",
    "labels.extend([f'P9_8_{i}' for i in range(1,15)])\n",
    "\n",
    "seccionIX_cls = BorrarColumnas(df=seccionIX_cls, cols=labels)"
   ]
  },
  {
   "cell_type": "markdown",
   "metadata": {},
   "source": [
    "### Guardar dataset"
   ]
  },
  {
   "cell_type": "code",
   "execution_count": 40,
   "metadata": {},
   "outputs": [],
   "source": [
    "seccionIX_cls.reset_index(drop=True, inplace=True) #reajustar el índice"
   ]
  },
  {
   "cell_type": "raw",
   "metadata": {},
   "source": [
    "GuardarDataset(df=seccionIX_cls, name='data/sec_ix.csv')"
   ]
  },
  {
   "cell_type": "markdown",
   "metadata": {},
   "source": [
    "# Overall"
   ]
  },
  {
   "cell_type": "markdown",
   "metadata": {},
   "source": [
    "## Unir datasets"
   ]
  },
  {
   "cell_type": "code",
   "execution_count": 41,
   "metadata": {},
   "outputs": [],
   "source": [
    "result = pd.merge(seccionI, seccionII_reg, how=\"inner\")\n",
    "result = pd.merge(result, seccionIX_cls, how=\"inner\")"
   ]
  },
  {
   "cell_type": "markdown",
   "metadata": {},
   "source": [
    "### Borrar columnas\n",
    "\n",
    "1. ID_MUJ no es necesario ya que no necesitamos identificar a las mujeres y son caracteres unicos para cada registro.\n",
    "2. ID_VIV son caracteres unicos para cada registro.\n",
    "3. VIV_SEL y HOGAR no tiene sentido sin ID_VIV.\n",
    "4. UPM (unidad primaria de muestreo), UPM_DIS (UPM de diseño), EST_DIS (estrato de diseño), REN_MUJ_ELE, REN_M_ELE (renglon de la mujer elegida), COD_RES_E, COD_RES_MU (resultado de entrevista a mujer elegida) y COD_RES (resultado de la visita a la vivienda) se pueden omitir al ser dato de la tecnica de muestreo y no de la mujer.\n",
    "5. FAC_VIV es Ponderador que se utiliza para estimar resultados de las preguntas que se refieren a las viviendas y la población en general\n",
    "6. FAC_MUJ es Ponderador que se utiliza para estimar resultados de las preguntas que se refieren a las mujeres de 15 años y más\n",
    "7. [Prog](ttps://www.google.com/search?channel=fs&client=ubuntu&q=inegi+que+es+Progresivo+de+la+vivienda+seleccionada) sirve para identificar físicamente, sobre el terreno, la vivienda seleccionada.\n",
    "8. NOM_ENT y NOM_MUN porque ya se tienen la clave.\n",
    "9. SEXO tiene un solo valor.\n",
    "10. CVE_MUN La clave de municipio depende del estado, habiendo un total de 32 municipios registrados como 1."
   ]
  },
  {
   "cell_type": "code",
   "execution_count": 42,
   "metadata": {},
   "outputs": [],
   "source": [
    "result = BorrarColumnas(df=result, cols=[\"ID_MUJ\", 'ID_VIV', \"VIV_SEL\", \"HOGAR\", \"UPM\", 'UPM_DIS', \"REN_M_ELE\", 'EST_DIS',\n",
    "                                         'FAC_VIV', 'FAC_MUJ', 'PROG', 'SEXO', 'CVE_MUN'])"
   ]
  },
  {
   "cell_type": "markdown",
   "metadata": {},
   "source": [
    "### Borrar registros\n",
    "\n",
    "1. Hay un registro que no sufrió violencia obstétrica donde varios valores no fueron capturados (los 9 yy 99)."
   ]
  },
  {
   "cell_type": "code",
   "execution_count": 43,
   "metadata": {},
   "outputs": [
    {
     "data": {
      "text/html": [
       "<div>\n",
       "<style scoped>\n",
       "    .dataframe tbody tr th:only-of-type {\n",
       "        vertical-align: middle;\n",
       "    }\n",
       "\n",
       "    .dataframe tbody tr th {\n",
       "        vertical-align: top;\n",
       "    }\n",
       "\n",
       "    .dataframe thead th {\n",
       "        text-align: right;\n",
       "    }\n",
       "</style>\n",
       "<table border=\"1\" class=\"dataframe\">\n",
       "  <thead>\n",
       "    <tr style=\"text-align: right;\">\n",
       "      <th></th>\n",
       "      <th>P2_9</th>\n",
       "      <th>NIV</th>\n",
       "      <th>P2_11</th>\n",
       "      <th>P2_13</th>\n",
       "    </tr>\n",
       "  </thead>\n",
       "  <tbody>\n",
       "    <tr>\n",
       "      <th>5255</th>\n",
       "      <td>9.0</td>\n",
       "      <td>99.0</td>\n",
       "      <td>9.0</td>\n",
       "      <td>9.0</td>\n",
       "    </tr>\n",
       "  </tbody>\n",
       "</table>\n",
       "</div>"
      ],
      "text/plain": [
       "      P2_9   NIV  P2_11  P2_13\n",
       "5255   9.0  99.0    9.0    9.0"
      ]
     },
     "execution_count": 43,
     "metadata": {},
     "output_type": "execute_result"
    }
   ],
   "source": [
    "result[result['P2_9']==9][['P2_9','NIV','P2_11','P2_13']]"
   ]
  },
  {
   "cell_type": "code",
   "execution_count": 44,
   "metadata": {},
   "outputs": [],
   "source": [
    "result.drop(index=result[result['P2_9']==9].index, axis=0, inplace=True)"
   ]
  },
  {
   "cell_type": "code",
   "execution_count": 45,
   "metadata": {},
   "outputs": [],
   "source": [
    "result.reset_index(drop=True, inplace=True) #reajustar el índice"
   ]
  },
  {
   "cell_type": "markdown",
   "metadata": {},
   "source": [
    "### Quitar caracteres especiales\n",
    "\n",
    "Convierto las columnas de texto a numeros"
   ]
  },
  {
   "cell_type": "code",
   "execution_count": 46,
   "metadata": {},
   "outputs": [],
   "source": [
    "encoder = OrdinalEncoder()"
   ]
  },
  {
   "cell_type": "code",
   "execution_count": 47,
   "metadata": {},
   "outputs": [
    {
     "data": {
      "text/plain": [
       "[array(['C\\r', 'R\\r', 'U\\r'], dtype=object)]"
      ]
     },
     "execution_count": 47,
     "metadata": {},
     "output_type": "execute_result"
    }
   ],
   "source": [
    "result['DOMINIO'] = encoder.fit_transform(result[['DOMINIO']])\n",
    "encoder.categories_"
   ]
  },
  {
   "cell_type": "code",
   "execution_count": 48,
   "metadata": {},
   "outputs": [
    {
     "data": {
      "text/plain": [
       "[array(['A1\\r', 'A2\\r', 'B1\\r', 'B2\\r', 'C1\\r', 'C2\\r'], dtype=object)]"
      ]
     },
     "execution_count": 48,
     "metadata": {},
     "output_type": "execute_result"
    }
   ],
   "source": [
    "result['T_INSTRUM'] = encoder.fit_transform(result[['T_INSTRUM']])\n",
    "encoder.categories_"
   ]
  },
  {
   "cell_type": "markdown",
   "metadata": {},
   "source": [
    "### Cambiar edades a rangos\n",
    "Para la interpretabilidad se hacen rangos de cada 5 años.\n",
    "\n",
    "\n",
    "|  Código  | Región     |\n",
    "|:--------:|:----------:|\n",
    "| 0        | 15 a 19    |\n",
    "| 1        | 20 a 24    |\n",
    "| 2        | 25 a 29    |\n",
    "| 3        | 30 a 34    |\n",
    "| 4        | 35 a 39    |\n",
    "| 5        | 40 a 44    |\n",
    "| 6        | 45 a 49    |"
   ]
  },
  {
   "cell_type": "code",
   "execution_count": 49,
   "metadata": {},
   "outputs": [],
   "source": [
    "for i in range(7):\n",
    "    actual = i*5 + 15\n",
    "    result.loc[result[(result[\"EDAD\"]>=actual) & (result[\"EDAD\"]<actual+5)].index, \"EDAD\"] = i"
   ]
  },
  {
   "cell_type": "markdown",
   "metadata": {},
   "source": [
    "## Acomodar columnas"
   ]
  },
  {
   "cell_type": "markdown",
   "metadata": {},
   "source": [
    "Para una visioón estética del dataset se dejan las columnas con nombres indicando el tipo de pregunta que representa para el final."
   ]
  },
  {
   "cell_type": "code",
   "execution_count": 50,
   "metadata": {},
   "outputs": [],
   "source": [
    "# las columnas en el orden actual\n",
    "columnas = list(result.columns)\n",
    "\n",
    "# columnas que pasare al inicio del dataframe\n",
    "columnas_al_principio = ['CVE_ENT', 'REGION', 'DOMINIO', 'T_INSTRUM', 'ESTRATO']\n",
    "\n",
    "# quitar las columnas del lugar actual\n",
    "for i in columnas_al_principio:\n",
    "    columnas.remove(i)\n",
    "\n",
    "# pasar al inicio de las columnas\n",
    "columnas = columnas_al_principio+columnas\n",
    "    \n",
    "result = result[columnas]"
   ]
  },
  {
   "cell_type": "markdown",
   "metadata": {},
   "source": [
    "### Cambiar nombre de columna\n",
    "\n",
    "Para que los nombres sean más descriptivos en los resultados."
   ]
  },
  {
   "cell_type": "code",
   "execution_count": 51,
   "metadata": {},
   "outputs": [],
   "source": [
    "columns = {'P1_1': 'PISOS', 'P1_3': 'FOCOS', 'P1_5': 'AGUA', 'P1_6': 'DRENAJE', 'P2_5': 'RES_MADRE', 'P2_6': 'RES_PADRE', 'NIV': 'ESCOLARIDAD', \n",
    "           'P2_8': 'ALFABETISMO', 'P2_9': 'ASISTENCIA_ESC', 'P2_10': 'PERT_INDIGENA', 'P2_11': 'LENG_INDIGENA', 'P2_12': 'LENG_ESPAÑOL',\n",
    "           'P2_13': 'TRABAJO', 'P9_4_1': 'NACIO_VIV', 'P9_4_2': 'NACIO_MUERT', 'P9_4_3': 'ABORTO'}\n",
    "\n",
    "result.rename(columns = columns, inplace = True)"
   ]
  },
  {
   "cell_type": "markdown",
   "metadata": {},
   "source": [
    "### Hacer columnas categóricas empiecen en 0"
   ]
  },
  {
   "cell_type": "code",
   "execution_count": 52,
   "metadata": {},
   "outputs": [],
   "source": [
    "columnas_no_modificar = ['P1_2','P1_2_A','FOCOS','P1_7','P1_9', 'P9_3','NACIO_VIV','NACIO_MUERT','ABORTO','P9_8',\n",
    "                         'REGION', 'DOMINIO',\n",
    "                         'T_INSTRUM', 'EDAD', 'RES_PADRE', 'ALFABETISMO', 'ASISTENCIA_ESC', 'ESCOLARIDAD',\n",
    "                         'LENG_INDIGENA','LENG_ESPAÑOL', 'TRABAJO', 'P2_14', 'P2_15', 'P9_1', 'P9_5']\n",
    "columnas_no_modificar.extend([f'P1_4_{i}' for i in range(1, 10)])\n",
    "columnas_no_modificar.extend([f'P1_10_{i}' for i in range(1, 5)])\n",
    "\n",
    "for col in result.columns:\n",
    "    if col not in columnas_no_modificar:\n",
    "        result[col] = result[col]-1"
   ]
  },
  {
   "cell_type": "markdown",
   "metadata": {},
   "source": [
    "El datset resultante tiene los datos flotantes, cambiamos a enteros."
   ]
  },
  {
   "cell_type": "code",
   "execution_count": 53,
   "metadata": {},
   "outputs": [],
   "source": [
    "columnas_nan = ['P1_10_1', 'P1_10_2', 'P1_10_3', 'P1_10_4', 'LENG_ESPAÑOL', 'P2_14', 'P2_15', 'P9_1', 'NACIO_VIV', 'NACIO_MUERT', 'ABORTO', 'P9_5', 'GRA']\n",
    "\n",
    "for col in result.columns:\n",
    "    if col not in columnas_nan:\n",
    "        result[col] = result[col].astype(int)"
   ]
  },
  {
   "cell_type": "markdown",
   "metadata": {},
   "source": [
    "### Guardar dataset"
   ]
  },
  {
   "cell_type": "code",
   "execution_count": 54,
   "metadata": {},
   "outputs": [],
   "source": [
    "GuardarDataset(df=result, name='data/endireh.csv')"
   ]
  },
  {
   "cell_type": "code",
   "execution_count": 55,
   "metadata": {},
   "outputs": [
    {
     "name": "stdout",
     "output_type": "stream",
     "text": [
      "P1_10_1 18098\n",
      "P1_10_2 18098\n",
      "P1_10_3 18098\n",
      "P1_10_4 18098\n",
      "GRA 297\n",
      "LENG_ESPAÑOL 17459\n",
      "P2_14 6296\n",
      "P2_15 11947\n",
      "P9_1 988\n",
      "NACIO_VIV 11\n",
      "NACIO_MUERT 9\n",
      "ABORTO 9\n",
      "P9_5 32\n"
     ]
    }
   ],
   "source": [
    "for col,nan in zip(result.columns,list(result.isnull().sum())):\n",
    "    if nan != 0: print(col, nan)"
   ]
  },
  {
   "cell_type": "code",
   "execution_count": 56,
   "metadata": {},
   "outputs": [
    {
     "data": {
      "text/plain": [
       "(18882, 49)"
      ]
     },
     "execution_count": 56,
     "metadata": {},
     "output_type": "execute_result"
    }
   ],
   "source": [
    "result.shape"
   ]
  },
  {
   "cell_type": "code",
   "execution_count": 57,
   "metadata": {},
   "outputs": [
    {
     "data": {
      "text/plain": [
       "Index(['CVE_ENT', 'REGION', 'DOMINIO', 'T_INSTRUM', 'ESTRATO', 'PISOS', 'P1_2',\n",
       "       'P1_2_A', 'FOCOS', 'P1_4_1', 'P1_4_2', 'P1_4_3', 'P1_4_4', 'P1_4_5',\n",
       "       'P1_4_6', 'P1_4_7', 'P1_4_8', 'P1_4_9', 'AGUA', 'DRENAJE', 'P1_7',\n",
       "       'P1_9', 'P1_10_1', 'P1_10_2', 'P1_10_3', 'P1_10_4', 'PAREN', 'EDAD',\n",
       "       'RES_MADRE', 'RES_PADRE', 'ESCOLARIDAD', 'GRA', 'ALFABETISMO',\n",
       "       'ASISTENCIA_ESC', 'PERT_INDIGENA', 'LENG_INDIGENA', 'LENG_ESPAÑOL',\n",
       "       'TRABAJO', 'P2_14', 'P2_15', 'P9_1', 'P9_3', 'NACIO_VIV', 'NACIO_MUERT',\n",
       "       'ABORTO', 'P9_5', 'P9_6', 'P9_7', 'P9_8'],\n",
       "      dtype='object')"
      ]
     },
     "execution_count": 57,
     "metadata": {},
     "output_type": "execute_result"
    }
   ],
   "source": [
    "result.columns"
   ]
  },
  {
   "cell_type": "markdown",
   "metadata": {},
   "source": [
    "# Descripción de los datos resultantes"
   ]
  },
  {
   "cell_type": "markdown",
   "metadata": {},
   "source": [
    "## General\n",
    "\n",
    "1. CVE_ENT:     clave de entidad federativo (estado). Del 1 al 32.\n",
    "3. REGION:      region geográfica creada en esta libreta. Del 0 al 7.\n",
    "4. DOMINIO:     si vive en área urbana, semiurbana o rural. Del 0 al 2.\n",
    "5. T_INSTRUM:   situación ormántica de la mujer elegida. Del 0 al 5.\n",
    "5. ESTRATO;     representa la entidad, el ámbito geográfico y el estrato socioeconómico."
   ]
  },
  {
   "cell_type": "markdown",
   "metadata": {},
   "source": [
    "## SECCIÓN I. CARACTERÍSTICAS DE LA VIVIENDA Y HOGARES EN LA VIVIENDA\n",
    "\n",
    "1. PISOS:        material del piso en la vivienda. Del 1 al 3.\n",
    "2. P1_2:         cantidad de cuartos para dormir. Del 1 al 9.\n",
    "3. P1_2_a:       cantidad de cuartos en la vivienda. Del 1 al 20.\n",
    "4. FOCOS:        número de focos. Del 1 al 98.\n",
    "5. P1_4:\n",
    "    1. P1_4_1:   tiene aparato para oír radio. 0 o 1.\n",
    "    6. P1_4_2:   tiene television. 0 o 1.\n",
    "    7. P1_4_3:   tiene computadora. 0 o 1.\n",
    "    8. P1_4_4:   tiene linea telefonica fija. 0 o 1.\n",
    "    9. P1_4_5:   tiene telefono celular. 0 o 1.\n",
    "    10. P1_4_6:  tiene refrigerador. 0 o 1.\n",
    "    11. P1_4_7:  tiene lavadora. 0 o 1.\n",
    "    12. P1_4_8:  tiene auto o camioneta. 0 o 1.\n",
    "    13. P1_4_9:  tiene servicio de internet. 0 o 1.\n",
    "14. AGUA:        tipos de acceso a agua que tienen en la vivienda. Del 1 al 6.\n",
    "15. DRENAJE:     tipos de acceso a drenaje que tienen en la vivienda. Del 1 al 5.\n",
    "16. P1_7:        cantidad de personas que viven en la vivienda. Del 1 a 25.\n",
    "17. P1_9:        cuantos grupos de personas comparten gastos en la vivienda. Del 1 al 6.\n",
    "18. P1_10:\n",
    "    18. P1_10_1: comparten la renta. 0 o 1.\n",
    "    19. P1_10_2: comparten gastos de servicios. 0 o 1.\n",
    "    20. P1_10_3: comparten otros gastos. 0 o 1.\n",
    "    21. P1_10_4: no comparten gastos. 0 o 1."
   ]
  },
  {
   "cell_type": "markdown",
   "metadata": {},
   "source": [
    "## SECCIÓN II. CARACTERÍSTICAS SOCIODEMOGRÁFICAS DE RESIDENTES DE LA VIVIENDA\n",
    "\n",
    "1. PAREN:       parentezco de la mujer elegida a el/la jefe/jefa del hogar. Del 1 al 9.\n",
    "2. EDAD:        rango de edad de la mujer elegida creado en esta libreta. Del 0 al 6.\n",
    "3. RES_MADRE:   residencia de la madre (categorias creadas en esta libreta). Del 0 al 3.\n",
    "4. RES_PADRE:   residencia del padre (categorias creadas en esta libreta). Del 0 al 3.\n",
    "5. ESCOLARIDAD: último nivel de estudios cursado. Del 0 al 11.\n",
    "6. GRA:         último grado de estudios cursado. Del 1 al 9.\n",
    "7. ALFABETISMO: si sabe leer y escribir un recado. 0 o 1.\n",
    "8. ASISTENCIA_ESC: si asiste actualmente a la escuela. 0 o 1.\n",
    "9. PERT_INDIGENA:  si se considera indígene. 1 (si), 2 (si en parte), 3 (no) y 8 (no sabe).\n",
    "10. LENG_INDIGENA:  si habla alguna lengua indígena. 0 o 1.\n",
    "11. LENG_ESPAÑOL:  si habla español. 0, 1 0 2.\n",
    "12. TRABAJO:    si trabajó la semana pasada. 0 o 1.\n",
    "13. P2_14:      verificación de condición de actividad. Del 0 al 12.\n",
    "14. P2_15:      posición en la ocupación. Del 0 al 6."
   ]
  },
  {
   "cell_type": "markdown",
   "metadata": {},
   "source": [
    "## SECCIÓN IX. ATENCIÓN OBSTÉTRICA\n",
    "\n",
    "1. P9_1:        afiliación a servicios médicos. Del 0 al 9.\n",
    "2. P9_3:        embarazos que tuvo durante el periodo de la encuesta. del 1 al 7.\n",
    "3. NACIO_VIV:   cuantos partos el resultado nació vivo. Del 0 al 12.\n",
    "4. NACIO_MUERT: cuantos partos el resultado nació muerto. Del 0 al 7.\n",
    "5. ABORTO:      cuantos partos el resultado fue aborto. Del 0 al 7.\n",
    "6. P9_5:        servicio médico donde atendió consultas prenatales. Del 0 al 11.\n",
    "7. P9_6:        año del último parto. Del 1 al 6 representando del 2011 al 2016.\n",
    "8. P9_7:        donde se atendió el parto. Del 0 al 5.\n",
    "10. P9_8:       tipo de violencia sufrida. 0 (no sufrio violencia), 1 (abuso y violencia), 2 (atencion no autorizada) y 3 (ambas)."
   ]
  }
 ],
 "metadata": {
  "kernelspec": {
   "display_name": "Python 3",
   "language": "python",
   "name": "python3"
  },
  "language_info": {
   "codemirror_mode": {
    "name": "ipython",
    "version": 3
   },
   "file_extension": ".py",
   "mimetype": "text/x-python",
   "name": "python",
   "nbconvert_exporter": "python",
   "pygments_lexer": "ipython3",
   "version": "3.6.9"
  }
 },
 "nbformat": 4,
 "nbformat_minor": 4
}
