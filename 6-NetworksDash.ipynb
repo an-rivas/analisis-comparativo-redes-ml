{
 "cells": [
  {
   "cell_type": "code",
   "execution_count": 1,
   "metadata": {},
   "outputs": [],
   "source": [
    "import plotly.graph_objects as go\n",
    "import plotly.express as px\n",
    "from plotly.subplots import make_subplots\n",
    "#import igviz as ig\n",
    "from jupyter_dash import JupyterDash\n",
    "from dash.dependencies import Input, Output, State\n",
    "from dash import html\n",
    "from dash import dcc\n",
    "import matplotlib.pyplot as plt\n",
    "from matplotlib import cm\n",
    "from matplotlib.colors import to_hex\n",
    "\n",
    "import numpy as np\n",
    "import pandas as pd \n",
    "from sklearn.preprocessing import MinMaxScaler\n",
    "import networkx as nx"
   ]
  },
  {
   "cell_type": "code",
   "execution_count": 2,
   "metadata": {},
   "outputs": [],
   "source": [
    "import warnings\n",
    "warnings.filterwarnings(\"ignore\")"
   ]
  },
  {
   "cell_type": "code",
   "execution_count": 3,
   "metadata": {},
   "outputs": [],
   "source": [
    "scaler = MinMaxScaler()\n",
    "dominio_encoder = {'nacional':'Nacional', 'dom_0':'Semi urbano', 'dom_1':'Rural', 'dom_2':'Urbano'}"
   ]
  },
  {
   "cell_type": "markdown",
   "metadata": {},
   "source": [
    "https://github.com/Ashton-Sidhu/plotly-graph igviz doc\n",
    "\n",
    "Crear los nodos y eso\n",
    "https://towardsdatascience.com/plotly-meets-scientific-visualization-8c2074f032cb, https://plotly.com/python/network-graphs/ y https://stackoverflow.com/questions/74607000/python-networkx-plotly-how-to-display-edges-mouse-over-text\n",
    "\n",
    "subplots: https://stackoverflow.com/a/67291224"
   ]
  },
  {
   "cell_type": "markdown",
   "metadata": {},
   "source": [
    "### Checar otra forma de graficar que sea estático.\n",
    "\n",
    "### Crear visualización por dominio\n",
    "1. Leer los grafos por dominio\n",
    "2. Crear check por si quiere ver nacional, semiurbano, rural o urbano.\n",
    "3. Graficar el grafo correspondiente.\n",
    "\n"
   ]
  },
  {
   "cell_type": "markdown",
   "metadata": {},
   "source": [
    "# Creo la red"
   ]
  },
  {
   "cell_type": "markdown",
   "metadata": {},
   "source": [
    "## Cargo los datos"
   ]
  },
  {
   "cell_type": "code",
   "execution_count": 4,
   "metadata": {
    "scrolled": true
   },
   "outputs": [],
   "source": [
    "degree_centrality_sorted = pd.read_csv('data/degree_centrality_sorted.csv')\n",
    "degree_centrality_values = pd.read_csv('data/degree_centrality_values.csv', index_col='Unnamed: 0')\n",
    "degree_centrality_ranking = pd.read_csv('data/degree_centrality_ranking.csv', index_col='Unnamed: 0')\n",
    "pagerank_sorted = pd.read_csv('data/pagerank_sorted.csv')\n",
    "pagerank_values = pd.read_csv('data/pagerank_values.csv', index_col='Unnamed: 0')\n",
    "pagerank_ranking = pd.read_csv('data/pagerank_ranking.csv', index_col='Unnamed: 0')"
   ]
  },
  {
   "cell_type": "markdown",
   "metadata": {},
   "source": [
    "## Cargar grafos"
   ]
  },
  {
   "cell_type": "code",
   "execution_count": null,
   "metadata": {},
   "outputs": [],
   "source": [
    "nac = nx.read_gpickle('data/Nacional.gpickle')\n",
    "regiones = []\n",
    "for nom in list(dominio_encoder.values())[1:]:\n",
    "    regiones.append(nx.read_gpickle(f'data/{nom}.gpickle'))"
   ]
  },
  {
   "cell_type": "markdown",
   "metadata": {},
   "source": [
    "Obtengo las coordenadas 2D del layout semiurbano (porque este tiene la mayoría de las variables necesarias)"
   ]
  },
  {
   "cell_type": "raw",
   "metadata": {},
   "source": [
    "coords_dict = nx.spring_layout(nac,seed=5)"
   ]
  },
  {
   "cell_type": "markdown",
   "metadata": {},
   "source": [
    "## Graficar el grafo"
   ]
  },
  {
   "cell_type": "code",
   "execution_count": 12,
   "metadata": {},
   "outputs": [],
   "source": [
    "def obtener_puntos_para_graficar_texto_sobre_aristas(a, b, num_puntos):\n",
    "    longitud_sublinea = (b-a)/(num_puntos+1)\n",
    "    puntos = []\n",
    "    \n",
    "    for i in range(num_puntos):\n",
    "        puntos.append(a+longitud_sublinea*(i+1))\n",
    "    \n",
    "    return puntos"
   ]
  },
  {
   "cell_type": "raw",
   "metadata": {},
   "source": [
    "for nombre,graph in zip(['nacional','dom0','dom1','dom2'],(nac, regiones[0], regiones[1], regiones[2])):\n",
    "    print(f'\\nColumnas de {nombre}')\n",
    "    for col in pesos_nac.columns:\n",
    "        if col not in nx.spring_layout(graph,seed=5).keys():\n",
    "            print(col)"
   ]
  },
  {
   "cell_type": "code",
   "execution_count": 13,
   "metadata": {},
   "outputs": [],
   "source": [
    "#def crear_layout_para_visualizar_grafo(G1, coords_dict, color, color_method, titulo, region, metrica, num_puntos_edge=5):\n",
    "def crear_layout_para_visualizar_grafo(G1, color, color_method, titulo, region, metrica,\n",
    "                                       num_puntos_edge=5):\n",
    "    ## step2: set the dictionary as the attribute of the node\n",
    "    #nx.set_node_attributes(G1,coords_dict,'coord')\n",
    "    nx.set_node_attributes(G1,nx.spring_layout(G1,seed=5),'coord')\n",
    "    \n",
    "    # step3: draw the nodes, in plotly we call nodes or edges trace\n",
    "    node_x = []   # store x coordinates\n",
    "    node_y = []   # store y coordinates\n",
    "    node_text = [] # store text when mouse hovers over the node\n",
    "    for node,node_attr_dict in G1.nodes(data=True):  # recall anatomy \n",
    "        x,y = node_attr_dict['coord']\n",
    "        node_x.append(x)\n",
    "        node_y.append(y)\n",
    "        #aqui haria texto de lo que quiero que muestre (node, degree, centralidad, ...)\n",
    "        if metrica == 'centralidad':\n",
    "            valor = node_attr_dict['centralidad']\n",
    "            node_text.append(f'Nodo: {node}\\nCentralidad de grado: {valor}') \n",
    "        else:\n",
    "            valor = node_attr_dict['pagerank']\n",
    "            node_text.append(f'Nodo: {node}\\nPagerank: {valor}') \n",
    "    node_trace = go.Scatter(name='nodes',\n",
    "                            x=node_x,\n",
    "                            y=node_y,\n",
    "                            mode='markers',\n",
    "                            hoverinfo='text',\n",
    "                            text=node_text,\n",
    "                            marker=dict( #esto determina el color del nodo\n",
    "                                        color=color_method,\n",
    "                                        colorscale=color,\n",
    "                                        size=18,\n",
    "                                        showscale=True,\n",
    "                                        colorbar=dict(\n",
    "                                            title='Centralidad de grado' if metrica=='centralidad' else 'Pagerank',\n",
    "                                            titleside='right',\n",
    "                                            thickness=15,\n",
    "                                            xanchor='left'),\n",
    "                                       )\n",
    "                           )\n",
    "    # step 4: draw the edges and mid point for info\n",
    "    edge_x, edge_y = [], []\n",
    "    txt_node_x, txt_node_y, txt_node_txt = [], [], [] #crear nodos transparente para mostrar info edges\n",
    "    for edge_end1,edge_end2,edge_attr_dict in G1.edges(data=True):\n",
    "        x0,y0 = G1.nodes[edge_end1]['coord']\n",
    "        x1,y1 = G1.nodes[edge_end2]['coord']\n",
    "        edge_x.extend([x0,x1,None])\n",
    "        edge_y.extend([y0,y1,None])\n",
    "\n",
    "        peso_redondeado = round(edge_attr_dict['weight'], 4)\n",
    "        txt_node_x.extend(obtener_puntos_para_graficar_texto_sobre_aristas(x0, x1, num_puntos_edge)) \n",
    "        txt_node_y.extend(obtener_puntos_para_graficar_texto_sobre_aristas(y0, y1, num_puntos_edge)) \n",
    "        #txt_node_x.extend([(x0 + x1)/2]) \n",
    "        #txt_node_y.extend([(y0 + y1)/2]) \n",
    "        txt_node_txt.extend([f'PFI: {peso_redondeado}\\n{edge_end1}->{edge_end2}']*num_puntos_edge) # hovertext\n",
    "\n",
    "    edge_trace = go.Scatter(name='lines',\n",
    "                            x=edge_x,\n",
    "                            y=edge_y,\n",
    "                            mode='lines',\n",
    "                            line=dict(width=0.5, color='#888')\n",
    "                           ) \n",
    "    txt_node_trace = go.Scatter(x = txt_node_x,\n",
    "                                y = txt_node_y,\n",
    "                                mode = \"markers\",\n",
    "                                showlegend = False,\n",
    "                                hovertemplate = \"%{hovertext}<extra></extra>\",\n",
    "                                hovertext = txt_node_txt,\n",
    "                                opacity=0,\n",
    "                                marker=dict(color='#888')\n",
    "                               )\n",
    "    \n",
    "    # step5: draw layout\n",
    "    fig_layout = go.Layout(showlegend=False,\n",
    "                           title=titulo,\n",
    "                           xaxis=dict(showgrid=False, zeroline=False, showticklabels=False),\n",
    "                           yaxis=dict(showgrid=False, zeroline=False, showticklabels=False)\n",
    "                          )\n",
    "\n",
    "    return node_trace, edge_trace, txt_node_trace, fig_layout"
   ]
  },
  {
   "cell_type": "markdown",
   "metadata": {},
   "source": [
    "## Hago los datos para las Bump Chart"
   ]
  },
  {
   "cell_type": "code",
   "execution_count": 14,
   "metadata": {},
   "outputs": [],
   "source": [
    "def obtener_df_bumpChart_plotly(df_values, df_ranking, metrica):\n",
    "    regiones = ['nacional', 'dom_1', 'dom_0', 'dom_2']\n",
    "    #traduccion_nombres_regiones = ['Nacional', 'Rural', 'Semiurbano', 'Urbano']\n",
    "    df_parciales = [] #variable que almacena el df resultante por cada domino\n",
    "    df_values= df_values.reset_index(inplace=False) # para tener una columna con las variables\n",
    "\n",
    "    for col in regiones:\n",
    "        temp = df_values[['index', col]] #obtengo las columnas de variable y valor pfi\n",
    "        temp.columns = ['variable', metrica] #sustituyo el nombre de las columnas\n",
    "        temp[\"rank\"] = df_ranking[col].values  #obtengo el ranking de la variable\n",
    "        temp['region'] = dominio_encoder[col] # creo una columna con nombre de la region \n",
    "        df_parciales.append(temp)\n",
    "    \n",
    "    return pd.concat(df_parciales)\n",
    "\n",
    "def obtener_colormap_bumpchart(df_sorted, dom, metrica):\n",
    "    #color = 'nipy_spectral'\n",
    "    color = 'viridis' if metrica=='centralidad' else 'RdPu'\n",
    "    return dict(zip(list(df_sorted[dom]),\n",
    "           #list(sns.color_palette(palette='nipy_spectral',n_colors=50).as_hex())\n",
    "           #cm.get_cmap('nipy_spectral', 50)(range(50)),\n",
    "           [to_hex(rgba_color, keep_alpha=False) for rgba_color in cm.get_cmap(color, 50)(range(50,0,-1))]\n",
    "           ))"
   ]
  },
  {
   "cell_type": "code",
   "execution_count": 15,
   "metadata": {
    "scrolled": true
   },
   "outputs": [],
   "source": [
    "df_bumpChart_centralidad = obtener_df_bumpChart_plotly(degree_centrality_values, \n",
    "                                                       degree_centrality_ranking,\n",
    "                                                       'centralidad')\n",
    "df_bumpChart_pagerank = obtener_df_bumpChart_plotly(pagerank_values,\n",
    "                                                    pagerank_ranking,\n",
    "                                                    'pagerank')"
   ]
  },
  {
   "cell_type": "code",
   "execution_count": 16,
   "metadata": {},
   "outputs": [],
   "source": [
    "cmaps_pagerank = {}\n",
    "cmaps_centralidad = {}\n",
    "for dom in pagerank_sorted.columns:\n",
    "    cmaps_pagerank[dominio_encoder[dom]]   = obtener_colormap_bumpchart(pagerank_sorted, dom, 'centralidad')\n",
    "    cmaps_centralidad[dominio_encoder[dom]] = obtener_colormap_bumpchart(degree_centrality_sorted, dom, 'pagerank')"
   ]
  },
  {
   "cell_type": "markdown",
   "metadata": {},
   "source": [
    "#hacer 1 solo df con ambos ranking"
   ]
  },
  {
   "cell_type": "markdown",
   "metadata": {},
   "source": [
    "## Hago el tablero de Dash"
   ]
  },
  {
   "cell_type": "code",
   "execution_count": 17,
   "metadata": {
    "scrolled": true
   },
   "outputs": [
    {
     "name": "stdout",
     "output_type": "stream",
     "text": [
      "Dash app running on http://127.0.0.1:8050/\n"
     ]
    }
   ],
   "source": [
    "tablero = JupyterDash(__name__)\n",
    "\n",
    "# -----------------------\n",
    "# Componentes del tablero\n",
    "# -----------------------\n",
    "grafo = dcc.Graph(id='grafo')\n",
    "bump_chart = dcc.Graph(id='bump_chart')\n",
    "menuGrafo = dcc.Dropdown(id = 'menuGrafo',\n",
    "                     options = [{'label':'Centralidad de grado', 'value':'centralidad'},\n",
    "                                {'label':'Pagerank', 'value':'pagerank'}],\n",
    "                     multi=False,\n",
    "                     value='centralidad'\n",
    "                          )\n",
    "menuBump = dcc.Dropdown(id = 'menuBump',\n",
    "                     options = [{'label':'Centralidad de grado', 'value':'centralidad'},\n",
    "                                {'label':'Pagerank', 'value':'pagerank'}],\n",
    "                     multi=False,\n",
    "                     value='centralidad'\n",
    "                          )\n",
    "menuRegionesGrafo = dcc.RadioItems(id='menuRegionesGrafo',\n",
    "                              options=[\n",
    "                                  {'label': 'Nacional', 'value': 'nacional'},\n",
    "                                  {'label': 'Rural', 'value': 'dom_1'},\n",
    "                                  {'label': 'Semiurbano', 'value': 'dom_0'},\n",
    "                                  {'label': 'Urbano', 'value': 'dom_2'},\n",
    "                              ],\n",
    "                              value='nacional',\n",
    "                              inline=True\n",
    "            )\n",
    "\n",
    "\n",
    "menuRegionesBump = dcc.RadioItems(id='menuRegionesBump',\n",
    "                              options=[\n",
    "                                  {'label': 'Nacional', 'value': 'Nacional'},\n",
    "                                  {'label': 'Rural', 'value': 'Rural'},\n",
    "                                  {'label': 'Semiurbano', 'value': 'Semi urbano'},\n",
    "                                  {'label': 'Urbano', 'value': 'Urbano'},\n",
    "                              ],\n",
    "                              value='Nacional',\n",
    "                              inline=True\n",
    "            )\n",
    "\n",
    "# -----------------------\n",
    "# Diseño del tablero\n",
    "# -----------------------\n",
    "tablero.layout = html.Div([\n",
    "    html.Div([html.H1('Violencia obstétrica durante el parto en instituciones de salud públicas de México'),\n",
    "              menuGrafo, \n",
    "              menuRegionesGrafo, \n",
    "              html.Button('Generar', id='botonGrafo', n_clicks=0), \n",
    "              grafo]),\n",
    "    \n",
    "    html.Div([html.H3('Gráfica Bump'), \n",
    "              menuBump, \n",
    "              menuRegionesBump,\n",
    "              html.Button('Generar', id='botonBump', n_clicks=0), \n",
    "              bump_chart]),\n",
    "])\n",
    "\n",
    "# -----------------------\n",
    "# Callbacks\n",
    "# -----------------------\n",
    "@tablero.callback(Output('grafo', 'figure'),\n",
    "                  Input('botonGrafo', 'n_clicks'),\n",
    "                  State('menuGrafo', 'value'),\n",
    "                  State('menuRegionesGrafo', 'value'))\n",
    "def graficarFuncion(n_clicks, metrica, region):\n",
    "    if region[-1] in ['0', '1', '2']:\n",
    "        G = regiones[int(region[-1])]\n",
    "    else:\n",
    "        G = nac\n",
    "        \n",
    "    if metrica=='centralidad':\n",
    "        titulo = \"Representación visual de los grafos con centralidad de grado\"\n",
    "        color = 'RdPu'\n",
    "        color_method = [degree_centrality_sorted[region][degree_centrality_sorted[region]==col].index[0] \n",
    "                        for col in G.nodes]\n",
    "    else:\n",
    "        titulo = \"Representación visual de los grafos con pagerank\"\n",
    "        color = 'Viridis'\n",
    "        color_method = [pagerank_sorted[region][pagerank_sorted[region]==col].index[0] for col in G.nodes]\n",
    "    \n",
    "    node_trace, edge_trace, txt_node_trace, fig_layout = crear_layout_para_visualizar_grafo(G, \n",
    "                                                                                            #coords_dict, \n",
    "                                                                                            color,\n",
    "                                                                                            color_method, \n",
    "                                                                                            titulo,\n",
    "                                                                                            'dom_0', \n",
    "                                                                                            metrica)\n",
    "    return go.Figure(data=[node_trace, edge_trace, txt_node_trace],\n",
    "                     layout=fig_layout)\n",
    "\n",
    "@tablero.callback(Output('bump_chart', 'figure'),\n",
    "                  Input('botonBump', 'n_clicks'),\n",
    "                  State('menuBump', 'value'),\n",
    "                  State('menuRegionesBump', 'value'))\n",
    "def graficarBump(n_clicks, metrica, region):\n",
    "    df_usar = df_bumpChart_centralidad if metrica=='centralidad' else df_bumpChart_pagerank\n",
    "    cmap_usar = cmaps_centralidad if metrica=='centralidad' else cmaps_pagerank\n",
    "    \n",
    "    #creo los nombres de los subplots\n",
    "    doms = ['Nacional', 'Semi urbano', 'Rural', 'Urbano']\n",
    "    doms.pop(doms.index(region))\n",
    "    subplot_titles = [f'{region} - {doms[i]}' for i in range(len(doms))]\n",
    "    \n",
    "    fig = make_subplots(rows=1, cols=3, \n",
    "                        subplot_titles=subplot_titles,\n",
    "                        shared_yaxes=True,\n",
    "                        y_title='Rank',\n",
    "                        horizontal_spacing=0.02)\n",
    "    for i,dom in enumerate(doms):\n",
    "        figura = px.line(pd.concat([df_usar[(df_usar.region==region)],\n",
    "                                    df_usar[(df_usar.region==dom)]]),\n",
    "                          x = 'region',\n",
    "                          y='rank',\n",
    "                          color = 'variable',\n",
    "                          color_discrete_map= cmap_usar[region], \n",
    "                          markers=True,\n",
    "                          hover_data = ['rank', metrica]\n",
    "                         )\n",
    "        figura.update_yaxes(visible=False, showticklabels=False)\n",
    "    \n",
    "        for traces in [figura[\"data\"][trace] for trace in range(len(figura[\"data\"]))]: \n",
    "            fig.append_trace(traces, row=1, col=i+1)\n",
    "    \n",
    "    fig.update_yaxes(autorange='reversed')\n",
    "    fig.update_xaxes(title='', visible=True, showticklabels=True)\n",
    "    fig.update_layout(showlegend=False)\n",
    "    \n",
    "    return fig\n",
    "\n",
    "if __name__=='__main__':\n",
    "    tablero.run_server(port=8050, debug=True, use_reloader=False)\n"
   ]
  }
 ],
 "metadata": {
  "kernelspec": {
   "display_name": "Python 3",
   "language": "python",
   "name": "python3"
  },
  "language_info": {
   "codemirror_mode": {
    "name": "ipython",
    "version": 3
   },
   "file_extension": ".py",
   "mimetype": "text/x-python",
   "name": "python",
   "nbconvert_exporter": "python",
   "pygments_lexer": "ipython3",
   "version": "3.6.9"
  }
 },
 "nbformat": 4,
 "nbformat_minor": 5
}
