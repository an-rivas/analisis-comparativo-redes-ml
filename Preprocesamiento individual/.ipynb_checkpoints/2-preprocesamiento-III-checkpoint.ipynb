{
 "cells": [
  {
   "cell_type": "markdown",
   "metadata": {},
   "source": [
    "# Preprocesamiento de datos"
   ]
  },
  {
   "cell_type": "markdown",
   "metadata": {},
   "source": [
    "## Objetivos particulares:\n",
    "\n",
    "# ¿agregar aquí la regionalización en lugar de sección IX?"
   ]
  },
  {
   "cell_type": "markdown",
   "metadata": {},
   "source": [
    "## Librerías"
   ]
  },
  {
   "cell_type": "code",
   "execution_count": 6,
   "metadata": {},
   "outputs": [],
   "source": [
    "import pandas as pd\n",
    "import numpy as np\n",
    "import random\n",
    "import copy\n",
    "from sklearn.preprocessing import LabelEncoder"
   ]
  },
  {
   "cell_type": "markdown",
   "metadata": {},
   "source": [
    "## 1. Cargar el conjunto de datos ENDIREH Sección IX: Atención Obstétrica"
   ]
  },
  {
   "cell_type": "code",
   "execution_count": 7,
   "metadata": {},
   "outputs": [],
   "source": [
    "ruta_parcial = \"../../conjunto_de_datos_endireh_2016_csv/conjunto_de_datos_tb_sec_iii_endireh_2016/conjunto_de_datos/conjunto_de_datos_tb_sec_iii_endireh_2016.csv\"\n",
    "\n",
    "endireh = pd.read_csv(ruta_parcial)"
   ]
  },
  {
   "cell_type": "code",
   "execution_count": 8,
   "metadata": {},
   "outputs": [
    {
     "data": {
      "text/html": [
       "<div>\n",
       "<style scoped>\n",
       "    .dataframe tbody tr th:only-of-type {\n",
       "        vertical-align: middle;\n",
       "    }\n",
       "\n",
       "    .dataframe tbody tr th {\n",
       "        vertical-align: top;\n",
       "    }\n",
       "\n",
       "    .dataframe thead th {\n",
       "        text-align: right;\n",
       "    }\n",
       "</style>\n",
       "<table border=\"1\" class=\"dataframe\">\n",
       "  <thead>\n",
       "    <tr style=\"text-align: right;\">\n",
       "      <th></th>\n",
       "      <th>ID_VIV</th>\n",
       "      <th>ID_MUJ</th>\n",
       "      <th>UPM</th>\n",
       "      <th>PROG</th>\n",
       "      <th>VIV_SEL</th>\n",
       "      <th>CVE_ENT</th>\n",
       "      <th>NOM_ENT</th>\n",
       "      <th>CVE_MUN</th>\n",
       "      <th>NOM_MUN</th>\n",
       "      <th>HOGAR</th>\n",
       "      <th>...</th>\n",
       "      <th>P3_5</th>\n",
       "      <th>P3_6</th>\n",
       "      <th>P3_7</th>\n",
       "      <th>P3_8</th>\n",
       "      <th>FAC_VIV</th>\n",
       "      <th>FAC_MUJ</th>\n",
       "      <th>DOMINIO</th>\n",
       "      <th>ESTRATO</th>\n",
       "      <th>EST_DIS</th>\n",
       "      <th>UPM_DIS</th>\n",
       "    </tr>\n",
       "  </thead>\n",
       "  <tbody>\n",
       "    <tr>\n",
       "      <th>34955</th>\n",
       "      <td>1104412.01</td>\n",
       "      <td>1104412.01.01.02\\r</td>\n",
       "      <td>1104412</td>\n",
       "      <td>26</td>\n",
       "      <td>1</td>\n",
       "      <td>11</td>\n",
       "      <td>Guanajuato\\r</td>\n",
       "      <td>20</td>\n",
       "      <td>León\\r</td>\n",
       "      <td>1</td>\n",
       "      <td>...</td>\n",
       "      <td>\\r</td>\n",
       "      <td>\\r</td>\n",
       "      <td>\\r</td>\n",
       "      <td>A1\\r</td>\n",
       "      <td>418</td>\n",
       "      <td>1254</td>\n",
       "      <td>U\\r</td>\n",
       "      <td>2</td>\n",
       "      <td>1760</td>\n",
       "      <td>6512</td>\n",
       "    </tr>\n",
       "    <tr>\n",
       "      <th>96530</th>\n",
       "      <td>2807799.11</td>\n",
       "      <td>2807799.11.01.02\\r</td>\n",
       "      <td>2807799</td>\n",
       "      <td>138</td>\n",
       "      <td>11</td>\n",
       "      <td>28</td>\n",
       "      <td>Tamaulipas\\r</td>\n",
       "      <td>33</td>\n",
       "      <td>Río Bravo\\r</td>\n",
       "      <td>1</td>\n",
       "      <td>...</td>\n",
       "      <td>\\r</td>\n",
       "      <td>\\r</td>\n",
       "      <td>\\r</td>\n",
       "      <td>B1\\r</td>\n",
       "      <td>245</td>\n",
       "      <td>245</td>\n",
       "      <td>C\\r</td>\n",
       "      <td>2</td>\n",
       "      <td>5260</td>\n",
       "      <td>15957</td>\n",
       "    </tr>\n",
       "    <tr>\n",
       "      <th>96937</th>\n",
       "      <td>2860144.10</td>\n",
       "      <td>2860144.10.01.02\\r</td>\n",
       "      <td>2860144</td>\n",
       "      <td>52</td>\n",
       "      <td>10</td>\n",
       "      <td>28</td>\n",
       "      <td>Tamaulipas\\r</td>\n",
       "      <td>4</td>\n",
       "      <td>Antiguo Morelos\\r</td>\n",
       "      <td>1</td>\n",
       "      <td>...</td>\n",
       "      <td>\\r</td>\n",
       "      <td>\\r</td>\n",
       "      <td>\\r</td>\n",
       "      <td>A1\\r</td>\n",
       "      <td>265</td>\n",
       "      <td>530</td>\n",
       "      <td>R\\r</td>\n",
       "      <td>1</td>\n",
       "      <td>5320</td>\n",
       "      <td>15986</td>\n",
       "    </tr>\n",
       "    <tr>\n",
       "      <th>58515</th>\n",
       "      <td>1800289.03</td>\n",
       "      <td>1800289.03.01.06\\r</td>\n",
       "      <td>1800289</td>\n",
       "      <td>4</td>\n",
       "      <td>3</td>\n",
       "      <td>18</td>\n",
       "      <td>Nayarit\\r</td>\n",
       "      <td>17</td>\n",
       "      <td>Tepic\\r</td>\n",
       "      <td>1</td>\n",
       "      <td>...</td>\n",
       "      <td>\\r</td>\n",
       "      <td>\\r</td>\n",
       "      <td>\\r</td>\n",
       "      <td>B2\\r</td>\n",
       "      <td>84</td>\n",
       "      <td>168</td>\n",
       "      <td>U\\r</td>\n",
       "      <td>3</td>\n",
       "      <td>3220</td>\n",
       "      <td>9865</td>\n",
       "    </tr>\n",
       "    <tr>\n",
       "      <th>91847</th>\n",
       "      <td>2701611.08</td>\n",
       "      <td>2701611.08.01.02\\r</td>\n",
       "      <td>2701611</td>\n",
       "      <td>178</td>\n",
       "      <td>8</td>\n",
       "      <td>27</td>\n",
       "      <td>Tabasco\\r</td>\n",
       "      <td>4</td>\n",
       "      <td>Centro\\r</td>\n",
       "      <td>1</td>\n",
       "      <td>...</td>\n",
       "      <td>\\r</td>\n",
       "      <td>\\r</td>\n",
       "      <td>\\r</td>\n",
       "      <td>A1\\r</td>\n",
       "      <td>143</td>\n",
       "      <td>143</td>\n",
       "      <td>C\\r</td>\n",
       "      <td>2</td>\n",
       "      <td>4990</td>\n",
       "      <td>15163</td>\n",
       "    </tr>\n",
       "  </tbody>\n",
       "</table>\n",
       "<p>5 rows × 27 columns</p>\n",
       "</div>"
      ],
      "text/plain": [
       "           ID_VIV              ID_MUJ      UPM  PROG  VIV_SEL  CVE_ENT  \\\n",
       "34955  1104412.01  1104412.01.01.02\\r  1104412    26        1       11   \n",
       "96530  2807799.11  2807799.11.01.02\\r  2807799   138       11       28   \n",
       "96937  2860144.10  2860144.10.01.02\\r  2860144    52       10       28   \n",
       "58515  1800289.03  1800289.03.01.06\\r  1800289     4        3       18   \n",
       "91847  2701611.08  2701611.08.01.02\\r  2701611   178        8       27   \n",
       "\n",
       "            NOM_ENT  CVE_MUN            NOM_MUN  HOGAR   ...   P3_5  P3_6  \\\n",
       "34955  Guanajuato\\r       20             León\\r      1   ...     \\r    \\r   \n",
       "96530  Tamaulipas\\r       33        Río Bravo\\r      1   ...     \\r    \\r   \n",
       "96937  Tamaulipas\\r        4  Antiguo Morelos\\r      1   ...     \\r    \\r   \n",
       "58515     Nayarit\\r       17            Tepic\\r      1   ...     \\r    \\r   \n",
       "91847     Tabasco\\r        4           Centro\\r      1   ...     \\r    \\r   \n",
       "\n",
       "       P3_7  P3_8 FAC_VIV FAC_MUJ DOMINIO ESTRATO EST_DIS UPM_DIS  \n",
       "34955    \\r  A1\\r     418    1254     U\\r       2    1760    6512  \n",
       "96530    \\r  B1\\r     245     245     C\\r       2    5260   15957  \n",
       "96937    \\r  A1\\r     265     530     R\\r       1    5320   15986  \n",
       "58515    \\r  B2\\r      84     168     U\\r       3    3220    9865  \n",
       "91847    \\r  A1\\r     143     143     C\\r       2    4990   15163  \n",
       "\n",
       "[5 rows x 27 columns]"
      ]
     },
     "execution_count": 8,
     "metadata": {},
     "output_type": "execute_result"
    }
   ],
   "source": [
    "endireh.iloc[random.choices(range(endireh.shape[0]), k=5)]"
   ]
  },
  {
   "cell_type": "markdown",
   "metadata": {},
   "source": [
    "## 2. Modificar columnas a ser _One Hot Encoding_\n",
    "\n",
    "Hacer que las columnas P1_4 y P1_8 en donde tienen el valor 2 sean 0s."
   ]
  },
  {
   "cell_type": "code",
   "execution_count": 9,
   "metadata": {},
   "outputs": [],
   "source": [
    "columnasOHE = ['P3_2', 'P3_4','P3_7']\n",
    "\n",
    "for c in columnasOHE:\n",
    "    endireh.loc[endireh[c]==2, c] = 0 #asignar los ceros de columnas con 2"
   ]
  },
  {
   "cell_type": "markdown",
   "metadata": {},
   "source": [
    "## 3. Borrar columnas\n",
    "\n",
    "Borrar las columnas que ya están en otros conjuntos de datos, para no ser redundantes."
   ]
  },
  {
   "cell_type": "code",
   "execution_count": 10,
   "metadata": {},
   "outputs": [],
   "source": [
    "labels = ['CVE_ENT', 'NOM_ENT', 'CVE_MUN', 'NOM_MUN', 'COD_RES', 'DOMINIO', 'UPM', 'VIV_SEL', 'PROG',\n",
    "          'N_REN', 'FAC_VIV', 'FAC_MUJ', 'ESTRATO', 'EST_DIS', 'UPM_DIS', 'P3_8']\n",
    "\n",
    "endireh.drop(labels=labels, axis=1, inplace=True)"
   ]
  },
  {
   "cell_type": "markdown",
   "metadata": {},
   "source": [
    "### 4. Guardar el dataset"
   ]
  },
  {
   "cell_type": "code",
   "execution_count": 12,
   "metadata": {},
   "outputs": [],
   "source": [
    "#guardo los avances\n",
    "endireh.to_csv(\"datasets/sec_iii.csv\")"
   ]
  }
 ],
 "metadata": {
  "kernelspec": {
   "display_name": "Python 3",
   "language": "python",
   "name": "python3"
  },
  "language_info": {
   "codemirror_mode": {
    "name": "ipython",
    "version": 3
   },
   "file_extension": ".py",
   "mimetype": "text/x-python",
   "name": "python",
   "nbconvert_exporter": "python",
   "pygments_lexer": "ipython3",
   "version": "3.6.9"
  }
 },
 "nbformat": 4,
 "nbformat_minor": 4
}
