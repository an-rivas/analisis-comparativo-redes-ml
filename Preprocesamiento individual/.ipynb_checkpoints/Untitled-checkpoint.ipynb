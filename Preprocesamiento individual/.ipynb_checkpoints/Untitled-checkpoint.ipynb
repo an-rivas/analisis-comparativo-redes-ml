{
 "cells": [
  {
   "cell_type": "markdown",
   "metadata": {},
   "source": [
    "# Cosas a checar para el preprocesamiento"
   ]
  },
  {
   "cell_type": "markdown",
   "metadata": {},
   "source": [
    "Dudas:\n",
    "1. en P9_1 y P9_5 hago una columna de los nan o lo dejo como 0 en todos los reglones?\n",
    "2. Hay muchos datos mal capturados como 1 embarazo uno ncio vivo, uno muerto y una aborto WTF.\n",
    "3. esta bien remplazar manualmente P9_4_{1,2,3}?\n",
    "4. deberia borrar los que no tienen registros en 9.7. ¿Dónde atendieron su último parto?? son 287 registros"
   ]
  },
  {
   "cell_type": "markdown",
   "metadata": {},
   "source": [
    "#### Posibles discretizaciones\n",
    "\n",
    "Estás se verán si se necesitan discretizar una vez se obtenga el primer resultado preliminar.\n",
    "\n",
    "1. P1_2 cantidad de cuartos PARA DORMIR en el hogar.\n",
    "2. P1_2_A cantidad de cuartos en el hogar.\n",
    "1. P1_3 CANTIDAD DE FOCOS 99 es no especificado.\n",
    "5. P1_7 personas que viven ahi.\n"
   ]
  },
  {
   "cell_type": "markdown",
   "metadata": {},
   "source": [
    "## Librerías"
   ]
  },
  {
   "cell_type": "code",
   "execution_count": 1,
   "metadata": {},
   "outputs": [],
   "source": [
    "import pandas as pd\n",
    "from funciones import CargarPandasDataset, CargarPandasDatasetCategoricos, BorrarColumnas, InsertarColumnaNueva"
   ]
  },
  {
   "cell_type": "code",
   "execution_count": 2,
   "metadata": {},
   "outputs": [],
   "source": [
    "# Tratamiento de datos\n",
    "# ==============================================================================\n",
    "import numpy as np\n",
    "import pandas as pd\n",
    "\n",
    "# Gráficos\n",
    "# ==============================================================================\n",
    "from sklearn import tree #La versión que tengo es 0.24.1 y está disponible apartir de la 0.21\n",
    "from sklearn.tree import export_graphviz\n",
    "from sklearn.tree import export_text\n",
    "import matplotlib.pyplot as plt\n",
    "from matplotlib.pyplot import figure\n",
    "\n",
    "\n",
    "# Preprocesado y modelado\n",
    "# ==============================================================================\n",
    "from sklearn.ensemble import RandomForestClassifier\n",
    "from sklearn.metrics import mean_squared_error\n",
    "from sklearn.model_selection import train_test_split\n",
    "from sklearn.model_selection import ParameterGrid\n",
    "\n",
    "# Configuración warnings\n",
    "# ==============================================================================\n",
    "import warnings\n",
    "warnings.filterwarnings('ignore')"
   ]
  },
  {
   "cell_type": "markdown",
   "metadata": {},
   "source": [
    "## Cargar datos"
   ]
  },
  {
   "cell_type": "code",
   "execution_count": 3,
   "metadata": {},
   "outputs": [],
   "source": [
    "endireh = CargarPandasDatasetCategoricos('./../datasets/endireh.csv')"
   ]
  },
  {
   "cell_type": "code",
   "execution_count": 4,
   "metadata": {},
   "outputs": [
    {
     "data": {
      "text/plain": [
       "(23669, 73)"
      ]
     },
     "execution_count": 4,
     "metadata": {},
     "output_type": "execute_result"
    }
   ],
   "source": [
    "endireh.shape"
   ]
  },
  {
   "cell_type": "markdown",
   "metadata": {},
   "source": [
    "# hacer una funcion que dado un dataset convierte sus columnas a OHE excluyendo aquellas que ya son OHE y que son continuas."
   ]
  },
  {
   "cell_type": "code",
   "execution_count": null,
   "metadata": {},
   "outputs": [],
   "source": [
    "def getDummies(endireh):\n",
    "    # Defino las columnas que no necesitan preprocesar a OHE (One Hot Encoding).\n",
    "    ## columnas continuas\n",
    "    columns = [\"P1_2\", \"P1_2_A\", 'P1_3', 'P1_7', 'P2_9', 'P2_11', 'P2_12', 'P2_13', \"P9_3\", \"P9_8_11\"]\n",
    "    ## columnas categoricas que ya son OHE\n",
    "    columns.extend([f'P1_4_{i}' for i in range(1,10)]) # bienes de vivienda\n",
    "    columns.extend([F'P9_1_{i}' for i in range(1,11)]) # afiliacion a servicio de salud\n",
    "    columns.extend([F'P9_4_{i}' for i in range(1,4)]) # afiliacion a servicio de salud\n",
    "    columns.extend([F'P9_5_{i}' for i in range(1,13)]) # atencion obstetrica preparto\n",
    "\n",
    "    # Aparto las columnas del dataset original.\n",
    "    endireh_num = endireh[columns].copy()\n",
    "    \n",
    "    # Elimino las columnas del dataset\n",
    "    endireh.drop(columns=columns, axis=1, inplace=True)\n",
    "    \n",
    "    # Obtengo el OHE\n",
    "    endireh_cat = pd.get_dummies(endireh)\n",
    "    \n",
    "    # Concateno los conjuntos de datos OHE y continuos.\n",
    "    endireh_ohe = pd.concat([endireh_cat, endireh_num], axis=1)\n",
    "    \n",
    "    return endireh_ohe"
   ]
  },
  {
   "cell_type": "code",
   "execution_count": null,
   "metadata": {},
   "outputs": [],
   "source": []
  }
 ],
 "metadata": {
  "kernelspec": {
   "display_name": "Python 3",
   "language": "python",
   "name": "python3"
  },
  "language_info": {
   "codemirror_mode": {
    "name": "ipython",
    "version": 3
   },
   "file_extension": ".py",
   "mimetype": "text/x-python",
   "name": "python",
   "nbconvert_exporter": "python",
   "pygments_lexer": "ipython3",
   "version": "3.6.9"
  }
 },
 "nbformat": 4,
 "nbformat_minor": 4
}
