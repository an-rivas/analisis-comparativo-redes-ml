{
 "cells": [
  {
   "cell_type": "markdown",
   "metadata": {},
   "source": [
    "# Preprocesamiento de datos"
   ]
  },
  {
   "cell_type": "markdown",
   "metadata": {},
   "source": [
    "## Objetivos particulares:\n",
    "\n",
    "1. Entender los datos que representan las columnas.\n",
    "2. Implementar una política de datos faltantes.\n",
    "3. Creación de columnas para crear mejor información.\n",
    "4. Segmentar en regiones geográficas de México.\n",
    "5. Eliminación de columnas con datos innecesarios.\n",
    "6. Homogeneizar los datos."
   ]
  },
  {
   "cell_type": "markdown",
   "metadata": {},
   "source": [
    "## Librerías"
   ]
  },
  {
   "cell_type": "code",
   "execution_count": 265,
   "metadata": {},
   "outputs": [],
   "source": [
    "import pandas as pd\n",
    "import numpy as np\n",
    "import random\n",
    "import copy\n",
    "from sklearn.preprocessing import LabelEncoder\n",
    "from matplotlib import pyplot as plt"
   ]
  },
  {
   "cell_type": "markdown",
   "metadata": {},
   "source": [
    "## 1. Cargar el conjunto de datos ENDIREH Sección IX: Atención Obstétrica"
   ]
  },
  {
   "cell_type": "code",
   "execution_count": 266,
   "metadata": {},
   "outputs": [],
   "source": [
    "ruta_parcial = \"../../conjunto_de_datos_endireh_2016_csv/conjunto_de_datos_tb_sec_ix_endireh_2016/conjunto_de_datos/conjunto_de_datos_tb_sec_ix_endireh_2016.csv\"\n",
    "\n",
    "endireh = pd.read_csv(ruta_parcial, na_values=['\\r'])"
   ]
  },
  {
   "cell_type": "code",
   "execution_count": 267,
   "metadata": {},
   "outputs": [
    {
     "data": {
      "text/html": [
       "<div>\n",
       "<style scoped>\n",
       "    .dataframe tbody tr th:only-of-type {\n",
       "        vertical-align: middle;\n",
       "    }\n",
       "\n",
       "    .dataframe tbody tr th {\n",
       "        vertical-align: top;\n",
       "    }\n",
       "\n",
       "    .dataframe thead th {\n",
       "        text-align: right;\n",
       "    }\n",
       "</style>\n",
       "<table border=\"1\" class=\"dataframe\">\n",
       "  <thead>\n",
       "    <tr style=\"text-align: right;\">\n",
       "      <th></th>\n",
       "      <th>ID_VIV</th>\n",
       "      <th>ID_MUJ</th>\n",
       "      <th>UPM</th>\n",
       "      <th>REN_M_ELE</th>\n",
       "      <th>VIV_SEL</th>\n",
       "      <th>PROG</th>\n",
       "      <th>HOGAR</th>\n",
       "      <th>DOMINIO</th>\n",
       "      <th>CVE_ENT</th>\n",
       "      <th>NOM_ENT</th>\n",
       "      <th>...</th>\n",
       "      <th>P9_8_10</th>\n",
       "      <th>P9_8_11</th>\n",
       "      <th>P9_8_12</th>\n",
       "      <th>P9_8_13</th>\n",
       "      <th>P9_8_14</th>\n",
       "      <th>FAC_VIV</th>\n",
       "      <th>FAC_MUJ</th>\n",
       "      <th>ESTRATO</th>\n",
       "      <th>UPM_DIS</th>\n",
       "      <th>EST_DIS</th>\n",
       "    </tr>\n",
       "  </thead>\n",
       "  <tbody>\n",
       "    <tr>\n",
       "      <th>81221</th>\n",
       "      <td>2062694.16</td>\n",
       "      <td>2062694.16.01.02\\r</td>\n",
       "      <td>2062694</td>\n",
       "      <td>2</td>\n",
       "      <td>16</td>\n",
       "      <td>14</td>\n",
       "      <td>1</td>\n",
       "      <td>R\\r</td>\n",
       "      <td>20</td>\n",
       "      <td>Oaxaca\\r</td>\n",
       "      <td>...</td>\n",
       "      <td>NaN</td>\n",
       "      <td>NaN</td>\n",
       "      <td>NaN</td>\n",
       "      <td>NaN</td>\n",
       "      <td>NaN</td>\n",
       "      <td>280</td>\n",
       "      <td>280</td>\n",
       "      <td>1</td>\n",
       "      <td>11302</td>\n",
       "      <td>3660</td>\n",
       "    </tr>\n",
       "    <tr>\n",
       "      <th>24869</th>\n",
       "      <td>803910.03</td>\n",
       "      <td>0803910.03.01.02\\r</td>\n",
       "      <td>803910</td>\n",
       "      <td>2</td>\n",
       "      <td>3</td>\n",
       "      <td>66</td>\n",
       "      <td>1</td>\n",
       "      <td>U\\r</td>\n",
       "      <td>8</td>\n",
       "      <td>Chihuahua\\r</td>\n",
       "      <td>...</td>\n",
       "      <td>2.0</td>\n",
       "      <td>2.0</td>\n",
       "      <td>NaN</td>\n",
       "      <td>NaN</td>\n",
       "      <td>NaN</td>\n",
       "      <td>383</td>\n",
       "      <td>383</td>\n",
       "      <td>3</td>\n",
       "      <td>4399</td>\n",
       "      <td>1320</td>\n",
       "    </tr>\n",
       "    <tr>\n",
       "      <th>10688</th>\n",
       "      <td>400603.02</td>\n",
       "      <td>0400603.02.01.03\\r</td>\n",
       "      <td>400603</td>\n",
       "      <td>3</td>\n",
       "      <td>2</td>\n",
       "      <td>110</td>\n",
       "      <td>1</td>\n",
       "      <td>U\\r</td>\n",
       "      <td>4</td>\n",
       "      <td>Campeche\\r</td>\n",
       "      <td>...</td>\n",
       "      <td>NaN</td>\n",
       "      <td>NaN</td>\n",
       "      <td>NaN</td>\n",
       "      <td>NaN</td>\n",
       "      <td>NaN</td>\n",
       "      <td>69</td>\n",
       "      <td>139</td>\n",
       "      <td>2</td>\n",
       "      <td>2072</td>\n",
       "      <td>510</td>\n",
       "    </tr>\n",
       "    <tr>\n",
       "      <th>38461</th>\n",
       "      <td>1202712.03</td>\n",
       "      <td>1202712.03.01.03\\r</td>\n",
       "      <td>1202712</td>\n",
       "      <td>3</td>\n",
       "      <td>3</td>\n",
       "      <td>83</td>\n",
       "      <td>1</td>\n",
       "      <td>U\\r</td>\n",
       "      <td>12</td>\n",
       "      <td>Guerrero\\r</td>\n",
       "      <td>...</td>\n",
       "      <td>NaN</td>\n",
       "      <td>NaN</td>\n",
       "      <td>NaN</td>\n",
       "      <td>NaN</td>\n",
       "      <td>NaN</td>\n",
       "      <td>237</td>\n",
       "      <td>237</td>\n",
       "      <td>2</td>\n",
       "      <td>7004</td>\n",
       "      <td>2090</td>\n",
       "    </tr>\n",
       "    <tr>\n",
       "      <th>108001</th>\n",
       "      <td>2860209.07</td>\n",
       "      <td>2860209.07.01.02\\r</td>\n",
       "      <td>2860209</td>\n",
       "      <td>2</td>\n",
       "      <td>7</td>\n",
       "      <td>32</td>\n",
       "      <td>1</td>\n",
       "      <td>R\\r</td>\n",
       "      <td>28</td>\n",
       "      <td>Tamaulipas\\r</td>\n",
       "      <td>...</td>\n",
       "      <td>NaN</td>\n",
       "      <td>NaN</td>\n",
       "      <td>NaN</td>\n",
       "      <td>NaN</td>\n",
       "      <td>NaN</td>\n",
       "      <td>328</td>\n",
       "      <td>983</td>\n",
       "      <td>1</td>\n",
       "      <td>15989</td>\n",
       "      <td>5320</td>\n",
       "    </tr>\n",
       "  </tbody>\n",
       "</table>\n",
       "<p>5 rows × 61 columns</p>\n",
       "</div>"
      ],
      "text/plain": [
       "            ID_VIV              ID_MUJ      UPM  REN_M_ELE  VIV_SEL  PROG  \\\n",
       "81221   2062694.16  2062694.16.01.02\\r  2062694          2       16    14   \n",
       "24869    803910.03  0803910.03.01.02\\r   803910          2        3    66   \n",
       "10688    400603.02  0400603.02.01.03\\r   400603          3        2   110   \n",
       "38461   1202712.03  1202712.03.01.03\\r  1202712          3        3    83   \n",
       "108001  2860209.07  2860209.07.01.02\\r  2860209          2        7    32   \n",
       "\n",
       "        HOGAR DOMINIO  CVE_ENT       NOM_ENT   ...     P9_8_10 P9_8_11  \\\n",
       "81221       1     R\\r       20      Oaxaca\\r   ...         NaN     NaN   \n",
       "24869       1     U\\r        8   Chihuahua\\r   ...         2.0     2.0   \n",
       "10688       1     U\\r        4    Campeche\\r   ...         NaN     NaN   \n",
       "38461       1     U\\r       12    Guerrero\\r   ...         NaN     NaN   \n",
       "108001      1     R\\r       28  Tamaulipas\\r   ...         NaN     NaN   \n",
       "\n",
       "        P9_8_12  P9_8_13 P9_8_14  FAC_VIV  FAC_MUJ  ESTRATO  UPM_DIS  EST_DIS  \n",
       "81221       NaN      NaN     NaN      280      280        1    11302     3660  \n",
       "24869       NaN      NaN     NaN      383      383        3     4399     1320  \n",
       "10688       NaN      NaN     NaN       69      139        2     2072      510  \n",
       "38461       NaN      NaN     NaN      237      237        2     7004     2090  \n",
       "108001      NaN      NaN     NaN      328      983        1    15989     5320  \n",
       "\n",
       "[5 rows x 61 columns]"
      ]
     },
     "execution_count": 267,
     "metadata": {},
     "output_type": "execute_result"
    }
   ],
   "source": [
    "endireh.iloc[random.choices(range(endireh.shape[0]), k=5)]"
   ]
  },
  {
   "cell_type": "markdown",
   "metadata": {},
   "source": [
    "## 2. Preservar los datos de las embarazadas\n",
    "\n",
    "Borrar los registros de todas aquellas que repondieron que no estuvieron embarazadas entre Octubre 2011 hasta finales 2016 o que no se tenga resgistro de su respuesta. La manera fácil es solo preservar los registros de las que respondieron que sí estuvieron embaraadas en ese periodo de tiempo."
   ]
  },
  {
   "cell_type": "code",
   "execution_count": 268,
   "metadata": {},
   "outputs": [],
   "source": [
    "endireh = endireh[endireh.P9_2 == 1]"
   ]
  },
  {
   "cell_type": "code",
   "execution_count": 269,
   "metadata": {},
   "outputs": [],
   "source": [
    "endireh.reset_index(drop=True, inplace=True) #reajustar el índice"
   ]
  },
  {
   "cell_type": "markdown",
   "metadata": {},
   "source": [
    "## 3. Agregar columnas"
   ]
  },
  {
   "cell_type": "markdown",
   "metadata": {},
   "source": [
    "### 3.1 Datos faltantes a preguntas de servicio médico.\n",
    "\n",
    "En la pregunta 1 y 5, si todos los registros tienen valor 9 significa que no hay registro de la respuesta a esa pregunta, por ello se grega una columna que refleje esa información y todos los demás valores se hacen 0, así se preserva el _One Hot Encoding_."
   ]
  },
  {
   "cell_type": "markdown",
   "metadata": {},
   "source": [
    "#### Pregunta 1"
   ]
  },
  {
   "cell_type": "code",
   "execution_count": 270,
   "metadata": {},
   "outputs": [],
   "source": [
    "endireh.insert(24, \"P9_1_10\", 0.0) #agregar columna con ceros"
   ]
  },
  {
   "cell_type": "code",
   "execution_count": 271,
   "metadata": {},
   "outputs": [],
   "source": [
    "endireh.loc[endireh['P9_1_1']==9, 'P9_1_10'] = 1.0 #asignar los valores de columnas con 9"
   ]
  },
  {
   "cell_type": "code",
   "execution_count": 272,
   "metadata": {},
   "outputs": [],
   "source": [
    "endireh.loc[endireh['P9_1_1']==9, [F'P9_1_{i}' for i in range(1,10)]] = 0.0 #los valores con 9 se hacen 0"
   ]
  },
  {
   "cell_type": "markdown",
   "metadata": {},
   "source": [
    "#### Pregunta 5"
   ]
  },
  {
   "cell_type": "code",
   "execution_count": 273,
   "metadata": {},
   "outputs": [],
   "source": [
    "endireh.insert(41, \"P9_5_12\", 0.0) #agregar columna con ceros"
   ]
  },
  {
   "cell_type": "code",
   "execution_count": 274,
   "metadata": {},
   "outputs": [],
   "source": [
    "endireh.loc[endireh['P9_5_1']==9, 'P9_5_12']=1.0 #asignar los valores de columnas con 9"
   ]
  },
  {
   "cell_type": "code",
   "execution_count": 275,
   "metadata": {},
   "outputs": [],
   "source": [
    "endireh.loc[endireh['P9_5_1']==9, [F'P9_5_{i}' for i in range(1,12)]]=0.0 #los valores con 9 se hacen 0"
   ]
  },
  {
   "cell_type": "markdown",
   "metadata": {},
   "source": [
    "### 3.2 Crear clasificación\n",
    "\n",
    "A partir de las respuestas de la pregunta 8, crear columna que va a servir de clasificación para los niveles de violencia obstétrica."
   ]
  },
  {
   "cell_type": "code",
   "execution_count": 276,
   "metadata": {},
   "outputs": [],
   "source": [
    "def f(row):\n",
    "    # va de menor a mayor gravedad\n",
    "    val = 0 #ninguno\n",
    "    if row['P9_8_1'] == 1.0 or row['P9_8_2'] == 1.0 or row['P9_8_3'] == 1.0 or row['P9_8_6'] == 1.0: #humillante\n",
    "        val = 1\n",
    "    if row['P9_8_7'] == 1.0 or row['P9_8_8'] == 1.0: #salud reproductiva\n",
    "        val = 2\n",
    "    if row['P9_8_4'] == 1.0 or row['P9_8_5'] == 1.0 or row['P9_8_10'] == 1.0: #atencion medica\n",
    "        val = 3\n",
    "    if row['P9_8_9'] == 1.0 or row['P9_8_14'] == 4.0: #grave\n",
    "        val = 4\n",
    "        \n",
    "    return val"
   ]
  },
  {
   "cell_type": "code",
   "execution_count": 277,
   "metadata": {},
   "outputs": [],
   "source": [
    "endireh.insert(58, \"P9_8\", endireh.apply(f, axis=1))"
   ]
  },
  {
   "cell_type": "markdown",
   "metadata": {},
   "source": [
    "#### 3.2.1 Distribución de clases"
   ]
  },
  {
   "cell_type": "code",
   "execution_count": 278,
   "metadata": {},
   "outputs": [
    {
     "name": "stdout",
     "output_type": "stream",
     "text": [
      "Ninguno:\t73%\n",
      "Humillante:\t11%\n",
      "Salud R.:\t8%\n",
      "A. médica:\t6%\n",
      "Graveee:\t2%\n"
     ]
    },
    {
     "data": {
      "text/plain": [
       "<matplotlib.axes._subplots.AxesSubplot at 0x7f9fa029a400>"
      ]
     },
     "execution_count": 278,
     "metadata": {},
     "output_type": "execute_result"
    },
    {
     "data": {
      "image/png": "[encoded data removed]",
      "text/plain": [
       "<Figure size 432x288 with 1 Axes>"
      ]
     },
     "metadata": {
      "needs_background": "light"
     },
     "output_type": "display_data"
    }
   ],
   "source": [
    "for i,j in zip(['Ninguno', 'Humillante', 'Salud R.', 'A. médica', 'Graveee'], endireh[\"P9_8\"].value_counts()/endireh[\"P9_8\"].value_counts().sum()):\n",
    "    print(f'{i}:\\t{round(j*100)}%')\n",
    "endireh[\"P9_8\"].value_counts().plot(kind='bar')"
   ]
  },
  {
   "cell_type": "code",
   "execution_count": 279,
   "metadata": {},
   "outputs": [
    {
     "data": {
      "text/plain": [
       "6983.280000000001"
      ]
     },
     "execution_count": 279,
     "metadata": {},
     "output_type": "execute_result"
    }
   ],
   "source": [
    "endireh.shape[0]*.27"
   ]
  },
  {
   "cell_type": "markdown",
   "metadata": {},
   "source": [
    "Por lo tanto solo 27% de los registros sufrieron violencia obstétrica durante el parto lo que equivale a 6983 personas. \n",
    "# ¿Es esto suficiente?"
   ]
  },
  {
   "cell_type": "markdown",
   "metadata": {},
   "source": [
    "### 3.2 Crear una segunda clasificación\n",
    "\n",
    "A partir de las respuestas de la pregunta 8, crear columna diferente a la anterior para comparar métodos que va a servir de clasificación para los niveles de violencia obstétrica."
   ]
  },
  {
   "cell_type": "code",
   "execution_count": 280,
   "metadata": {},
   "outputs": [],
   "source": [
    "def f(row):\n",
    "    # va de menor a mayor gravedad\n",
    "    val = 0 #ninguno\n",
    "    \n",
    "    #abuso y violencia\n",
    "    if row['P9_8_1'] == 1.0 or row['P9_8_2'] == 1.0 or row['P9_8_3'] == 1.0 or row['P9_8_4'] == 1.0 or row['P9_8_5'] == 1.0 or row['P9_8_6'] == 1.0:\n",
    "        val = 1\n",
    "    \n",
    "    #atencion no autorizada\n",
    "    if row['P9_8_7'] == 1.0 or row['P9_8_8'] == 1.0 or row['P9_8_9'] == 1.0 or row['P9_8_10'] == 1.0 or row['P9_8_14'] == 4.0:\n",
    "        val = 2\n",
    "    \n",
    "    return val"
   ]
  },
  {
   "cell_type": "code",
   "execution_count": 281,
   "metadata": {},
   "outputs": [],
   "source": [
    "endireh.insert(58, \"P9_9\", endireh.apply(f, axis=1))"
   ]
  },
  {
   "cell_type": "markdown",
   "metadata": {},
   "source": [
    "#### 3.3.1 Distribución de clases"
   ]
  },
  {
   "cell_type": "code",
   "execution_count": 282,
   "metadata": {},
   "outputs": [
    {
     "name": "stdout",
     "output_type": "stream",
     "text": [
      "Ninguno:\t0.7337612124961336%\n",
      "Abuso y violencia:\t0.138648314259202%\n",
      "Atencion no autorizada:\t0.1275904732446644%\n"
     ]
    },
    {
     "data": {
      "text/plain": [
       "<matplotlib.axes._subplots.AxesSubplot at 0x7f9fa1e89518>"
      ]
     },
     "execution_count": 282,
     "metadata": {},
     "output_type": "execute_result"
    },
    {
     "data": {
      "image/png": "[encoded data removed]",
      "text/plain": [
       "<Figure size 432x288 with 1 Axes>"
      ]
     },
     "metadata": {
      "needs_background": "light"
     },
     "output_type": "display_data"
    }
   ],
   "source": [
    "for i,j in zip(['Ninguno', 'Abuso y violencia', 'Atencion no autorizada'], endireh[\"P9_9\"].value_counts()/endireh[\"P9_9\"].value_counts().sum()):\n",
    "    print(f'{i}:\\t{j}%')\n",
    "endireh[\"P9_9\"].value_counts().plot(kind='bar')"
   ]
  },
  {
   "cell_type": "markdown",
   "metadata": {},
   "source": [
    "Con la clasificación propuesta en [este artículo](file:///C:/Users/Ang%C3%A9lica/Documents/1%20TICs%202021-2/tutoria/67.Maltratodurantelaatencinobsttrica.pdf) en la pagina 9, da mejor distribución de las variables."
   ]
  },
  {
   "cell_type": "markdown",
   "metadata": {},
   "source": [
    "### 3.3 Crear una segunda clasificación\n",
    "\n",
    "A partir de las respuestas de la pregunta 8, crear columna diferente a la anterior para comparar métodos que va a servir de clasificación para los niveles de violencia obstétrica.\n",
    "\n",
    "Siguiendo el libro y el del 3.2 marcar si sufrió de ambos tipos de violencia (tercera clasificación)"
   ]
  },
  {
   "cell_type": "code",
   "execution_count": 283,
   "metadata": {},
   "outputs": [],
   "source": [
    "def f(row):\n",
    "    # va de menor a mayor gravedad\n",
    "    val = [0,0] #ninguno\n",
    "    \n",
    "    #abuso y violencia\n",
    "    if row['P9_8_1'] == 1.0 or row['P9_8_2'] == 1.0 or row['P9_8_3'] == 1.0 or row['P9_8_4'] == 1.0 or row['P9_8_5'] == 1.0 or row['P9_8_6'] == 1.0:\n",
    "        val[0] = 1\n",
    "    \n",
    "    #atencion no autorizada\n",
    "    if row['P9_8_7'] == 1.0 or row['P9_8_8'] == 1.0 or row['P9_8_9'] == 1.0 or row['P9_8_10'] == 1.0 or row['P9_8_14'] == 4.0:\n",
    "        val[1] = 1\n",
    "    \n",
    "    if val[0]==1 and val[1]==1:\n",
    "        return 3\n",
    "    elif val[0]==1:\n",
    "        return 1\n",
    "    elif val[1]==1:\n",
    "        return 2\n",
    "    else: \n",
    "        return 0"
   ]
  },
  {
   "cell_type": "code",
   "execution_count": 284,
   "metadata": {},
   "outputs": [],
   "source": [
    "endireh.insert(58, \"P9_11\", endireh.apply(f, axis=1))"
   ]
  },
  {
   "cell_type": "markdown",
   "metadata": {},
   "source": [
    "#### 3.3.1 Distribución de clases"
   ]
  },
  {
   "cell_type": "code",
   "execution_count": 286,
   "metadata": {},
   "outputs": [
    {
     "name": "stdout",
     "output_type": "stream",
     "text": [
      "Ninguno:\t73%\n",
      "Abuso y violencia:\t14%\n",
      "Atencion no autorizada:\t7%\n",
      "Ambos:\t6%\n"
     ]
    },
    {
     "data": {
      "text/plain": [
       "<matplotlib.axes._subplots.AxesSubplot at 0x7f9f9f98f320>"
      ]
     },
     "execution_count": 286,
     "metadata": {},
     "output_type": "execute_result"
    },
    {
     "data": {
      "image/png": "[encoded data removed]",
      "text/plain": [
       "<Figure size 432x288 with 1 Axes>"
      ]
     },
     "metadata": {
      "needs_background": "light"
     },
     "output_type": "display_data"
    }
   ],
   "source": [
    "for i,j in zip(['Ninguno', 'Abuso y violencia', 'Atencion no autorizada', 'Ambos'], endireh[\"P9_11\"].value_counts()/endireh[\"P9_11\"].value_counts().sum()):\n",
    "    print(f'{i}:\\t{round(j*100)}%')\n",
    "endireh[\"P9_11\"].value_counts().plot(kind='bar')"
   ]
  },
  {
   "cell_type": "code",
   "execution_count": 289,
   "metadata": {},
   "outputs": [
    {
     "data": {
      "text/plain": [
       "0.2054794520547945"
      ]
     },
     "execution_count": 289,
     "metadata": {},
     "output_type": "execute_result"
    }
   ],
   "source": [
    ".15/.73 # necesito el 20% de los no para obtener la muestra representativa"
   ]
  },
  {
   "cell_type": "code",
   "execution_count": 292,
   "metadata": {},
   "outputs": [
    {
     "data": {
      "text/plain": [
       "14.600000000000001"
      ]
     },
     "execution_count": 292,
     "metadata": {},
     "output_type": "execute_result"
    }
   ],
   "source": [
    "100*.73*.20"
   ]
  },
  {
   "cell_type": "markdown",
   "metadata": {},
   "source": [
    "## 4. Borrar columnas"
   ]
  },
  {
   "cell_type": "markdown",
   "metadata": {},
   "source": [
    "### 4.1  Las columnas con datos que ya son representados en otras columnas son:\n",
    "\n",
    "<center>[NOM_ENT, NOM_MUN]</center>\n",
    "\n",
    "Eliminar las columnas de nombre de municipio y nombre del estado que ya está representados con números en otras columnas.\n"
   ]
  },
  {
   "cell_type": "code",
   "execution_count": 173,
   "metadata": {},
   "outputs": [],
   "source": [
    "endireh.drop(labels=['NOM_ENT', 'NOM_MUN'], axis=1, inplace=True)"
   ]
  },
  {
   "cell_type": "markdown",
   "metadata": {},
   "source": [
    "### 4.2 Las columnas con datos innecesarios:\n",
    "\n",
    "<center>[COD_RES_MU, COD_RES, P9_2]</center>\n",
    "\n",
    "Eliminar las columnas cuyos registros solo tomen un valor. En este caso las columnas que representan el estatus de haber sido completadas y de estar embarazada (cuya variabilidad de acorto en el inciso 2)."
   ]
  },
  {
   "cell_type": "code",
   "execution_count": 174,
   "metadata": {},
   "outputs": [],
   "source": [
    "endireh.drop(labels=['COD_RES_MU', 'COD_RES', 'P9_2'], axis=1, inplace=True)"
   ]
  },
  {
   "cell_type": "markdown",
   "metadata": {},
   "source": [
    "### 4.3 Las columnas de violencia obtétrica durante el parto:\n",
    "\n",
    "<center>[P9_8_1, ..., P9_8_10, P9_8_12]</center>\n",
    "\n",
    "Eliminar las columnas cuyos registros se utilisen para la creación de la clasificación. Preservando los datos de si el último hijo nació por cesárea, y quién dió la autorización para la cesárea."
   ]
  },
  {
   "cell_type": "code",
   "execution_count": 175,
   "metadata": {},
   "outputs": [],
   "source": [
    "columnas = [f'P9_8_{i}' for i in range(1,11)]\n",
    "columnas.append('P9_8_12')"
   ]
  },
  {
   "cell_type": "code",
   "execution_count": 176,
   "metadata": {},
   "outputs": [],
   "source": [
    "endireh.drop(labels=columnas, axis=1, inplace=True)"
   ]
  },
  {
   "cell_type": "markdown",
   "metadata": {},
   "source": [
    "## 5. Limpiar columnas\n",
    "\n",
    "Las columnas con datos por limpiar (que sus datos terminan en __\\r__) :\n",
    "\n",
    "Usamos expresiones regulares para quedarnos con la parte de la expresión que no tiene el termino \\r"
   ]
  },
  {
   "cell_type": "code",
   "execution_count": 177,
   "metadata": {},
   "outputs": [],
   "source": [
    "endireh_r = copy.copy(endireh)"
   ]
  },
  {
   "cell_type": "code",
   "execution_count": 178,
   "metadata": {},
   "outputs": [],
   "source": [
    "endireh_r = endireh.replace(regex=r'(\\w+)(\\W)*\\r', value=r'\\1')"
   ]
  },
  {
   "cell_type": "code",
   "execution_count": 179,
   "metadata": {},
   "outputs": [
    {
     "data": {
      "text/html": [
       "<div>\n",
       "<style scoped>\n",
       "    .dataframe tbody tr th:only-of-type {\n",
       "        vertical-align: middle;\n",
       "    }\n",
       "\n",
       "    .dataframe tbody tr th {\n",
       "        vertical-align: top;\n",
       "    }\n",
       "\n",
       "    .dataframe thead th {\n",
       "        text-align: right;\n",
       "    }\n",
       "</style>\n",
       "<table border=\"1\" class=\"dataframe\">\n",
       "  <thead>\n",
       "    <tr style=\"text-align: right;\">\n",
       "      <th></th>\n",
       "      <th>ID_VIV</th>\n",
       "      <th>ID_MUJ</th>\n",
       "      <th>UPM</th>\n",
       "      <th>REN_M_ELE</th>\n",
       "      <th>VIV_SEL</th>\n",
       "      <th>PROG</th>\n",
       "      <th>HOGAR</th>\n",
       "      <th>DOMINIO</th>\n",
       "      <th>CVE_ENT</th>\n",
       "      <th>CVE_MUN</th>\n",
       "      <th>...</th>\n",
       "      <th>P9_7</th>\n",
       "      <th>P9_8_11</th>\n",
       "      <th>P9_8_13</th>\n",
       "      <th>P9_8_14</th>\n",
       "      <th>P9_8</th>\n",
       "      <th>FAC_VIV</th>\n",
       "      <th>FAC_MUJ</th>\n",
       "      <th>ESTRATO</th>\n",
       "      <th>UPM_DIS</th>\n",
       "      <th>EST_DIS</th>\n",
       "    </tr>\n",
       "  </thead>\n",
       "  <tbody>\n",
       "    <tr>\n",
       "      <th>0</th>\n",
       "      <td>100097.01</td>\n",
       "      <td>0100097.01.01.02</td>\n",
       "      <td>100097</td>\n",
       "      <td>2</td>\n",
       "      <td>1</td>\n",
       "      <td>18</td>\n",
       "      <td>1</td>\n",
       "      <td>U</td>\n",
       "      <td>1</td>\n",
       "      <td>1</td>\n",
       "      <td>...</td>\n",
       "      <td>5.0</td>\n",
       "      <td>1.0</td>\n",
       "      <td>1.0</td>\n",
       "      <td>NaN</td>\n",
       "      <td>0</td>\n",
       "      <td>82</td>\n",
       "      <td>82</td>\n",
       "      <td>2</td>\n",
       "      <td>28</td>\n",
       "      <td>10</td>\n",
       "    </tr>\n",
       "    <tr>\n",
       "      <th>1</th>\n",
       "      <td>100101.04</td>\n",
       "      <td>0100101.04.01.03</td>\n",
       "      <td>100101</td>\n",
       "      <td>3</td>\n",
       "      <td>4</td>\n",
       "      <td>51</td>\n",
       "      <td>1</td>\n",
       "      <td>U</td>\n",
       "      <td>1</td>\n",
       "      <td>1</td>\n",
       "      <td>...</td>\n",
       "      <td>5.0</td>\n",
       "      <td>1.0</td>\n",
       "      <td>2.0</td>\n",
       "      <td>4.0</td>\n",
       "      <td>4</td>\n",
       "      <td>94</td>\n",
       "      <td>189</td>\n",
       "      <td>3</td>\n",
       "      <td>29</td>\n",
       "      <td>20</td>\n",
       "    </tr>\n",
       "    <tr>\n",
       "      <th>2</th>\n",
       "      <td>100105.03</td>\n",
       "      <td>0100105.03.01.02</td>\n",
       "      <td>100105</td>\n",
       "      <td>2</td>\n",
       "      <td>3</td>\n",
       "      <td>171</td>\n",
       "      <td>1</td>\n",
       "      <td>U</td>\n",
       "      <td>1</td>\n",
       "      <td>1</td>\n",
       "      <td>...</td>\n",
       "      <td>2.0</td>\n",
       "      <td>2.0</td>\n",
       "      <td>NaN</td>\n",
       "      <td>NaN</td>\n",
       "      <td>3</td>\n",
       "      <td>85</td>\n",
       "      <td>85</td>\n",
       "      <td>3</td>\n",
       "      <td>31</td>\n",
       "      <td>20</td>\n",
       "    </tr>\n",
       "    <tr>\n",
       "      <th>3</th>\n",
       "      <td>100109.01</td>\n",
       "      <td>0100109.01.01.04</td>\n",
       "      <td>100109</td>\n",
       "      <td>4</td>\n",
       "      <td>1</td>\n",
       "      <td>21</td>\n",
       "      <td>1</td>\n",
       "      <td>U</td>\n",
       "      <td>1</td>\n",
       "      <td>1</td>\n",
       "      <td>...</td>\n",
       "      <td>5.0</td>\n",
       "      <td>1.0</td>\n",
       "      <td>1.0</td>\n",
       "      <td>NaN</td>\n",
       "      <td>0</td>\n",
       "      <td>92</td>\n",
       "      <td>185</td>\n",
       "      <td>3</td>\n",
       "      <td>32</td>\n",
       "      <td>20</td>\n",
       "    </tr>\n",
       "    <tr>\n",
       "      <th>4</th>\n",
       "      <td>100109.03</td>\n",
       "      <td>0100109.03.01.02</td>\n",
       "      <td>100109</td>\n",
       "      <td>2</td>\n",
       "      <td>3</td>\n",
       "      <td>33</td>\n",
       "      <td>1</td>\n",
       "      <td>U</td>\n",
       "      <td>1</td>\n",
       "      <td>1</td>\n",
       "      <td>...</td>\n",
       "      <td>6.0</td>\n",
       "      <td>1.0</td>\n",
       "      <td>1.0</td>\n",
       "      <td>NaN</td>\n",
       "      <td>0</td>\n",
       "      <td>92</td>\n",
       "      <td>92</td>\n",
       "      <td>3</td>\n",
       "      <td>32</td>\n",
       "      <td>20</td>\n",
       "    </tr>\n",
       "    <tr>\n",
       "      <th>5</th>\n",
       "      <td>100003.03</td>\n",
       "      <td>0100003.03.01.02</td>\n",
       "      <td>100003</td>\n",
       "      <td>2</td>\n",
       "      <td>3</td>\n",
       "      <td>61</td>\n",
       "      <td>1</td>\n",
       "      <td>U</td>\n",
       "      <td>1</td>\n",
       "      <td>1</td>\n",
       "      <td>...</td>\n",
       "      <td>6.0</td>\n",
       "      <td>1.0</td>\n",
       "      <td>1.0</td>\n",
       "      <td>NaN</td>\n",
       "      <td>0</td>\n",
       "      <td>115</td>\n",
       "      <td>115</td>\n",
       "      <td>4</td>\n",
       "      <td>2</td>\n",
       "      <td>30</td>\n",
       "    </tr>\n",
       "    <tr>\n",
       "      <th>6</th>\n",
       "      <td>100018.04</td>\n",
       "      <td>0100018.04.01.02</td>\n",
       "      <td>100018</td>\n",
       "      <td>2</td>\n",
       "      <td>4</td>\n",
       "      <td>115</td>\n",
       "      <td>1</td>\n",
       "      <td>U</td>\n",
       "      <td>1</td>\n",
       "      <td>1</td>\n",
       "      <td>...</td>\n",
       "      <td>5.0</td>\n",
       "      <td>2.0</td>\n",
       "      <td>NaN</td>\n",
       "      <td>NaN</td>\n",
       "      <td>0</td>\n",
       "      <td>92</td>\n",
       "      <td>92</td>\n",
       "      <td>3</td>\n",
       "      <td>7</td>\n",
       "      <td>20</td>\n",
       "    </tr>\n",
       "    <tr>\n",
       "      <th>7</th>\n",
       "      <td>100025.01</td>\n",
       "      <td>0100025.01.01.07</td>\n",
       "      <td>100025</td>\n",
       "      <td>7</td>\n",
       "      <td>1</td>\n",
       "      <td>9</td>\n",
       "      <td>1</td>\n",
       "      <td>U</td>\n",
       "      <td>1</td>\n",
       "      <td>1</td>\n",
       "      <td>...</td>\n",
       "      <td>5.0</td>\n",
       "      <td>2.0</td>\n",
       "      <td>NaN</td>\n",
       "      <td>NaN</td>\n",
       "      <td>0</td>\n",
       "      <td>92</td>\n",
       "      <td>92</td>\n",
       "      <td>3</td>\n",
       "      <td>9</td>\n",
       "      <td>20</td>\n",
       "    </tr>\n",
       "    <tr>\n",
       "      <th>8</th>\n",
       "      <td>100025.02</td>\n",
       "      <td>0100025.02.01.02</td>\n",
       "      <td>100025</td>\n",
       "      <td>2</td>\n",
       "      <td>2</td>\n",
       "      <td>28</td>\n",
       "      <td>1</td>\n",
       "      <td>U</td>\n",
       "      <td>1</td>\n",
       "      <td>1</td>\n",
       "      <td>...</td>\n",
       "      <td>6.0</td>\n",
       "      <td>1.0</td>\n",
       "      <td>1.0</td>\n",
       "      <td>NaN</td>\n",
       "      <td>0</td>\n",
       "      <td>92</td>\n",
       "      <td>92</td>\n",
       "      <td>3</td>\n",
       "      <td>9</td>\n",
       "      <td>20</td>\n",
       "    </tr>\n",
       "    <tr>\n",
       "      <th>9</th>\n",
       "      <td>100025.05</td>\n",
       "      <td>0100025.05.01.03</td>\n",
       "      <td>100025</td>\n",
       "      <td>3</td>\n",
       "      <td>5</td>\n",
       "      <td>68</td>\n",
       "      <td>1</td>\n",
       "      <td>U</td>\n",
       "      <td>1</td>\n",
       "      <td>1</td>\n",
       "      <td>...</td>\n",
       "      <td>2.0</td>\n",
       "      <td>1.0</td>\n",
       "      <td>1.0</td>\n",
       "      <td>NaN</td>\n",
       "      <td>0</td>\n",
       "      <td>92</td>\n",
       "      <td>184</td>\n",
       "      <td>3</td>\n",
       "      <td>9</td>\n",
       "      <td>20</td>\n",
       "    </tr>\n",
       "  </tbody>\n",
       "</table>\n",
       "<p>10 rows × 48 columns</p>\n",
       "</div>"
      ],
      "text/plain": [
       "      ID_VIV            ID_MUJ     UPM  REN_M_ELE  VIV_SEL  PROG  HOGAR  \\\n",
       "0  100097.01  0100097.01.01.02  100097          2        1    18      1   \n",
       "1  100101.04  0100101.04.01.03  100101          3        4    51      1   \n",
       "2  100105.03  0100105.03.01.02  100105          2        3   171      1   \n",
       "3  100109.01  0100109.01.01.04  100109          4        1    21      1   \n",
       "4  100109.03  0100109.03.01.02  100109          2        3    33      1   \n",
       "5  100003.03  0100003.03.01.02  100003          2        3    61      1   \n",
       "6  100018.04  0100018.04.01.02  100018          2        4   115      1   \n",
       "7  100025.01  0100025.01.01.07  100025          7        1     9      1   \n",
       "8  100025.02  0100025.02.01.02  100025          2        2    28      1   \n",
       "9  100025.05  0100025.05.01.03  100025          3        5    68      1   \n",
       "\n",
       "  DOMINIO  CVE_ENT  CVE_MUN   ...    P9_7  P9_8_11  P9_8_13  P9_8_14  P9_8  \\\n",
       "0       U        1        1   ...     5.0      1.0      1.0      NaN     0   \n",
       "1       U        1        1   ...     5.0      1.0      2.0      4.0     4   \n",
       "2       U        1        1   ...     2.0      2.0      NaN      NaN     3   \n",
       "3       U        1        1   ...     5.0      1.0      1.0      NaN     0   \n",
       "4       U        1        1   ...     6.0      1.0      1.0      NaN     0   \n",
       "5       U        1        1   ...     6.0      1.0      1.0      NaN     0   \n",
       "6       U        1        1   ...     5.0      2.0      NaN      NaN     0   \n",
       "7       U        1        1   ...     5.0      2.0      NaN      NaN     0   \n",
       "8       U        1        1   ...     6.0      1.0      1.0      NaN     0   \n",
       "9       U        1        1   ...     2.0      1.0      1.0      NaN     0   \n",
       "\n",
       "   FAC_VIV  FAC_MUJ  ESTRATO  UPM_DIS  EST_DIS  \n",
       "0       82       82        2       28       10  \n",
       "1       94      189        3       29       20  \n",
       "2       85       85        3       31       20  \n",
       "3       92      185        3       32       20  \n",
       "4       92       92        3       32       20  \n",
       "5      115      115        4        2       30  \n",
       "6       92       92        3        7       20  \n",
       "7       92       92        3        9       20  \n",
       "8       92       92        3        9       20  \n",
       "9       92      184        3        9       20  \n",
       "\n",
       "[10 rows x 48 columns]"
      ]
     },
     "execution_count": 179,
     "metadata": {},
     "output_type": "execute_result"
    }
   ],
   "source": [
    "endireh_r.head(10)"
   ]
  },
  {
   "cell_type": "markdown",
   "metadata": {},
   "source": [
    "## 6. Guardar le dataset"
   ]
  },
  {
   "cell_type": "code",
   "execution_count": 180,
   "metadata": {},
   "outputs": [],
   "source": [
    "#guardo los avances\n",
    "endireh_r.to_csv(\"datasets/sec_ix.csv\")"
   ]
  }
 ],
 "metadata": {
  "kernelspec": {
   "display_name": "Python 3",
   "language": "python",
   "name": "python3"
  },
  "language_info": {
   "codemirror_mode": {
    "name": "ipython",
    "version": 3
   },
   "file_extension": ".py",
   "mimetype": "text/x-python",
   "name": "python",
   "nbconvert_exporter": "python",
   "pygments_lexer": "ipython3",
   "version": "3.6.9"
  }
 },
 "nbformat": 4,
 "nbformat_minor": 4
}
