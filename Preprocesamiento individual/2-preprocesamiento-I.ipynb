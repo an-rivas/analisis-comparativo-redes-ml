{
 "cells": [
  {
   "cell_type": "markdown",
   "metadata": {},
   "source": [
    "# Preprocesamiento de datos"
   ]
  },
  {
   "cell_type": "markdown",
   "metadata": {},
   "source": [
    "## Objetivos particulares:\n",
    "\n",
    "# ¿agregar aquí la regionalización en lugar de sección IX?"
   ]
  },
  {
   "cell_type": "markdown",
   "metadata": {},
   "source": [
    "## Librerías"
   ]
  },
  {
   "cell_type": "code",
   "execution_count": 2,
   "metadata": {},
   "outputs": [],
   "source": [
    "import pandas as pd\n",
    "import numpy as np\n",
    "import random\n",
    "import copy\n",
    "from sklearn.preprocessing import LabelEncoder"
   ]
  },
  {
   "cell_type": "markdown",
   "metadata": {},
   "source": [
    "## 1. Cargar el conjunto de datos ENDIREH Sección IX: Atención Obstétrica"
   ]
  },
  {
   "cell_type": "code",
   "execution_count": 3,
   "metadata": {},
   "outputs": [],
   "source": [
    "ruta_parcial = \"../../conjunto_de_datos_endireh_2016_csv/conjunto_de_datos_tviv_endireh_2016/conjunto_de_datos/conjunto_de_datos_tviv_endireh_2016.csv\"\n",
    "\n",
    "endireh = pd.read_csv(ruta_parcial, na_values=['\\r'])"
   ]
  },
  {
   "cell_type": "code",
   "execution_count": 3,
   "metadata": {},
   "outputs": [
    {
     "data": {
      "text/html": [
       "<div>\n",
       "<style scoped>\n",
       "    .dataframe tbody tr th:only-of-type {\n",
       "        vertical-align: middle;\n",
       "    }\n",
       "\n",
       "    .dataframe tbody tr th {\n",
       "        vertical-align: top;\n",
       "    }\n",
       "\n",
       "    .dataframe thead th {\n",
       "        text-align: right;\n",
       "    }\n",
       "</style>\n",
       "<table border=\"1\" class=\"dataframe\">\n",
       "  <thead>\n",
       "    <tr style=\"text-align: right;\">\n",
       "      <th></th>\n",
       "      <th>ID_VIV</th>\n",
       "      <th>UPM</th>\n",
       "      <th>PROG</th>\n",
       "      <th>VIV_SEL</th>\n",
       "      <th>CVE_ENT</th>\n",
       "      <th>NOM_ENT</th>\n",
       "      <th>CVE_MUN</th>\n",
       "      <th>NOM_MUN</th>\n",
       "      <th>COD_RES</th>\n",
       "      <th>P1_1</th>\n",
       "      <th>...</th>\n",
       "      <th>P1_9</th>\n",
       "      <th>P1_10_1</th>\n",
       "      <th>P1_10_2</th>\n",
       "      <th>P1_10_3</th>\n",
       "      <th>P1_10_4</th>\n",
       "      <th>FAC_VIV</th>\n",
       "      <th>DOMINIO</th>\n",
       "      <th>EST_DIS</th>\n",
       "      <th>UPM_DIS</th>\n",
       "      <th>ESTRATO</th>\n",
       "    </tr>\n",
       "  </thead>\n",
       "  <tbody>\n",
       "    <tr>\n",
       "      <th>65648</th>\n",
       "      <td>1801243.17</td>\n",
       "      <td>1801243</td>\n",
       "      <td>146</td>\n",
       "      <td>17</td>\n",
       "      <td>18</td>\n",
       "      <td>Nayarit\\r</td>\n",
       "      <td>15</td>\n",
       "      <td>Santiago Ixcuintla\\r</td>\n",
       "      <td>1</td>\n",
       "      <td>3</td>\n",
       "      <td>...</td>\n",
       "      <td>NaN</td>\n",
       "      <td>NaN</td>\n",
       "      <td>NaN</td>\n",
       "      <td>NaN</td>\n",
       "      <td>NaN</td>\n",
       "      <td>99</td>\n",
       "      <td>C\\r</td>\n",
       "      <td>3270</td>\n",
       "      <td>10100</td>\n",
       "      <td>3</td>\n",
       "    </tr>\n",
       "    <tr>\n",
       "      <th>58033</th>\n",
       "      <td>1603952.08</td>\n",
       "      <td>1603952</td>\n",
       "      <td>107</td>\n",
       "      <td>8</td>\n",
       "      <td>16</td>\n",
       "      <td>Michoacan de Ocampo\\r</td>\n",
       "      <td>76</td>\n",
       "      <td>Sahuayo\\r</td>\n",
       "      <td>1</td>\n",
       "      <td>2</td>\n",
       "      <td>...</td>\n",
       "      <td>NaN</td>\n",
       "      <td>NaN</td>\n",
       "      <td>NaN</td>\n",
       "      <td>NaN</td>\n",
       "      <td>NaN</td>\n",
       "      <td>292</td>\n",
       "      <td>C\\r</td>\n",
       "      <td>2910</td>\n",
       "      <td>9068</td>\n",
       "      <td>2</td>\n",
       "    </tr>\n",
       "    <tr>\n",
       "      <th>120555</th>\n",
       "      <td>3260090.15</td>\n",
       "      <td>3260090</td>\n",
       "      <td>23</td>\n",
       "      <td>15</td>\n",
       "      <td>32</td>\n",
       "      <td>Zacatecas\\r</td>\n",
       "      <td>38</td>\n",
       "      <td>Pinos\\r</td>\n",
       "      <td>1</td>\n",
       "      <td>2</td>\n",
       "      <td>...</td>\n",
       "      <td>NaN</td>\n",
       "      <td>NaN</td>\n",
       "      <td>NaN</td>\n",
       "      <td>NaN</td>\n",
       "      <td>NaN</td>\n",
       "      <td>112</td>\n",
       "      <td>R\\r</td>\n",
       "      <td>6190</td>\n",
       "      <td>17916</td>\n",
       "      <td>2</td>\n",
       "    </tr>\n",
       "    <tr>\n",
       "      <th>37548</th>\n",
       "      <td>1060394.17</td>\n",
       "      <td>1060394</td>\n",
       "      <td>180</td>\n",
       "      <td>17</td>\n",
       "      <td>10</td>\n",
       "      <td>Durango\\r</td>\n",
       "      <td>16</td>\n",
       "      <td>Nombre de Dios\\r</td>\n",
       "      <td>1</td>\n",
       "      <td>2</td>\n",
       "      <td>...</td>\n",
       "      <td>NaN</td>\n",
       "      <td>NaN</td>\n",
       "      <td>NaN</td>\n",
       "      <td>NaN</td>\n",
       "      <td>NaN</td>\n",
       "      <td>122</td>\n",
       "      <td>R\\r</td>\n",
       "      <td>1740</td>\n",
       "      <td>6219</td>\n",
       "      <td>2</td>\n",
       "    </tr>\n",
       "    <tr>\n",
       "      <th>119636</th>\n",
       "      <td>3201704.07</td>\n",
       "      <td>3201704</td>\n",
       "      <td>175</td>\n",
       "      <td>7</td>\n",
       "      <td>32</td>\n",
       "      <td>Zacatecas\\r</td>\n",
       "      <td>48</td>\n",
       "      <td>Tlaltenango de Sánchez Román\\r</td>\n",
       "      <td>1</td>\n",
       "      <td>2</td>\n",
       "      <td>...</td>\n",
       "      <td>NaN</td>\n",
       "      <td>NaN</td>\n",
       "      <td>NaN</td>\n",
       "      <td>NaN</td>\n",
       "      <td>NaN</td>\n",
       "      <td>81</td>\n",
       "      <td>C\\r</td>\n",
       "      <td>6140</td>\n",
       "      <td>17865</td>\n",
       "      <td>2</td>\n",
       "    </tr>\n",
       "  </tbody>\n",
       "</table>\n",
       "<p>5 rows × 36 columns</p>\n",
       "</div>"
      ],
      "text/plain": [
       "            ID_VIV      UPM  PROG  VIV_SEL  CVE_ENT                NOM_ENT  \\\n",
       "65648   1801243.17  1801243   146       17       18              Nayarit\\r   \n",
       "58033   1603952.08  1603952   107        8       16  Michoacan de Ocampo\\r   \n",
       "120555  3260090.15  3260090    23       15       32            Zacatecas\\r   \n",
       "37548   1060394.17  1060394   180       17       10              Durango\\r   \n",
       "119636  3201704.07  3201704   175        7       32            Zacatecas\\r   \n",
       "\n",
       "        CVE_MUN                         NOM_MUN  COD_RES  P1_1   ...     P1_9  \\\n",
       "65648        15            Santiago Ixcuintla\\r        1     3   ...      NaN   \n",
       "58033        76                       Sahuayo\\r        1     2   ...      NaN   \n",
       "120555       38                         Pinos\\r        1     2   ...      NaN   \n",
       "37548        16                Nombre de Dios\\r        1     2   ...      NaN   \n",
       "119636       48  Tlaltenango de Sánchez Román\\r        1     2   ...      NaN   \n",
       "\n",
       "        P1_10_1  P1_10_2  P1_10_3  P1_10_4  FAC_VIV  DOMINIO  EST_DIS  \\\n",
       "65648       NaN      NaN      NaN      NaN       99      C\\r     3270   \n",
       "58033       NaN      NaN      NaN      NaN      292      C\\r     2910   \n",
       "120555      NaN      NaN      NaN      NaN      112      R\\r     6190   \n",
       "37548       NaN      NaN      NaN      NaN      122      R\\r     1740   \n",
       "119636      NaN      NaN      NaN      NaN       81      C\\r     6140   \n",
       "\n",
       "        UPM_DIS  ESTRATO  \n",
       "65648     10100        3  \n",
       "58033      9068        2  \n",
       "120555    17916        2  \n",
       "37548      6219        2  \n",
       "119636    17865        2  \n",
       "\n",
       "[5 rows x 36 columns]"
      ]
     },
     "execution_count": 3,
     "metadata": {},
     "output_type": "execute_result"
    }
   ],
   "source": [
    "endireh.iloc[random.choices(range(endireh.shape[0]), k=5)]\n",
    "#endireh.iloc[[83867, 107779, 25309, 64234, 81171]]"
   ]
  },
  {
   "cell_type": "markdown",
   "metadata": {},
   "source": [
    "## 2. Modificar columnas a ser _One Hot Encoding_\n",
    "\n",
    "Hacer que las columnas P1_4 y P1_8 en donde tienen el valor 2 sean 0s."
   ]
  },
  {
   "cell_type": "code",
   "execution_count": 5,
   "metadata": {},
   "outputs": [],
   "source": [
    "columnasP1_4 = [f'P1_4_{i}' for i in range(1,10)]\n",
    "\n",
    "for c in columnasP1_4:\n",
    "    endireh.loc[endireh[c]==2, c] = 0 #asignar los ceros de columnas con 2"
   ]
  },
  {
   "cell_type": "code",
   "execution_count": 5,
   "metadata": {},
   "outputs": [],
   "source": [
    "endireh.loc[endireh['P1_8']==2, 'P1_8'] = 0 #asignar los ceros de columnas con 2"
   ]
  },
  {
   "cell_type": "markdown",
   "metadata": {},
   "source": [
    "## 3. Borrar columnas\n",
    "\n",
    "Borrar las columnas que ya están en otros conjuntos de datos, para no ser redundantes."
   ]
  },
  {
   "cell_type": "code",
   "execution_count": 6,
   "metadata": {},
   "outputs": [],
   "source": [
    "labels = ['CVE_ENT', 'NOM_ENT', 'CVE_MUN', 'NOM_MUN', 'COD_RES', 'DOMINIO', 'UPM', 'PROG','FAC_VIV', 'EST_DIS', 'UPM_DIS', 'ESTRATO']\n",
    "\n",
    "endireh.drop(labels=labels, axis=1, inplace=True)"
   ]
  },
  {
   "cell_type": "markdown",
   "metadata": {},
   "source": [
    "### 4. Guardar el dataset"
   ]
  },
  {
   "cell_type": "code",
   "execution_count": 7,
   "metadata": {},
   "outputs": [],
   "source": [
    "#guardo los avances\n",
    "endireh.to_csv(\"datasets/sec_i.csv\")"
   ]
  }
 ],
 "metadata": {
  "kernelspec": {
   "display_name": "Python 3",
   "language": "python",
   "name": "python3"
  },
  "language_info": {
   "codemirror_mode": {
    "name": "ipython",
    "version": 3
   },
   "file_extension": ".py",
   "mimetype": "text/x-python",
   "name": "python",
   "nbconvert_exporter": "python",
   "pygments_lexer": "ipython3",
   "version": "3.6.9"
  }
 },
 "nbformat": 4,
 "nbformat_minor": 4
}
