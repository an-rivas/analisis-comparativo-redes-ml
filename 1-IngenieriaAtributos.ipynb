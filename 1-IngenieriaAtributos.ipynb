{
 "cells": [
  {
   "cell_type": "markdown",
   "metadata": {},
   "source": [
    "# Preparación de datos"
   ]
  },
  {
   "cell_type": "markdown",
   "metadata": {},
   "source": [
    "## Librerías"
   ]
  },
  {
   "cell_type": "code",
   "execution_count": 75,
   "metadata": {},
   "outputs": [],
   "source": [
    "# Tratamiento de datos\n",
    "# ==============================================================================\n",
    "import pandas as pd\n",
    "import numpy as np\n",
    "import random\n",
    "\n",
    "# Gráficos\n",
    "# ==============================================================================\n",
    "import matplotlib.pyplot as plt\n",
    "import matplotlib_venn as vplt\n",
    "import seaborn as sns\n",
    "\n",
    "# Preprocesado y modelado\n",
    "# ==============================================================================\n",
    "from sklearn.preprocessing import MinMaxScaler, OrdinalEncoder\n",
    "from funciones import CargarPandasDataset, ModificarColumnasValor, BorrarColumnas, InsertarColumnaNueva\n",
    "\n",
    "# Configuración warnings\n",
    "# ==============================================================================\n",
    "import warnings\n",
    "warnings.filterwarnings('ignore')"
   ]
  },
  {
   "cell_type": "code",
   "execution_count": 76,
   "metadata": {},
   "outputs": [],
   "source": [
    "%matplotlib inline"
   ]
  },
  {
   "cell_type": "markdown",
   "metadata": {},
   "source": [
    "## Funciones"
   ]
  },
  {
   "cell_type": "code",
   "execution_count": 77,
   "metadata": {},
   "outputs": [],
   "source": [
    "def clasificacion(row):\n",
    "    val = [0,0] #ninguno\n",
    "    \n",
    "    #abuso y violencia\n",
    "    if row['P10_8_1'] == 1.0 or row['P10_8_2'] == 1.0 or row['P10_8_3'] == 1.0 or row['P10_8_4'] == 1.0 or row['P10_8_5'] == 1.0 or row['P10_8_6'] == 1.0 or row['P10_8_7'] == 1.0:\n",
    "        val[0] = 1\n",
    "    \n",
    "    #atencion no autorizada\n",
    "    if row['P10_8_8'] == 1.0 or row['P10_8_9'] == 1.0 or row['P10_8_10'] == 1.0 or row['P10_8_13'] == 2.0 or row['P10_8_14'] == 2.0:\n",
    "        val[1] = 1\n",
    "    \n",
    "    if val[0]==1 and val[1]==1: #ambas\n",
    "        return 3\n",
    "    elif val[1]==1: #atencion no autorizada\n",
    "        return 2\n",
    "    elif val[0]==1: #abuso y violencia\n",
    "        return 1\n",
    "    else: \n",
    "        return 0 #ninguno    \n",
    "\n",
    "def clasificacionAbuso(row):\n",
    "    if row['P10_8_1'] == 1.0 or row['P10_8_2'] == 1.0 or row['P10_8_3'] == 1.0 or row['P10_8_4'] == 1.0 or row['P10_8_5'] == 1.0 or row['P10_8_6'] == 1.0 or row['P10_8_7'] == 1.0:\n",
    "        return 1\n",
    "    return 0\n",
    "\n",
    "def clasificacionAtencion(row):\n",
    "    if row['P10_8_8'] == 1.0 or row['P10_8_9'] == 1.0 or row['P10_8_10'] == 1.0 or row['P10_8_13'] == 2.0 or row['P10_8_14'] == 2.0:\n",
    "        return 1\n",
    "    return 0\n",
    "\n",
    "def sumaBienesVivienda(row):\n",
    "    return row[[f'P1_4_{i}' for i in range(1,10)]].T.sum()\n",
    "\n",
    "def sumaFuentesDinero(row):\n",
    "    return row[[f'P4_8_{i}' for i in range(1,8)]].T.sum()\n",
    "\n",
    "def sumaPropiedadesHogar(row):\n",
    "    return row[[f'P4_12_{i}' for i in range(1,8)]].T.sum()\n"
   ]
  },
  {
   "cell_type": "markdown",
   "metadata": {},
   "source": [
    "## SECCIÓN I. CARACTERÍSTICAS DE LA VIVIENDA Y HOGARES EN LA VIVIENDA"
   ]
  },
  {
   "cell_type": "markdown",
   "metadata": {},
   "source": [
    "### Cargar datos"
   ]
  },
  {
   "cell_type": "code",
   "execution_count": 78,
   "metadata": {},
   "outputs": [
    {
     "data": {
      "text/html": [
       "<div>\n",
       "<style scoped>\n",
       "    .dataframe tbody tr th:only-of-type {\n",
       "        vertical-align: middle;\n",
       "    }\n",
       "\n",
       "    .dataframe tbody tr th {\n",
       "        vertical-align: top;\n",
       "    }\n",
       "\n",
       "    .dataframe thead th {\n",
       "        text-align: right;\n",
       "    }\n",
       "</style>\n",
       "<table border=\"1\" class=\"dataframe\">\n",
       "  <thead>\n",
       "    <tr style=\"text-align: right;\">\n",
       "      <th></th>\n",
       "      <th>ID_VIV</th>\n",
       "      <th>UPM</th>\n",
       "      <th>VIV_SEL</th>\n",
       "      <th>CVE_ENT</th>\n",
       "      <th>NOM_ENT</th>\n",
       "      <th>CVE_MUN</th>\n",
       "      <th>NOM_MUN</th>\n",
       "      <th>COD_RES</th>\n",
       "      <th>P1_1</th>\n",
       "      <th>P1_2</th>\n",
       "      <th>...</th>\n",
       "      <th>P1_9</th>\n",
       "      <th>P1_10_1</th>\n",
       "      <th>P1_10_2</th>\n",
       "      <th>P1_10_3</th>\n",
       "      <th>P1_10_4</th>\n",
       "      <th>FAC_VIV</th>\n",
       "      <th>DOMINIO</th>\n",
       "      <th>EST_DIS</th>\n",
       "      <th>UPM_DIS</th>\n",
       "      <th>ESTRATO</th>\n",
       "    </tr>\n",
       "  </thead>\n",
       "  <tbody>\n",
       "    <tr>\n",
       "      <th>23778</th>\n",
       "      <td>702760.03</td>\n",
       "      <td>702760</td>\n",
       "      <td>3</td>\n",
       "      <td>7</td>\n",
       "      <td>CHIAPAS\\r</td>\n",
       "      <td>27</td>\n",
       "      <td>CHIAPA DE CORZO\\r</td>\n",
       "      <td>2</td>\n",
       "      <td>2</td>\n",
       "      <td>2</td>\n",
       "      <td>...</td>\n",
       "      <td>NaN</td>\n",
       "      <td>NaN</td>\n",
       "      <td>NaN</td>\n",
       "      <td>NaN</td>\n",
       "      <td>NaN</td>\n",
       "      <td>369</td>\n",
       "      <td>U\\r</td>\n",
       "      <td>113</td>\n",
       "      <td>3921</td>\n",
       "      <td>2</td>\n",
       "    </tr>\n",
       "    <tr>\n",
       "      <th>23463</th>\n",
       "      <td>702500.19</td>\n",
       "      <td>702500</td>\n",
       "      <td>19</td>\n",
       "      <td>7</td>\n",
       "      <td>CHIAPAS\\r</td>\n",
       "      <td>17</td>\n",
       "      <td>CINTALAPA DE FIGUEROA\\r</td>\n",
       "      <td>2</td>\n",
       "      <td>2</td>\n",
       "      <td>1</td>\n",
       "      <td>...</td>\n",
       "      <td>NaN</td>\n",
       "      <td>NaN</td>\n",
       "      <td>NaN</td>\n",
       "      <td>NaN</td>\n",
       "      <td>NaN</td>\n",
       "      <td>311</td>\n",
       "      <td>C\\r</td>\n",
       "      <td>124</td>\n",
       "      <td>3908</td>\n",
       "      <td>2</td>\n",
       "    </tr>\n",
       "    <tr>\n",
       "      <th>15889</th>\n",
       "      <td>560037.20</td>\n",
       "      <td>560037</td>\n",
       "      <td>20</td>\n",
       "      <td>5</td>\n",
       "      <td>COAHUILA DE ZARAGOZA\\r</td>\n",
       "      <td>17</td>\n",
       "      <td>MATAMOROS\\r</td>\n",
       "      <td>1</td>\n",
       "      <td>2</td>\n",
       "      <td>2</td>\n",
       "      <td>...</td>\n",
       "      <td>NaN</td>\n",
       "      <td>NaN</td>\n",
       "      <td>NaN</td>\n",
       "      <td>NaN</td>\n",
       "      <td>NaN</td>\n",
       "      <td>200</td>\n",
       "      <td>R\\r</td>\n",
       "      <td>95</td>\n",
       "      <td>3077</td>\n",
       "      <td>2</td>\n",
       "    </tr>\n",
       "    <tr>\n",
       "      <th>6633</th>\n",
       "      <td>206885.04</td>\n",
       "      <td>206885</td>\n",
       "      <td>4</td>\n",
       "      <td>2</td>\n",
       "      <td>BAJA CALIFORNIA\\r</td>\n",
       "      <td>4</td>\n",
       "      <td>TIJUANA\\r</td>\n",
       "      <td>1</td>\n",
       "      <td>3</td>\n",
       "      <td>1</td>\n",
       "      <td>...</td>\n",
       "      <td>NaN</td>\n",
       "      <td>NaN</td>\n",
       "      <td>NaN</td>\n",
       "      <td>NaN</td>\n",
       "      <td>NaN</td>\n",
       "      <td>268</td>\n",
       "      <td>U\\r</td>\n",
       "      <td>14</td>\n",
       "      <td>1298</td>\n",
       "      <td>2</td>\n",
       "    </tr>\n",
       "    <tr>\n",
       "      <th>67093</th>\n",
       "      <td>1800168.02</td>\n",
       "      <td>1800168</td>\n",
       "      <td>2</td>\n",
       "      <td>18</td>\n",
       "      <td>NAYARIT\\r</td>\n",
       "      <td>17</td>\n",
       "      <td>TEPIC\\r</td>\n",
       "      <td>2</td>\n",
       "      <td>3</td>\n",
       "      <td>1</td>\n",
       "      <td>...</td>\n",
       "      <td>NaN</td>\n",
       "      <td>NaN</td>\n",
       "      <td>NaN</td>\n",
       "      <td>NaN</td>\n",
       "      <td>NaN</td>\n",
       "      <td>78</td>\n",
       "      <td>U\\r</td>\n",
       "      <td>322</td>\n",
       "      <td>9830</td>\n",
       "      <td>3</td>\n",
       "    </tr>\n",
       "  </tbody>\n",
       "</table>\n",
       "<p>5 rows × 35 columns</p>\n",
       "</div>"
      ],
      "text/plain": [
       "           ID_VIV      UPM  VIV_SEL  CVE_ENT                 NOM_ENT  CVE_MUN  \\\n",
       "23778   702760.03   702760        3        7               CHIAPAS\\r       27   \n",
       "23463   702500.19   702500       19        7               CHIAPAS\\r       17   \n",
       "15889   560037.20   560037       20        5  COAHUILA DE ZARAGOZA\\r       17   \n",
       "6633    206885.04   206885        4        2       BAJA CALIFORNIA\\r        4   \n",
       "67093  1800168.02  1800168        2       18               NAYARIT\\r       17   \n",
       "\n",
       "                       NOM_MUN  COD_RES  P1_1  P1_2  ...  P1_9  P1_10_1  \\\n",
       "23778        CHIAPA DE CORZO\\r        2     2     2  ...   NaN      NaN   \n",
       "23463  CINTALAPA DE FIGUEROA\\r        2     2     1  ...   NaN      NaN   \n",
       "15889              MATAMOROS\\r        1     2     2  ...   NaN      NaN   \n",
       "6633                 TIJUANA\\r        1     3     1  ...   NaN      NaN   \n",
       "67093                  TEPIC\\r        2     3     1  ...   NaN      NaN   \n",
       "\n",
       "       P1_10_2  P1_10_3  P1_10_4  FAC_VIV  DOMINIO  EST_DIS  UPM_DIS  ESTRATO  \n",
       "23778      NaN      NaN      NaN      369      U\\r      113     3921        2  \n",
       "23463      NaN      NaN      NaN      311      C\\r      124     3908        2  \n",
       "15889      NaN      NaN      NaN      200      R\\r       95     3077        2  \n",
       "6633       NaN      NaN      NaN      268      U\\r       14     1298        2  \n",
       "67093      NaN      NaN      NaN       78      U\\r      322     9830        3  \n",
       "\n",
       "[5 rows x 35 columns]"
      ]
     },
     "execution_count": 78,
     "metadata": {},
     "output_type": "execute_result"
    }
   ],
   "source": [
    "ruta_parcial = \"conjunto_de_datos_endireh_2021_csv/conjunto_de_datos_TVIV.csv\"\n",
    "\n",
    "seccionI = CargarPandasDataset(ruta_parcial)\n",
    "\n",
    "seccionI.iloc[random.choices(range(seccionI.shape[0]), k=5)]\n",
    "#seccionI.iloc[[83867, 107779, 25309, 64234, 81172]]"
   ]
  },
  {
   "cell_type": "code",
   "execution_count": 79,
   "metadata": {},
   "outputs": [
    {
     "data": {
      "text/plain": [
       "Index(['ID_VIV', 'UPM', 'VIV_SEL', 'CVE_ENT', 'NOM_ENT', 'CVE_MUN', 'NOM_MUN',\n",
       "       'COD_RES', 'P1_1', 'P1_2', 'P1_2_A', 'P1_3', 'P1_4_1', 'P1_4_2',\n",
       "       'P1_4_3', 'P1_4_4', 'P1_4_5', 'P1_4_6', 'P1_4_7', 'P1_4_8', 'P1_4_9',\n",
       "       'P1_5', 'P1_6', 'P1_7', 'P1_8', 'P1_9', 'P1_10_1', 'P1_10_2', 'P1_10_3',\n",
       "       'P1_10_4', 'FAC_VIV', 'DOMINIO', 'EST_DIS', 'UPM_DIS', 'ESTRATO'],\n",
       "      dtype='object')"
      ]
     },
     "execution_count": 79,
     "metadata": {},
     "output_type": "execute_result"
    }
   ],
   "source": [
    "seccionI.columns"
   ]
  },
  {
   "cell_type": "markdown",
   "metadata": {},
   "source": [
    "### Hacer columnas One Hot Encoding\n"
   ]
  },
  {
   "cell_type": "markdown",
   "metadata": {},
   "source": [
    "Cambiar los valores $2$ a $0$.\n",
    "\n",
    "Bienes de vivienda (si tienen  televisión ,lavadora , auto, internet, etc) P1_4_{1, 2, 3, ..., 9}."
   ]
  },
  {
   "cell_type": "code",
   "execution_count": 80,
   "metadata": {},
   "outputs": [],
   "source": [
    "columnasOHE = [f'P1_4_{i}' for i in range(1,10)]\n",
    "\n",
    "seccionI = ModificarColumnasValor(df=seccionI, cols=columnasOHE, valorR=2, valorN=0)"
   ]
  },
  {
   "cell_type": "markdown",
   "metadata": {},
   "source": [
    "### Política de datos faltantes"
   ]
  },
  {
   "cell_type": "markdown",
   "metadata": {},
   "source": [
    "P1_9 la cantidad de hogares en la vivienda se debe poner la existencia de 1 hogar en la vivienda."
   ]
  },
  {
   "cell_type": "code",
   "execution_count": 81,
   "metadata": {},
   "outputs": [],
   "source": [
    "seccionI = ModificarColumnasValor(df=seccionI, cols=['P1_9'], valorR=np.nan, valorN=1)"
   ]
  },
  {
   "cell_type": "markdown",
   "metadata": {},
   "source": [
    "### Creación de nueva columna\n",
    "Para la simplificación de los datos, se contará con cuantos bienes cuenta en la vivienda en lugar de cuáles."
   ]
  },
  {
   "cell_type": "code",
   "execution_count": 82,
   "metadata": {},
   "outputs": [
    {
     "data": {
      "text/plain": [
       "7    19607\n",
       "8    19584\n",
       "6    19191\n",
       "5    18521\n",
       "4    14310\n",
       "9    13897\n",
       "3     8836\n",
       "2     4910\n",
       "1     2563\n",
       "0     1227\n",
       "dtype: int64"
      ]
     },
     "execution_count": 82,
     "metadata": {},
     "output_type": "execute_result"
    }
   ],
   "source": [
    "seccionI[[f'P1_4_{i}' for i in range(1,10)]].T.sum().value_counts() # bienes de la vivienda  \n",
    "# conteo: numero de bienes en la vivienda (BIENES_DE_VIVIENDA)"
   ]
  },
  {
   "cell_type": "code",
   "execution_count": 83,
   "metadata": {},
   "outputs": [],
   "source": [
    "seccionI['BIENES_DE_VIVIENDA'] = seccionI[[f'P1_4_{i}' for i in range(1,10)]].T.sum()"
   ]
  },
  {
   "cell_type": "markdown",
   "metadata": {},
   "source": [
    "### Borrar columnas"
   ]
  },
  {
   "cell_type": "markdown",
   "metadata": {},
   "source": [
    "1. P1_8 Se reemplazó al solo usar P1_9\n",
    "5. VIV_SEL y HOGAR no tiene sentido sin ID_VIV.\n",
    "6. UPM (unidad primaria de muestreo), UPM_DIS (UPM de diseño), EST_DIS (estrato de diseño), ESTRATO, se pueden omitir al ser dato de la tecnica de muestreo y no de la mujer.\n",
    "7. FAC_VIV es Ponderador que se utiliza para estimar resultados de las preguntas que se refieren a las viviendas y la población en general.\n",
    "8. FAC_MUJ es Ponderador que se utiliza para estimar resultados de las preguntas que se refieren a las mujeres de 15 años y más.\n",
    "9. CVE_MUN La clave de municipio depende del estado, habiendo un total de 32 municipios registrados como 1.\n"
   ]
  },
  {
   "cell_type": "code",
   "execution_count": 84,
   "metadata": {},
   "outputs": [],
   "source": [
    "labels = ['CVE_ENT', 'NOM_ENT', 'NOM_MUN', 'COD_RES', 'P1_8',\n",
    "         \"VIV_SEL\", \"UPM\", 'UPM_DIS', 'EST_DIS', 'FAC_VIV', 'CVE_MUN', 'ESTRATO']\n",
    "labels.extend([F'P1_4_{i}' for i in range(1,10)])\n",
    "\n",
    "seccionI = BorrarColumnas(df=seccionI, cols=labels)"
   ]
  },
  {
   "cell_type": "markdown",
   "metadata": {},
   "source": [
    "### Guardar dataset"
   ]
  },
  {
   "cell_type": "raw",
   "metadata": {},
   "source": [
    "GuardarDataset(df=seccionI, name='data/sec_i.csv')"
   ]
  },
  {
   "cell_type": "markdown",
   "metadata": {},
   "source": [
    "## SECCIÓN II. CARACTERÍSTICAS SOCIODEMOGRÁFICAS DE RESIDENTES DE LA VIVIENDA"
   ]
  },
  {
   "cell_type": "markdown",
   "metadata": {},
   "source": [
    "### Cargar los datos"
   ]
  },
  {
   "cell_type": "code",
   "execution_count": 85,
   "metadata": {},
   "outputs": [
    {
     "data": {
      "text/html": [
       "<div>\n",
       "<style scoped>\n",
       "    .dataframe tbody tr th:only-of-type {\n",
       "        vertical-align: middle;\n",
       "    }\n",
       "\n",
       "    .dataframe tbody tr th {\n",
       "        vertical-align: top;\n",
       "    }\n",
       "\n",
       "    .dataframe thead th {\n",
       "        text-align: right;\n",
       "    }\n",
       "</style>\n",
       "<table border=\"1\" class=\"dataframe\">\n",
       "  <thead>\n",
       "    <tr style=\"text-align: right;\">\n",
       "      <th></th>\n",
       "      <th>ID_VIV</th>\n",
       "      <th>ID_PER</th>\n",
       "      <th>UPM</th>\n",
       "      <th>VIV_SEL</th>\n",
       "      <th>CVE_ENT</th>\n",
       "      <th>NOM_ENT</th>\n",
       "      <th>CVE_MUN</th>\n",
       "      <th>NOM_MUN</th>\n",
       "      <th>HOGAR</th>\n",
       "      <th>N_REN</th>\n",
       "      <th>...</th>\n",
       "      <th>COD_M15</th>\n",
       "      <th>CODIGO</th>\n",
       "      <th>REN_MUJ_EL</th>\n",
       "      <th>REN_INF_AD</th>\n",
       "      <th>FAC_VIV</th>\n",
       "      <th>FAC_MUJ</th>\n",
       "      <th>DOMINIO</th>\n",
       "      <th>ESTRATO</th>\n",
       "      <th>EST_DIS</th>\n",
       "      <th>UPM_DIS</th>\n",
       "    </tr>\n",
       "  </thead>\n",
       "  <tbody>\n",
       "    <tr>\n",
       "      <th>422891</th>\n",
       "      <td>3201272.18</td>\n",
       "      <td>3201272.18.1.03\\r</td>\n",
       "      <td>3201272</td>\n",
       "      <td>18</td>\n",
       "      <td>32</td>\n",
       "      <td>ZACATECAS\\r</td>\n",
       "      <td>20</td>\n",
       "      <td>JEREZ\\r</td>\n",
       "      <td>1</td>\n",
       "      <td>3</td>\n",
       "      <td>...</td>\n",
       "      <td>NaN</td>\n",
       "      <td>NaN</td>\n",
       "      <td>NaN</td>\n",
       "      <td>NaN</td>\n",
       "      <td>113</td>\n",
       "      <td>0</td>\n",
       "      <td>C\\r</td>\n",
       "      <td>2</td>\n",
       "      <td>612</td>\n",
       "      <td>17640</td>\n",
       "    </tr>\n",
       "    <tr>\n",
       "      <th>223035</th>\n",
       "      <td>1702262.02</td>\n",
       "      <td>1702262.02.1.01\\r</td>\n",
       "      <td>1702262</td>\n",
       "      <td>2</td>\n",
       "      <td>17</td>\n",
       "      <td>MORELOS\\r</td>\n",
       "      <td>18</td>\n",
       "      <td>TEMIXCO\\r</td>\n",
       "      <td>1</td>\n",
       "      <td>1</td>\n",
       "      <td>...</td>\n",
       "      <td>NaN</td>\n",
       "      <td>NaN</td>\n",
       "      <td>NaN</td>\n",
       "      <td>NaN</td>\n",
       "      <td>154</td>\n",
       "      <td>0</td>\n",
       "      <td>U\\r</td>\n",
       "      <td>2</td>\n",
       "      <td>304</td>\n",
       "      <td>9613</td>\n",
       "    </tr>\n",
       "    <tr>\n",
       "      <th>204708</th>\n",
       "      <td>1601656.01</td>\n",
       "      <td>1601656.01.1.06\\r</td>\n",
       "      <td>1601656</td>\n",
       "      <td>1</td>\n",
       "      <td>16</td>\n",
       "      <td>MICHOACÃN DE OCAMPO\\r</td>\n",
       "      <td>53</td>\n",
       "      <td>MORELIA\\r</td>\n",
       "      <td>1</td>\n",
       "      <td>6</td>\n",
       "      <td>...</td>\n",
       "      <td>NaN</td>\n",
       "      <td>NaN</td>\n",
       "      <td>NaN</td>\n",
       "      <td>NaN</td>\n",
       "      <td>401</td>\n",
       "      <td>0</td>\n",
       "      <td>U\\r</td>\n",
       "      <td>4</td>\n",
       "      <td>282</td>\n",
       "      <td>8940</td>\n",
       "    </tr>\n",
       "    <tr>\n",
       "      <th>65879</th>\n",
       "      <td>560396.01</td>\n",
       "      <td>0560396.01.1.03\\r</td>\n",
       "      <td>560396</td>\n",
       "      <td>1</td>\n",
       "      <td>5</td>\n",
       "      <td>COAHUILA DE ZARAGOZA\\r</td>\n",
       "      <td>35</td>\n",
       "      <td>TORREÃN\\r</td>\n",
       "      <td>1</td>\n",
       "      <td>3</td>\n",
       "      <td>...</td>\n",
       "      <td>NaN</td>\n",
       "      <td>NaN</td>\n",
       "      <td>NaN</td>\n",
       "      <td>NaN</td>\n",
       "      <td>295</td>\n",
       "      <td>0</td>\n",
       "      <td>R\\r</td>\n",
       "      <td>1</td>\n",
       "      <td>94</td>\n",
       "      <td>3095</td>\n",
       "    </tr>\n",
       "    <tr>\n",
       "      <th>402936</th>\n",
       "      <td>3061584.09</td>\n",
       "      <td>3061584.09.1.03\\r</td>\n",
       "      <td>3061584</td>\n",
       "      <td>9</td>\n",
       "      <td>30</td>\n",
       "      <td>VERACRUZ DE IGNACIO DE LA LLAVE\\r</td>\n",
       "      <td>70</td>\n",
       "      <td>HIDALGOTITLÃN\\r</td>\n",
       "      <td>1</td>\n",
       "      <td>3</td>\n",
       "      <td>...</td>\n",
       "      <td>1.0</td>\n",
       "      <td>1.0</td>\n",
       "      <td>3.0</td>\n",
       "      <td>NaN</td>\n",
       "      <td>588</td>\n",
       "      <td>1764</td>\n",
       "      <td>R\\r</td>\n",
       "      <td>1</td>\n",
       "      <td>588</td>\n",
       "      <td>16799</td>\n",
       "    </tr>\n",
       "  </tbody>\n",
       "</table>\n",
       "<p>5 rows × 37 columns</p>\n",
       "</div>"
      ],
      "text/plain": [
       "            ID_VIV             ID_PER      UPM  VIV_SEL  CVE_ENT  \\\n",
       "422891  3201272.18  3201272.18.1.03\\r  3201272       18       32   \n",
       "223035  1702262.02  1702262.02.1.01\\r  1702262        2       17   \n",
       "204708  1601656.01  1601656.01.1.06\\r  1601656        1       16   \n",
       "65879    560396.01  0560396.01.1.03\\r   560396        1        5   \n",
       "402936  3061584.09  3061584.09.1.03\\r  3061584        9       30   \n",
       "\n",
       "                                  NOM_ENT  CVE_MUN           NOM_MUN  HOGAR  \\\n",
       "422891                        ZACATECAS\\r       20           JEREZ\\r      1   \n",
       "223035                          MORELOS\\r       18         TEMIXCO\\r      1   \n",
       "204708             MICHOACÃN DE OCAMPO\\r       53         MORELIA\\r      1   \n",
       "65879              COAHUILA DE ZARAGOZA\\r       35        TORREÃN\\r      1   \n",
       "402936  VERACRUZ DE IGNACIO DE LA LLAVE\\r       70  HIDALGOTITLÃN\\r      1   \n",
       "\n",
       "        N_REN  ... COD_M15  CODIGO  REN_MUJ_EL  REN_INF_AD  FAC_VIV  FAC_MUJ  \\\n",
       "422891      3  ...     NaN     NaN         NaN         NaN      113        0   \n",
       "223035      1  ...     NaN     NaN         NaN         NaN      154        0   \n",
       "204708      6  ...     NaN     NaN         NaN         NaN      401        0   \n",
       "65879       3  ...     NaN     NaN         NaN         NaN      295        0   \n",
       "402936      3  ...     1.0     1.0         3.0         NaN      588     1764   \n",
       "\n",
       "        DOMINIO  ESTRATO  EST_DIS  UPM_DIS  \n",
       "422891      C\\r        2      612    17640  \n",
       "223035      U\\r        2      304     9613  \n",
       "204708      U\\r        4      282     8940  \n",
       "65879       R\\r        1       94     3095  \n",
       "402936      R\\r        1      588    16799  \n",
       "\n",
       "[5 rows x 37 columns]"
      ]
     },
     "execution_count": 85,
     "metadata": {},
     "output_type": "execute_result"
    }
   ],
   "source": [
    "ruta_parcial = \"conjunto_de_datos_endireh_2021_csv/conjunto_de_datos_TSDem.csv\"\n",
    "\n",
    "seccionII = CargarPandasDataset(ruta_parcial)\n",
    "\n",
    "seccionII.iloc[random.choices(range(seccionII.shape[0]), k=5)]"
   ]
  },
  {
   "cell_type": "markdown",
   "metadata": {},
   "source": [
    "### Modificar columnas a OHE"
   ]
  },
  {
   "cell_type": "markdown",
   "metadata": {},
   "source": [
    "Cambiar los valores $2$ a $0$."
   ]
  },
  {
   "cell_type": "code",
   "execution_count": 86,
   "metadata": {},
   "outputs": [],
   "source": [
    "columnasOHE = ['P2_8', 'P2_9', 'P2_11', 'P2_13']\n",
    "\n",
    "seccionII = ModificarColumnasValor(df=seccionII, cols=columnasOHE, valorR=2, valorN=0)"
   ]
  },
  {
   "cell_type": "markdown",
   "metadata": {},
   "source": [
    "### Política de datos faltantes"
   ]
  },
  {
   "cell_type": "markdown",
   "metadata": {},
   "source": [
    "Si P2_7 es mayor a 2 (estudio mínimo la secundaria) se salta la pregunta P2_8 porque asume que sabrán escribir. Por ello, los valores nulos se remplazan por si (1) y hacer que el valor 9 (no especificado) sea nan."
   ]
  },
  {
   "cell_type": "code",
   "execution_count": 87,
   "metadata": {},
   "outputs": [],
   "source": [
    "seccionII[seccionII.NIV>2] = ModificarColumnasValor(df=seccionII[seccionII.NIV>2], cols='P2_8', valorR=np.nan, valorN=1)\n",
    "seccionII = ModificarColumnasValor(df=seccionII, cols='P2_8', valorR=9, valorN=np.nan)"
   ]
  },
  {
   "cell_type": "markdown",
   "metadata": {},
   "source": [
    "### Discretizar P2_5 y P2_6\n",
    "\n",
    "del 1 al 30 son las viviendas registradas en la propiedad, en la 96 es si vive en otro lugar, 97 si falleció y 98 si no sabe.\n",
    "\n",
    "Se discretiza a 1 como valor de que viven en la misma vivienda, 2 como vive en otro lugar, 3 como falleció y nan si no sabe."
   ]
  },
  {
   "cell_type": "code",
   "execution_count": 88,
   "metadata": {},
   "outputs": [],
   "source": [
    "seccionII = ModificarColumnasValor(df=seccionII, cols=['P2_5'], valorR=range(31), valorN=1)\n",
    "seccionII = ModificarColumnasValor(df=seccionII, cols=['P2_5'], valorR=96, valorN=2)\n",
    "seccionII = ModificarColumnasValor(df=seccionII, cols=['P2_5'], valorR=97, valorN=3)\n",
    "seccionII = ModificarColumnasValor(df=seccionII, cols=['P2_5'], valorR=98, valorN=np.nan)"
   ]
  },
  {
   "cell_type": "code",
   "execution_count": 89,
   "metadata": {},
   "outputs": [],
   "source": [
    "seccionII = ModificarColumnasValor(df=seccionII, cols=['P2_6'], valorR=range(31), valorN=1)\n",
    "seccionII = ModificarColumnasValor(df=seccionII, cols=['P2_6'], valorR=96, valorN=2)\n",
    "seccionII = ModificarColumnasValor(df=seccionII, cols=['P2_6'], valorR=97, valorN=3)\n",
    "seccionII = ModificarColumnasValor(df=seccionII, cols=['P2_6'], valorR=98, valorN=np.nan)"
   ]
  },
  {
   "cell_type": "markdown",
   "metadata": {},
   "source": [
    "### Discretizar columna PAREN"
   ]
  },
  {
   "cell_type": "markdown",
   "metadata": {},
   "source": [
    "Según la (Clasificación de parentescos 2012 del INEGI)[https://www.inegi.org.mx/contenidos/programas/mti/2013/doc/clasificacion_parentescos.pdf] existen 9 grupos principales de parentesco que son.\n",
    "\n",
    "| Grupo | Descripción                | De los datos en la encuesta incluiría |\n",
    "|:-----:|:--------------------------:|:--------------------:|\n",
    "| 1     | Jefa o jefe                | Jefa o jefe (1) |\n",
    "| 2     | Esposa o esposo            | Esposa(o) o pareja)  (2) |\n",
    "| 3     | Hija o hijo                | Hija(o) (3) |\n",
    "| 4     | Otro parentesco            | Nieta(o) (4), Nuera o yerno (5), Hermana(o) (6), Madre o padre (7), Suegra(o) (8), Otro parentesco (9) |\n",
    "| 5     | No tiene parentesco        | Sin parentesco (10) |\n",
    "| 6     | Trabajador(a) doméstico(a) | Empleada(o) doméstica(o) (11) |\n",
    "| 7     | Huésped                    |  |\n",
    "| 9     | Parentesco no especificado |  |\n",
    "\n",
    "Que esto nos ayuda a crear menos clasificaciones en los datos para balancear la desigualdad de los datos.Otro parentesco"
   ]
  },
  {
   "cell_type": "code",
   "execution_count": 90,
   "metadata": {},
   "outputs": [
    {
     "data": {
      "text/plain": [
       "3     37.726981\n",
       "1     29.317660\n",
       "2     18.208834\n",
       "4      7.253678\n",
       "9      2.333933\n",
       "5      1.930694\n",
       "6      1.159341\n",
       "10     0.837674\n",
       "7      0.831435\n",
       "8      0.366497\n",
       "11     0.033276\n",
       "Name: PAREN, dtype: float64"
      ]
     },
     "execution_count": 90,
     "metadata": {},
     "output_type": "execute_result"
    }
   ],
   "source": [
    "seccionII.PAREN.value_counts(dropna=False)*100/seccionII.shape[0]"
   ]
  },
  {
   "cell_type": "code",
   "execution_count": 91,
   "metadata": {},
   "outputs": [],
   "source": [
    "seccionII = ModificarColumnasValor(df=seccionII, cols=['PAREN'],\n",
    "                                       valorR=[5,6,7,8,9], valorN=4)\n",
    "seccionII = ModificarColumnasValor(df=seccionII, cols=['PAREN'], \n",
    "                                       valorR=10, valorN=5)\n",
    "seccionII = ModificarColumnasValor(df=seccionII, cols=['PAREN'], \n",
    "                                       valorR=11, valorN=6)"
   ]
  },
  {
   "cell_type": "code",
   "execution_count": 92,
   "metadata": {},
   "outputs": [
    {
     "data": {
      "text/plain": [
       "3    37.726981\n",
       "1    29.317660\n",
       "2    18.208834\n",
       "4    13.875576\n",
       "5     0.837674\n",
       "6     0.033276\n",
       "Name: PAREN, dtype: float64"
      ]
     },
     "execution_count": 92,
     "metadata": {},
     "output_type": "execute_result"
    }
   ],
   "source": [
    "seccionII.PAREN.value_counts(dropna=False)*100/seccionII.shape[0]"
   ]
  },
  {
   "cell_type": "markdown",
   "metadata": {},
   "source": [
    "### Borrar columnas"
   ]
  },
  {
   "cell_type": "markdown",
   "metadata": {},
   "source": [
    "1. N_REN, REN_INF_AD, CODIGO y COD_M15 que son datos metodológicos.\n",
    "4. NOMBRE sin registros.\n",
    "6. P2_16 se borra porque está reflejado en la variable _T\\_INSTRUM_.\n",
    "5. VIV_SEL y HOGAR no tiene sentido sin ID_VIV.\n",
    "6. UPM (unidad primaria de muestreo), UPM_DIS (UPM de diseño), EST_DIS (estrato de diseño), ESTRATO, se pueden omitir al ser dato de la tecnica de muestreo y no de la mujer.\n",
    "7. FAC_VIV es Ponderador que se utiliza para estimar resultados de las preguntas que se refieren a las viviendas y la población en general.\n",
    "8. FAC_MUJ es Ponderador que se utiliza para estimar resultados de las preguntas que se refieren a las mujeres de 15 años y más.\n",
    "9. CVE_MUN La clave de municipio depende del estado, habiendo un total de 32 municipios registrados como 1."
   ]
  },
  {
   "cell_type": "code",
   "execution_count": 93,
   "metadata": {},
   "outputs": [
    {
     "data": {
      "text/plain": [
       "Index(['ID_VIV', 'ID_PER', 'UPM', 'VIV_SEL', 'CVE_ENT', 'NOM_ENT', 'CVE_MUN',\n",
       "       'NOM_MUN', 'HOGAR', 'N_REN', 'NOMBRE', 'PAREN', 'SEXO', 'EDAD', 'P2_5',\n",
       "       'P2_6', 'NIV', 'GRA', 'P2_8', 'P2_9', 'P2_10', 'P2_11', 'P2_12',\n",
       "       'P2_13', 'P2_14', 'P2_15', 'P2_16', 'COD_M15', 'CODIGO', 'REN_MUJ_EL',\n",
       "       'REN_INF_AD', 'FAC_VIV', 'FAC_MUJ', 'DOMINIO', 'ESTRATO', 'EST_DIS',\n",
       "       'UPM_DIS'],\n",
       "      dtype='object')"
      ]
     },
     "execution_count": 93,
     "metadata": {},
     "output_type": "execute_result"
    }
   ],
   "source": [
    "seccionII.columns"
   ]
  },
  {
   "cell_type": "code",
   "execution_count": 94,
   "metadata": {},
   "outputs": [],
   "source": [
    "labels = ['NOM_ENT', 'NOM_MUN', 'NOMBRE', 'N_REN', 'REN_MUJ_EL', 'REN_INF_AD', 'CODIGO', 'COD_M15', 'P2_16',\n",
    "         \"VIV_SEL\", \"HOGAR\", \"UPM\", 'UPM_DIS', 'EST_DIS', 'ESTRATO', 'FAC_VIV', 'FAC_MUJ', 'CVE_MUN']\n",
    "\n",
    "seccionII = BorrarColumnas(df=seccionII, cols=labels)"
   ]
  },
  {
   "cell_type": "markdown",
   "metadata": {},
   "source": [
    "### Guardar dataset"
   ]
  },
  {
   "cell_type": "raw",
   "metadata": {},
   "source": [
    "GuardarDataset(df=seccionII, name='data/sec_ii.csv')"
   ]
  },
  {
   "cell_type": "markdown",
   "metadata": {},
   "source": [
    "## SECCIÓN III. ELEGIBILIDAD Y VERIFICACIÓN DE ESTADO CONYUGAL DE LA MUJER ELEGIDA DE 15 AÑOS O MÁS"
   ]
  },
  {
   "cell_type": "markdown",
   "metadata": {},
   "source": [
    "P3_{1,2,3,...,8} tiene informacion que se ve reflejada en la variable T_INSTRUM, por eso se deberían borrar todas.\n",
    "Ya que en la encuesta general se ve que con base en las preguntas se elige el futuro de T_INSTRUM.\n",
    "Por ello, no cargamos esta parte de la encuesta."
   ]
  },
  {
   "cell_type": "markdown",
   "metadata": {},
   "source": [
    "## SECCIÓN IV. INGRESOS Y RECURSOS"
   ]
  },
  {
   "cell_type": "code",
   "execution_count": 95,
   "metadata": {},
   "outputs": [
    {
     "data": {
      "text/plain": [
       "(110127, 75)"
      ]
     },
     "execution_count": 95,
     "metadata": {},
     "output_type": "execute_result"
    }
   ],
   "source": [
    "ruta_parcial = \"conjunto_de_datos_endireh_2021_csv/conjunto_de_datos_TB_SEC_IV.csv\"\n",
    "\n",
    "seccionIV = CargarPandasDataset(ruta_parcial)\n",
    "\n",
    "seccionIV.shape"
   ]
  },
  {
   "cell_type": "markdown",
   "metadata": {},
   "source": [
    "### Modificar columnas a OHE\n",
    "\n",
    "'P4_1', 'P4_8_i', i pertenece {1,...,7}, 'P4_11', 'P4_12_i', i pertenece {1,...,7}, 'P4C_1', 'P4BC_4', 'P4BC_5'"
   ]
  },
  {
   "cell_type": "markdown",
   "metadata": {},
   "source": [
    "Cambiar los valores $2$ a $0$."
   ]
  },
  {
   "cell_type": "code",
   "execution_count": 96,
   "metadata": {},
   "outputs": [],
   "source": [
    "columnasOHE = ['P4_1', 'P4_11']\n",
    "columnasOHE.extend([f'P4_12_{i}' for i in range(1,8)])\n",
    "columnasOHE.extend([f'P4_8_{i}' for i in range(1,8)])\n",
    "\n",
    "seccionIV = ModificarColumnasValor(df=seccionIV, cols=columnasOHE, valorR=2, valorN=0)"
   ]
  },
  {
   "cell_type": "markdown",
   "metadata": {},
   "source": [
    "### Limpiar los códigos (política de datos faltantes)\n",
    "- 'P4_2_1', 'P4B_2','P4_3', 'P4_5_1_AB', 'P4_6_AB' ## hacer 9 nan\n",
    "- 'P4AB_2', 'P4BC_1', ## hacer 99 nan\n",
    "- 'P4_7_AB' ## 999998 y 999999 hacer nan\n"
   ]
  },
  {
   "cell_type": "code",
   "execution_count": 97,
   "metadata": {},
   "outputs": [],
   "source": [
    "columnasNaN = ['P4_3', 'P4_5_1_AB', 'P4_6_AB']\n",
    "seccionIV = ModificarColumnasValor(df=seccionIV, cols=columnasNaN, valorR=9, valorN=np.nan)\n",
    "\n",
    "seccionIV = ModificarColumnasValor(df=seccionIV, cols=['P4_7_AB'], valorR=999998, valorN=np.nan)\n",
    "seccionIV = ModificarColumnasValor(df=seccionIV, cols=['P4_7_AB'], valorR=999999, valorN=np.nan)"
   ]
  },
  {
   "cell_type": "markdown",
   "metadata": {},
   "source": [
    "### Creación de nueva columna\n",
    "Para la simplificación de los datos, se contará con cuantas fuentes de ingresos tiene la entrevistada y propiedades hay en el hogar."
   ]
  },
  {
   "cell_type": "code",
   "execution_count": 98,
   "metadata": {},
   "outputs": [
    {
     "data": {
      "text/plain": [
       "0    76448\n",
       "1    28174\n",
       "2     5016\n",
       "3      442\n",
       "4       45\n",
       "5        2\n",
       "dtype: int64"
      ]
     },
     "execution_count": 98,
     "metadata": {},
     "output_type": "execute_result"
    }
   ],
   "source": [
    "seccionIV[[F'P4_8_{i}' for i in range(1,8)]].T.sum().value_counts() # fuentes de dinero\n",
    "# conteo: numero de fuentes de ingresos (FUENTES_DE_DINERO)"
   ]
  },
  {
   "cell_type": "code",
   "execution_count": 99,
   "metadata": {},
   "outputs": [
    {
     "data": {
      "text/plain": [
       "1    39815\n",
       "2    31278\n",
       "0    23524\n",
       "3    11205\n",
       "4     3175\n",
       "5      850\n",
       "6      228\n",
       "7       52\n",
       "dtype: int64"
      ]
     },
     "execution_count": 99,
     "metadata": {},
     "output_type": "execute_result"
    }
   ],
   "source": [
    "seccionIV[[F'P4_12_{i}' for i in range(1,8)]].T.sum().value_counts() # propiedades del hogar \n",
    "# conteo: numero de propiedades del hogar (PROPIEDADES_DEL_HOGAR)"
   ]
  },
  {
   "cell_type": "code",
   "execution_count": 100,
   "metadata": {},
   "outputs": [],
   "source": [
    "seccionIV['FUENTES_DE_DINERO'] = seccionIV[[f'P4_8_{i}' for i in range(1,8)]].T.sum()\n",
    "seccionIV['PROPIEDADES_DEL_HOGAR'] = seccionIV[[f'P4_12_{i}' for i in range(1,8)]].T.sum()"
   ]
  },
  {
   "cell_type": "markdown",
   "metadata": {},
   "source": [
    "### Borrar columnas"
   ]
  },
  {
   "cell_type": "markdown",
   "metadata": {},
   "source": [
    "1. P4A_1 se borra porque nos interesa P4A_2 quee es la rutina, no lo inmediato.\n",
    "2. P4_4 tiene más de 23000 nombres de trabajos, lo cuales no necesitamos saber\n",
    "3. P4_4_CVE tiene 470 claves de tipos de trabajo los cuales no encontré documentación oficial para discretizar, por lo tanto al tener tantas clasificaciones daría problemas al entrenar. \n",
    "4. 'P4_10_i_j', i pertenece {2,3} y j pertenece {1,2,3} Muchos nan que complican la creación en el modelo, para que lo demás salga bien se decide ignorar estos\n",
    "5. VIV_SEL y HOGAR no tiene sentido sin ID_VIV.\n",
    "6. UPM (unidad primaria de muestreo), UPM_DIS (UPM de diseño), EST_DIS (estrato de diseño), ESTRATO, se pueden omitir al ser dato de la tecnica de muestreo y no de la mujer.\n",
    "7. FAC_VIV es Ponderador que se utiliza para estimar resultados de las preguntas que se refieren a las viviendas y la población en general.\n",
    "8. FAC_MUJ es Ponderador que se utiliza para estimar resultados de las preguntas que se refieren a las mujeres de 15 años y más.\n",
    "9. CVE_MUN La clave de municipio depende del estado, habiendo un total de 32 municipios registrados como 1."
   ]
  },
  {
   "cell_type": "code",
   "execution_count": 101,
   "metadata": {},
   "outputs": [],
   "source": [
    "labels = ['NOM_ENT', 'NOM_MUN', 'N_REN', 'N_REN_ESP', 'P4A_1', 'P4_4', 'P4_4_CVE',\n",
    "         \"VIV_SEL\", \"HOGAR\", \"UPM\", 'UPM_DIS', 'EST_DIS', 'ESTRATO', 'FAC_VIV', 'FAC_MUJ', 'CVE_MUN']\n",
    "labels.extend([f'P4_8_{i}' for i in range(1,8)])\n",
    "labels.extend([f'P4_10_{i}_{j}' for i in [2,3] for j in [1,2,3]])\n",
    "labels.extend([f'P4_12_{i}' for i in range(1,8)])\n",
    "\n",
    "seccionIV = BorrarColumnas(df=seccionIV, cols=labels)"
   ]
  },
  {
   "cell_type": "markdown",
   "metadata": {},
   "source": [
    "### Guardar dataset"
   ]
  },
  {
   "cell_type": "raw",
   "metadata": {},
   "source": [
    "GuardarDataset(df=seccionIV, name='data/sec_iv.csv')"
   ]
  },
  {
   "cell_type": "markdown",
   "metadata": {},
   "source": [
    "## SECCIÓN X. ATENCIÓN OBSTÉTRICA"
   ]
  },
  {
   "cell_type": "markdown",
   "metadata": {},
   "source": [
    "### Cargar datos"
   ]
  },
  {
   "cell_type": "code",
   "execution_count": 154,
   "metadata": {},
   "outputs": [
    {
     "data": {
      "text/html": [
       "<div>\n",
       "<style scoped>\n",
       "    .dataframe tbody tr th:only-of-type {\n",
       "        vertical-align: middle;\n",
       "    }\n",
       "\n",
       "    .dataframe tbody tr th {\n",
       "        vertical-align: top;\n",
       "    }\n",
       "\n",
       "    .dataframe thead th {\n",
       "        text-align: right;\n",
       "    }\n",
       "</style>\n",
       "<table border=\"1\" class=\"dataframe\">\n",
       "  <thead>\n",
       "    <tr style=\"text-align: right;\">\n",
       "      <th></th>\n",
       "      <th>ID_VIV</th>\n",
       "      <th>ID_PER</th>\n",
       "      <th>UPM</th>\n",
       "      <th>VIV_SEL</th>\n",
       "      <th>HOGAR</th>\n",
       "      <th>N_REN</th>\n",
       "      <th>DOMINIO</th>\n",
       "      <th>CVE_ENT</th>\n",
       "      <th>NOM_ENT</th>\n",
       "      <th>CVE_MUN</th>\n",
       "      <th>...</th>\n",
       "      <th>P10_8_11</th>\n",
       "      <th>P10_8_12</th>\n",
       "      <th>P10_8_13</th>\n",
       "      <th>P10_8_14</th>\n",
       "      <th>P10_8_15</th>\n",
       "      <th>FAC_VIV</th>\n",
       "      <th>FAC_MUJ</th>\n",
       "      <th>ESTRATO</th>\n",
       "      <th>UPM_DIS</th>\n",
       "      <th>EST_DIS</th>\n",
       "    </tr>\n",
       "  </thead>\n",
       "  <tbody>\n",
       "    <tr>\n",
       "      <th>46269</th>\n",
       "      <td>1409781.01</td>\n",
       "      <td>1409781.01.1.02\\r</td>\n",
       "      <td>1409781</td>\n",
       "      <td>1</td>\n",
       "      <td>1</td>\n",
       "      <td>2</td>\n",
       "      <td>C\\r</td>\n",
       "      <td>14</td>\n",
       "      <td>JALISCO\\r</td>\n",
       "      <td>8</td>\n",
       "      <td>...</td>\n",
       "      <td>NaN</td>\n",
       "      <td>NaN</td>\n",
       "      <td>NaN</td>\n",
       "      <td>NaN</td>\n",
       "      <td>NaN</td>\n",
       "      <td>595</td>\n",
       "      <td>595</td>\n",
       "      <td>3</td>\n",
       "      <td>7976</td>\n",
       "      <td>248</td>\n",
       "    </tr>\n",
       "    <tr>\n",
       "      <th>20621</th>\n",
       "      <td>701407.02</td>\n",
       "      <td>0701407.02.1.04\\r</td>\n",
       "      <td>701407</td>\n",
       "      <td>2</td>\n",
       "      <td>1</td>\n",
       "      <td>4</td>\n",
       "      <td>U\\r</td>\n",
       "      <td>7</td>\n",
       "      <td>CHIAPAS\\r</td>\n",
       "      <td>101</td>\n",
       "      <td>...</td>\n",
       "      <td>NaN</td>\n",
       "      <td>NaN</td>\n",
       "      <td>NaN</td>\n",
       "      <td>NaN</td>\n",
       "      <td>NaN</td>\n",
       "      <td>328</td>\n",
       "      <td>657</td>\n",
       "      <td>2</td>\n",
       "      <td>3824</td>\n",
       "      <td>109</td>\n",
       "    </tr>\n",
       "    <tr>\n",
       "      <th>11896</th>\n",
       "      <td>401200.05</td>\n",
       "      <td>0401200.05.1.02\\r</td>\n",
       "      <td>401200</td>\n",
       "      <td>5</td>\n",
       "      <td>1</td>\n",
       "      <td>2</td>\n",
       "      <td>C\\r</td>\n",
       "      <td>4</td>\n",
       "      <td>CAMPECHE\\r</td>\n",
       "      <td>1</td>\n",
       "      <td>...</td>\n",
       "      <td>NaN</td>\n",
       "      <td>NaN</td>\n",
       "      <td>NaN</td>\n",
       "      <td>NaN</td>\n",
       "      <td>NaN</td>\n",
       "      <td>62</td>\n",
       "      <td>62</td>\n",
       "      <td>2</td>\n",
       "      <td>2289</td>\n",
       "      <td>61</td>\n",
       "    </tr>\n",
       "    <tr>\n",
       "      <th>30400</th>\n",
       "      <td>922134.02</td>\n",
       "      <td>0922134.02.1.02\\r</td>\n",
       "      <td>922134</td>\n",
       "      <td>2</td>\n",
       "      <td>1</td>\n",
       "      <td>2</td>\n",
       "      <td>U\\r</td>\n",
       "      <td>9</td>\n",
       "      <td>CIUDAD DE MÉXICO\\r</td>\n",
       "      <td>15</td>\n",
       "      <td>...</td>\n",
       "      <td>NaN</td>\n",
       "      <td>NaN</td>\n",
       "      <td>NaN</td>\n",
       "      <td>NaN</td>\n",
       "      <td>NaN</td>\n",
       "      <td>679</td>\n",
       "      <td>2036</td>\n",
       "      <td>3</td>\n",
       "      <td>5649</td>\n",
       "      <td>155</td>\n",
       "    </tr>\n",
       "    <tr>\n",
       "      <th>43605</th>\n",
       "      <td>1360698.14</td>\n",
       "      <td>1360698.14.1.02\\r</td>\n",
       "      <td>1360698</td>\n",
       "      <td>14</td>\n",
       "      <td>1</td>\n",
       "      <td>2</td>\n",
       "      <td>R\\r</td>\n",
       "      <td>13</td>\n",
       "      <td>HIDALGO\\r</td>\n",
       "      <td>22</td>\n",
       "      <td>...</td>\n",
       "      <td>NaN</td>\n",
       "      <td>NaN</td>\n",
       "      <td>NaN</td>\n",
       "      <td>NaN</td>\n",
       "      <td>NaN</td>\n",
       "      <td>227</td>\n",
       "      <td>227</td>\n",
       "      <td>1</td>\n",
       "      <td>7468</td>\n",
       "      <td>235</td>\n",
       "    </tr>\n",
       "  </tbody>\n",
       "</table>\n",
       "<p>5 rows × 60 columns</p>\n",
       "</div>"
      ],
      "text/plain": [
       "           ID_VIV             ID_PER      UPM  VIV_SEL  HOGAR  N_REN DOMINIO  \\\n",
       "46269  1409781.01  1409781.01.1.02\\r  1409781        1      1      2     C\\r   \n",
       "20621   701407.02  0701407.02.1.04\\r   701407        2      1      4     U\\r   \n",
       "11896   401200.05  0401200.05.1.02\\r   401200        5      1      2     C\\r   \n",
       "30400   922134.02  0922134.02.1.02\\r   922134        2      1      2     U\\r   \n",
       "43605  1360698.14  1360698.14.1.02\\r  1360698       14      1      2     R\\r   \n",
       "\n",
       "       CVE_ENT             NOM_ENT  CVE_MUN  ... P10_8_11 P10_8_12  P10_8_13  \\\n",
       "46269       14           JALISCO\\r        8  ...      NaN      NaN       NaN   \n",
       "20621        7           CHIAPAS\\r      101  ...      NaN      NaN       NaN   \n",
       "11896        4          CAMPECHE\\r        1  ...      NaN      NaN       NaN   \n",
       "30400        9  CIUDAD DE MÉXICO\\r       15  ...      NaN      NaN       NaN   \n",
       "43605       13           HIDALGO\\r       22  ...      NaN      NaN       NaN   \n",
       "\n",
       "       P10_8_14  P10_8_15  FAC_VIV  FAC_MUJ  ESTRATO  UPM_DIS  EST_DIS  \n",
       "46269       NaN       NaN      595      595        3     7976      248  \n",
       "20621       NaN       NaN      328      657        2     3824      109  \n",
       "11896       NaN       NaN       62       62        2     2289       61  \n",
       "30400       NaN       NaN      679     2036        3     5649      155  \n",
       "43605       NaN       NaN      227      227        1     7468      235  \n",
       "\n",
       "[5 rows x 60 columns]"
      ]
     },
     "execution_count": 154,
     "metadata": {},
     "output_type": "execute_result"
    }
   ],
   "source": [
    "ruta_parcial = \"conjunto_de_datos_endireh_2021_csv/conjunto_de_datos_TB_SEC_X.csv\"\n",
    "\n",
    "seccionX = CargarPandasDataset(ruta_parcial)\n",
    "\n",
    "seccionX.iloc[random.choices(range(seccionX.shape[0]), k=5)]"
   ]
  },
  {
   "cell_type": "markdown",
   "metadata": {},
   "source": [
    "### 2. Preservar los datos de las embarazadas\n"
   ]
  },
  {
   "cell_type": "markdown",
   "metadata": {},
   "source": [
    "Borrar los registros de todas aquellas que repondieron que no estuvieron embarazadas entre Octubre 2016 hasta finales 2021 o que no se tenga resgistro de su respuesta. La manera fácil es solo preservar los registros de las que respondieron que sí estuvieron embarazadas en ese periodo de tiempo."
   ]
  },
  {
   "cell_type": "code",
   "execution_count": 155,
   "metadata": {},
   "outputs": [],
   "source": [
    "seccionX = seccionX[(seccionX.P10_2 == 1)]"
   ]
  },
  {
   "cell_type": "markdown",
   "metadata": {},
   "source": [
    "En la pregunta 10.6. ¿En qué año fue su último parto? si el último parto fue antes del 2016, está embarazada por primera vez (0000), fue aborto (8888) o no especificado (9999) se pasa a la sección XI. Se preservan aquellas que tuvieron embarazo después del 2015 y antes del 2022 (sin incluirlos).\n",
    "\n",
    "En la pregunta 10.7. ¿Dónde atendieron su último parto? si Nadie la atendió porque dio a luz sola (9) se pasa a la sección XI. \n",
    "Por lo tanto se deben borrar los registros que no contestaron toda la sección."
   ]
  },
  {
   "cell_type": "code",
   "execution_count": 104,
   "metadata": {},
   "outputs": [],
   "source": [
    "seccionX.drop(seccionX[((seccionX[\"P10_6ANIO\"]<2016.0) | (seccionX[\"P10_6ANIO\"]>2021.0))].index, axis=0, inplace=True)\n",
    "#seccionX.drop(seccionX[seccionX[\"P10_7\"]==9].index, axis=0, inplace=True)"
   ]
  },
  {
   "cell_type": "markdown",
   "metadata": {},
   "source": [
    "Dejar los años en términos de años simples al restarles 2010 años."
   ]
  },
  {
   "cell_type": "code",
   "execution_count": 105,
   "metadata": {},
   "outputs": [],
   "source": [
    "seccionX[\"P10_6ANIO\"] = seccionX[\"P10_6ANIO\"]-2015"
   ]
  },
  {
   "cell_type": "markdown",
   "metadata": {},
   "source": [
    "#### 2.2 Conservar solo los registros de hospitales públicos\n",
    "\n",
    "Borrar aquellos datos mayores al valor 5 (Hospital o Clínica privada, Consultorio Médico particular, En casa con partera o curandera(o), Nadie la atendió, dio a luz sola, Otro)."
   ]
  },
  {
   "cell_type": "raw",
   "metadata": {},
   "source": [
    "#para futura exploración de los datos de diferentes tipos de instituciones, se debe correr esta celda solo cuando se necesite.\n",
    "\n",
    "seccionX.drop(seccionX[(seccionX.P10_7 > 5)].index, inplace = True)"
   ]
  },
  {
   "cell_type": "markdown",
   "metadata": {},
   "source": [
    "### 3 Política de datos faltantes"
   ]
  },
  {
   "cell_type": "markdown",
   "metadata": {},
   "source": [
    "Hay 1 registro con el valor de aborto nulo. como se tiene la información de que tuvo 2 embarazos, 1 nació vivo y 0 muertos, se puede deducir que el valor en ese registro debe ser 1."
   ]
  },
  {
   "cell_type": "code",
   "execution_count": 106,
   "metadata": {},
   "outputs": [
    {
     "data": {
      "text/html": [
       "<div>\n",
       "<style scoped>\n",
       "    .dataframe tbody tr th:only-of-type {\n",
       "        vertical-align: middle;\n",
       "    }\n",
       "\n",
       "    .dataframe tbody tr th {\n",
       "        vertical-align: top;\n",
       "    }\n",
       "\n",
       "    .dataframe thead th {\n",
       "        text-align: right;\n",
       "    }\n",
       "</style>\n",
       "<table border=\"1\" class=\"dataframe\">\n",
       "  <thead>\n",
       "    <tr style=\"text-align: right;\">\n",
       "      <th></th>\n",
       "      <th>P10_3</th>\n",
       "      <th>P10_4_1</th>\n",
       "      <th>P10_4_2</th>\n",
       "      <th>P10_4_3</th>\n",
       "    </tr>\n",
       "  </thead>\n",
       "  <tbody>\n",
       "    <tr>\n",
       "      <th>40712</th>\n",
       "      <td>2.0</td>\n",
       "      <td>1.0</td>\n",
       "      <td>0.0</td>\n",
       "      <td>NaN</td>\n",
       "    </tr>\n",
       "  </tbody>\n",
       "</table>\n",
       "</div>"
      ],
      "text/plain": [
       "       P10_3  P10_4_1  P10_4_2  P10_4_3\n",
       "40712    2.0      1.0      0.0      NaN"
      ]
     },
     "execution_count": 106,
     "metadata": {},
     "output_type": "execute_result"
    }
   ],
   "source": [
    "seccionX[(seccionX.P10_4_1.isnull()) |(seccionX.P10_4_2.isnull()) | (seccionX.P10_4_3.isnull())][['P10_3', 'P10_4_1', 'P10_4_2', 'P10_4_3']]"
   ]
  },
  {
   "cell_type": "code",
   "execution_count": 107,
   "metadata": {},
   "outputs": [],
   "source": [
    "seccionX.loc[40712, 'P10_4_3'] = 1.0"
   ]
  },
  {
   "cell_type": "markdown",
   "metadata": {},
   "source": [
    "Los registros de cuántos embarazos tuvo no coinciden con la cantidad de bebés que nacieron vivos, muertos o fueron abortados, algunos solo registran la cantidad de vivos pero no los muertos ni los abortos. Existen 683 registros que no coinciden con los datos registrados de abortos, nacieron vivos y nacieron muertos.\n",
    "\n",
    "Los datos negativos reflejan cuántos más fueron reportados como vivos, muertos y abortos y los positivos es que se reportaron más embarazos que los que se dio info al respecto. Podrían significar embarazos actuales que no han llegado a término y solo representan el 9.9% de los datoas así que se conservará."
   ]
  },
  {
   "cell_type": "code",
   "execution_count": 108,
   "metadata": {},
   "outputs": [
    {
     "data": {
      "text/plain": [
       " 0.0     17485\n",
       "-1.0       996\n",
       " 1.0       447\n",
       "-2.0       283\n",
       "-3.0       102\n",
       "-4.0        47\n",
       "-5.0         7\n",
       "-6.0         7\n",
       " 2.0         4\n",
       "-7.0         2\n",
       "-10.0        1\n",
       "-9.0         1\n",
       "-8.0         1\n",
       " 3.0         1\n",
       " 16.0        1\n",
       " 4.0         1\n",
       "dtype: int64"
      ]
     },
     "execution_count": 108,
     "metadata": {},
     "output_type": "execute_result"
    }
   ],
   "source": [
    "(seccionX.P10_3-(seccionX.P10_4_1+seccionX.P10_4_2+seccionX.P10_4_3)).value_counts()"
   ]
  },
  {
   "cell_type": "code",
   "execution_count": 109,
   "metadata": {},
   "outputs": [
    {
     "data": {
      "text/plain": [
       "1901"
      ]
     },
     "execution_count": 109,
     "metadata": {},
     "output_type": "execute_result"
    }
   ],
   "source": [
    "(seccionX.P10_3-(seccionX.P10_4_1+seccionX.P10_4_2+seccionX.P10_4_3)).value_counts()[-1:].sum()"
   ]
  },
  {
   "cell_type": "markdown",
   "metadata": {},
   "source": [
    "### 3. Agregar columnas"
   ]
  },
  {
   "cell_type": "markdown",
   "metadata": {},
   "source": [
    "#### 3.1 Afiliación de servicios medicos"
   ]
  },
  {
   "cell_type": "code",
   "execution_count": 110,
   "metadata": {},
   "outputs": [
    {
     "data": {
      "text/plain": [
       "1.0    19085\n",
       "2.0      293\n",
       "3.0        8\n",
       "dtype: int64"
      ]
     },
     "execution_count": 110,
     "metadata": {},
     "output_type": "execute_result"
    }
   ],
   "source": [
    "seccionX[[F'P10_1_{i}' for i in range(1,10)]].T.sum().value_counts() # afiliada servicios medicos"
   ]
  },
  {
   "cell_type": "code",
   "execution_count": 111,
   "metadata": {},
   "outputs": [
    {
     "data": {
      "text/html": [
       "<div>\n",
       "<style scoped>\n",
       "    .dataframe tbody tr th:only-of-type {\n",
       "        vertical-align: middle;\n",
       "    }\n",
       "\n",
       "    .dataframe tbody tr th {\n",
       "        vertical-align: top;\n",
       "    }\n",
       "\n",
       "    .dataframe thead th {\n",
       "        text-align: right;\n",
       "    }\n",
       "</style>\n",
       "<table border=\"1\" class=\"dataframe\">\n",
       "  <thead>\n",
       "    <tr style=\"text-align: right;\">\n",
       "      <th></th>\n",
       "      <th>IMSS</th>\n",
       "      <th>Prospera</th>\n",
       "      <th>ISSSTE</th>\n",
       "      <th>ISSSTE estatal</th>\n",
       "      <th>Pemex, Defensa o Marina</th>\n",
       "      <th>Seguro Popular</th>\n",
       "      <th>Seguro de Gastos Médicos Mayores</th>\n",
       "      <th>Otro servicio</th>\n",
       "      <th>Sin afiliación</th>\n",
       "    </tr>\n",
       "  </thead>\n",
       "  <tbody>\n",
       "    <tr>\n",
       "      <th>P10_1_1</th>\n",
       "      <td>6487</td>\n",
       "      <td>10</td>\n",
       "      <td>68</td>\n",
       "      <td>10</td>\n",
       "      <td>3</td>\n",
       "      <td>60</td>\n",
       "      <td>122</td>\n",
       "      <td>6</td>\n",
       "      <td>0</td>\n",
       "    </tr>\n",
       "    <tr>\n",
       "      <th>P10_1_2</th>\n",
       "      <td>-</td>\n",
       "      <td>330</td>\n",
       "      <td>1</td>\n",
       "      <td>0</td>\n",
       "      <td>0</td>\n",
       "      <td>6</td>\n",
       "      <td>1</td>\n",
       "      <td>0</td>\n",
       "      <td>0</td>\n",
       "    </tr>\n",
       "    <tr>\n",
       "      <th>P10_1_3</th>\n",
       "      <td>-</td>\n",
       "      <td>-</td>\n",
       "      <td>792</td>\n",
       "      <td>3</td>\n",
       "      <td>0</td>\n",
       "      <td>4</td>\n",
       "      <td>14</td>\n",
       "      <td>0</td>\n",
       "      <td>0</td>\n",
       "    </tr>\n",
       "    <tr>\n",
       "      <th>P10_1_4</th>\n",
       "      <td>-</td>\n",
       "      <td>-</td>\n",
       "      <td>-</td>\n",
       "      <td>143</td>\n",
       "      <td>0</td>\n",
       "      <td>0</td>\n",
       "      <td>1</td>\n",
       "      <td>0</td>\n",
       "      <td>0</td>\n",
       "    </tr>\n",
       "    <tr>\n",
       "      <th>P10_1_5</th>\n",
       "      <td>-</td>\n",
       "      <td>-</td>\n",
       "      <td>-</td>\n",
       "      <td>-</td>\n",
       "      <td>118</td>\n",
       "      <td>1</td>\n",
       "      <td>0</td>\n",
       "      <td>0</td>\n",
       "      <td>0</td>\n",
       "    </tr>\n",
       "    <tr>\n",
       "      <th>P10_1_6</th>\n",
       "      <td>-</td>\n",
       "      <td>-</td>\n",
       "      <td>-</td>\n",
       "      <td>-</td>\n",
       "      <td>-</td>\n",
       "      <td>3755</td>\n",
       "      <td>1</td>\n",
       "      <td>4</td>\n",
       "      <td>0</td>\n",
       "    </tr>\n",
       "    <tr>\n",
       "      <th>P10_1_7</th>\n",
       "      <td>-</td>\n",
       "      <td>-</td>\n",
       "      <td>-</td>\n",
       "      <td>-</td>\n",
       "      <td>-</td>\n",
       "      <td>-</td>\n",
       "      <td>261</td>\n",
       "      <td>2</td>\n",
       "      <td>0</td>\n",
       "    </tr>\n",
       "    <tr>\n",
       "      <th>P10_1_8</th>\n",
       "      <td>-</td>\n",
       "      <td>-</td>\n",
       "      <td>-</td>\n",
       "      <td>-</td>\n",
       "      <td>-</td>\n",
       "      <td>-</td>\n",
       "      <td>-</td>\n",
       "      <td>353</td>\n",
       "      <td>0</td>\n",
       "    </tr>\n",
       "    <tr>\n",
       "      <th>P10_1_9</th>\n",
       "      <td>-</td>\n",
       "      <td>-</td>\n",
       "      <td>-</td>\n",
       "      <td>-</td>\n",
       "      <td>-</td>\n",
       "      <td>-</td>\n",
       "      <td>-</td>\n",
       "      <td>-</td>\n",
       "      <td>7456</td>\n",
       "    </tr>\n",
       "  </tbody>\n",
       "</table>\n",
       "</div>"
      ],
      "text/plain": [
       "         IMSS Prospera ISSSTE ISSSTE estatal Pemex, Defensa o Marina  \\\n",
       "P10_1_1  6487       10     68             10                       3   \n",
       "P10_1_2     -      330      1              0                       0   \n",
       "P10_1_3     -        -    792              3                       0   \n",
       "P10_1_4     -        -      -            143                       0   \n",
       "P10_1_5     -        -      -              -                     118   \n",
       "P10_1_6     -        -      -              -                       -   \n",
       "P10_1_7     -        -      -              -                       -   \n",
       "P10_1_8     -        -      -              -                       -   \n",
       "P10_1_9     -        -      -              -                       -   \n",
       "\n",
       "        Seguro Popular Seguro de Gastos Médicos Mayores Otro servicio  \\\n",
       "P10_1_1             60                              122             6   \n",
       "P10_1_2              6                                1             0   \n",
       "P10_1_3              4                               14             0   \n",
       "P10_1_4              0                                1             0   \n",
       "P10_1_5              1                                0             0   \n",
       "P10_1_6           3755                                1             4   \n",
       "P10_1_7              -                              261             2   \n",
       "P10_1_8              -                                -           353   \n",
       "P10_1_9              -                                -             -   \n",
       "\n",
       "         Sin afiliación  \n",
       "P10_1_1               0  \n",
       "P10_1_2               0  \n",
       "P10_1_3               0  \n",
       "P10_1_4               0  \n",
       "P10_1_5               0  \n",
       "P10_1_6               0  \n",
       "P10_1_7               0  \n",
       "P10_1_8               0  \n",
       "P10_1_9            7456  "
      ]
     },
     "execution_count": 111,
     "metadata": {},
     "output_type": "execute_result"
    }
   ],
   "source": [
    "term = ['IMSS', 'Prospera', 'ISSSTE', 'ISSSTE estatal', 'Pemex, Defensa o Marina', \n",
    "        'Seguro Popular', 'Seguro de Gastos Médicos Mayores', 'Otro servicio', 'Sin afiliación']\n",
    "\n",
    "freq = {F'P10_1_{i}':['-']*(i-1) for i in range(1,10)}\n",
    "\n",
    "for i in range(1,10):\n",
    "    for j in range(i,10):\n",
    "        res=seccionX[(seccionX[f'P10_1_{i}']==1) & (seccionX[f'P10_1_{j}']==1)].shape[0]\n",
    "        freq[f'P10_1_{i}'].append(res)\n",
    "\n",
    "pd.DataFrame.from_dict(freq, orient='index', columns=term)"
   ]
  },
  {
   "cell_type": "markdown",
   "metadata": {},
   "source": [
    "Se guardaran como parejas aquellos que tengan 2 dígitos. Los códigos son:\n",
    "\n",
    "0. IMSS\n",
    "1. IMSS-Bienestar (antes Prospera)\n",
    "2. ISSSTE\n",
    "3. ISSSTE estatal\n",
    "4. Pemex, Defensa o Marina\n",
    "5. Instituto de Salud para el Bienestar (INSABI) (antes Seguro Popular)\n",
    "6. Seguro de Gastos Médicos Mayores\n",
    "7. Otro servicio de salud pública del estado\n",
    "8. Entonces, ¿no está afiliada ni tiene derecho a servicios médicos?\n",
    "9. ISSSTE (3) - IMSS (1) (con 46 registros). \n",
    "10. Seguro Popular (6) - IMSS (1) (con 55 registros). \n",
    "11. Seguro de gastos médicos mayores (7) - IMSS (1) (con 24 registros)."
   ]
  },
  {
   "cell_type": "code",
   "execution_count": 112,
   "metadata": {},
   "outputs": [],
   "source": [
    "seccionX['SERVICIOS_MEDICOS_AFILIADA'] = np.nan\n",
    "\n",
    "for i in range(1,10):\n",
    "    seccionX['SERVICIOS_MEDICOS_AFILIADA'].loc[seccionX[seccionX[f'P10_1_{i}']==1].index] = i-1\n",
    "\n",
    "seccionX['SERVICIOS_MEDICOS_AFILIADA'].loc[seccionX[(seccionX['P10_1_1']==1) & (seccionX['P10_1_3']==1)].index] = 9\n",
    "seccionX['SERVICIOS_MEDICOS_AFILIADA'].loc[seccionX[(seccionX['P10_1_1']==1) & (seccionX['P10_1_6']==1)].index] = 10\n",
    "seccionX['SERVICIOS_MEDICOS_AFILIADA'].loc[seccionX[(seccionX['P10_1_1']==1) & (seccionX['P10_1_7']==1)].index] = 11"
   ]
  },
  {
   "cell_type": "markdown",
   "metadata": {},
   "source": [
    "#### 3.2 Donde atendió consultas prenatales"
   ]
  },
  {
   "cell_type": "code",
   "execution_count": 113,
   "metadata": {},
   "outputs": [
    {
     "data": {
      "text/plain": [
       "1.0    18344\n",
       "2.0     1020\n",
       "3.0       22\n",
       "dtype: int64"
      ]
     },
     "execution_count": 113,
     "metadata": {},
     "output_type": "execute_result"
    }
   ],
   "source": [
    "seccionX[['P10_5_01', 'P10_5_02', 'P10_5_03', 'P10_5_04', \n",
    "        'P10_5_05', 'P10_5_06', 'P10_5_07', 'P10_5_08', 'P10_5_09', 'P10_5_10', 'P10_5_11']].T.sum().value_counts() # donde consultas prenatales"
   ]
  },
  {
   "cell_type": "code",
   "execution_count": 114,
   "metadata": {},
   "outputs": [
    {
     "data": {
      "text/html": [
       "<div>\n",
       "<style scoped>\n",
       "    .dataframe tbody tr th:only-of-type {\n",
       "        vertical-align: middle;\n",
       "    }\n",
       "\n",
       "    .dataframe tbody tr th {\n",
       "        vertical-align: top;\n",
       "    }\n",
       "\n",
       "    .dataframe thead th {\n",
       "        text-align: right;\n",
       "    }\n",
       "</style>\n",
       "<table border=\"1\" class=\"dataframe\">\n",
       "  <thead>\n",
       "    <tr style=\"text-align: right;\">\n",
       "      <th></th>\n",
       "      <th>Centro de salud</th>\n",
       "      <th>Clínica del IMSS</th>\n",
       "      <th>Clínica del ISSSTE</th>\n",
       "      <th>Clínica del ISSSTE del estado</th>\n",
       "      <th>Hospital o clínica pública</th>\n",
       "      <th>Clínica o dispensario médico</th>\n",
       "      <th>Hospital, clínica o médico particular</th>\n",
       "      <th>Partera o curandera</th>\n",
       "      <th>Consultorio de farmacia</th>\n",
       "      <th>Otro</th>\n",
       "      <th>Nadie la atendió</th>\n",
       "    </tr>\n",
       "  </thead>\n",
       "  <tbody>\n",
       "    <tr>\n",
       "      <th>Centro de salud</th>\n",
       "      <td>5670</td>\n",
       "      <td>69</td>\n",
       "      <td>5</td>\n",
       "      <td>1</td>\n",
       "      <td>126</td>\n",
       "      <td>4</td>\n",
       "      <td>123</td>\n",
       "      <td>6</td>\n",
       "      <td>3</td>\n",
       "      <td>10</td>\n",
       "      <td>0</td>\n",
       "    </tr>\n",
       "    <tr>\n",
       "      <th>Clínica del IMSS</th>\n",
       "      <td>-</td>\n",
       "      <td>5375</td>\n",
       "      <td>11</td>\n",
       "      <td>0</td>\n",
       "      <td>57</td>\n",
       "      <td>4</td>\n",
       "      <td>433</td>\n",
       "      <td>3</td>\n",
       "      <td>6</td>\n",
       "      <td>9</td>\n",
       "      <td>0</td>\n",
       "    </tr>\n",
       "    <tr>\n",
       "      <th>Clínica del ISSSTE</th>\n",
       "      <td>-</td>\n",
       "      <td>-</td>\n",
       "      <td>438</td>\n",
       "      <td>2</td>\n",
       "      <td>2</td>\n",
       "      <td>0</td>\n",
       "      <td>78</td>\n",
       "      <td>0</td>\n",
       "      <td>1</td>\n",
       "      <td>1</td>\n",
       "      <td>0</td>\n",
       "    </tr>\n",
       "    <tr>\n",
       "      <th>Clínica del ISSSTE del estado</th>\n",
       "      <td>-</td>\n",
       "      <td>-</td>\n",
       "      <td>-</td>\n",
       "      <td>106</td>\n",
       "      <td>0</td>\n",
       "      <td>0</td>\n",
       "      <td>9</td>\n",
       "      <td>0</td>\n",
       "      <td>0</td>\n",
       "      <td>1</td>\n",
       "      <td>0</td>\n",
       "    </tr>\n",
       "    <tr>\n",
       "      <th>Hospital o clínica pública</th>\n",
       "      <td>-</td>\n",
       "      <td>-</td>\n",
       "      <td>-</td>\n",
       "      <td>-</td>\n",
       "      <td>3170</td>\n",
       "      <td>9</td>\n",
       "      <td>74</td>\n",
       "      <td>3</td>\n",
       "      <td>2</td>\n",
       "      <td>7</td>\n",
       "      <td>0</td>\n",
       "    </tr>\n",
       "    <tr>\n",
       "      <th>Clínica o dispensario médico</th>\n",
       "      <td>-</td>\n",
       "      <td>-</td>\n",
       "      <td>-</td>\n",
       "      <td>-</td>\n",
       "      <td>-</td>\n",
       "      <td>265</td>\n",
       "      <td>7</td>\n",
       "      <td>1</td>\n",
       "      <td>2</td>\n",
       "      <td>1</td>\n",
       "      <td>0</td>\n",
       "    </tr>\n",
       "    <tr>\n",
       "      <th>Hospital, clínica o médico particular</th>\n",
       "      <td>-</td>\n",
       "      <td>-</td>\n",
       "      <td>-</td>\n",
       "      <td>-</td>\n",
       "      <td>-</td>\n",
       "      <td>-</td>\n",
       "      <td>4770</td>\n",
       "      <td>4</td>\n",
       "      <td>5</td>\n",
       "      <td>7</td>\n",
       "      <td>0</td>\n",
       "    </tr>\n",
       "    <tr>\n",
       "      <th>Partera o curandera</th>\n",
       "      <td>-</td>\n",
       "      <td>-</td>\n",
       "      <td>-</td>\n",
       "      <td>-</td>\n",
       "      <td>-</td>\n",
       "      <td>-</td>\n",
       "      <td>-</td>\n",
       "      <td>144</td>\n",
       "      <td>0</td>\n",
       "      <td>0</td>\n",
       "      <td>0</td>\n",
       "    </tr>\n",
       "    <tr>\n",
       "      <th>Consultorio de farmacia</th>\n",
       "      <td>-</td>\n",
       "      <td>-</td>\n",
       "      <td>-</td>\n",
       "      <td>-</td>\n",
       "      <td>-</td>\n",
       "      <td>-</td>\n",
       "      <td>-</td>\n",
       "      <td>-</td>\n",
       "      <td>84</td>\n",
       "      <td>0</td>\n",
       "      <td>0</td>\n",
       "    </tr>\n",
       "    <tr>\n",
       "      <th>Otro</th>\n",
       "      <td>-</td>\n",
       "      <td>-</td>\n",
       "      <td>-</td>\n",
       "      <td>-</td>\n",
       "      <td>-</td>\n",
       "      <td>-</td>\n",
       "      <td>-</td>\n",
       "      <td>-</td>\n",
       "      <td>-</td>\n",
       "      <td>271</td>\n",
       "      <td>0</td>\n",
       "    </tr>\n",
       "    <tr>\n",
       "      <th>Nadie la atendió</th>\n",
       "      <td>-</td>\n",
       "      <td>-</td>\n",
       "      <td>-</td>\n",
       "      <td>-</td>\n",
       "      <td>-</td>\n",
       "      <td>-</td>\n",
       "      <td>-</td>\n",
       "      <td>-</td>\n",
       "      <td>-</td>\n",
       "      <td>-</td>\n",
       "      <td>157</td>\n",
       "    </tr>\n",
       "  </tbody>\n",
       "</table>\n",
       "</div>"
      ],
      "text/plain": [
       "                                      Centro de salud Clínica del IMSS  \\\n",
       "Centro de salud                                  5670               69   \n",
       "Clínica del IMSS                                    -             5375   \n",
       "Clínica del ISSSTE                                  -                -   \n",
       "Clínica del ISSSTE del estado                       -                -   \n",
       "Hospital o clínica pública                          -                -   \n",
       "Clínica o dispensario médico                        -                -   \n",
       "Hospital, clínica o médico particular               -                -   \n",
       "Partera o curandera                                 -                -   \n",
       "Consultorio de farmacia                             -                -   \n",
       "Otro                                                -                -   \n",
       "Nadie la atendió                                    -                -   \n",
       "\n",
       "                                      Clínica del ISSSTE  \\\n",
       "Centro de salud                                        5   \n",
       "Clínica del IMSS                                      11   \n",
       "Clínica del ISSSTE                                   438   \n",
       "Clínica del ISSSTE del estado                          -   \n",
       "Hospital o clínica pública                             -   \n",
       "Clínica o dispensario médico                           -   \n",
       "Hospital, clínica o médico particular                  -   \n",
       "Partera o curandera                                    -   \n",
       "Consultorio de farmacia                                -   \n",
       "Otro                                                   -   \n",
       "Nadie la atendió                                       -   \n",
       "\n",
       "                                      Clínica del ISSSTE del estado  \\\n",
       "Centro de salud                                                   1   \n",
       "Clínica del IMSS                                                  0   \n",
       "Clínica del ISSSTE                                                2   \n",
       "Clínica del ISSSTE del estado                                   106   \n",
       "Hospital o clínica pública                                        -   \n",
       "Clínica o dispensario médico                                      -   \n",
       "Hospital, clínica o médico particular                             -   \n",
       "Partera o curandera                                               -   \n",
       "Consultorio de farmacia                                           -   \n",
       "Otro                                                              -   \n",
       "Nadie la atendió                                                  -   \n",
       "\n",
       "                                      Hospital o clínica pública  \\\n",
       "Centro de salud                                              126   \n",
       "Clínica del IMSS                                              57   \n",
       "Clínica del ISSSTE                                             2   \n",
       "Clínica del ISSSTE del estado                                  0   \n",
       "Hospital o clínica pública                                  3170   \n",
       "Clínica o dispensario médico                                   -   \n",
       "Hospital, clínica o médico particular                          -   \n",
       "Partera o curandera                                            -   \n",
       "Consultorio de farmacia                                        -   \n",
       "Otro                                                           -   \n",
       "Nadie la atendió                                               -   \n",
       "\n",
       "                                      Clínica o dispensario médico  \\\n",
       "Centro de salud                                                  4   \n",
       "Clínica del IMSS                                                 4   \n",
       "Clínica del ISSSTE                                               0   \n",
       "Clínica del ISSSTE del estado                                    0   \n",
       "Hospital o clínica pública                                       9   \n",
       "Clínica o dispensario médico                                   265   \n",
       "Hospital, clínica o médico particular                            -   \n",
       "Partera o curandera                                              -   \n",
       "Consultorio de farmacia                                          -   \n",
       "Otro                                                             -   \n",
       "Nadie la atendió                                                 -   \n",
       "\n",
       "                                      Hospital, clínica o médico particular  \\\n",
       "Centro de salud                                                         123   \n",
       "Clínica del IMSS                                                        433   \n",
       "Clínica del ISSSTE                                                       78   \n",
       "Clínica del ISSSTE del estado                                             9   \n",
       "Hospital o clínica pública                                               74   \n",
       "Clínica o dispensario médico                                              7   \n",
       "Hospital, clínica o médico particular                                  4770   \n",
       "Partera o curandera                                                       -   \n",
       "Consultorio de farmacia                                                   -   \n",
       "Otro                                                                      -   \n",
       "Nadie la atendió                                                          -   \n",
       "\n",
       "                                      Partera o curandera  \\\n",
       "Centro de salud                                         6   \n",
       "Clínica del IMSS                                        3   \n",
       "Clínica del ISSSTE                                      0   \n",
       "Clínica del ISSSTE del estado                           0   \n",
       "Hospital o clínica pública                              3   \n",
       "Clínica o dispensario médico                            1   \n",
       "Hospital, clínica o médico particular                   4   \n",
       "Partera o curandera                                   144   \n",
       "Consultorio de farmacia                                 -   \n",
       "Otro                                                    -   \n",
       "Nadie la atendió                                        -   \n",
       "\n",
       "                                      Consultorio de farmacia Otro  \\\n",
       "Centro de salud                                             3   10   \n",
       "Clínica del IMSS                                            6    9   \n",
       "Clínica del ISSSTE                                          1    1   \n",
       "Clínica del ISSSTE del estado                               0    1   \n",
       "Hospital o clínica pública                                  2    7   \n",
       "Clínica o dispensario médico                                2    1   \n",
       "Hospital, clínica o médico particular                       5    7   \n",
       "Partera o curandera                                         0    0   \n",
       "Consultorio de farmacia                                    84    0   \n",
       "Otro                                                        -  271   \n",
       "Nadie la atendió                                            -    -   \n",
       "\n",
       "                                       Nadie la atendió  \n",
       "Centro de salud                                       0  \n",
       "Clínica del IMSS                                      0  \n",
       "Clínica del ISSSTE                                    0  \n",
       "Clínica del ISSSTE del estado                         0  \n",
       "Hospital o clínica pública                            0  \n",
       "Clínica o dispensario médico                          0  \n",
       "Hospital, clínica o médico particular                 0  \n",
       "Partera o curandera                                   0  \n",
       "Consultorio de farmacia                               0  \n",
       "Otro                                                  0  \n",
       "Nadie la atendió                                    157  "
      ]
     },
     "execution_count": 114,
     "metadata": {},
     "output_type": "execute_result"
    }
   ],
   "source": [
    "term = ['Centro de salud', 'Clínica del IMSS', 'Clínica del ISSSTE', 'Clínica del ISSSTE del estado','Hospital o clínica pública',\n",
    "        'Clínica o dispensario médico', 'Hospital, clínica o médico particular', 'Partera o curandera', \n",
    "        'Consultorio de farmacia', 'Otro', 'Nadie la atendió']\n",
    "cols = ['P10_5_01', 'P10_5_02', 'P10_5_03', 'P10_5_04', \n",
    "        'P10_5_05', 'P10_5_06', 'P10_5_07', 'P10_5_08', 'P10_5_09', 'P10_5_10', 'P10_5_11']\n",
    "\n",
    "freq = {term[i]:['-']*(i) for i in range(11)}\n",
    "\n",
    "for i in range(11):\n",
    "    for j in range(i,11):\n",
    "        res=seccionX[(seccionX[cols[i]]==1) & (seccionX[cols[j]]==1)].shape[0]\n",
    "        freq[term[i]].append(res)\n",
    "\n",
    "pd.DataFrame.from_dict(freq, orient='index', columns=term)"
   ]
  },
  {
   "cell_type": "markdown",
   "metadata": {},
   "source": [
    "Se guardaran como parejas aquellos que tengan 3 dígitos. Los códigos son:\n",
    "\n",
    "0. Centro de salud.\n",
    "1. Clínica del IMSS\n",
    "2. Clínica del ISSSTE.\n",
    "3. Clínica del ISSSTE del estado.\n",
    "4. Hospital o clínica pública.\n",
    "5. Clínica o dispensario médico.\n",
    "6. Hospital, clínica o médico particular.\n",
    "7. Partera o curandera.\n",
    "8. Consultorio de farmacia (del Ahorro, Similares, etcétera).\n",
    "9. Otro.\n",
    "10. Nadie la atendió.\n",
    "11. Centro de salud (1) - Hospital o clínica pública (5) (con 118 registros).\n",
    "12. Clínica del IMSS (2) - Hospital, clínica o médico particular (6) (con 241 registros)."
   ]
  },
  {
   "cell_type": "code",
   "execution_count": 115,
   "metadata": {},
   "outputs": [],
   "source": [
    "seccionX['DONDE_CONSULTAS_PRENATALES'] = np.nan\n",
    "\n",
    "for i in range(11):\n",
    "    seccionX['DONDE_CONSULTAS_PRENATALES'].loc[seccionX[seccionX[cols[i]]==1].index] = i\n",
    "\n",
    "seccionX['DONDE_CONSULTAS_PRENATALES'].loc[seccionX[(seccionX['P10_5_01']==1) & (seccionX['P10_5_05']==1)].index] = 11\n",
    "seccionX['DONDE_CONSULTAS_PRENATALES'].loc[seccionX[(seccionX['P10_5_02']==1) & (seccionX['P10_5_06']==1)].index] = 12"
   ]
  },
  {
   "cell_type": "markdown",
   "metadata": {},
   "source": [
    "### 3.2 Crear clasificación\n",
    "\n",
    "A partir de las respuestas de la pregunta 8, crear columna que va a servir de clasificación para los niveles de violencia obstétrica."
   ]
  },
  {
   "cell_type": "code",
   "execution_count": 116,
   "metadata": {},
   "outputs": [],
   "source": [
    "seccionX_cls = InsertarColumnaNueva(df=seccionX, nombreCol='P10_8', \n",
    "                                    numeroCol=41, funcion=clasificacion)"
   ]
  },
  {
   "cell_type": "code",
   "execution_count": 117,
   "metadata": {},
   "outputs": [],
   "source": [
    "seccionX_cls = InsertarColumnaNueva(df=seccionX_cls, nombreCol='P10_8_abuso', \n",
    "                                    numeroCol=41, funcion=clasificacionAbuso)\n",
    "seccionX_cls = InsertarColumnaNueva(df=seccionX_cls, nombreCol='P10_8_atencion', \n",
    "                                    numeroCol=42, funcion=clasificacionAtencion)"
   ]
  },
  {
   "cell_type": "markdown",
   "metadata": {},
   "source": [
    "#### 3.2.1 Distribución de clases"
   ]
  },
  {
   "cell_type": "code",
   "execution_count": 118,
   "metadata": {},
   "outputs": [
    {
     "name": "stdout",
     "output_type": "stream",
     "text": [
      "Ninguno:\t70.2%\n",
      "Abuso y violencia:\t12.9%\n",
      "Atencion no autorizada:\t9.5%\n",
      "Ambos:\t7.5%\n"
     ]
    },
    {
     "data": {
      "image/png": "[encoded data removed]",
      "text/plain": [
       "<Figure size 1440x360 with 2 Axes>"
      ]
     },
     "metadata": {
      "needs_background": "light"
     },
     "output_type": "display_data"
    }
   ],
   "source": [
    "# obtengo las categorias y su cantidad de concurrencias\n",
    "ocurrencias = seccionX_cls[\"P10_8\"].value_counts()\n",
    "# sumo el porcentaje con 1 decimal de 'Ambos' para ' Abuso y violencia' y 'Atencion no autorizada'\n",
    "oc_ambos = np.around(np.array([ocurrencias[0], ocurrencias[1]+ocurrencias[3], ocurrencias[2]+ocurrencias[3]])/ocurrencias.sum()*1000)/10\n",
    "# obtengo los porcentajes con 1 decimal de los tipos 'Ninguno', ' Abuso y violencia' y 'Atencion no autorizada'\n",
    "ocurrencias = np.around(ocurrencias/ocurrencias.sum()*1000)/10\n",
    "groups = ['Ninguno',  'Abuso y violencia', 'Atencion no autorizada', 'Ambos']\n",
    "\n",
    "# imprimo los porcentajes\n",
    "for i,j in zip(groups, ocurrencias):\n",
    "    print(f'{i}:\\t{j}%')\n",
    "\n",
    "fig, axes = plt.subplots(1, 2, figsize=(20, 5))\n",
    "\n",
    "# Grafico los tipos 'Ninguno', ' Abuso y violencia' y 'Atencion no autorizada' y 'Ambos' \n",
    "ax = sns.barplot(x=groups, y=ocurrencias, palette = 'Accent', ax=axes[0])\n",
    "for x, y in enumerate(ocurrencias):\n",
    "    ax.text(x, y+3, f'{y}%', ha='center')\n",
    "\n",
    "# Grafico los tipos 'Ninguno', ' Abuso y violencia' y 'Atencion no autorizada'. Aparte, 'Ambos' encima de los dos últimos para representar el valor total de estos tipos\n",
    "groups = ['Ninguno',  'Abuso y violencia', 'Atencion no autorizada']\n",
    "ax = sns.barplot(x=groups, y=oc_ambos, color = '#fff6a3', label='porcentaje de personas que sufrieron ambos tipos de violencia', ax=axes[1])\n",
    "sns.barplot(x=groups, y=ocurrencias[:-1], palette = 'Accent', ax=axes[1])\n",
    "for x, y in enumerate(oc_ambos):\n",
    "    ax.text(x, y+3, f'{y}%', ha='center')\n",
    "\n",
    "for ax in axes:\n",
    "    ax.set_xlabel('Tipos de violencia', fontsize=14)\n",
    "    ax.set_ylabel('Porcentajes', fontsize=14)\n",
    "    ax.set_ylim([0, 100])\n",
    "\n",
    "axes[0].set_title('Las 4 categorías de violencia', fontsize=15)\n",
    "axes[1].set_title('Las 3 categorías de violencia agregando la cantidad de ambos', fontsize=15)\n",
    "plt.legend()\n",
    "plt.show()"
   ]
  },
  {
   "cell_type": "code",
   "execution_count": 119,
   "metadata": {},
   "outputs": [
    {
     "data": {
      "image/png": "[encoded data removed]",
      "text/plain": [
       "<Figure size 720x720 with 1 Axes>"
      ]
     },
     "metadata": {},
     "output_type": "display_data"
    }
   ],
   "source": [
    "ocurrencias = seccionX_cls[\"P10_8\"].value_counts()\n",
    "ocurrencias = np.around(ocurrencias/ocurrencias.sum()*1000)/10\n",
    "fig = plt.figure(figsize=(10, 10), facecolor='#ebeae8')\n",
    "v = vplt.venn2(subsets={'10':ocurrencias[1], '01':ocurrencias[2], '11':ocurrencias[3]}, set_labels=['Abuso y violencia', 'Atencion no autorizada'], set_colors=('#e89ff5', '#9ff5f1'), alpha = 0.7)\n",
    "plt.text(0.5, 0.4, f\"Ninguno\\n\\n   {ocurrencias[0]}\", fontdict={'size':12})\n",
    "plt.show()"
   ]
  },
  {
   "cell_type": "markdown",
   "metadata": {},
   "source": [
    "### Borrar columnas"
   ]
  },
  {
   "cell_type": "markdown",
   "metadata": {},
   "source": [
    "1. P10_2 porque tienen un único valor al todos los registros haber tenido un embarazo.\n",
    "2. P10_8_{1,2,3,...,10,12} porque son los datos usados para crear la categoría de violencia.\n",
    "3. P10_1_{1,2,3,...,9} y P10_5_{1,2,3,...,11} que se usaron para crear las columnas P9_1 y P9_5.\n",
    "4. P10_8 se creó para la visualización de los datos.\n",
    "5. VIV_SEL y HOGAR no tiene sentido sin ID_VIV.\n",
    "6. UPM (unidad primaria de muestreo), UPM_DIS (UPM de diseño), EST_DIS (estrato de diseño), ESTRATO, se pueden omitir al ser dato de la tecnica de muestreo y no de la mujer.\n",
    "7. FAC_VIV es Ponderador que se utiliza para estimar resultados de las preguntas que se refieren a las viviendas y la población en general.\n",
    "8. FAC_MUJ es Ponderador que se utiliza para estimar resultados de las preguntas que se refieren a las mujeres de 15 años y más.\n",
    "9. CVE_MUN La clave de municipio depende del estado, habiendo un total de 32 municipios registrados como 1."
   ]
  },
  {
   "cell_type": "code",
   "execution_count": 120,
   "metadata": {},
   "outputs": [],
   "source": [
    "labels = ['NOM_ENT', 'NOM_MUN', 'N_REN', 'P10_2', 'P10_8',\n",
    "         \"VIV_SEL\", \"HOGAR\", \"UPM\", 'UPM_DIS', 'EST_DIS', 'FAC_VIV', 'FAC_MUJ', 'CVE_MUN', 'ESTRATO']\n",
    "labels.extend([f'P10_1_{i}' for i in range(1,10)])\n",
    "labels.extend([f'P10_5_0{i}' for i in range(1,10)])\n",
    "labels.extend([f'P10_5_{i}' for i in range(10,12)])\n",
    "labels.extend([f'P10_8_{i}' for i in range(1,16)])\n",
    "\n",
    "seccionX_cls = BorrarColumnas(df=seccionX_cls, cols=labels)"
   ]
  },
  {
   "cell_type": "markdown",
   "metadata": {},
   "source": [
    "### Guardar dataset"
   ]
  },
  {
   "cell_type": "code",
   "execution_count": 121,
   "metadata": {},
   "outputs": [
    {
     "data": {
      "text/plain": [
       "(19386, 16)"
      ]
     },
     "execution_count": 121,
     "metadata": {},
     "output_type": "execute_result"
    }
   ],
   "source": [
    "seccionX_cls.shape"
   ]
  },
  {
   "cell_type": "raw",
   "metadata": {},
   "source": [
    "GuardarDataset(df=seccionX_cls, name='data/sec_ix.csv')"
   ]
  },
  {
   "cell_type": "markdown",
   "metadata": {},
   "source": [
    "# Overall"
   ]
  },
  {
   "cell_type": "markdown",
   "metadata": {},
   "source": [
    "## Unir datasets"
   ]
  },
  {
   "cell_type": "code",
   "execution_count": 122,
   "metadata": {},
   "outputs": [],
   "source": [
    "result = pd.merge(seccionI, seccionII, how=\"inner\")\n",
    "result = pd.merge(result, seccionIV, how=\"inner\")\n",
    "result = pd.merge(result, seccionX_cls, how=\"inner\")"
   ]
  },
  {
   "cell_type": "code",
   "execution_count": 123,
   "metadata": {},
   "outputs": [],
   "source": [
    "result.reset_index(drop=True, inplace=True) #reajustar el índice"
   ]
  },
  {
   "cell_type": "code",
   "execution_count": 124,
   "metadata": {},
   "outputs": [
    {
     "data": {
      "text/html": [
       "<div>\n",
       "<style scoped>\n",
       "    .dataframe tbody tr th:only-of-type {\n",
       "        vertical-align: middle;\n",
       "    }\n",
       "\n",
       "    .dataframe tbody tr th {\n",
       "        vertical-align: top;\n",
       "    }\n",
       "\n",
       "    .dataframe thead th {\n",
       "        text-align: right;\n",
       "    }\n",
       "</style>\n",
       "<table border=\"1\" class=\"dataframe\">\n",
       "  <thead>\n",
       "    <tr style=\"text-align: right;\">\n",
       "      <th></th>\n",
       "      <th>ID_VIV</th>\n",
       "      <th>P1_1</th>\n",
       "      <th>P1_2</th>\n",
       "      <th>P1_2_A</th>\n",
       "      <th>P1_3</th>\n",
       "      <th>P1_5</th>\n",
       "      <th>P1_6</th>\n",
       "      <th>P1_7</th>\n",
       "      <th>P1_9</th>\n",
       "      <th>P1_10_1</th>\n",
       "      <th>...</th>\n",
       "      <th>P10_4_1</th>\n",
       "      <th>P10_4_2</th>\n",
       "      <th>P10_4_3</th>\n",
       "      <th>P10_6ANIO</th>\n",
       "      <th>P10_6MES</th>\n",
       "      <th>P10_7</th>\n",
       "      <th>P10_8_abuso</th>\n",
       "      <th>P10_8_atencion</th>\n",
       "      <th>SERVICIOS_MEDICOS_AFILIADA</th>\n",
       "      <th>DONDE_CONSULTAS_PRENATALES</th>\n",
       "    </tr>\n",
       "  </thead>\n",
       "  <tbody>\n",
       "    <tr>\n",
       "      <th>0</th>\n",
       "      <td>100032.04</td>\n",
       "      <td>3</td>\n",
       "      <td>2</td>\n",
       "      <td>4</td>\n",
       "      <td>30</td>\n",
       "      <td>1</td>\n",
       "      <td>1</td>\n",
       "      <td>3</td>\n",
       "      <td>1.0</td>\n",
       "      <td>NaN</td>\n",
       "      <td>...</td>\n",
       "      <td>1.0</td>\n",
       "      <td>0.0</td>\n",
       "      <td>0.0</td>\n",
       "      <td>4.0</td>\n",
       "      <td>8.0</td>\n",
       "      <td>6.0</td>\n",
       "      <td>0</td>\n",
       "      <td>1</td>\n",
       "      <td>0.0</td>\n",
       "      <td>6.0</td>\n",
       "    </tr>\n",
       "    <tr>\n",
       "      <th>1</th>\n",
       "      <td>100044.04</td>\n",
       "      <td>2</td>\n",
       "      <td>1</td>\n",
       "      <td>3</td>\n",
       "      <td>6</td>\n",
       "      <td>1</td>\n",
       "      <td>1</td>\n",
       "      <td>3</td>\n",
       "      <td>1.0</td>\n",
       "      <td>NaN</td>\n",
       "      <td>...</td>\n",
       "      <td>1.0</td>\n",
       "      <td>0.0</td>\n",
       "      <td>0.0</td>\n",
       "      <td>4.0</td>\n",
       "      <td>3.0</td>\n",
       "      <td>6.0</td>\n",
       "      <td>0</td>\n",
       "      <td>0</td>\n",
       "      <td>6.0</td>\n",
       "      <td>6.0</td>\n",
       "    </tr>\n",
       "    <tr>\n",
       "      <th>2</th>\n",
       "      <td>100045.04</td>\n",
       "      <td>1</td>\n",
       "      <td>3</td>\n",
       "      <td>3</td>\n",
       "      <td>4</td>\n",
       "      <td>1</td>\n",
       "      <td>1</td>\n",
       "      <td>10</td>\n",
       "      <td>1.0</td>\n",
       "      <td>NaN</td>\n",
       "      <td>...</td>\n",
       "      <td>1.0</td>\n",
       "      <td>0.0</td>\n",
       "      <td>0.0</td>\n",
       "      <td>4.0</td>\n",
       "      <td>9.0</td>\n",
       "      <td>5.0</td>\n",
       "      <td>0</td>\n",
       "      <td>0</td>\n",
       "      <td>5.0</td>\n",
       "      <td>0.0</td>\n",
       "    </tr>\n",
       "    <tr>\n",
       "      <th>3</th>\n",
       "      <td>100054.02</td>\n",
       "      <td>3</td>\n",
       "      <td>1</td>\n",
       "      <td>10</td>\n",
       "      <td>1</td>\n",
       "      <td>1</td>\n",
       "      <td>1</td>\n",
       "      <td>2</td>\n",
       "      <td>1.0</td>\n",
       "      <td>NaN</td>\n",
       "      <td>...</td>\n",
       "      <td>1.0</td>\n",
       "      <td>1.0</td>\n",
       "      <td>0.0</td>\n",
       "      <td>3.0</td>\n",
       "      <td>7.0</td>\n",
       "      <td>1.0</td>\n",
       "      <td>1</td>\n",
       "      <td>0</td>\n",
       "      <td>5.0</td>\n",
       "      <td>0.0</td>\n",
       "    </tr>\n",
       "    <tr>\n",
       "      <th>4</th>\n",
       "      <td>100071.02</td>\n",
       "      <td>3</td>\n",
       "      <td>1</td>\n",
       "      <td>3</td>\n",
       "      <td>5</td>\n",
       "      <td>1</td>\n",
       "      <td>1</td>\n",
       "      <td>3</td>\n",
       "      <td>1.0</td>\n",
       "      <td>NaN</td>\n",
       "      <td>...</td>\n",
       "      <td>1.0</td>\n",
       "      <td>0.0</td>\n",
       "      <td>0.0</td>\n",
       "      <td>3.0</td>\n",
       "      <td>5.0</td>\n",
       "      <td>2.0</td>\n",
       "      <td>0</td>\n",
       "      <td>1</td>\n",
       "      <td>0.0</td>\n",
       "      <td>1.0</td>\n",
       "    </tr>\n",
       "    <tr>\n",
       "      <th>...</th>\n",
       "      <td>...</td>\n",
       "      <td>...</td>\n",
       "      <td>...</td>\n",
       "      <td>...</td>\n",
       "      <td>...</td>\n",
       "      <td>...</td>\n",
       "      <td>...</td>\n",
       "      <td>...</td>\n",
       "      <td>...</td>\n",
       "      <td>...</td>\n",
       "      <td>...</td>\n",
       "      <td>...</td>\n",
       "      <td>...</td>\n",
       "      <td>...</td>\n",
       "      <td>...</td>\n",
       "      <td>...</td>\n",
       "      <td>...</td>\n",
       "      <td>...</td>\n",
       "      <td>...</td>\n",
       "      <td>...</td>\n",
       "      <td>...</td>\n",
       "    </tr>\n",
       "    <tr>\n",
       "      <th>19381</th>\n",
       "      <td>3260756.03</td>\n",
       "      <td>2</td>\n",
       "      <td>2</td>\n",
       "      <td>3</td>\n",
       "      <td>4</td>\n",
       "      <td>2</td>\n",
       "      <td>1</td>\n",
       "      <td>5</td>\n",
       "      <td>1.0</td>\n",
       "      <td>NaN</td>\n",
       "      <td>...</td>\n",
       "      <td>2.0</td>\n",
       "      <td>0.0</td>\n",
       "      <td>0.0</td>\n",
       "      <td>5.0</td>\n",
       "      <td>5.0</td>\n",
       "      <td>2.0</td>\n",
       "      <td>0</td>\n",
       "      <td>0</td>\n",
       "      <td>0.0</td>\n",
       "      <td>1.0</td>\n",
       "    </tr>\n",
       "    <tr>\n",
       "      <th>19382</th>\n",
       "      <td>3260756.04</td>\n",
       "      <td>3</td>\n",
       "      <td>1</td>\n",
       "      <td>1</td>\n",
       "      <td>1</td>\n",
       "      <td>2</td>\n",
       "      <td>1</td>\n",
       "      <td>4</td>\n",
       "      <td>1.0</td>\n",
       "      <td>NaN</td>\n",
       "      <td>...</td>\n",
       "      <td>1.0</td>\n",
       "      <td>0.0</td>\n",
       "      <td>0.0</td>\n",
       "      <td>3.0</td>\n",
       "      <td>8.0</td>\n",
       "      <td>5.0</td>\n",
       "      <td>0</td>\n",
       "      <td>0</td>\n",
       "      <td>8.0</td>\n",
       "      <td>10.0</td>\n",
       "    </tr>\n",
       "    <tr>\n",
       "      <th>19383</th>\n",
       "      <td>3260756.01</td>\n",
       "      <td>3</td>\n",
       "      <td>1</td>\n",
       "      <td>2</td>\n",
       "      <td>3</td>\n",
       "      <td>1</td>\n",
       "      <td>1</td>\n",
       "      <td>3</td>\n",
       "      <td>1.0</td>\n",
       "      <td>NaN</td>\n",
       "      <td>...</td>\n",
       "      <td>1.0</td>\n",
       "      <td>0.0</td>\n",
       "      <td>0.0</td>\n",
       "      <td>3.0</td>\n",
       "      <td>9.0</td>\n",
       "      <td>5.0</td>\n",
       "      <td>1</td>\n",
       "      <td>1</td>\n",
       "      <td>8.0</td>\n",
       "      <td>4.0</td>\n",
       "    </tr>\n",
       "    <tr>\n",
       "      <th>19384</th>\n",
       "      <td>3202645.09</td>\n",
       "      <td>2</td>\n",
       "      <td>1</td>\n",
       "      <td>2</td>\n",
       "      <td>3</td>\n",
       "      <td>1</td>\n",
       "      <td>1</td>\n",
       "      <td>4</td>\n",
       "      <td>1.0</td>\n",
       "      <td>NaN</td>\n",
       "      <td>...</td>\n",
       "      <td>2.0</td>\n",
       "      <td>0.0</td>\n",
       "      <td>0.0</td>\n",
       "      <td>5.0</td>\n",
       "      <td>3.0</td>\n",
       "      <td>2.0</td>\n",
       "      <td>0</td>\n",
       "      <td>0</td>\n",
       "      <td>8.0</td>\n",
       "      <td>4.0</td>\n",
       "    </tr>\n",
       "    <tr>\n",
       "      <th>19385</th>\n",
       "      <td>3260756.07</td>\n",
       "      <td>2</td>\n",
       "      <td>3</td>\n",
       "      <td>5</td>\n",
       "      <td>6</td>\n",
       "      <td>2</td>\n",
       "      <td>1</td>\n",
       "      <td>6</td>\n",
       "      <td>1.0</td>\n",
       "      <td>NaN</td>\n",
       "      <td>...</td>\n",
       "      <td>1.0</td>\n",
       "      <td>0.0</td>\n",
       "      <td>0.0</td>\n",
       "      <td>4.0</td>\n",
       "      <td>7.0</td>\n",
       "      <td>6.0</td>\n",
       "      <td>0</td>\n",
       "      <td>0</td>\n",
       "      <td>4.0</td>\n",
       "      <td>9.0</td>\n",
       "    </tr>\n",
       "  </tbody>\n",
       "</table>\n",
       "<p>19386 rows × 80 columns</p>\n",
       "</div>"
      ],
      "text/plain": [
       "           ID_VIV  P1_1  P1_2  P1_2_A  P1_3  P1_5  P1_6  P1_7  P1_9  P1_10_1  \\\n",
       "0       100032.04     3     2       4    30     1     1     3   1.0      NaN   \n",
       "1       100044.04     2     1       3     6     1     1     3   1.0      NaN   \n",
       "2       100045.04     1     3       3     4     1     1    10   1.0      NaN   \n",
       "3       100054.02     3     1      10     1     1     1     2   1.0      NaN   \n",
       "4       100071.02     3     1       3     5     1     1     3   1.0      NaN   \n",
       "...           ...   ...   ...     ...   ...   ...   ...   ...   ...      ...   \n",
       "19381  3260756.03     2     2       3     4     2     1     5   1.0      NaN   \n",
       "19382  3260756.04     3     1       1     1     2     1     4   1.0      NaN   \n",
       "19383  3260756.01     3     1       2     3     1     1     3   1.0      NaN   \n",
       "19384  3202645.09     2     1       2     3     1     1     4   1.0      NaN   \n",
       "19385  3260756.07     2     3       5     6     2     1     6   1.0      NaN   \n",
       "\n",
       "       ...  P10_4_1  P10_4_2  P10_4_3 P10_6ANIO  P10_6MES P10_7  P10_8_abuso  \\\n",
       "0      ...      1.0      0.0      0.0       4.0       8.0   6.0            0   \n",
       "1      ...      1.0      0.0      0.0       4.0       3.0   6.0            0   \n",
       "2      ...      1.0      0.0      0.0       4.0       9.0   5.0            0   \n",
       "3      ...      1.0      1.0      0.0       3.0       7.0   1.0            1   \n",
       "4      ...      1.0      0.0      0.0       3.0       5.0   2.0            0   \n",
       "...    ...      ...      ...      ...       ...       ...   ...          ...   \n",
       "19381  ...      2.0      0.0      0.0       5.0       5.0   2.0            0   \n",
       "19382  ...      1.0      0.0      0.0       3.0       8.0   5.0            0   \n",
       "19383  ...      1.0      0.0      0.0       3.0       9.0   5.0            1   \n",
       "19384  ...      2.0      0.0      0.0       5.0       3.0   2.0            0   \n",
       "19385  ...      1.0      0.0      0.0       4.0       7.0   6.0            0   \n",
       "\n",
       "       P10_8_atencion  SERVICIOS_MEDICOS_AFILIADA  DONDE_CONSULTAS_PRENATALES  \n",
       "0                   1                         0.0                         6.0  \n",
       "1                   0                         6.0                         6.0  \n",
       "2                   0                         5.0                         0.0  \n",
       "3                   0                         5.0                         0.0  \n",
       "4                   1                         0.0                         1.0  \n",
       "...               ...                         ...                         ...  \n",
       "19381               0                         0.0                         1.0  \n",
       "19382               0                         8.0                        10.0  \n",
       "19383               1                         8.0                         4.0  \n",
       "19384               0                         8.0                         4.0  \n",
       "19385               0                         4.0                         9.0  \n",
       "\n",
       "[19386 rows x 80 columns]"
      ]
     },
     "execution_count": 124,
     "metadata": {},
     "output_type": "execute_result"
    }
   ],
   "source": [
    "result"
   ]
  },
  {
   "cell_type": "markdown",
   "metadata": {},
   "source": [
    "### Borrar columnas\n",
    "\n",
    "1. ID_PER no es necesario ya que no necesitamos identificar a las mujeres y son caracteres unicos para cada registro.\n",
    "2. ID_VIV son caracteres unicos para cada registro.\n",
    "3. SEXO solo tiene el valor de femenino."
   ]
  },
  {
   "cell_type": "code",
   "execution_count": 125,
   "metadata": {},
   "outputs": [
    {
     "data": {
      "text/plain": [
       "2    19386\n",
       "Name: SEXO, dtype: int64"
      ]
     },
     "execution_count": 125,
     "metadata": {},
     "output_type": "execute_result"
    }
   ],
   "source": [
    "result.SEXO.value_counts(dropna=False)"
   ]
  },
  {
   "cell_type": "code",
   "execution_count": 126,
   "metadata": {},
   "outputs": [],
   "source": [
    "result = BorrarColumnas(df=result, cols=[\"ID_PER\", 'ID_VIV', 'SEXO'])"
   ]
  },
  {
   "cell_type": "markdown",
   "metadata": {},
   "source": [
    "### Quitar caracteres especiales\n",
    "\n",
    "Convierto las columnas de texto a numeros"
   ]
  },
  {
   "cell_type": "code",
   "execution_count": 127,
   "metadata": {},
   "outputs": [],
   "source": [
    "encoder = OrdinalEncoder()"
   ]
  },
  {
   "cell_type": "code",
   "execution_count": 128,
   "metadata": {},
   "outputs": [
    {
     "data": {
      "text/plain": [
       "[array(['C\\r', 'R\\r', 'U\\r'], dtype=object)]"
      ]
     },
     "execution_count": 128,
     "metadata": {},
     "output_type": "execute_result"
    }
   ],
   "source": [
    "result['DOMINIO'] = encoder.fit_transform(result[['DOMINIO']])\n",
    "encoder.categories_"
   ]
  },
  {
   "cell_type": "code",
   "execution_count": 129,
   "metadata": {},
   "outputs": [
    {
     "data": {
      "text/plain": [
       "[array(['A1\\r', 'A2\\r', 'B1\\r', 'B2\\r', 'C1\\r', 'C2\\r'], dtype=object)]"
      ]
     },
     "execution_count": 129,
     "metadata": {},
     "output_type": "execute_result"
    }
   ],
   "source": [
    "result['T_INSTRUM'] = encoder.fit_transform(result[['T_INSTRUM']])\n",
    "encoder.categories_"
   ]
  },
  {
   "cell_type": "markdown",
   "metadata": {},
   "source": [
    "### Escalar columnas continuas"
   ]
  },
  {
   "cell_type": "code",
   "execution_count": 130,
   "metadata": {},
   "outputs": [],
   "source": [
    "scaler = MinMaxScaler()"
   ]
  },
  {
   "cell_type": "code",
   "execution_count": 131,
   "metadata": {},
   "outputs": [],
   "source": [
    "result['P1_3_org']  = result.P1_3.copy(deep=True)\n",
    "result['P4_5_AB_org']  = result.P4_5_AB.copy(deep=True)\n",
    "result['P4_7_AB_org']  = result.P4_7_AB.copy(deep=True)"
   ]
  },
  {
   "cell_type": "code",
   "execution_count": 132,
   "metadata": {},
   "outputs": [],
   "source": [
    "result['P1_3'] = scaler.fit_transform(result[['P1_3']])\n",
    "result['P4_5_AB'] = scaler.fit_transform(result[['P4_5_AB']])\n",
    "result['P4_7_AB'] = scaler.fit_transform(result[['P4_7_AB']])"
   ]
  },
  {
   "cell_type": "markdown",
   "metadata": {},
   "source": [
    "### Cambiar edades a rangos\n",
    "Para la interpretabilidad se hacen rangos de cada 5 años.\n",
    "\n",
    "\n",
    "|  Código  | Edades     |\n",
    "|:--------:|:----------:|\n",
    "| 0        | 10 a 15    |\n",
    "| 1        | 15 a 19    |\n",
    "| 2        | 20 a 24    |\n",
    "| 3        | 25 a 29    |\n",
    "| 4        | 30 a 34    |\n",
    "| 5        | 35 a 39    |\n",
    "| 6        | 40 a 44    |\n",
    "| 7        | 45 a 49    |"
   ]
  },
  {
   "cell_type": "code",
   "execution_count": 133,
   "metadata": {},
   "outputs": [],
   "source": [
    "result['EDAD'] = result.EDAD+(result.P10_6ANIO-6)\n",
    "result['EDAD_org']  = result.EDAD.copy(deep=True)\n",
    "\n",
    "for i in range(8):\n",
    "    actual = i*5 + 10\n",
    "    result.loc[result[(result[\"EDAD\"]>=actual) & (result[\"EDAD\"]<actual+5)].index, \"EDAD\"] = i"
   ]
  },
  {
   "cell_type": "code",
   "execution_count": 134,
   "metadata": {},
   "outputs": [
    {
     "data": {
      "text/plain": [
       "3.0    5551\n",
       "2.0    4925\n",
       "4.0    4102\n",
       "1.0    2248\n",
       "5.0    1989\n",
       "6.0     498\n",
       "0.0      42\n",
       "7.0      31\n",
       "Name: EDAD, dtype: int64"
      ]
     },
     "execution_count": 134,
     "metadata": {},
     "output_type": "execute_result"
    }
   ],
   "source": [
    "result.EDAD.value_counts()"
   ]
  },
  {
   "cell_type": "markdown",
   "metadata": {},
   "source": [
    "## Acomodar columnas"
   ]
  },
  {
   "cell_type": "markdown",
   "metadata": {},
   "source": [
    "Para una visioón estética del dataset se dejan las columnas con nombres indicando el tipo de pregunta que representa para el final."
   ]
  },
  {
   "cell_type": "code",
   "execution_count": 135,
   "metadata": {},
   "outputs": [],
   "source": [
    "# las columnas en el orden actual\n",
    "columnas = list(result.columns)\n",
    "\n",
    "# columnas que pasare al inicio del dataframe\n",
    "columnas_al_principio = ['CVE_ENT', 'DOMINIO', 'T_INSTRUM']\n",
    "\n",
    "# quitar las columnas del lugar actual\n",
    "for i in columnas_al_principio:\n",
    "    columnas.remove(i)\n",
    "\n",
    "# pasar al inicio de las columnas\n",
    "columnas = columnas_al_principio+columnas\n",
    "    \n",
    "result = result[columnas]"
   ]
  },
  {
   "cell_type": "markdown",
   "metadata": {},
   "source": [
    "## Borrar columnas\n",
    "\n",
    "Aquellas columnas que tengan más de 1/3 de datos faltantes serán borrados para no afectar los resultados."
   ]
  },
  {
   "cell_type": "code",
   "execution_count": 136,
   "metadata": {},
   "outputs": [
    {
     "name": "stdout",
     "output_type": "stream",
     "text": [
      "columna   cantidad proporcion \n",
      "-----------------------------\n",
      "P1_10_1    18651   132.033130\n",
      "P1_10_2    18651   132.033130\n",
      "P1_10_3    18651   132.033130\n",
      "P1_10_4    18651   132.033130\n",
      "P2_5          17   0.120345\n",
      "P2_6         253   1.791024\n",
      "P2_12      17737   125.562792\n",
      "P2_14       7477   52.930766\n",
      "P2_15      10938   77.431686\n",
      "P4AB_1       868   6.144698\n",
      "P4AB_2     16647   117.846524\n",
      "P4A_2      18576   131.502195\n",
      "P4B_1      17457   123.580631\n",
      "P4B_2      17581   124.458445\n",
      "P4BC_1     16603   117.535042\n",
      "P4BC_2     16603   117.535042\n",
      "P4C_1      18532   131.190712\n",
      "P4BC_3     16603   117.535042\n",
      "P4BC_4     16603   117.535042\n",
      "P4BC_5     19206   135.962056\n",
      "P4_2       11264   79.739487\n",
      "P4_2_1     11800   83.533909\n",
      "P4_3         144   1.019397\n",
      "P4_5_AB     2442   17.287272\n",
      "P4_5_1_AB   5396   38.199066\n",
      "P4_6_AB      998   7.064987\n",
      "P4_7_AB     3632   25.711454\n",
      "P4_9_1     19202   135.933739\n",
      "P4_9_2     19083   135.091321\n",
      "P4_9_3     19078   135.055925\n",
      "P4_9_4     17991   127.360895\n",
      "P4_9_5     19221   136.068243\n",
      "P4_9_6     17714   125.399972\n",
      "P4_9_7     19289   136.549625\n",
      "P4_13_1    17063   120.791448\n",
      "P4_13_2    11787   83.441880\n",
      "P4_13_3    17264   122.214357\n",
      "P4_13_4     8847   62.629194\n",
      "P4_13_5    18984   134.390486\n",
      "P4_13_6    19122   135.367408\n",
      "P4_13_7    18667   132.146397\n",
      "P4_5_AB_org  2442   17.287272\n",
      "P4_7_AB_org  3632   25.711454\n"
     ]
    }
   ],
   "source": [
    "columnas_nan = []\n",
    "columnas_nan_borrar = []\n",
    "print('%-10s%-9s%-5s' % ('columna', 'cantidad', 'proporcion'), '\\n-----------------------------')\n",
    "#print(f'{'columna':10} {'cantidad nan':5d}   {'porcentaje':5f}')\n",
    "for col,nan in zip(result.columns,list(result.isnull().sum())):\n",
    "    if nan != 0:\n",
    "        #print('%-12s%-12i%-12i' % (col, nan, nan*100/14126))\n",
    "        print(f'{col:10} {nan:5d}   {nan*100/14126:5f}')\n",
    "        if nan > result.shape[0]/3:\n",
    "            columnas_nan_borrar.append(col)\n",
    "        else:\n",
    "            columnas_nan.append(col)"
   ]
  },
  {
   "cell_type": "code",
   "execution_count": 137,
   "metadata": {},
   "outputs": [
    {
     "name": "stdout",
     "output_type": "stream",
     "text": [
      "['P2_5', 'P2_6', 'P4AB_1', 'P4_3', 'P4_5_AB', 'P4_5_1_AB', 'P4_6_AB', 'P4_7_AB', 'P4_5_AB_org', 'P4_7_AB_org']\n"
     ]
    },
    {
     "data": {
      "text/plain": [
       "(None, 10)"
      ]
     },
     "execution_count": 137,
     "metadata": {},
     "output_type": "execute_result"
    }
   ],
   "source": [
    "print(columnas_nan), len(columnas_nan)"
   ]
  },
  {
   "cell_type": "code",
   "execution_count": 138,
   "metadata": {},
   "outputs": [
    {
     "name": "stdout",
     "output_type": "stream",
     "text": [
      "['P1_10_1', 'P1_10_2', 'P1_10_3', 'P1_10_4', 'P2_12', 'P2_14', 'P2_15', 'P4AB_2', 'P4A_2', 'P4B_1', 'P4B_2', 'P4BC_1', 'P4BC_2', 'P4C_1', 'P4BC_3', 'P4BC_4', 'P4BC_5', 'P4_2', 'P4_2_1', 'P4_9_1', 'P4_9_2', 'P4_9_3', 'P4_9_4', 'P4_9_5', 'P4_9_6', 'P4_9_7', 'P4_13_1', 'P4_13_2', 'P4_13_3', 'P4_13_4', 'P4_13_5', 'P4_13_6', 'P4_13_7']\n"
     ]
    },
    {
     "data": {
      "text/plain": [
       "(None, 33)"
      ]
     },
     "execution_count": 138,
     "metadata": {},
     "output_type": "execute_result"
    }
   ],
   "source": [
    "print(columnas_nan_borrar), len(columnas_nan_borrar)"
   ]
  },
  {
   "cell_type": "markdown",
   "metadata": {},
   "source": [
    "Incluyo aquellas que necesito borrar ede los datos resultantes pero estaŕan en el conjunto de datos que se usan para explorarlos."
   ]
  },
  {
   "cell_type": "code",
   "execution_count": 139,
   "metadata": {},
   "outputs": [],
   "source": [
    "columnas_nan_borrar.extend(['EDAD_org', 'P1_3_org', 'P4_7_AB_org', 'P4_5_AB_org'])"
   ]
  },
  {
   "cell_type": "code",
   "execution_count": 140,
   "metadata": {},
   "outputs": [],
   "source": [
    "endireh = BorrarColumnas(result, columnas_nan_borrar)"
   ]
  },
  {
   "cell_type": "markdown",
   "metadata": {},
   "source": [
    "### Variables que relfejan la misma información\n",
    "\n",
    "P4_1 y P2_13 reflejan valores similares. P4_1 es Actualmente, ¿usted trabaja por un ingreso, salario o ganancia? y P2_13 es ¿Trabajó la semana pasada?. Como queremos saber rutinas, me quedaré con el valor de P4_1 porque ese fue preguntado directo a la entrevistada (en el otro valor fue a informate que pudo no saber de la situación laboral)."
   ]
  },
  {
   "cell_type": "code",
   "execution_count": 141,
   "metadata": {},
   "outputs": [
    {
     "data": {
      "text/plain": [
       "0.8321771098010458"
      ]
     },
     "execution_count": 141,
     "metadata": {},
     "output_type": "execute_result"
    }
   ],
   "source": [
    "endireh['P4_1'].corr(endireh['P2_13'])"
   ]
  },
  {
   "cell_type": "code",
   "execution_count": 142,
   "metadata": {},
   "outputs": [
    {
     "data": {
      "text/plain": [
       "0    11264\n",
       "1     8122\n",
       "Name: P4_1, dtype: int64"
      ]
     },
     "execution_count": 142,
     "metadata": {},
     "output_type": "execute_result"
    }
   ],
   "source": [
    "endireh.P4_1.value_counts(dropna=False)"
   ]
  },
  {
   "cell_type": "code",
   "execution_count": 143,
   "metadata": {},
   "outputs": [
    {
     "data": {
      "text/plain": [
       "0.0    11909\n",
       "1.0     7477\n",
       "Name: P2_13, dtype: int64"
      ]
     },
     "execution_count": 143,
     "metadata": {},
     "output_type": "execute_result"
    }
   ],
   "source": [
    "endireh.P2_13.value_counts(dropna=False)"
   ]
  },
  {
   "cell_type": "code",
   "execution_count": 144,
   "metadata": {},
   "outputs": [],
   "source": [
    "endireh = BorrarColumnas(endireh, ['P2_13'])"
   ]
  },
  {
   "cell_type": "markdown",
   "metadata": {},
   "source": [
    "### Cambiar nombre de columna\n",
    "\n",
    "Para que los nombres sean más descriptivos en los resultados."
   ]
  },
  {
   "cell_type": "code",
   "execution_count": 145,
   "metadata": {},
   "outputs": [],
   "source": [
    "renombrar_columnas = {'T_INSTRUM' : 'SITUACION_CONYUGAL', 'P1_1': 'MATERIAL_PISOS', 'P1_2': 'CUARTOS_DORMIR', 'P1_2_A': 'CUARTOS_TOTAL', 'P1_3': 'FOCOS',\n",
    "           'P1_5': 'AGUA', 'P1_6': 'DRENAJE', 'P1_7': 'NUM_RESIDENTES', 'P1_9': 'NUM_HOGARES',\n",
    "           \n",
    "           'P2_5': 'RES_MADRE', 'P2_6': 'RES_PADRE', 'NIV': 'ESCOLARIDAD', 'GRA': 'GRADO_ESCOLAR', 'P2_8': 'ALFABETISMO', \n",
    "           'P2_9': 'ASISTENCIA_ESC', 'P2_10': 'PERT_INDIGENA', 'P2_11': 'LENG_INDIGENA', \n",
    "           \n",
    "           'P4AB_1': 'VERIF_SITUACION_PAREJA', 'P4_1': 'ENTREVISTADA_TRABAJA', 'P4_3': 'PAREJA_TRABAJA', 'P4_5_AB': 'PAREJA_GANANCIAS',  \n",
    "           'P4_5_1_AB': 'PAREJA_GANANCIAS_FRECUENCIA', 'P4_6_AB': 'PAREJA_APORTA_PARA_GASTO', 'P4_7_AB': 'PAREJA_CUANTO_APORTA_GASTO', \n",
    "           'P4_11': 'LIBERTAD_USAR_DINERO', \n",
    "           \n",
    "           'P10_3': 'NUM_EMBARAZOS', 'P10_4_1': 'NACIO_VIV', 'P10_4_2': 'NACIO_MUERT', 'P10_4_3': 'ABORTO', 'P10_6ANIO': 'ANIO_PARTO',\n",
    "           'P10_6MES': 'MES_PARTO', 'P10_7': 'DONDE_ATENDIO_PARTO'}\n",
    "\n",
    "endireh.rename(columns = renombrar_columnas, inplace=True)"
   ]
  },
  {
   "cell_type": "raw",
   "metadata": {},
   "source": [
    "columnas_nan_borrar.extend(['EDAD_org', 'P1_3_org', 'P4_7_AB_org', 'P4_5_AB_org'])"
   ]
  },
  {
   "cell_type": "code",
   "execution_count": 146,
   "metadata": {},
   "outputs": [
    {
     "name": "stdout",
     "output_type": "stream",
     "text": [
      "['CVE_ENT', 'DOMINIO', 'SITUACION_CONYUGAL', 'MATERIAL_PISOS', 'CUARTOS_DORMIR', 'CUARTOS_TOTAL', 'FOCOS', 'AGUA', 'DRENAJE', 'NUM_RESIDENTES', 'NUM_HOGARES', 'BIENES_DE_VIVIENDA', 'PAREN', 'EDAD', 'RES_MADRE', 'RES_PADRE', 'ESCOLARIDAD', 'GRADO_ESCOLAR', 'ALFABETISMO', 'ASISTENCIA_ESC', 'PERT_INDIGENA', 'LENG_INDIGENA', 'VERIF_SITUACION_PAREJA', 'ENTREVISTADA_TRABAJA', 'PAREJA_TRABAJA', 'PAREJA_GANANCIAS', 'PAREJA_GANANCIAS_FRECUENCIA', 'PAREJA_APORTA_PARA_GASTO', 'PAREJA_CUANTO_APORTA_GASTO', 'LIBERTAD_USAR_DINERO', 'FUENTES_DE_DINERO', 'PROPIEDADES_DEL_HOGAR', 'NUM_EMBARAZOS', 'NACIO_VIV', 'NACIO_MUERT', 'ABORTO', 'ANIO_PARTO', 'MES_PARTO', 'DONDE_ATENDIO_PARTO', 'P10_8_abuso', 'P10_8_atencion', 'SERVICIOS_MEDICOS_AFILIADA', 'DONDE_CONSULTAS_PRENATALES']\n"
     ]
    }
   ],
   "source": [
    "print(list(endireh.columns))"
   ]
  },
  {
   "cell_type": "code",
   "execution_count": 147,
   "metadata": {},
   "outputs": [
    {
     "data": {
      "text/plain": [
       "(19386, 43)"
      ]
     },
     "execution_count": 147,
     "metadata": {},
     "output_type": "execute_result"
    }
   ],
   "source": [
    "endireh.shape"
   ]
  },
  {
   "cell_type": "markdown",
   "metadata": {},
   "source": [
    "### Guardar datasets"
   ]
  },
  {
   "cell_type": "code",
   "execution_count": 148,
   "metadata": {},
   "outputs": [
    {
     "data": {
      "text/html": [
       "<div>\n",
       "<style scoped>\n",
       "    .dataframe tbody tr th:only-of-type {\n",
       "        vertical-align: middle;\n",
       "    }\n",
       "\n",
       "    .dataframe tbody tr th {\n",
       "        vertical-align: top;\n",
       "    }\n",
       "\n",
       "    .dataframe thead th {\n",
       "        text-align: right;\n",
       "    }\n",
       "</style>\n",
       "<table border=\"1\" class=\"dataframe\">\n",
       "  <thead>\n",
       "    <tr style=\"text-align: right;\">\n",
       "      <th></th>\n",
       "      <th>CVE_ENT</th>\n",
       "      <th>DOMINIO</th>\n",
       "      <th>SITUACION_CONYUGAL</th>\n",
       "      <th>MATERIAL_PISOS</th>\n",
       "      <th>CUARTOS_DORMIR</th>\n",
       "      <th>CUARTOS_TOTAL</th>\n",
       "      <th>FOCOS</th>\n",
       "      <th>AGUA</th>\n",
       "      <th>DRENAJE</th>\n",
       "      <th>NUM_RESIDENTES</th>\n",
       "      <th>...</th>\n",
       "      <th>NACIO_VIV</th>\n",
       "      <th>NACIO_MUERT</th>\n",
       "      <th>ABORTO</th>\n",
       "      <th>ANIO_PARTO</th>\n",
       "      <th>MES_PARTO</th>\n",
       "      <th>DONDE_ATENDIO_PARTO</th>\n",
       "      <th>P10_8_abuso</th>\n",
       "      <th>P10_8_atencion</th>\n",
       "      <th>SERVICIOS_MEDICOS_AFILIADA</th>\n",
       "      <th>DONDE_CONSULTAS_PRENATALES</th>\n",
       "    </tr>\n",
       "  </thead>\n",
       "  <tbody>\n",
       "    <tr>\n",
       "      <th>0</th>\n",
       "      <td>1</td>\n",
       "      <td>2.0</td>\n",
       "      <td>0.0</td>\n",
       "      <td>3</td>\n",
       "      <td>2</td>\n",
       "      <td>4</td>\n",
       "      <td>0.306122</td>\n",
       "      <td>1</td>\n",
       "      <td>1</td>\n",
       "      <td>3</td>\n",
       "      <td>...</td>\n",
       "      <td>1.0</td>\n",
       "      <td>0.0</td>\n",
       "      <td>0.0</td>\n",
       "      <td>4.0</td>\n",
       "      <td>8.0</td>\n",
       "      <td>6.0</td>\n",
       "      <td>0</td>\n",
       "      <td>1</td>\n",
       "      <td>0.0</td>\n",
       "      <td>6.0</td>\n",
       "    </tr>\n",
       "    <tr>\n",
       "      <th>1</th>\n",
       "      <td>1</td>\n",
       "      <td>2.0</td>\n",
       "      <td>0.0</td>\n",
       "      <td>2</td>\n",
       "      <td>1</td>\n",
       "      <td>3</td>\n",
       "      <td>0.061224</td>\n",
       "      <td>1</td>\n",
       "      <td>1</td>\n",
       "      <td>3</td>\n",
       "      <td>...</td>\n",
       "      <td>1.0</td>\n",
       "      <td>0.0</td>\n",
       "      <td>0.0</td>\n",
       "      <td>4.0</td>\n",
       "      <td>3.0</td>\n",
       "      <td>6.0</td>\n",
       "      <td>0</td>\n",
       "      <td>0</td>\n",
       "      <td>6.0</td>\n",
       "      <td>6.0</td>\n",
       "    </tr>\n",
       "    <tr>\n",
       "      <th>2</th>\n",
       "      <td>1</td>\n",
       "      <td>2.0</td>\n",
       "      <td>0.0</td>\n",
       "      <td>1</td>\n",
       "      <td>3</td>\n",
       "      <td>3</td>\n",
       "      <td>0.040816</td>\n",
       "      <td>1</td>\n",
       "      <td>1</td>\n",
       "      <td>10</td>\n",
       "      <td>...</td>\n",
       "      <td>1.0</td>\n",
       "      <td>0.0</td>\n",
       "      <td>0.0</td>\n",
       "      <td>4.0</td>\n",
       "      <td>9.0</td>\n",
       "      <td>5.0</td>\n",
       "      <td>0</td>\n",
       "      <td>0</td>\n",
       "      <td>5.0</td>\n",
       "      <td>0.0</td>\n",
       "    </tr>\n",
       "    <tr>\n",
       "      <th>3</th>\n",
       "      <td>1</td>\n",
       "      <td>2.0</td>\n",
       "      <td>4.0</td>\n",
       "      <td>3</td>\n",
       "      <td>1</td>\n",
       "      <td>10</td>\n",
       "      <td>0.010204</td>\n",
       "      <td>1</td>\n",
       "      <td>1</td>\n",
       "      <td>2</td>\n",
       "      <td>...</td>\n",
       "      <td>1.0</td>\n",
       "      <td>1.0</td>\n",
       "      <td>0.0</td>\n",
       "      <td>3.0</td>\n",
       "      <td>7.0</td>\n",
       "      <td>1.0</td>\n",
       "      <td>1</td>\n",
       "      <td>0</td>\n",
       "      <td>5.0</td>\n",
       "      <td>0.0</td>\n",
       "    </tr>\n",
       "    <tr>\n",
       "      <th>4</th>\n",
       "      <td>1</td>\n",
       "      <td>2.0</td>\n",
       "      <td>0.0</td>\n",
       "      <td>3</td>\n",
       "      <td>1</td>\n",
       "      <td>3</td>\n",
       "      <td>0.051020</td>\n",
       "      <td>1</td>\n",
       "      <td>1</td>\n",
       "      <td>3</td>\n",
       "      <td>...</td>\n",
       "      <td>1.0</td>\n",
       "      <td>0.0</td>\n",
       "      <td>0.0</td>\n",
       "      <td>3.0</td>\n",
       "      <td>5.0</td>\n",
       "      <td>2.0</td>\n",
       "      <td>0</td>\n",
       "      <td>1</td>\n",
       "      <td>0.0</td>\n",
       "      <td>1.0</td>\n",
       "    </tr>\n",
       "    <tr>\n",
       "      <th>...</th>\n",
       "      <td>...</td>\n",
       "      <td>...</td>\n",
       "      <td>...</td>\n",
       "      <td>...</td>\n",
       "      <td>...</td>\n",
       "      <td>...</td>\n",
       "      <td>...</td>\n",
       "      <td>...</td>\n",
       "      <td>...</td>\n",
       "      <td>...</td>\n",
       "      <td>...</td>\n",
       "      <td>...</td>\n",
       "      <td>...</td>\n",
       "      <td>...</td>\n",
       "      <td>...</td>\n",
       "      <td>...</td>\n",
       "      <td>...</td>\n",
       "      <td>...</td>\n",
       "      <td>...</td>\n",
       "      <td>...</td>\n",
       "      <td>...</td>\n",
       "    </tr>\n",
       "    <tr>\n",
       "      <th>19381</th>\n",
       "      <td>32</td>\n",
       "      <td>1.0</td>\n",
       "      <td>0.0</td>\n",
       "      <td>2</td>\n",
       "      <td>2</td>\n",
       "      <td>3</td>\n",
       "      <td>0.040816</td>\n",
       "      <td>2</td>\n",
       "      <td>1</td>\n",
       "      <td>5</td>\n",
       "      <td>...</td>\n",
       "      <td>2.0</td>\n",
       "      <td>0.0</td>\n",
       "      <td>0.0</td>\n",
       "      <td>5.0</td>\n",
       "      <td>5.0</td>\n",
       "      <td>2.0</td>\n",
       "      <td>0</td>\n",
       "      <td>0</td>\n",
       "      <td>0.0</td>\n",
       "      <td>1.0</td>\n",
       "    </tr>\n",
       "    <tr>\n",
       "      <th>19382</th>\n",
       "      <td>32</td>\n",
       "      <td>1.0</td>\n",
       "      <td>0.0</td>\n",
       "      <td>3</td>\n",
       "      <td>1</td>\n",
       "      <td>1</td>\n",
       "      <td>0.010204</td>\n",
       "      <td>2</td>\n",
       "      <td>1</td>\n",
       "      <td>4</td>\n",
       "      <td>...</td>\n",
       "      <td>1.0</td>\n",
       "      <td>0.0</td>\n",
       "      <td>0.0</td>\n",
       "      <td>3.0</td>\n",
       "      <td>8.0</td>\n",
       "      <td>5.0</td>\n",
       "      <td>0</td>\n",
       "      <td>0</td>\n",
       "      <td>8.0</td>\n",
       "      <td>10.0</td>\n",
       "    </tr>\n",
       "    <tr>\n",
       "      <th>19383</th>\n",
       "      <td>32</td>\n",
       "      <td>1.0</td>\n",
       "      <td>0.0</td>\n",
       "      <td>3</td>\n",
       "      <td>1</td>\n",
       "      <td>2</td>\n",
       "      <td>0.030612</td>\n",
       "      <td>1</td>\n",
       "      <td>1</td>\n",
       "      <td>3</td>\n",
       "      <td>...</td>\n",
       "      <td>1.0</td>\n",
       "      <td>0.0</td>\n",
       "      <td>0.0</td>\n",
       "      <td>3.0</td>\n",
       "      <td>9.0</td>\n",
       "      <td>5.0</td>\n",
       "      <td>1</td>\n",
       "      <td>1</td>\n",
       "      <td>8.0</td>\n",
       "      <td>4.0</td>\n",
       "    </tr>\n",
       "    <tr>\n",
       "      <th>19384</th>\n",
       "      <td>32</td>\n",
       "      <td>0.0</td>\n",
       "      <td>0.0</td>\n",
       "      <td>2</td>\n",
       "      <td>1</td>\n",
       "      <td>2</td>\n",
       "      <td>0.030612</td>\n",
       "      <td>1</td>\n",
       "      <td>1</td>\n",
       "      <td>4</td>\n",
       "      <td>...</td>\n",
       "      <td>2.0</td>\n",
       "      <td>0.0</td>\n",
       "      <td>0.0</td>\n",
       "      <td>5.0</td>\n",
       "      <td>3.0</td>\n",
       "      <td>2.0</td>\n",
       "      <td>0</td>\n",
       "      <td>0</td>\n",
       "      <td>8.0</td>\n",
       "      <td>4.0</td>\n",
       "    </tr>\n",
       "    <tr>\n",
       "      <th>19385</th>\n",
       "      <td>32</td>\n",
       "      <td>1.0</td>\n",
       "      <td>0.0</td>\n",
       "      <td>2</td>\n",
       "      <td>3</td>\n",
       "      <td>5</td>\n",
       "      <td>0.061224</td>\n",
       "      <td>2</td>\n",
       "      <td>1</td>\n",
       "      <td>6</td>\n",
       "      <td>...</td>\n",
       "      <td>1.0</td>\n",
       "      <td>0.0</td>\n",
       "      <td>0.0</td>\n",
       "      <td>4.0</td>\n",
       "      <td>7.0</td>\n",
       "      <td>6.0</td>\n",
       "      <td>0</td>\n",
       "      <td>0</td>\n",
       "      <td>4.0</td>\n",
       "      <td>9.0</td>\n",
       "    </tr>\n",
       "  </tbody>\n",
       "</table>\n",
       "<p>19386 rows × 43 columns</p>\n",
       "</div>"
      ],
      "text/plain": [
       "       CVE_ENT  DOMINIO  SITUACION_CONYUGAL  MATERIAL_PISOS  CUARTOS_DORMIR  \\\n",
       "0            1      2.0                 0.0               3               2   \n",
       "1            1      2.0                 0.0               2               1   \n",
       "2            1      2.0                 0.0               1               3   \n",
       "3            1      2.0                 4.0               3               1   \n",
       "4            1      2.0                 0.0               3               1   \n",
       "...        ...      ...                 ...             ...             ...   \n",
       "19381       32      1.0                 0.0               2               2   \n",
       "19382       32      1.0                 0.0               3               1   \n",
       "19383       32      1.0                 0.0               3               1   \n",
       "19384       32      0.0                 0.0               2               1   \n",
       "19385       32      1.0                 0.0               2               3   \n",
       "\n",
       "       CUARTOS_TOTAL     FOCOS  AGUA  DRENAJE  NUM_RESIDENTES  ...  NACIO_VIV  \\\n",
       "0                  4  0.306122     1        1               3  ...        1.0   \n",
       "1                  3  0.061224     1        1               3  ...        1.0   \n",
       "2                  3  0.040816     1        1              10  ...        1.0   \n",
       "3                 10  0.010204     1        1               2  ...        1.0   \n",
       "4                  3  0.051020     1        1               3  ...        1.0   \n",
       "...              ...       ...   ...      ...             ...  ...        ...   \n",
       "19381              3  0.040816     2        1               5  ...        2.0   \n",
       "19382              1  0.010204     2        1               4  ...        1.0   \n",
       "19383              2  0.030612     1        1               3  ...        1.0   \n",
       "19384              2  0.030612     1        1               4  ...        2.0   \n",
       "19385              5  0.061224     2        1               6  ...        1.0   \n",
       "\n",
       "       NACIO_MUERT  ABORTO  ANIO_PARTO  MES_PARTO  DONDE_ATENDIO_PARTO  \\\n",
       "0              0.0     0.0         4.0        8.0                  6.0   \n",
       "1              0.0     0.0         4.0        3.0                  6.0   \n",
       "2              0.0     0.0         4.0        9.0                  5.0   \n",
       "3              1.0     0.0         3.0        7.0                  1.0   \n",
       "4              0.0     0.0         3.0        5.0                  2.0   \n",
       "...            ...     ...         ...        ...                  ...   \n",
       "19381          0.0     0.0         5.0        5.0                  2.0   \n",
       "19382          0.0     0.0         3.0        8.0                  5.0   \n",
       "19383          0.0     0.0         3.0        9.0                  5.0   \n",
       "19384          0.0     0.0         5.0        3.0                  2.0   \n",
       "19385          0.0     0.0         4.0        7.0                  6.0   \n",
       "\n",
       "       P10_8_abuso  P10_8_atencion  SERVICIOS_MEDICOS_AFILIADA  \\\n",
       "0                0               1                         0.0   \n",
       "1                0               0                         6.0   \n",
       "2                0               0                         5.0   \n",
       "3                1               0                         5.0   \n",
       "4                0               1                         0.0   \n",
       "...            ...             ...                         ...   \n",
       "19381            0               0                         0.0   \n",
       "19382            0               0                         8.0   \n",
       "19383            1               1                         8.0   \n",
       "19384            0               0                         8.0   \n",
       "19385            0               0                         4.0   \n",
       "\n",
       "       DONDE_CONSULTAS_PRENATALES  \n",
       "0                             6.0  \n",
       "1                             6.0  \n",
       "2                             0.0  \n",
       "3                             0.0  \n",
       "4                             1.0  \n",
       "...                           ...  \n",
       "19381                         1.0  \n",
       "19382                        10.0  \n",
       "19383                         4.0  \n",
       "19384                         4.0  \n",
       "19385                         9.0  \n",
       "\n",
       "[19386 rows x 43 columns]"
      ]
     },
     "execution_count": 148,
     "metadata": {},
     "output_type": "execute_result"
    }
   ],
   "source": [
    "endireh "
   ]
  },
  {
   "cell_type": "raw",
   "metadata": {},
   "source": [
    "endireh.to_csv(f'data/endireh_nac.csv', index=False)"
   ]
  },
  {
   "cell_type": "raw",
   "metadata": {},
   "source": [
    "gk = endireh.groupby('DOMINIO')\n",
    "\n",
    "for dom in endireh.DOMINIO.unique():\n",
    "    X = gk.get_group(dom)\n",
    "    X = X.drop(columns=['DOMINIO'], inplace=False)\n",
    "    X.to_csv(f'data/endireh_dom_{int(dom)}.csv', index=False)\n",
    "    \"\"\"\n",
    "    if dom == 0:\n",
    "        X.drop(X[(X.P2_14==8)|(X.P2_14==10)].index , inplace=False).to_csv(f'data/endireh_dom_{dom}.csv', index=False)\n",
    "    elif dom == 1:\n",
    "        X.drop(X[(X.P2_14==10)].index , inplace=False).to_csv(f'data/endireh_dom_{dom}.csv', index=False)\n",
    "    elif dom == 2:\n",
    "        X.drop(X[(X.P2_14==2)|(X.P2_14==8)].index , inplace=False).to_csv(f'data/endireh_dom_{dom}.csv', index=False)\n",
    "    \"\"\""
   ]
  },
  {
   "cell_type": "raw",
   "metadata": {},
   "source": [
    "result.drop(labels='P2_13', axis=1, inplace=False).rename(columns=renombrar_columnas, inplace=False).to_csv(f'data/endireh_org_nac.csv', index=False)\n",
    "#result.drop(labels='P2_13', axis=1, inplace=False).rename(columns=renombrar_columnas, inplace=False).to_csv(f'data/endireh_instituciones_nac.csv', index=False)"
   ]
  },
  {
   "cell_type": "markdown",
   "metadata": {},
   "source": [
    "# Descripción de los datos resultantes"
   ]
  },
  {
   "cell_type": "markdown",
   "metadata": {},
   "source": [
    "## General\n",
    "\n",
    "1. CVE_ENT:     clave de entidad federativo (estado). Del 1 al 32.\n",
    "4. DOMINIO:     si vive en área urbana, semiurbana o rural. Del 0 al 2.\n",
    "5. SITUACION_CONYUGAL:   situación ormántica de la mujer elegida. Del 0 al 5."
   ]
  },
  {
   "cell_type": "markdown",
   "metadata": {},
   "source": [
    "## SECCIÓN I. CARACTERÍSTICAS DE LA VIVIENDA Y HOGARES EN LA VIVIENDA\n",
    "\n",
    "1. MATERIAL_PISOS: material del piso en la vivienda. Del 0 al 2.\n",
    "2. CUARTOS_DORMIR: cantidad de cuartos para dormir. Del 0 al 9.\n",
    "3. CUARTOS_TOTAL: cantidad de cuartos en la vivienda. Del 1 al 13.\n",
    "4. FOCOS: número de focos. Del 0 al 1, donde 0 refleja 1 foco y 1 refleja 98 focos.\n",
    "5. BIENES_DE_VIVIENDA: cuántos de los bienes listados hay aunque sea 1 en la vivienda. Del 0 al 9, donde 0 refleja ninguno y 9 refleja que tiene todos.\n",
    "    1. P1_4_1:   tiene aparato para oír radio.\n",
    "    2. P1_4_2:   tiene television.\n",
    "    3. P1_4_3:   tiene computadora.\n",
    "    4. P1_4_4:   tiene linea telefonica fija.\n",
    "    5. P1_4_5:   tiene telefono celular.\n",
    "    6. P1_4_6:  tiene refrigerador.\n",
    "    7. P1_4_7:  tiene lavadora.\n",
    "    8. P1_4_8:  tiene auto o camioneta.\n",
    "    9. P1_4_9:  tiene servicio de internet.\n",
    "6. AGUA: tipos de acceso a agua que tienen en la vivienda. Del 0 al 5.\n",
    "7. DRENAJE: tipos de acceso a drenaje que tienen en la vivienda. Del 0 al 4.\n",
    "8. NUM_RESIDENTES: cantidad de personas que viven en la vivienda. Del 1 a 24.\n",
    "9. NUM_HOGARES: cuantos grupos de personas comparten gastos en la vivienda. Del 1 al 5."
   ]
  },
  {
   "cell_type": "markdown",
   "metadata": {},
   "source": [
    "## SECCIÓN II. CARACTERÍSTICAS SOCIODEMOGRÁFICAS DE RESIDENTES DE LA VIVIENDA\n",
    "\n",
    "1. PAREN: parentezco de la mujer elegida a el/la jefe/jefa del hogar. Del 1 al 5.\n",
    "2. EDAD: rango de edad de la mujer elegida creado en esta libreta. Del 0 al 8.\n",
    "3. RES_MADRE: residencia de la madre (categorias creadas en esta libreta). 0 (vive con ella), 1 (vive n otra vivienda), 2 (falleció) y NULL (no sabe).\n",
    "4. RES_PADRE: residencia del padre (categorias creadas en esta libreta). 0 (vive con ella), 1 (vive n otra vivienda), 2 (falleció) y NULL (no sabe).\n",
    "5. ESCOLARIDAD: último nivel de estudios cursado. Del 0 al 11.\n",
    "6. GRADO_ESCOLAR: último grado de estudios cursado. Del 0 al 8.\n",
    "7. ALFABETISMO: si sabe leer y escribir un recado. 0 o 1.\n",
    "8. ASISTENCIA_ESC: si asiste actualmente a la escuela. 0 o 1.\n",
    "9. PERT_INDIGENA: si se considera indígene. 0 (si), 1 (si en parte), 2 (no) y 7 (no sabe).\n",
    "10. LENG_INDIGENA: si habla alguna lengua indígena. 0 o 1."
   ]
  },
  {
   "cell_type": "markdown",
   "metadata": {},
   "source": [
    "## SECCIÓN IV. SITUACIÓN DE LA RELACIÓN DE PAREJA/INGRESOS Y RECURSOS\n",
    "\n",
    "1. VERIF_SITUACION_PAREJA: Desarrollo de SITUACION_CONYUGAL. Del 0 al 3.\n",
    "2. ENTREVISTADA_TRABAJA: Si la entrevistada trabaja por un ingreso, salario o ganancia. 0 o 1.\n",
    "3. PAREJA_TRABAJA: Si la pareja de la entrevistada trabaja. 0 o 1.\n",
    "4. PAREJA_GANANCIAS: Cuanto gana la pareja. 0 a 1.\n",
    "5. PAREJA_GANANCIAS_FRECUENCIA: Con que frecuencia teien ganancias. 0 (a la semana), 1 (a la quincena), 2 (al mes) y NULL (no sabe).\n",
    "6. PAREJA_APORTA_PARA_GASTO: Si la pareja aporta para el gasto de la vivienda. 0 (si), 1 (no), 2 (no tienen hijxs en comun o ya son grandes) y NULL.\n",
    "7. PAREJA_CUANTO_APORTA_GASTO: Cuanto aporta la pareja para el gasto de la vivienda. 0 a 1.\n",
    "8. LIBERTAD_USAR_DINERO: libertad d ela entrevistada de usar el dinero como quiera. 0 o 1.\n",
    "9. FUENTES_DE_DINERO: Cantidad de fuentes de dinero de la entrevistada. 0 a 4.\n",
    "10. PROPIEDADES_DEL_HOGAR: DE las personas que viven en el hogar, de cuantos patrimonios/propiedades son dueños. 0 a 7."
   ]
  },
  {
   "cell_type": "markdown",
   "metadata": {},
   "source": [
    "## SECCIÓN IX. ATENCIÓN OBSTÉTRICA\n",
    "\n",
    "1. P10SERVICIOS_MEDICOS_AFILIADA_1: afiliación a servicios médicos.\n",
    "2. NUM_EMBARAZOS: embarazos que tuvo durante el periodo de la encuesta. del 1 al 18.\n",
    "3. NACIO_VIV: cuantos partos el resultado nació vivo. Del 0 al 10.\n",
    "4. NACIO_MUERT: cuantos partos el resultado nació muerto. Del 0 al 6.\n",
    "5. ABORTO: cuantos partos el resultado fue aborto. Del 0 al 5.\n",
    "6. DONDE_CONSULTAS_PRENATALES: servicio(s) médico(s) donde atendió consultas prenatales. \n",
    "7. P10_6ANIO_PARTOANIO: año del último parto. Del 0 al 5 representando del 2016 al 2021.\n",
    "8. MES_PARTO: año del último parto. Del 0 al 12 representando los meses del año.\n",
    "9. DONDE_ATENDIO_PARTO: donde se atendió el parto. Del 0 al 4.\n",
    "10. P10_8_abuso: si sufrió del tipo de violencia obstétrica 'abuso o violencia'. 0 o 1.\n",
    "11. P10_8_atencion: si sufrió el tipo de violencia obstétrica 'atención no autorizada'. 0 o 1."
   ]
  },
  {
   "cell_type": "markdown",
   "metadata": {},
   "source": [
    "# Repaso"
   ]
  },
  {
   "cell_type": "raw",
   "metadata": {},
   "source": [
    "endireh.shape"
   ]
  },
  {
   "cell_type": "raw",
   "metadata": {},
   "source": [
    "columnas_regression = ['FOCOS', 'PAREJA_GANANCIAS', 'PAREJA_CUANTO_APORTA_GASTO'] \n",
    "#StandardScaler\n",
    "\n",
    "columnas_nan = ['RES_MADRE', 'RES_PADRE', 'VERIF_SITUACION_PAREJA', 'PAREJA_TRABAJA', 'PAREJA_GANANCIAS', \n",
    "                'PAREJA_GANANCIAS_FRECUENCIA', 'PAREJA_APORTA_PARA_GASTO', 'PAREJA_CUANTO_APORTA_GASTO'] \n",
    "#cuando son objetivo solo se usan aquellas que tienen datos\n",
    "\n",
    "columnasBin = ['ALFABETISMO', 'ASISTENCIA_ESC', 'LENG_INDIGENA', 'ENTREVISTADA_TRABAJA', \n",
    "               'LIBERTAD_USAR_DINERO', 'P10_8_abuso', 'P10_8_atencion']\n"
   ]
  },
  {
   "cell_type": "raw",
   "metadata": {},
   "source": [
    "multcat = []\n",
    "for c in endireh.columns:\n",
    "    if c not in columnas_regression and c not in columnasBin:\n",
    "        multcat.append(c)\n",
    "multcat"
   ]
  },
  {
   "cell_type": "raw",
   "metadata": {},
   "source": [
    "for col in endireh.columns:\n",
    "    print(f'{col:13} {len(endireh[col].unique()):5d} {sorted(endireh[col].unique())}\\n')"
   ]
  },
  {
   "cell_type": "markdown",
   "metadata": {},
   "source": [
    "# Estadísticas simples interesantes?"
   ]
  },
  {
   "cell_type": "markdown",
   "metadata": {},
   "source": [
    "Violencia en las trabajadores domésticas."
   ]
  },
  {
   "cell_type": "code",
   "execution_count": 149,
   "metadata": {},
   "outputs": [
    {
     "data": {
      "text/html": [
       "<div>\n",
       "<style scoped>\n",
       "    .dataframe tbody tr th:only-of-type {\n",
       "        vertical-align: middle;\n",
       "    }\n",
       "\n",
       "    .dataframe tbody tr th {\n",
       "        vertical-align: top;\n",
       "    }\n",
       "\n",
       "    .dataframe thead th {\n",
       "        text-align: right;\n",
       "    }\n",
       "</style>\n",
       "<table border=\"1\" class=\"dataframe\">\n",
       "  <thead>\n",
       "    <tr style=\"text-align: right;\">\n",
       "      <th></th>\n",
       "      <th>PAREN</th>\n",
       "      <th>P10_8_abuso</th>\n",
       "      <th>P10_8_atencion</th>\n",
       "      <th>NIV</th>\n",
       "      <th>GRA</th>\n",
       "      <th>P2_13</th>\n",
       "      <th>P2_15</th>\n",
       "    </tr>\n",
       "  </thead>\n",
       "  <tbody>\n",
       "    <tr>\n",
       "      <th>497</th>\n",
       "      <td>5</td>\n",
       "      <td>0</td>\n",
       "      <td>0</td>\n",
       "      <td>10.0</td>\n",
       "      <td>2.0</td>\n",
       "      <td>0.0</td>\n",
       "      <td>NaN</td>\n",
       "    </tr>\n",
       "    <tr>\n",
       "      <th>623</th>\n",
       "      <td>5</td>\n",
       "      <td>0</td>\n",
       "      <td>0</td>\n",
       "      <td>3.0</td>\n",
       "      <td>3.0</td>\n",
       "      <td>0.0</td>\n",
       "      <td>NaN</td>\n",
       "    </tr>\n",
       "    <tr>\n",
       "      <th>777</th>\n",
       "      <td>5</td>\n",
       "      <td>0</td>\n",
       "      <td>0</td>\n",
       "      <td>10.0</td>\n",
       "      <td>2.0</td>\n",
       "      <td>1.0</td>\n",
       "      <td>1.0</td>\n",
       "    </tr>\n",
       "    <tr>\n",
       "      <th>888</th>\n",
       "      <td>5</td>\n",
       "      <td>0</td>\n",
       "      <td>0</td>\n",
       "      <td>4.0</td>\n",
       "      <td>1.0</td>\n",
       "      <td>1.0</td>\n",
       "      <td>1.0</td>\n",
       "    </tr>\n",
       "    <tr>\n",
       "      <th>943</th>\n",
       "      <td>5</td>\n",
       "      <td>0</td>\n",
       "      <td>0</td>\n",
       "      <td>3.0</td>\n",
       "      <td>3.0</td>\n",
       "      <td>0.0</td>\n",
       "      <td>NaN</td>\n",
       "    </tr>\n",
       "    <tr>\n",
       "      <th>...</th>\n",
       "      <td>...</td>\n",
       "      <td>...</td>\n",
       "      <td>...</td>\n",
       "      <td>...</td>\n",
       "      <td>...</td>\n",
       "      <td>...</td>\n",
       "      <td>...</td>\n",
       "    </tr>\n",
       "    <tr>\n",
       "      <th>17675</th>\n",
       "      <td>5</td>\n",
       "      <td>0</td>\n",
       "      <td>0</td>\n",
       "      <td>3.0</td>\n",
       "      <td>3.0</td>\n",
       "      <td>1.0</td>\n",
       "      <td>1.0</td>\n",
       "    </tr>\n",
       "    <tr>\n",
       "      <th>17974</th>\n",
       "      <td>5</td>\n",
       "      <td>0</td>\n",
       "      <td>0</td>\n",
       "      <td>4.0</td>\n",
       "      <td>1.0</td>\n",
       "      <td>0.0</td>\n",
       "      <td>NaN</td>\n",
       "    </tr>\n",
       "    <tr>\n",
       "      <th>18433</th>\n",
       "      <td>5</td>\n",
       "      <td>1</td>\n",
       "      <td>0</td>\n",
       "      <td>3.0</td>\n",
       "      <td>3.0</td>\n",
       "      <td>1.0</td>\n",
       "      <td>2.0</td>\n",
       "    </tr>\n",
       "    <tr>\n",
       "      <th>18721</th>\n",
       "      <td>5</td>\n",
       "      <td>1</td>\n",
       "      <td>0</td>\n",
       "      <td>4.0</td>\n",
       "      <td>1.0</td>\n",
       "      <td>0.0</td>\n",
       "      <td>NaN</td>\n",
       "    </tr>\n",
       "    <tr>\n",
       "      <th>18909</th>\n",
       "      <td>5</td>\n",
       "      <td>0</td>\n",
       "      <td>0</td>\n",
       "      <td>3.0</td>\n",
       "      <td>3.0</td>\n",
       "      <td>0.0</td>\n",
       "      <td>NaN</td>\n",
       "    </tr>\n",
       "  </tbody>\n",
       "</table>\n",
       "<p>77 rows × 7 columns</p>\n",
       "</div>"
      ],
      "text/plain": [
       "       PAREN  P10_8_abuso  P10_8_atencion   NIV  GRA  P2_13  P2_15\n",
       "497        5            0               0  10.0  2.0    0.0    NaN\n",
       "623        5            0               0   3.0  3.0    0.0    NaN\n",
       "777        5            0               0  10.0  2.0    1.0    1.0\n",
       "888        5            0               0   4.0  1.0    1.0    1.0\n",
       "943        5            0               0   3.0  3.0    0.0    NaN\n",
       "...      ...          ...             ...   ...  ...    ...    ...\n",
       "17675      5            0               0   3.0  3.0    1.0    1.0\n",
       "17974      5            0               0   4.0  1.0    0.0    NaN\n",
       "18433      5            1               0   3.0  3.0    1.0    2.0\n",
       "18721      5            1               0   4.0  1.0    0.0    NaN\n",
       "18909      5            0               0   3.0  3.0    0.0    NaN\n",
       "\n",
       "[77 rows x 7 columns]"
      ]
     },
     "execution_count": 149,
     "metadata": {},
     "output_type": "execute_result"
    }
   ],
   "source": [
    "result[result.PAREN==5][['PAREN', 'P10_8_abuso', 'P10_8_atencion', 'NIV', 'GRA', 'P2_13', 'P2_15']]"
   ]
  },
  {
   "cell_type": "markdown",
   "metadata": {},
   "source": [
    "Violencia en las personas con alguna limitación física o mental que le impide trabajar."
   ]
  },
  {
   "cell_type": "code",
   "execution_count": 150,
   "metadata": {},
   "outputs": [
    {
     "data": {
      "text/html": [
       "<div>\n",
       "<style scoped>\n",
       "    .dataframe tbody tr th:only-of-type {\n",
       "        vertical-align: middle;\n",
       "    }\n",
       "\n",
       "    .dataframe tbody tr th {\n",
       "        vertical-align: top;\n",
       "    }\n",
       "\n",
       "    .dataframe thead th {\n",
       "        text-align: right;\n",
       "    }\n",
       "</style>\n",
       "<table border=\"1\" class=\"dataframe\">\n",
       "  <thead>\n",
       "    <tr style=\"text-align: right;\">\n",
       "      <th></th>\n",
       "      <th>PAREN</th>\n",
       "      <th>P10_8_abuso</th>\n",
       "      <th>P10_8_atencion</th>\n",
       "      <th>NIV</th>\n",
       "      <th>GRA</th>\n",
       "      <th>P2_13</th>\n",
       "      <th>P2_14</th>\n",
       "      <th>P2_15</th>\n",
       "    </tr>\n",
       "  </thead>\n",
       "  <tbody>\n",
       "    <tr>\n",
       "      <th>1</th>\n",
       "      <td>2</td>\n",
       "      <td>0</td>\n",
       "      <td>0</td>\n",
       "      <td>10.0</td>\n",
       "      <td>8.0</td>\n",
       "      <td>0.0</td>\n",
       "      <td>10.0</td>\n",
       "      <td>NaN</td>\n",
       "    </tr>\n",
       "    <tr>\n",
       "      <th>2</th>\n",
       "      <td>4</td>\n",
       "      <td>0</td>\n",
       "      <td>0</td>\n",
       "      <td>3.0</td>\n",
       "      <td>3.0</td>\n",
       "      <td>0.0</td>\n",
       "      <td>10.0</td>\n",
       "      <td>NaN</td>\n",
       "    </tr>\n",
       "    <tr>\n",
       "      <th>5</th>\n",
       "      <td>4</td>\n",
       "      <td>0</td>\n",
       "      <td>0</td>\n",
       "      <td>3.0</td>\n",
       "      <td>2.0</td>\n",
       "      <td>0.0</td>\n",
       "      <td>10.0</td>\n",
       "      <td>NaN</td>\n",
       "    </tr>\n",
       "    <tr>\n",
       "      <th>6</th>\n",
       "      <td>2</td>\n",
       "      <td>1</td>\n",
       "      <td>1</td>\n",
       "      <td>4.0</td>\n",
       "      <td>1.0</td>\n",
       "      <td>0.0</td>\n",
       "      <td>10.0</td>\n",
       "      <td>NaN</td>\n",
       "    </tr>\n",
       "    <tr>\n",
       "      <th>7</th>\n",
       "      <td>2</td>\n",
       "      <td>0</td>\n",
       "      <td>0</td>\n",
       "      <td>3.0</td>\n",
       "      <td>3.0</td>\n",
       "      <td>0.0</td>\n",
       "      <td>10.0</td>\n",
       "      <td>NaN</td>\n",
       "    </tr>\n",
       "    <tr>\n",
       "      <th>...</th>\n",
       "      <td>...</td>\n",
       "      <td>...</td>\n",
       "      <td>...</td>\n",
       "      <td>...</td>\n",
       "      <td>...</td>\n",
       "      <td>...</td>\n",
       "      <td>...</td>\n",
       "      <td>...</td>\n",
       "    </tr>\n",
       "    <tr>\n",
       "      <th>19379</th>\n",
       "      <td>2</td>\n",
       "      <td>0</td>\n",
       "      <td>1</td>\n",
       "      <td>4.0</td>\n",
       "      <td>3.0</td>\n",
       "      <td>0.0</td>\n",
       "      <td>10.0</td>\n",
       "      <td>NaN</td>\n",
       "    </tr>\n",
       "    <tr>\n",
       "      <th>19380</th>\n",
       "      <td>1</td>\n",
       "      <td>0</td>\n",
       "      <td>0</td>\n",
       "      <td>3.0</td>\n",
       "      <td>3.0</td>\n",
       "      <td>0.0</td>\n",
       "      <td>10.0</td>\n",
       "      <td>NaN</td>\n",
       "    </tr>\n",
       "    <tr>\n",
       "      <th>19382</th>\n",
       "      <td>2</td>\n",
       "      <td>0</td>\n",
       "      <td>0</td>\n",
       "      <td>3.0</td>\n",
       "      <td>3.0</td>\n",
       "      <td>0.0</td>\n",
       "      <td>10.0</td>\n",
       "      <td>NaN</td>\n",
       "    </tr>\n",
       "    <tr>\n",
       "      <th>19383</th>\n",
       "      <td>2</td>\n",
       "      <td>1</td>\n",
       "      <td>1</td>\n",
       "      <td>4.0</td>\n",
       "      <td>3.0</td>\n",
       "      <td>0.0</td>\n",
       "      <td>10.0</td>\n",
       "      <td>NaN</td>\n",
       "    </tr>\n",
       "    <tr>\n",
       "      <th>19385</th>\n",
       "      <td>2</td>\n",
       "      <td>0</td>\n",
       "      <td>0</td>\n",
       "      <td>10.0</td>\n",
       "      <td>5.0</td>\n",
       "      <td>0.0</td>\n",
       "      <td>10.0</td>\n",
       "      <td>NaN</td>\n",
       "    </tr>\n",
       "  </tbody>\n",
       "</table>\n",
       "<p>10311 rows × 8 columns</p>\n",
       "</div>"
      ],
      "text/plain": [
       "       PAREN  P10_8_abuso  P10_8_atencion   NIV  GRA  P2_13  P2_14  P2_15\n",
       "1          2            0               0  10.0  8.0    0.0   10.0    NaN\n",
       "2          4            0               0   3.0  3.0    0.0   10.0    NaN\n",
       "5          4            0               0   3.0  2.0    0.0   10.0    NaN\n",
       "6          2            1               1   4.0  1.0    0.0   10.0    NaN\n",
       "7          2            0               0   3.0  3.0    0.0   10.0    NaN\n",
       "...      ...          ...             ...   ...  ...    ...    ...    ...\n",
       "19379      2            0               1   4.0  3.0    0.0   10.0    NaN\n",
       "19380      1            0               0   3.0  3.0    0.0   10.0    NaN\n",
       "19382      2            0               0   3.0  3.0    0.0   10.0    NaN\n",
       "19383      2            1               1   4.0  3.0    0.0   10.0    NaN\n",
       "19385      2            0               0  10.0  5.0    0.0   10.0    NaN\n",
       "\n",
       "[10311 rows x 8 columns]"
      ]
     },
     "execution_count": 150,
     "metadata": {},
     "output_type": "execute_result"
    }
   ],
   "source": [
    "result[result.P2_14==10][['PAREN', 'P10_8_abuso', 'P10_8_atencion', 'NIV', 'GRA', 'P2_13', 'P2_14', 'P2_15']]"
   ]
  },
  {
   "cell_type": "markdown",
   "metadata": {},
   "source": [
    "Notar que de la seccion 4 solo se quedaron aquellas de las casadas y no hay de solteras"
   ]
  },
  {
   "cell_type": "markdown",
   "metadata": {},
   "source": [
    "# Exploracion violencia en instituciones"
   ]
  },
  {
   "cell_type": "code",
   "execution_count": 178,
   "metadata": {
    "jupyter": {
     "source_hidden": true
    }
   },
   "outputs": [],
   "source": [
    "#leo el de instituciones\n",
    "endireh_inst = pd.read_csv(f'data/endireh_instituciones_nac.csv')\n",
    "\n",
    "#endireh_inst = endireh_inst[endireh_inst.DOMINIO>0]\n",
    "#reemplazar valores\n",
    "endireh_inst.DOMINIO.replace({0:'Semi-urbano', 1: 'Rural', 2: 'Urbano'},inplace=True)\n",
    "#Cambiar nombre a domini0\n",
    "endireh_inst.rename(columns={'DOMINIO':'Tipo de localidad'}, inplace=True)\n",
    "\n",
    "\n",
    "#agrego  la variable de sufrio violencia\n",
    "endireh_inst['P10_8_suf'] = 0 #alguno\n",
    "endireh_inst.loc[(endireh_inst.P10_8_atencion==1) | (endireh_inst.P10_8_abuso==1),'P10_8_suf'] = 1 #alguno\n",
    "\n",
    "#renombrar variables\n",
    "endireh_inst.rename(columns={'P10_8_abuso':'Abuso y violencia', 'P10_8_atencion':'Atención no autorizada','P10_8_suf':'Sufrió violencia'}, inplace=True)\n",
    "\n",
    "#sustituyo a los valores de la varibale ordinal DONDE_ATENDIO_PARTO\n",
    "endireh_inst['DONDE_ATENDIO_PARTO'] =endireh_inst['DONDE_ATENDIO_PARTO'].replace(range(1,6), 'Institución pública')\n",
    "endireh_inst['DONDE_ATENDIO_PARTO'] = endireh_inst['DONDE_ATENDIO_PARTO'].replace([5,6,7], 'Institución privada')\n",
    "endireh_inst['DONDE_ATENDIO_PARTO'] = endireh_inst['DONDE_ATENDIO_PARTO'].replace(8, 'Con partera')\n",
    "endireh_inst['DONDE_ATENDIO_PARTO'] = endireh_inst['DONDE_ATENDIO_PARTO'].replace(9, 'Sola')\n",
    "endireh_inst['DONDE_ATENDIO_PARTO'] = endireh_inst['DONDE_ATENDIO_PARTO'].replace(10, 'Otro')"
   ]
  },
  {
   "cell_type": "code",
   "execution_count": 65,
   "metadata": {
    "jupyter": {
     "source_hidden": true
    }
   },
   "outputs": [],
   "source": [
    "def GraficarUnAxis(df, x, axs, y_limit=[0,1000], funcion_texto=None, tipo='count', x_order=None, hue=None, bins=None, palette=None, alpha=0.6):\n",
    "    if tipo=='hist':\n",
    "        grafica = sns.histplot(data=df, x=x, hue=hue, alpha=alpha, bins=bins, ax=axs, palette=palette)\n",
    "    elif tipo=='box':\n",
    "        grafica= sns.boxplot(data=df, x=x, y=y, hue=hue, ax=axes, notch=True, flierprops={\"marker\": \"o\"}, palette=palette)\n",
    "    else:\n",
    "        grafica = sns.countplot(data=df, x=x, hue=hue, alpha=alpha, ax=axs, palette=palette, order=x_order)\n",
    "    \n",
    "    if funcion_texto!=None:\n",
    "        for p in grafica.patches:\n",
    "            height = int(np.nan_to_num(p.get_height(), 0))\n",
    "            grafica.annotate(f'\\n{height}', xy=funcion_texto(p.get_x(), height), ha='center', va='top', \n",
    "                             color='black', size=15, rotation=90)\n",
    "    axs.set_ylim(y_limit)\n",
    "\n",
    "def GraficarDistribucion(df, x, y_limit, funcion_texto, x_order, labels, dicc={}, title_axs1='', title_axs2='', title_plot='', \n",
    "                         hue_box='Tipo de localidad', legends=['Rural', 'Urbano'], legends_title='Tipo de localidad', fname=None, rotation=0):\n",
    "    fig, axes = plt.subplots(1, 2, figsize=(18,10))\n",
    "\n",
    "    GraficarUnAxis(df, x, axes[0], y_limit=y_limit, funcion_texto=funcion_texto, tipo='count', hue=hue_box, x_order=x_order)\n",
    "    axes[0].set_xticklabels( labels )\n",
    "    #axes[0].legend(legends, title=legends_title)\n",
    "\n",
    "    valores = df.replace(dicc)[x].value_counts()\n",
    "    valores.plot.pie(ax=axes[1], colormap='Set2', autopct='%.2f', include_bool=True, ylabel='')\n",
    "\n",
    "    axes[0].set_xticklabels( labels, rotation=rotation )\n",
    "    axes[0].set_title(title_axs1, size=20)\n",
    "    axes[1].set_title(title_axs2, size=20)\n",
    "    fig.suptitle(title_plot, size=30)\n",
    "\n",
    "    axes[0].legend(fontsize=15, title=hue_box, title_fontsize=15, loc=\"upper right\")\n",
    "    \n",
    "    if fname != None and type(fname) == str:\n",
    "        plt.savefig(fname, pad_inches=0)\n",
    "    plt.show()\n",
    "    \n",
    "def ObtenerProporciones(df, x, labels, universal=False):\n",
    "    endireh__atencion = df[df['Atención no autorizada']==1].groupby(x)\n",
    "    endireh__abuso = df[df['Abuso y violencia']==1].groupby(x)\n",
    "    endireh__suf = df[df['Sufrió violencia']==1].groupby(x)\n",
    "    y_atencion = []\n",
    "    y_abuso = []\n",
    "    y_suf = []\n",
    "    \n",
    "    for m in labels:\n",
    "        try:\n",
    "            if universal:\n",
    "                cantidad = df.shape[0]\n",
    "            else:\n",
    "                cantidad = df[df[x]==m].shape[0]\n",
    "            y_atencion.append(round(endireh__atencion.get_group(m).shape[0]*100/cantidad, 2))\n",
    "            y_abuso.append(round(endireh__abuso.get_group(m).shape[0]*100/cantidad, 2))    \n",
    "            y_suf.append(round(endireh__suf.get_group(m).shape[0]*100/cantidad, 2))    \n",
    "        except:\n",
    "            y_atencion.append(0)\n",
    "            y_abuso.append(0)\n",
    "            y_suf.append(0)     \n",
    "             \n",
    "    return y_atencion, y_abuso, y_suf"
   ]
  },
  {
   "cell_type": "code",
   "execution_count": 38,
   "metadata": {},
   "outputs": [
    {
     "data": {
      "image/png": "[encoded data removed]",
      "text/plain": [
       "<Figure size 1296x720 with 2 Axes>"
      ]
     },
     "metadata": {
      "needs_background": "light"
     },
     "output_type": "display_data"
    }
   ],
   "source": [
    "def funcion_texto(x, y):\n",
    "    if y<100:\n",
    "        return (x+.1, y+200) \n",
    "    elif y<700:\n",
    "        return (x+.1, y+350)\n",
    "    else:\n",
    "        return (x+.1, y)\n",
    "\n",
    "labels= ['Institución\\npública', 'Institución\\nprivada', 'Con partera', 'Otro', 'Sola']\n",
    "x_order = ['Institución pública', 'Institución privada', 'Con partera', 'Otro', 'Sola']\n",
    "dicc = {}\n",
    "\n",
    "GraficarDistribucion(endireh_inst, 'DONDE_ATENDIO_PARTO', y_limit=[0,5700], \n",
    "                     funcion_texto=funcion_texto, x_order=x_order, labels=labels, dicc=dicc, \n",
    "                     title_axs1='Servicios médicos por tipo de localidad', \n",
    "                     title_axs2='Cantidad de afiliadas a servicios médicos', \n",
    "                     #title_plot='Servicios médicos',\n",
    "                     fname='graficas/explor/DONDE_ATENDIO_PARTO.png'\n",
    "                    )"
   ]
  },
  {
   "cell_type": "code",
   "execution_count": 31,
   "metadata": {},
   "outputs": [
    {
     "data": {
      "image/png": "[encoded data removed]",
      "text/plain": [
       "<Figure size 1800x576 with 3 Axes>"
      ]
     },
     "metadata": {
      "needs_background": "light"
     },
     "output_type": "display_data"
    }
   ],
   "source": [
    "def funcion_texto(x, y):\n",
    "    if y<100:\n",
    "        return (x+.1, y+200) \n",
    "    elif y<700:\n",
    "        return (x+.1, y+350)\n",
    "    else:\n",
    "        return (x+.1, y)\n",
    "\n",
    "fig, axes = plt.subplots(1, 3, figsize=(25,8))\n",
    "colormap = ['RdPu', 'Greens', 'PuBu']\n",
    "labels = ['Institución\\npública', 'Institución\\nprivada', 'Con partera', 'Otro', 'Sola']\n",
    "x_order = ['Institución pública', 'Institución privada', 'Con partera', 'Otro', 'Sola']\n",
    "\n",
    "for d,dom in enumerate(['Semi-urbano','Rural', 'Urbano']):\n",
    "    _, _, y_suf = ObtenerProporciones(endireh_inst[endireh_inst['Tipo de localidad']==dom], 'DONDE_ATENDIO_PARTO', x_order)\n",
    "    GraficarUnAxis(endireh_inst[endireh_inst['Tipo de localidad']==dom], 'DONDE_ATENDIO_PARTO', axes[d-1], y_limit=[0,3400], funcion_texto=funcion_texto, tipo='count', \n",
    "                   hue='Sufrió violencia', palette=colormap[d-1], x_order=['Institución pública', 'Institución privada', 'Con partera', 'Otro', 'Sola'])\n",
    "    axes[d-1].plot(range(5),np.array(y_suf)*34, marker='o', label='Proporción')\n",
    "    axes[d-1].set_xticklabels( labels )\n",
    "    axes[d-1].legend(['_', 'No sufrió', 'Sí sufrió'], fontsize=15)\n",
    "    \n",
    "for ax, col in zip(axes, ['Semi-urbano', 'Rural', 'Urbano']):\n",
    "        ax.set_title(col, size=30)\n",
    "        \n",
    "#fig.suptitle('Cantidad de violencia en cada dominio\\n', size=30)\n",
    "        \n",
    "plt.savefig('graficas/explor/DONDE_ATENDIO_PARTO_frecuencia_distribucion.png', pad_inches=0) \n",
    "plt.show()"
   ]
  },
  {
   "cell_type": "code",
   "execution_count": 29,
   "metadata": {},
   "outputs": [
    {
     "data": {
      "image/png": "[encoded data removed]",
      "text/plain": [
       "<Figure size 1800x576 with 1 Axes>"
      ]
     },
     "metadata": {
      "needs_background": "light"
     },
     "output_type": "display_data"
    }
   ],
   "source": [
    "def funcion_texto(x, y):\n",
    "    if y<100:\n",
    "        return (x+.1, y+500)\n",
    "    elif y<1000:\n",
    "        return (x+.1, y+800)\n",
    "    else:\n",
    "        return (x+.1, y)\n",
    "\n",
    "fig, axes = plt.subplots(figsize=(25,8))\n",
    "labels = ['Institución\\npública', 'Institución\\nprivada', 'Con partera', 'Otro', 'Sola']\n",
    "x_order = ['Institución pública', 'Institución privada', 'Con partera', 'Otro', 'Sola']\n",
    "\n",
    "GraficarUnAxis(endireh_inst, x='Sufrió violencia', axs=axes, y_limit=[0,9500], \n",
    "               funcion_texto=funcion_texto, tipo='count', hue='DONDE_ATENDIO_PARTO')\n",
    "#axes[dom].plot(range(5),np.array(y_suf)*34, marker='o', label='Proporción')\n",
    "axes.set_xticklabels( ['No sufrió', 'Sufrió algún tipo de violencia'] )\n",
    "axes.legend(x_order, fontsize=15)\n",
    "\n",
    "#fig.suptitle('De los que han sufrido violencia, cuántos están en cada método de parto', size=30)\n",
    "axes.legend(title='Tipo de institución', title_fontsize=15, fontsize=15)\n",
    "        \n",
    "plt.savefig('graficas/explor/DONDE_ATENDIO_PARTO_sufrio_distribucion.png', pad_inches=0) \n",
    "plt.show()"
   ]
  },
  {
   "cell_type": "code",
   "execution_count": 290,
   "metadata": {},
   "outputs": [
    {
     "data": {
      "image/png": "[encoded data removed]",
      "text/plain": [
       "<Figure size 1800x576 with 1 Axes>"
      ]
     },
     "metadata": {
      "needs_background": "light"
     },
     "output_type": "display_data"
    }
   ],
   "source": [
    "def funcion_texto(x, y):\n",
    "    if y<100:\n",
    "        return (x+.1, y+500)\n",
    "    elif y<1000:\n",
    "        return (x+.1, y+800)\n",
    "    else:\n",
    "        return (x+.1, y)\n",
    "\n",
    "fig, axes = plt.subplots(figsize=(25,8))\n",
    "labels = ['Institución\\npública', 'Institución\\nprivada', 'Con partera\\no curandera', 'Otro', 'Sola']\n",
    "x_order = ['Institución pública', 'Institución privada', 'Otro', 'Con partera', 'Sola']\n",
    "\n",
    "GraficarUnAxis(endireh_inst, x='DONDE_ATENDIO_PARTO', axs=axes, y_limit=[0,9700], \n",
    "               funcion_texto=funcion_texto, tipo='count', hue='Sufrió violencia', \n",
    "               x_order=x_order)\n",
    "#axes[dom].plot(range(5),np.array(y_suf)*34, marker='o', label='Proporción')\n",
    "#axes.set_xticklabels( ['No sufrió', 'Sufrió algún tipo de violencia'] )\n",
    "axes.legend(x_order, fontsize=15)\n",
    "\n",
    "_, _, y_suf = ObtenerProporciones(endireh_inst[endireh_inst['Sufrió violencia']==1], 'DONDE_ATENDIO_PARTO', x_order, universal=True)\n",
    "funcion_lambda = (lambda x: x*90/9700, lambda x: x*9500/90)\n",
    "for i,t in enumerate(y_suf):\n",
    "    if i == 0:\n",
    "        y_point = funcion_lambda[1](np.array(y_suf[i]))\n",
    "    elif i == 1:\n",
    "        y_point = funcion_lambda[1](np.array(y_suf[i]))+3000\n",
    "    else:\n",
    "        y_point = funcion_lambda[1](np.array(y_suf[i]))+500\n",
    "        \n",
    "    axes.text(i, y_point, f\"{y_suf[i]}%\", horizontalalignment='center',verticalalignment='bottom', fontsize=15, color='blue')\n",
    "\n",
    "#fig.suptitle('De los que han sufrido violencia, cuántos están en cada método de parto', size=30)\n",
    "axes.legend(['No sufrió', 'Sí sufrió'], title='Sufrió violencia', title_fontsize=15, fontsize=15)\n",
    "        \n",
    "#plt.savefig('graficas/explor/DONDE_ATENDIO_PARTO_sufrio_distribucion.png', pad_inches=0) \n",
    "plt.show()"
   ]
  },
  {
   "cell_type": "code",
   "execution_count": 288,
   "metadata": {},
   "outputs": [
    {
     "data": {
      "image/png": "[encoded data removed]",
      "text/plain": [
       "<Figure size 1800x576 with 1 Axes>"
      ]
     },
     "metadata": {
      "needs_background": "light"
     },
     "output_type": "display_data"
    }
   ],
   "source": [
    "def funcion_texto(x, y):\n",
    "    if y<100:\n",
    "        return (x+.4, y+500)\n",
    "    elif y<1000:\n",
    "        return (x+.4, y+800)\n",
    "    else:\n",
    "        return (x+.4, y)\n",
    "\n",
    "fig, axes = plt.subplots(figsize=(25,8))\n",
    "labels = ['Institución\\npública', 'Institución\\nprivada', 'Con partera\\no curandera', 'Otro', 'Sola']\n",
    "x_order = ['Institución pública', 'Institución privada', 'Otro', 'Con partera', 'Sola']\n",
    "\n",
    "GraficarUnAxis(endireh_inst[endireh_inst['Sufrió violencia']==1], x='DONDE_ATENDIO_PARTO', axs=axes, y_limit=[0,5500], \n",
    "               funcion_texto=funcion_texto, tipo='count', #hue='Sufrió violencia', \n",
    "               x_order=x_order)\n",
    "#axes[dom].plot(range(5),np.array(y_suf)*34, marker='o', label='Proporción')\n",
    "#axes.set_xticklabels( ['No sufrió', 'Sufrió algún tipo de violencia'] )\n",
    "#axes.legend(x_order, fontsize=15)\n",
    "\n",
    "_, _, y_suf = ObtenerProporciones(endireh_inst[endireh_inst['Sufrió violencia']==1], 'DONDE_ATENDIO_PARTO', x_order, universal=True)\n",
    "funcion_lambda = (lambda x: x*90/9700, lambda x: x*5500/90)\n",
    "for i,t in enumerate(y_suf):\n",
    "    if i == 0:\n",
    "        y_point = funcion_lambda[1](np.array(y_suf[i]))-200\n",
    "    elif i == 1:\n",
    "        y_point = funcion_lambda[1](np.array(y_suf[i]))+1000\n",
    "    else:\n",
    "        y_point = funcion_lambda[1](np.array(y_suf[i]))+700\n",
    "        \n",
    "    axes.text(i, y_point, f\"{y_suf[i]}%\", horizontalalignment='center',verticalalignment='bottom', fontsize=15, color='blue')\n",
    "\n",
    "#fig.suptitle('De los que han sufrido violencia, cuántos están en cada método de parto', size=30)\n",
    "#axes.legend(['No sufrió', 'Sí sufrió'], title='Sufrió violencia', title_fontsize=15, fontsize=15)\n",
    "\n",
    "#plt.savefig('graficas/explor/DONDE_ATENDIO_PARTO_sufrio_distribucion.png', pad_inches=0) \n",
    "plt.show()"
   ]
  },
  {
   "cell_type": "code",
   "execution_count": 293,
   "metadata": {},
   "outputs": [
    {
     "data": {
      "image/png": "[encoded data removed]",
      "text/plain": [
       "<Figure size 1800x576 with 1 Axes>"
      ]
     },
     "metadata": {
      "needs_background": "light"
     },
     "output_type": "display_data"
    }
   ],
   "source": [
    "def funcion_texto(x, y):\n",
    "    if y<10:\n",
    "        return (x+.1, y+700)\n",
    "    elif y<60:\n",
    "        return (x+.1, y+900)\n",
    "    elif y<100:\n",
    "        return (x+.4, y+1000)\n",
    "    elif y<300:\n",
    "        return (x+.7, y+1400)\n",
    "    elif y>6000:\n",
    "        return(x+.4,y)\n",
    "    else:\n",
    "        return (x+.4, y+1000)\n",
    "\n",
    "fig, axes = plt.subplots(figsize=(25,8))\n",
    "GraficarUnAxis(df=endireh_inst, \n",
    "               x='DONDE_ATENDIO_PARTO', axs=axes, y_limit=[0,9500], \n",
    "               funcion_texto=funcion_texto,\n",
    "               x_order=['Institución pública', 'Institución privada', 'Con partera', 'Otro', 'Sola'],\n",
    "               tipo='hist', bins=5, hue='Sufrió violencia', \n",
    "               palette=sns.dark_palette(\"lightsalmon\", 2, reverse=True)\n",
    "              )\n",
    "axes.legend(['No sufrió', 'Sí sufrió'], title='Sufrió violencia', title_fontsize=15, fontsize=15)\n",
    "plt.show()"
   ]
  },
  {
   "cell_type": "code",
   "execution_count": 223,
   "metadata": {},
   "outputs": [
    {
     "data": {
      "image/png": "[encoded data removed]",
      "text/plain": [
       "<Figure size 720x576 with 1 Axes>"
      ]
     },
     "metadata": {
      "needs_background": "light"
     },
     "output_type": "display_data"
    }
   ],
   "source": [
    "def funcion_texto(x, y):\n",
    "    if y<10:\n",
    "        return (x+.1, y+120) \n",
    "    elif y<100:\n",
    "        return (x+.1, y+150) \n",
    "    elif y<700:\n",
    "        return (x+.1, y+250)\n",
    "    else:\n",
    "        return (x+.1, y)\n",
    "\n",
    "\n",
    "fig, axes = plt.subplots(figsize=(10,8))\n",
    "labels = ['Institución\\npública', 'Institución\\nprivada', 'Con partera\\no curandera', 'Otro', 'Sola']\n",
    "x_order = ['Institución pública', 'Institución privada', 'Con partera', 'Otro', 'Sola']\n",
    "\n",
    "GraficarUnAxis(endireh_inst[endireh_inst['Sufrió violencia']==1], x='DONDE_ATENDIO_PARTO', axs=axes, y_limit=[0,2550], \n",
    "               funcion_texto=funcion_texto, tipo='count',\n",
    "               hue='Tipo de localidad', x_order=['Institución pública', 'Institución privada', 'Con partera', 'Otro', 'Sola']\n",
    "              )\n",
    "axes.set_ylabel('No. de casos que sufrieron violencia')\n",
    "axes.set_xlabel('Donde atendió su último parto')\n",
    "\n",
    "funcion_lambda = (lambda x: x*90/2300, lambda x: x*2300/90)\n",
    "#axes.plot(range(5),funcion_lambda[1](np.array(y_suf))+100, marker='o')\n",
    "#secax = axes.secondary_yaxis('right', functions=funcion_lambda)\n",
    "#secax.set_ylabel('Proporción')\n",
    "\n",
    "_, _, y_suf = ObtenerProporciones(endireh_inst[endireh_inst['Sufrió violencia']==1], 'DONDE_ATENDIO_PARTO', x_order, universal=True)\n",
    "for i,t in enumerate(y_suf):\n",
    "    if i == 0:\n",
    "        y_point = funcion_lambda[1](np.array(y_suf[i]))+100\n",
    "    elif i == 1:\n",
    "        y_point = funcion_lambda[1](np.array(y_suf[i]))+300\n",
    "    else:\n",
    "        y_point = funcion_lambda[1](np.array(y_suf[i]))+200\n",
    "        \n",
    "    axes.text(i, y_point, f\"{y_suf[i]}%\", horizontalalignment='center',verticalalignment='bottom', fontsize=15, color='blue')\n",
    "\n",
    "axes.set_xticklabels( labels )\n",
    "axes.legend(title='Tipo de localidad', title_fontsize=15, fontsize=15, loc =\"upper right\")\n",
    "#fig.suptitle('De quienes sufrieron violencia, ver dónde\\natendieron su parto y en qué dominio')\n",
    "\n",
    "#plt.savefig('graficas/explor/DONDE_ATENDIO_PARTO_y_DOMINIO_distribucion_frecuencia.png', pad_inches=0) \n",
    "plt.show()"
   ]
  },
  {
   "cell_type": "code",
   "execution_count": 153,
   "metadata": {},
   "outputs": [
    {
     "data": {
      "image/png": "[encoded data removed]",
      "text/plain": [
       "<Figure size 720x576 with 1 Axes>"
      ]
     },
     "metadata": {
      "needs_background": "light"
     },
     "output_type": "display_data"
    }
   ],
   "source": [
    "def funcion_texto(x, y):\n",
    "    if y<200:\n",
    "        return (x, y+50)\n",
    "    else:\n",
    "        return (x, y)\n",
    "\n",
    "\n",
    "fig, axes = plt.subplots(figsize=(10,8))\n",
    "labels = range(2016,2022)\n",
    "x_order = range(1,7)\n",
    "_, _, y_suf = ObtenerProporciones(endireh_inst, 'ANIO_PARTO', x_order)\n",
    "\n",
    "GraficarUnAxis(endireh_inst[endireh_inst['Sufrió violencia']==1], x='ANIO_PARTO', axs=axes, y_limit=[0,1150], funcion_texto=funcion_texto, tipo='count', \n",
    "               hue='DONDE_ATENDIO_PARTO', \n",
    "               #x_order=x_order\n",
    "              )\n",
    "axes.set_ylabel('No. de casos que sufrieron violencia')\n",
    "axes.set_xlabel('Año de su último parto')\n",
    "\n",
    "axes.plot(range(6),np.array(y_suf)*24, marker='o')\n",
    "secax = axes.secondary_yaxis('right', functions=(lambda x: x*33/1350, lambda x: x*1350/33))\n",
    "secax.set_ylabel('Proporción')\n",
    "\n",
    "for i,t in enumerate(y_suf):\n",
    "    axes.text(i, y_suf[i]*1350/55, f\"{y_suf[i]}%\", horizontalalignment='center',verticalalignment='bottom', fontsize=15, color='blue')\n",
    "\n",
    "axes.set_xticklabels( labels, fontsize=15 )\n",
    "#axes.legend(['_', 'Semi-urbano', 'Rural', 'Urbano'])\n",
    "axes.legend(fontsize=15)\n",
    "#fig.suptitle('De quienes sufrieron violencia, cómo cambia\\nla frecuencia por donde atendió parto y por año')\n",
    "\n",
    "plt.savefig('graficas/explor/DONDE_ATENDIO_PARTO_y_ANIO_PARTO_distribucion_frecuencia.png', pad_inches=0) \n",
    "plt.show()"
   ]
  }
 ],
 "metadata": {
  "kernelspec": {
   "display_name": "Python 3",
   "language": "python",
   "name": "python3"
  },
  "language_info": {
   "codemirror_mode": {
    "name": "ipython",
    "version": 3
   },
   "file_extension": ".py",
   "mimetype": "text/x-python",
   "name": "python",
   "nbconvert_exporter": "python",
   "pygments_lexer": "ipython3",
   "version": "3.6.9"
  }
 },
 "nbformat": 4,
 "nbformat_minor": 4
}
