{
 "cells": [
  {
   "cell_type": "markdown",
   "metadata": {},
   "source": [
    "https://www.cienciadedatos.net/documentos/py08_random_forest_python.html\n",
    "\n",
    "https://github.com/an-rivas/ENDIREH-data-analysis/blob/preprocesamiento4Cat/OE1_Exploracion/Baseline/Baseline.ipynb\n",
    "\n",
    "https://scikit-learn.org/stable/modules/generated/sklearn.ensemble.RandomForestClassifier.html?highlight=forest#sklearn.ensemble.RandomForestClassifier"
   ]
  },
  {
   "cell_type": "code",
   "execution_count": 1,
   "metadata": {},
   "outputs": [],
   "source": [
    "import pandas as pd\n",
    "from funciones import CargarPandasDatasetCategoricos, BorrarColumnas, InsertarColumnaNueva"
   ]
  },
  {
   "cell_type": "code",
   "execution_count": 2,
   "metadata": {},
   "outputs": [],
   "source": [
    "# Tratamiento de datos\n",
    "# ==============================================================================\n",
    "import numpy as np\n",
    "import pandas as pd\n",
    "\n",
    "# Gráficos\n",
    "# ==============================================================================\n",
    "import matplotlib.pyplot as plt\n",
    "\n",
    "# Preprocesado y modelado\n",
    "# ==============================================================================\n",
    "from sklearn.ensemble import RandomForestClassifier\n",
    "from sklearn.metrics import mean_squared_error\n",
    "from sklearn.model_selection import train_test_split\n",
    "from sklearn.model_selection import ParameterGrid\n",
    "import multiprocessing\n",
    "\n",
    "# Configuración warnings\n",
    "# ==============================================================================\n",
    "import warnings\n",
    "warnings.filterwarnings('ignore')"
   ]
  },
  {
   "cell_type": "markdown",
   "metadata": {},
   "source": [
    "## Cargar datos"
   ]
  },
  {
   "cell_type": "code",
   "execution_count": 3,
   "metadata": {},
   "outputs": [],
   "source": [
    "endireh = CargarPandasDatasetCategoricos('datasets/endirehCat.csv')"
   ]
  },
  {
   "cell_type": "markdown",
   "metadata": {},
   "source": [
    "### Random forest no usan datos categóricos (object type), para ello obtengo One Hot Encoding con la instruccion pd.get_dummies de pandas para las columnas categóricas"
   ]
  },
  {
   "cell_type": "code",
   "execution_count": 4,
   "metadata": {},
   "outputs": [],
   "source": [
    "endireh_cat = endireh.drop(columns = [\"P9_8\", \"P1_2\", \"P1_2_A\", \"P9_3\"])\n",
    "endireh_cat = pd.get_dummies(endireh_cat)\n",
    "\n",
    "endireh_num = pd.read_csv('datasets/endirehCat.csv', usecols=[\"P1_2\", \"P1_2_A\", \"P9_3\"])\n",
    "endireh_ohe = pd.concat([endireh_cat, endireh_num], axis=1)\n",
    "\n",
    "y = pd.read_csv('datasets/endirehCat.csv', usecols=[\"P9_8\"])"
   ]
  },
  {
   "cell_type": "markdown",
   "metadata": {},
   "source": [
    "## Obtengo datasets de _Tests_ y _Train_"
   ]
  },
  {
   "cell_type": "code",
   "execution_count": 5,
   "metadata": {},
   "outputs": [],
   "source": [
    "# División de los datos en train y test\n",
    "# ==============================================================================\n",
    "X_train, X_test, y_train, y_test = train_test_split(\n",
    "                                        endireh_ohe,\n",
    "                                        y,\n",
    "                                        random_state = 42\n",
    "                                    )"
   ]
  },
  {
   "cell_type": "markdown",
   "metadata": {},
   "source": [
    "### Creación del modelo"
   ]
  },
  {
   "cell_type": "markdown",
   "metadata": {},
   "source": [
    "### El mejor hasta ahora:\n",
    "\n",
    "\toob_accuracy \tcriterion \t \t\t\t \t\t\t\tmin_samples_leaf \tmin_samples_split \tn_estimators \trandom_state\n",
    " \t0.547619 \t\tentropy\t\t \t\t\t \t\t\t\t \t100\t \t\t\t335 \t\t\t\t150 \t\t\t5\n",
    "\n",
    "### El segundo mejor hasta ahora:\n",
    "\n",
    " \toob_accuracy \tcriterion \tmax_depth \tmax_features \tmin_samples_leaf \tmin_samples_split \tn_estimators \trandom_state\n",
    " \t0.546320  \t\tgini \t \t \tNaN \t \t None \t \t \t90 \t \t  \t\t380 \t \t \t 200 \t \t \t5"
   ]
  },
  {
   "cell_type": "code",
   "execution_count": 6,
   "metadata": {},
   "outputs": [],
   "source": [
    "modelo1 = RandomForestClassifier(criterion         =  \"entropy\",\n",
    "                                min_samples_leaf  =  100,\n",
    "                                min_samples_split = 335,\n",
    "                                n_estimators      = 150,\n",
    "                                random_state      = 5)\n",
    "\n",
    "modelo2 = RandomForestClassifier(criterion         =  \"gini\",\n",
    "                                min_samples_leaf  =  90,\n",
    "                                min_samples_split = 380,\n",
    "                                n_estimators      = 200,\n",
    "                                random_state      = 5)"
   ]
  },
  {
   "cell_type": "markdown",
   "metadata": {},
   "source": [
    "### Entrenar el modelo"
   ]
  },
  {
   "cell_type": "code",
   "execution_count": 7,
   "metadata": {},
   "outputs": [
    {
     "data": {
      "text/plain": [
       "RandomForestClassifier(min_samples_leaf=90, min_samples_split=380,\n",
       "                       n_estimators=200, random_state=5)"
      ]
     },
     "execution_count": 7,
     "metadata": {},
     "output_type": "execute_result"
    }
   ],
   "source": [
    "modelo1.fit(X_train, y_train)\n",
    "\n",
    "modelo2.fit(X_train, y_train)"
   ]
  },
  {
   "cell_type": "markdown",
   "metadata": {},
   "source": [
    "### Mejor resultado"
   ]
  },
  {
   "cell_type": "code",
   "execution_count": 8,
   "metadata": {},
   "outputs": [
    {
     "name": "stdout",
     "output_type": "stream",
     "text": [
      "CPU times: user 1.59 s, sys: 123 ms, total: 1.71 s\n",
      "Wall time: 1.71 s\n"
     ]
    }
   ],
   "source": [
    "%%time\n",
    "classifier1 = modelo1.fit(X_train, y_train)\n",
    "classifier2 = modelo2.fit(X_train, y_train)"
   ]
  },
  {
   "cell_type": "code",
   "execution_count": 18,
   "metadata": {},
   "outputs": [
    {
     "name": "stdout",
     "output_type": "stream",
     "text": [
      "El error (mse) de test del mejor actual es:\t\t0.6896848211309117\n",
      "El error (mse) de test del segundo mejor actual es:\t0.6896848211309117\n"
     ]
    }
   ],
   "source": [
    "predicciones = classifier1.predict(X = X_test)\n",
    "\n",
    "rmse = mean_squared_error(\n",
    "        y_true  = y_test,\n",
    "        y_pred  = predicciones,\n",
    "        squared = False\n",
    "       )\n",
    "print(f\"El error (mse) de test del mejor actual es:\\t\\t{rmse}\")\n",
    "\n",
    "\n",
    "\n",
    "predicciones = classifier2.predict(X = X_test)\n",
    "\n",
    "rmse = mean_squared_error(\n",
    "        y_true  = y_test,\n",
    "        y_pred  = predicciones,\n",
    "        squared = False\n",
    "       )\n",
    "print(f\"El error (mse) de test del segundo mejor actual es:\\t{rmse}\")"
   ]
  },
  {
   "cell_type": "code",
   "execution_count": null,
   "metadata": {},
   "outputs": [],
   "source": []
  }
 ],
 "metadata": {
  "kernelspec": {
   "display_name": "Python 3",
   "language": "python",
   "name": "python3"
  },
  "language_info": {
   "codemirror_mode": {
    "name": "ipython",
    "version": 3
   },
   "file_extension": ".py",
   "mimetype": "text/x-python",
   "name": "python",
   "nbconvert_exporter": "python",
   "pygments_lexer": "ipython3",
   "version": "3.6.9"
  }
 },
 "nbformat": 4,
 "nbformat_minor": 4
}
