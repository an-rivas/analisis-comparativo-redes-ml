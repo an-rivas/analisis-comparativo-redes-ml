{
 "cells": [
  {
   "cell_type": "markdown",
   "metadata": {},
   "source": [
    "https://www.cienciadedatos.net/documentos/py08_random_forest_python.html\n",
    "\n",
    "https://github.com/an-rivas/ENDIREH-data-analysis/blob/preprocesamiento4Cat/OE1_Exploracion/Baseline/Baseline.ipynb\n",
    "\n",
    "https://scikit-learn.org/stable/modules/generated/sklearn.ensemble.RandomForestClassifier.html?highlight=forest#sklearn.ensemble.RandomForestClassifier"
   ]
  },
  {
   "cell_type": "code",
   "execution_count": 1,
   "metadata": {},
   "outputs": [],
   "source": [
    "import pandas as pd\n",
    "from funciones import CargarPandasDatasetCategoricos, BorrarColumnas, InsertarColumnaNueva"
   ]
  },
  {
   "cell_type": "code",
   "execution_count": 2,
   "metadata": {},
   "outputs": [],
   "source": [
    "# Tratamiento de datos\n",
    "# ==============================================================================\n",
    "import numpy as np\n",
    "import pandas as pd\n",
    "\n",
    "# Gráficos\n",
    "# ==============================================================================\n",
    "import matplotlib.pyplot as plt\n",
    "\n",
    "# Preprocesado y modelado\n",
    "# ==============================================================================\n",
    "from sklearn.ensemble import RandomForestClassifier\n",
    "from sklearn.metrics import mean_squared_error\n",
    "from sklearn.model_selection import train_test_split\n",
    "from sklearn.model_selection import ParameterGrid\n",
    "\n",
    "# Configuración warnings\n",
    "# ==============================================================================\n",
    "import warnings\n",
    "warnings.filterwarnings('ignore')"
   ]
  },
  {
   "cell_type": "markdown",
   "metadata": {},
   "source": [
    "## Cargar datos"
   ]
  },
  {
   "cell_type": "code",
   "execution_count": 3,
   "metadata": {},
   "outputs": [],
   "source": [
    "endireh = CargarPandasDatasetCategoricos('datasets/endirehCat.csv')"
   ]
  },
  {
   "cell_type": "markdown",
   "metadata": {},
   "source": [
    "### Random forest no usan datos categóricos (object type), para ello obtengo One Hot Encoding con la instruccion pd.get_dummies de pandas para las columnas categóricas"
   ]
  },
  {
   "cell_type": "code",
   "execution_count": 4,
   "metadata": {},
   "outputs": [],
   "source": [
    "endireh_cat = endireh.drop(columns = [\"P9_8\", \"P1_2\", \"P1_2_A\", \"P9_3\"])\n",
    "endireh_cat = pd.get_dummies(endireh_cat)\n",
    "\n",
    "endireh_num = pd.read_csv('datasets/endirehCat.csv', usecols=[\"P1_2\", \"P1_2_A\", \"P9_3\"])\n",
    "endireh_ohe = pd.concat([endireh_cat, endireh_num], axis=1)\n",
    "\n",
    "y = pd.read_csv('datasets/endirehCat.csv', usecols=[\"P9_8\"])"
   ]
  },
  {
   "cell_type": "markdown",
   "metadata": {},
   "source": [
    "## Obtengo datasets de _Tests_ y _Train_"
   ]
  },
  {
   "cell_type": "code",
   "execution_count": 5,
   "metadata": {},
   "outputs": [],
   "source": [
    "# División de los datos en train y test\n",
    "# ==============================================================================\n",
    "X_train, X_test, y_train, y_test = train_test_split(\n",
    "                                        endireh_ohe,\n",
    "                                        y,\n",
    "                                        random_state = 42\n",
    "                                    )"
   ]
  },
  {
   "cell_type": "markdown",
   "metadata": {},
   "source": [
    "### Creación del modelo"
   ]
  },
  {
   "cell_type": "code",
   "execution_count": 6,
   "metadata": {},
   "outputs": [],
   "source": [
    "modelo = RandomForestClassifier()"
   ]
  },
  {
   "cell_type": "markdown",
   "metadata": {},
   "source": [
    "### Entrenar el modelo"
   ]
  },
  {
   "cell_type": "code",
   "execution_count": 7,
   "metadata": {},
   "outputs": [
    {
     "data": {
      "text/plain": [
       "RandomForestClassifier()"
      ]
     },
     "execution_count": 7,
     "metadata": {},
     "output_type": "execute_result"
    }
   ],
   "source": [
    "modelo.fit(X_train, y_train)"
   ]
  },
  {
   "cell_type": "markdown",
   "metadata": {},
   "source": [
    "## Encontrar los mejores parámetros con _Grid Search_"
   ]
  },
  {
   "cell_type": "markdown",
   "metadata": {},
   "source": [
    "Declaramos los parametros"
   ]
  },
  {
   "cell_type": "code",
   "execution_count": 26,
   "metadata": {},
   "outputs": [
    {
     "data": {
      "text/plain": [
       "6000"
      ]
     },
     "execution_count": 26,
     "metadata": {},
     "output_type": "execute_result"
    }
   ],
   "source": [
    "param_grid = ParameterGrid(\n",
    "                {\n",
    "                 'n_estimators'      : range(120, 190, 15), # 150\n",
    "                 'criterion'         : ['gini', 'entropy'],\n",
    "                 'min_samples_split' : range(305, 380, 10), # 335\n",
    "                 'min_samples_leaf'  : range(70, 120, 2),   # 100\n",
    "                 'random_state'      : [42, 666, 5],\n",
    "                }\n",
    "            )\n",
    "\n",
    "len(param_grid)"
   ]
  },
  {
   "cell_type": "markdown",
   "metadata": {},
   "source": [
    "Creamos el diccionario que guadará los resultados"
   ]
  },
  {
   "cell_type": "code",
   "execution_count": 27,
   "metadata": {},
   "outputs": [],
   "source": [
    "resultados = {'params': [], 'oob_accuracy': []}"
   ]
  },
  {
   "cell_type": "markdown",
   "metadata": {},
   "source": [
    "### Loop para ajustar un modelo con cada combinación de hiperparámetros"
   ]
  },
  {
   "cell_type": "code",
   "execution_count": null,
   "metadata": {},
   "outputs": [
    {
     "name": "stdout",
     "output_type": "stream",
     "text": [
      "Creando modelos para 6000 combinaciones de parámetros.\n",
      "\n",
      "Modelo 0: {'criterion': 'gini', 'min_samples_leaf': 70, 'min_samples_split': 305, 'n_estimators': 120, 'random_state': 42} ✓\n",
      "Modelo 500: {'criterion': 'gini', 'min_samples_leaf': 78, 'min_samples_split': 315, 'n_estimators': 135, 'random_state': 5} ✓\n",
      "Modelo 1000: {'criterion': 'gini', 'min_samples_leaf': 86, 'min_samples_split': 325, 'n_estimators': 165, 'random_state': 666} ✓\n"
     ]
    }
   ],
   "source": [
    "%%time\n",
    "print(f'Creando modelos para {len(param_grid)} combinaciones de parámetros.\\n')\n",
    "\n",
    "for i,params in enumerate(param_grid):\n",
    "    \n",
    "    modelo = RandomForestClassifier(\n",
    "                oob_score    = True,\n",
    "                n_jobs       = -1,\n",
    "                ** params\n",
    "             )\n",
    "    \n",
    "    modelo.fit(endireh_ohe, y)\n",
    "    \n",
    "    resultados['params'].append(params)\n",
    "    resultados['oob_accuracy'].append(modelo.oob_score_)\n",
    "    \n",
    "    if i%500 == 0 or i==len(param_grid):\n",
    "        print(f\"Modelo {i}: {params} \\u2713\")\n",
    "\n",
    "print('\\n')"
   ]
  },
  {
   "cell_type": "markdown",
   "metadata": {},
   "source": [
    "### Visualizamos resultados"
   ]
  },
  {
   "cell_type": "markdown",
   "metadata": {},
   "source": [
    "### Segunda experimentación cercana a el mejor hasta ahora:\n",
    "\n",
    "\n",
    "\toob_accuracy \tcriterion \tmin_samples_leaf \tmin_samples_split \tn_estimators \trandom_state\n",
    " \t0.547619 \t\tentropy\t\t \t100\t \t\t\t335 \t\t\t\t150 \t\t\t5\n",
    "\n",
    "    param_grid = ParameterGrid(\n",
    "                {\n",
    "                 'n_estimators'      : range(120, 190, 15),\n",
    "                 'criterion'         : ['gini', 'entropy'],\n",
    "                 'min_samples_split' : range(305, 380, 10),\n",
    "                 'min_samples_leaf'  : range(100, 150, 2),\n",
    "                 'random_state'      : [42, 666, 5],\n",
    "                }\n",
    "            )\n",
    "            \n",
    "4032 en total\n",
    "\n",
    "Se puso 12:10 hrs del martes 26 de octubre de 2021."
   ]
  },
  {
   "cell_type": "code",
   "execution_count": null,
   "metadata": {},
   "outputs": [],
   "source": [
    "resultados = pd.DataFrame(resultados)\n",
    "resultados = pd.concat([resultados, resultados['params'].apply(pd.Series)], axis=1)\n",
    "resultados = resultados.sort_values('oob_accuracy', ascending=False)\n",
    "resultados = resultados.drop(columns = 'params')\n",
    "resultados.head(7)"
   ]
  },
  {
   "cell_type": "markdown",
   "metadata": {},
   "source": [
    "### Experimentación cercana a el mejor hasta ahora:\n",
    "\n",
    "\n",
    "\toob_accuracy \tcriterion \tmin_samples_leaf \tmin_samples_split \tn_estimators \trandom_state\n",
    " \t0.547619 \t\tentropy\t\t \t100\t \t\t\t335 \t\t\t\t150 \t\t\t5\n",
    "\n",
    "    param_grid = ParameterGrid(\n",
    "                {\n",
    "                 'n_estimators'      : range(100, 200, 25), \n",
    "                 'criterion'         : ['gini', 'entropy'],\n",
    "                 'min_samples_split' : range(299, 401, 15), \n",
    "                 'min_samples_leaf'  : range(80, 150, 3),\n",
    "                 'random_state'      : [42, 666, 5],\n",
    "                }\n",
    "            )\n",
    "            \n",
    "4032 en total\n",
    "\n",
    "Se puso 16:40 hrs del lunes 25 de octubre de 2021. Duró 17 hrs y minutos (no anoté antes de poner la segunda experimentación).\n",
    "\n",
    "Peor resultado"
   ]
  },
  {
   "cell_type": "code",
   "execution_count": 20,
   "metadata": {},
   "outputs": [
    {
     "data": {
      "text/html": [
       "<div>\n",
       "<style scoped>\n",
       "    .dataframe tbody tr th:only-of-type {\n",
       "        vertical-align: middle;\n",
       "    }\n",
       "\n",
       "    .dataframe tbody tr th {\n",
       "        vertical-align: top;\n",
       "    }\n",
       "\n",
       "    .dataframe thead th {\n",
       "        text-align: right;\n",
       "    }\n",
       "</style>\n",
       "<table border=\"1\" class=\"dataframe\">\n",
       "  <thead>\n",
       "    <tr style=\"text-align: right;\">\n",
       "      <th></th>\n",
       "      <th>oob_accuracy</th>\n",
       "      <th>criterion</th>\n",
       "      <th>min_samples_leaf</th>\n",
       "      <th>min_samples_split</th>\n",
       "      <th>n_estimators</th>\n",
       "      <th>random_state</th>\n",
       "    </tr>\n",
       "  </thead>\n",
       "  <tbody>\n",
       "    <tr>\n",
       "      <th>0</th>\n",
       "      <td>0.523129</td>\n",
       "      <td>gini</td>\n",
       "      <td>80</td>\n",
       "      <td>299</td>\n",
       "      <td>100</td>\n",
       "      <td>42</td>\n",
       "    </tr>\n",
       "    <tr>\n",
       "      <th>2693</th>\n",
       "      <td>0.523129</td>\n",
       "      <td>entropy</td>\n",
       "      <td>104</td>\n",
       "      <td>299</td>\n",
       "      <td>125</td>\n",
       "      <td>5</td>\n",
       "    </tr>\n",
       "    <tr>\n",
       "      <th>2680</th>\n",
       "      <td>0.523129</td>\n",
       "      <td>entropy</td>\n",
       "      <td>101</td>\n",
       "      <td>389</td>\n",
       "      <td>125</td>\n",
       "      <td>666</td>\n",
       "    </tr>\n",
       "    <tr>\n",
       "      <th>2681</th>\n",
       "      <td>0.523129</td>\n",
       "      <td>entropy</td>\n",
       "      <td>101</td>\n",
       "      <td>389</td>\n",
       "      <td>125</td>\n",
       "      <td>5</td>\n",
       "    </tr>\n",
       "    <tr>\n",
       "      <th>2682</th>\n",
       "      <td>0.523129</td>\n",
       "      <td>entropy</td>\n",
       "      <td>101</td>\n",
       "      <td>389</td>\n",
       "      <td>150</td>\n",
       "      <td>42</td>\n",
       "    </tr>\n",
       "    <tr>\n",
       "      <th>2683</th>\n",
       "      <td>0.523129</td>\n",
       "      <td>entropy</td>\n",
       "      <td>101</td>\n",
       "      <td>389</td>\n",
       "      <td>150</td>\n",
       "      <td>666</td>\n",
       "    </tr>\n",
       "    <tr>\n",
       "      <th>2684</th>\n",
       "      <td>0.523129</td>\n",
       "      <td>entropy</td>\n",
       "      <td>101</td>\n",
       "      <td>389</td>\n",
       "      <td>150</td>\n",
       "      <td>5</td>\n",
       "    </tr>\n",
       "  </tbody>\n",
       "</table>\n",
       "</div>"
      ],
      "text/plain": [
       "      oob_accuracy criterion  min_samples_leaf  min_samples_split  \\\n",
       "0         0.523129      gini                80                299   \n",
       "2693      0.523129   entropy               104                299   \n",
       "2680      0.523129   entropy               101                389   \n",
       "2681      0.523129   entropy               101                389   \n",
       "2682      0.523129   entropy               101                389   \n",
       "2683      0.523129   entropy               101                389   \n",
       "2684      0.523129   entropy               101                389   \n",
       "\n",
       "      n_estimators  random_state  \n",
       "0              100            42  \n",
       "2693           125             5  \n",
       "2680           125           666  \n",
       "2681           125             5  \n",
       "2682           150            42  \n",
       "2683           150           666  \n",
       "2684           150             5  "
      ]
     },
     "execution_count": 20,
     "metadata": {},
     "output_type": "execute_result"
    }
   ],
   "source": [
    "resultados = pd.DataFrame(resultados)\n",
    "resultados = pd.concat([resultados, resultados['params'].apply(pd.Series)], axis=1)\n",
    "resultados = resultados.sort_values('oob_accuracy', ascending=False)\n",
    "resultados = resultados.drop(columns = 'params')\n",
    "resultados.head(7)"
   ]
  },
  {
   "cell_type": "markdown",
   "metadata": {},
   "source": [
    "### Se puso minutos antes de las 2pm el martes 19 de octubre\n",
    "\n",
    "Al rededor de 25 minutos por bloque de 50 experimentos. El cuarto bloque de 200 apareció a la hora aproximada (1 hora y 40 min). Acabaría a las 25.4 hrs. aprox 3:30 pm del miércoles.\n",
    "\n",
    "con x y y aleatorios\n",
    "\n",
    "Se completó después de la hora dicha pero quién sabe a qué hora fue.\n",
    "\n",
    "Revisé a las 9pm.\n",
    "\n",
    "    param_grid = ParameterGrid(\n",
    "                {\n",
    "                 'n_estimators'      : range(90, 220, 30),\n",
    "                 'criterion'         : ['gini', 'entropy'],\n",
    "                 'min_samples_split' : range(290, 421, 15),\n",
    "                 'min_samples_leaf'  : range(80, 150, 5),\n",
    "                 'random_state'      : [42, 666, 5],\n",
    "                }\n",
    "            )"
   ]
  },
  {
   "cell_type": "code",
   "execution_count": 108,
   "metadata": {},
   "outputs": [
    {
     "data": {
      "text/html": [
       "<div>\n",
       "<style scoped>\n",
       "    .dataframe tbody tr th:only-of-type {\n",
       "        vertical-align: middle;\n",
       "    }\n",
       "\n",
       "    .dataframe tbody tr th {\n",
       "        vertical-align: top;\n",
       "    }\n",
       "\n",
       "    .dataframe thead th {\n",
       "        text-align: right;\n",
       "    }\n",
       "</style>\n",
       "<table border=\"1\" class=\"dataframe\">\n",
       "  <thead>\n",
       "    <tr style=\"text-align: right;\">\n",
       "      <th></th>\n",
       "      <th>oob_accuracy</th>\n",
       "      <th>criterion</th>\n",
       "      <th>min_samples_leaf</th>\n",
       "      <th>min_samples_split</th>\n",
       "      <th>n_estimators</th>\n",
       "      <th>random_state</th>\n",
       "    </tr>\n",
       "  </thead>\n",
       "  <tbody>\n",
       "    <tr>\n",
       "      <th>2483</th>\n",
       "      <td>0.547619</td>\n",
       "      <td>entropy</td>\n",
       "      <td>100</td>\n",
       "      <td>335</td>\n",
       "      <td>150</td>\n",
       "      <td>5</td>\n",
       "    </tr>\n",
       "    <tr>\n",
       "      <th>3191</th>\n",
       "      <td>0.545887</td>\n",
       "      <td>entropy</td>\n",
       "      <td>125</td>\n",
       "      <td>365</td>\n",
       "      <td>180</td>\n",
       "      <td>5</td>\n",
       "    </tr>\n",
       "    <tr>\n",
       "      <th>884</th>\n",
       "      <td>0.545238</td>\n",
       "      <td>gini</td>\n",
       "      <td>110</td>\n",
       "      <td>350</td>\n",
       "      <td>210</td>\n",
       "      <td>5</td>\n",
       "    </tr>\n",
       "    <tr>\n",
       "      <th>594</th>\n",
       "      <td>0.544372</td>\n",
       "      <td>gini</td>\n",
       "      <td>100</td>\n",
       "      <td>335</td>\n",
       "      <td>180</td>\n",
       "      <td>42</td>\n",
       "    </tr>\n",
       "    <tr>\n",
       "      <th>260</th>\n",
       "      <td>0.543723</td>\n",
       "      <td>gini</td>\n",
       "      <td>85</td>\n",
       "      <td>410</td>\n",
       "      <td>120</td>\n",
       "      <td>5</td>\n",
       "    </tr>\n",
       "    <tr>\n",
       "      <th>3242</th>\n",
       "      <td>0.543290</td>\n",
       "      <td>entropy</td>\n",
       "      <td>130</td>\n",
       "      <td>290</td>\n",
       "      <td>90</td>\n",
       "      <td>5</td>\n",
       "    </tr>\n",
       "    <tr>\n",
       "      <th>3326</th>\n",
       "      <td>0.543290</td>\n",
       "      <td>entropy</td>\n",
       "      <td>130</td>\n",
       "      <td>365</td>\n",
       "      <td>180</td>\n",
       "      <td>5</td>\n",
       "    </tr>\n",
       "  </tbody>\n",
       "</table>\n",
       "</div>"
      ],
      "text/plain": [
       "      oob_accuracy criterion  min_samples_leaf  min_samples_split  \\\n",
       "2483      0.547619   entropy               100                335   \n",
       "3191      0.545887   entropy               125                365   \n",
       "884       0.545238      gini               110                350   \n",
       "594       0.544372      gini               100                335   \n",
       "260       0.543723      gini                85                410   \n",
       "3242      0.543290   entropy               130                290   \n",
       "3326      0.543290   entropy               130                365   \n",
       "\n",
       "      n_estimators  random_state  \n",
       "2483           150             5  \n",
       "3191           180             5  \n",
       "884            210             5  \n",
       "594            180            42  \n",
       "260            120             5  \n",
       "3242            90             5  \n",
       "3326           180             5  "
      ]
     },
     "execution_count": 108,
     "metadata": {},
     "output_type": "execute_result"
    }
   ],
   "source": [
    "#resultados = pd.DataFrame(resultados)\n",
    "#resultados = pd.concat([resultados, resultados['params'].apply(pd.Series)], axis=1)\n",
    "#resultados = resultados.sort_values('oob_accuracy', ascending=False)\n",
    "#resultados = resultados.drop(columns = 'params')\n",
    "resultados.head(7)"
   ]
  },
  {
   "cell_type": "code",
   "execution_count": 109,
   "metadata": {},
   "outputs": [
    {
     "data": {
      "text/plain": [
       "(3780, 6)"
      ]
     },
     "execution_count": 109,
     "metadata": {},
     "output_type": "execute_result"
    }
   ],
   "source": [
    "resultados.shape"
   ]
  },
  {
   "cell_type": "markdown",
   "metadata": {},
   "source": [
    "### Con mega grid de 6480 parametros: \n",
    "\n",
    "param_grid = ParameterGrid(\n",
    "\n",
    "                {\n",
    "                 'n_estimators'      : [100, 150, 200],\n",
    "                 'criterion'         : ['gini', 'entropy'],\n",
    "                 'max_depth'         : [None, 5],\n",
    "                 'min_samples_split' : range(300, 401, 20),\n",
    "                 'min_samples_leaf'  : range(50, 100, 5),\n",
    "                 'max_features'      : ['sqrt', 'log2', None],\n",
    "                 'random_state'      : [42, 666, 5],\n",
    "                }\n",
    "            )\n",
    "            \n",
    "6480 en total\n",
    "\n",
    "La versión paralelizada:\n",
    "Se puso a las 21:15 hrs del miércoles 20 de octubre, 22 hras aprox durará... \n",
    "22 hrs incompleto, completo serían 30hrs aprox... Mañana del viernes.\n",
    "no jaló\n",
    "\n",
    "La versión sencilla (loop) se puso 16:40 hrs del sábado 23 de octubre de 2021. Terminó antes de las 15:30 hrs del unes 25 de octubre 2021."
   ]
  },
  {
   "cell_type": "code",
   "execution_count": 98,
   "metadata": {},
   "outputs": [
    {
     "data": {
      "text/html": [
       "<div>\n",
       "<style scoped>\n",
       "    .dataframe tbody tr th:only-of-type {\n",
       "        vertical-align: middle;\n",
       "    }\n",
       "\n",
       "    .dataframe tbody tr th {\n",
       "        vertical-align: top;\n",
       "    }\n",
       "\n",
       "    .dataframe thead th {\n",
       "        text-align: right;\n",
       "    }\n",
       "</style>\n",
       "<table border=\"1\" class=\"dataframe\">\n",
       "  <thead>\n",
       "    <tr style=\"text-align: right;\">\n",
       "      <th></th>\n",
       "      <th>oob_accuracy</th>\n",
       "      <th>criterion</th>\n",
       "      <th>max_depth</th>\n",
       "      <th>max_features</th>\n",
       "      <th>min_samples_leaf</th>\n",
       "      <th>min_samples_split</th>\n",
       "      <th>n_estimators</th>\n",
       "      <th>random_state</th>\n",
       "    </tr>\n",
       "  </thead>\n",
       "  <tbody>\n",
       "    <tr>\n",
       "      <th>1723</th>\n",
       "      <td>0.546320</td>\n",
       "      <td>gini</td>\n",
       "      <td>NaN</td>\n",
       "      <td>None</td>\n",
       "      <td>90</td>\n",
       "      <td>380</td>\n",
       "      <td>200</td>\n",
       "      <td>5</td>\n",
       "    </tr>\n",
       "    <tr>\n",
       "      <th>1574</th>\n",
       "      <td>0.544156</td>\n",
       "      <td>gini</td>\n",
       "      <td>NaN</td>\n",
       "      <td>None</td>\n",
       "      <td>80</td>\n",
       "      <td>300</td>\n",
       "      <td>150</td>\n",
       "      <td>42</td>\n",
       "    </tr>\n",
       "    <tr>\n",
       "      <th>1499</th>\n",
       "      <td>0.543290</td>\n",
       "      <td>gini</td>\n",
       "      <td>NaN</td>\n",
       "      <td>None</td>\n",
       "      <td>70</td>\n",
       "      <td>380</td>\n",
       "      <td>100</td>\n",
       "      <td>42</td>\n",
       "    </tr>\n",
       "    <tr>\n",
       "      <th>4565</th>\n",
       "      <td>0.543290</td>\n",
       "      <td>entropy</td>\n",
       "      <td>NaN</td>\n",
       "      <td>None</td>\n",
       "      <td>55</td>\n",
       "      <td>340</td>\n",
       "      <td>200</td>\n",
       "      <td>42</td>\n",
       "    </tr>\n",
       "    <tr>\n",
       "      <th>1404</th>\n",
       "      <td>0.543074</td>\n",
       "      <td>gini</td>\n",
       "      <td>NaN</td>\n",
       "      <td>None</td>\n",
       "      <td>60</td>\n",
       "      <td>400</td>\n",
       "      <td>150</td>\n",
       "      <td>666</td>\n",
       "    </tr>\n",
       "    <tr>\n",
       "      <th>4675</th>\n",
       "      <td>0.542641</td>\n",
       "      <td>entropy</td>\n",
       "      <td>NaN</td>\n",
       "      <td>None</td>\n",
       "      <td>65</td>\n",
       "      <td>340</td>\n",
       "      <td>200</td>\n",
       "      <td>5</td>\n",
       "    </tr>\n",
       "    <tr>\n",
       "      <th>4638</th>\n",
       "      <td>0.542641</td>\n",
       "      <td>entropy</td>\n",
       "      <td>NaN</td>\n",
       "      <td>None</td>\n",
       "      <td>60</td>\n",
       "      <td>380</td>\n",
       "      <td>200</td>\n",
       "      <td>666</td>\n",
       "    </tr>\n",
       "    <tr>\n",
       "      <th>4581</th>\n",
       "      <td>0.542208</td>\n",
       "      <td>entropy</td>\n",
       "      <td>NaN</td>\n",
       "      <td>None</td>\n",
       "      <td>55</td>\n",
       "      <td>380</td>\n",
       "      <td>150</td>\n",
       "      <td>666</td>\n",
       "    </tr>\n",
       "    <tr>\n",
       "      <th>4636</th>\n",
       "      <td>0.541991</td>\n",
       "      <td>entropy</td>\n",
       "      <td>NaN</td>\n",
       "      <td>None</td>\n",
       "      <td>60</td>\n",
       "      <td>380</td>\n",
       "      <td>150</td>\n",
       "      <td>5</td>\n",
       "    </tr>\n",
       "    <tr>\n",
       "      <th>2979</th>\n",
       "      <td>0.541991</td>\n",
       "      <td>gini</td>\n",
       "      <td>5.0</td>\n",
       "      <td>None</td>\n",
       "      <td>60</td>\n",
       "      <td>300</td>\n",
       "      <td>150</td>\n",
       "      <td>666</td>\n",
       "    </tr>\n",
       "  </tbody>\n",
       "</table>\n",
       "</div>"
      ],
      "text/plain": [
       "      oob_accuracy criterion  max_depth max_features  min_samples_leaf  \\\n",
       "1723      0.546320      gini        NaN         None                90   \n",
       "1574      0.544156      gini        NaN         None                80   \n",
       "1499      0.543290      gini        NaN         None                70   \n",
       "4565      0.543290   entropy        NaN         None                55   \n",
       "1404      0.543074      gini        NaN         None                60   \n",
       "4675      0.542641   entropy        NaN         None                65   \n",
       "4638      0.542641   entropy        NaN         None                60   \n",
       "4581      0.542208   entropy        NaN         None                55   \n",
       "4636      0.541991   entropy        NaN         None                60   \n",
       "2979      0.541991      gini        5.0         None                60   \n",
       "\n",
       "      min_samples_split  n_estimators  random_state  \n",
       "1723                380           200             5  \n",
       "1574                300           150            42  \n",
       "1499                380           100            42  \n",
       "4565                340           200            42  \n",
       "1404                400           150           666  \n",
       "4675                340           200             5  \n",
       "4638                380           200           666  \n",
       "4581                380           150           666  \n",
       "4636                380           150             5  \n",
       "2979                300           150           666  "
      ]
     },
     "execution_count": 98,
     "metadata": {},
     "output_type": "execute_result"
    }
   ],
   "source": [
    "#resultados = pd.DataFrame(resultados)\n",
    "#resultados = pd.concat([resultados, resultados['params'].apply(pd.Series)], axis=1)\n",
    "#resultados = resultados.sort_values('oob_accuracy', ascending=False)\n",
    "#resultados = resultados.drop(columns = 'params')\n",
    "resultados.head(10)"
   ]
  },
  {
   "cell_type": "markdown",
   "metadata": {},
   "source": [
    "### Con split aleatorio dentro del **for**"
   ]
  },
  {
   "cell_type": "code",
   "execution_count": 48,
   "metadata": {},
   "outputs": [
    {
     "data": {
      "text/html": [
       "<div>\n",
       "<style scoped>\n",
       "    .dataframe tbody tr th:only-of-type {\n",
       "        vertical-align: middle;\n",
       "    }\n",
       "\n",
       "    .dataframe tbody tr th {\n",
       "        vertical-align: top;\n",
       "    }\n",
       "\n",
       "    .dataframe thead th {\n",
       "        text-align: right;\n",
       "    }\n",
       "</style>\n",
       "<table border=\"1\" class=\"dataframe\">\n",
       "  <thead>\n",
       "    <tr style=\"text-align: right;\">\n",
       "      <th></th>\n",
       "      <th>oob_accuracy</th>\n",
       "      <th>criterion</th>\n",
       "      <th>max_depth</th>\n",
       "      <th>max_features</th>\n",
       "      <th>min_samples_leaf</th>\n",
       "      <th>min_samples_split</th>\n",
       "      <th>random_state</th>\n",
       "    </tr>\n",
       "  </thead>\n",
       "  <tbody>\n",
       "    <tr>\n",
       "      <th>355</th>\n",
       "      <td>0.543290</td>\n",
       "      <td>entropy</td>\n",
       "      <td>10.0</td>\n",
       "      <td>None</td>\n",
       "      <td>100</td>\n",
       "      <td>10</td>\n",
       "      <td>42</td>\n",
       "    </tr>\n",
       "    <tr>\n",
       "      <th>344</th>\n",
       "      <td>0.542641</td>\n",
       "      <td>entropy</td>\n",
       "      <td>10.0</td>\n",
       "      <td>None</td>\n",
       "      <td>50</td>\n",
       "      <td>5</td>\n",
       "      <td>666</td>\n",
       "    </tr>\n",
       "    <tr>\n",
       "      <th>303</th>\n",
       "      <td>0.541775</td>\n",
       "      <td>entropy</td>\n",
       "      <td>5.0</td>\n",
       "      <td>None</td>\n",
       "      <td>100</td>\n",
       "      <td>10</td>\n",
       "      <td>5</td>\n",
       "    </tr>\n",
       "    <tr>\n",
       "      <th>239</th>\n",
       "      <td>0.541558</td>\n",
       "      <td>entropy</td>\n",
       "      <td>NaN</td>\n",
       "      <td>None</td>\n",
       "      <td>50</td>\n",
       "      <td>10</td>\n",
       "      <td>666</td>\n",
       "    </tr>\n",
       "    <tr>\n",
       "      <th>242</th>\n",
       "      <td>0.541342</td>\n",
       "      <td>entropy</td>\n",
       "      <td>NaN</td>\n",
       "      <td>None</td>\n",
       "      <td>50</td>\n",
       "      <td>100</td>\n",
       "      <td>666</td>\n",
       "    </tr>\n",
       "    <tr>\n",
       "      <th>131</th>\n",
       "      <td>0.540693</td>\n",
       "      <td>gini</td>\n",
       "      <td>5.0</td>\n",
       "      <td>None</td>\n",
       "      <td>50</td>\n",
       "      <td>10</td>\n",
       "      <td>666</td>\n",
       "    </tr>\n",
       "    <tr>\n",
       "      <th>141</th>\n",
       "      <td>0.540043</td>\n",
       "      <td>gini</td>\n",
       "      <td>5.0</td>\n",
       "      <td>None</td>\n",
       "      <td>100</td>\n",
       "      <td>10</td>\n",
       "      <td>5</td>\n",
       "    </tr>\n",
       "  </tbody>\n",
       "</table>\n",
       "</div>"
      ],
      "text/plain": [
       "     oob_accuracy criterion  max_depth max_features  min_samples_leaf  \\\n",
       "355      0.543290   entropy       10.0         None               100   \n",
       "344      0.542641   entropy       10.0         None                50   \n",
       "303      0.541775   entropy        5.0         None               100   \n",
       "239      0.541558   entropy        NaN         None                50   \n",
       "242      0.541342   entropy        NaN         None                50   \n",
       "131      0.540693      gini        5.0         None                50   \n",
       "141      0.540043      gini        5.0         None               100   \n",
       "\n",
       "     min_samples_split  random_state  \n",
       "355                 10            42  \n",
       "344                  5           666  \n",
       "303                 10             5  \n",
       "239                 10           666  \n",
       "242                100           666  \n",
       "131                 10           666  \n",
       "141                 10             5  "
      ]
     },
     "execution_count": 48,
     "metadata": {},
     "output_type": "execute_result"
    }
   ],
   "source": [
    "resultados = pd.DataFrame(resultados)\n",
    "resultados = pd.concat([resultados, resultados['params'].apply(pd.Series)], axis=1)\n",
    "resultados = resultados.sort_values('oob_accuracy', ascending=False)\n",
    "resultados = resultados.drop(columns = 'params')\n",
    "resultados.head(7)"
   ]
  },
  {
   "cell_type": "markdown",
   "metadata": {},
   "source": [
    "### Con el split fijo desde afuera del **for** con semilla de aleatorio 42. "
   ]
  },
  {
   "cell_type": "code",
   "execution_count": 31,
   "metadata": {},
   "outputs": [
    {
     "data": {
      "text/html": [
       "<div>\n",
       "<style scoped>\n",
       "    .dataframe tbody tr th:only-of-type {\n",
       "        vertical-align: middle;\n",
       "    }\n",
       "\n",
       "    .dataframe tbody tr th {\n",
       "        vertical-align: top;\n",
       "    }\n",
       "\n",
       "    .dataframe thead th {\n",
       "        text-align: right;\n",
       "    }\n",
       "</style>\n",
       "<table border=\"1\" class=\"dataframe\">\n",
       "  <thead>\n",
       "    <tr style=\"text-align: right;\">\n",
       "      <th></th>\n",
       "      <th>oob_accuracy</th>\n",
       "      <th>criterion</th>\n",
       "      <th>max_depth</th>\n",
       "      <th>max_features</th>\n",
       "      <th>min_samples_leaf</th>\n",
       "      <th>min_samples_split</th>\n",
       "    </tr>\n",
       "  </thead>\n",
       "  <tbody>\n",
       "    <tr>\n",
       "      <th>31</th>\n",
       "      <td>0.5329</td>\n",
       "      <td>gini</td>\n",
       "      <td>5.0</td>\n",
       "      <td>None</td>\n",
       "      <td>50</td>\n",
       "      <td>10</td>\n",
       "    </tr>\n",
       "    <tr>\n",
       "      <th>102</th>\n",
       "      <td>0.5329</td>\n",
       "      <td>entropy</td>\n",
       "      <td>10.0</td>\n",
       "      <td>None</td>\n",
       "      <td>50</td>\n",
       "      <td>5</td>\n",
       "    </tr>\n",
       "    <tr>\n",
       "      <th>32</th>\n",
       "      <td>0.5329</td>\n",
       "      <td>gini</td>\n",
       "      <td>5.0</td>\n",
       "      <td>None</td>\n",
       "      <td>50</td>\n",
       "      <td>100</td>\n",
       "    </tr>\n",
       "    <tr>\n",
       "      <th>30</th>\n",
       "      <td>0.5329</td>\n",
       "      <td>gini</td>\n",
       "      <td>5.0</td>\n",
       "      <td>None</td>\n",
       "      <td>50</td>\n",
       "      <td>5</td>\n",
       "    </tr>\n",
       "    <tr>\n",
       "      <th>86</th>\n",
       "      <td>0.5329</td>\n",
       "      <td>entropy</td>\n",
       "      <td>5.0</td>\n",
       "      <td>None</td>\n",
       "      <td>50</td>\n",
       "      <td>100</td>\n",
       "    </tr>\n",
       "    <tr>\n",
       "      <th>68</th>\n",
       "      <td>0.5329</td>\n",
       "      <td>entropy</td>\n",
       "      <td>NaN</td>\n",
       "      <td>None</td>\n",
       "      <td>50</td>\n",
       "      <td>100</td>\n",
       "    </tr>\n",
       "    <tr>\n",
       "      <th>85</th>\n",
       "      <td>0.5329</td>\n",
       "      <td>entropy</td>\n",
       "      <td>5.0</td>\n",
       "      <td>None</td>\n",
       "      <td>50</td>\n",
       "      <td>10</td>\n",
       "    </tr>\n",
       "  </tbody>\n",
       "</table>\n",
       "</div>"
      ],
      "text/plain": [
       "     oob_accuracy criterion  max_depth max_features  min_samples_leaf  \\\n",
       "31         0.5329      gini        5.0         None                50   \n",
       "102        0.5329   entropy       10.0         None                50   \n",
       "32         0.5329      gini        5.0         None                50   \n",
       "30         0.5329      gini        5.0         None                50   \n",
       "86         0.5329   entropy        5.0         None                50   \n",
       "68         0.5329   entropy        NaN         None                50   \n",
       "85         0.5329   entropy        5.0         None                50   \n",
       "\n",
       "     min_samples_split  \n",
       "31                  10  \n",
       "102                  5  \n",
       "32                 100  \n",
       "30                   5  \n",
       "86                 100  \n",
       "68                 100  \n",
       "85                  10  "
      ]
     },
     "execution_count": 31,
     "metadata": {},
     "output_type": "execute_result"
    }
   ],
   "source": [
    "resultados = pd.DataFrame(resultados)\n",
    "resultados = pd.concat([resultados, resultados['params'].apply(pd.Series)], axis=1)\n",
    "resultados = resultados.sort_values('oob_accuracy', ascending=False)\n",
    "resultados = resultados.drop(columns = 'params')\n",
    "resultados.head(7)"
   ]
  },
  {
   "cell_type": "markdown",
   "metadata": {},
   "source": [
    "### Mejor resultado"
   ]
  },
  {
   "cell_type": "code",
   "execution_count": 16,
   "metadata": {},
   "outputs": [
    {
     "name": "stdout",
     "output_type": "stream",
     "text": [
      "Fitting 15 folds for each of 3 candidates, totalling 45 fits\n",
      "CPU times: user 9.3 s, sys: 203 ms, total: 9.5 s\n",
      "Wall time: 2min 1s\n"
     ]
    }
   ],
   "source": [
    "%%time\n",
    "classifier = classifier.fit(X_train, y_train)"
   ]
  },
  {
   "cell_type": "code",
   "execution_count": 17,
   "metadata": {},
   "outputs": [
    {
     "data": {
      "text/html": [
       "<div>\n",
       "<style scoped>\n",
       "    .dataframe tbody tr th:only-of-type {\n",
       "        vertical-align: middle;\n",
       "    }\n",
       "\n",
       "    .dataframe tbody tr th {\n",
       "        vertical-align: top;\n",
       "    }\n",
       "\n",
       "    .dataframe thead th {\n",
       "        text-align: right;\n",
       "    }\n",
       "</style>\n",
       "<table border=\"1\" class=\"dataframe\">\n",
       "  <thead>\n",
       "    <tr style=\"text-align: right;\">\n",
       "      <th></th>\n",
       "      <th>param_max_features</th>\n",
       "      <th>param_n_estimators</th>\n",
       "      <th>mean_test_score</th>\n",
       "      <th>std_test_score</th>\n",
       "    </tr>\n",
       "  </thead>\n",
       "  <tbody>\n",
       "    <tr>\n",
       "      <th>0</th>\n",
       "      <td>5</td>\n",
       "      <td>150</td>\n",
       "      <td>0.523954</td>\n",
       "      <td>0.014248</td>\n",
       "    </tr>\n",
       "    <tr>\n",
       "      <th>2</th>\n",
       "      <td>9</td>\n",
       "      <td>150</td>\n",
       "      <td>0.523882</td>\n",
       "      <td>0.013357</td>\n",
       "    </tr>\n",
       "    <tr>\n",
       "      <th>1</th>\n",
       "      <td>7</td>\n",
       "      <td>150</td>\n",
       "      <td>0.523593</td>\n",
       "      <td>0.014079</td>\n",
       "    </tr>\n",
       "  </tbody>\n",
       "</table>\n",
       "</div>"
      ],
      "text/plain": [
       "  param_max_features param_n_estimators  mean_test_score  std_test_score\n",
       "0                  5                150         0.523954        0.014248\n",
       "2                  9                150         0.523882        0.013357\n",
       "1                  7                150         0.523593        0.014079"
      ]
     },
     "execution_count": 17,
     "metadata": {},
     "output_type": "execute_result"
    }
   ],
   "source": [
    "resultados = pd.DataFrame(classifier.cv_results_)\n",
    "resultados.filter(regex = '(param*|mean_t|std_t)') \\\n",
    "    .drop(columns = 'params') \\\n",
    "    .sort_values('mean_test_score', ascending = False) \\\n",
    "    .head(4)"
   ]
  },
  {
   "cell_type": "code",
   "execution_count": 18,
   "metadata": {},
   "outputs": [
    {
     "data": {
      "text/plain": [
       "{'max_features': 5, 'n_estimators': 150}"
      ]
     },
     "execution_count": 18,
     "metadata": {},
     "output_type": "execute_result"
    }
   ],
   "source": [
    "classifier.best_params_"
   ]
  },
  {
   "cell_type": "code",
   "execution_count": null,
   "metadata": {},
   "outputs": [],
   "source": []
  }
 ],
 "metadata": {
  "kernelspec": {
   "display_name": "Python 3",
   "language": "python",
   "name": "python3"
  },
  "language_info": {
   "codemirror_mode": {
    "name": "ipython",
    "version": 3
   },
   "file_extension": ".py",
   "mimetype": "text/x-python",
   "name": "python",
   "nbconvert_exporter": "python",
   "pygments_lexer": "ipython3",
   "version": "3.6.9"
  }
 },
 "nbformat": 4,
 "nbformat_minor": 4
}
