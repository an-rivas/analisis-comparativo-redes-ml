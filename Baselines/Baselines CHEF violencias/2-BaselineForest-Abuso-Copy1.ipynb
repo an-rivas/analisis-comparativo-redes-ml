{
 "cells": [
  {
   "cell_type": "markdown",
   "metadata": {},
   "source": [
    "# Clasificador binario con RandomForest del tipo de violencia \"abuso y violencia\".\n",
    "\n",
    "Se tienen dos tipos \"no tuvo violencia\" y \"abuso y violencia. Este último incluye a los de la categoría \"ambos\".\n",
    "\n",
    "Sin preprocesamiento en el dataset. Todas las columnas se tratan como continuas aunque sean categóricas.\n",
    "\n",
    "https://www.cienciadedatos.net/documentos/py08_random_forest_python.html\n",
    "\n",
    "https://scikit-learn.org/stable/modules/generated/sklearn.ensemble.RandomForestClassifier.html?highlight=forest#sklearn.ensemble.RandomForestClassifier"
   ]
  },
  {
   "cell_type": "code",
   "execution_count": 1,
   "metadata": {},
   "outputs": [],
   "source": [
    "# Custom functions\n",
    "# ==============================================================================\n",
    "from funciones import CargarPandasDatasetCategoricos, BorrarColumnas, InsertarColumnaNueva\n",
    "\n",
    "# Tratamiento de datos\n",
    "# ==============================================================================\n",
    "import numpy as np\n",
    "import pandas as pd\n",
    "import time\n",
    "\n",
    "# Gráficos\n",
    "# ==============================================================================\n",
    "import matplotlib.pyplot as plt\n",
    "from matplotlib.pyplot import figure\n",
    "import seaborn as sns\n",
    "\n",
    "# Preprocesado y modelado\n",
    "# ==============================================================================\n",
    "from sklearn.ensemble import RandomForestClassifier\n",
    "from sklearn.metrics import f1_score, confusion_matrix\n",
    "from sklearn.model_selection import ParameterGrid, KFold\n",
    "from chefboost import Chefboost as chef\n",
    "from sklearn.model_selection import train_test_split\n",
    "\n",
    "# Configuración warnings\n",
    "# ==============================================================================\n",
    "import warnings\n",
    "warnings.filterwarnings('ignore')"
   ]
  },
  {
   "cell_type": "code",
   "execution_count": 2,
   "metadata": {},
   "outputs": [],
   "source": [
    "from sklearn.preprocessing import StandardScaler, MinMaxScaler"
   ]
  },
  {
   "cell_type": "code",
   "execution_count": 3,
   "metadata": {},
   "outputs": [],
   "source": [
    "def escalar(df, scal):\n",
    "    ind = df.index\n",
    "    retail_scaler = pd.DataFrame(scal.fit_transform(df), index=ind)\n",
    "    retail_scaler.columns = df.columns\n",
    "    return retail_scaler, scal"
   ]
  },
  {
   "cell_type": "code",
   "execution_count": 4,
   "metadata": {},
   "outputs": [],
   "source": [
    "def grid(param_grid, X, y, cv=5):\n",
    "    resultados = {'params': [], 'f1': [], 'cm': []}\n",
    "    importances = []\n",
    "    kf = KFold(n_splits=cv, shuffle=True)\n",
    "    \n",
    "    for i,params in enumerate(param_grid):\n",
    "        f1 = []\n",
    "        cm = []\n",
    "\n",
    "        for train_index, test_index in kf.split(X):\n",
    "\n",
    "            X_train, X_test = X.iloc[train_index], X.iloc[test_index]\n",
    "            y_train, y_test = y.iloc[train_index], y.iloc[test_index]\n",
    "\n",
    "            modelo = RandomForestClassifier(\n",
    "                        n_jobs       = -1,\n",
    "                        ** params\n",
    "                     )\n",
    "\n",
    "            modelo.fit(X_train, y_train)\n",
    "\n",
    "            y_pred = modelo.predict(X_test)\n",
    "            \n",
    "            importances.append(modelo.feature_importances_)\n",
    "            \n",
    "            f1.append(f1_score(y_test, y_pred))\n",
    "            cm.append(confusion_matrix(y_test, y_pred, labels=[0, 1]).ravel())\n",
    "            \n",
    "        resultados['params'].append(params)\n",
    "        resultados['f1'].append(max(f1))\n",
    "        resultados['cm'].append(cm[f1.index(max(f1))])\n",
    "        \n",
    "        if i%300 == 0 or i==len(param_grid):\n",
    "            print(f\"Modelo {i}, f1({max(f1)}): {params} \\u2713\")\n",
    "    \n",
    "    #hacer dataset con resultados\n",
    "    resultados = pd.DataFrame(resultados)\n",
    "    resultados = pd.concat([resultados, resultados['params'].apply(pd.Series)], axis=1)\n",
    "    resultados = resultados.drop(columns = 'params')\n",
    "    \n",
    "    return resultados, importances"
   ]
  },
  {
   "cell_type": "markdown",
   "metadata": {},
   "source": [
    "## Cargar datos"
   ]
  },
  {
   "cell_type": "code",
   "execution_count": 5,
   "metadata": {},
   "outputs": [],
   "source": [
    "endireh = CargarPandasDatasetCategoricos('datasets/endireh.csv')"
   ]
  },
  {
   "cell_type": "markdown",
   "metadata": {},
   "source": [
    "## Preprocesamiento\n"
   ]
  },
  {
   "cell_type": "markdown",
   "metadata": {},
   "source": [
    "Solo nos quedamos con las que sufieron 'Abuso y violencia'."
   ]
  },
  {
   "cell_type": "markdown",
   "metadata": {},
   "source": [
    "Eliminando los de atención no autorizada"
   ]
  },
  {
   "cell_type": "code",
   "execution_count": 6,
   "metadata": {},
   "outputs": [],
   "source": [
    "endireh.drop(endireh[endireh[\"P9_8\"]==2].index, axis=0, inplace=True)"
   ]
  },
  {
   "cell_type": "markdown",
   "metadata": {},
   "source": [
    "'abuso y violencia' y ambos sean 1."
   ]
  },
  {
   "cell_type": "code",
   "execution_count": 7,
   "metadata": {},
   "outputs": [],
   "source": [
    "endireh.loc[endireh[\"P9_8\"]>0, \"P9_8\"] = 1"
   ]
  },
  {
   "cell_type": "code",
   "execution_count": 8,
   "metadata": {},
   "outputs": [
    {
     "data": {
      "text/plain": [
       "(17485, 49)"
      ]
     },
     "execution_count": 8,
     "metadata": {},
     "output_type": "execute_result"
    }
   ],
   "source": [
    "endireh.shape"
   ]
  },
  {
   "cell_type": "code",
   "execution_count": 9,
   "metadata": {},
   "outputs": [
    {
     "name": "stdout",
     "output_type": "stream",
     "text": [
      "Ninguno(0):\t71%\n",
      "Abuso y violencia(1):\t29%\n"
     ]
    },
    {
     "data": {
      "text/plain": [
       "<matplotlib.axes._subplots.AxesSubplot at 0x7fc7fa84f080>"
      ]
     },
     "execution_count": 9,
     "metadata": {},
     "output_type": "execute_result"
    },
    {
     "data": {
      "image/png": "[encoded data removed]",
      "text/plain": [
       "<Figure size 432x288 with 1 Axes>"
      ]
     },
     "metadata": {
      "needs_background": "light"
     },
     "output_type": "display_data"
    }
   ],
   "source": [
    "for i,j in zip(['Ninguno(0)', 'Abuso y violencia(1)'], endireh[\"P9_8\"].value_counts()/endireh[\"P9_8\"].value_counts().sum()):\n",
    "    print(f'{i}:\\t{round(j*100)}%')\n",
    "endireh[\"P9_8\"].value_counts().plot(kind='bar')"
   ]
  },
  {
   "cell_type": "markdown",
   "metadata": {},
   "source": [
    "Al ser el análisis nacional borramos la variable _REGION_ que no pertenece a este estudio en particular y Elimino _y_ del dataset."
   ]
  },
  {
   "cell_type": "code",
   "execution_count": 10,
   "metadata": {},
   "outputs": [],
   "source": [
    "endireh.drop(columns=['REGION'], inplace=True)\n",
    "#endireh.drop(columns=['P9_8', 'REGION'], inplace=True)\n",
    "#X_train, X_test, y_train, y_test = train_test_split(endireh, y, test_size=0.33, random_state=5)"
   ]
  },
  {
   "cell_type": "markdown",
   "metadata": {},
   "source": [
    "Obtengo la variable objetivo y obtengo el dataset X borrando P9_8."
   ]
  },
  {
   "cell_type": "code",
   "execution_count": 11,
   "metadata": {},
   "outputs": [],
   "source": [
    "y = endireh['P9_8'].copy()"
   ]
  },
  {
   "cell_type": "code",
   "execution_count": 12,
   "metadata": {},
   "outputs": [],
   "source": [
    "X = endireh.drop(columns=['P9_8'], inplace=False)"
   ]
  },
  {
   "cell_type": "code",
   "execution_count": 20,
   "metadata": {},
   "outputs": [],
   "source": [
    "endireh.loc[endireh[\"P9_8\"]==0, \"P9_8\"] = 'No'\n",
    "endireh.loc[endireh[\"P9_8\"]==1, \"P9_8\"] = 'Si'"
   ]
  },
  {
   "cell_type": "code",
   "execution_count": 21,
   "metadata": {},
   "outputs": [],
   "source": [
    "X_train, X_test = train_test_split(endireh, test_size=0.2, random_state=5, stratify=endireh['P9_8'])"
   ]
  },
  {
   "cell_type": "markdown",
   "metadata": {},
   "source": [
    "## Encontrar los mejores parámetros con _Random Forest_"
   ]
  },
  {
   "cell_type": "code",
   "execution_count": 13,
   "metadata": {},
   "outputs": [],
   "source": [
    "param_grid = ParameterGrid(\n",
    "                {\n",
    "                 'max_features'      : ['auto', 'sqrt', 'log2'],\n",
    "                 'criterion'         : ['gini', 'entropy'],\n",
    "                 'warm_start'        : [True, False],\n",
    "                 'bootstrap'         : [True, False],\n",
    "                 'min_samples_split' : range(285, 580, 25),\n",
    "                 'min_samples_leaf'  : range(150, 200, 2),\n",
    "                 'random_state'      : [5],\n",
    "                }\n",
    "            )\n"
   ]
  },
  {
   "cell_type": "code",
   "execution_count": 14,
   "metadata": {},
   "outputs": [
    {
     "name": "stdout",
     "output_type": "stream",
     "text": [
      "Current Time is : 08:40:07\n"
     ]
    }
   ],
   "source": [
    "print(\"Current Time is :\", time.strftime(\"%H:%M:%S\", time.localtime()))"
   ]
  },
  {
   "cell_type": "code",
   "execution_count": 15,
   "metadata": {},
   "outputs": [
    {
     "name": "stdout",
     "output_type": "stream",
     "text": [
      "Modelo 0, f1(0.0): {'bootstrap': True, 'criterion': 'gini', 'max_features': 'auto', 'min_samples_leaf': 150, 'min_samples_split': 285, 'random_state': 5, 'warm_start': True} ✓\n",
      "Modelo 300, f1(0.0): {'bootstrap': True, 'criterion': 'gini', 'max_features': 'auto', 'min_samples_leaf': 174, 'min_samples_split': 435, 'random_state': 5, 'warm_start': True} ✓\n",
      "Modelo 600, f1(0.0): {'bootstrap': True, 'criterion': 'gini', 'max_features': 'sqrt', 'min_samples_leaf': 150, 'min_samples_split': 285, 'random_state': 5, 'warm_start': True} ✓\n",
      "Modelo 900, f1(0.0): {'bootstrap': True, 'criterion': 'gini', 'max_features': 'sqrt', 'min_samples_leaf': 174, 'min_samples_split': 435, 'random_state': 5, 'warm_start': True} ✓\n",
      "Modelo 1200, f1(0.0): {'bootstrap': True, 'criterion': 'gini', 'max_features': 'log2', 'min_samples_leaf': 150, 'min_samples_split': 285, 'random_state': 5, 'warm_start': True} ✓\n",
      "Modelo 1500, f1(0.0): {'bootstrap': True, 'criterion': 'gini', 'max_features': 'log2', 'min_samples_leaf': 174, 'min_samples_split': 435, 'random_state': 5, 'warm_start': True} ✓\n",
      "Modelo 1800, f1(0.0): {'bootstrap': True, 'criterion': 'entropy', 'max_features': 'auto', 'min_samples_leaf': 150, 'min_samples_split': 285, 'random_state': 5, 'warm_start': True} ✓\n",
      "Modelo 2100, f1(0.0): {'bootstrap': True, 'criterion': 'entropy', 'max_features': 'auto', 'min_samples_leaf': 174, 'min_samples_split': 435, 'random_state': 5, 'warm_start': True} ✓\n",
      "Modelo 2400, f1(0.0): {'bootstrap': True, 'criterion': 'entropy', 'max_features': 'sqrt', 'min_samples_leaf': 150, 'min_samples_split': 285, 'random_state': 5, 'warm_start': True} ✓\n",
      "Modelo 2700, f1(0.0): {'bootstrap': True, 'criterion': 'entropy', 'max_features': 'sqrt', 'min_samples_leaf': 174, 'min_samples_split': 435, 'random_state': 5, 'warm_start': True} ✓\n",
      "Modelo 3000, f1(0.0): {'bootstrap': True, 'criterion': 'entropy', 'max_features': 'log2', 'min_samples_leaf': 150, 'min_samples_split': 285, 'random_state': 5, 'warm_start': True} ✓\n",
      "Modelo 3300, f1(0.0): {'bootstrap': True, 'criterion': 'entropy', 'max_features': 'log2', 'min_samples_leaf': 174, 'min_samples_split': 435, 'random_state': 5, 'warm_start': True} ✓\n",
      "Modelo 3600, f1(0.0): {'bootstrap': False, 'criterion': 'gini', 'max_features': 'auto', 'min_samples_leaf': 150, 'min_samples_split': 285, 'random_state': 5, 'warm_start': True} ✓\n",
      "Modelo 3900, f1(0.0): {'bootstrap': False, 'criterion': 'gini', 'max_features': 'auto', 'min_samples_leaf': 174, 'min_samples_split': 435, 'random_state': 5, 'warm_start': True} ✓\n",
      "Modelo 4200, f1(0.0): {'bootstrap': False, 'criterion': 'gini', 'max_features': 'sqrt', 'min_samples_leaf': 150, 'min_samples_split': 285, 'random_state': 5, 'warm_start': True} ✓\n",
      "Modelo 4500, f1(0.0): {'bootstrap': False, 'criterion': 'gini', 'max_features': 'sqrt', 'min_samples_leaf': 174, 'min_samples_split': 435, 'random_state': 5, 'warm_start': True} ✓\n",
      "Modelo 4800, f1(0.0): {'bootstrap': False, 'criterion': 'gini', 'max_features': 'log2', 'min_samples_leaf': 150, 'min_samples_split': 285, 'random_state': 5, 'warm_start': True} ✓\n",
      "Modelo 5100, f1(0.0): {'bootstrap': False, 'criterion': 'gini', 'max_features': 'log2', 'min_samples_leaf': 174, 'min_samples_split': 435, 'random_state': 5, 'warm_start': True} ✓\n",
      "Modelo 5400, f1(0.0): {'bootstrap': False, 'criterion': 'entropy', 'max_features': 'auto', 'min_samples_leaf': 150, 'min_samples_split': 285, 'random_state': 5, 'warm_start': True} ✓\n",
      "Modelo 5700, f1(0.0): {'bootstrap': False, 'criterion': 'entropy', 'max_features': 'auto', 'min_samples_leaf': 174, 'min_samples_split': 435, 'random_state': 5, 'warm_start': True} ✓\n",
      "Modelo 6000, f1(0.0): {'bootstrap': False, 'criterion': 'entropy', 'max_features': 'sqrt', 'min_samples_leaf': 150, 'min_samples_split': 285, 'random_state': 5, 'warm_start': True} ✓\n",
      "Modelo 6300, f1(0.0): {'bootstrap': False, 'criterion': 'entropy', 'max_features': 'sqrt', 'min_samples_leaf': 174, 'min_samples_split': 435, 'random_state': 5, 'warm_start': True} ✓\n",
      "Modelo 6600, f1(0.0): {'bootstrap': False, 'criterion': 'entropy', 'max_features': 'log2', 'min_samples_leaf': 150, 'min_samples_split': 285, 'random_state': 5, 'warm_start': True} ✓\n",
      "Modelo 6900, f1(0.0): {'bootstrap': False, 'criterion': 'entropy', 'max_features': 'log2', 'min_samples_leaf': 174, 'min_samples_split': 435, 'random_state': 5, 'warm_start': True} ✓\n",
      "CPU times: user 9h 8min 35s, sys: 16min 28s, total: 9h 25min 3s\n",
      "Wall time: 5h 37min 54s\n"
     ]
    }
   ],
   "source": [
    "%time resultados, importances = grid(param_grid, X, y)"
   ]
  },
  {
   "cell_type": "code",
   "execution_count": 16,
   "metadata": {},
   "outputs": [
    {
     "name": "stdout",
     "output_type": "stream",
     "text": [
      "Current Time is : 14:18:02\n"
     ]
    }
   ],
   "source": [
    "print(\"Current Time is :\", time.strftime(\"%H:%M:%S\", time.localtime()))"
   ]
  },
  {
   "cell_type": "raw",
   "metadata": {},
   "source": [
    "tn, fp, fn, tp"
   ]
  },
  {
   "cell_type": "code",
   "execution_count": 17,
   "metadata": {},
   "outputs": [
    {
     "data": {
      "text/html": [
       "<div>\n",
       "<style scoped>\n",
       "    .dataframe tbody tr th:only-of-type {\n",
       "        vertical-align: middle;\n",
       "    }\n",
       "\n",
       "    .dataframe tbody tr th {\n",
       "        vertical-align: top;\n",
       "    }\n",
       "\n",
       "    .dataframe thead th {\n",
       "        text-align: right;\n",
       "    }\n",
       "</style>\n",
       "<table border=\"1\" class=\"dataframe\">\n",
       "  <thead>\n",
       "    <tr style=\"text-align: right;\">\n",
       "      <th></th>\n",
       "      <th>f1</th>\n",
       "      <th>cm</th>\n",
       "      <th>bootstrap</th>\n",
       "      <th>criterion</th>\n",
       "      <th>max_features</th>\n",
       "      <th>min_samples_leaf</th>\n",
       "      <th>min_samples_split</th>\n",
       "      <th>random_state</th>\n",
       "      <th>warm_start</th>\n",
       "    </tr>\n",
       "  </thead>\n",
       "  <tbody>\n",
       "    <tr>\n",
       "      <th>0</th>\n",
       "      <td>0.0</td>\n",
       "      <td>[2507, 0, 990, 0]</td>\n",
       "      <td>True</td>\n",
       "      <td>gini</td>\n",
       "      <td>auto</td>\n",
       "      <td>150</td>\n",
       "      <td>285</td>\n",
       "      <td>5</td>\n",
       "      <td>True</td>\n",
       "    </tr>\n",
       "    <tr>\n",
       "      <th>4837</th>\n",
       "      <td>0.0</td>\n",
       "      <td>[2515, 0, 982, 0]</td>\n",
       "      <td>False</td>\n",
       "      <td>gini</td>\n",
       "      <td>log2</td>\n",
       "      <td>152</td>\n",
       "      <td>435</td>\n",
       "      <td>5</td>\n",
       "      <td>False</td>\n",
       "    </tr>\n",
       "    <tr>\n",
       "      <th>4807</th>\n",
       "      <td>0.0</td>\n",
       "      <td>[2513, 0, 984, 0]</td>\n",
       "      <td>False</td>\n",
       "      <td>gini</td>\n",
       "      <td>log2</td>\n",
       "      <td>150</td>\n",
       "      <td>360</td>\n",
       "      <td>5</td>\n",
       "      <td>False</td>\n",
       "    </tr>\n",
       "    <tr>\n",
       "      <th>4806</th>\n",
       "      <td>0.0</td>\n",
       "      <td>[2503, 0, 994, 0]</td>\n",
       "      <td>False</td>\n",
       "      <td>gini</td>\n",
       "      <td>log2</td>\n",
       "      <td>150</td>\n",
       "      <td>360</td>\n",
       "      <td>5</td>\n",
       "      <td>True</td>\n",
       "    </tr>\n",
       "    <tr>\n",
       "      <th>4805</th>\n",
       "      <td>0.0</td>\n",
       "      <td>[2476, 0, 1021, 0]</td>\n",
       "      <td>False</td>\n",
       "      <td>gini</td>\n",
       "      <td>log2</td>\n",
       "      <td>150</td>\n",
       "      <td>335</td>\n",
       "      <td>5</td>\n",
       "      <td>False</td>\n",
       "    </tr>\n",
       "  </tbody>\n",
       "</table>\n",
       "</div>"
      ],
      "text/plain": [
       "       f1                  cm  bootstrap criterion max_features  \\\n",
       "0     0.0   [2507, 0, 990, 0]       True      gini         auto   \n",
       "4837  0.0   [2515, 0, 982, 0]      False      gini         log2   \n",
       "4807  0.0   [2513, 0, 984, 0]      False      gini         log2   \n",
       "4806  0.0   [2503, 0, 994, 0]      False      gini         log2   \n",
       "4805  0.0  [2476, 0, 1021, 0]      False      gini         log2   \n",
       "\n",
       "      min_samples_leaf  min_samples_split  random_state  warm_start  \n",
       "0                  150                285             5        True  \n",
       "4837               152                435             5       False  \n",
       "4807               150                360             5       False  \n",
       "4806               150                360             5        True  \n",
       "4805               150                335             5       False  "
      ]
     },
     "execution_count": 17,
     "metadata": {},
     "output_type": "execute_result"
    }
   ],
   "source": [
    "resultados.sort_values(by=['f1'], ascending=False).head(5)"
   ]
  },
  {
   "cell_type": "code",
   "execution_count": 18,
   "metadata": {},
   "outputs": [
    {
     "data": {
      "image/png": "[encoded data removed]",
      "text/plain": [
       "<Figure size 720x360 with 1 Axes>"
      ]
     },
     "metadata": {
      "needs_background": "light"
     },
     "output_type": "display_data"
    }
   ],
   "source": [
    "forest_importances = pd.Series(np.mean(importances, axis = 0), index=X.columns)\n",
    "forest_importances.sort_values(ascending=False, inplace=True)\n",
    "\n",
    "fig, ax = plt.subplots(figsize=(10,5))\n",
    "#forest_importances[:15].plot.bar(yerr=std, ax=ax)\n",
    "forest_importances.plot.bar(ax=ax)\n",
    "ax.set_title(\"Feature importances using MDI\")\n",
    "ax.set_ylabel(\"Mean decrease in impurity\")\n",
    "fig.tight_layout()"
   ]
  },
  {
   "cell_type": "raw",
   "metadata": {},
   "source": [
    "textfile = open(\"FI/multiple/Abuso_feature_importance_RF_Org.txt\", \"w\")\n",
    "textfile.write(','.join(endireh.columns) + \"\\n\")\n",
    "for imp in importances:\n",
    "    textfile.write(','.join(map(str, imp)) + \"\\n\")\n",
    "textfile.close()"
   ]
  },
  {
   "cell_type": "markdown",
   "metadata": {},
   "source": [
    "## Encontrar los mejores parámetros con _Chefboost_"
   ]
  },
  {
   "cell_type": "markdown",
   "metadata": {},
   "source": [
    "https://towardsdatascience.com/chefboost-an-alternative-python-library-for-tree-based-models-f46af028a348\n",
    "\n",
    "https://github.com/serengil/chefboost\n",
    "\n",
    "https://sefiks.com/2020/04/06/feature-importance-in-decision-trees/\n",
    "\n",
    "https://sefiks.com/2019/08/31/a-begineers-guide-to-decision-trees-in-python/\n"
   ]
  },
  {
   "cell_type": "markdown",
   "metadata": {},
   "source": [
    "### ID3"
   ]
  },
  {
   "cell_type": "code",
   "execution_count": 41,
   "metadata": {},
   "outputs": [
    {
     "name": "stdout",
     "output_type": "stream",
     "text": [
      "[INFO]:  -1 CPU cores will be allocated in parallel running\n",
      "ID3  tree is going to be built...\n",
      "-------------------------\n",
      "finished in  1832.790983915329  seconds\n",
      "-------------------------\n",
      "Evaluate  train set\n",
      "-------------------------\n",
      "Accuracy:  100.0 % on  13988  instances\n",
      "Labels:  ['Si' 'No']\n",
      "Confusion matrix:  [[3997, 0], [0, 9991]]\n",
      "Precision:  100.0 %, Recall:  100.0 %, F1:  100.0 %\n",
      "\n",
      "\n",
      "CPU times: user 30min 27s, sys: 6.05 s, total: 30min 33s\n",
      "Wall time: 30min 33s\n"
     ]
    }
   ],
   "source": [
    "config = {'algorithm':'ID3', 'enableParallelism':True, 'num_cores': -1, 'max_depth': 6}\n",
    "%time model = chef.fit(X_train, config = config, target_label = 'P9_8');print('\\n')"
   ]
  },
  {
   "cell_type": "code",
   "execution_count": 42,
   "metadata": {},
   "outputs": [
    {
     "name": "stdout",
     "output_type": "stream",
     "text": [
      "-------------------------\n",
      "Evaluate  test set\n",
      "-------------------------\n",
      "Accuracy:  59.050614812696594 % on  3497  instances\n",
      "Labels:  ['Si' 'No']\n",
      "Confusion matrix:  [[314, 747], [685, 1751]]\n",
      "Precision:  29.5947 %, Recall:  31.4314 %, F1:  30.4854 %\n"
     ]
    }
   ],
   "source": [
    "chef.evaluate(model, X_test, target_label='P9_8', task=\"test\")"
   ]
  },
  {
   "cell_type": "markdown",
   "metadata": {},
   "source": [
    "### C4.5"
   ]
  },
  {
   "cell_type": "code",
   "execution_count": 43,
   "metadata": {},
   "outputs": [
    {
     "name": "stdout",
     "output_type": "stream",
     "text": [
      "[INFO]:  -1 CPU cores will be allocated in parallel running\n",
      "C4.5  tree is going to be built...\n",
      "-------------------------\n",
      "finished in  1950.3161001205444  seconds\n",
      "-------------------------\n",
      "Evaluate  train set\n",
      "-------------------------\n",
      "Accuracy:  100.0 % on  13988  instances\n",
      "Labels:  ['Si' 'No']\n",
      "Confusion matrix:  [[3997, 0], [0, 9991]]\n",
      "Precision:  100.0 %, Recall:  100.0 %, F1:  100.0 %\n",
      "\n",
      "\n",
      "CPU times: user 31min 49s, sys: 41.8 s, total: 32min 31s\n",
      "Wall time: 32min 31s\n"
     ]
    }
   ],
   "source": [
    "config = {'algorithm':'C4.5', 'enableParallelism':True, 'num_cores': -1, 'max_depth': 6}\n",
    "%time model = chef.fit(X_train, config = config, target_label = 'P9_8');print('\\n')"
   ]
  },
  {
   "cell_type": "code",
   "execution_count": 44,
   "metadata": {},
   "outputs": [
    {
     "name": "stdout",
     "output_type": "stream",
     "text": [
      "-------------------------\n",
      "Evaluate  test set\n",
      "-------------------------\n",
      "Accuracy:  58.707463540177294 % on  3497  instances\n",
      "Labels:  ['Si' 'No']\n",
      "Confusion matrix:  [[337, 782], [662, 1716]]\n",
      "Precision:  30.1162 %, Recall:  33.7337 %, F1:  31.8225 %\n"
     ]
    }
   ],
   "source": [
    "chef.evaluate(model, X_test, target_label='P9_8', task=\"test\")"
   ]
  },
  {
   "cell_type": "markdown",
   "metadata": {},
   "source": [
    "### CHAID"
   ]
  },
  {
   "cell_type": "code",
   "execution_count": 45,
   "metadata": {},
   "outputs": [
    {
     "name": "stdout",
     "output_type": "stream",
     "text": [
      "[INFO]:  -1 CPU cores will be allocated in parallel running\n",
      "CHAID  tree is going to be built...\n",
      "-------------------------\n",
      "finished in  2631.346908092499  seconds\n",
      "-------------------------\n",
      "Evaluate  train set\n",
      "-------------------------\n",
      "Accuracy:  100.0 % on  13988  instances\n",
      "Labels:  ['Si' 'No']\n",
      "Confusion matrix:  [[3997, 0], [0, 9991]]\n",
      "Precision:  100.0 %, Recall:  100.0 %, F1:  100.0 %\n",
      "\n",
      "\n",
      "CPU times: user 43min 44s, sys: 7.13 s, total: 43min 51s\n",
      "Wall time: 43min 52s\n"
     ]
    }
   ],
   "source": [
    "config = {'algorithm':'CHAID', 'enableParallelism':True, 'num_cores': -1, 'max_depth': 6}\n",
    "%time model = chef.fit(X_train, config = config, target_label = 'P9_8');print('\\n')"
   ]
  },
  {
   "cell_type": "code",
   "execution_count": 46,
   "metadata": {},
   "outputs": [
    {
     "name": "stdout",
     "output_type": "stream",
     "text": [
      "-------------------------\n",
      "Evaluate  test set\n",
      "-------------------------\n",
      "Accuracy:  59.87989705461825 % on  3497  instances\n",
      "Labels:  ['Si' 'No']\n",
      "Confusion matrix:  [[325, 729], [674, 1769]]\n",
      "Precision:  30.8349 %, Recall:  32.5325 %, F1:  31.661 %\n"
     ]
    }
   ],
   "source": [
    "chef.evaluate(model, X_test, target_label='P9_8', task=\"test\")"
   ]
  },
  {
   "cell_type": "markdown",
   "metadata": {},
   "source": [
    "### enableGBM"
   ]
  },
  {
   "cell_type": "code",
   "execution_count": 47,
   "metadata": {},
   "outputs": [
    {
     "name": "stderr",
     "output_type": "stream",
     "text": [
      "Boosting:   0%|          | 0/10 [00:00<?, ?it/s]"
     ]
    },
    {
     "name": "stdout",
     "output_type": "stream",
     "text": [
      "[INFO]:  -1 CPU cores will be allocated in parallel running\n",
      "Gradient Boosting Machines...\n",
      "Regression  tree is going to be built...\n",
      "gradient boosting for classification\n"
     ]
    },
    {
     "name": "stderr",
     "output_type": "stream",
     "text": [
      "Epoch 10. Accuracy: 93. Process: : 100%|██████████| 10/10 [5:10:48<00:00, 1864.82s/it]\n"
     ]
    },
    {
     "name": "stdout",
     "output_type": "stream",
     "text": [
      "The best accuracy got in  9  epoch with the score  93.73748927652274\n",
      "-------------------------\n",
      "finished in  18648.24024605751  seconds\n",
      "-------------------------\n",
      "Evaluate  train set\n",
      "-------------------------\n",
      "Accuracy:  93.53731770088648 % on  13988  instances\n",
      "Labels:  ['Si' 'No']\n",
      "Confusion matrix:  [[3334, 241], [663, 9750]]\n",
      "Precision:  93.2587 %, Recall:  83.4126 %, F1:  88.0613 %\n",
      "\n",
      "\n",
      "CPU times: user 5h 9min 40s, sys: 1min 4s, total: 5h 10min 44s\n",
      "Wall time: 5h 10min 50s\n"
     ]
    }
   ],
   "source": [
    "config = {'enableGBM': True, 'enableParallelism':True, 'num_cores': -1, 'max_depth': 6}\n",
    "%time model = chef.fit(X_train, config = config, target_label = 'P9_8');print('\\n')"
   ]
  },
  {
   "cell_type": "code",
   "execution_count": 48,
   "metadata": {},
   "outputs": [
    {
     "name": "stdout",
     "output_type": "stream",
     "text": [
      "-------------------------\n",
      "Evaluate  test set\n",
      "-------------------------\n",
      "Accuracy:  62.7680869316557 % on  3497  instances\n",
      "Labels:  ['Si' 'No']\n",
      "Confusion matrix:  [[288, 591], [711, 1907]]\n",
      "Precision:  32.7645 %, Recall:  28.8288 %, F1:  30.6709 %\n"
     ]
    }
   ],
   "source": [
    "chef.evaluate(model, X_test, target_label='P9_8', task=\"test\")"
   ]
  },
  {
   "cell_type": "markdown",
   "metadata": {},
   "source": [
    "### enableRandomForest 100"
   ]
  },
  {
   "cell_type": "code",
   "execution_count": 49,
   "metadata": {},
   "outputs": [
    {
     "name": "stderr",
     "output_type": "stream",
     "text": [
      "Sub decision tree 100 is processing: 100%|██████████| 100/100 [00:00<00:00, 784.95it/s]"
     ]
    },
    {
     "name": "stdout",
     "output_type": "stream",
     "text": [
      "[INFO]:  8 CPU cores will be allocated in parallel running\n",
      "CART  tree is going to be built...\n"
     ]
    },
    {
     "name": "stderr",
     "output_type": "stream",
     "text": [
      "\n",
      "100%|██████████| 100/100 [01:54<00:00,  1.14s/it]\n"
     ]
    },
    {
     "name": "stdout",
     "output_type": "stream",
     "text": [
      "-------------------------\n",
      "finished in  114.6425850391388  seconds\n",
      "-------------------------\n",
      "Evaluate  train set\n",
      "-------------------------\n",
      "Accuracy:  71.46125250214469 % on  13988  instances\n",
      "Labels:  ['Si' 'No']\n",
      "Confusion matrix:  [[9, 4], [3988, 9987]]\n",
      "Precision:  69.2308 %, Recall:  0.2252 %, F1:  0.4489 %\n",
      "\n",
      "\n",
      "CPU times: user 4.18 s, sys: 161 ms, total: 4.34 s\n",
      "Wall time: 1min 58s\n"
     ]
    }
   ],
   "source": [
    "config = {'enableRandomForest':True, 'num_of_trees':100, 'algorithm':'CART', 'enableParallelism':True, 'num_cores': 8, 'max_depth': 6}\n",
    "%time model = chef.fit(X_train, config = config, target_label = 'P9_8');print('\\n')"
   ]
  },
  {
   "cell_type": "code",
   "execution_count": 50,
   "metadata": {},
   "outputs": [
    {
     "name": "stdout",
     "output_type": "stream",
     "text": [
      "-------------------------\n",
      "Evaluate  test set\n",
      "-------------------------\n",
      "Accuracy:  71.37546468401487 % on  3497  instances\n",
      "Labels:  ['Si' 'No']\n",
      "Confusion matrix:  [[0, 2], [999, 2496]]\n",
      "Precision:  0.0 %, Recall:  0.0 %, F1:  0.0 %\n"
     ]
    }
   ],
   "source": [
    "chef.evaluate(model, X_test, target_label='P9_8', task=\"test\")"
   ]
  },
  {
   "cell_type": "markdown",
   "metadata": {},
   "source": [
    "### enableRandomForest 5"
   ]
  },
  {
   "cell_type": "code",
   "execution_count": 51,
   "metadata": {},
   "outputs": [
    {
     "name": "stderr",
     "output_type": "stream",
     "text": [
      "Sub decision tree 5 is processing: 100%|██████████| 5/5 [00:00<00:00, 222.14it/s]"
     ]
    },
    {
     "name": "stdout",
     "output_type": "stream",
     "text": [
      "[INFO]:  8 CPU cores will be allocated in parallel running\n",
      "CART  tree is going to be built...\n"
     ]
    },
    {
     "name": "stderr",
     "output_type": "stream",
     "text": [
      "\n",
      "100%|██████████| 5/5 [02:59<00:00, 35.94s/it] \n"
     ]
    },
    {
     "name": "stdout",
     "output_type": "stream",
     "text": [
      "-------------------------\n",
      "finished in  179.88167428970337  seconds\n",
      "-------------------------\n",
      "Evaluate  train set\n",
      "-------------------------\n",
      "Accuracy:  75.58621675722047 % on  13988  instances\n",
      "Labels:  ['Si' 'No']\n",
      "Confusion matrix:  [[1612, 1030], [2385, 8961]]\n",
      "Precision:  61.0144 %, Recall:  40.3302 %, F1:  48.5615 %\n",
      "\n",
      "\n",
      "CPU times: user 2.1 s, sys: 101 ms, total: 2.2 s\n",
      "Wall time: 3min 1s\n"
     ]
    }
   ],
   "source": [
    "config = {'enableRandomForest':True, 'num_of_trees':5, 'algorithm':'CART', 'enableParallelism':True, 'num_cores': 8, 'max_depth': 6}\n",
    "%time model = chef.fit(X_train, config = config, target_label = 'P9_8');print('\\n')"
   ]
  },
  {
   "cell_type": "code",
   "execution_count": 52,
   "metadata": {},
   "outputs": [
    {
     "name": "stdout",
     "output_type": "stream",
     "text": [
      "-------------------------\n",
      "Evaluate  test set\n",
      "-------------------------\n",
      "Accuracy:  65.54189305118673 % on  3497  instances\n",
      "Labels:  ['Si' 'No']\n",
      "Confusion matrix:  [[215, 421], [784, 2077]]\n",
      "Precision:  33.805 %, Recall:  21.5215 %, F1:  26.2997 %\n"
     ]
    }
   ],
   "source": [
    "chef.evaluate(model, X_test, target_label='P9_8', task=\"test\")"
   ]
  },
  {
   "cell_type": "markdown",
   "metadata": {},
   "source": [
    "### CART"
   ]
  },
  {
   "cell_type": "code",
   "execution_count": 53,
   "metadata": {},
   "outputs": [
    {
     "name": "stdout",
     "output_type": "stream",
     "text": [
      "[INFO]:  -1 CPU cores will be allocated in parallel running\n",
      "CART  tree is going to be built...\n",
      "-------------------------\n",
      "finished in  1612.2431542873383  seconds\n",
      "-------------------------\n",
      "Evaluate  train set\n",
      "-------------------------\n",
      "Accuracy:  100.0 % on  13988  instances\n",
      "Labels:  ['Si' 'No']\n",
      "Confusion matrix:  [[3997, 0], [0, 9991]]\n",
      "Precision:  100.0 %, Recall:  100.0 %, F1:  100.0 %\n",
      "\n",
      "\n",
      "CPU times: user 26min 46s, sys: 6.61 s, total: 26min 52s\n",
      "Wall time: 26min 53s\n"
     ]
    }
   ],
   "source": [
    "config = {'algorithm':'CART', 'enableParallelism':True, 'num_cores': -1, 'max_depth': 6}\n",
    "%time model = chef.fit(X_train, config = config, target_label = 'P9_8');print('\\n')"
   ]
  },
  {
   "cell_type": "code",
   "execution_count": 54,
   "metadata": {},
   "outputs": [
    {
     "name": "stdout",
     "output_type": "stream",
     "text": [
      "-------------------------\n",
      "Evaluate  test set\n",
      "-------------------------\n",
      "Accuracy:  60.56619959965685 % on  3497  instances\n",
      "Labels:  ['Si' 'No']\n",
      "Confusion matrix:  [[352, 732], [647, 1766]]\n",
      "Precision:  32.4723 %, Recall:  35.2352 %, F1:  33.7974 %\n"
     ]
    }
   ],
   "source": [
    "chef.evaluate(model, X_test, target_label='P9_8', task=\"test\")"
   ]
  },
  {
   "cell_type": "raw",
   "metadata": {},
   "source": [
    "from sklearn.metrics import precision_recall_fscore_support\n",
    "#y_true = X_test['P9_8'].copy()\n",
    "#X_test.drop(columns=['P9_8'], inplace=True)\n",
    "y_pred = []\n",
    "for i in X_test.index:\n",
    "    y_pred.append(chef.predict(model, X_test.loc[i,:]))\n",
    "precision_recall_fscore_support(y_true, y_pred)"
   ]
  },
  {
   "cell_type": "markdown",
   "metadata": {},
   "source": [
    "### Feature importance"
   ]
  },
  {
   "cell_type": "code",
   "execution_count": 55,
   "metadata": {},
   "outputs": [
    {
     "name": "stdout",
     "output_type": "stream",
     "text": [
      "Decision rule:  outputs/rules/rules.py\n"
     ]
    },
    {
     "data": {
      "text/plain": [
       "<matplotlib.axes._subplots.AxesSubplot at 0x7fc7fb369a20>"
      ]
     },
     "execution_count": 55,
     "metadata": {},
     "output_type": "execute_result"
    },
    {
     "data": {
      "image/png": "[encoded data removed]",
      "text/plain": [
       "<Figure size 1080x360 with 1 Axes>"
      ]
     },
     "metadata": {
      "needs_background": "light"
     },
     "output_type": "display_data"
    }
   ],
   "source": [
    "fi = chef.feature_importance(\"outputs/rules/rules.py\")\n",
    "fi.set_index('feature').plot.bar(title=\"Feature Importance\", figsize=(15,5))"
   ]
  },
  {
   "cell_type": "code",
   "execution_count": null,
   "metadata": {},
   "outputs": [],
   "source": []
  }
 ],
 "metadata": {
  "kernelspec": {
   "display_name": "Python 3",
   "language": "python",
   "name": "python3"
  },
  "language_info": {
   "codemirror_mode": {
    "name": "ipython",
    "version": 3
   },
   "file_extension": ".py",
   "mimetype": "text/x-python",
   "name": "python",
   "nbconvert_exporter": "python",
   "pygments_lexer": "ipython3",
   "version": "3.6.9"
  }
 },
 "nbformat": 4,
 "nbformat_minor": 4
}
