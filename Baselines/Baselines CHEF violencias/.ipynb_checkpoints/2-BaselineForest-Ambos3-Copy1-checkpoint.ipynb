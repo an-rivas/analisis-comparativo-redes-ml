{
 "cells": [
  {
   "cell_type": "markdown",
   "metadata": {},
   "source": [
    "# Clasificador binario con ExtraTreesClassifier del tipo de violencia \"atención no autorizada\" y \"abuso y violencia\".\n",
    "\n",
    "Se tienen dos tipos \"no tuvo violencia\" y \"abuso y violencia\". No incluye a los de la categoría \"ambos\" ni a los que no sufieron violencia.\n",
    "\n",
    "Sin preprocesamiento en el dataset. Todas las columnas se tratan como continuas aunque sean categóricas.\n",
    "\n",
    "https://www.cienciadedatos.net/documentos/py08_random_forest_python.html\n",
    "\n",
    "https://scikit-learn.org/stable/modules/generated/sklearn.ensemble.RandomForestClassifier.html?highlight=forest#sklearn.ensemble.RandomForestClassifier\n",
    "\n",
    "https://scikit-learn.org/stable/modules/generated/sklearn.ensemble.ExtraTreesClassifier.html\n",
    "\n",
    "---\n",
    "\n",
    "https://github.com/serengil/chefboost\n",
    "\n",
    "https://towardsdatascience.com/chefboost-an-alternative-python-library-for-tree-based-models-f46af028a348\n",
    "\n",
    "    @misc{serengil2021chefboost,\n",
    "      author       = {Serengil, Sefik Ilkin},\n",
    "      title        = {ChefBoost: A Lightweight Boosted Decision Tree Framework},\n",
    "      month        = oct,\n",
    "      year         = 2021,\n",
    "      publisher    = {Zenodo},\n",
    "      doi          = {10.5281/zenodo.5576203},\n",
    "      howpublished = {https://doi.org/10.5281/zenodo.5576203}\n",
    "    }"
   ]
  },
  {
   "cell_type": "code",
   "execution_count": 1,
   "metadata": {},
   "outputs": [],
   "source": [
    "# Custom functions\n",
    "# ==============================================================================\n",
    "from funciones import CargarPandasDatasetCategoricos, BorrarColumnas, InsertarColumnaNueva\n",
    "\n",
    "# Tratamiento de datos\n",
    "# ==============================================================================\n",
    "import numpy as np\n",
    "import pandas as pd\n",
    "import time\n",
    "\n",
    "# Gráficos\n",
    "# ==============================================================================\n",
    "import matplotlib.pyplot as plt\n",
    "from matplotlib.pyplot import figure\n",
    "import seaborn as sns\n",
    "\n",
    "# Preprocesado y modelado\n",
    "# ==============================================================================\n",
    "from sklearn.ensemble import RandomForestClassifier\n",
    "from sklearn.metrics import f1_score, confusion_matrix\n",
    "from sklearn.model_selection import ParameterGrid, KFold\n",
    "from chefboost import Chefboost as chef\n",
    "from sklearn.model_selection import train_test_split\n",
    "\n",
    "# Configuración warnings\n",
    "# ==============================================================================\n",
    "import warnings\n",
    "warnings.filterwarnings('ignore')"
   ]
  },
  {
   "cell_type": "code",
   "execution_count": 2,
   "metadata": {},
   "outputs": [],
   "source": [
    "def clasificacionAbuso(row):\n",
    "    if row['P9_8'] == 1 or row['P9_8'] == 3:\n",
    "        return 1\n",
    "    return 0\n",
    "\n",
    "def clasificacionAtencion(row):\n",
    "    if row['P9_8'] == 2 or row['P9_8'] == 3:\n",
    "        return 1\n",
    "    return 0"
   ]
  },
  {
   "cell_type": "code",
   "execution_count": 3,
   "metadata": {},
   "outputs": [],
   "source": [
    "def grid(param_grid, X, y, cv=5):\n",
    "    resultados = {'params': [], 'f1_abuso': [], 'cm_abuso': [], 'f1_atencion': [], 'cm_atencion': []}\n",
    "    importances = []\n",
    "    kf = KFold(n_splits=cv, shuffle=True)\n",
    "    \n",
    "    for i,params in enumerate(param_grid):\n",
    "        f1_abuso = []\n",
    "        f1_atencion = []\n",
    "        cm_abuso = []\n",
    "        cm_atencion = []\n",
    "\n",
    "        for train_index, test_index in kf.split(X):\n",
    "\n",
    "            X_train, X_test = X.iloc[train_index], X.iloc[test_index]\n",
    "            y_train, y_test = y.iloc[train_index], y.iloc[test_index]\n",
    "\n",
    "            modelo = RandomForestClassifier(\n",
    "                        n_jobs       = -1,\n",
    "                        ** params\n",
    "                     )\n",
    "\n",
    "            modelo.fit(X_train, y_train)\n",
    "\n",
    "            y_pred = modelo.predict(X_test)\n",
    "            \n",
    "            importances.append(modelo.feature_importances_)\n",
    "            \n",
    "            f1_abuso.append(f1_score(y_test['P9_8_abuso'], y_pred[:, 0]))\n",
    "            f1_atencion.append(f1_score(y_test['P9_8_atencion'], y_pred[:, 1]))\n",
    "            cm_abuso.append(confusion_matrix(y_test['P9_8_abuso'], y_pred[:, 0], labels=[0, 1]).ravel())\n",
    "            cm_atencion.append(confusion_matrix(y_test['P9_8_atencion'], y_pred[:, 1], labels=[0, 1]).ravel())\n",
    "            \n",
    "        resultados['params'].append(params)\n",
    "        resultados['f1_abuso'].append(max(f1_abuso))\n",
    "        resultados['cm_abuso'].append(cm_abuso[f1_abuso.index(max(f1_abuso))])\n",
    "        resultados['f1_atencion'].append(max(f1_atencion))\n",
    "        resultados['cm_atencion'].append(cm_atencion[f1_atencion.index(max(f1_atencion))])\n",
    "        \n",
    "        if i%300 == 0 or i==len(param_grid):\n",
    "            print(f\"Modelo {i}: {params} \\u2713\")\n",
    "    \n",
    "    #hacer dataset con resultados\n",
    "    resultados = pd.DataFrame(resultados)\n",
    "    resultados = pd.concat([resultados, resultados['params'].apply(pd.Series)], axis=1)\n",
    "    resultados = resultados.drop(columns = 'params')\n",
    "    \n",
    "    return resultados, importances"
   ]
  },
  {
   "cell_type": "markdown",
   "metadata": {},
   "source": [
    "## Cargar datos"
   ]
  },
  {
   "cell_type": "code",
   "execution_count": 4,
   "metadata": {},
   "outputs": [],
   "source": [
    "endireh = CargarPandasDatasetCategoricos('datasets/endireh.csv')"
   ]
  },
  {
   "cell_type": "markdown",
   "metadata": {},
   "source": [
    "## Preprocesamiento\n"
   ]
  },
  {
   "cell_type": "markdown",
   "metadata": {},
   "source": [
    "Solo nos quedamos con las que sufieron violencia en general."
   ]
  },
  {
   "cell_type": "code",
   "execution_count": 5,
   "metadata": {},
   "outputs": [],
   "source": [
    "endireh = InsertarColumnaNueva(df=endireh, nombreCol='P9_8_abuso',    numeroCol=48, funcion=clasificacionAbuso)\n",
    "endireh = InsertarColumnaNueva(df=endireh, nombreCol='P9_8_atencion', numeroCol=49, funcion=clasificacionAtencion)"
   ]
  },
  {
   "cell_type": "code",
   "execution_count": 6,
   "metadata": {},
   "outputs": [],
   "source": [
    "endireh.loc[endireh[\"P9_8\"]>0, \"P9_8\"] = 1"
   ]
  },
  {
   "cell_type": "code",
   "execution_count": 7,
   "metadata": {},
   "outputs": [
    {
     "data": {
      "text/plain": [
       "(18902, 51)"
      ]
     },
     "execution_count": 7,
     "metadata": {},
     "output_type": "execute_result"
    }
   ],
   "source": [
    "endireh.shape"
   ]
  },
  {
   "cell_type": "code",
   "execution_count": 78,
   "metadata": {},
   "outputs": [
    {
     "name": "stdout",
     "output_type": "stream",
     "text": [
      "Ninguno(0):\t66%\n",
      "Ambos(1):\t34%\n"
     ]
    },
    {
     "data": {
      "text/plain": [
       "<matplotlib.axes._subplots.AxesSubplot at 0x7f50df08b7b8>"
      ]
     },
     "execution_count": 78,
     "metadata": {},
     "output_type": "execute_result"
    },
    {
     "data": {
      "image/png": "[encoded data removed]",
      "text/plain": [
       "<Figure size 432x288 with 1 Axes>"
      ]
     },
     "metadata": {
      "needs_background": "light"
     },
     "output_type": "display_data"
    }
   ],
   "source": [
    "for i,j in zip(['Ninguno(0)', 'Ambos(1)'], endireh[\"P9_8\"].value_counts()/endireh[\"P9_8\"].value_counts().sum()):\n",
    "    print(f'{i}:\\t{round(j*100)}%')\n",
    "endireh[\"P9_8\"].value_counts().plot(kind='bar')"
   ]
  },
  {
   "cell_type": "markdown",
   "metadata": {},
   "source": [
    "Al ser el análisis nacional borramos la variable _REGION_ que no pertenece a este estudio en particular y Elimino _y_ del dataset."
   ]
  },
  {
   "cell_type": "code",
   "execution_count": 9,
   "metadata": {},
   "outputs": [],
   "source": [
    "endireh.drop(columns=['REGION'], inplace=True)"
   ]
  },
  {
   "cell_type": "markdown",
   "metadata": {},
   "source": [
    "Obtengo la variable objetivo y obtengo el dataset X borrando P9_8."
   ]
  },
  {
   "cell_type": "code",
   "execution_count": 10,
   "metadata": {},
   "outputs": [],
   "source": [
    "y = endireh[['P9_8_abuso', 'P9_8_atencion']].copy()\n",
    "X = endireh.drop(columns=['P9_8', 'P9_8_abuso', 'P9_8_atencion'], inplace=False)"
   ]
  },
  {
   "cell_type": "markdown",
   "metadata": {},
   "source": [
    "Borro 'P9_8_abuso', 'P9_8_atencion' del dataset de Chef"
   ]
  },
  {
   "cell_type": "code",
   "execution_count": 11,
   "metadata": {},
   "outputs": [],
   "source": [
    "endireh.drop(columns=['P9_8_abuso', 'P9_8_atencion'], inplace=True)"
   ]
  },
  {
   "cell_type": "code",
   "execution_count": 12,
   "metadata": {},
   "outputs": [],
   "source": [
    "endireh.loc[endireh[\"P9_8\"]==0, \"P9_8\"] = 'No'\n",
    "endireh.loc[endireh[\"P9_8\"]==1, \"P9_8\"] = 'Si'"
   ]
  },
  {
   "cell_type": "code",
   "execution_count": 146,
   "metadata": {},
   "outputs": [],
   "source": [
    "X_train, X_test = train_test_split(endireh, test_size=0.2, random_state=5, stratify=endireh['P9_8'])"
   ]
  },
  {
   "cell_type": "markdown",
   "metadata": {},
   "source": [
    "## Encontrar los mejores parámetros con _Random Forest_"
   ]
  },
  {
   "cell_type": "code",
   "execution_count": 12,
   "metadata": {},
   "outputs": [],
   "source": [
    "param_grid = ParameterGrid(\n",
    "                {\n",
    "                 'max_features'      : ['auto', 'sqrt', 'log2'],\n",
    "                 'criterion'         : ['gini', 'entropy'],\n",
    "                 'warm_start'        : [True, False],\n",
    "                 'bootstrap'         : [True, False],\n",
    "                 'min_samples_split' : range(285, 580, 25),\n",
    "                 'min_samples_leaf'  : range(150, 200, 2),\n",
    "                 'random_state'      : [5],\n",
    "                }\n",
    "            )\n"
   ]
  },
  {
   "cell_type": "code",
   "execution_count": 13,
   "metadata": {},
   "outputs": [
    {
     "name": "stdout",
     "output_type": "stream",
     "text": [
      "Current Time is : 17:52:48\n"
     ]
    }
   ],
   "source": [
    "print(\"Current Time is :\", time.strftime(\"%H:%M:%S\", time.localtime()))"
   ]
  },
  {
   "cell_type": "code",
   "execution_count": 14,
   "metadata": {},
   "outputs": [
    {
     "name": "stdout",
     "output_type": "stream",
     "text": [
      "Modelo 0: {'bootstrap': True, 'criterion': 'gini', 'max_features': 'auto', 'min_samples_leaf': 150, 'min_samples_split': 285, 'random_state': 5, 'warm_start': True} ✓\n",
      "Modelo 300: {'bootstrap': True, 'criterion': 'gini', 'max_features': 'auto', 'min_samples_leaf': 174, 'min_samples_split': 435, 'random_state': 5, 'warm_start': True} ✓\n",
      "Modelo 600: {'bootstrap': True, 'criterion': 'gini', 'max_features': 'sqrt', 'min_samples_leaf': 150, 'min_samples_split': 285, 'random_state': 5, 'warm_start': True} ✓\n",
      "Modelo 900: {'bootstrap': True, 'criterion': 'gini', 'max_features': 'sqrt', 'min_samples_leaf': 174, 'min_samples_split': 435, 'random_state': 5, 'warm_start': True} ✓\n",
      "Modelo 1200: {'bootstrap': True, 'criterion': 'gini', 'max_features': 'log2', 'min_samples_leaf': 150, 'min_samples_split': 285, 'random_state': 5, 'warm_start': True} ✓\n",
      "Modelo 1500: {'bootstrap': True, 'criterion': 'gini', 'max_features': 'log2', 'min_samples_leaf': 174, 'min_samples_split': 435, 'random_state': 5, 'warm_start': True} ✓\n",
      "Modelo 1800: {'bootstrap': True, 'criterion': 'entropy', 'max_features': 'auto', 'min_samples_leaf': 150, 'min_samples_split': 285, 'random_state': 5, 'warm_start': True} ✓\n",
      "Modelo 2100: {'bootstrap': True, 'criterion': 'entropy', 'max_features': 'auto', 'min_samples_leaf': 174, 'min_samples_split': 435, 'random_state': 5, 'warm_start': True} ✓\n",
      "Modelo 2700: {'bootstrap': True, 'criterion': 'entropy', 'max_features': 'sqrt', 'min_samples_leaf': 174, 'min_samples_split': 435, 'random_state': 5, 'warm_start': True} ✓\n",
      "Modelo 3000: {'bootstrap': True, 'criterion': 'entropy', 'max_features': 'log2', 'min_samples_leaf': 150, 'min_samples_split': 285, 'random_state': 5, 'warm_start': True} ✓\n",
      "Modelo 3300: {'bootstrap': True, 'criterion': 'entropy', 'max_features': 'log2', 'min_samples_leaf': 174, 'min_samples_split': 435, 'random_state': 5, 'warm_start': True} ✓\n",
      "Modelo 3600: {'bootstrap': False, 'criterion': 'gini', 'max_features': 'auto', 'min_samples_leaf': 150, 'min_samples_split': 285, 'random_state': 5, 'warm_start': True} ✓\n",
      "Modelo 3900: {'bootstrap': False, 'criterion': 'gini', 'max_features': 'auto', 'min_samples_leaf': 174, 'min_samples_split': 435, 'random_state': 5, 'warm_start': True} ✓\n",
      "Modelo 4200: {'bootstrap': False, 'criterion': 'gini', 'max_features': 'sqrt', 'min_samples_leaf': 150, 'min_samples_split': 285, 'random_state': 5, 'warm_start': True} ✓\n",
      "Modelo 4500: {'bootstrap': False, 'criterion': 'gini', 'max_features': 'sqrt', 'min_samples_leaf': 174, 'min_samples_split': 435, 'random_state': 5, 'warm_start': True} ✓\n",
      "Modelo 4800: {'bootstrap': False, 'criterion': 'gini', 'max_features': 'log2', 'min_samples_leaf': 150, 'min_samples_split': 285, 'random_state': 5, 'warm_start': True} ✓\n",
      "Modelo 5100: {'bootstrap': False, 'criterion': 'gini', 'max_features': 'log2', 'min_samples_leaf': 174, 'min_samples_split': 435, 'random_state': 5, 'warm_start': True} ✓\n",
      "Modelo 5400: {'bootstrap': False, 'criterion': 'entropy', 'max_features': 'auto', 'min_samples_leaf': 150, 'min_samples_split': 285, 'random_state': 5, 'warm_start': True} ✓\n",
      "Modelo 5700: {'bootstrap': False, 'criterion': 'entropy', 'max_features': 'auto', 'min_samples_leaf': 174, 'min_samples_split': 435, 'random_state': 5, 'warm_start': True} ✓\n",
      "Modelo 6000: {'bootstrap': False, 'criterion': 'entropy', 'max_features': 'sqrt', 'min_samples_leaf': 150, 'min_samples_split': 285, 'random_state': 5, 'warm_start': True} ✓\n",
      "Modelo 6300: {'bootstrap': False, 'criterion': 'entropy', 'max_features': 'sqrt', 'min_samples_leaf': 174, 'min_samples_split': 435, 'random_state': 5, 'warm_start': True} ✓\n",
      "Modelo 6600: {'bootstrap': False, 'criterion': 'entropy', 'max_features': 'log2', 'min_samples_leaf': 150, 'min_samples_split': 285, 'random_state': 5, 'warm_start': True} ✓\n",
      "Modelo 6900: {'bootstrap': False, 'criterion': 'entropy', 'max_features': 'log2', 'min_samples_leaf': 174, 'min_samples_split': 435, 'random_state': 5, 'warm_start': True} ✓\n",
      "CPU times: user 12h 47min 27s, sys: 21min 51s, total: 13h 9min 18s\n",
      "Wall time: 7h 18min 15s\n"
     ]
    }
   ],
   "source": [
    "%time resultados, importances = grid(param_grid, X, y, cv=5)"
   ]
  },
  {
   "cell_type": "code",
   "execution_count": 15,
   "metadata": {},
   "outputs": [
    {
     "name": "stdout",
     "output_type": "stream",
     "text": [
      "Current Time is : 01:11:03\n"
     ]
    }
   ],
   "source": [
    "print(\"Current Time is :\", time.strftime(\"%H:%M:%S\", time.localtime()))"
   ]
  },
  {
   "cell_type": "raw",
   "metadata": {},
   "source": [
    "tn, fp, fn, tp"
   ]
  },
  {
   "cell_type": "code",
   "execution_count": 16,
   "metadata": {},
   "outputs": [
    {
     "data": {
      "text/html": [
       "<div>\n",
       "<style scoped>\n",
       "    .dataframe tbody tr th:only-of-type {\n",
       "        vertical-align: middle;\n",
       "    }\n",
       "\n",
       "    .dataframe tbody tr th {\n",
       "        vertical-align: top;\n",
       "    }\n",
       "\n",
       "    .dataframe thead th {\n",
       "        text-align: right;\n",
       "    }\n",
       "</style>\n",
       "<table border=\"1\" class=\"dataframe\">\n",
       "  <thead>\n",
       "    <tr style=\"text-align: right;\">\n",
       "      <th></th>\n",
       "      <th>f1_abuso</th>\n",
       "      <th>cm_abuso</th>\n",
       "      <th>f1_atencion</th>\n",
       "      <th>cm_atencion</th>\n",
       "      <th>bootstrap</th>\n",
       "      <th>criterion</th>\n",
       "      <th>max_features</th>\n",
       "      <th>min_samples_leaf</th>\n",
       "      <th>min_samples_split</th>\n",
       "      <th>random_state</th>\n",
       "      <th>warm_start</th>\n",
       "    </tr>\n",
       "  </thead>\n",
       "  <tbody>\n",
       "    <tr>\n",
       "      <th>0</th>\n",
       "      <td>0.0</td>\n",
       "      <td>[2784, 0, 997, 0]</td>\n",
       "      <td>0.0</td>\n",
       "      <td>[3147, 0, 634, 0]</td>\n",
       "      <td>True</td>\n",
       "      <td>gini</td>\n",
       "      <td>auto</td>\n",
       "      <td>150</td>\n",
       "      <td>285</td>\n",
       "      <td>5</td>\n",
       "      <td>True</td>\n",
       "    </tr>\n",
       "    <tr>\n",
       "      <th>4837</th>\n",
       "      <td>0.0</td>\n",
       "      <td>[2796, 0, 985, 0]</td>\n",
       "      <td>0.0</td>\n",
       "      <td>[3194, 0, 587, 0]</td>\n",
       "      <td>False</td>\n",
       "      <td>gini</td>\n",
       "      <td>log2</td>\n",
       "      <td>152</td>\n",
       "      <td>435</td>\n",
       "      <td>5</td>\n",
       "      <td>False</td>\n",
       "    </tr>\n",
       "    <tr>\n",
       "      <th>4807</th>\n",
       "      <td>0.0</td>\n",
       "      <td>[2721, 0, 1060, 0]</td>\n",
       "      <td>0.0</td>\n",
       "      <td>[3140, 0, 641, 0]</td>\n",
       "      <td>False</td>\n",
       "      <td>gini</td>\n",
       "      <td>log2</td>\n",
       "      <td>150</td>\n",
       "      <td>360</td>\n",
       "      <td>5</td>\n",
       "      <td>False</td>\n",
       "    </tr>\n",
       "    <tr>\n",
       "      <th>4806</th>\n",
       "      <td>0.0</td>\n",
       "      <td>[2790, 0, 991, 0]</td>\n",
       "      <td>0.0</td>\n",
       "      <td>[3124, 0, 657, 0]</td>\n",
       "      <td>False</td>\n",
       "      <td>gini</td>\n",
       "      <td>log2</td>\n",
       "      <td>150</td>\n",
       "      <td>360</td>\n",
       "      <td>5</td>\n",
       "      <td>True</td>\n",
       "    </tr>\n",
       "    <tr>\n",
       "      <th>4805</th>\n",
       "      <td>0.0</td>\n",
       "      <td>[2734, 0, 1047, 0]</td>\n",
       "      <td>0.0</td>\n",
       "      <td>[3125, 0, 656, 0]</td>\n",
       "      <td>False</td>\n",
       "      <td>gini</td>\n",
       "      <td>log2</td>\n",
       "      <td>150</td>\n",
       "      <td>335</td>\n",
       "      <td>5</td>\n",
       "      <td>False</td>\n",
       "    </tr>\n",
       "    <tr>\n",
       "      <th>4804</th>\n",
       "      <td>0.0</td>\n",
       "      <td>[2737, 0, 1044, 0]</td>\n",
       "      <td>0.0</td>\n",
       "      <td>[3151, 0, 630, 0]</td>\n",
       "      <td>False</td>\n",
       "      <td>gini</td>\n",
       "      <td>log2</td>\n",
       "      <td>150</td>\n",
       "      <td>335</td>\n",
       "      <td>5</td>\n",
       "      <td>True</td>\n",
       "    </tr>\n",
       "    <tr>\n",
       "      <th>4803</th>\n",
       "      <td>0.0</td>\n",
       "      <td>[2770, 0, 1011, 0]</td>\n",
       "      <td>0.0</td>\n",
       "      <td>[3129, 0, 652, 0]</td>\n",
       "      <td>False</td>\n",
       "      <td>gini</td>\n",
       "      <td>log2</td>\n",
       "      <td>150</td>\n",
       "      <td>310</td>\n",
       "      <td>5</td>\n",
       "      <td>False</td>\n",
       "    </tr>\n",
       "    <tr>\n",
       "      <th>4802</th>\n",
       "      <td>0.0</td>\n",
       "      <td>[2772, 0, 1009, 0]</td>\n",
       "      <td>0.0</td>\n",
       "      <td>[3147, 0, 634, 0]</td>\n",
       "      <td>False</td>\n",
       "      <td>gini</td>\n",
       "      <td>log2</td>\n",
       "      <td>150</td>\n",
       "      <td>310</td>\n",
       "      <td>5</td>\n",
       "      <td>True</td>\n",
       "    </tr>\n",
       "    <tr>\n",
       "      <th>4801</th>\n",
       "      <td>0.0</td>\n",
       "      <td>[2828, 0, 953, 0]</td>\n",
       "      <td>0.0</td>\n",
       "      <td>[3142, 0, 639, 0]</td>\n",
       "      <td>False</td>\n",
       "      <td>gini</td>\n",
       "      <td>log2</td>\n",
       "      <td>150</td>\n",
       "      <td>285</td>\n",
       "      <td>5</td>\n",
       "      <td>False</td>\n",
       "    </tr>\n",
       "    <tr>\n",
       "      <th>4800</th>\n",
       "      <td>0.0</td>\n",
       "      <td>[2784, 0, 997, 0]</td>\n",
       "      <td>0.0</td>\n",
       "      <td>[3128, 0, 653, 0]</td>\n",
       "      <td>False</td>\n",
       "      <td>gini</td>\n",
       "      <td>log2</td>\n",
       "      <td>150</td>\n",
       "      <td>285</td>\n",
       "      <td>5</td>\n",
       "      <td>True</td>\n",
       "    </tr>\n",
       "  </tbody>\n",
       "</table>\n",
       "</div>"
      ],
      "text/plain": [
       "      f1_abuso            cm_abuso  f1_atencion        cm_atencion  bootstrap  \\\n",
       "0          0.0   [2784, 0, 997, 0]          0.0  [3147, 0, 634, 0]       True   \n",
       "4837       0.0   [2796, 0, 985, 0]          0.0  [3194, 0, 587, 0]      False   \n",
       "4807       0.0  [2721, 0, 1060, 0]          0.0  [3140, 0, 641, 0]      False   \n",
       "4806       0.0   [2790, 0, 991, 0]          0.0  [3124, 0, 657, 0]      False   \n",
       "4805       0.0  [2734, 0, 1047, 0]          0.0  [3125, 0, 656, 0]      False   \n",
       "4804       0.0  [2737, 0, 1044, 0]          0.0  [3151, 0, 630, 0]      False   \n",
       "4803       0.0  [2770, 0, 1011, 0]          0.0  [3129, 0, 652, 0]      False   \n",
       "4802       0.0  [2772, 0, 1009, 0]          0.0  [3147, 0, 634, 0]      False   \n",
       "4801       0.0   [2828, 0, 953, 0]          0.0  [3142, 0, 639, 0]      False   \n",
       "4800       0.0   [2784, 0, 997, 0]          0.0  [3128, 0, 653, 0]      False   \n",
       "\n",
       "     criterion max_features  min_samples_leaf  min_samples_split  \\\n",
       "0         gini         auto               150                285   \n",
       "4837      gini         log2               152                435   \n",
       "4807      gini         log2               150                360   \n",
       "4806      gini         log2               150                360   \n",
       "4805      gini         log2               150                335   \n",
       "4804      gini         log2               150                335   \n",
       "4803      gini         log2               150                310   \n",
       "4802      gini         log2               150                310   \n",
       "4801      gini         log2               150                285   \n",
       "4800      gini         log2               150                285   \n",
       "\n",
       "      random_state  warm_start  \n",
       "0                5        True  \n",
       "4837             5       False  \n",
       "4807             5       False  \n",
       "4806             5        True  \n",
       "4805             5       False  \n",
       "4804             5        True  \n",
       "4803             5       False  \n",
       "4802             5        True  \n",
       "4801             5       False  \n",
       "4800             5        True  "
      ]
     },
     "execution_count": 16,
     "metadata": {},
     "output_type": "execute_result"
    }
   ],
   "source": [
    "resultados.sort_values(by=['f1_abuso'], ascending=False).head(10)"
   ]
  },
  {
   "cell_type": "code",
   "execution_count": 17,
   "metadata": {},
   "outputs": [
    {
     "data": {
      "image/png": "[encoded data removed]",
      "text/plain": [
       "<Figure size 720x360 with 1 Axes>"
      ]
     },
     "metadata": {
      "needs_background": "light"
     },
     "output_type": "display_data"
    }
   ],
   "source": [
    "forest_importances = pd.Series(np.mean(importances, axis = 0), index=X.columns)\n",
    "forest_importances.sort_values(ascending=False, inplace=True)\n",
    "\n",
    "fig, ax = plt.subplots(figsize=(10,5))\n",
    "#forest_importances[:15].plot.bar(yerr=std, ax=ax)\n",
    "forest_importances.plot.bar(ax=ax)\n",
    "ax.set_title(\"Feature importances using MDI\")\n",
    "ax.set_ylabel(\"Mean decrease in impurity\")\n",
    "fig.tight_layout()"
   ]
  },
  {
   "cell_type": "raw",
   "metadata": {},
   "source": [
    "textfile = open(\"FI/multiple/Ambos4_feature_importance_RF_Org_All.txt\", \"w\")\n",
    "textfile.write(','.join(endireh.columns) + \"\\n\")\n",
    "for imp in importances:\n",
    "    textfile.write(','.join(map(str, imp)) + \"\\n\")\n",
    "textfile.close()"
   ]
  },
  {
   "cell_type": "markdown",
   "metadata": {},
   "source": [
    "### ID3"
   ]
  },
  {
   "cell_type": "code",
   "execution_count": 14,
   "metadata": {},
   "outputs": [
    {
     "name": "stdout",
     "output_type": "stream",
     "text": [
      "[INFO]:  -1 CPU cores will be allocated in parallel running\n",
      "ID3  tree is going to be built...\n",
      "-------------------------\n",
      "finished in  2135.67187166214  seconds\n",
      "-------------------------\n",
      "Evaluate  train set\n",
      "-------------------------\n",
      "Accuracy:  100.0 % on  15121  instances\n",
      "Labels:  ['No' 'Si']\n",
      "Confusion matrix:  [[9991, 0], [0, 5130]]\n",
      "Precision:  100.0 %, Recall:  100.0 %, F1:  100.0 %\n",
      "\n",
      "\n",
      "CPU times: user 35min 29s, sys: 7.57 s, total: 35min 36s\n",
      "Wall time: 35min 36s\n"
     ]
    }
   ],
   "source": [
    "config = {'algorithm':'ID3', 'enableParallelism':True, 'num_cores': -1, 'max_depth': 6}\n",
    "%time model = chef.fit(X_train, config = config, target_label = 'P9_8');print('\\n')"
   ]
  },
  {
   "cell_type": "code",
   "execution_count": 15,
   "metadata": {},
   "outputs": [
    {
     "name": "stdout",
     "output_type": "stream",
     "text": [
      "-------------------------\n",
      "Evaluate  test set\n",
      "-------------------------\n",
      "Accuracy:  56.572335361015604 % on  3781  instances\n",
      "Labels:  ['No' 'Si']\n",
      "Confusion matrix:  [[1627, 771], [871, 512]]\n",
      "Precision:  67.8482 %, Recall:  65.1321 %, F1:  66.4624 %\n"
     ]
    }
   ],
   "source": [
    "chef.evaluate(model, X_test, target_label='P9_8', task=\"test\")"
   ]
  },
  {
   "cell_type": "markdown",
   "metadata": {},
   "source": [
    "### C4.5"
   ]
  },
  {
   "cell_type": "code",
   "execution_count": 16,
   "metadata": {},
   "outputs": [
    {
     "name": "stdout",
     "output_type": "stream",
     "text": [
      "[INFO]:  -1 CPU cores will be allocated in parallel running\n",
      "C4.5  tree is going to be built...\n",
      "-------------------------\n",
      "finished in  2262.485049009323  seconds\n",
      "-------------------------\n",
      "Evaluate  train set\n",
      "-------------------------\n",
      "Accuracy:  100.0 % on  15121  instances\n",
      "Labels:  ['No' 'Si']\n",
      "Confusion matrix:  [[9991, 0], [0, 5130]]\n",
      "Precision:  100.0 %, Recall:  100.0 %, F1:  100.0 %\n",
      "\n",
      "\n",
      "CPU times: user 37min 34s, sys: 8.77 s, total: 37min 43s\n",
      "Wall time: 37min 43s\n"
     ]
    }
   ],
   "source": [
    "config = {'algorithm':'C4.5', 'enableParallelism':True, 'num_cores': -1, 'max_depth': 6}\n",
    "%time model = chef.fit(X_train, config = config, target_label = 'P9_8');print('\\n')"
   ]
  },
  {
   "cell_type": "code",
   "execution_count": 17,
   "metadata": {},
   "outputs": [
    {
     "name": "stdout",
     "output_type": "stream",
     "text": [
      "-------------------------\n",
      "Evaluate  test set\n",
      "-------------------------\n",
      "Accuracy:  55.302829939169534 % on  3781  instances\n",
      "Labels:  ['No' 'Si']\n",
      "Confusion matrix:  [[1584, 776], [914, 507]]\n",
      "Precision:  67.1186 %, Recall:  63.4107 %, F1:  65.212 %\n"
     ]
    }
   ],
   "source": [
    "chef.evaluate(model, X_test, target_label='P9_8', task=\"test\")"
   ]
  },
  {
   "cell_type": "markdown",
   "metadata": {},
   "source": [
    "### CHAID"
   ]
  },
  {
   "cell_type": "code",
   "execution_count": 18,
   "metadata": {},
   "outputs": [
    {
     "name": "stdout",
     "output_type": "stream",
     "text": [
      "[INFO]:  -1 CPU cores will be allocated in parallel running\n",
      "CHAID  tree is going to be built...\n",
      "-------------------------\n",
      "finished in  2949.9309186935425  seconds\n",
      "-------------------------\n",
      "Evaluate  train set\n",
      "-------------------------\n",
      "Accuracy:  100.0 % on  15121  instances\n",
      "Labels:  ['No' 'Si']\n",
      "Confusion matrix:  [[9991, 0], [0, 5130]]\n",
      "Precision:  100.0 %, Recall:  100.0 %, F1:  100.0 %\n",
      "\n",
      "\n",
      "CPU times: user 48min 50s, sys: 19.5 s, total: 49min 9s\n",
      "Wall time: 49min 11s\n"
     ]
    }
   ],
   "source": [
    "config = {'algorithm':'CHAID', 'enableParallelism':True, 'num_cores': -1, 'max_depth': 6}\n",
    "%time model = chef.fit(X_train, config = config, target_label = 'P9_8');print('\\n')"
   ]
  },
  {
   "cell_type": "code",
   "execution_count": 19,
   "metadata": {},
   "outputs": [
    {
     "name": "stdout",
     "output_type": "stream",
     "text": [
      "-------------------------\n",
      "Evaluate  test set\n",
      "-------------------------\n",
      "Accuracy:  55.54086220576567 % on  3781  instances\n",
      "Labels:  ['No' 'Si']\n",
      "Confusion matrix:  [[1640, 823], [858, 460]]\n",
      "Precision:  66.5855 %, Recall:  65.6525 %, F1:  66.1157 %\n"
     ]
    }
   ],
   "source": [
    "chef.evaluate(model, X_test, target_label='P9_8', task=\"test\")"
   ]
  },
  {
   "cell_type": "markdown",
   "metadata": {},
   "source": [
    "### CART"
   ]
  },
  {
   "cell_type": "code",
   "execution_count": 20,
   "metadata": {},
   "outputs": [
    {
     "name": "stdout",
     "output_type": "stream",
     "text": [
      "[INFO]:  -1 CPU cores will be allocated in parallel running\n",
      "CART  tree is going to be built...\n",
      "-------------------------\n",
      "finished in  1885.8799359798431  seconds\n",
      "-------------------------\n",
      "Evaluate  train set\n",
      "-------------------------\n",
      "Accuracy:  100.0 % on  15121  instances\n",
      "Labels:  ['No' 'Si']\n",
      "Confusion matrix:  [[9991, 0], [0, 5130]]\n",
      "Precision:  100.0 %, Recall:  100.0 %, F1:  100.0 %\n",
      "\n",
      "\n",
      "CPU times: user 31min 18s, sys: 7.3 s, total: 31min 26s\n",
      "Wall time: 31min 27s\n"
     ]
    }
   ],
   "source": [
    "config = {'algorithm':'CART', 'enableParallelism':True, 'num_cores': -1, 'max_depth': 6}\n",
    "%time model = chef.fit(X_train, config = config, target_label = 'P9_8');print('\\n')"
   ]
  },
  {
   "cell_type": "code",
   "execution_count": 21,
   "metadata": {},
   "outputs": [
    {
     "name": "stdout",
     "output_type": "stream",
     "text": [
      "-------------------------\n",
      "Evaluate  test set\n",
      "-------------------------\n",
      "Accuracy:  56.17561491668871 % on  3781  instances\n",
      "Labels:  ['No' 'Si']\n",
      "Confusion matrix:  [[1625, 784], [873, 499]]\n",
      "Precision:  67.4554 %, Recall:  65.052 %, F1:  66.2319 %\n"
     ]
    }
   ],
   "source": [
    "chef.evaluate(model, X_test, target_label='P9_8', task=\"test\")"
   ]
  },
  {
   "cell_type": "markdown",
   "metadata": {},
   "source": [
    "### enableGBM"
   ]
  },
  {
   "cell_type": "code",
   "execution_count": 82,
   "metadata": {},
   "outputs": [
    {
     "name": "stderr",
     "output_type": "stream",
     "text": [
      "Boosting:   0%|          | 0/10 [00:00<?, ?it/s]"
     ]
    },
    {
     "name": "stdout",
     "output_type": "stream",
     "text": [
      "[INFO]:  -1 CPU cores will be allocated in parallel running\n",
      "Gradient Boosting Machines...\n",
      "Regression  tree is going to be built...\n",
      "gradient boosting for classification\n"
     ]
    },
    {
     "name": "stderr",
     "output_type": "stream",
     "text": [
      "Epoch 10. Accuracy: 91. Process: : 100%|██████████| 10/10 [5:41:38<00:00, 2049.84s/it]\n"
     ]
    },
    {
     "name": "stdout",
     "output_type": "stream",
     "text": [
      "The best accuracy got in  8  epoch with the score  92.20950995304544\n",
      "-------------------------\n",
      "finished in  20498.450030326843  seconds\n",
      "-------------------------\n",
      "Evaluate  train set\n",
      "-------------------------\n",
      "Accuracy:  91.8854573110244 % on  15121  instances\n",
      "Labels:  ['No' 'Si']\n",
      "Confusion matrix:  [[9784, 1020], [207, 4110]]\n",
      "Precision:  90.5591 %, Recall:  97.9281 %, F1:  94.0996 %\n",
      "\n",
      "\n",
      "CPU times: user 5h 40min 8s, sys: 1min 24s, total: 5h 41min 33s\n",
      "Wall time: 5h 41min 40s\n"
     ]
    }
   ],
   "source": [
    "config = {'enableGBM': True, 'enableParallelism':True, 'num_cores': -1, 'max_depth': 6}\n",
    "%time model = chef.fit(X_train, config = config, target_label = 'P9_8');print('\\n')"
   ]
  },
  {
   "cell_type": "code",
   "execution_count": 83,
   "metadata": {},
   "outputs": [
    {
     "name": "stdout",
     "output_type": "stream",
     "text": [
      "-------------------------\n",
      "Evaluate  test set\n",
      "-------------------------\n",
      "Accuracy:  59.084898175085954 % on  3781  instances\n",
      "Labels:  ['No' 'Si']\n",
      "Confusion matrix:  [[1847, 896], [651, 387]]\n",
      "Precision:  67.335 %, Recall:  73.9392 %, F1:  70.4827 %\n"
     ]
    }
   ],
   "source": [
    "chef.evaluate(model, X_test, target_label='P9_8', task=\"test\")"
   ]
  },
  {
   "cell_type": "markdown",
   "metadata": {},
   "source": [
    "### Feature importance"
   ]
  },
  {
   "cell_type": "code",
   "execution_count": 84,
   "metadata": {},
   "outputs": [
    {
     "name": "stdout",
     "output_type": "stream",
     "text": [
      "Decision rule:  outputs/rules/rules-for-No-round-0.py\n",
      "Decision rule:  outputs/rules/rules-for-No-round-1.py\n",
      "Decision rule:  outputs/rules/rules-for-No-round-2.py\n",
      "Decision rule:  outputs/rules/rules-for-No-round-3.py\n",
      "Decision rule:  outputs/rules/rules-for-No-round-4.py\n",
      "Decision rule:  outputs/rules/rules-for-No-round-5.py\n",
      "Decision rule:  outputs/rules/rules-for-No-round-6.py\n",
      "Decision rule:  outputs/rules/rules-for-No-round-7.py\n",
      "Decision rule:  outputs/rules/rules-for-No-round-8.py\n",
      "Decision rule:  outputs/rules/rules-for-No-round-9.py\n"
     ]
    }
   ],
   "source": [
    "fi = chef.feature_importance(\"outputs/rules/rules-for-No-round-0.py\").set_index('feature')\n",
    "for i in range(1, 10):\n",
    "    fi = fi.join(chef.feature_importance(f\"outputs/rules/rules-for-No-round-{i}.py\").set_index('feature'), rsuffix=i)\n",
    "    #fi = pd.merge(fi, chef.feature_importance(f\"outputs/rules/rule_{i}.py\").set_index('feature'), left_index=True, right_index=True)\n",
    "    #fi  = pd.concat([fi, chef.feature_importance(f\"outputs/rules/rule_{i}.py\").set_index('feature')], axis=1)"
   ]
  },
  {
   "cell_type": "code",
   "execution_count": 85,
   "metadata": {},
   "outputs": [
    {
     "data": {
      "text/plain": [
       "(47, 10)"
      ]
     },
     "execution_count": 85,
     "metadata": {},
     "output_type": "execute_result"
    }
   ],
   "source": [
    "fi.shape"
   ]
  },
  {
   "cell_type": "code",
   "execution_count": 87,
   "metadata": {},
   "outputs": [],
   "source": [
    "fi.insert(10, \"std\", fi.std(axis=1))\n",
    "fi.insert(11, \"mean\", fi.mean(axis=1))\n",
    "fi.insert(12, \"min\", fi.min(axis=1))\n",
    "fi.insert(13, \"max\", fi.max(axis=1))"
   ]
  },
  {
   "cell_type": "code",
   "execution_count": 88,
   "metadata": {},
   "outputs": [
    {
     "data": {
      "text/plain": [
       "(0.0, 0.15303060612122424)"
      ]
     },
     "execution_count": 88,
     "metadata": {},
     "output_type": "execute_result"
    }
   ],
   "source": [
    "fi.min().min(), fi.max().max()"
   ]
  },
  {
   "cell_type": "code",
   "execution_count": 89,
   "metadata": {
    "collapsed": true,
    "jupyter": {
     "outputs_hidden": true
    }
   },
   "outputs": [
    {
     "data": {
      "text/html": [
       "<div>\n",
       "<style scoped>\n",
       "    .dataframe tbody tr th:only-of-type {\n",
       "        vertical-align: middle;\n",
       "    }\n",
       "\n",
       "    .dataframe tbody tr th {\n",
       "        vertical-align: top;\n",
       "    }\n",
       "\n",
       "    .dataframe thead th {\n",
       "        text-align: right;\n",
       "    }\n",
       "</style>\n",
       "<table border=\"1\" class=\"dataframe\">\n",
       "  <thead>\n",
       "    <tr style=\"text-align: right;\">\n",
       "      <th></th>\n",
       "      <th>std</th>\n",
       "      <th>mean</th>\n",
       "      <th>min</th>\n",
       "      <th>max</th>\n",
       "    </tr>\n",
       "    <tr>\n",
       "      <th>feature</th>\n",
       "      <th></th>\n",
       "      <th></th>\n",
       "      <th></th>\n",
       "      <th></th>\n",
       "    </tr>\n",
       "  </thead>\n",
       "  <tbody>\n",
       "    <tr>\n",
       "      <th>EDAD</th>\n",
       "      <td>8.558556e-03</td>\n",
       "      <td>0.129972</td>\n",
       "      <td>8.558556e-03</td>\n",
       "      <td>0.153031</td>\n",
       "    </tr>\n",
       "    <tr>\n",
       "      <th>P9_5</th>\n",
       "      <td>5.828637e-03</td>\n",
       "      <td>0.068623</td>\n",
       "      <td>5.828637e-03</td>\n",
       "      <td>0.083342</td>\n",
       "    </tr>\n",
       "    <tr>\n",
       "      <th>P9_1</th>\n",
       "      <td>3.338922e-03</td>\n",
       "      <td>0.058577</td>\n",
       "      <td>3.338922e-03</td>\n",
       "      <td>0.071036</td>\n",
       "    </tr>\n",
       "    <tr>\n",
       "      <th>GRA</th>\n",
       "      <td>6.077299e-03</td>\n",
       "      <td>0.062025</td>\n",
       "      <td>6.077299e-03</td>\n",
       "      <td>0.076792</td>\n",
       "    </tr>\n",
       "    <tr>\n",
       "      <th>ESCOLARIDAD</th>\n",
       "      <td>2.908223e-03</td>\n",
       "      <td>0.055601</td>\n",
       "      <td>2.908223e-03</td>\n",
       "      <td>0.064406</td>\n",
       "    </tr>\n",
       "    <tr>\n",
       "      <th>FOCOS</th>\n",
       "      <td>5.477814e-03</td>\n",
       "      <td>0.037067</td>\n",
       "      <td>5.477814e-03</td>\n",
       "      <td>0.048105</td>\n",
       "    </tr>\n",
       "    <tr>\n",
       "      <th>PAREN</th>\n",
       "      <td>7.117727e-03</td>\n",
       "      <td>0.047282</td>\n",
       "      <td>7.117727e-03</td>\n",
       "      <td>0.063194</td>\n",
       "    </tr>\n",
       "    <tr>\n",
       "      <th>DOMINIO</th>\n",
       "      <td>2.076966e-03</td>\n",
       "      <td>0.041123</td>\n",
       "      <td>2.076966e-03</td>\n",
       "      <td>0.047895</td>\n",
       "    </tr>\n",
       "    <tr>\n",
       "      <th>AGUA</th>\n",
       "      <td>4.023521e-03</td>\n",
       "      <td>0.038054</td>\n",
       "      <td>4.023521e-03</td>\n",
       "      <td>0.046105</td>\n",
       "    </tr>\n",
       "    <tr>\n",
       "      <th>P1_2</th>\n",
       "      <td>5.195262e-03</td>\n",
       "      <td>0.026085</td>\n",
       "      <td>5.195262e-03</td>\n",
       "      <td>0.035107</td>\n",
       "    </tr>\n",
       "    <tr>\n",
       "      <th>P1_7</th>\n",
       "      <td>5.679531e-03</td>\n",
       "      <td>0.022265</td>\n",
       "      <td>5.679531e-03</td>\n",
       "      <td>0.030803</td>\n",
       "    </tr>\n",
       "    <tr>\n",
       "      <th>P1_2_A</th>\n",
       "      <td>4.719645e-03</td>\n",
       "      <td>0.022141</td>\n",
       "      <td>4.719645e-03</td>\n",
       "      <td>0.031003</td>\n",
       "    </tr>\n",
       "    <tr>\n",
       "      <th>T_INSTRUM</th>\n",
       "      <td>1.836366e-03</td>\n",
       "      <td>0.025862</td>\n",
       "      <td>1.836366e-03</td>\n",
       "      <td>0.030097</td>\n",
       "    </tr>\n",
       "    <tr>\n",
       "      <th>P2_14</th>\n",
       "      <td>2.842170e-03</td>\n",
       "      <td>0.028881</td>\n",
       "      <td>2.842170e-03</td>\n",
       "      <td>0.035396</td>\n",
       "    </tr>\n",
       "    <tr>\n",
       "      <th>P2_15</th>\n",
       "      <td>2.375192e-03</td>\n",
       "      <td>0.025320</td>\n",
       "      <td>2.375192e-03</td>\n",
       "      <td>0.031303</td>\n",
       "    </tr>\n",
       "    <tr>\n",
       "      <th>DRENAJE</th>\n",
       "      <td>2.633101e-03</td>\n",
       "      <td>0.024580</td>\n",
       "      <td>2.633101e-03</td>\n",
       "      <td>0.031313</td>\n",
       "    </tr>\n",
       "    <tr>\n",
       "      <th>NACIO_VIV</th>\n",
       "      <td>4.555083e-03</td>\n",
       "      <td>0.022108</td>\n",
       "      <td>4.555083e-03</td>\n",
       "      <td>0.030797</td>\n",
       "    </tr>\n",
       "    <tr>\n",
       "      <th>RES_PADRE</th>\n",
       "      <td>2.467492e-03</td>\n",
       "      <td>0.023401</td>\n",
       "      <td>2.467492e-03</td>\n",
       "      <td>0.029415</td>\n",
       "    </tr>\n",
       "    <tr>\n",
       "      <th>P9_7</th>\n",
       "      <td>2.136051e-03</td>\n",
       "      <td>0.025080</td>\n",
       "      <td>2.136051e-03</td>\n",
       "      <td>0.030897</td>\n",
       "    </tr>\n",
       "    <tr>\n",
       "      <th>PISOS</th>\n",
       "      <td>3.861015e-03</td>\n",
       "      <td>0.014962</td>\n",
       "      <td>3.861015e-03</td>\n",
       "      <td>0.022902</td>\n",
       "    </tr>\n",
       "    <tr>\n",
       "      <th>P9_6</th>\n",
       "      <td>2.728985e-03</td>\n",
       "      <td>0.018778</td>\n",
       "      <td>2.728985e-03</td>\n",
       "      <td>0.024510</td>\n",
       "    </tr>\n",
       "    <tr>\n",
       "      <th>PERT_INDIGENA</th>\n",
       "      <td>3.830001e-03</td>\n",
       "      <td>0.016642</td>\n",
       "      <td>3.830001e-03</td>\n",
       "      <td>0.026305</td>\n",
       "    </tr>\n",
       "    <tr>\n",
       "      <th>RES_MADRE</th>\n",
       "      <td>3.337344e-03</td>\n",
       "      <td>0.009396</td>\n",
       "      <td>3.337344e-03</td>\n",
       "      <td>0.015402</td>\n",
       "    </tr>\n",
       "    <tr>\n",
       "      <th>P1_4_1</th>\n",
       "      <td>1.728348e-03</td>\n",
       "      <td>0.012750</td>\n",
       "      <td>1.728348e-03</td>\n",
       "      <td>0.017007</td>\n",
       "    </tr>\n",
       "    <tr>\n",
       "      <th>P1_4_5</th>\n",
       "      <td>1.116566e-03</td>\n",
       "      <td>0.007494</td>\n",
       "      <td>1.116566e-03</td>\n",
       "      <td>0.009301</td>\n",
       "    </tr>\n",
       "    <tr>\n",
       "      <th>P1_4_3</th>\n",
       "      <td>1.897875e-03</td>\n",
       "      <td>0.007701</td>\n",
       "      <td>1.897875e-03</td>\n",
       "      <td>0.010905</td>\n",
       "    </tr>\n",
       "    <tr>\n",
       "      <th>P1_4_8</th>\n",
       "      <td>1.367670e-03</td>\n",
       "      <td>0.006216</td>\n",
       "      <td>1.367670e-03</td>\n",
       "      <td>0.008501</td>\n",
       "    </tr>\n",
       "    <tr>\n",
       "      <th>P1_4_6</th>\n",
       "      <td>1.754978e-03</td>\n",
       "      <td>0.004424</td>\n",
       "      <td>1.754978e-03</td>\n",
       "      <td>0.007201</td>\n",
       "    </tr>\n",
       "    <tr>\n",
       "      <th>P9_8_11</th>\n",
       "      <td>2.134384e-03</td>\n",
       "      <td>0.007795</td>\n",
       "      <td>2.134384e-03</td>\n",
       "      <td>0.012206</td>\n",
       "    </tr>\n",
       "    <tr>\n",
       "      <th>P1_9</th>\n",
       "      <td>1.469191e-03</td>\n",
       "      <td>0.003616</td>\n",
       "      <td>1.000100e-03</td>\n",
       "      <td>0.005401</td>\n",
       "    </tr>\n",
       "    <tr>\n",
       "      <th>P1_4_4</th>\n",
       "      <td>1.924221e-03</td>\n",
       "      <td>0.004603</td>\n",
       "      <td>1.800360e-03</td>\n",
       "      <td>0.008303</td>\n",
       "    </tr>\n",
       "    <tr>\n",
       "      <th>P1_4_9</th>\n",
       "      <td>1.756235e-03</td>\n",
       "      <td>0.004588</td>\n",
       "      <td>1.756235e-03</td>\n",
       "      <td>0.008002</td>\n",
       "    </tr>\n",
       "    <tr>\n",
       "      <th>P1_4_2</th>\n",
       "      <td>1.313426e-03</td>\n",
       "      <td>0.003274</td>\n",
       "      <td>1.313426e-03</td>\n",
       "      <td>0.005001</td>\n",
       "    </tr>\n",
       "    <tr>\n",
       "      <th>P1_4_7</th>\n",
       "      <td>8.143060e-04</td>\n",
       "      <td>0.003229</td>\n",
       "      <td>8.143060e-04</td>\n",
       "      <td>0.005001</td>\n",
       "    </tr>\n",
       "    <tr>\n",
       "      <th>ABORTO</th>\n",
       "      <td>7.011764e-04</td>\n",
       "      <td>0.003637</td>\n",
       "      <td>7.011764e-04</td>\n",
       "      <td>0.004702</td>\n",
       "    </tr>\n",
       "    <tr>\n",
       "      <th>P9_3</th>\n",
       "      <td>1.022146e-03</td>\n",
       "      <td>0.003021</td>\n",
       "      <td>1.022146e-03</td>\n",
       "      <td>0.004502</td>\n",
       "    </tr>\n",
       "    <tr>\n",
       "      <th>ASISTENCIA_ESC</th>\n",
       "      <td>7.352952e-04</td>\n",
       "      <td>0.001122</td>\n",
       "      <td>0.000000e+00</td>\n",
       "      <td>0.001900</td>\n",
       "    </tr>\n",
       "    <tr>\n",
       "      <th>P1_10_2</th>\n",
       "      <td>4.695703e-04</td>\n",
       "      <td>0.000534</td>\n",
       "      <td>0.000000e+00</td>\n",
       "      <td>0.001000</td>\n",
       "    </tr>\n",
       "    <tr>\n",
       "      <th>NACIO_MUERT</th>\n",
       "      <td>4.678059e-04</td>\n",
       "      <td>0.000306</td>\n",
       "      <td>0.000000e+00</td>\n",
       "      <td>0.001000</td>\n",
       "    </tr>\n",
       "    <tr>\n",
       "      <th>CVE_ENT</th>\n",
       "      <td>2.119520e-08</td>\n",
       "      <td>0.000091</td>\n",
       "      <td>2.119520e-08</td>\n",
       "      <td>0.000100</td>\n",
       "    </tr>\n",
       "    <tr>\n",
       "      <th>TRABAJO</th>\n",
       "      <td>6.640404e-04</td>\n",
       "      <td>0.000797</td>\n",
       "      <td>0.000000e+00</td>\n",
       "      <td>0.001800</td>\n",
       "    </tr>\n",
       "    <tr>\n",
       "      <th>LENG_ESPAÑOL</th>\n",
       "      <td>0.000000e+00</td>\n",
       "      <td>0.000000</td>\n",
       "      <td>0.000000e+00</td>\n",
       "      <td>0.000000</td>\n",
       "    </tr>\n",
       "    <tr>\n",
       "      <th>LENG_INDIGENA</th>\n",
       "      <td>6.395497e-04</td>\n",
       "      <td>0.000395</td>\n",
       "      <td>0.000000e+00</td>\n",
       "      <td>0.001800</td>\n",
       "    </tr>\n",
       "    <tr>\n",
       "      <th>ALFABETISMO</th>\n",
       "      <td>4.216581e-04</td>\n",
       "      <td>0.000220</td>\n",
       "      <td>0.000000e+00</td>\n",
       "      <td>0.001000</td>\n",
       "    </tr>\n",
       "    <tr>\n",
       "      <th>P1_10_3</th>\n",
       "      <td>0.000000e+00</td>\n",
       "      <td>0.000000</td>\n",
       "      <td>0.000000e+00</td>\n",
       "      <td>0.000000</td>\n",
       "    </tr>\n",
       "    <tr>\n",
       "      <th>P1_10_1</th>\n",
       "      <td>0.000000e+00</td>\n",
       "      <td>0.000000</td>\n",
       "      <td>0.000000e+00</td>\n",
       "      <td>0.000000</td>\n",
       "    </tr>\n",
       "    <tr>\n",
       "      <th>P1_10_4</th>\n",
       "      <td>0.000000e+00</td>\n",
       "      <td>0.000000</td>\n",
       "      <td>0.000000e+00</td>\n",
       "      <td>0.000000</td>\n",
       "    </tr>\n",
       "  </tbody>\n",
       "</table>\n",
       "</div>"
      ],
      "text/plain": [
       "                         std      mean           min       max\n",
       "feature                                                       \n",
       "EDAD            8.558556e-03  0.129972  8.558556e-03  0.153031\n",
       "P9_5            5.828637e-03  0.068623  5.828637e-03  0.083342\n",
       "P9_1            3.338922e-03  0.058577  3.338922e-03  0.071036\n",
       "GRA             6.077299e-03  0.062025  6.077299e-03  0.076792\n",
       "ESCOLARIDAD     2.908223e-03  0.055601  2.908223e-03  0.064406\n",
       "FOCOS           5.477814e-03  0.037067  5.477814e-03  0.048105\n",
       "PAREN           7.117727e-03  0.047282  7.117727e-03  0.063194\n",
       "DOMINIO         2.076966e-03  0.041123  2.076966e-03  0.047895\n",
       "AGUA            4.023521e-03  0.038054  4.023521e-03  0.046105\n",
       "P1_2            5.195262e-03  0.026085  5.195262e-03  0.035107\n",
       "P1_7            5.679531e-03  0.022265  5.679531e-03  0.030803\n",
       "P1_2_A          4.719645e-03  0.022141  4.719645e-03  0.031003\n",
       "T_INSTRUM       1.836366e-03  0.025862  1.836366e-03  0.030097\n",
       "P2_14           2.842170e-03  0.028881  2.842170e-03  0.035396\n",
       "P2_15           2.375192e-03  0.025320  2.375192e-03  0.031303\n",
       "DRENAJE         2.633101e-03  0.024580  2.633101e-03  0.031313\n",
       "NACIO_VIV       4.555083e-03  0.022108  4.555083e-03  0.030797\n",
       "RES_PADRE       2.467492e-03  0.023401  2.467492e-03  0.029415\n",
       "P9_7            2.136051e-03  0.025080  2.136051e-03  0.030897\n",
       "PISOS           3.861015e-03  0.014962  3.861015e-03  0.022902\n",
       "P9_6            2.728985e-03  0.018778  2.728985e-03  0.024510\n",
       "PERT_INDIGENA   3.830001e-03  0.016642  3.830001e-03  0.026305\n",
       "RES_MADRE       3.337344e-03  0.009396  3.337344e-03  0.015402\n",
       "P1_4_1          1.728348e-03  0.012750  1.728348e-03  0.017007\n",
       "P1_4_5          1.116566e-03  0.007494  1.116566e-03  0.009301\n",
       "P1_4_3          1.897875e-03  0.007701  1.897875e-03  0.010905\n",
       "P1_4_8          1.367670e-03  0.006216  1.367670e-03  0.008501\n",
       "P1_4_6          1.754978e-03  0.004424  1.754978e-03  0.007201\n",
       "P9_8_11         2.134384e-03  0.007795  2.134384e-03  0.012206\n",
       "P1_9            1.469191e-03  0.003616  1.000100e-03  0.005401\n",
       "P1_4_4          1.924221e-03  0.004603  1.800360e-03  0.008303\n",
       "P1_4_9          1.756235e-03  0.004588  1.756235e-03  0.008002\n",
       "P1_4_2          1.313426e-03  0.003274  1.313426e-03  0.005001\n",
       "P1_4_7          8.143060e-04  0.003229  8.143060e-04  0.005001\n",
       "ABORTO          7.011764e-04  0.003637  7.011764e-04  0.004702\n",
       "P9_3            1.022146e-03  0.003021  1.022146e-03  0.004502\n",
       "ASISTENCIA_ESC  7.352952e-04  0.001122  0.000000e+00  0.001900\n",
       "P1_10_2         4.695703e-04  0.000534  0.000000e+00  0.001000\n",
       "NACIO_MUERT     4.678059e-04  0.000306  0.000000e+00  0.001000\n",
       "CVE_ENT         2.119520e-08  0.000091  2.119520e-08  0.000100\n",
       "TRABAJO         6.640404e-04  0.000797  0.000000e+00  0.001800\n",
       "LENG_ESPAÑOL    0.000000e+00  0.000000  0.000000e+00  0.000000\n",
       "LENG_INDIGENA   6.395497e-04  0.000395  0.000000e+00  0.001800\n",
       "ALFABETISMO     4.216581e-04  0.000220  0.000000e+00  0.001000\n",
       "P1_10_3         0.000000e+00  0.000000  0.000000e+00  0.000000\n",
       "P1_10_1         0.000000e+00  0.000000  0.000000e+00  0.000000\n",
       "P1_10_4         0.000000e+00  0.000000  0.000000e+00  0.000000"
      ]
     },
     "execution_count": 89,
     "metadata": {},
     "output_type": "execute_result"
    }
   ],
   "source": [
    "fi[['std', 'mean', 'min', 'max']]"
   ]
  },
  {
   "cell_type": "code",
   "execution_count": 90,
   "metadata": {},
   "outputs": [
    {
     "data": {
      "text/plain": [
       "<matplotlib.axes._subplots.AxesSubplot at 0x7f514c435eb8>"
      ]
     },
     "execution_count": 90,
     "metadata": {},
     "output_type": "execute_result"
    },
    {
     "data": {
      "image/png": "[encoded data removed]",
      "text/plain": [
       "<Figure size 1080x360 with 1 Axes>"
      ]
     },
     "metadata": {
      "needs_background": "light"
     },
     "output_type": "display_data"
    }
   ],
   "source": [
    "fi['mean'].plot.bar(title=\"Feature Importance\", figsize=(15,5), yerr=fi['std'])"
   ]
  },
  {
   "cell_type": "markdown",
   "metadata": {},
   "source": [
    "### enableRandomForest 5"
   ]
  },
  {
   "cell_type": "code",
   "execution_count": 91,
   "metadata": {},
   "outputs": [
    {
     "name": "stderr",
     "output_type": "stream",
     "text": [
      "Sub decision tree 5 is processing: 100%|██████████| 5/5 [00:00<00:00, 216.15it/s]"
     ]
    },
    {
     "name": "stdout",
     "output_type": "stream",
     "text": [
      "[INFO]:  8 CPU cores will be allocated in parallel running\n",
      "CART  tree is going to be built...\n"
     ]
    },
    {
     "name": "stderr",
     "output_type": "stream",
     "text": [
      "\n",
      "100%|██████████| 5/5 [03:41<00:00, 44.27s/it] \n"
     ]
    },
    {
     "name": "stdout",
     "output_type": "stream",
     "text": [
      "-------------------------\n",
      "finished in  221.6097710132599  seconds\n",
      "-------------------------\n",
      "Evaluate  train set\n",
      "-------------------------\n",
      "Accuracy:  72.12485946696647 % on  15121  instances\n",
      "Labels:  ['No' 'Si']\n",
      "Confusion matrix:  [[8389, 2613], [1602, 2517]]\n",
      "Precision:  76.2498 %, Recall:  83.9656 %, F1:  79.9219 %\n",
      "\n",
      "\n",
      "CPU times: user 2.22 s, sys: 100 ms, total: 2.32 s\n",
      "Wall time: 3min 43s\n"
     ]
    }
   ],
   "source": [
    "config = {'enableRandomForest':True, 'num_of_trees':5, 'algorithm':'CART', 'enableParallelism':True, 'num_cores': 8, 'max_depth': 6}\n",
    "%time model1 = chef.fit(X_train, config = config, target_label = 'P9_8');print('\\n')"
   ]
  },
  {
   "cell_type": "code",
   "execution_count": 92,
   "metadata": {},
   "outputs": [
    {
     "name": "stdout",
     "output_type": "stream",
     "text": [
      "-------------------------\n",
      "Evaluate  test set\n",
      "-------------------------\n",
      "Accuracy:  59.6932028563872 % on  3781  instances\n",
      "Labels:  ['No' 'Si']\n",
      "Confusion matrix:  [[1871, 897], [627, 386]]\n",
      "Precision:  67.5939 %, Recall:  74.8999 %, F1:  71.0596 %\n"
     ]
    }
   ],
   "source": [
    "chef.evaluate(model1, X_test, target_label='P9_8', task=\"test\")"
   ]
  },
  {
   "cell_type": "markdown",
   "metadata": {},
   "source": [
    "### enableRandomForest 100"
   ]
  },
  {
   "cell_type": "code",
   "execution_count": 93,
   "metadata": {},
   "outputs": [
    {
     "name": "stderr",
     "output_type": "stream",
     "text": [
      "Sub decision tree 100 is processing: 100%|██████████| 100/100 [00:00<00:00, 745.12it/s]"
     ]
    },
    {
     "name": "stdout",
     "output_type": "stream",
     "text": [
      "[INFO]:  8 CPU cores will be allocated in parallel running\n",
      "CART  tree is going to be built...\n"
     ]
    },
    {
     "name": "stderr",
     "output_type": "stream",
     "text": [
      "\n",
      "100%|██████████| 100/100 [02:10<00:00,  1.30s/it]\n"
     ]
    },
    {
     "name": "stdout",
     "output_type": "stream",
     "text": [
      "-------------------------\n",
      "finished in  130.65282201766968  seconds\n",
      "-------------------------\n",
      "Evaluate  train set\n",
      "-------------------------\n",
      "Accuracy:  66.2522319952384 % on  15121  instances\n",
      "Labels:  ['No' 'Si']\n",
      "Confusion matrix:  [[9852, 4964], [139, 166]]\n",
      "Precision:  66.4957 %, Recall:  98.6087 %, F1:  79.4292 %\n",
      "\n",
      "\n",
      "CPU times: user 4.37 s, sys: 144 ms, total: 4.52 s\n",
      "Wall time: 2min 14s\n"
     ]
    }
   ],
   "source": [
    "config = {'enableRandomForest':True, 'num_of_trees':100, 'algorithm':'CART', 'enableParallelism':True, 'num_cores': 8, 'max_depth': 6}\n",
    "%time model1 = chef.fit(X_train, config = config, target_label = 'P9_8');print('\\n')"
   ]
  },
  {
   "cell_type": "code",
   "execution_count": 94,
   "metadata": {},
   "outputs": [
    {
     "name": "stdout",
     "output_type": "stream",
     "text": [
      "-------------------------\n",
      "Evaluate  test set\n",
      "-------------------------\n",
      "Accuracy:  65.80269769902142 % on  3781  instances\n",
      "Labels:  ['No' 'Si']\n",
      "Confusion matrix:  [[2451, 1246], [47, 37]]\n",
      "Precision:  66.297 %, Recall:  98.1185 %, F1:  79.1283 %\n"
     ]
    }
   ],
   "source": [
    "chef.evaluate(model1, X_test, target_label='P9_8', task=\"test\")"
   ]
  },
  {
   "cell_type": "markdown",
   "metadata": {},
   "source": [
    "### Feature importance"
   ]
  },
  {
   "cell_type": "code",
   "execution_count": 95,
   "metadata": {
    "collapsed": true,
    "jupyter": {
     "outputs_hidden": true
    }
   },
   "outputs": [
    {
     "name": "stdout",
     "output_type": "stream",
     "text": [
      "Decision rule:  outputs/rules/rule_0.py\n",
      "Decision rule:  outputs/rules/rule_1.py\n",
      "Decision rule:  outputs/rules/rule_2.py\n",
      "Decision rule:  outputs/rules/rule_3.py\n",
      "Decision rule:  outputs/rules/rule_4.py\n",
      "Decision rule:  outputs/rules/rule_5.py\n",
      "Decision rule:  outputs/rules/rule_6.py\n",
      "Decision rule:  outputs/rules/rule_7.py\n",
      "Decision rule:  outputs/rules/rule_8.py\n",
      "Decision rule:  outputs/rules/rule_9.py\n",
      "Decision rule:  outputs/rules/rule_10.py\n",
      "Decision rule:  outputs/rules/rule_11.py\n",
      "Decision rule:  outputs/rules/rule_12.py\n",
      "Decision rule:  outputs/rules/rule_13.py\n",
      "Decision rule:  outputs/rules/rule_14.py\n",
      "Decision rule:  outputs/rules/rule_15.py\n",
      "Decision rule:  outputs/rules/rule_16.py\n",
      "Decision rule:  outputs/rules/rule_17.py\n",
      "Decision rule:  outputs/rules/rule_18.py\n",
      "Decision rule:  outputs/rules/rule_19.py\n",
      "Decision rule:  outputs/rules/rule_20.py\n",
      "Decision rule:  outputs/rules/rule_21.py\n",
      "Decision rule:  outputs/rules/rule_22.py\n",
      "Decision rule:  outputs/rules/rule_23.py\n",
      "Decision rule:  outputs/rules/rule_24.py\n",
      "Decision rule:  outputs/rules/rule_25.py\n",
      "Decision rule:  outputs/rules/rule_26.py\n",
      "Decision rule:  outputs/rules/rule_27.py\n",
      "Decision rule:  outputs/rules/rule_28.py\n",
      "Decision rule:  outputs/rules/rule_29.py\n",
      "Decision rule:  outputs/rules/rule_30.py\n",
      "Decision rule:  outputs/rules/rule_31.py\n",
      "Decision rule:  outputs/rules/rule_32.py\n",
      "Decision rule:  outputs/rules/rule_33.py\n",
      "Decision rule:  outputs/rules/rule_34.py\n",
      "Decision rule:  outputs/rules/rule_35.py\n",
      "Decision rule:  outputs/rules/rule_36.py\n",
      "Decision rule:  outputs/rules/rule_37.py\n",
      "Decision rule:  outputs/rules/rule_38.py\n",
      "Decision rule:  outputs/rules/rule_39.py\n",
      "Decision rule:  outputs/rules/rule_40.py\n",
      "Decision rule:  outputs/rules/rule_41.py\n",
      "Decision rule:  outputs/rules/rule_42.py\n",
      "Decision rule:  outputs/rules/rule_43.py\n",
      "Decision rule:  outputs/rules/rule_44.py\n",
      "Decision rule:  outputs/rules/rule_45.py\n",
      "Decision rule:  outputs/rules/rule_46.py\n",
      "Decision rule:  outputs/rules/rule_47.py\n",
      "Decision rule:  outputs/rules/rule_48.py\n",
      "Decision rule:  outputs/rules/rule_49.py\n",
      "Decision rule:  outputs/rules/rule_50.py\n",
      "Decision rule:  outputs/rules/rule_51.py\n",
      "Decision rule:  outputs/rules/rule_52.py\n",
      "Decision rule:  outputs/rules/rule_53.py\n",
      "Decision rule:  outputs/rules/rule_54.py\n",
      "Decision rule:  outputs/rules/rule_55.py\n",
      "Decision rule:  outputs/rules/rule_56.py\n",
      "Decision rule:  outputs/rules/rule_57.py\n",
      "Decision rule:  outputs/rules/rule_58.py\n",
      "Decision rule:  outputs/rules/rule_59.py\n",
      "Decision rule:  outputs/rules/rule_60.py\n",
      "Decision rule:  outputs/rules/rule_61.py\n",
      "Decision rule:  outputs/rules/rule_62.py\n",
      "Decision rule:  outputs/rules/rule_63.py\n",
      "Decision rule:  outputs/rules/rule_64.py\n",
      "Decision rule:  outputs/rules/rule_65.py\n",
      "Decision rule:  outputs/rules/rule_66.py\n",
      "Decision rule:  outputs/rules/rule_67.py\n",
      "Decision rule:  outputs/rules/rule_68.py\n",
      "Decision rule:  outputs/rules/rule_69.py\n",
      "Decision rule:  outputs/rules/rule_70.py\n",
      "Decision rule:  outputs/rules/rule_71.py\n",
      "Decision rule:  outputs/rules/rule_72.py\n",
      "Decision rule:  outputs/rules/rule_73.py\n",
      "Decision rule:  outputs/rules/rule_74.py\n",
      "Decision rule:  outputs/rules/rule_75.py\n",
      "Decision rule:  outputs/rules/rule_76.py\n",
      "Decision rule:  outputs/rules/rule_77.py\n",
      "Decision rule:  outputs/rules/rule_78.py\n",
      "Decision rule:  outputs/rules/rule_79.py\n",
      "Decision rule:  outputs/rules/rule_80.py\n",
      "Decision rule:  outputs/rules/rule_81.py\n",
      "Decision rule:  outputs/rules/rule_82.py\n",
      "Decision rule:  outputs/rules/rule_83.py\n",
      "Decision rule:  outputs/rules/rule_84.py\n",
      "Decision rule:  outputs/rules/rule_85.py\n",
      "Decision rule:  outputs/rules/rule_86.py\n",
      "Decision rule:  outputs/rules/rule_87.py\n",
      "Decision rule:  outputs/rules/rule_88.py\n",
      "Decision rule:  outputs/rules/rule_89.py\n",
      "Decision rule:  outputs/rules/rule_90.py\n",
      "Decision rule:  outputs/rules/rule_91.py\n",
      "Decision rule:  outputs/rules/rule_92.py\n",
      "Decision rule:  outputs/rules/rule_93.py\n",
      "Decision rule:  outputs/rules/rule_94.py\n",
      "Decision rule:  outputs/rules/rule_95.py\n",
      "Decision rule:  outputs/rules/rule_96.py\n",
      "Decision rule:  outputs/rules/rule_97.py\n",
      "Decision rule:  outputs/rules/rule_98.py\n",
      "Decision rule:  outputs/rules/rule_99.py\n"
     ]
    }
   ],
   "source": [
    "fi1 = chef.feature_importance(\"outputs/rules/rule_0.py\").set_index('feature')\n",
    "for i in range(1, 100):\n",
    "    fi1 = fi1.join(chef.feature_importance(f\"outputs/rules/rule_{i}.py\").set_index('feature'), rsuffix=i)\n",
    "    #fi = pd.merge(fi, chef.feature_importance(f\"outputs/rules/rule_{i}.py\").set_index('feature'), left_index=True, right_index=True)\n",
    "    #fi  = pd.concat([fi, chef.feature_importance(f\"outputs/rules/rule_{i}.py\").set_index('feature')], axis=1)"
   ]
  },
  {
   "cell_type": "code",
   "execution_count": 96,
   "metadata": {},
   "outputs": [
    {
     "data": {
      "text/plain": [
       "(47, 100)"
      ]
     },
     "execution_count": 96,
     "metadata": {},
     "output_type": "execute_result"
    }
   ],
   "source": [
    "fi1.shape"
   ]
  },
  {
   "cell_type": "code",
   "execution_count": 97,
   "metadata": {},
   "outputs": [],
   "source": [
    "fi1.insert(100, \"std\", fi1.std(axis=1))\n",
    "fi1.insert(101, \"mean\", fi1.mean(axis=1))\n",
    "fi1.insert(102, \"min\", fi1.min(axis=1))\n",
    "fi1.insert(103, \"max\", fi1.max(axis=1))"
   ]
  },
  {
   "cell_type": "code",
   "execution_count": 98,
   "metadata": {},
   "outputs": [
    {
     "data": {
      "text/plain": [
       "(-0.32293229322932293, 2.1548154815481553)"
      ]
     },
     "execution_count": 98,
     "metadata": {},
     "output_type": "execute_result"
    }
   ],
   "source": [
    "fi1.min().min(), fi1.max().max()"
   ]
  },
  {
   "cell_type": "code",
   "execution_count": 99,
   "metadata": {
    "collapsed": true,
    "jupyter": {
     "outputs_hidden": true
    }
   },
   "outputs": [
    {
     "data": {
      "text/html": [
       "<div>\n",
       "<style scoped>\n",
       "    .dataframe tbody tr th:only-of-type {\n",
       "        vertical-align: middle;\n",
       "    }\n",
       "\n",
       "    .dataframe tbody tr th {\n",
       "        vertical-align: top;\n",
       "    }\n",
       "\n",
       "    .dataframe thead th {\n",
       "        text-align: right;\n",
       "    }\n",
       "</style>\n",
       "<table border=\"1\" class=\"dataframe\">\n",
       "  <thead>\n",
       "    <tr style=\"text-align: right;\">\n",
       "      <th></th>\n",
       "      <th>std</th>\n",
       "      <th>mean</th>\n",
       "      <th>min</th>\n",
       "      <th>max</th>\n",
       "    </tr>\n",
       "    <tr>\n",
       "      <th>feature</th>\n",
       "      <th></th>\n",
       "      <th></th>\n",
       "      <th></th>\n",
       "      <th></th>\n",
       "    </tr>\n",
       "  </thead>\n",
       "  <tbody>\n",
       "    <tr>\n",
       "      <th>CVE_ENT</th>\n",
       "      <td>0.263746</td>\n",
       "      <td>0.985840</td>\n",
       "      <td>0.263746</td>\n",
       "      <td>2.154815</td>\n",
       "    </tr>\n",
       "    <tr>\n",
       "      <th>EDAD</th>\n",
       "      <td>0.028871</td>\n",
       "      <td>0.019979</td>\n",
       "      <td>-0.072293</td>\n",
       "      <td>0.089200</td>\n",
       "    </tr>\n",
       "    <tr>\n",
       "      <th>P9_7</th>\n",
       "      <td>0.007791</td>\n",
       "      <td>0.002451</td>\n",
       "      <td>0.000000</td>\n",
       "      <td>0.048295</td>\n",
       "    </tr>\n",
       "    <tr>\n",
       "      <th>LENG_ESPAÑOL</th>\n",
       "      <td>0.000000</td>\n",
       "      <td>0.000000</td>\n",
       "      <td>0.000000</td>\n",
       "      <td>0.000000</td>\n",
       "    </tr>\n",
       "    <tr>\n",
       "      <th>RES_MADRE</th>\n",
       "      <td>0.008369</td>\n",
       "      <td>0.001550</td>\n",
       "      <td>0.000000</td>\n",
       "      <td>0.070993</td>\n",
       "    </tr>\n",
       "    <tr>\n",
       "      <th>RES_PADRE</th>\n",
       "      <td>0.009924</td>\n",
       "      <td>0.000290</td>\n",
       "      <td>-0.062906</td>\n",
       "      <td>0.032400</td>\n",
       "    </tr>\n",
       "    <tr>\n",
       "      <th>ESCOLARIDAD</th>\n",
       "      <td>0.021002</td>\n",
       "      <td>0.007729</td>\n",
       "      <td>-0.125813</td>\n",
       "      <td>0.053905</td>\n",
       "    </tr>\n",
       "    <tr>\n",
       "      <th>GRA</th>\n",
       "      <td>0.016411</td>\n",
       "      <td>0.002668</td>\n",
       "      <td>-0.078608</td>\n",
       "      <td>0.047700</td>\n",
       "    </tr>\n",
       "    <tr>\n",
       "      <th>ALFABETISMO</th>\n",
       "      <td>0.000000</td>\n",
       "      <td>0.000000</td>\n",
       "      <td>0.000000</td>\n",
       "      <td>0.000000</td>\n",
       "    </tr>\n",
       "    <tr>\n",
       "      <th>ASISTENCIA_ESC</th>\n",
       "      <td>0.000000</td>\n",
       "      <td>0.000000</td>\n",
       "      <td>0.000000</td>\n",
       "      <td>0.000000</td>\n",
       "    </tr>\n",
       "    <tr>\n",
       "      <th>PERT_INDIGENA</th>\n",
       "      <td>0.003936</td>\n",
       "      <td>0.000699</td>\n",
       "      <td>0.000000</td>\n",
       "      <td>0.030100</td>\n",
       "    </tr>\n",
       "    <tr>\n",
       "      <th>LENG_INDIGENA</th>\n",
       "      <td>0.000000</td>\n",
       "      <td>0.000000</td>\n",
       "      <td>0.000000</td>\n",
       "      <td>0.000000</td>\n",
       "    </tr>\n",
       "    <tr>\n",
       "      <th>TRABAJO</th>\n",
       "      <td>0.000000</td>\n",
       "      <td>0.000000</td>\n",
       "      <td>0.000000</td>\n",
       "      <td>0.000000</td>\n",
       "    </tr>\n",
       "    <tr>\n",
       "      <th>P9_6</th>\n",
       "      <td>0.010042</td>\n",
       "      <td>0.002830</td>\n",
       "      <td>0.000000</td>\n",
       "      <td>0.066800</td>\n",
       "    </tr>\n",
       "    <tr>\n",
       "      <th>PAREN</th>\n",
       "      <td>0.014039</td>\n",
       "      <td>0.002753</td>\n",
       "      <td>-0.056794</td>\n",
       "      <td>0.049295</td>\n",
       "    </tr>\n",
       "    <tr>\n",
       "      <th>P2_15</th>\n",
       "      <td>0.006513</td>\n",
       "      <td>0.002000</td>\n",
       "      <td>0.000000</td>\n",
       "      <td>0.030800</td>\n",
       "    </tr>\n",
       "    <tr>\n",
       "      <th>P9_1</th>\n",
       "      <td>0.017778</td>\n",
       "      <td>0.002912</td>\n",
       "      <td>-0.113689</td>\n",
       "      <td>0.053411</td>\n",
       "    </tr>\n",
       "    <tr>\n",
       "      <th>P9_3</th>\n",
       "      <td>0.003988</td>\n",
       "      <td>0.000036</td>\n",
       "      <td>-0.028206</td>\n",
       "      <td>0.027903</td>\n",
       "    </tr>\n",
       "    <tr>\n",
       "      <th>NACIO_VIV</th>\n",
       "      <td>0.010530</td>\n",
       "      <td>0.002002</td>\n",
       "      <td>-0.028206</td>\n",
       "      <td>0.062906</td>\n",
       "    </tr>\n",
       "    <tr>\n",
       "      <th>NACIO_MUERT</th>\n",
       "      <td>0.000000</td>\n",
       "      <td>0.000000</td>\n",
       "      <td>0.000000</td>\n",
       "      <td>0.000000</td>\n",
       "    </tr>\n",
       "    <tr>\n",
       "      <th>ABORTO</th>\n",
       "      <td>0.000000</td>\n",
       "      <td>0.000000</td>\n",
       "      <td>0.000000</td>\n",
       "      <td>0.000000</td>\n",
       "    </tr>\n",
       "    <tr>\n",
       "      <th>P9_5</th>\n",
       "      <td>0.018520</td>\n",
       "      <td>0.008905</td>\n",
       "      <td>-0.030197</td>\n",
       "      <td>0.070800</td>\n",
       "    </tr>\n",
       "    <tr>\n",
       "      <th>P2_14</th>\n",
       "      <td>0.008575</td>\n",
       "      <td>0.002385</td>\n",
       "      <td>0.000000</td>\n",
       "      <td>0.051995</td>\n",
       "    </tr>\n",
       "    <tr>\n",
       "      <th>P1_10_4</th>\n",
       "      <td>0.000000</td>\n",
       "      <td>0.000000</td>\n",
       "      <td>0.000000</td>\n",
       "      <td>0.000000</td>\n",
       "    </tr>\n",
       "    <tr>\n",
       "      <th>DOMINIO</th>\n",
       "      <td>0.069262</td>\n",
       "      <td>-0.015342</td>\n",
       "      <td>-0.322932</td>\n",
       "      <td>0.069262</td>\n",
       "    </tr>\n",
       "    <tr>\n",
       "      <th>P1_4_5</th>\n",
       "      <td>0.004675</td>\n",
       "      <td>-0.000611</td>\n",
       "      <td>-0.034303</td>\n",
       "      <td>0.004675</td>\n",
       "    </tr>\n",
       "    <tr>\n",
       "      <th>T_INSTRUM</th>\n",
       "      <td>0.032592</td>\n",
       "      <td>-0.005195</td>\n",
       "      <td>-0.258326</td>\n",
       "      <td>0.036700</td>\n",
       "    </tr>\n",
       "    <tr>\n",
       "      <th>PISOS</th>\n",
       "      <td>0.023725</td>\n",
       "      <td>-0.004923</td>\n",
       "      <td>-0.128226</td>\n",
       "      <td>0.031700</td>\n",
       "    </tr>\n",
       "    <tr>\n",
       "      <th>P1_2</th>\n",
       "      <td>0.028242</td>\n",
       "      <td>-0.006727</td>\n",
       "      <td>-0.154115</td>\n",
       "      <td>0.028242</td>\n",
       "    </tr>\n",
       "    <tr>\n",
       "      <th>P1_2_A</th>\n",
       "      <td>0.031945</td>\n",
       "      <td>-0.004456</td>\n",
       "      <td>-0.193819</td>\n",
       "      <td>0.049995</td>\n",
       "    </tr>\n",
       "    <tr>\n",
       "      <th>FOCOS</th>\n",
       "      <td>0.028427</td>\n",
       "      <td>-0.004987</td>\n",
       "      <td>-0.137014</td>\n",
       "      <td>0.031100</td>\n",
       "    </tr>\n",
       "    <tr>\n",
       "      <th>P1_4_1</th>\n",
       "      <td>0.010861</td>\n",
       "      <td>-0.001281</td>\n",
       "      <td>-0.068507</td>\n",
       "      <td>0.028800</td>\n",
       "    </tr>\n",
       "    <tr>\n",
       "      <th>P1_4_2</th>\n",
       "      <td>0.003530</td>\n",
       "      <td>0.000384</td>\n",
       "      <td>0.000000</td>\n",
       "      <td>0.035300</td>\n",
       "    </tr>\n",
       "    <tr>\n",
       "      <th>P1_4_3</th>\n",
       "      <td>0.006620</td>\n",
       "      <td>-0.000947</td>\n",
       "      <td>-0.034493</td>\n",
       "      <td>0.022702</td>\n",
       "    </tr>\n",
       "    <tr>\n",
       "      <th>P1_4_4</th>\n",
       "      <td>0.012073</td>\n",
       "      <td>-0.002104</td>\n",
       "      <td>-0.091791</td>\n",
       "      <td>0.012073</td>\n",
       "    </tr>\n",
       "    <tr>\n",
       "      <th>P1_4_6</th>\n",
       "      <td>0.006977</td>\n",
       "      <td>-0.000316</td>\n",
       "      <td>-0.064606</td>\n",
       "      <td>0.025703</td>\n",
       "    </tr>\n",
       "    <tr>\n",
       "      <th>P1_10_3</th>\n",
       "      <td>0.000000</td>\n",
       "      <td>0.000000</td>\n",
       "      <td>0.000000</td>\n",
       "      <td>0.000000</td>\n",
       "    </tr>\n",
       "    <tr>\n",
       "      <th>P1_4_7</th>\n",
       "      <td>0.012634</td>\n",
       "      <td>-0.001829</td>\n",
       "      <td>-0.103479</td>\n",
       "      <td>0.035500</td>\n",
       "    </tr>\n",
       "    <tr>\n",
       "      <th>P1_4_8</th>\n",
       "      <td>0.004631</td>\n",
       "      <td>-0.000542</td>\n",
       "      <td>-0.034303</td>\n",
       "      <td>0.005699</td>\n",
       "    </tr>\n",
       "    <tr>\n",
       "      <th>P1_4_9</th>\n",
       "      <td>0.007181</td>\n",
       "      <td>0.000782</td>\n",
       "      <td>0.000000</td>\n",
       "      <td>0.071807</td>\n",
       "    </tr>\n",
       "    <tr>\n",
       "      <th>AGUA</th>\n",
       "      <td>0.010241</td>\n",
       "      <td>0.001811</td>\n",
       "      <td>-0.061506</td>\n",
       "      <td>0.048405</td>\n",
       "    </tr>\n",
       "    <tr>\n",
       "      <th>DRENAJE</th>\n",
       "      <td>0.007685</td>\n",
       "      <td>-0.001037</td>\n",
       "      <td>-0.045895</td>\n",
       "      <td>0.016800</td>\n",
       "    </tr>\n",
       "    <tr>\n",
       "      <th>P1_7</th>\n",
       "      <td>0.014882</td>\n",
       "      <td>0.000599</td>\n",
       "      <td>-0.084517</td>\n",
       "      <td>0.030403</td>\n",
       "    </tr>\n",
       "    <tr>\n",
       "      <th>P1_9</th>\n",
       "      <td>0.006291</td>\n",
       "      <td>-0.000561</td>\n",
       "      <td>-0.062906</td>\n",
       "      <td>0.006291</td>\n",
       "    </tr>\n",
       "    <tr>\n",
       "      <th>P1_10_1</th>\n",
       "      <td>0.000000</td>\n",
       "      <td>0.000000</td>\n",
       "      <td>0.000000</td>\n",
       "      <td>0.000000</td>\n",
       "    </tr>\n",
       "    <tr>\n",
       "      <th>P1_10_2</th>\n",
       "      <td>0.000000</td>\n",
       "      <td>0.000000</td>\n",
       "      <td>0.000000</td>\n",
       "      <td>0.000000</td>\n",
       "    </tr>\n",
       "    <tr>\n",
       "      <th>P9_8_11</th>\n",
       "      <td>0.000000</td>\n",
       "      <td>0.000000</td>\n",
       "      <td>0.000000</td>\n",
       "      <td>0.000000</td>\n",
       "    </tr>\n",
       "  </tbody>\n",
       "</table>\n",
       "</div>"
      ],
      "text/plain": [
       "                     std      mean       min       max\n",
       "feature                                               \n",
       "CVE_ENT         0.263746  0.985840  0.263746  2.154815\n",
       "EDAD            0.028871  0.019979 -0.072293  0.089200\n",
       "P9_7            0.007791  0.002451  0.000000  0.048295\n",
       "LENG_ESPAÑOL    0.000000  0.000000  0.000000  0.000000\n",
       "RES_MADRE       0.008369  0.001550  0.000000  0.070993\n",
       "RES_PADRE       0.009924  0.000290 -0.062906  0.032400\n",
       "ESCOLARIDAD     0.021002  0.007729 -0.125813  0.053905\n",
       "GRA             0.016411  0.002668 -0.078608  0.047700\n",
       "ALFABETISMO     0.000000  0.000000  0.000000  0.000000\n",
       "ASISTENCIA_ESC  0.000000  0.000000  0.000000  0.000000\n",
       "PERT_INDIGENA   0.003936  0.000699  0.000000  0.030100\n",
       "LENG_INDIGENA   0.000000  0.000000  0.000000  0.000000\n",
       "TRABAJO         0.000000  0.000000  0.000000  0.000000\n",
       "P9_6            0.010042  0.002830  0.000000  0.066800\n",
       "PAREN           0.014039  0.002753 -0.056794  0.049295\n",
       "P2_15           0.006513  0.002000  0.000000  0.030800\n",
       "P9_1            0.017778  0.002912 -0.113689  0.053411\n",
       "P9_3            0.003988  0.000036 -0.028206  0.027903\n",
       "NACIO_VIV       0.010530  0.002002 -0.028206  0.062906\n",
       "NACIO_MUERT     0.000000  0.000000  0.000000  0.000000\n",
       "ABORTO          0.000000  0.000000  0.000000  0.000000\n",
       "P9_5            0.018520  0.008905 -0.030197  0.070800\n",
       "P2_14           0.008575  0.002385  0.000000  0.051995\n",
       "P1_10_4         0.000000  0.000000  0.000000  0.000000\n",
       "DOMINIO         0.069262 -0.015342 -0.322932  0.069262\n",
       "P1_4_5          0.004675 -0.000611 -0.034303  0.004675\n",
       "T_INSTRUM       0.032592 -0.005195 -0.258326  0.036700\n",
       "PISOS           0.023725 -0.004923 -0.128226  0.031700\n",
       "P1_2            0.028242 -0.006727 -0.154115  0.028242\n",
       "P1_2_A          0.031945 -0.004456 -0.193819  0.049995\n",
       "FOCOS           0.028427 -0.004987 -0.137014  0.031100\n",
       "P1_4_1          0.010861 -0.001281 -0.068507  0.028800\n",
       "P1_4_2          0.003530  0.000384  0.000000  0.035300\n",
       "P1_4_3          0.006620 -0.000947 -0.034493  0.022702\n",
       "P1_4_4          0.012073 -0.002104 -0.091791  0.012073\n",
       "P1_4_6          0.006977 -0.000316 -0.064606  0.025703\n",
       "P1_10_3         0.000000  0.000000  0.000000  0.000000\n",
       "P1_4_7          0.012634 -0.001829 -0.103479  0.035500\n",
       "P1_4_8          0.004631 -0.000542 -0.034303  0.005699\n",
       "P1_4_9          0.007181  0.000782  0.000000  0.071807\n",
       "AGUA            0.010241  0.001811 -0.061506  0.048405\n",
       "DRENAJE         0.007685 -0.001037 -0.045895  0.016800\n",
       "P1_7            0.014882  0.000599 -0.084517  0.030403\n",
       "P1_9            0.006291 -0.000561 -0.062906  0.006291\n",
       "P1_10_1         0.000000  0.000000  0.000000  0.000000\n",
       "P1_10_2         0.000000  0.000000  0.000000  0.000000\n",
       "P9_8_11         0.000000  0.000000  0.000000  0.000000"
      ]
     },
     "execution_count": 99,
     "metadata": {},
     "output_type": "execute_result"
    }
   ],
   "source": [
    "fi1[['std', 'mean', 'min', 'max']]"
   ]
  },
  {
   "cell_type": "code",
   "execution_count": 100,
   "metadata": {},
   "outputs": [
    {
     "data": {
      "text/plain": [
       "<matplotlib.axes._subplots.AxesSubplot at 0x7f50f7132f98>"
      ]
     },
     "execution_count": 100,
     "metadata": {},
     "output_type": "execute_result"
    },
    {
     "data": {
      "image/png": "[encoded data removed]",
      "text/plain": [
       "<Figure size 1080x360 with 1 Axes>"
      ]
     },
     "metadata": {
      "needs_background": "light"
     },
     "output_type": "display_data"
    }
   ],
   "source": [
    "fi1['mean'].plot.bar(title=\"Feature Importance\", figsize=(15,5), yerr=fi1['std'])"
   ]
  },
  {
   "cell_type": "markdown",
   "metadata": {},
   "source": [
    "### CART"
   ]
  },
  {
   "cell_type": "code",
   "execution_count": 29,
   "metadata": {},
   "outputs": [
    {
     "name": "stdout",
     "output_type": "stream",
     "text": [
      "[INFO]:  -1 CPU cores will be allocated in parallel running\n",
      "CART  tree is going to be built...\n",
      "-------------------------\n",
      "finished in  1886.338250875473  seconds\n",
      "-------------------------\n",
      "Evaluate  train set\n",
      "-------------------------\n",
      "Accuracy:  100.0 % on  15121  instances\n",
      "Labels:  ['No' 'Si']\n",
      "Confusion matrix:  [[9991, 0], [0, 5130]]\n",
      "Precision:  100.0 %, Recall:  100.0 %, F1:  100.0 %\n",
      "\n",
      "\n",
      "CPU times: user 31min 19s, sys: 7.39 s, total: 31min 26s\n",
      "Wall time: 31min 27s\n"
     ]
    }
   ],
   "source": [
    "config = {'algorithm':'CART', 'enableParallelism':True, 'num_cores': -1, 'max_depth': 6}\n",
    "%time model = chef.fit(X_train, config = config, target_label = 'P9_8');print('\\n')"
   ]
  },
  {
   "cell_type": "code",
   "execution_count": 30,
   "metadata": {},
   "outputs": [
    {
     "name": "stdout",
     "output_type": "stream",
     "text": [
      "-------------------------\n",
      "Evaluate  test set\n",
      "-------------------------\n",
      "Accuracy:  56.17561491668871 % on  3781  instances\n",
      "Labels:  ['No' 'Si']\n",
      "Confusion matrix:  [[1625, 784], [873, 499]]\n",
      "Precision:  67.4554 %, Recall:  65.052 %, F1:  66.2319 %\n"
     ]
    }
   ],
   "source": [
    "chef.evaluate(model, X_test, target_label='P9_8', task=\"test\")"
   ]
  },
  {
   "cell_type": "raw",
   "metadata": {},
   "source": [
    "from sklearn.metrics import precision_recall_fscore_support\n",
    "#y_true = X_test['P9_8'].copy()\n",
    "#X_test.drop(columns=['P9_8'], inplace=True)\n",
    "y_pred = []\n",
    "for i in X_test.index:\n",
    "    y_pred.append(chef.predict(model, X_test.loc[i,:]))\n",
    "precision_recall_fscore_support(y_true, y_pred)"
   ]
  },
  {
   "cell_type": "markdown",
   "metadata": {},
   "source": [
    "### Feature importance"
   ]
  },
  {
   "cell_type": "code",
   "execution_count": 31,
   "metadata": {},
   "outputs": [
    {
     "name": "stdout",
     "output_type": "stream",
     "text": [
      "Decision rule:  outputs/rules/rules.py\n"
     ]
    },
    {
     "data": {
      "text/plain": [
       "<matplotlib.axes._subplots.AxesSubplot at 0x7fc8172ae128>"
      ]
     },
     "execution_count": 31,
     "metadata": {},
     "output_type": "execute_result"
    },
    {
     "data": {
      "image/png": "[encoded data removed]",
      "text/plain": [
       "<Figure size 1080x360 with 1 Axes>"
      ]
     },
     "metadata": {
      "needs_background": "light"
     },
     "output_type": "display_data"
    }
   ],
   "source": [
    "fi = chef.feature_importance(\"outputs/rules/rules.py\")\n",
    "fi.set_index('feature').plot.bar(title=\"Feature Importance\", figsize=(15,5))"
   ]
  },
  {
   "cell_type": "code",
   "execution_count": 144,
   "metadata": {},
   "outputs": [],
   "source": [
    "indice = list(X_train.index) #obtengo lista de indices\n",
    "a = X_train.P9_8.eq('Si').idxmax() #obtengo el indice de la primera coincidencia en Si\n",
    "b = indice[0] #el primer indice de la lista\n",
    "indice.pop(indice.index(a)) #eliminar de 'a' la lista de indices de la primera coincidencia de Si\n",
    "indice.insert(0, a) #insertar en el indice 0 el indice 'a'\n",
    "X_train = X_train.reindex(indice) #reindizar el dataset "
   ]
  },
  {
   "cell_type": "code",
   "execution_count": 148,
   "metadata": {},
   "outputs": [],
   "source": [
    "def asegurarPrimerSi(X_train):\n",
    "    indice = list(X_train.index) #obtengo lista de indices\n",
    "    a = X_train.P9_8.eq('Si').idxmax() #obtengo el indice de la primera coincidencia en Si\n",
    "    b = indice[0] #el primer indice de la lista\n",
    "    indice.pop(indice.index(a)) #eliminar de 'a' la lista de indices de la primera coincidencia de Si\n",
    "    indice.insert(0, a) #insertar en el indice 0 el indice 'a'\n",
    "    return X_train.reindex(indice) #reindizar el dataset "
   ]
  },
  {
   "cell_type": "code",
   "execution_count": 151,
   "metadata": {},
   "outputs": [],
   "source": [
    "X_test = asegurarPrimerSi(X_test)"
   ]
  },
  {
   "cell_type": "code",
   "execution_count": 152,
   "metadata": {},
   "outputs": [
    {
     "data": {
      "text/plain": [
       "(      CVE_ENT DOMINIO T_INSTRUM PISOS  P1_2  P1_2_A  FOCOS P1_4_1 P1_4_2  \\\n",
       " 6377       11     1.0       0.0     2     2       4      5      0      1   \n",
       " 10119      18     2.0       0.0     3     2       4      3      1      1   \n",
       " 1558        3     0.0       0.0     2     1       2      5      0      1   \n",
       " 4743        8     1.0       0.0     2     1       4      3      0      1   \n",
       " 6829       12     1.0       0.0     2     1       3      3      1      1   \n",
       " ...       ...     ...       ...   ...   ...     ...    ...    ...    ...   \n",
       " 6162       11     0.0       0.0     2     2       3      3      0      1   \n",
       " 4602        8     2.0       0.0     3     2       6     10      1      1   \n",
       " 984         2     0.0       0.0     2     1       2      3      1      1   \n",
       " 1781        4     2.0       0.0     3     2       4      7      1      1   \n",
       " 8501       15     2.0       5.0     2     2       2      2      0      1   \n",
       " \n",
       "       P1_4_3  ... P9_1 P9_3 NACIO_VIV NACIO_MUERT ABORTO P9_5 P9_6 P9_7  \\\n",
       " 6377       0  ...    1  2.0       2.0         0.0    0.0    2  3.0  2.0   \n",
       " 10119      0  ...    9  1.0       1.0         0.0    0.0    5  3.0  1.0   \n",
       " 1558       0  ...    5  1.0       1.0         0.0    0.0    2  5.0  2.0   \n",
       " 4743       0  ...    6  2.0       2.0         0.0    0.0    1  6.0  5.0   \n",
       " 6829       0  ...    6  1.0       1.0         0.0    0.0    1  2.0  5.0   \n",
       " ...      ...  ...  ...  ...       ...         ...    ...  ...  ...  ...   \n",
       " 6162       0  ...    6  1.0       4.0         0.0    0.0    1  3.0  5.0   \n",
       " 4602       1  ...    1  1.0       1.0         0.0    0.0    2  1.0  2.0   \n",
       " 984        0  ...    1  2.0       1.0         0.0    1.0    2  1.0  2.0   \n",
       " 1781       0  ...    6  2.0       2.0         0.0    0.0    1  6.0  5.0   \n",
       " 8501       0  ...    9  1.0       1.0         0.0    0.0    5  3.0  5.0   \n",
       " \n",
       "        P9_8_11 P9_8  \n",
       " 6377       0.0   Si  \n",
       " 10119      1.0   No  \n",
       " 1558       1.0   No  \n",
       " 4743       0.0   No  \n",
       " 6829       0.0   No  \n",
       " ...        ...  ...  \n",
       " 6162       1.0   Si  \n",
       " 4602       0.0   Si  \n",
       " 984        0.0   No  \n",
       " 1781       1.0   Si  \n",
       " 8501       0.0   No  \n",
       " \n",
       " [15121 rows x 48 columns],\n",
       "       CVE_ENT DOMINIO T_INSTRUM PISOS  P1_2  P1_2_A  FOCOS P1_4_1 P1_4_2  \\\n",
       " 14439      25     0.0       2.0     2     1       3      7      1      1   \n",
       " 11334      20     1.0       0.0     2     2       4      5      0      1   \n",
       " 7581       13     1.0       0.0     3     2       4     10      1      1   \n",
       " 6478       11     1.0       0.0     2     2       2      3      1      1   \n",
       " 18673      32     1.0       0.0     2     1       2      2      1      1   \n",
       " ...       ...     ...       ...   ...   ...     ...    ...    ...    ...   \n",
       " 7346       13     0.0       0.0     3     3       5     10      1      1   \n",
       " 17912      31     0.0       0.0     3     3       4      7      1      1   \n",
       " 18889      32     1.0       1.0     2     3       4      6      1      1   \n",
       " 7976       14     0.0       0.0     3     2       2      4      0      1   \n",
       " 13900      24     1.0       0.0     2     3       5      7      1      1   \n",
       " \n",
       "       P1_4_3  ... P9_1 P9_3 NACIO_VIV NACIO_MUERT ABORTO P9_5 P9_6 P9_7  \\\n",
       " 14439      0  ...    6  1.0       1.0         0.0    1.0    1  2.0  5.0   \n",
       " 11334      0  ...    6  2.0       2.0         0.0    0.0    1  5.0  1.0   \n",
       " 7581       0  ...    6  1.0       1.0         0.0    0.0    1  1.0  5.0   \n",
       " 6478       0  ...    6  1.0       1.0         0.0    0.0    1  4.0  5.0   \n",
       " 18673      0  ...    6  2.0       2.0         0.0    0.0    1  6.0  5.0   \n",
       " ...      ...  ...  ...  ...       ...         ...    ...  ...  ...  ...   \n",
       " 7346       1  ...    6  1.0       1.0         0.0    0.0    1  5.0  5.0   \n",
       " 17912      0  ...    1  1.0       1.0         0.0    0.0    1  1.0  1.0   \n",
       " 18889      0  ...    6  1.0       1.0         0.0    0.0    1  3.0  1.0   \n",
       " 7976       0  ...    6  1.0       1.0         0.0    0.0    1  1.0  1.0   \n",
       " 13900      0  ...    6  1.0       1.0         0.0    0.0    1  5.0  5.0   \n",
       " \n",
       "        P9_8_11 P9_8  \n",
       " 14439      1.0   Si  \n",
       " 11334      0.0   No  \n",
       " 7581       1.0   No  \n",
       " 6478       0.0   No  \n",
       " 18673      0.0   No  \n",
       " ...        ...  ...  \n",
       " 7346       1.0   No  \n",
       " 17912      0.0   No  \n",
       " 18889      0.0   Si  \n",
       " 7976       0.0   Si  \n",
       " 13900      0.0   No  \n",
       " \n",
       " [3781 rows x 48 columns])"
      ]
     },
     "execution_count": 152,
     "metadata": {},
     "output_type": "execute_result"
    }
   ],
   "source": [
    "X_train, X_test"
   ]
  },
  {
   "cell_type": "code",
   "execution_count": null,
   "metadata": {},
   "outputs": [],
   "source": []
  }
 ],
 "metadata": {
  "kernelspec": {
   "display_name": "Python 3",
   "language": "python",
   "name": "python3"
  },
  "language_info": {
   "codemirror_mode": {
    "name": "ipython",
    "version": 3
   },
   "file_extension": ".py",
   "mimetype": "text/x-python",
   "name": "python",
   "nbconvert_exporter": "python",
   "pygments_lexer": "ipython3",
   "version": "3.6.9"
  }
 },
 "nbformat": 4,
 "nbformat_minor": 4
}
