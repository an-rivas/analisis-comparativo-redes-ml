{
 "cells": [
  {
   "cell_type": "markdown",
   "metadata": {},
   "source": [
    "1. Agregar más parámetros a la búsqueda.\n",
    "2. Devolver los params de grid_search para tener el reporte."
   ]
  },
  {
   "cell_type": "code",
   "execution_count": 1,
   "metadata": {},
   "outputs": [],
   "source": [
    "# Custom functions\n",
    "# ==============================================================================\n",
    "from funciones import CargarPandasDatasetCategoricos\n",
    "\n",
    "# Tratamiento de datos\n",
    "# ==============================================================================\n",
    "import numpy as np\n",
    "import pandas as pd\n",
    "import pprint\n",
    "import time\n",
    "\n",
    "# Gráficos\n",
    "# ==============================================================================\n",
    "import matplotlib.pyplot as plt\n",
    "from sklearn import tree #La versión que tengo es 0.24.1 y está disponible apartir de la 0.21\n",
    "\n",
    "# Preprocesado y modelado\n",
    "# ==============================================================================\n",
    "from chefboost import Chefboost as chef\n",
    "from sklearn.model_selection import train_test_split\n",
    "\n",
    "# Configuración warnings\n",
    "# ==============================================================================\n",
    "import warnings\n",
    "warnings.filterwarnings('ignore')"
   ]
  },
  {
   "cell_type": "code",
   "execution_count": 2,
   "metadata": {},
   "outputs": [],
   "source": [
    "def guardarImportanciasBestGBM(config, X_train, X_test, target_label, ruta_archivo):\n",
    "    #entreno el modelo\n",
    "    model = chef.fit(X_train, config = config, target_label = target_label)\n",
    "    \n",
    "    #evaluar el modelo\n",
    "    if type(X_test) == list:\n",
    "        for test in X_test:\n",
    "            chef.evaluate(model, test, target_label='P9_8', task=\"test\")\n",
    "    else:\n",
    "        chef.evaluate(model, X_test, target_label='P9_8', task=\"test\")\n",
    "    \n",
    "    #obtener los feature importance desde los archivos de salida\n",
    "    fi = chef.feature_importance(\"outputs/rules/rules-for-No-round-0.py\").set_index('feature')\n",
    "    for i in range(1,config['epochs']):\n",
    "        fi = fi.join(chef.feature_importance(f\"outputs/rules/rules-for-Si-round-{i}.py\").set_index('feature'), rsuffix=str(i))\n",
    "    \n",
    "    #Crear el dataset\n",
    "    fi.insert(10, \"std\", fi.std(axis=1)) #desviacion estandar\n",
    "    fi.insert(11, \"mean\", fi.mean(axis=1)) #media\n",
    "    fi.insert(12, \"min\", fi.min(axis=1)) #valor minimo\n",
    "    fi.insert(13, \"max\", fi.max(axis=1)) #valor maximo\n",
    "    \n",
    "    #guardo el dataset\n",
    "    fi.to_csv(ruta_archivo)"
   ]
  },
  {
   "cell_type": "code",
   "execution_count": 3,
   "metadata": {},
   "outputs": [],
   "source": [
    "def asegurarPrimerSi(df, value='Si'):\n",
    "    indice = list(df.index) #obtengo lista de indices\n",
    "    a = df.P9_8.eq(value).idxmax() #obtengo el indice de la primera coincidencia en Si\n",
    "    b = indice[0] #el primer indice de la lista\n",
    "    indice.pop(indice.index(a)) #eliminar de 'a' la lista de indices\n",
    "    indice.insert(0, a) #insertar al inicio de la lista el indice 'a'\n",
    "    return df.reindex(indice) #reindizar el dataset "
   ]
  },
  {
   "cell_type": "markdown",
   "metadata": {},
   "source": [
    "## Cargar datos"
   ]
  },
  {
   "cell_type": "code",
   "execution_count": 4,
   "metadata": {},
   "outputs": [],
   "source": [
    "endireh = CargarPandasDatasetCategoricos('datasets/endireh.csv')"
   ]
  },
  {
   "cell_type": "code",
   "execution_count": 5,
   "metadata": {},
   "outputs": [
    {
     "data": {
      "text/plain": [
       "Index(['CVE_ENT', 'REGION', 'DOMINIO', 'T_INSTRUM', 'PISOS', 'P1_2', 'P1_2_A',\n",
       "       'FOCOS', 'P1_4_1', 'P1_4_2', 'P1_4_3', 'P1_4_4', 'P1_4_5', 'P1_4_6',\n",
       "       'P1_4_7', 'P1_4_8', 'P1_4_9', 'AGUA', 'DRENAJE', 'P1_7', 'P1_9',\n",
       "       'P1_10_1', 'P1_10_2', 'P1_10_3', 'P1_10_4', 'PAREN', 'EDAD',\n",
       "       'RES_MADRE', 'RES_PADRE', 'ESCOLARIDAD', 'GRA', 'ALFABETISMO',\n",
       "       'ASISTENCIA_ESC', 'PERT_INDIGENA', 'LENG_INDIGENA', 'LENG_ESPAÑOL',\n",
       "       'TRABAJO', 'P2_14', 'P2_15', 'P9_1', 'P9_3', 'NACIO_VIV', 'NACIO_MUERT',\n",
       "       'ABORTO', 'P9_5', 'P9_6', 'P9_7', 'P9_8_11', 'P9_8'],\n",
       "      dtype='object')"
      ]
     },
     "execution_count": 5,
     "metadata": {},
     "output_type": "execute_result"
    }
   ],
   "source": [
    "endireh.columns"
   ]
  },
  {
   "cell_type": "code",
   "execution_count": 6,
   "metadata": {},
   "outputs": [
    {
     "data": {
      "text/plain": [
       "(18902, 49)"
      ]
     },
     "execution_count": 6,
     "metadata": {},
     "output_type": "execute_result"
    }
   ],
   "source": [
    "endireh.shape"
   ]
  },
  {
   "cell_type": "markdown",
   "metadata": {},
   "source": [
    "## Preprocesamiento"
   ]
  },
  {
   "cell_type": "markdown",
   "metadata": {},
   "source": [
    "### Cada tipo de violencia y 'ambos' sean 1."
   ]
  },
  {
   "cell_type": "code",
   "execution_count": 7,
   "metadata": {},
   "outputs": [],
   "source": [
    "endireh.loc[endireh[\"P9_8\"]>0, \"P9_8\"] = 1"
   ]
  },
  {
   "cell_type": "code",
   "execution_count": 8,
   "metadata": {},
   "outputs": [
    {
     "name": "stdout",
     "output_type": "stream",
     "text": [
      "Ninguno(0):\t66%\n",
      "Ambos(1):\t34%\n"
     ]
    },
    {
     "data": {
      "text/plain": [
       "<matplotlib.axes._subplots.AxesSubplot at 0x7ff7c1b17860>"
      ]
     },
     "execution_count": 8,
     "metadata": {},
     "output_type": "execute_result"
    },
    {
     "data": {
      "image/png": "[encoded data removed]",
      "text/plain": [
       "<Figure size 432x288 with 1 Axes>"
      ]
     },
     "metadata": {
      "needs_background": "light"
     },
     "output_type": "display_data"
    }
   ],
   "source": [
    "for i,j in zip(['Ninguno(0)', 'Ambos(1)'], endireh[\"P9_8\"].value_counts()/endireh[\"P9_8\"].value_counts().sum()):\n",
    "    print(f'{i}:\\t{round(j*100)}%')\n",
    "endireh[\"P9_8\"].value_counts().plot(kind='bar')"
   ]
  },
  {
   "cell_type": "markdown",
   "metadata": {},
   "source": [
    "## Volverlos categóricos en lugar de numéricos"
   ]
  },
  {
   "cell_type": "code",
   "execution_count": 9,
   "metadata": {},
   "outputs": [],
   "source": [
    "endireh.loc[endireh[\"P9_8\"]==0, \"P9_8\"] = 'No'\n",
    "endireh.loc[endireh[\"P9_8\"]==1, \"P9_8\"] = 'Si'"
   ]
  },
  {
   "cell_type": "markdown",
   "metadata": {},
   "source": [
    "Al ser el análisis nacional borramos la variable _REGION_ que no pertenece a este estudio en particular y Elimino _y_ del dataset."
   ]
  },
  {
   "cell_type": "code",
   "execution_count": 10,
   "metadata": {},
   "outputs": [],
   "source": [
    "endireh_ent = endireh.drop(columns=['REGION'], inplace=False)"
   ]
  },
  {
   "cell_type": "code",
   "execution_count": 11,
   "metadata": {},
   "outputs": [],
   "source": [
    "config = {'enableGBM': True, 'enableParallelism':True, 'epochs': 10, 'num_cores': -1, 'max_depth': 6}"
   ]
  },
  {
   "cell_type": "markdown",
   "metadata": {},
   "source": [
    "## Encontrar los mejores parámetros para nacional"
   ]
  },
  {
   "cell_type": "markdown",
   "metadata": {},
   "source": [
    "### Train and test sets"
   ]
  },
  {
   "cell_type": "code",
   "execution_count": 12,
   "metadata": {},
   "outputs": [],
   "source": [
    "X_train, X_test = train_test_split(endireh_ent, test_size=0.2, random_state=5, stratify=endireh['P9_8'])"
   ]
  },
  {
   "cell_type": "code",
   "execution_count": 13,
   "metadata": {},
   "outputs": [],
   "source": [
    "X_train = asegurarPrimerSi(X_train)\n",
    "X_test_si = asegurarPrimerSi(X_test)\n",
    "X_test_no = asegurarPrimerSi(X_test, 'No')"
   ]
  },
  {
   "cell_type": "code",
   "execution_count": 14,
   "metadata": {},
   "outputs": [
    {
     "name": "stdout",
     "output_type": "stream",
     "text": [
      "Current Time is : 10:05:25\n"
     ]
    }
   ],
   "source": [
    "print(\"Current Time is :\", time.strftime(\"%H:%M:%S\", time.localtime()))"
   ]
  },
  {
   "cell_type": "markdown",
   "metadata": {},
   "source": []
  },
  {
   "cell_type": "code",
   "execution_count": 15,
   "metadata": {},
   "outputs": [
    {
     "name": "stderr",
     "output_type": "stream",
     "text": [
      "Boosting:   0%|          | 0/10 [00:00<?, ?it/s]"
     ]
    },
    {
     "name": "stdout",
     "output_type": "stream",
     "text": [
      "[INFO]:  -1 CPU cores will be allocated in parallel running\n",
      "Gradient Boosting Machines...\n",
      "Regression  tree is going to be built...\n",
      "gradient boosting for classification\n"
     ]
    },
    {
     "name": "stderr",
     "output_type": "stream",
     "text": [
      "Epoch 10. Accuracy: 91. Process: : 100%|██████████| 10/10 [5:23:55<00:00, 1943.52s/it]\n"
     ]
    },
    {
     "name": "stdout",
     "output_type": "stream",
     "text": [
      "The best accuracy got in  8  epoch with the score  92.20950995304544\n",
      "-------------------------\n",
      "finished in  19435.245931625366  seconds\n",
      "-------------------------\n",
      "Evaluate  train set\n",
      "-------------------------\n",
      "Accuracy:  91.8854573110244 % on  15121  instances\n",
      "Labels:  ['Si' 'No']\n",
      "Confusion matrix:  [[4227, 324], [903, 9667]]\n",
      "Precision:  92.8807 %, Recall:  82.3977 %, F1:  87.3257 %\n",
      "-------------------------\n",
      "Evaluate  test set\n",
      "-------------------------\n",
      "Accuracy:  58.767521819624434 % on  3781  instances\n",
      "Labels:  ['Si' 'No']\n",
      "Confusion matrix:  [[393, 669], [890, 1829]]\n",
      "Precision:  37.0056 %, Recall:  30.6313 %, F1:  33.5181 %\n",
      "-------------------------\n",
      "Evaluate  test set\n",
      "-------------------------\n",
      "Accuracy:  58.767521819624434 % on  3781  instances\n",
      "Labels:  ['No' 'Si']\n",
      "Confusion matrix:  [[1829, 890], [669, 393]]\n",
      "Precision:  67.2674 %, Recall:  73.2186 %, F1:  70.1169 %\n",
      "Decision rule:  outputs/rules/rules-for-No-round-0.py\n",
      "Decision rule:  outputs/rules/rules-for-Si-round-1.py\n",
      "Decision rule:  outputs/rules/rules-for-Si-round-2.py\n",
      "Decision rule:  outputs/rules/rules-for-Si-round-3.py\n",
      "Decision rule:  outputs/rules/rules-for-Si-round-4.py\n",
      "Decision rule:  outputs/rules/rules-for-Si-round-5.py\n",
      "Decision rule:  outputs/rules/rules-for-Si-round-6.py\n",
      "Decision rule:  outputs/rules/rules-for-Si-round-7.py\n",
      "Decision rule:  outputs/rules/rules-for-Si-round-8.py\n",
      "Decision rule:  outputs/rules/rules-for-Si-round-9.py\n",
      "CPU times: user 5h 22min 41s, sys: 1min 12s, total: 5h 23min 54s\n",
      "Wall time: 5h 23min 59s\n"
     ]
    }
   ],
   "source": [
    "%time guardarImportanciasBestGBM(config = config,  X_train = X_train, X_test = [X_test_si, X_test_no], target_label = 'P9_8', ruta_archivo = 'FI/Violencia_Nacional_FI.txt')"
   ]
  },
  {
   "cell_type": "code",
   "execution_count": 15,
   "metadata": {},
   "outputs": [
    {
     "name": "stderr",
     "output_type": "stream",
     "text": [
      "Boosting:   0%|          | 0/10 [00:00<?, ?it/s]"
     ]
    },
    {
     "name": "stdout",
     "output_type": "stream",
     "text": [
      "[INFO]:  -1 CPU cores will be allocated in parallel running\n",
      "Gradient Boosting Machines...\n",
      "Regression  tree is going to be built...\n",
      "gradient boosting for classification\n"
     ]
    },
    {
     "name": "stderr",
     "output_type": "stream",
     "text": [
      "Epoch 10. Accuracy: 91. Process: : 100%|██████████| 10/10 [5:27:23<00:00, 1964.31s/it]\n"
     ]
    },
    {
     "name": "stdout",
     "output_type": "stream",
     "text": [
      "The best accuracy got in  8  epoch with the score  92.20950995304544\n",
      "-------------------------\n",
      "finished in  19643.13089942932  seconds\n",
      "-------------------------\n",
      "Evaluate  train set\n",
      "-------------------------\n",
      "Accuracy:  91.8854573110244 % on  15121  instances\n",
      "Labels:  ['Si' 'No']\n",
      "Confusion matrix:  [[4227, 324], [903, 9667]]\n",
      "Precision:  92.8807 %, Recall:  82.3977 %, F1:  87.3257 %\n",
      "-------------------------\n",
      "Evaluate  test set\n",
      "-------------------------\n",
      "Accuracy:  58.767521819624434 % on  3781  instances\n",
      "Labels:  ['Si' 'No']\n",
      "Confusion matrix:  [[394, 670], [889, 1828]]\n",
      "Precision:  37.0301 %, Recall:  30.7093 %, F1:  33.5748 %\n",
      "Decision rule:  outputs/rules/rules-for-No-round-0.py\n",
      "Decision rule:  outputs/rules/rules-for-Si-round-0.py\n",
      "Decision rule:  outputs/rules/rules-for-Si-round-1.py\n",
      "Decision rule:  outputs/rules/rules-for-Si-round-2.py\n",
      "Decision rule:  outputs/rules/rules-for-Si-round-3.py\n",
      "Decision rule:  outputs/rules/rules-for-Si-round-4.py\n",
      "Decision rule:  outputs/rules/rules-for-Si-round-5.py\n",
      "Decision rule:  outputs/rules/rules-for-Si-round-6.py\n",
      "Decision rule:  outputs/rules/rules-for-Si-round-7.py\n",
      "Decision rule:  outputs/rules/rules-for-Si-round-8.py\n",
      "Decision rule:  outputs/rules/rules-for-Si-round-9.py\n",
      "CPU times: user 5h 26min 6s, sys: 1min 13s, total: 5h 27min 20s\n",
      "Wall time: 5h 27min 27s\n"
     ]
    }
   ],
   "source": [
    "%time guardarImportanciasBestGBM(config = config,  X_train = X_train, X_test = X_test_si, target_label = 'P9_8', ruta_archivo = 'FI/Violencia_Nacional_FI.txt')"
   ]
  },
  {
   "cell_type": "markdown",
   "metadata": {},
   "source": [
    "## Encontrar los mejores parámetros por región"
   ]
  },
  {
   "cell_type": "code",
   "execution_count": 12,
   "metadata": {},
   "outputs": [
    {
     "data": {
      "text/plain": [
       "4    3768\n",
       "1    3208\n",
       "3    3100\n",
       "0    2893\n",
       "6    1904\n",
       "7    1861\n",
       "5    1165\n",
       "2    1003\n",
       "Name: REGION, dtype: int64"
      ]
     },
     "execution_count": 12,
     "metadata": {},
     "output_type": "execute_result"
    }
   ],
   "source": [
    "endireh['REGION'].value_counts()"
   ]
  },
  {
   "cell_type": "code",
   "execution_count": 12,
   "metadata": {},
   "outputs": [],
   "source": [
    "endireh.drop(columns=['CVE_ENT'], inplace=True)\n",
    "gk = endireh.groupby('REGION')"
   ]
  },
  {
   "cell_type": "code",
   "execution_count": 15,
   "metadata": {},
   "outputs": [
    {
     "name": "stderr",
     "output_type": "stream",
     "text": [
      "Boosting:   0%|          | 0/10 [00:00<?, ?it/s]"
     ]
    },
    {
     "name": "stdout",
     "output_type": "stream",
     "text": [
      "[INFO]:  -1 CPU cores will be allocated in parallel running\n",
      "Gradient Boosting Machines...\n",
      "Regression  tree is going to be built...\n",
      "gradient boosting for classification\n"
     ]
    },
    {
     "name": "stderr",
     "output_type": "stream",
     "text": [
      "Epoch 10. Accuracy: 91. Process: : 100%|██████████| 10/10 [22:21<00:00, 134.14s/it]\n"
     ]
    },
    {
     "name": "stdout",
     "output_type": "stream",
     "text": [
      "The best accuracy got in  3  epoch with the score  92.82627484874676\n",
      "-------------------------\n",
      "finished in  1341.4287071228027  seconds\n",
      "-------------------------\n",
      "Evaluate  train set\n",
      "-------------------------\n",
      "Accuracy:  91.09766637856525 % on  2314  instances\n",
      "Labels:  ['Si' 'No']\n",
      "Confusion matrix:  [[509, 29], [177, 1599]]\n",
      "Precision:  94.6097 %, Recall:  74.1983 %, F1:  83.17 %\n",
      "-------------------------\n",
      "Evaluate  test set\n",
      "-------------------------\n",
      "Accuracy:  62.86701208981002 % on  579  instances\n",
      "Labels:  ['Si' 'No']\n",
      "Confusion matrix:  [[40, 83], [132, 324]]\n",
      "Precision:  32.5203 %, Recall:  23.2558 %, F1:  27.1186 %\n",
      "Decision rule:  outputs/rules/rules-for-No-round-0.py\n",
      "Decision rule:  outputs/rules/rules-for-Si-round-0.py\n",
      "Decision rule:  outputs/rules/rules-for-Si-round-1.py\n",
      "Decision rule:  outputs/rules/rules-for-Si-round-2.py\n",
      "Decision rule:  outputs/rules/rules-for-Si-round-3.py\n",
      "Decision rule:  outputs/rules/rules-for-Si-round-4.py\n",
      "Decision rule:  outputs/rules/rules-for-Si-round-5.py\n",
      "Decision rule:  outputs/rules/rules-for-Si-round-6.py\n",
      "Decision rule:  outputs/rules/rules-for-Si-round-7.py\n",
      "Decision rule:  outputs/rules/rules-for-Si-round-8.py\n",
      "Decision rule:  outputs/rules/rules-for-Si-round-9.py\n",
      "CPU times: user 22min 11s, sys: 10 s, total: 22min 21s\n",
      "Wall time: 22min 21s\n"
     ]
    }
   ],
   "source": [
    "X = gk.get_group('0')\n",
    "X_train, X_test = train_test_split(X, test_size=0.2, random_state=5, stratify=X['P9_8'])\n",
    "X_train = asegurarPrimerSi(X_train)\n",
    "X_test_si = asegurarPrimerSi(X_test)\n",
    "%time guardarImportanciasBestGBM(config = config, X_train = X_train, X_test = X_test, target_label = 'P9_8', ruta_archivo = f'FI/Violencia_Region_0_FI.txt')"
   ]
  },
  {
   "cell_type": "code",
   "execution_count": 13,
   "metadata": {},
   "outputs": [
    {
     "name": "stderr",
     "output_type": "stream",
     "text": [
      "Boosting:   0%|          | 0/10 [00:00<?, ?it/s]"
     ]
    },
    {
     "name": "stdout",
     "output_type": "stream",
     "text": [
      "[INFO]:  -1 CPU cores will be allocated in parallel running\n",
      "Gradient Boosting Machines...\n",
      "Regression  tree is going to be built...\n",
      "gradient boosting for classification\n"
     ]
    },
    {
     "name": "stderr",
     "output_type": "stream",
     "text": [
      "Epoch 10. Accuracy: 90. Process: : 100%|██████████| 10/10 [25:18<00:00, 151.81s/it]\n"
     ]
    },
    {
     "name": "stdout",
     "output_type": "stream",
     "text": [
      "The best accuracy got in  9  epoch with the score  90.53000779423226\n",
      "-------------------------\n",
      "finished in  1518.0906894207  seconds\n",
      "-------------------------\n",
      "Evaluate  train set\n",
      "-------------------------\n",
      "Accuracy:  90.56897895557287 % on  2566  instances\n",
      "Labels:  ['Si' 'No']\n",
      "Confusion matrix:  [[639, 33], [209, 1685]]\n",
      "Precision:  95.0893 %, Recall:  75.3538 %, F1:  84.079 %\n",
      "-------------------------\n",
      "Evaluate  test set\n",
      "-------------------------\n",
      "Accuracy:  58.87850467289719 % on  642  instances\n",
      "Labels:  ['Si' 'No']\n",
      "Confusion matrix:  [[52, 104], [160, 326]]\n",
      "Precision:  33.3333 %, Recall:  24.5283 %, F1:  28.2609 %\n",
      "Decision rule:  outputs/rules/rules-for-No-round-0.py\n",
      "Decision rule:  outputs/rules/rules-for-Si-round-1.py\n",
      "Decision rule:  outputs/rules/rules-for-Si-round-2.py\n",
      "Decision rule:  outputs/rules/rules-for-Si-round-3.py\n",
      "Decision rule:  outputs/rules/rules-for-Si-round-4.py\n",
      "Decision rule:  outputs/rules/rules-for-Si-round-5.py\n",
      "Decision rule:  outputs/rules/rules-for-Si-round-6.py\n",
      "Decision rule:  outputs/rules/rules-for-Si-round-7.py\n",
      "Decision rule:  outputs/rules/rules-for-Si-round-8.py\n",
      "Decision rule:  outputs/rules/rules-for-Si-round-9.py\n",
      "CPU times: user 25min 7s, sys: 11.1 s, total: 25min 18s\n",
      "Wall time: 25min 18s\n"
     ]
    }
   ],
   "source": [
    "X = gk.get_group('1')\n",
    "X_train, X_test = train_test_split(X, test_size=0.2, random_state=5, stratify=X['P9_8'])\n",
    "X_train = asegurarPrimerSi(X_train)\n",
    "X_test = asegurarPrimerSi(X_test)\n",
    "%time guardarImportanciasBestGBM(config = config, X_train = X_train, X_test = X_test, target_label = 'P9_8', ruta_archivo = f'FI/Violencia_Region_1_FI.txt')"
   ]
  },
  {
   "cell_type": "code",
   "execution_count": 14,
   "metadata": {},
   "outputs": [
    {
     "name": "stderr",
     "output_type": "stream",
     "text": [
      "Boosting:   0%|          | 0/10 [00:00<?, ?it/s]"
     ]
    },
    {
     "name": "stdout",
     "output_type": "stream",
     "text": [
      "[INFO]:  -1 CPU cores will be allocated in parallel running\n",
      "Gradient Boosting Machines...\n",
      "Regression  tree is going to be built...\n",
      "gradient boosting for classification\n"
     ]
    },
    {
     "name": "stderr",
     "output_type": "stream",
     "text": [
      "Epoch 10. Accuracy: 86. Process: : 100%|██████████| 10/10 [06:20<00:00, 38.09s/it]\n"
     ]
    },
    {
     "name": "stdout",
     "output_type": "stream",
     "text": [
      "The best accuracy got in  7  epoch with the score  86.9077306733167\n",
      "-------------------------\n",
      "finished in  380.9458107948303  seconds\n",
      "-------------------------\n",
      "Evaluate  train set\n",
      "-------------------------\n",
      "Accuracy:  86.65835411471322 % on  802  instances\n",
      "Labels:  ['Si' 'No']\n",
      "Confusion matrix:  [[174, 20], [87, 521]]\n",
      "Precision:  89.6907 %, Recall:  66.6667 %, F1:  76.4835 %\n",
      "-------------------------\n",
      "Evaluate  test set\n",
      "-------------------------\n",
      "Accuracy:  60.19900497512438 % on  201  instances\n",
      "Labels:  ['Si' 'No']\n",
      "Confusion matrix:  [[20, 35], [45, 101]]\n",
      "Precision:  36.3636 %, Recall:  30.7692 %, F1:  33.3333 %\n",
      "Decision rule:  outputs/rules/rules-for-No-round-0.py\n",
      "Decision rule:  outputs/rules/rules-for-Si-round-0.py\n",
      "Decision rule:  outputs/rules/rules-for-Si-round-1.py\n",
      "Decision rule:  outputs/rules/rules-for-Si-round-2.py\n",
      "Decision rule:  outputs/rules/rules-for-Si-round-3.py\n",
      "Decision rule:  outputs/rules/rules-for-Si-round-4.py\n",
      "Decision rule:  outputs/rules/rules-for-Si-round-5.py\n",
      "Decision rule:  outputs/rules/rules-for-Si-round-6.py\n",
      "Decision rule:  outputs/rules/rules-for-Si-round-7.py\n",
      "Decision rule:  outputs/rules/rules-for-Si-round-8.py\n",
      "Decision rule:  outputs/rules/rules-for-Si-round-9.py\n",
      "CPU times: user 6min 18s, sys: 3.94 s, total: 6min 22s\n",
      "Wall time: 6min 21s\n"
     ]
    }
   ],
   "source": [
    "X = gk.get_group('2')\n",
    "X_train, X_test = train_test_split(X, test_size=0.2, random_state=5, stratify=X['P9_8'])\n",
    "X_train = asegurarPrimerSi(X_train)\n",
    "X_test = asegurarPrimerSi(X_test)\n",
    "%time guardarImportanciasBestGBM(config = config, X_train = X_train, X_test = X_test, target_label = 'P9_8', ruta_archivo = f'FI/Violencia_Region_2_FI.txt')"
   ]
  },
  {
   "cell_type": "code",
   "execution_count": 14,
   "metadata": {},
   "outputs": [
    {
     "name": "stderr",
     "output_type": "stream",
     "text": [
      "Boosting:   0%|          | 0/10 [00:00<?, ?it/s]"
     ]
    },
    {
     "name": "stdout",
     "output_type": "stream",
     "text": [
      "[INFO]:  -1 CPU cores will be allocated in parallel running\n",
      "Gradient Boosting Machines...\n",
      "Regression  tree is going to be built...\n",
      "gradient boosting for classification\n"
     ]
    },
    {
     "name": "stderr",
     "output_type": "stream",
     "text": [
      "Epoch 10. Accuracy: 92. Process: : 100%|██████████| 10/10 [23:11<00:00, 139.18s/it]\n"
     ]
    },
    {
     "name": "stdout",
     "output_type": "stream",
     "text": [
      "The best accuracy got in  6  epoch with the score  93.10483870967742\n",
      "-------------------------\n",
      "finished in  1391.839685201645  seconds\n",
      "-------------------------\n",
      "Evaluate  train set\n",
      "-------------------------\n",
      "Accuracy:  92.66129032258064 % on  2480  instances\n",
      "Labels:  ['Si' 'No']\n",
      "Confusion matrix:  [[717, 9], [173, 1581]]\n",
      "Precision:  98.7603 %, Recall:  80.5618 %, F1:  88.7376 %\n",
      "-------------------------\n",
      "Evaluate  test set\n",
      "-------------------------\n",
      "Accuracy:  56.935483870967744 % on  620  instances\n",
      "Labels:  ['Si' 'No']\n",
      "Confusion matrix:  [[46, 90], [177, 307]]\n",
      "Precision:  33.8235 %, Recall:  20.6278 %, F1:  25.6267 %\n",
      "Decision rule:  outputs/rules/rules-for-No-round-0.py\n",
      "Decision rule:  outputs/rules/rules-for-Si-round-0.py\n",
      "Decision rule:  outputs/rules/rules-for-Si-round-1.py\n",
      "Decision rule:  outputs/rules/rules-for-Si-round-2.py\n",
      "Decision rule:  outputs/rules/rules-for-Si-round-3.py\n",
      "Decision rule:  outputs/rules/rules-for-Si-round-4.py\n",
      "Decision rule:  outputs/rules/rules-for-Si-round-5.py\n",
      "Decision rule:  outputs/rules/rules-for-Si-round-6.py\n",
      "Decision rule:  outputs/rules/rules-for-Si-round-7.py\n",
      "Decision rule:  outputs/rules/rules-for-Si-round-8.py\n",
      "Decision rule:  outputs/rules/rules-for-Si-round-9.py\n",
      "CPU times: user 23min 2s, sys: 10.3 s, total: 23min 12s\n",
      "Wall time: 23min 12s\n"
     ]
    }
   ],
   "source": [
    "X = gk.get_group('3')\n",
    "X_train, X_test = train_test_split(X, test_size=0.2, random_state=5, stratify=X['P9_8'])\n",
    "X_train = asegurarPrimerSi(X_train)\n",
    "X_test = asegurarPrimerSi(X_test)\n",
    "%time guardarImportanciasBestGBM(config = config, X_train = X_train, X_test = X_test, target_label = 'P9_8', ruta_archivo = f'FI/Violencia_Region_3_FI.txt')"
   ]
  },
  {
   "cell_type": "code",
   "execution_count": 13,
   "metadata": {},
   "outputs": [
    {
     "name": "stderr",
     "output_type": "stream",
     "text": [
      "Boosting:   0%|          | 0/10 [00:00<?, ?it/s]"
     ]
    },
    {
     "name": "stdout",
     "output_type": "stream",
     "text": [
      "[INFO]:  -1 CPU cores will be allocated in parallel running\n",
      "Gradient Boosting Machines...\n",
      "Regression  tree is going to be built...\n",
      "gradient boosting for classification\n"
     ]
    },
    {
     "name": "stderr",
     "output_type": "stream",
     "text": [
      "Epoch 10. Accuracy: 87. Process: : 100%|██████████| 10/10 [27:22<00:00, 164.24s/it]\n"
     ]
    },
    {
     "name": "stdout",
     "output_type": "stream",
     "text": [
      "The best accuracy got in  6  epoch with the score  88.4870603848706\n",
      "-------------------------\n",
      "finished in  1642.4495086669922  seconds\n",
      "-------------------------\n",
      "Evaluate  train set\n",
      "-------------------------\n",
      "Accuracy:  88.02256138022561 % on  3014  instances\n",
      "Labels:  ['Si' 'No']\n",
      "Confusion matrix:  [[937, 69], [292, 1716]]\n",
      "Precision:  93.1412 %, Recall:  76.2408 %, F1:  83.8479 %\n",
      "-------------------------\n",
      "Evaluate  test set\n",
      "-------------------------\n",
      "Accuracy:  56.10079575596817 % on  754  instances\n",
      "Labels:  ['Si' 'No']\n",
      "Confusion matrix:  [[104, 127], [204, 319]]\n",
      "Precision:  45.0216 %, Recall:  33.7662 %, F1:  38.5899 %\n",
      "Decision rule:  outputs/rules/rules-for-No-round-0.py\n",
      "Decision rule:  outputs/rules/rules-for-Si-round-0.py\n",
      "Decision rule:  outputs/rules/rules-for-Si-round-1.py\n",
      "Decision rule:  outputs/rules/rules-for-Si-round-2.py\n",
      "Decision rule:  outputs/rules/rules-for-Si-round-3.py\n",
      "Decision rule:  outputs/rules/rules-for-Si-round-4.py\n",
      "Decision rule:  outputs/rules/rules-for-Si-round-5.py\n",
      "Decision rule:  outputs/rules/rules-for-Si-round-6.py\n",
      "Decision rule:  outputs/rules/rules-for-Si-round-7.py\n",
      "Decision rule:  outputs/rules/rules-for-Si-round-8.py\n",
      "Decision rule:  outputs/rules/rules-for-Si-round-9.py\n",
      "CPU times: user 27min 10s, sys: 11.4 s, total: 27min 22s\n",
      "Wall time: 27min 22s\n"
     ]
    }
   ],
   "source": [
    "X = gk.get_group('4')\n",
    "X_train, X_test = train_test_split(X, test_size=0.2, random_state=5, stratify=X['P9_8'])\n",
    "X_train = asegurarPrimerSi(X_train)\n",
    "X_test = asegurarPrimerSi(X_test)\n",
    "%time guardarImportanciasBestGBM(config = config, X_train = X_train, X_test = X_test, target_label = 'P9_8', ruta_archivo = f'FI/Violencia_Region_4_FI.txt')"
   ]
  },
  {
   "cell_type": "code",
   "execution_count": 14,
   "metadata": {},
   "outputs": [
    {
     "name": "stderr",
     "output_type": "stream",
     "text": [
      "Boosting:   0%|          | 0/10 [00:00<?, ?it/s]"
     ]
    },
    {
     "name": "stdout",
     "output_type": "stream",
     "text": [
      "[INFO]:  -1 CPU cores will be allocated in parallel running\n",
      "Gradient Boosting Machines...\n",
      "Regression  tree is going to be built...\n",
      "gradient boosting for classification\n"
     ]
    },
    {
     "name": "stderr",
     "output_type": "stream",
     "text": [
      "Epoch 10. Accuracy: 95. Process: : 100%|██████████| 10/10 [09:34<00:00, 57.42s/it]\n"
     ]
    },
    {
     "name": "stdout",
     "output_type": "stream",
     "text": [
      "The best accuracy got in  9  epoch with the score  95.3862660944206\n",
      "-------------------------\n",
      "finished in  574.1733412742615  seconds\n",
      "-------------------------\n",
      "Evaluate  train set\n",
      "-------------------------\n",
      "Accuracy:  94.20600858369099 % on  932  instances\n",
      "Labels:  ['Si' 'No']\n",
      "Confusion matrix:  [[274, 18], [36, 604]]\n",
      "Precision:  93.8356 %, Recall:  88.3871 %, F1:  91.0299 %\n",
      "-------------------------\n",
      "Evaluate  test set\n",
      "-------------------------\n",
      "Accuracy:  58.36909871244635 % on  233  instances\n",
      "Labels:  ['Si' 'No']\n",
      "Confusion matrix:  [[26, 45], [52, 110]]\n",
      "Precision:  36.6197 %, Recall:  33.3333 %, F1:  34.8993 %\n",
      "Decision rule:  outputs/rules/rules-for-No-round-0.py\n",
      "Decision rule:  outputs/rules/rules-for-Si-round-0.py\n",
      "Decision rule:  outputs/rules/rules-for-Si-round-1.py\n",
      "Decision rule:  outputs/rules/rules-for-Si-round-2.py\n",
      "Decision rule:  outputs/rules/rules-for-Si-round-3.py\n",
      "Decision rule:  outputs/rules/rules-for-Si-round-4.py\n",
      "Decision rule:  outputs/rules/rules-for-Si-round-5.py\n",
      "Decision rule:  outputs/rules/rules-for-Si-round-6.py\n",
      "Decision rule:  outputs/rules/rules-for-Si-round-7.py\n",
      "Decision rule:  outputs/rules/rules-for-Si-round-8.py\n",
      "Decision rule:  outputs/rules/rules-for-Si-round-9.py\n",
      "CPU times: user 9min 29s, sys: 5.4 s, total: 9min 35s\n",
      "Wall time: 9min 34s\n"
     ]
    }
   ],
   "source": [
    "X = gk.get_group('5')\n",
    "X_train, X_test = train_test_split(X, test_size=0.2, random_state=5, stratify=X['P9_8'])\n",
    "X_train = asegurarPrimerSi(X_train)\n",
    "X_test = asegurarPrimerSi(X_test)\n",
    "%time guardarImportanciasBestGBM(config = config, X_train = X_train, X_test = X_test, target_label = 'P9_8', ruta_archivo = f'FI/Violencia_Region_5_FI.txt')"
   ]
  },
  {
   "cell_type": "code",
   "execution_count": 13,
   "metadata": {},
   "outputs": [
    {
     "name": "stderr",
     "output_type": "stream",
     "text": [
      "Boosting:   0%|          | 0/10 [00:00<?, ?it/s]"
     ]
    },
    {
     "name": "stdout",
     "output_type": "stream",
     "text": [
      "[INFO]:  -1 CPU cores will be allocated in parallel running\n",
      "Gradient Boosting Machines...\n",
      "Regression  tree is going to be built...\n",
      "gradient boosting for classification\n"
     ]
    },
    {
     "name": "stderr",
     "output_type": "stream",
     "text": [
      "Epoch 10. Accuracy: 94. Process: : 100%|██████████| 10/10 [14:41<00:00, 88.11s/it]\n"
     ]
    },
    {
     "name": "stdout",
     "output_type": "stream",
     "text": [
      "The best accuracy got in  9  epoch with the score  94.15627051871307\n",
      "-------------------------\n",
      "finished in  881.1362640857697  seconds\n",
      "-------------------------\n",
      "Evaluate  train set\n",
      "-------------------------\n",
      "Accuracy:  93.43401181877873 % on  1523  instances\n",
      "Labels:  ['Si' 'No']\n",
      "Confusion matrix:  [[352, 6], [94, 1071]]\n",
      "Precision:  98.324 %, Recall:  78.9238 %, F1:  87.5622 %\n",
      "-------------------------\n",
      "Evaluate  test set\n",
      "-------------------------\n",
      "Accuracy:  66.14173228346456 % on  381  instances\n",
      "Labels:  ['Si' 'No']\n",
      "Confusion matrix:  [[23, 40], [89, 229]]\n",
      "Precision:  36.5079 %, Recall:  20.5357 %, F1:  26.2857 %\n",
      "Decision rule:  outputs/rules/rules-for-No-round-0.py\n",
      "Decision rule:  outputs/rules/rules-for-Si-round-0.py\n",
      "Decision rule:  outputs/rules/rules-for-Si-round-1.py\n",
      "Decision rule:  outputs/rules/rules-for-Si-round-2.py\n",
      "Decision rule:  outputs/rules/rules-for-Si-round-3.py\n",
      "Decision rule:  outputs/rules/rules-for-Si-round-4.py\n",
      "Decision rule:  outputs/rules/rules-for-Si-round-5.py\n",
      "Decision rule:  outputs/rules/rules-for-Si-round-6.py\n",
      "Decision rule:  outputs/rules/rules-for-Si-round-7.py\n",
      "Decision rule:  outputs/rules/rules-for-Si-round-8.py\n",
      "Decision rule:  outputs/rules/rules-for-Si-round-9.py\n",
      "CPU times: user 14min 35s, sys: 7.55 s, total: 14min 42s\n",
      "Wall time: 14min 41s\n"
     ]
    }
   ],
   "source": [
    "X = gk.get_group('6')\n",
    "X_train, X_test = train_test_split(X, test_size=0.2, random_state=5, stratify=X['P9_8'])\n",
    "X_train = asegurarPrimerSi(X_train)\n",
    "X_test = asegurarPrimerSi(X_test)\n",
    "%time guardarImportanciasBestGBM(config = config, X_train = X_train, X_test = X_test, target_label = 'P9_8', ruta_archivo = f'FI/Violencia_Region_6_FI.txt')"
   ]
  },
  {
   "cell_type": "code",
   "execution_count": 13,
   "metadata": {},
   "outputs": [
    {
     "name": "stderr",
     "output_type": "stream",
     "text": [
      "Boosting:   0%|          | 0/10 [00:00<?, ?it/s]"
     ]
    },
    {
     "name": "stdout",
     "output_type": "stream",
     "text": [
      "[INFO]:  -1 CPU cores will be allocated in parallel running\n",
      "Gradient Boosting Machines...\n",
      "Regression  tree is going to be built...\n",
      "gradient boosting for classification\n"
     ]
    },
    {
     "name": "stderr",
     "output_type": "stream",
     "text": [
      "Epoch 10. Accuracy: 93. Process: : 100%|██████████| 10/10 [14:27<00:00, 86.75s/it]\n"
     ]
    },
    {
     "name": "stdout",
     "output_type": "stream",
     "text": [
      "The best accuracy got in  7  epoch with the score  93.95161290322581\n",
      "-------------------------\n",
      "finished in  867.4818279743195  seconds\n",
      "-------------------------\n",
      "Evaluate  train set\n",
      "-------------------------\n",
      "Accuracy:  93.21236559139786 % on  1488  instances\n",
      "Labels:  ['Si' 'No']\n",
      "Confusion matrix:  [[362, 5], [96, 1025]]\n",
      "Precision:  98.6376 %, Recall:  79.0393 %, F1:  87.7576 %\n",
      "-------------------------\n",
      "Evaluate  test set\n",
      "-------------------------\n",
      "Accuracy:  63.806970509383376 % on  373  instances\n",
      "Labels:  ['Si' 'No']\n",
      "Confusion matrix:  [[30, 50], [85, 208]]\n",
      "Precision:  37.5 %, Recall:  26.087 %, F1:  30.7693 %\n",
      "Decision rule:  outputs/rules/rules-for-No-round-0.py\n",
      "Decision rule:  outputs/rules/rules-for-Si-round-0.py\n",
      "Decision rule:  outputs/rules/rules-for-Si-round-1.py\n",
      "Decision rule:  outputs/rules/rules-for-Si-round-2.py\n",
      "Decision rule:  outputs/rules/rules-for-Si-round-3.py\n",
      "Decision rule:  outputs/rules/rules-for-Si-round-4.py\n",
      "Decision rule:  outputs/rules/rules-for-Si-round-5.py\n",
      "Decision rule:  outputs/rules/rules-for-Si-round-6.py\n",
      "Decision rule:  outputs/rules/rules-for-Si-round-7.py\n",
      "Decision rule:  outputs/rules/rules-for-Si-round-8.py\n",
      "Decision rule:  outputs/rules/rules-for-Si-round-9.py\n",
      "CPU times: user 14min 21s, sys: 7.46 s, total: 14min 28s\n",
      "Wall time: 14min 27s\n"
     ]
    }
   ],
   "source": [
    "X = gk.get_group('7')\n",
    "X_train, X_test = train_test_split(X, test_size=0.2, random_state=5, stratify=X['P9_8'])\n",
    "X_train = asegurarPrimerSi(X_train)\n",
    "X_test = asegurarPrimerSi(X_test)\n",
    "%time guardarImportanciasBestGBM(config = config, X_train = X_train, X_test = X_test, target_label = 'P9_8', ruta_archivo = f'FI/Violencia_Region_7_FI.txt')"
   ]
  },
  {
   "cell_type": "code",
   "execution_count": null,
   "metadata": {},
   "outputs": [],
   "source": []
  }
 ],
 "metadata": {
  "kernelspec": {
   "display_name": "Python 3",
   "language": "python",
   "name": "python3"
  },
  "language_info": {
   "codemirror_mode": {
    "name": "ipython",
    "version": 3
   },
   "file_extension": ".py",
   "mimetype": "text/x-python",
   "name": "python",
   "nbconvert_exporter": "python",
   "pygments_lexer": "ipython3",
   "version": "3.6.9"
  }
 },
 "nbformat": 4,
 "nbformat_minor": 4
}
