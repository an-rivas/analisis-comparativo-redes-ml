{
 "cells": [
  {
   "cell_type": "markdown",
   "metadata": {},
   "source": [
    "# Clasificador binario con ExtraTreesClassifier del tipo de violencia \"atención no autorizada\" y \"abuso y violencia\".\n",
    "\n",
    "Se tienen dos tipos \"no tuvo violencia\" y \"abuso y violencia\". No incluye a los de la categoría \"ambos\" ni a los que no sufieron violencia.\n",
    "\n",
    "Sin preprocesamiento en el dataset. Todas las columnas se tratan como continuas aunque sean categóricas.\n",
    "\n",
    "https://www.cienciadedatos.net/documentos/py08_random_forest_python.html\n",
    "\n",
    "https://scikit-learn.org/stable/modules/generated/sklearn.ensemble.RandomForestClassifier.html?highlight=forest#sklearn.ensemble.RandomForestClassifier\n",
    "\n",
    "https://scikit-learn.org/stable/modules/generated/sklearn.ensemble.ExtraTreesClassifier.html\n",
    "\n",
    "---\n",
    "\n",
    "https://github.com/serengil/chefboost\n",
    "\n",
    "https://towardsdatascience.com/chefboost-an-alternative-python-library-for-tree-based-models-f46af028a348\n",
    "\n",
    "    @misc{serengil2021chefboost,\n",
    "      author       = {Serengil, Sefik Ilkin},\n",
    "      title        = {ChefBoost: A Lightweight Boosted Decision Tree Framework},\n",
    "      month        = oct,\n",
    "      year         = 2021,\n",
    "      publisher    = {Zenodo},\n",
    "      doi          = {10.5281/zenodo.5576203},\n",
    "      howpublished = {https://doi.org/10.5281/zenodo.5576203}\n",
    "    }"
   ]
  },
  {
   "cell_type": "code",
   "execution_count": 1,
   "metadata": {},
   "outputs": [],
   "source": [
    "# Custom functions\n",
    "# ==============================================================================\n",
    "from funciones import CargarPandasDatasetCategoricos, BorrarColumnas, InsertarColumnaNueva\n",
    "\n",
    "# Tratamiento de datos\n",
    "# ==============================================================================\n",
    "import numpy as np\n",
    "import pandas as pd\n",
    "import time\n",
    "\n",
    "# Gráficos\n",
    "# ==============================================================================\n",
    "import matplotlib.pyplot as plt\n",
    "from matplotlib.pyplot import figure\n",
    "import seaborn as sns\n",
    "\n",
    "# Preprocesado y modelado\n",
    "# ==============================================================================\n",
    "from sklearn.ensemble import RandomForestClassifier\n",
    "from sklearn.metrics import f1_score, confusion_matrix\n",
    "from sklearn.model_selection import ParameterGrid, KFold\n",
    "from chefboost import Chefboost as chef\n",
    "from sklearn.model_selection import train_test_split\n",
    "\n",
    "# Configuración warnings\n",
    "# ==============================================================================\n",
    "import warnings\n",
    "warnings.filterwarnings('ignore')"
   ]
  },
  {
   "cell_type": "code",
   "execution_count": 2,
   "metadata": {},
   "outputs": [],
   "source": [
    "def clasificacionAbuso(row):\n",
    "    if row['P9_8'] == 1 or row['P9_8'] == 3:\n",
    "        return 1\n",
    "    return 0\n",
    "\n",
    "def clasificacionAtencion(row):\n",
    "    if row['P9_8'] == 2 or row['P9_8'] == 3:\n",
    "        return 1\n",
    "    return 0"
   ]
  },
  {
   "cell_type": "code",
   "execution_count": 3,
   "metadata": {},
   "outputs": [],
   "source": [
    "def grid(param_grid, X, y, cv=5):\n",
    "    resultados = {'params': [], 'f1_abuso': [], 'cm_abuso': [], 'f1_atencion': [], 'cm_atencion': []}\n",
    "    importances = []\n",
    "    kf = KFold(n_splits=cv, shuffle=True)\n",
    "    \n",
    "    for i,params in enumerate(param_grid):\n",
    "        f1_abuso = []\n",
    "        f1_atencion = []\n",
    "        cm_abuso = []\n",
    "        cm_atencion = []\n",
    "\n",
    "        for train_index, test_index in kf.split(X):\n",
    "\n",
    "            X_train, X_test = X.iloc[train_index], X.iloc[test_index]\n",
    "            y_train, y_test = y.iloc[train_index], y.iloc[test_index]\n",
    "\n",
    "            modelo = RandomForestClassifier(\n",
    "                        n_jobs       = -1,\n",
    "                        ** params\n",
    "                     )\n",
    "\n",
    "            modelo.fit(X_train, y_train)\n",
    "\n",
    "            y_pred = modelo.predict(X_test)\n",
    "            \n",
    "            importances.append(modelo.feature_importances_)\n",
    "            \n",
    "            f1_abuso.append(f1_score(y_test['P9_8_abuso'], y_pred[:, 0]))\n",
    "            f1_atencion.append(f1_score(y_test['P9_8_atencion'], y_pred[:, 1]))\n",
    "            cm_abuso.append(confusion_matrix(y_test['P9_8_abuso'], y_pred[:, 0], labels=[0, 1]).ravel())\n",
    "            cm_atencion.append(confusion_matrix(y_test['P9_8_atencion'], y_pred[:, 1], labels=[0, 1]).ravel())\n",
    "            \n",
    "        resultados['params'].append(params)\n",
    "        resultados['f1_abuso'].append(max(f1_abuso))\n",
    "        resultados['cm_abuso'].append(cm_abuso[f1_abuso.index(max(f1_abuso))])\n",
    "        resultados['f1_atencion'].append(max(f1_atencion))\n",
    "        resultados['cm_atencion'].append(cm_atencion[f1_atencion.index(max(f1_atencion))])\n",
    "        \n",
    "        if i%300 == 0 or i==len(param_grid):\n",
    "            print(f\"Modelo {i}: {params} \\u2713\")\n",
    "    \n",
    "    #hacer dataset con resultados\n",
    "    resultados = pd.DataFrame(resultados)\n",
    "    resultados = pd.concat([resultados, resultados['params'].apply(pd.Series)], axis=1)\n",
    "    resultados = resultados.drop(columns = 'params')\n",
    "    \n",
    "    return resultados, importances"
   ]
  },
  {
   "cell_type": "code",
   "execution_count": 4,
   "metadata": {},
   "outputs": [],
   "source": [
    "def asegurarPrimerSi(df, value='Si'):\n",
    "    indice = list(df.index) #obtengo lista de indices\n",
    "    a = df.P9_8.eq(value).idxmax() #obtengo el indice de la primera coincidencia en Si\n",
    "    b = indice[0] #el primer indice de la lista\n",
    "    indice.pop(indice.index(a)) #eliminar de 'a' la lista de indices\n",
    "    indice.insert(0, a) #insertar al inicio de la lista el indice 'a'\n",
    "    return df.reindex(indice) #reindizar el dataset "
   ]
  },
  {
   "cell_type": "markdown",
   "metadata": {},
   "source": [
    "## Cargar datos"
   ]
  },
  {
   "cell_type": "code",
   "execution_count": 5,
   "metadata": {},
   "outputs": [],
   "source": [
    "endireh = CargarPandasDatasetCategoricos('datasets/endireh.csv')"
   ]
  },
  {
   "cell_type": "markdown",
   "metadata": {},
   "source": [
    "## Preprocesamiento\n"
   ]
  },
  {
   "cell_type": "markdown",
   "metadata": {},
   "source": [
    "Solo nos quedamos con las que sufieron violencia en general."
   ]
  },
  {
   "cell_type": "code",
   "execution_count": 6,
   "metadata": {},
   "outputs": [],
   "source": [
    "endireh = InsertarColumnaNueva(df=endireh, nombreCol='P9_8_abuso',    numeroCol=48, funcion=clasificacionAbuso)\n",
    "endireh = InsertarColumnaNueva(df=endireh, nombreCol='P9_8_atencion', numeroCol=49, funcion=clasificacionAtencion)"
   ]
  },
  {
   "cell_type": "code",
   "execution_count": 7,
   "metadata": {},
   "outputs": [],
   "source": [
    "endireh.loc[endireh[\"P9_8\"]>0, \"P9_8\"] = 1"
   ]
  },
  {
   "cell_type": "code",
   "execution_count": 8,
   "metadata": {},
   "outputs": [
    {
     "data": {
      "text/plain": [
       "(18902, 51)"
      ]
     },
     "execution_count": 8,
     "metadata": {},
     "output_type": "execute_result"
    }
   ],
   "source": [
    "endireh.shape"
   ]
  },
  {
   "cell_type": "code",
   "execution_count": 9,
   "metadata": {},
   "outputs": [
    {
     "name": "stdout",
     "output_type": "stream",
     "text": [
      "Ninguno(0):\t66%\n",
      "Ambos(1):\t34%\n"
     ]
    },
    {
     "data": {
      "text/plain": [
       "<matplotlib.axes._subplots.AxesSubplot at 0x7fdbce513c88>"
      ]
     },
     "execution_count": 9,
     "metadata": {},
     "output_type": "execute_result"
    },
    {
     "data": {
      "image/png": "[encoded data removed]",
      "text/plain": [
       "<Figure size 432x288 with 1 Axes>"
      ]
     },
     "metadata": {
      "needs_background": "light"
     },
     "output_type": "display_data"
    }
   ],
   "source": [
    "for i,j in zip(['Ninguno(0)', 'Ambos(1)'], endireh[\"P9_8\"].value_counts()/endireh[\"P9_8\"].value_counts().sum()):\n",
    "    print(f'{i}:\\t{round(j*100)}%')\n",
    "endireh[\"P9_8\"].value_counts().plot(kind='bar')"
   ]
  },
  {
   "cell_type": "markdown",
   "metadata": {},
   "source": [
    "Al ser el análisis nacional borramos la variable _REGION_ que no pertenece a este estudio en particular y Elimino _y_ del dataset."
   ]
  },
  {
   "cell_type": "code",
   "execution_count": 10,
   "metadata": {},
   "outputs": [],
   "source": [
    "endireh.drop(columns=['REGION'], inplace=True)"
   ]
  },
  {
   "cell_type": "markdown",
   "metadata": {},
   "source": [
    "Obtengo la variable objetivo y obtengo el dataset X borrando P9_8."
   ]
  },
  {
   "cell_type": "code",
   "execution_count": 11,
   "metadata": {},
   "outputs": [],
   "source": [
    "y = endireh[['P9_8_abuso', 'P9_8_atencion']].copy()\n",
    "X = endireh.drop(columns=['P9_8', 'P9_8_abuso', 'P9_8_atencion'], inplace=False)"
   ]
  },
  {
   "cell_type": "markdown",
   "metadata": {},
   "source": [
    "Borro 'P9_8_abuso', 'P9_8_atencion' del dataset de Chef"
   ]
  },
  {
   "cell_type": "code",
   "execution_count": 12,
   "metadata": {},
   "outputs": [],
   "source": [
    "endireh.drop(columns=['P9_8_abuso', 'P9_8_atencion'], inplace=True)"
   ]
  },
  {
   "cell_type": "code",
   "execution_count": 13,
   "metadata": {},
   "outputs": [],
   "source": [
    "endireh.loc[endireh[\"P9_8\"]==0, \"P9_8\"] = 'No'\n",
    "endireh.loc[endireh[\"P9_8\"]==1, \"P9_8\"] = 'Si'"
   ]
  },
  {
   "cell_type": "code",
   "execution_count": 14,
   "metadata": {},
   "outputs": [],
   "source": [
    "X_train, X_test = train_test_split(endireh, test_size=0.2, random_state=5, stratify=endireh['P9_8'])"
   ]
  },
  {
   "cell_type": "code",
   "execution_count": 15,
   "metadata": {},
   "outputs": [],
   "source": [
    "X_train = asegurarPrimerSi(X_train)\n",
    "X_test  = asegurarPrimerSi(X_test)"
   ]
  },
  {
   "cell_type": "markdown",
   "metadata": {},
   "source": [
    "## Encontrar los mejores parámetros con _Random Forest_"
   ]
  },
  {
   "cell_type": "code",
   "execution_count": 12,
   "metadata": {},
   "outputs": [],
   "source": [
    "param_grid = ParameterGrid(\n",
    "                {\n",
    "                 'max_features'      : ['auto', 'sqrt', 'log2'],\n",
    "                 'criterion'         : ['gini', 'entropy'],\n",
    "                 'warm_start'        : [True, False],\n",
    "                 'bootstrap'         : [True, False],\n",
    "                 'min_samples_split' : range(285, 580, 25),\n",
    "                 'min_samples_leaf'  : range(150, 200, 2),\n",
    "                 'random_state'      : [5],\n",
    "                }\n",
    "            )\n"
   ]
  },
  {
   "cell_type": "code",
   "execution_count": 13,
   "metadata": {},
   "outputs": [
    {
     "name": "stdout",
     "output_type": "stream",
     "text": [
      "Current Time is : 17:52:48\n"
     ]
    }
   ],
   "source": [
    "print(\"Current Time is :\", time.strftime(\"%H:%M:%S\", time.localtime()))"
   ]
  },
  {
   "cell_type": "code",
   "execution_count": 14,
   "metadata": {},
   "outputs": [
    {
     "name": "stdout",
     "output_type": "stream",
     "text": [
      "Modelo 0: {'bootstrap': True, 'criterion': 'gini', 'max_features': 'auto', 'min_samples_leaf': 150, 'min_samples_split': 285, 'random_state': 5, 'warm_start': True} ✓\n",
      "Modelo 300: {'bootstrap': True, 'criterion': 'gini', 'max_features': 'auto', 'min_samples_leaf': 174, 'min_samples_split': 435, 'random_state': 5, 'warm_start': True} ✓\n",
      "Modelo 600: {'bootstrap': True, 'criterion': 'gini', 'max_features': 'sqrt', 'min_samples_leaf': 150, 'min_samples_split': 285, 'random_state': 5, 'warm_start': True} ✓\n",
      "Modelo 900: {'bootstrap': True, 'criterion': 'gini', 'max_features': 'sqrt', 'min_samples_leaf': 174, 'min_samples_split': 435, 'random_state': 5, 'warm_start': True} ✓\n",
      "Modelo 1200: {'bootstrap': True, 'criterion': 'gini', 'max_features': 'log2', 'min_samples_leaf': 150, 'min_samples_split': 285, 'random_state': 5, 'warm_start': True} ✓\n",
      "Modelo 1500: {'bootstrap': True, 'criterion': 'gini', 'max_features': 'log2', 'min_samples_leaf': 174, 'min_samples_split': 435, 'random_state': 5, 'warm_start': True} ✓\n",
      "Modelo 1800: {'bootstrap': True, 'criterion': 'entropy', 'max_features': 'auto', 'min_samples_leaf': 150, 'min_samples_split': 285, 'random_state': 5, 'warm_start': True} ✓\n",
      "Modelo 2100: {'bootstrap': True, 'criterion': 'entropy', 'max_features': 'auto', 'min_samples_leaf': 174, 'min_samples_split': 435, 'random_state': 5, 'warm_start': True} ✓\n",
      "Modelo 2700: {'bootstrap': True, 'criterion': 'entropy', 'max_features': 'sqrt', 'min_samples_leaf': 174, 'min_samples_split': 435, 'random_state': 5, 'warm_start': True} ✓\n",
      "Modelo 3000: {'bootstrap': True, 'criterion': 'entropy', 'max_features': 'log2', 'min_samples_leaf': 150, 'min_samples_split': 285, 'random_state': 5, 'warm_start': True} ✓\n",
      "Modelo 3300: {'bootstrap': True, 'criterion': 'entropy', 'max_features': 'log2', 'min_samples_leaf': 174, 'min_samples_split': 435, 'random_state': 5, 'warm_start': True} ✓\n",
      "Modelo 3600: {'bootstrap': False, 'criterion': 'gini', 'max_features': 'auto', 'min_samples_leaf': 150, 'min_samples_split': 285, 'random_state': 5, 'warm_start': True} ✓\n",
      "Modelo 3900: {'bootstrap': False, 'criterion': 'gini', 'max_features': 'auto', 'min_samples_leaf': 174, 'min_samples_split': 435, 'random_state': 5, 'warm_start': True} ✓\n",
      "Modelo 4200: {'bootstrap': False, 'criterion': 'gini', 'max_features': 'sqrt', 'min_samples_leaf': 150, 'min_samples_split': 285, 'random_state': 5, 'warm_start': True} ✓\n",
      "Modelo 4500: {'bootstrap': False, 'criterion': 'gini', 'max_features': 'sqrt', 'min_samples_leaf': 174, 'min_samples_split': 435, 'random_state': 5, 'warm_start': True} ✓\n",
      "Modelo 4800: {'bootstrap': False, 'criterion': 'gini', 'max_features': 'log2', 'min_samples_leaf': 150, 'min_samples_split': 285, 'random_state': 5, 'warm_start': True} ✓\n",
      "Modelo 5100: {'bootstrap': False, 'criterion': 'gini', 'max_features': 'log2', 'min_samples_leaf': 174, 'min_samples_split': 435, 'random_state': 5, 'warm_start': True} ✓\n",
      "Modelo 5400: {'bootstrap': False, 'criterion': 'entropy', 'max_features': 'auto', 'min_samples_leaf': 150, 'min_samples_split': 285, 'random_state': 5, 'warm_start': True} ✓\n",
      "Modelo 5700: {'bootstrap': False, 'criterion': 'entropy', 'max_features': 'auto', 'min_samples_leaf': 174, 'min_samples_split': 435, 'random_state': 5, 'warm_start': True} ✓\n",
      "Modelo 6000: {'bootstrap': False, 'criterion': 'entropy', 'max_features': 'sqrt', 'min_samples_leaf': 150, 'min_samples_split': 285, 'random_state': 5, 'warm_start': True} ✓\n",
      "Modelo 6300: {'bootstrap': False, 'criterion': 'entropy', 'max_features': 'sqrt', 'min_samples_leaf': 174, 'min_samples_split': 435, 'random_state': 5, 'warm_start': True} ✓\n",
      "Modelo 6600: {'bootstrap': False, 'criterion': 'entropy', 'max_features': 'log2', 'min_samples_leaf': 150, 'min_samples_split': 285, 'random_state': 5, 'warm_start': True} ✓\n",
      "Modelo 6900: {'bootstrap': False, 'criterion': 'entropy', 'max_features': 'log2', 'min_samples_leaf': 174, 'min_samples_split': 435, 'random_state': 5, 'warm_start': True} ✓\n",
      "CPU times: user 12h 47min 27s, sys: 21min 51s, total: 13h 9min 18s\n",
      "Wall time: 7h 18min 15s\n"
     ]
    }
   ],
   "source": [
    "%time resultados, importances = grid(param_grid, X, y, cv=5)"
   ]
  },
  {
   "cell_type": "code",
   "execution_count": 15,
   "metadata": {},
   "outputs": [
    {
     "name": "stdout",
     "output_type": "stream",
     "text": [
      "Current Time is : 01:11:03\n"
     ]
    }
   ],
   "source": [
    "print(\"Current Time is :\", time.strftime(\"%H:%M:%S\", time.localtime()))"
   ]
  },
  {
   "cell_type": "raw",
   "metadata": {},
   "source": [
    "tn, fp, fn, tp"
   ]
  },
  {
   "cell_type": "code",
   "execution_count": 16,
   "metadata": {},
   "outputs": [
    {
     "data": {
      "text/html": [
       "<div>\n",
       "<style scoped>\n",
       "    .dataframe tbody tr th:only-of-type {\n",
       "        vertical-align: middle;\n",
       "    }\n",
       "\n",
       "    .dataframe tbody tr th {\n",
       "        vertical-align: top;\n",
       "    }\n",
       "\n",
       "    .dataframe thead th {\n",
       "        text-align: right;\n",
       "    }\n",
       "</style>\n",
       "<table border=\"1\" class=\"dataframe\">\n",
       "  <thead>\n",
       "    <tr style=\"text-align: right;\">\n",
       "      <th></th>\n",
       "      <th>f1_abuso</th>\n",
       "      <th>cm_abuso</th>\n",
       "      <th>f1_atencion</th>\n",
       "      <th>cm_atencion</th>\n",
       "      <th>bootstrap</th>\n",
       "      <th>criterion</th>\n",
       "      <th>max_features</th>\n",
       "      <th>min_samples_leaf</th>\n",
       "      <th>min_samples_split</th>\n",
       "      <th>random_state</th>\n",
       "      <th>warm_start</th>\n",
       "    </tr>\n",
       "  </thead>\n",
       "  <tbody>\n",
       "    <tr>\n",
       "      <th>0</th>\n",
       "      <td>0.0</td>\n",
       "      <td>[2784, 0, 997, 0]</td>\n",
       "      <td>0.0</td>\n",
       "      <td>[3147, 0, 634, 0]</td>\n",
       "      <td>True</td>\n",
       "      <td>gini</td>\n",
       "      <td>auto</td>\n",
       "      <td>150</td>\n",
       "      <td>285</td>\n",
       "      <td>5</td>\n",
       "      <td>True</td>\n",
       "    </tr>\n",
       "    <tr>\n",
       "      <th>4837</th>\n",
       "      <td>0.0</td>\n",
       "      <td>[2796, 0, 985, 0]</td>\n",
       "      <td>0.0</td>\n",
       "      <td>[3194, 0, 587, 0]</td>\n",
       "      <td>False</td>\n",
       "      <td>gini</td>\n",
       "      <td>log2</td>\n",
       "      <td>152</td>\n",
       "      <td>435</td>\n",
       "      <td>5</td>\n",
       "      <td>False</td>\n",
       "    </tr>\n",
       "    <tr>\n",
       "      <th>4807</th>\n",
       "      <td>0.0</td>\n",
       "      <td>[2721, 0, 1060, 0]</td>\n",
       "      <td>0.0</td>\n",
       "      <td>[3140, 0, 641, 0]</td>\n",
       "      <td>False</td>\n",
       "      <td>gini</td>\n",
       "      <td>log2</td>\n",
       "      <td>150</td>\n",
       "      <td>360</td>\n",
       "      <td>5</td>\n",
       "      <td>False</td>\n",
       "    </tr>\n",
       "    <tr>\n",
       "      <th>4806</th>\n",
       "      <td>0.0</td>\n",
       "      <td>[2790, 0, 991, 0]</td>\n",
       "      <td>0.0</td>\n",
       "      <td>[3124, 0, 657, 0]</td>\n",
       "      <td>False</td>\n",
       "      <td>gini</td>\n",
       "      <td>log2</td>\n",
       "      <td>150</td>\n",
       "      <td>360</td>\n",
       "      <td>5</td>\n",
       "      <td>True</td>\n",
       "    </tr>\n",
       "    <tr>\n",
       "      <th>4805</th>\n",
       "      <td>0.0</td>\n",
       "      <td>[2734, 0, 1047, 0]</td>\n",
       "      <td>0.0</td>\n",
       "      <td>[3125, 0, 656, 0]</td>\n",
       "      <td>False</td>\n",
       "      <td>gini</td>\n",
       "      <td>log2</td>\n",
       "      <td>150</td>\n",
       "      <td>335</td>\n",
       "      <td>5</td>\n",
       "      <td>False</td>\n",
       "    </tr>\n",
       "    <tr>\n",
       "      <th>4804</th>\n",
       "      <td>0.0</td>\n",
       "      <td>[2737, 0, 1044, 0]</td>\n",
       "      <td>0.0</td>\n",
       "      <td>[3151, 0, 630, 0]</td>\n",
       "      <td>False</td>\n",
       "      <td>gini</td>\n",
       "      <td>log2</td>\n",
       "      <td>150</td>\n",
       "      <td>335</td>\n",
       "      <td>5</td>\n",
       "      <td>True</td>\n",
       "    </tr>\n",
       "    <tr>\n",
       "      <th>4803</th>\n",
       "      <td>0.0</td>\n",
       "      <td>[2770, 0, 1011, 0]</td>\n",
       "      <td>0.0</td>\n",
       "      <td>[3129, 0, 652, 0]</td>\n",
       "      <td>False</td>\n",
       "      <td>gini</td>\n",
       "      <td>log2</td>\n",
       "      <td>150</td>\n",
       "      <td>310</td>\n",
       "      <td>5</td>\n",
       "      <td>False</td>\n",
       "    </tr>\n",
       "    <tr>\n",
       "      <th>4802</th>\n",
       "      <td>0.0</td>\n",
       "      <td>[2772, 0, 1009, 0]</td>\n",
       "      <td>0.0</td>\n",
       "      <td>[3147, 0, 634, 0]</td>\n",
       "      <td>False</td>\n",
       "      <td>gini</td>\n",
       "      <td>log2</td>\n",
       "      <td>150</td>\n",
       "      <td>310</td>\n",
       "      <td>5</td>\n",
       "      <td>True</td>\n",
       "    </tr>\n",
       "    <tr>\n",
       "      <th>4801</th>\n",
       "      <td>0.0</td>\n",
       "      <td>[2828, 0, 953, 0]</td>\n",
       "      <td>0.0</td>\n",
       "      <td>[3142, 0, 639, 0]</td>\n",
       "      <td>False</td>\n",
       "      <td>gini</td>\n",
       "      <td>log2</td>\n",
       "      <td>150</td>\n",
       "      <td>285</td>\n",
       "      <td>5</td>\n",
       "      <td>False</td>\n",
       "    </tr>\n",
       "    <tr>\n",
       "      <th>4800</th>\n",
       "      <td>0.0</td>\n",
       "      <td>[2784, 0, 997, 0]</td>\n",
       "      <td>0.0</td>\n",
       "      <td>[3128, 0, 653, 0]</td>\n",
       "      <td>False</td>\n",
       "      <td>gini</td>\n",
       "      <td>log2</td>\n",
       "      <td>150</td>\n",
       "      <td>285</td>\n",
       "      <td>5</td>\n",
       "      <td>True</td>\n",
       "    </tr>\n",
       "  </tbody>\n",
       "</table>\n",
       "</div>"
      ],
      "text/plain": [
       "      f1_abuso            cm_abuso  f1_atencion        cm_atencion  bootstrap  \\\n",
       "0          0.0   [2784, 0, 997, 0]          0.0  [3147, 0, 634, 0]       True   \n",
       "4837       0.0   [2796, 0, 985, 0]          0.0  [3194, 0, 587, 0]      False   \n",
       "4807       0.0  [2721, 0, 1060, 0]          0.0  [3140, 0, 641, 0]      False   \n",
       "4806       0.0   [2790, 0, 991, 0]          0.0  [3124, 0, 657, 0]      False   \n",
       "4805       0.0  [2734, 0, 1047, 0]          0.0  [3125, 0, 656, 0]      False   \n",
       "4804       0.0  [2737, 0, 1044, 0]          0.0  [3151, 0, 630, 0]      False   \n",
       "4803       0.0  [2770, 0, 1011, 0]          0.0  [3129, 0, 652, 0]      False   \n",
       "4802       0.0  [2772, 0, 1009, 0]          0.0  [3147, 0, 634, 0]      False   \n",
       "4801       0.0   [2828, 0, 953, 0]          0.0  [3142, 0, 639, 0]      False   \n",
       "4800       0.0   [2784, 0, 997, 0]          0.0  [3128, 0, 653, 0]      False   \n",
       "\n",
       "     criterion max_features  min_samples_leaf  min_samples_split  \\\n",
       "0         gini         auto               150                285   \n",
       "4837      gini         log2               152                435   \n",
       "4807      gini         log2               150                360   \n",
       "4806      gini         log2               150                360   \n",
       "4805      gini         log2               150                335   \n",
       "4804      gini         log2               150                335   \n",
       "4803      gini         log2               150                310   \n",
       "4802      gini         log2               150                310   \n",
       "4801      gini         log2               150                285   \n",
       "4800      gini         log2               150                285   \n",
       "\n",
       "      random_state  warm_start  \n",
       "0                5        True  \n",
       "4837             5       False  \n",
       "4807             5       False  \n",
       "4806             5        True  \n",
       "4805             5       False  \n",
       "4804             5        True  \n",
       "4803             5       False  \n",
       "4802             5        True  \n",
       "4801             5       False  \n",
       "4800             5        True  "
      ]
     },
     "execution_count": 16,
     "metadata": {},
     "output_type": "execute_result"
    }
   ],
   "source": [
    "resultados.sort_values(by=['f1_abuso'], ascending=False).head(10)"
   ]
  },
  {
   "cell_type": "code",
   "execution_count": 17,
   "metadata": {},
   "outputs": [
    {
     "data": {
      "image/png": "[encoded data removed]",
      "text/plain": [
       "<Figure size 720x360 with 1 Axes>"
      ]
     },
     "metadata": {
      "needs_background": "light"
     },
     "output_type": "display_data"
    }
   ],
   "source": [
    "forest_importances = pd.Series(np.mean(importances, axis = 0), index=X.columns)\n",
    "forest_importances.sort_values(ascending=False, inplace=True)\n",
    "\n",
    "fig, ax = plt.subplots(figsize=(10,5))\n",
    "#forest_importances[:15].plot.bar(yerr=std, ax=ax)\n",
    "forest_importances.plot.bar(ax=ax)\n",
    "ax.set_title(\"Feature importances using MDI\")\n",
    "ax.set_ylabel(\"Mean decrease in impurity\")\n",
    "fig.tight_layout()"
   ]
  },
  {
   "cell_type": "raw",
   "metadata": {},
   "source": [
    "textfile = open(\"FI/multiple/Ambos4_feature_importance_RF_Org_All.txt\", \"w\")\n",
    "textfile.write(','.join(endireh.columns) + \"\\n\")\n",
    "for imp in importances:\n",
    "    textfile.write(','.join(map(str, imp)) + \"\\n\")\n",
    "textfile.close()"
   ]
  },
  {
   "cell_type": "markdown",
   "metadata": {},
   "source": [
    "### ID3"
   ]
  },
  {
   "cell_type": "code",
   "execution_count": 16,
   "metadata": {},
   "outputs": [
    {
     "name": "stdout",
     "output_type": "stream",
     "text": [
      "[INFO]:  -1 CPU cores will be allocated in parallel running\n",
      "ID3  tree is going to be built...\n",
      "-------------------------\n",
      "finished in  2142.8424689769745  seconds\n",
      "-------------------------\n",
      "Evaluate  train set\n",
      "-------------------------\n",
      "Accuracy:  100.0 % on  15121  instances\n",
      "Labels:  ['Si' 'No']\n",
      "Confusion matrix:  [[5130, 0], [0, 9991]]\n",
      "Precision:  100.0 %, Recall:  100.0 %, F1:  100.0 %\n",
      "\n",
      "\n",
      "CPU times: user 35min 35s, sys: 8 s, total: 35min 43s\n",
      "Wall time: 35min 44s\n"
     ]
    }
   ],
   "source": [
    "config = {'algorithm':'ID3', 'enableParallelism':True, 'num_cores': -1, 'max_depth': 6}\n",
    "%time model = chef.fit(X_train, config = config, target_label = 'P9_8');print('\\n')"
   ]
  },
  {
   "cell_type": "code",
   "execution_count": 17,
   "metadata": {},
   "outputs": [
    {
     "name": "stdout",
     "output_type": "stream",
     "text": [
      "-------------------------\n",
      "Evaluate  test set\n",
      "-------------------------\n",
      "Accuracy:  56.5987833906374 % on  3781  instances\n",
      "Labels:  ['Si' 'No']\n",
      "Confusion matrix:  [[520, 878], [763, 1620]]\n",
      "Precision:  37.196 %, Recall:  40.53 %, F1:  38.7915 %\n"
     ]
    }
   ],
   "source": [
    "chef.evaluate(model, X_test, target_label='P9_8', task=\"test\")"
   ]
  },
  {
   "cell_type": "markdown",
   "metadata": {},
   "source": [
    "### C4.5"
   ]
  },
  {
   "cell_type": "code",
   "execution_count": 18,
   "metadata": {},
   "outputs": [
    {
     "name": "stdout",
     "output_type": "stream",
     "text": [
      "[INFO]:  -1 CPU cores will be allocated in parallel running\n",
      "C4.5  tree is going to be built...\n",
      "-------------------------\n",
      "finished in  2242.9967954158783  seconds\n",
      "-------------------------\n",
      "Evaluate  train set\n",
      "-------------------------\n",
      "Accuracy:  100.0 % on  15121  instances\n",
      "Labels:  ['Si' 'No']\n",
      "Confusion matrix:  [[5130, 0], [0, 9991]]\n",
      "Precision:  100.0 %, Recall:  100.0 %, F1:  100.0 %\n",
      "\n",
      "\n",
      "CPU times: user 37min 15s, sys: 8.81 s, total: 37min 23s\n",
      "Wall time: 37min 24s\n"
     ]
    }
   ],
   "source": [
    "config = {'algorithm':'C4.5', 'enableParallelism':True, 'num_cores': -1, 'max_depth': 6}\n",
    "%time model = chef.fit(X_train, config = config, target_label = 'P9_8');print('\\n')"
   ]
  },
  {
   "cell_type": "code",
   "execution_count": 19,
   "metadata": {},
   "outputs": [
    {
     "name": "stdout",
     "output_type": "stream",
     "text": [
      "-------------------------\n",
      "Evaluate  test set\n",
      "-------------------------\n",
      "Accuracy:  55.64665432425284 % on  3781  instances\n",
      "Labels:  ['Si' 'No']\n",
      "Confusion matrix:  [[510, 904], [773, 1594]]\n",
      "Precision:  36.0679 %, Recall:  39.7506 %, F1:  37.8198 %\n"
     ]
    }
   ],
   "source": [
    "chef.evaluate(model, X_test, target_label='P9_8', task=\"test\")"
   ]
  },
  {
   "cell_type": "markdown",
   "metadata": {},
   "source": [
    "### CHAID"
   ]
  },
  {
   "cell_type": "code",
   "execution_count": 20,
   "metadata": {},
   "outputs": [
    {
     "name": "stdout",
     "output_type": "stream",
     "text": [
      "[INFO]:  -1 CPU cores will be allocated in parallel running\n",
      "CHAID  tree is going to be built...\n",
      "-------------------------\n",
      "finished in  2992.2290210723877  seconds\n",
      "-------------------------\n",
      "Evaluate  train set\n",
      "-------------------------\n",
      "Accuracy:  100.0 % on  15121  instances\n",
      "Labels:  ['Si' 'No']\n",
      "Confusion matrix:  [[5130, 0], [0, 9991]]\n",
      "Precision:  100.0 %, Recall:  100.0 %, F1:  100.0 %\n",
      "\n",
      "\n",
      "CPU times: user 49min 43s, sys: 8.32 s, total: 49min 52s\n",
      "Wall time: 49min 53s\n"
     ]
    }
   ],
   "source": [
    "config = {'algorithm':'CHAID', 'enableParallelism':True, 'num_cores': -1, 'max_depth': 6}\n",
    "%time model = chef.fit(X_train, config = config, target_label = 'P9_8');print('\\n')"
   ]
  },
  {
   "cell_type": "code",
   "execution_count": 21,
   "metadata": {},
   "outputs": [
    {
     "name": "stdout",
     "output_type": "stream",
     "text": [
      "-------------------------\n",
      "Evaluate  test set\n",
      "-------------------------\n",
      "Accuracy:  55.40862205765671 % on  3781  instances\n",
      "Labels:  ['Si' 'No']\n",
      "Confusion matrix:  [[460, 863], [823, 1635]]\n",
      "Precision:  34.7695 %, Recall:  35.8535 %, F1:  35.3032 %\n"
     ]
    }
   ],
   "source": [
    "chef.evaluate(model, X_test, target_label='P9_8', task=\"test\")"
   ]
  },
  {
   "cell_type": "markdown",
   "metadata": {},
   "source": [
    "### CART"
   ]
  },
  {
   "cell_type": "code",
   "execution_count": 22,
   "metadata": {},
   "outputs": [
    {
     "name": "stdout",
     "output_type": "stream",
     "text": [
      "[INFO]:  -1 CPU cores will be allocated in parallel running\n",
      "CART  tree is going to be built...\n",
      "-------------------------\n",
      "finished in  1856.0662682056427  seconds\n",
      "-------------------------\n",
      "Evaluate  train set\n",
      "-------------------------\n",
      "Accuracy:  100.0 % on  15121  instances\n",
      "Labels:  ['Si' 'No']\n",
      "Confusion matrix:  [[5130, 0], [0, 9991]]\n",
      "Precision:  100.0 %, Recall:  100.0 %, F1:  100.0 %\n",
      "\n",
      "\n",
      "CPU times: user 30min 49s, sys: 7.57 s, total: 30min 56s\n",
      "Wall time: 30min 57s\n"
     ]
    }
   ],
   "source": [
    "config = {'algorithm':'CART', 'enableParallelism':True, 'num_cores': -1, 'max_depth': 6}\n",
    "%time model = chef.fit(X_train, config = config, target_label = 'P9_8');print('\\n')"
   ]
  },
  {
   "cell_type": "code",
   "execution_count": 23,
   "metadata": {},
   "outputs": [
    {
     "name": "stdout",
     "output_type": "stream",
     "text": [
      "-------------------------\n",
      "Evaluate  test set\n",
      "-------------------------\n",
      "Accuracy:  56.01692673895795 % on  3781  instances\n",
      "Labels:  ['Si' 'No']\n",
      "Confusion matrix:  [[499, 879], [784, 1619]]\n",
      "Precision:  36.2119 %, Recall:  38.8932 %, F1:  37.5047 %\n"
     ]
    }
   ],
   "source": [
    "chef.evaluate(model, X_test, target_label='P9_8', task=\"test\")"
   ]
  },
  {
   "cell_type": "markdown",
   "metadata": {},
   "source": [
    "### enableGBM"
   ]
  },
  {
   "cell_type": "code",
   "execution_count": 24,
   "metadata": {},
   "outputs": [
    {
     "name": "stderr",
     "output_type": "stream",
     "text": [
      "Boosting:   0%|          | 0/10 [00:00<?, ?it/s]"
     ]
    },
    {
     "name": "stdout",
     "output_type": "stream",
     "text": [
      "[INFO]:  -1 CPU cores will be allocated in parallel running\n",
      "Gradient Boosting Machines...\n",
      "Regression  tree is going to be built...\n",
      "gradient boosting for classification\n"
     ]
    },
    {
     "name": "stderr",
     "output_type": "stream",
     "text": [
      "Epoch 10. Accuracy: 91. Process: : 100%|██████████| 10/10 [5:30:20<00:00, 1982.05s/it]\n"
     ]
    },
    {
     "name": "stdout",
     "output_type": "stream",
     "text": [
      "The best accuracy got in  8  epoch with the score  92.20950995304544\n",
      "-------------------------\n",
      "finished in  19820.544476509094  seconds\n",
      "-------------------------\n",
      "Evaluate  train set\n",
      "-------------------------\n",
      "Accuracy:  91.8854573110244 % on  15121  instances\n",
      "Labels:  ['Si' 'No']\n",
      "Confusion matrix:  [[4227, 324], [903, 9667]]\n",
      "Precision:  92.8807 %, Recall:  82.3977 %, F1:  87.3257 %\n",
      "\n",
      "\n",
      "CPU times: user 5h 29min 3s, sys: 1min 12s, total: 5h 30min 15s\n",
      "Wall time: 5h 30min 22s\n"
     ]
    }
   ],
   "source": [
    "config = {'enableGBM': True, 'enableParallelism':True, 'num_cores': -1, 'max_depth': 6}\n",
    "%time model = chef.fit(X_train, config = config, target_label = 'P9_8');print('\\n')"
   ]
  },
  {
   "cell_type": "code",
   "execution_count": 25,
   "metadata": {},
   "outputs": [
    {
     "name": "stdout",
     "output_type": "stream",
     "text": [
      "-------------------------\n",
      "Evaluate  test set\n",
      "-------------------------\n",
      "Accuracy:  58.582385612271885 % on  3781  instances\n",
      "Labels:  ['Si' 'No']\n",
      "Confusion matrix:  [[395, 678], [888, 1820]]\n",
      "Precision:  36.8127 %, Recall:  30.7872 %, F1:  33.5314 %\n"
     ]
    }
   ],
   "source": [
    "chef.evaluate(model, X_test, target_label='P9_8', task=\"test\")"
   ]
  },
  {
   "cell_type": "markdown",
   "metadata": {},
   "source": [
    "### Feature importance"
   ]
  },
  {
   "cell_type": "code",
   "execution_count": 26,
   "metadata": {},
   "outputs": [
    {
     "name": "stdout",
     "output_type": "stream",
     "text": [
      "Decision rule:  outputs/rules/rules-for-No-round-0.py\n",
      "Decision rule:  outputs/rules/rules-for-No-round-1.py\n",
      "Decision rule:  outputs/rules/rules-for-No-round-2.py\n",
      "Decision rule:  outputs/rules/rules-for-No-round-3.py\n",
      "Decision rule:  outputs/rules/rules-for-No-round-4.py\n",
      "Decision rule:  outputs/rules/rules-for-No-round-5.py\n",
      "Decision rule:  outputs/rules/rules-for-No-round-6.py\n",
      "Decision rule:  outputs/rules/rules-for-No-round-7.py\n",
      "Decision rule:  outputs/rules/rules-for-No-round-8.py\n",
      "Decision rule:  outputs/rules/rules-for-No-round-9.py\n"
     ]
    }
   ],
   "source": [
    "fi = chef.feature_importance(\"outputs/rules/rules-for-No-round-0.py\").set_index('feature')\n",
    "for i in range(1, 10):\n",
    "    fi = fi.join(chef.feature_importance(f\"outputs/rules/rules-for-No-round-{i}.py\").set_index('feature'), rsuffix=i)\n",
    "    #fi = pd.merge(fi, chef.feature_importance(f\"outputs/rules/rule_{i}.py\").set_index('feature'), left_index=True, right_index=True)\n",
    "    #fi  = pd.concat([fi, chef.feature_importance(f\"outputs/rules/rule_{i}.py\").set_index('feature')], axis=1)"
   ]
  },
  {
   "cell_type": "code",
   "execution_count": 28,
   "metadata": {},
   "outputs": [],
   "source": [
    "fi.insert(10, \"std\", fi.std(axis=1))\n",
    "fi.insert(11, \"mean\", fi.mean(axis=1))\n",
    "fi.insert(12, \"min\", fi.min(axis=1))\n",
    "fi.insert(13, \"max\", fi.max(axis=1))"
   ]
  },
  {
   "cell_type": "code",
   "execution_count": 30,
   "metadata": {},
   "outputs": [
    {
     "data": {
      "text/plain": [
       "<matplotlib.axes._subplots.AxesSubplot at 0x7fdbd0e89b70>"
      ]
     },
     "execution_count": 30,
     "metadata": {},
     "output_type": "execute_result"
    },
    {
     "data": {
      "image/png": "[encoded data removed]",
      "text/plain": [
       "<Figure size 1080x360 with 1 Axes>"
      ]
     },
     "metadata": {
      "needs_background": "light"
     },
     "output_type": "display_data"
    }
   ],
   "source": [
    "fi['mean'].plot.bar(title=\"Feature Importance\", figsize=(15,5), yerr=fi['std'])"
   ]
  },
  {
   "cell_type": "markdown",
   "metadata": {},
   "source": [
    "### enableRandomForest 5"
   ]
  },
  {
   "cell_type": "code",
   "execution_count": 32,
   "metadata": {},
   "outputs": [
    {
     "name": "stderr",
     "output_type": "stream",
     "text": [
      "Sub decision tree 5 is processing: 100%|██████████| 5/5 [00:00<00:00, 216.05it/s]"
     ]
    },
    {
     "name": "stdout",
     "output_type": "stream",
     "text": [
      "[INFO]:  8 CPU cores will be allocated in parallel running\n",
      "CART  tree is going to be built...\n"
     ]
    },
    {
     "name": "stderr",
     "output_type": "stream",
     "text": [
      "\n",
      "100%|██████████| 5/5 [03:39<00:00, 43.88s/it] \n"
     ]
    },
    {
     "name": "stdout",
     "output_type": "stream",
     "text": [
      "-------------------------\n",
      "finished in  219.55368304252625  seconds\n",
      "-------------------------\n",
      "Evaluate  train set\n",
      "-------------------------\n",
      "Accuracy:  72.47536538588717 % on  15121  instances\n",
      "Labels:  ['Si' 'No']\n",
      "Confusion matrix:  [[2542, 1574], [2588, 8417]]\n",
      "Precision:  61.759 %, Recall:  49.5517 %, F1:  54.986 %\n",
      "\n",
      "\n",
      "CPU times: user 2.16 s, sys: 128 ms, total: 2.29 s\n",
      "Wall time: 3min 41s\n"
     ]
    }
   ],
   "source": [
    "config = {'enableRandomForest':True, 'num_of_trees':5, 'algorithm':'CART', 'enableParallelism':True, 'num_cores': 8, 'max_depth': 6}\n",
    "%time model1 = chef.fit(X_train, config = config, target_label = 'P9_8');print('\\n')"
   ]
  },
  {
   "cell_type": "code",
   "execution_count": 33,
   "metadata": {},
   "outputs": [
    {
     "name": "stdout",
     "output_type": "stream",
     "text": [
      "-------------------------\n",
      "Evaluate  test set\n",
      "-------------------------\n",
      "Accuracy:  59.2964824120603 % on  3781  instances\n",
      "Labels:  ['Si' 'No']\n",
      "Confusion matrix:  [[361, 617], [922, 1881]]\n",
      "Precision:  36.9121 %, Recall:  28.1372 %, F1:  31.9328 %\n"
     ]
    }
   ],
   "source": [
    "chef.evaluate(model1, X_test, target_label='P9_8', task=\"test\")"
   ]
  },
  {
   "cell_type": "markdown",
   "metadata": {},
   "source": [
    "### enableRandomForest 100"
   ]
  },
  {
   "cell_type": "code",
   "execution_count": 34,
   "metadata": {},
   "outputs": [
    {
     "name": "stderr",
     "output_type": "stream",
     "text": [
      "Sub decision tree 100 is processing: 100%|██████████| 100/100 [00:00<00:00, 764.50it/s]"
     ]
    },
    {
     "name": "stdout",
     "output_type": "stream",
     "text": [
      "[INFO]:  8 CPU cores will be allocated in parallel running\n",
      "CART  tree is going to be built...\n"
     ]
    },
    {
     "name": "stderr",
     "output_type": "stream",
     "text": [
      "\n",
      "100%|██████████| 100/100 [02:10<00:00,  1.31s/it]\n"
     ]
    },
    {
     "name": "stdout",
     "output_type": "stream",
     "text": [
      "-------------------------\n",
      "finished in  130.84362721443176  seconds\n",
      "-------------------------\n",
      "Evaluate  train set\n",
      "-------------------------\n",
      "Accuracy:  66.15303220686462 % on  15121  instances\n",
      "Labels:  ['Si' 'No']\n",
      "Confusion matrix:  [[122, 110], [5008, 9881]]\n",
      "Precision:  52.5862 %, Recall:  2.3782 %, F1:  4.5506 %\n",
      "\n",
      "\n",
      "CPU times: user 4.41 s, sys: 136 ms, total: 4.54 s\n",
      "Wall time: 2min 14s\n"
     ]
    }
   ],
   "source": [
    "config = {'enableRandomForest':True, 'num_of_trees':100, 'algorithm':'CART', 'enableParallelism':True, 'num_cores': 8, 'max_depth': 6}\n",
    "%time model1 = chef.fit(X_train, config = config, target_label = 'P9_8');print('\\n')"
   ]
  },
  {
   "cell_type": "code",
   "execution_count": 35,
   "metadata": {},
   "outputs": [
    {
     "name": "stdout",
     "output_type": "stream",
     "text": [
      "-------------------------\n",
      "Evaluate  test set\n",
      "-------------------------\n",
      "Accuracy:  65.77624966939963 % on  3781  instances\n",
      "Labels:  ['Si' 'No']\n",
      "Confusion matrix:  [[19, 30], [1264, 2468]]\n",
      "Precision:  38.7755 %, Recall:  1.4809 %, F1:  2.8528 %\n"
     ]
    }
   ],
   "source": [
    "chef.evaluate(model1, X_test, target_label='P9_8', task=\"test\")"
   ]
  },
  {
   "cell_type": "markdown",
   "metadata": {},
   "source": [
    "### Feature importance"
   ]
  },
  {
   "cell_type": "code",
   "execution_count": 36,
   "metadata": {
    "collapsed": true,
    "jupyter": {
     "outputs_hidden": true
    }
   },
   "outputs": [
    {
     "name": "stdout",
     "output_type": "stream",
     "text": [
      "Decision rule:  outputs/rules/rule_0.py\n",
      "Decision rule:  outputs/rules/rule_1.py\n",
      "Decision rule:  outputs/rules/rule_2.py\n",
      "Decision rule:  outputs/rules/rule_3.py\n",
      "Decision rule:  outputs/rules/rule_4.py\n",
      "Decision rule:  outputs/rules/rule_5.py\n",
      "Decision rule:  outputs/rules/rule_6.py\n",
      "Decision rule:  outputs/rules/rule_7.py\n",
      "Decision rule:  outputs/rules/rule_8.py\n",
      "Decision rule:  outputs/rules/rule_9.py\n",
      "Decision rule:  outputs/rules/rule_10.py\n",
      "Decision rule:  outputs/rules/rule_11.py\n",
      "Decision rule:  outputs/rules/rule_12.py\n",
      "Decision rule:  outputs/rules/rule_13.py\n",
      "Decision rule:  outputs/rules/rule_14.py\n",
      "Decision rule:  outputs/rules/rule_15.py\n",
      "Decision rule:  outputs/rules/rule_16.py\n",
      "Decision rule:  outputs/rules/rule_17.py\n",
      "Decision rule:  outputs/rules/rule_18.py\n",
      "Decision rule:  outputs/rules/rule_19.py\n",
      "Decision rule:  outputs/rules/rule_20.py\n",
      "Decision rule:  outputs/rules/rule_21.py\n",
      "Decision rule:  outputs/rules/rule_22.py\n",
      "Decision rule:  outputs/rules/rule_23.py\n",
      "Decision rule:  outputs/rules/rule_24.py\n",
      "Decision rule:  outputs/rules/rule_25.py\n",
      "Decision rule:  outputs/rules/rule_26.py\n",
      "Decision rule:  outputs/rules/rule_27.py\n",
      "Decision rule:  outputs/rules/rule_28.py\n",
      "Decision rule:  outputs/rules/rule_29.py\n",
      "Decision rule:  outputs/rules/rule_30.py\n",
      "Decision rule:  outputs/rules/rule_31.py\n",
      "Decision rule:  outputs/rules/rule_32.py\n",
      "Decision rule:  outputs/rules/rule_33.py\n",
      "Decision rule:  outputs/rules/rule_34.py\n",
      "Decision rule:  outputs/rules/rule_35.py\n",
      "Decision rule:  outputs/rules/rule_36.py\n",
      "Decision rule:  outputs/rules/rule_37.py\n",
      "Decision rule:  outputs/rules/rule_38.py\n",
      "Decision rule:  outputs/rules/rule_39.py\n",
      "Decision rule:  outputs/rules/rule_40.py\n",
      "Decision rule:  outputs/rules/rule_41.py\n",
      "Decision rule:  outputs/rules/rule_42.py\n",
      "Decision rule:  outputs/rules/rule_43.py\n",
      "Decision rule:  outputs/rules/rule_44.py\n",
      "Decision rule:  outputs/rules/rule_45.py\n",
      "Decision rule:  outputs/rules/rule_46.py\n",
      "Decision rule:  outputs/rules/rule_47.py\n",
      "Decision rule:  outputs/rules/rule_48.py\n",
      "Decision rule:  outputs/rules/rule_49.py\n",
      "Decision rule:  outputs/rules/rule_50.py\n",
      "Decision rule:  outputs/rules/rule_51.py\n",
      "Decision rule:  outputs/rules/rule_52.py\n",
      "Decision rule:  outputs/rules/rule_53.py\n",
      "Decision rule:  outputs/rules/rule_54.py\n",
      "Decision rule:  outputs/rules/rule_55.py\n",
      "Decision rule:  outputs/rules/rule_56.py\n",
      "Decision rule:  outputs/rules/rule_57.py\n",
      "Decision rule:  outputs/rules/rule_58.py\n",
      "Decision rule:  outputs/rules/rule_59.py\n",
      "Decision rule:  outputs/rules/rule_60.py\n",
      "Decision rule:  outputs/rules/rule_61.py\n",
      "Decision rule:  outputs/rules/rule_62.py\n",
      "Decision rule:  outputs/rules/rule_63.py\n",
      "Decision rule:  outputs/rules/rule_64.py\n",
      "Decision rule:  outputs/rules/rule_65.py\n",
      "Decision rule:  outputs/rules/rule_66.py\n",
      "Decision rule:  outputs/rules/rule_67.py\n",
      "Decision rule:  outputs/rules/rule_68.py\n",
      "Decision rule:  outputs/rules/rule_69.py\n",
      "Decision rule:  outputs/rules/rule_70.py\n",
      "Decision rule:  outputs/rules/rule_71.py\n",
      "Decision rule:  outputs/rules/rule_72.py\n",
      "Decision rule:  outputs/rules/rule_73.py\n",
      "Decision rule:  outputs/rules/rule_74.py\n",
      "Decision rule:  outputs/rules/rule_75.py\n",
      "Decision rule:  outputs/rules/rule_76.py\n",
      "Decision rule:  outputs/rules/rule_77.py\n",
      "Decision rule:  outputs/rules/rule_78.py\n",
      "Decision rule:  outputs/rules/rule_79.py\n",
      "Decision rule:  outputs/rules/rule_80.py\n",
      "Decision rule:  outputs/rules/rule_81.py\n",
      "Decision rule:  outputs/rules/rule_82.py\n",
      "Decision rule:  outputs/rules/rule_83.py\n",
      "Decision rule:  outputs/rules/rule_84.py\n",
      "Decision rule:  outputs/rules/rule_85.py\n",
      "Decision rule:  outputs/rules/rule_86.py\n",
      "Decision rule:  outputs/rules/rule_87.py\n",
      "Decision rule:  outputs/rules/rule_88.py\n",
      "Decision rule:  outputs/rules/rule_89.py\n",
      "Decision rule:  outputs/rules/rule_90.py\n",
      "Decision rule:  outputs/rules/rule_91.py\n",
      "Decision rule:  outputs/rules/rule_92.py\n",
      "Decision rule:  outputs/rules/rule_93.py\n",
      "Decision rule:  outputs/rules/rule_94.py\n",
      "Decision rule:  outputs/rules/rule_95.py\n",
      "Decision rule:  outputs/rules/rule_96.py\n",
      "Decision rule:  outputs/rules/rule_97.py\n",
      "Decision rule:  outputs/rules/rule_98.py\n",
      "Decision rule:  outputs/rules/rule_99.py\n"
     ]
    }
   ],
   "source": [
    "fi1 = chef.feature_importance(\"outputs/rules/rule_0.py\").set_index('feature')\n",
    "for i in range(1, 100):\n",
    "    fi1 = fi1.join(chef.feature_importance(f\"outputs/rules/rule_{i}.py\").set_index('feature'), rsuffix=i)\n",
    "    #fi = pd.merge(fi, chef.feature_importance(f\"outputs/rules/rule_{i}.py\").set_index('feature'), left_index=True, right_index=True)\n",
    "    #fi  = pd.concat([fi, chef.feature_importance(f\"outputs/rules/rule_{i}.py\").set_index('feature')], axis=1)"
   ]
  },
  {
   "cell_type": "code",
   "execution_count": 38,
   "metadata": {},
   "outputs": [],
   "source": [
    "fi1.insert(100, \"std\", fi1.std(axis=1))\n",
    "fi1.insert(101, \"mean\", fi1.mean(axis=1))\n",
    "fi1.insert(102, \"min\", fi1.min(axis=1))\n",
    "fi1.insert(103, \"max\", fi1.max(axis=1))"
   ]
  },
  {
   "cell_type": "code",
   "execution_count": 40,
   "metadata": {},
   "outputs": [
    {
     "data": {
      "text/plain": [
       "<matplotlib.axes._subplots.AxesSubplot at 0x7fdbd175ef60>"
      ]
     },
     "execution_count": 40,
     "metadata": {},
     "output_type": "execute_result"
    },
    {
     "data": {
      "image/png": "[encoded data removed]",
      "text/plain": [
       "<Figure size 1080x360 with 1 Axes>"
      ]
     },
     "metadata": {
      "needs_background": "light"
     },
     "output_type": "display_data"
    }
   ],
   "source": [
    "fi1['mean'].plot.bar(title=\"Feature Importance\", figsize=(15,5), yerr=fi1['std'])"
   ]
  },
  {
   "cell_type": "markdown",
   "metadata": {},
   "source": [
    "### CART"
   ]
  },
  {
   "cell_type": "code",
   "execution_count": 41,
   "metadata": {},
   "outputs": [
    {
     "name": "stdout",
     "output_type": "stream",
     "text": [
      "[INFO]:  -1 CPU cores will be allocated in parallel running\n",
      "CART  tree is going to be built...\n",
      "-------------------------\n",
      "finished in  1883.4506814479828  seconds\n",
      "-------------------------\n",
      "Evaluate  train set\n",
      "-------------------------\n",
      "Accuracy:  100.0 % on  15121  instances\n",
      "Labels:  ['Si' 'No']\n",
      "Confusion matrix:  [[5130, 0], [0, 9991]]\n",
      "Precision:  100.0 %, Recall:  100.0 %, F1:  100.0 %\n",
      "\n",
      "\n",
      "CPU times: user 31min 16s, sys: 7.67 s, total: 31min 24s\n",
      "Wall time: 31min 24s\n"
     ]
    }
   ],
   "source": [
    "config = {'algorithm':'CART', 'enableParallelism':True, 'num_cores': -1, 'max_depth': 6}\n",
    "%time model = chef.fit(X_train, config = config, target_label = 'P9_8');print('\\n')"
   ]
  },
  {
   "cell_type": "code",
   "execution_count": 42,
   "metadata": {},
   "outputs": [
    {
     "name": "stdout",
     "output_type": "stream",
     "text": [
      "-------------------------\n",
      "Evaluate  test set\n",
      "-------------------------\n",
      "Accuracy:  56.01692673895795 % on  3781  instances\n",
      "Labels:  ['Si' 'No']\n",
      "Confusion matrix:  [[499, 879], [784, 1619]]\n",
      "Precision:  36.2119 %, Recall:  38.8932 %, F1:  37.5047 %\n"
     ]
    }
   ],
   "source": [
    "chef.evaluate(model, X_test, target_label='P9_8', task=\"test\")"
   ]
  },
  {
   "cell_type": "raw",
   "metadata": {},
   "source": [
    "from sklearn.metrics import precision_recall_fscore_support\n",
    "#y_true = X_test['P9_8'].copy()\n",
    "#X_test.drop(columns=['P9_8'], inplace=True)\n",
    "y_pred = []\n",
    "for i in X_test.index:\n",
    "    y_pred.append(chef.predict(model, X_test.loc[i,:]))\n",
    "precision_recall_fscore_support(y_true, y_pred)"
   ]
  },
  {
   "cell_type": "markdown",
   "metadata": {},
   "source": [
    "### Feature importance"
   ]
  },
  {
   "cell_type": "code",
   "execution_count": 43,
   "metadata": {},
   "outputs": [
    {
     "name": "stdout",
     "output_type": "stream",
     "text": [
      "Decision rule:  outputs/rules/rules.py\n"
     ]
    },
    {
     "data": {
      "text/plain": [
       "<matplotlib.axes._subplots.AxesSubplot at 0x7fdbd1597eb8>"
      ]
     },
     "execution_count": 43,
     "metadata": {},
     "output_type": "execute_result"
    },
    {
     "data": {
      "image/png": "[encoded data removed]",
      "text/plain": [
       "<Figure size 1080x360 with 1 Axes>"
      ]
     },
     "metadata": {
      "needs_background": "light"
     },
     "output_type": "display_data"
    }
   ],
   "source": [
    "fi = chef.feature_importance(\"outputs/rules/rules.py\")\n",
    "fi.set_index('feature').plot.bar(title=\"Feature Importance\", figsize=(15,5))"
   ]
  },
  {
   "cell_type": "code",
   "execution_count": null,
   "metadata": {},
   "outputs": [],
   "source": []
  }
 ],
 "metadata": {
  "kernelspec": {
   "display_name": "Python 3",
   "language": "python",
   "name": "python3"
  },
  "language_info": {
   "codemirror_mode": {
    "name": "ipython",
    "version": 3
   },
   "file_extension": ".py",
   "mimetype": "text/x-python",
   "name": "python",
   "nbconvert_exporter": "python",
   "pygments_lexer": "ipython3",
   "version": "3.6.9"
  }
 },
 "nbformat": 4,
 "nbformat_minor": 4
}
