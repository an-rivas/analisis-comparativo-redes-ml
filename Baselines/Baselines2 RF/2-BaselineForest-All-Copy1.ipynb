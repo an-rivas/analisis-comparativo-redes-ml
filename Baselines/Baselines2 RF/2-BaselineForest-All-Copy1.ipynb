{
 "cells": [
  {
   "cell_type": "markdown",
   "metadata": {},
   "source": [
    "1. Agregar más parámetros a la búsqueda.\n",
    "2. Devolver los params de grid_search para tener el reporte."
   ]
  },
  {
   "cell_type": "code",
   "execution_count": 1,
   "metadata": {},
   "outputs": [],
   "source": [
    "# Custom functions\n",
    "# ==============================================================================\n",
    "from funciones import CargarPandasDatasetCategoricos\n",
    "\n",
    "# Tratamiento de datos\n",
    "# ==============================================================================\n",
    "import numpy as np\n",
    "import pandas as pd\n",
    "import pprint\n",
    "import time\n",
    "\n",
    "# Gráficos\n",
    "# ==============================================================================\n",
    "import matplotlib.pyplot as plt\n",
    "from sklearn import tree #La versión que tengo es 0.24.1 y está disponible apartir de la 0.21\n",
    "\n",
    "# Preprocesado y modelado\n",
    "# ==============================================================================\n",
    "from sklearn.ensemble import RandomForestClassifier\n",
    "from sklearn.tree import DecisionTreeClassifier\n",
    "from sklearn.inspection import permutation_importance\n",
    "from sklearn.metrics import f1_score, precision_recall_fscore_support, plot_confusion_matrix\n",
    "from sklearn.model_selection import train_test_split, ParameterGrid, GridSearchCV\n",
    "\n",
    "# Configuración warnings\n",
    "# ==============================================================================\n",
    "import warnings\n",
    "warnings.filterwarnings('ignore')"
   ]
  },
  {
   "cell_type": "code",
   "execution_count": 2,
   "metadata": {},
   "outputs": [],
   "source": [
    "def grid(param_grid, X, y):\n",
    "    #hacer grid search\n",
    "    grid = GridSearchCV(RandomForestClassifier(), param_grid, cv=5, scoring='f1', verbose=1, error_score=\"raise\")\n",
    "    \n",
    "    #hacer fit\n",
    "    grid.fit(X, y)\n",
    "    \n",
    "    #imprimir mejores parametros y score\n",
    "    print(f'\\nf1: {grid.best_score_}\\nparametros:')\n",
    "    pprint.pprint(grid.best_params_, width=13)\n",
    "    print('\\n')\n",
    "    \n",
    "    return grid.best_estimator_.feature_importances_"
   ]
  },
  {
   "cell_type": "code",
   "execution_count": 3,
   "metadata": {},
   "outputs": [],
   "source": [
    "def guardarImportanciasBestRF(param_grid, X, y, ruta_archivo):\n",
    "    textfile = open(ruta_archivo, \"w\")\n",
    "    textfile.write(','.join(X.columns) + \"\\n\")\n",
    "    textfile.write(','.join(map(str, grid(param_grid, X, y))))\n",
    "    textfile.close()"
   ]
  },
  {
   "cell_type": "markdown",
   "metadata": {},
   "source": [
    "## Cargar datos"
   ]
  },
  {
   "cell_type": "code",
   "execution_count": 4,
   "metadata": {},
   "outputs": [],
   "source": [
    "endireh = CargarPandasDatasetCategoricos('datasets/endireh.csv')"
   ]
  },
  {
   "cell_type": "code",
   "execution_count": 5,
   "metadata": {},
   "outputs": [
    {
     "data": {
      "text/plain": [
       "Index(['CVE_ENT', 'CVE_MUN', 'REGION', 'DOMINIO', 'T_INSTRUM', 'PISOS', 'P1_2',\n",
       "       'P1_2_A', 'FOCOS', 'P1_4_1', 'P1_4_2', 'P1_4_3', 'P1_4_4', 'P1_4_5',\n",
       "       'P1_4_6', 'P1_4_7', 'P1_4_8', 'P1_4_9', 'AGUA', 'DRENAJE', 'P1_7',\n",
       "       'P1_9', 'P1_10_1', 'P1_10_2', 'P1_10_3', 'P1_10_4', 'PAREN', 'EDAD',\n",
       "       'RES_MADRE', 'RES_PADRE', 'ESCOLARIDAD', 'GRA', 'ALFABETISMO',\n",
       "       'ASISTENCIA_ESC', 'PERT_INDIGENA', 'LENG_INDIGENA', 'LENG_ESPAÑOL',\n",
       "       'TRABAJO', 'P2_14', 'P2_15', 'P9_1', 'P9_3', 'NACIO_VIV', 'NACIO_MUERT',\n",
       "       'ABORTO', 'P9_5', 'P9_6', 'P9_7', 'P9_8_11', 'P9_8'],\n",
       "      dtype='object')"
      ]
     },
     "execution_count": 5,
     "metadata": {},
     "output_type": "execute_result"
    }
   ],
   "source": [
    "endireh.columns"
   ]
  },
  {
   "cell_type": "code",
   "execution_count": 8,
   "metadata": {},
   "outputs": [
    {
     "data": {
      "text/plain": [
       "((15647, 50), (17485, 50))"
      ]
     },
     "execution_count": 8,
     "metadata": {},
     "output_type": "execute_result"
    }
   ],
   "source": [
    "endireh.shape"
   ]
  },
  {
   "cell_type": "markdown",
   "metadata": {},
   "source": [
    "## Preprocesamiento"
   ]
  },
  {
   "cell_type": "markdown",
   "metadata": {},
   "source": [
    "### Cada tipo de violencia y 'ambos' sean 1."
   ]
  },
  {
   "cell_type": "code",
   "execution_count": 7,
   "metadata": {},
   "outputs": [],
   "source": [
    "endireh.loc[endireh[\"P9_8\"]>0, \"P9_8\"] = 1"
   ]
  },
  {
   "cell_type": "markdown",
   "metadata": {},
   "source": [
    "### Obtengo la variable objetivo _y_."
   ]
  },
  {
   "cell_type": "code",
   "execution_count": 9,
   "metadata": {},
   "outputs": [],
   "source": [
    "y = atencion_no_autorizada['P9_8'].copy()"
   ]
  },
  {
   "cell_type": "markdown",
   "metadata": {},
   "source": [
    "## Encontrar los mejores parámetros para nacional"
   ]
  },
  {
   "cell_type": "code",
   "execution_count": 10,
   "metadata": {},
   "outputs": [
    {
     "name": "stdout",
     "output_type": "stream",
     "text": [
      "Current Time is : 20:44:35\n"
     ]
    }
   ],
   "source": [
    "print(\"Current Time is :\", time.strftime(\"%H:%M:%S\", time.localtime()))"
   ]
  },
  {
   "cell_type": "code",
   "execution_count": 11,
   "metadata": {},
   "outputs": [],
   "source": [
    "param_grid = ParameterGrid(\n",
    "                {\n",
    "                 'max_features'      : [['auto', 'sqrt', 'log2']],\n",
    "                 'criterion'         : [['gini', 'entropy']],\n",
    "                 'min_samples_split' : [range(285, 580, 25)],\n",
    "                 'min_samples_leaf'  : [range(150, 200, 2)],\n",
    "                 'bootstrap'         : [[False, True]],\n",
    "                 'n_estimators'      : [[150]],\n",
    "                 #'max_depth'         : [[6]],\n",
    "                 'random_state'      : [[5]],\n",
    "                 'n_jobs'            : [[-1]],\n",
    "                }\n",
    "            )\n"
   ]
  },
  {
   "cell_type": "code",
   "execution_count": 12,
   "metadata": {},
   "outputs": [
    {
     "name": "stdout",
     "output_type": "stream",
     "text": [
      "Fitting 5 folds for each of 3600 candidates, totalling 18000 fits\n",
      "\n",
      "f1: 0.0\n",
      "parametros:\n",
      "{'bootstrap': False,\n",
      " 'criterion': 'gini',\n",
      " 'max_features': 'auto',\n",
      " 'min_samples_leaf': 150,\n",
      " 'min_samples_split': 285,\n",
      " 'n_estimators': 150,\n",
      " 'n_jobs': -1,\n",
      " 'random_state': 5}\n",
      "\n",
      "\n",
      "CPU times: user 2h 1min 48s, sys: 6min 52s, total: 2h 8min 41s\n",
      "Wall time: 2h 48min 57s\n"
     ]
    }
   ],
   "source": [
    "%time guardarImportanciasBestRF(param_grid, atencion_no_autorizada.drop(columns=['REGION', 'P9_8'], inplace=False), y_atencion_no_autorizada, 'FI/Atencion_Nacional_FI.txt')"
   ]
  },
  {
   "cell_type": "code",
   "execution_count": 13,
   "metadata": {},
   "outputs": [
    {
     "name": "stdout",
     "output_type": "stream",
     "text": [
      "Fitting 5 folds for each of 3600 candidates, totalling 18000 fits\n",
      "\n",
      "f1: 0.0\n",
      "parametros:\n",
      "{'bootstrap': False,\n",
      " 'criterion': 'gini',\n",
      " 'max_features': 'auto',\n",
      " 'min_samples_leaf': 150,\n",
      " 'min_samples_split': 285,\n",
      " 'n_estimators': 150,\n",
      " 'n_jobs': -1,\n",
      " 'random_state': 5}\n",
      "\n",
      "\n",
      "CPU times: user 2h 9min 28s, sys: 7min 17s, total: 2h 16min 46s\n",
      "Wall time: 2h 58min 22s\n"
     ]
    }
   ],
   "source": [
    "%time guardarImportanciasBestRF(param_grid, abuso_y_violencia.drop(columns=['REGION', 'P9_8'], inplace=False), y_abuso_y_violencia, 'FI/Abuso_Nacional_FI.txt')"
   ]
  },
  {
   "cell_type": "markdown",
   "metadata": {},
   "source": [
    "## Encontrar los mejores parámetros por región"
   ]
  },
  {
   "cell_type": "code",
   "execution_count": 14,
   "metadata": {},
   "outputs": [
    {
     "data": {
      "text/plain": [
       "4    3040\n",
       "1    2631\n",
       "3    2560\n",
       "0    2443\n",
       "6    1601\n",
       "7    1567\n",
       "5     962\n",
       "2     843\n",
       "Name: REGION, dtype: int64"
      ]
     },
     "execution_count": 14,
     "metadata": {},
     "output_type": "execute_result"
    }
   ],
   "source": [
    "atencion_no_autorizada['REGION'].value_counts()"
   ]
  },
  {
   "cell_type": "code",
   "execution_count": 15,
   "metadata": {},
   "outputs": [
    {
     "data": {
      "text/plain": [
       "4    3428\n",
       "1    2988\n",
       "3    2843\n",
       "0    2708\n",
       "6    1779\n",
       "7    1728\n",
       "5    1081\n",
       "2     930\n",
       "Name: REGION, dtype: int64"
      ]
     },
     "execution_count": 15,
     "metadata": {},
     "output_type": "execute_result"
    }
   ],
   "source": [
    "abuso_y_violencia['REGION'].value_counts()"
   ]
  },
  {
   "cell_type": "code",
   "execution_count": 16,
   "metadata": {},
   "outputs": [],
   "source": [
    "atencion_no_autorizada.drop(columns=['CVE_MUN', 'CVE_ENT'], inplace=True)\n",
    "gk_atencion = atencion_no_autorizada.groupby('REGION')\n",
    "abuso_y_violencia.drop(columns=['CVE_MUN', 'CVE_ENT'], inplace=True)\n",
    "gk_abuso = abuso_y_violencia.groupby('REGION')"
   ]
  },
  {
   "cell_type": "code",
   "execution_count": 17,
   "metadata": {},
   "outputs": [
    {
     "name": "stdout",
     "output_type": "stream",
     "text": [
      "\n",
      "Atencion no autorizada: 0\n",
      "Fitting 5 folds for each of 3600 candidates, totalling 18000 fits\n",
      "\n",
      "f1: 0.0\n",
      "parametros:\n",
      "{'bootstrap': False,\n",
      " 'criterion': 'gini',\n",
      " 'max_features': 'auto',\n",
      " 'min_samples_leaf': 150,\n",
      " 'min_samples_split': 285,\n",
      " 'n_estimators': 150,\n",
      " 'n_jobs': -1,\n",
      " 'random_state': 5}\n",
      "\n",
      "\n",
      "\n",
      "Abuso y violencia: 0\n",
      "Fitting 5 folds for each of 3600 candidates, totalling 18000 fits\n",
      "\n",
      "f1: 0.0\n",
      "parametros:\n",
      "{'bootstrap': False,\n",
      " 'criterion': 'gini',\n",
      " 'max_features': 'auto',\n",
      " 'min_samples_leaf': 150,\n",
      " 'min_samples_split': 285,\n",
      " 'n_estimators': 150,\n",
      " 'n_jobs': -1,\n",
      " 'random_state': 5}\n",
      "\n",
      "\n",
      "\n",
      "Atencion no autorizada: 1\n",
      "Fitting 5 folds for each of 3600 candidates, totalling 18000 fits\n",
      "\n",
      "f1: 0.0\n",
      "parametros:\n",
      "{'bootstrap': False,\n",
      " 'criterion': 'gini',\n",
      " 'max_features': 'auto',\n",
      " 'min_samples_leaf': 150,\n",
      " 'min_samples_split': 285,\n",
      " 'n_estimators': 150,\n",
      " 'n_jobs': -1,\n",
      " 'random_state': 5}\n",
      "\n",
      "\n",
      "\n",
      "Abuso y violencia: 1\n",
      "Fitting 5 folds for each of 3600 candidates, totalling 18000 fits\n",
      "\n",
      "f1: 0.0\n",
      "parametros:\n",
      "{'bootstrap': False,\n",
      " 'criterion': 'gini',\n",
      " 'max_features': 'auto',\n",
      " 'min_samples_leaf': 150,\n",
      " 'min_samples_split': 285,\n",
      " 'n_estimators': 150,\n",
      " 'n_jobs': -1,\n",
      " 'random_state': 5}\n",
      "\n",
      "\n",
      "\n",
      "Atencion no autorizada: 2\n",
      "Fitting 5 folds for each of 3600 candidates, totalling 18000 fits\n",
      "\n",
      "f1: 0.0\n",
      "parametros:\n",
      "{'bootstrap': False,\n",
      " 'criterion': 'gini',\n",
      " 'max_features': 'auto',\n",
      " 'min_samples_leaf': 150,\n",
      " 'min_samples_split': 285,\n",
      " 'n_estimators': 150,\n",
      " 'n_jobs': -1,\n",
      " 'random_state': 5}\n",
      "\n",
      "\n",
      "\n",
      "Abuso y violencia: 2\n",
      "Fitting 5 folds for each of 3600 candidates, totalling 18000 fits\n",
      "\n",
      "f1: 0.0\n",
      "parametros:\n",
      "{'bootstrap': False,\n",
      " 'criterion': 'gini',\n",
      " 'max_features': 'auto',\n",
      " 'min_samples_leaf': 150,\n",
      " 'min_samples_split': 285,\n",
      " 'n_estimators': 150,\n",
      " 'n_jobs': -1,\n",
      " 'random_state': 5}\n",
      "\n",
      "\n",
      "\n",
      "Atencion no autorizada: 3\n",
      "Fitting 5 folds for each of 3600 candidates, totalling 18000 fits\n",
      "\n",
      "f1: 0.0\n",
      "parametros:\n",
      "{'bootstrap': False,\n",
      " 'criterion': 'gini',\n",
      " 'max_features': 'auto',\n",
      " 'min_samples_leaf': 150,\n",
      " 'min_samples_split': 285,\n",
      " 'n_estimators': 150,\n",
      " 'n_jobs': -1,\n",
      " 'random_state': 5}\n",
      "\n",
      "\n",
      "\n",
      "Abuso y violencia: 3\n",
      "Fitting 5 folds for each of 3600 candidates, totalling 18000 fits\n",
      "\n",
      "f1: 0.0\n",
      "parametros:\n",
      "{'bootstrap': False,\n",
      " 'criterion': 'gini',\n",
      " 'max_features': 'auto',\n",
      " 'min_samples_leaf': 150,\n",
      " 'min_samples_split': 285,\n",
      " 'n_estimators': 150,\n",
      " 'n_jobs': -1,\n",
      " 'random_state': 5}\n",
      "\n",
      "\n",
      "\n",
      "Atencion no autorizada: 4\n",
      "Fitting 5 folds for each of 3600 candidates, totalling 18000 fits\n",
      "\n",
      "f1: 0.0\n",
      "parametros:\n",
      "{'bootstrap': False,\n",
      " 'criterion': 'gini',\n",
      " 'max_features': 'auto',\n",
      " 'min_samples_leaf': 150,\n",
      " 'min_samples_split': 285,\n",
      " 'n_estimators': 150,\n",
      " 'n_jobs': -1,\n",
      " 'random_state': 5}\n",
      "\n",
      "\n",
      "\n",
      "Abuso y violencia: 4\n",
      "Fitting 5 folds for each of 3600 candidates, totalling 18000 fits\n",
      "\n",
      "f1: 0.0\n",
      "parametros:\n",
      "{'bootstrap': False,\n",
      " 'criterion': 'gini',\n",
      " 'max_features': 'auto',\n",
      " 'min_samples_leaf': 150,\n",
      " 'min_samples_split': 285,\n",
      " 'n_estimators': 150,\n",
      " 'n_jobs': -1,\n",
      " 'random_state': 5}\n",
      "\n",
      "\n",
      "\n",
      "Atencion no autorizada: 5\n",
      "Fitting 5 folds for each of 3600 candidates, totalling 18000 fits\n",
      "\n",
      "f1: 0.0\n",
      "parametros:\n",
      "{'bootstrap': False,\n",
      " 'criterion': 'gini',\n",
      " 'max_features': 'auto',\n",
      " 'min_samples_leaf': 150,\n",
      " 'min_samples_split': 285,\n",
      " 'n_estimators': 150,\n",
      " 'n_jobs': -1,\n",
      " 'random_state': 5}\n",
      "\n",
      "\n",
      "\n",
      "Abuso y violencia: 5\n",
      "Fitting 5 folds for each of 3600 candidates, totalling 18000 fits\n",
      "\n",
      "f1: 0.0\n",
      "parametros:\n",
      "{'bootstrap': False,\n",
      " 'criterion': 'gini',\n",
      " 'max_features': 'auto',\n",
      " 'min_samples_leaf': 150,\n",
      " 'min_samples_split': 285,\n",
      " 'n_estimators': 150,\n",
      " 'n_jobs': -1,\n",
      " 'random_state': 5}\n",
      "\n",
      "\n",
      "\n",
      "Atencion no autorizada: 6\n",
      "Fitting 5 folds for each of 3600 candidates, totalling 18000 fits\n",
      "\n",
      "f1: 0.0\n",
      "parametros:\n",
      "{'bootstrap': False,\n",
      " 'criterion': 'gini',\n",
      " 'max_features': 'auto',\n",
      " 'min_samples_leaf': 150,\n",
      " 'min_samples_split': 285,\n",
      " 'n_estimators': 150,\n",
      " 'n_jobs': -1,\n",
      " 'random_state': 5}\n",
      "\n",
      "\n",
      "\n",
      "Abuso y violencia: 6\n",
      "Fitting 5 folds for each of 3600 candidates, totalling 18000 fits\n",
      "\n",
      "f1: 0.0\n",
      "parametros:\n",
      "{'bootstrap': False,\n",
      " 'criterion': 'gini',\n",
      " 'max_features': 'auto',\n",
      " 'min_samples_leaf': 150,\n",
      " 'min_samples_split': 285,\n",
      " 'n_estimators': 150,\n",
      " 'n_jobs': -1,\n",
      " 'random_state': 5}\n",
      "\n",
      "\n",
      "\n",
      "Atencion no autorizada: 7\n",
      "Fitting 5 folds for each of 3600 candidates, totalling 18000 fits\n",
      "\n",
      "f1: 0.0\n",
      "parametros:\n",
      "{'bootstrap': False,\n",
      " 'criterion': 'gini',\n",
      " 'max_features': 'auto',\n",
      " 'min_samples_leaf': 150,\n",
      " 'min_samples_split': 285,\n",
      " 'n_estimators': 150,\n",
      " 'n_jobs': -1,\n",
      " 'random_state': 5}\n",
      "\n",
      "\n",
      "\n",
      "Abuso y violencia: 7\n",
      "Fitting 5 folds for each of 3600 candidates, totalling 18000 fits\n",
      "\n",
      "f1: 0.0\n",
      "parametros:\n",
      "{'bootstrap': False,\n",
      " 'criterion': 'gini',\n",
      " 'max_features': 'auto',\n",
      " 'min_samples_leaf': 150,\n",
      " 'min_samples_split': 285,\n",
      " 'n_estimators': 150,\n",
      " 'n_jobs': -1,\n",
      " 'random_state': 5}\n",
      "\n",
      "\n",
      "CPU times: user 21h 41min 11s, sys: 1h 13min 6s, total: 22h 54min 18s\n",
      "Wall time: 1d 4h 6min 12s\n"
     ]
    }
   ],
   "source": [
    "%%time\n",
    "for grupo in [str(i) for i in range(8)]:\n",
    "    print(f'\\nAtencion no autorizada: {grupo}')\n",
    "    X = gk_atencion.get_group(grupo)\n",
    "    y = X['P9_8'].copy()\n",
    "    guardarImportanciasBestRF(param_grid, X.drop(columns=['P9_8'], inplace=False), y, f'FI/Atencion_Region_{grupo}_FI.txt')\n",
    "\n",
    "    print(f'\\nAbuso y violencia: {grupo}')\n",
    "    X = gk_abuso.get_group(grupo)\n",
    "    y = X['P9_8'].copy()\n",
    "    guardarImportanciasBestRF(param_grid, X.drop(columns=['P9_8'], inplace=False), y, f'FI/Abuso_Region_{grupo}_FI.txt')"
   ]
  },
  {
   "cell_type": "code",
   "execution_count": 18,
   "metadata": {},
   "outputs": [
    {
     "name": "stdout",
     "output_type": "stream",
     "text": [
      "Current Time is : 06:38:07\n"
     ]
    }
   ],
   "source": [
    "print(\"Current Time is :\", time.strftime(\"%H:%M:%S\", time.localtime()))"
   ]
  },
  {
   "cell_type": "code",
   "execution_count": null,
   "metadata": {},
   "outputs": [],
   "source": []
  }
 ],
 "metadata": {
  "kernelspec": {
   "display_name": "Python 3",
   "language": "python",
   "name": "python3"
  },
  "language_info": {
   "codemirror_mode": {
    "name": "ipython",
    "version": 3
   },
   "file_extension": ".py",
   "mimetype": "text/x-python",
   "name": "python",
   "nbconvert_exporter": "python",
   "pygments_lexer": "ipython3",
   "version": "3.6.9"
  }
 },
 "nbformat": 4,
 "nbformat_minor": 4
}
