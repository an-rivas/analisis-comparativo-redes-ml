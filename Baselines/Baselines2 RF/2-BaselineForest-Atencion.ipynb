{
 "cells": [
  {
   "cell_type": "markdown",
   "metadata": {},
   "source": [
    "# Clasificador binario con RandomForest del tipo de violencia \"atención no autorizada\".\n",
    "\n",
    "Se tienen dos tipos \"no tuvo violencia\" y \"abuso y violencia. Este último incluye a los de la categoría \"ambos\".\n",
    "\n",
    "Sin preprocesamiento en el dataset. Todas las columnas se tratan como continuas aunque sean categóricas.\n",
    "\n",
    "https://www.cienciadedatos.net/documentos/py08_random_forest_python.html\n",
    "\n",
    "https://scikit-learn.org/stable/modules/generated/sklearn.ensemble.RandomForestClassifier.html?highlight=forest#sklearn.ensemble.RandomForestClassifier"
   ]
  },
  {
   "cell_type": "code",
   "execution_count": 1,
   "metadata": {},
   "outputs": [],
   "source": [
    "import pandas as pd\n",
    "from funciones import CargarPandasDatasetCategoricos, BorrarColumnas, InsertarColumnaNueva"
   ]
  },
  {
   "cell_type": "code",
   "execution_count": 2,
   "metadata": {},
   "outputs": [],
   "source": [
    "# Custom functions\n",
    "# ==============================================================================\n",
    "from funciones import CargarPandasDataset\n",
    "\n",
    "# Tratamiento de datos\n",
    "# ==============================================================================\n",
    "import numpy as np\n",
    "import pandas as pd\n",
    "\n",
    "# Gráficos\n",
    "# ==============================================================================\n",
    "import matplotlib.pyplot as plt\n",
    "from sklearn import tree #La versión que tengo es 0.24.1 y está disponible apartir de la 0.21\n",
    "\n",
    "# Preprocesado y modelado\n",
    "# ==============================================================================\n",
    "from sklearn.ensemble import RandomForestClassifier\n",
    "from sklearn.tree import DecisionTreeClassifier\n",
    "from sklearn.inspection import permutation_importance\n",
    "from sklearn.metrics import f1_score, precision_recall_fscore_support, plot_confusion_matrix\n",
    "from sklearn.model_selection import train_test_split, ParameterGrid, GridSearchCV\n",
    "\n",
    "# Configuración warnings\n",
    "# ==============================================================================\n",
    "import warnings\n",
    "warnings.filterwarnings('ignore')"
   ]
  },
  {
   "cell_type": "code",
   "execution_count": 3,
   "metadata": {},
   "outputs": [],
   "source": [
    "from sklearn.preprocessing import StandardScaler, MinMaxScaler"
   ]
  },
  {
   "cell_type": "code",
   "execution_count": 4,
   "metadata": {},
   "outputs": [],
   "source": [
    "def escalar(df, scal):\n",
    "    ind = df.index\n",
    "    retail_scaler = pd.DataFrame(scal.fit_transform(df), index=ind)\n",
    "    retail_scaler.columns = df.columns\n",
    "    return retail_scaler, scal"
   ]
  },
  {
   "cell_type": "code",
   "execution_count": 5,
   "metadata": {},
   "outputs": [],
   "source": [
    "def grid(param_grid, X, y):\n",
    "    print(f'Creando modelos para {len(param_grid)} combinaciones de parámetros.\\n')\n",
    "    resultados = {'params': [], 'f1': []}\n",
    "    importances = []\n",
    "    \n",
    "    #hacer grid search\n",
    "    grid = GridSearchCV(RandomForestClassifier(), param_grid, cv=5, scoring='f1', verbose=1)\n",
    "    \n",
    "    #hacer fit\n",
    "    grid.fit(X, y)\n",
    "    \n",
    "    #obtener parametros \n",
    "    resultados['params'].append(grid.best_params_)\n",
    "    resultados['f1'].append(grid.best_score_)\n",
    "    \n",
    "    #hacer dataset con resultados\n",
    "    resultados = pd.DataFrame(resultados)\n",
    "    resultados = pd.concat([resultados, resultados['params'].apply(pd.Series)], axis=1)\n",
    "    resultados = resultados.drop(columns = 'params')\n",
    "    \n",
    "    #obtener importancias\n",
    "    importances = grid.best_estimator_.feature_importances_\n",
    "    \n",
    "    return resultados, importances"
   ]
  },
  {
   "cell_type": "markdown",
   "metadata": {},
   "source": [
    "## Cargar datos"
   ]
  },
  {
   "cell_type": "code",
   "execution_count": 6,
   "metadata": {},
   "outputs": [],
   "source": [
    "endireh = CargarPandasDatasetCategoricos('datasets/endireh.csv')"
   ]
  },
  {
   "cell_type": "markdown",
   "metadata": {},
   "source": [
    "## Preprocesamiento\n"
   ]
  },
  {
   "cell_type": "markdown",
   "metadata": {},
   "source": [
    "Solo nos quedamos con las que sufieron 'atención no autorizada'."
   ]
  },
  {
   "cell_type": "markdown",
   "metadata": {},
   "source": [
    "Eliminando los de Abuso y violencia"
   ]
  },
  {
   "cell_type": "code",
   "execution_count": 7,
   "metadata": {},
   "outputs": [],
   "source": [
    "endireh.drop(endireh[endireh[\"P9_8\"]==1].index, axis=0, inplace=True)"
   ]
  },
  {
   "cell_type": "markdown",
   "metadata": {},
   "source": [
    "'atencion no autorizada' y 'ambos' sean 1."
   ]
  },
  {
   "cell_type": "code",
   "execution_count": 8,
   "metadata": {},
   "outputs": [],
   "source": [
    "endireh[endireh[\"P9_8\"]>0] = 1"
   ]
  },
  {
   "cell_type": "code",
   "execution_count": 9,
   "metadata": {},
   "outputs": [
    {
     "data": {
      "text/plain": [
       "(15647, 50)"
      ]
     },
     "execution_count": 9,
     "metadata": {},
     "output_type": "execute_result"
    }
   ],
   "source": [
    "endireh.shape"
   ]
  },
  {
   "cell_type": "code",
   "execution_count": 10,
   "metadata": {},
   "outputs": [
    {
     "name": "stdout",
     "output_type": "stream",
     "text": [
      "Ninguno(0):\t80%\n",
      "Abuso y violencia(1):\t20%\n"
     ]
    },
    {
     "data": {
      "text/plain": [
       "<matplotlib.axes._subplots.AxesSubplot at 0x7f987c89ee80>"
      ]
     },
     "execution_count": 10,
     "metadata": {},
     "output_type": "execute_result"
    },
    {
     "data": {
      "image/png": "[encoded data removed]",
      "text/plain": [
       "<Figure size 432x288 with 1 Axes>"
      ]
     },
     "metadata": {
      "needs_background": "light"
     },
     "output_type": "display_data"
    }
   ],
   "source": [
    "for i,j in zip(['Ninguno(0)', 'Abuso y violencia(1)'], endireh[\"P9_8\"].value_counts()/endireh[\"P9_8\"].value_counts().sum()):\n",
    "    print(f'{i}:\\t{round(j*100)}%')\n",
    "endireh[\"P9_8\"].value_counts().plot(kind='bar')"
   ]
  },
  {
   "cell_type": "markdown",
   "metadata": {},
   "source": [
    "Obtengo la variable objetivo _y_."
   ]
  },
  {
   "cell_type": "code",
   "execution_count": 11,
   "metadata": {},
   "outputs": [],
   "source": [
    "y = endireh['P9_8'].copy()"
   ]
  },
  {
   "cell_type": "markdown",
   "metadata": {},
   "source": [
    "Estandarizo"
   ]
  },
  {
   "cell_type": "code",
   "execution_count": 12,
   "metadata": {},
   "outputs": [],
   "source": [
    "scalerMMS = MinMaxScaler() #StandardScaler\n",
    "scalerSS  = StandardScaler()"
   ]
  },
  {
   "cell_type": "code",
   "execution_count": 13,
   "metadata": {},
   "outputs": [],
   "source": [
    "df_MMS, scalerMMS = escalar(endireh, scalerMMS)\n",
    "df_SS,  scalerSS  = escalar(endireh, scalerSS)"
   ]
  },
  {
   "cell_type": "markdown",
   "metadata": {},
   "source": [
    "Al ser el análisis nacional borramos la variable _REGION_ que no pertenece a este estudio en particular y Elimino _y_ del dataset."
   ]
  },
  {
   "cell_type": "code",
   "execution_count": 14,
   "metadata": {},
   "outputs": [],
   "source": [
    "df_SS.drop(columns=['P9_8', 'REGION'], inplace=True)"
   ]
  },
  {
   "cell_type": "code",
   "execution_count": 15,
   "metadata": {},
   "outputs": [],
   "source": [
    "df_MMS.drop(columns=['P9_8', 'REGION'], inplace=True)\n",
    "#X_train, X_test, y_train, y_test = train_test_split(df_MMS, y, test_size=0.33, random_state=5)"
   ]
  },
  {
   "cell_type": "code",
   "execution_count": 16,
   "metadata": {},
   "outputs": [],
   "source": [
    "endireh.drop(columns=['P9_8', 'REGION'], inplace=True)\n",
    "#X_train, X_test, y_train, y_test = train_test_split(endireh, y, test_size=0.33, random_state=5)"
   ]
  },
  {
   "cell_type": "markdown",
   "metadata": {},
   "source": [
    "## Encontrar los mejores parámetros con _Random Forest_"
   ]
  },
  {
   "cell_type": "markdown",
   "metadata": {},
   "source": [
    "Poco antes de las 6 pm 2 de marzo de 2022"
   ]
  },
  {
   "cell_type": "markdown",
   "metadata": {},
   "source": [
    "### STANDARDSCALER\n"
   ]
  },
  {
   "cell_type": "code",
   "execution_count": 17,
   "metadata": {},
   "outputs": [],
   "source": [
    "param_grid = ParameterGrid(\n",
    "                {\n",
    "                 'n_estimators'      : [range(120, 390, 25)],\n",
    "                 'criterion'         : [['gini', 'entropy']],\n",
    "                 'min_samples_split' : [range(285, 580, 25)],\n",
    "                 'min_samples_leaf'  : [range(150, 200, 2)],\n",
    "                 'max_depth'         : [[6]],\n",
    "                 'random_state'      : [[5]],\n",
    "                }\n",
    "            )\n"
   ]
  },
  {
   "cell_type": "code",
   "execution_count": null,
   "metadata": {},
   "outputs": [
    {
     "name": "stdout",
     "output_type": "stream",
     "text": [
      "Creando modelos para 1 combinaciones de parámetros.\n",
      "\n",
      "Fitting 5 folds for each of 6600 candidates, totalling 33000 fits\n"
     ]
    }
   ],
   "source": [
    "%time resultados, importances = grid(param_grid, df_SS, y)"
   ]
  },
  {
   "cell_type": "code",
   "execution_count": null,
   "metadata": {},
   "outputs": [],
   "source": [
    "resultados.head(7)"
   ]
  },
  {
   "cell_type": "code",
   "execution_count": null,
   "metadata": {},
   "outputs": [],
   "source": [
    "forest_importances = pd.Series(importances, index=df_SS.columns)\n",
    "forest_importances.sort_values(ascending=False, inplace=True)\n",
    "\n",
    "fig, ax = plt.subplots(figsize=(10,5))\n",
    "#forest_importances[:15].plot.bar(yerr=std, ax=ax)\n",
    "forest_importances.plot.bar(ax=ax)\n",
    "ax.set_title(\"Feature importances using MDI\")\n",
    "ax.set_ylabel(\"Mean decrease in impurity\")\n",
    "fig.tight_layout()"
   ]
  },
  {
   "cell_type": "code",
   "execution_count": null,
   "metadata": {},
   "outputs": [],
   "source": [
    "textfile = open(\"FI/Atencion_feature_importance_RF_SS.txt\", \"w\")\n",
    "for element in importances:\n",
    "    textfile.write(str(element) + \"\\n\")\n",
    "textfile.close()"
   ]
  },
  {
   "cell_type": "markdown",
   "metadata": {},
   "source": [
    "### MINMAXSCALER"
   ]
  },
  {
   "cell_type": "code",
   "execution_count": null,
   "metadata": {},
   "outputs": [
    {
     "name": "stdout",
     "output_type": "stream",
     "text": [
      "CPU times: user 5h 50min 53s, sys: 44.3 s, total: 5h 51min 38s\n",
      "Wall time: 5h 51min 38s\n"
     ]
    }
   ],
   "source": [
    "%time resultados, importances = grid(param_grid, df_MMS, y)"
   ]
  },
  {
   "cell_type": "code",
   "execution_count": null,
   "metadata": {},
   "outputs": [
    {
     "data": {
      "text/html": [
       "<div>\n",
       "<style scoped>\n",
       "    .dataframe tbody tr th:only-of-type {\n",
       "        vertical-align: middle;\n",
       "    }\n",
       "\n",
       "    .dataframe tbody tr th {\n",
       "        vertical-align: top;\n",
       "    }\n",
       "\n",
       "    .dataframe thead th {\n",
       "        text-align: right;\n",
       "    }\n",
       "</style>\n",
       "<table border=\"1\" class=\"dataframe\">\n",
       "  <thead>\n",
       "    <tr style=\"text-align: right;\">\n",
       "      <th></th>\n",
       "      <th>f1</th>\n",
       "      <th>criterion</th>\n",
       "      <th>max_depth</th>\n",
       "      <th>min_samples_leaf</th>\n",
       "      <th>min_samples_split</th>\n",
       "      <th>n_estimators</th>\n",
       "      <th>random_state</th>\n",
       "    </tr>\n",
       "  </thead>\n",
       "  <tbody>\n",
       "    <tr>\n",
       "      <th>0</th>\n",
       "      <td>1.0</td>\n",
       "      <td>gini</td>\n",
       "      <td>6</td>\n",
       "      <td>150</td>\n",
       "      <td>285</td>\n",
       "      <td>120</td>\n",
       "      <td>5</td>\n",
       "    </tr>\n",
       "  </tbody>\n",
       "</table>\n",
       "</div>"
      ],
      "text/plain": [
       "    f1 criterion  max_depth  min_samples_leaf  min_samples_split  \\\n",
       "0  1.0      gini          6               150                285   \n",
       "\n",
       "   n_estimators  random_state  \n",
       "0           120             5  "
      ]
     },
     "execution_count": 23,
     "metadata": {},
     "output_type": "execute_result"
    }
   ],
   "source": [
    "resultados.head(5)"
   ]
  },
  {
   "cell_type": "code",
   "execution_count": null,
   "metadata": {},
   "outputs": [
    {
     "data": {
      "image/png": "[encoded data removed]",
      "text/plain": [
       "<Figure size 720x360 with 1 Axes>"
      ]
     },
     "metadata": {
      "needs_background": "light"
     },
     "output_type": "display_data"
    }
   ],
   "source": [
    "forest_importances = pd.Series(importances, index=df_MMS.columns)\n",
    "forest_importances.sort_values(ascending=False, inplace=True)\n",
    "\n",
    "fig, ax = plt.subplots(figsize=(10,5))\n",
    "#forest_importances[:15].plot.bar(yerr=std, ax=ax)\n",
    "forest_importances.plot.bar(ax=ax)\n",
    "ax.set_title(\"Feature importances using MDI\")\n",
    "ax.set_ylabel(\"Mean decrease in impurity\")\n",
    "fig.tight_layout()"
   ]
  },
  {
   "cell_type": "code",
   "execution_count": null,
   "metadata": {},
   "outputs": [],
   "source": [
    "textfile = open(\"FI/Atencion_feature_importance_RF_MMS.txt\", \"w\")\n",
    "for element in importances:\n",
    "    textfile.write(str(element) + \"\\n\")\n",
    "textfile.close()"
   ]
  },
  {
   "cell_type": "markdown",
   "metadata": {},
   "source": [
    "## ORIGINAL"
   ]
  },
  {
   "cell_type": "code",
   "execution_count": null,
   "metadata": {},
   "outputs": [
    {
     "name": "stdout",
     "output_type": "stream",
     "text": [
      "Creando modelos para 1 combinaciones de parámetros.\n",
      "\n",
      "Fitting 5 folds for each of 6600 candidates, totalling 33000 fits\n",
      "CPU times: user 5h 39min 4s, sys: 36.9 s, total: 5h 39min 41s\n",
      "Wall time: 5h 39min 40s\n"
     ]
    }
   ],
   "source": [
    "%time resultados, importances = grid(param_grid, endireh, y)"
   ]
  },
  {
   "cell_type": "code",
   "execution_count": null,
   "metadata": {},
   "outputs": [
    {
     "data": {
      "text/html": [
       "<div>\n",
       "<style scoped>\n",
       "    .dataframe tbody tr th:only-of-type {\n",
       "        vertical-align: middle;\n",
       "    }\n",
       "\n",
       "    .dataframe tbody tr th {\n",
       "        vertical-align: top;\n",
       "    }\n",
       "\n",
       "    .dataframe thead th {\n",
       "        text-align: right;\n",
       "    }\n",
       "</style>\n",
       "<table border=\"1\" class=\"dataframe\">\n",
       "  <thead>\n",
       "    <tr style=\"text-align: right;\">\n",
       "      <th></th>\n",
       "      <th>f1</th>\n",
       "      <th>criterion</th>\n",
       "      <th>max_depth</th>\n",
       "      <th>min_samples_leaf</th>\n",
       "      <th>min_samples_split</th>\n",
       "      <th>n_estimators</th>\n",
       "      <th>random_state</th>\n",
       "    </tr>\n",
       "  </thead>\n",
       "  <tbody>\n",
       "    <tr>\n",
       "      <th>0</th>\n",
       "      <td>1.0</td>\n",
       "      <td>gini</td>\n",
       "      <td>6</td>\n",
       "      <td>150</td>\n",
       "      <td>285</td>\n",
       "      <td>120</td>\n",
       "      <td>5</td>\n",
       "    </tr>\n",
       "  </tbody>\n",
       "</table>\n",
       "</div>"
      ],
      "text/plain": [
       "    f1 criterion  max_depth  min_samples_leaf  min_samples_split  \\\n",
       "0  1.0      gini          6               150                285   \n",
       "\n",
       "   n_estimators  random_state  \n",
       "0           120             5  "
      ]
     },
     "execution_count": 27,
     "metadata": {},
     "output_type": "execute_result"
    }
   ],
   "source": [
    "resultados.head(5)"
   ]
  },
  {
   "cell_type": "code",
   "execution_count": null,
   "metadata": {},
   "outputs": [
    {
     "data": {
      "image/png": "[encoded data removed]",
      "text/plain": [
       "<Figure size 720x360 with 1 Axes>"
      ]
     },
     "metadata": {
      "needs_background": "light"
     },
     "output_type": "display_data"
    }
   ],
   "source": [
    "forest_importances = pd.Series(importances, index=endireh.columns)\n",
    "forest_importances.sort_values(ascending=False, inplace=True)\n",
    "\n",
    "fig, ax = plt.subplots(figsize=(10,5))\n",
    "#forest_importances[:15].plot.bar(yerr=std, ax=ax)\n",
    "forest_importances.plot.bar(ax=ax)\n",
    "ax.set_title(\"Feature importances using MDI\")\n",
    "ax.set_ylabel(\"Mean decrease in impurity\")\n",
    "fig.tight_layout()"
   ]
  },
  {
   "cell_type": "code",
   "execution_count": null,
   "metadata": {},
   "outputs": [],
   "source": [
    "textfile = open(\"FI/Atencion_feature_importance_RF_Org.txt\", \"w\")\n",
    "for element in importances:\n",
    "    textfile.write(str(element) + \"\\n\")\n",
    "textfile.close()"
   ]
  },
  {
   "cell_type": "code",
   "execution_count": null,
   "metadata": {},
   "outputs": [
    {
     "data": {
      "text/plain": [
       "1.0000000000000004"
      ]
     },
     "execution_count": 30,
     "metadata": {},
     "output_type": "execute_result"
    }
   ],
   "source": [
    "sum(forest_importances)"
   ]
  },
  {
   "cell_type": "code",
   "execution_count": null,
   "metadata": {},
   "outputs": [
    {
     "data": {
      "text/plain": [
       "P1_10_4           0.194135\n",
       "P1_10_1           0.106991\n",
       "P1_7              0.102430\n",
       "P1_10_3           0.087943\n",
       "ESCOLARIDAD       0.083570\n",
       "P1_10_2           0.069501\n",
       "NACIO_MUERT       0.061029\n",
       "CVE_ENT           0.044713\n",
       "FOCOS             0.036919\n",
       "PISOS             0.035173\n",
       "CVE_MUN           0.030374\n",
       "ASISTENCIA_ESC    0.029635\n",
       "GRA               0.027491\n",
       "LENG_INDIGENA     0.021149\n",
       "ABORTO            0.019303\n",
       "P1_2_A            0.012250\n",
       "P9_6              0.007856\n",
       "RES_PADRE         0.005559\n",
       "PAREN             0.005441\n",
       "P1_4_4            0.004077\n",
       "T_INSTRUM         0.003144\n",
       "EDAD              0.002910\n",
       "P1_9              0.002543\n",
       "RES_MADRE         0.002313\n",
       "P9_1              0.001416\n",
       "P1_4_8            0.001411\n",
       "PERT_INDIGENA     0.000723\n",
       "P9_7              0.000000\n",
       "P1_4_3            0.000000\n",
       "P2_14             0.000000\n",
       "DOMINIO           0.000000\n",
       "TRABAJO           0.000000\n",
       "LENG_ESPAÑOL      0.000000\n",
       "P1_2              0.000000\n",
       "ALFABETISMO       0.000000\n",
       "P1_4_1            0.000000\n",
       "P1_4_2            0.000000\n",
       "P9_3              0.000000\n",
       "P9_5              0.000000\n",
       "P1_4_5            0.000000\n",
       "P1_4_6            0.000000\n",
       "P1_4_7            0.000000\n",
       "P1_4_9            0.000000\n",
       "AGUA              0.000000\n",
       "DRENAJE           0.000000\n",
       "P2_15             0.000000\n",
       "NACIO_VIV         0.000000\n",
       "P9_8_11           0.000000\n",
       "dtype: float64"
      ]
     },
     "execution_count": 31,
     "metadata": {},
     "output_type": "execute_result"
    }
   ],
   "source": [
    "forest_importances"
   ]
  },
  {
   "cell_type": "code",
   "execution_count": null,
   "metadata": {},
   "outputs": [],
   "source": []
  }
 ],
 "metadata": {
  "kernelspec": {
   "display_name": "Python 3",
   "language": "python",
   "name": "python3"
  },
  "language_info": {
   "codemirror_mode": {
    "name": "ipython",
    "version": 3
   },
   "file_extension": ".py",
   "mimetype": "text/x-python",
   "name": "python",
   "nbconvert_exporter": "python",
   "pygments_lexer": "ipython3",
   "version": "3.6.9"
  }
 },
 "nbformat": 4,
 "nbformat_minor": 4
}
