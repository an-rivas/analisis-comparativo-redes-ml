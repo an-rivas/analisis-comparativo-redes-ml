{
 "cells": [
  {
   "cell_type": "markdown",
   "metadata": {},
   "source": [
    "# Clasificador binario con RandomForest del tipo de violencia \"atención no autorizada\" y \"abuso y violencia\".\n",
    "\n",
    "Se tienen dos tipos \"no tuvo violencia\" y \"abuso y violencia\". No incluye a los de la categoría \"ambos\" ni a los que no sufieron violencia.\n",
    "\n",
    "Sin preprocesamiento en el dataset. Todas las columnas se tratan como continuas aunque sean categóricas.\n",
    "\n",
    "https://www.cienciadedatos.net/documentos/py08_random_forest_python.html\n",
    "\n",
    "https://scikit-learn.org/stable/modules/generated/sklearn.ensemble.RandomForestClassifier.html?highlight=forest#sklearn.ensemble.RandomForestClassifier\n"
   ]
  },
  {
   "cell_type": "code",
   "execution_count": 1,
   "metadata": {},
   "outputs": [],
   "source": [
    "# Custom functions\n",
    "# ==============================================================================\n",
    "from funciones import CargarPandasDatasetCategoricos, BorrarColumnas, InsertarColumnaNueva\n",
    "\n",
    "# Tratamiento de datos\n",
    "# ==============================================================================\n",
    "import numpy as np\n",
    "import pandas as pd\n",
    "\n",
    "# Gráficos\n",
    "# ==============================================================================\n",
    "import matplotlib.pyplot as plt\n",
    "import seaborn as sns\n",
    "\n",
    "# Preprocesado y modelado\n",
    "# ==============================================================================\n",
    "from sklearn.ensemble import RandomForestClassifier\n",
    "from sklearn.metrics import f1_score, confusion_matrix\n",
    "from sklearn.model_selection import ParameterGrid, KFold\n",
    "\n",
    "# Configuración warnings\n",
    "# ==============================================================================\n",
    "import warnings\n",
    "warnings.filterwarnings('ignore')"
   ]
  },
  {
   "cell_type": "code",
   "execution_count": 2,
   "metadata": {},
   "outputs": [],
   "source": [
    "def clasificacionAbuso(row):\n",
    "    if row['P9_8'] == 1 or row['P9_8'] == 3:\n",
    "        return 1\n",
    "    return 0\n",
    "\n",
    "def clasificacionAtencion(row):\n",
    "    if row['P9_8'] == 2 or row['P9_8'] == 3:\n",
    "        return 1\n",
    "    return 0"
   ]
  },
  {
   "cell_type": "code",
   "execution_count": 3,
   "metadata": {},
   "outputs": [],
   "source": [
    "def grid(param_grid, X, y, cv=5):\n",
    "    resultados = {'params': [], 'oob_accuracy': [], 'f1_abuso': [], 'cm_abuso': [], 'f1_atencion': [], 'cm_atencion': []}\n",
    "    importances = []\n",
    "    kf = KFold(n_splits=cv, shuffle=True)\n",
    "    \n",
    "    for i,params in enumerate(param_grid):\n",
    "        f1_abuso = []\n",
    "        f1_atencion = []\n",
    "        cm_abuso = []\n",
    "        cm_atencion = []\n",
    "        oob_accuracy = []\n",
    "\n",
    "        for train_index, test_index in kf.split(X):\n",
    "\n",
    "            X_train, X_test = X.iloc[train_index], X.iloc[test_index]\n",
    "            y_train, y_test = y.iloc[train_index], y.iloc[test_index]\n",
    "\n",
    "            modelo = RandomForestClassifier(\n",
    "                        oob_score    = True,\n",
    "                        n_jobs       = -1,\n",
    "                        ** params\n",
    "                     )\n",
    "\n",
    "            modelo.fit(X_train, y_train)\n",
    "\n",
    "            y_pred = modelo.predict(X_test)\n",
    "            \n",
    "            importances.append(modelo.feature_importances_)\n",
    "            \n",
    "            f1_abuso.append(f1_score(y_test['P9_8_abuso'], y_pred[:, 0]))\n",
    "            f1_atencion.append(f1_score(y_test['P9_8_atencion'], y_pred[:, 1]))\n",
    "            cm_abuso.append(confusion_matrix(y_test['P9_8_abuso'], y_pred[:, 0], labels=[0, 1]).ravel())\n",
    "            cm_atencion.append(confusion_matrix(y_test['P9_8_atencion'], y_pred[:, 1], labels=[0, 1]).ravel())\n",
    "            \n",
    "            oob_accuracy.append(modelo.oob_score_)\n",
    "\n",
    "        resultados['params'].append(params)\n",
    "        resultados['oob_accuracy'].append(max(oob_accuracy))\n",
    "        resultados['f1_abuso'].append(max(f1_abuso))\n",
    "        resultados['cm_abuso'].append(cm_abuso[f1_abuso.index(max(f1_abuso))])\n",
    "        resultados['f1_atencion'].append(cm_atencion[f1_atencion.index(max(f1_atencion))])\n",
    "        resultados['cm_atencion'].append(max(f1_atencion))\n",
    "        \n",
    "        if i%300 == 0 or i==len(param_grid):\n",
    "            print(f\"Modelo {i}: {params} \\u2713\")\n",
    "    \n",
    "    #hacer dataset con resultados\n",
    "    resultados = pd.DataFrame(resultados)\n",
    "    resultados = pd.concat([resultados, resultados['params'].apply(pd.Series)], axis=1)\n",
    "    resultados = resultados.drop(columns = 'params')\n",
    "    \n",
    "    return resultados, importances"
   ]
  },
  {
   "cell_type": "markdown",
   "metadata": {},
   "source": [
    "## Cargar datos"
   ]
  },
  {
   "cell_type": "code",
   "execution_count": 4,
   "metadata": {},
   "outputs": [],
   "source": [
    "endireh = CargarPandasDatasetCategoricos('datasets/endireh.csv')"
   ]
  },
  {
   "cell_type": "code",
   "execution_count": 5,
   "metadata": {},
   "outputs": [
    {
     "name": "stdout",
     "output_type": "stream",
     "text": [
      "Ninguno:\t66.1%\n",
      "Abuso y violencia:\t26.4%\n",
      "Atencion no autorizada:\t16.7%\n"
     ]
    },
    {
     "data": {
      "image/png": "[encoded data removed]",
      "text/plain": [
       "<Figure size 432x288 with 1 Axes>"
      ]
     },
     "metadata": {
      "needs_background": "light"
     },
     "output_type": "display_data"
    }
   ],
   "source": [
    "# obtengo las categorias y su cantidad de concurrencias\n",
    "ocurrencias = endireh[\"P9_8\"].value_counts()\n",
    "# obtengo los porcentajes con 1 decimal de los tipos 'Ninguno', ' Abuso y violencia' y 'Atencion no autorizada'\n",
    "ocurrencias = np.around((np.array([ocurrencias[0], ocurrencias[1]+ocurrencias[3], ocurrencias[2]+ocurrencias[3]])/ocurrencias.sum())*1000)/10\n",
    "groups = ['Ninguno',  'Abuso y violencia', 'Atencion no autorizada']\n",
    "\n",
    "# imprimo los porcentajes\n",
    "for i,j in zip(groups, ocurrencias):\n",
    "    print(f'{i}:\\t{j}%')\n",
    "\n",
    "sns.barplot(x=groups, y=ocurrencias, palette = 'Accent')\n",
    "plt.xlabel('Tipos de violencia', fontsize=14)\n",
    "plt.ylabel('Porcentajes', fontsize=14)\n",
    "plt.ylim([0, 100])\n",
    "plt.show()"
   ]
  },
  {
   "cell_type": "markdown",
   "metadata": {},
   "source": [
    "## Preprocesamiento\n"
   ]
  },
  {
   "cell_type": "markdown",
   "metadata": {},
   "source": [
    "Eliminando los de ambos y ninguno"
   ]
  },
  {
   "cell_type": "code",
   "execution_count": 5,
   "metadata": {},
   "outputs": [],
   "source": [
    "endireh = InsertarColumnaNueva(df=endireh, nombreCol='P9_8_abuso',    numeroCol=49, funcion=clasificacionAbuso)\n",
    "endireh = InsertarColumnaNueva(df=endireh, nombreCol='P9_8_atencion', numeroCol=50, funcion=clasificacionAtencion)"
   ]
  },
  {
   "cell_type": "code",
   "execution_count": 6,
   "metadata": {},
   "outputs": [],
   "source": [
    "endireh.drop(columns=['P9_8'], inplace=True)"
   ]
  },
  {
   "cell_type": "code",
   "execution_count": 7,
   "metadata": {},
   "outputs": [
    {
     "data": {
      "text/plain": [
       "(18902, 51)"
      ]
     },
     "execution_count": 7,
     "metadata": {},
     "output_type": "execute_result"
    }
   ],
   "source": [
    "endireh.shape"
   ]
  },
  {
   "cell_type": "markdown",
   "metadata": {},
   "source": [
    "Obtengo la variable objetivo _y_."
   ]
  },
  {
   "cell_type": "code",
   "execution_count": 8,
   "metadata": {},
   "outputs": [],
   "source": [
    "y = endireh[['P9_8_abuso', 'P9_8_atencion']].copy()"
   ]
  },
  {
   "cell_type": "code",
   "execution_count": 9,
   "metadata": {},
   "outputs": [],
   "source": [
    "endireh.drop(columns=['P9_8_abuso', 'P9_8_atencion'], inplace=True)"
   ]
  },
  {
   "cell_type": "markdown",
   "metadata": {},
   "source": [
    "Al ser el análisis nacional borramos la variable _REGION_ que no pertenece a este estudio en particular y Elimino _y_ del dataset."
   ]
  },
  {
   "cell_type": "code",
   "execution_count": 10,
   "metadata": {},
   "outputs": [],
   "source": [
    "endireh.drop(columns=['REGION'], inplace=True)"
   ]
  },
  {
   "cell_type": "markdown",
   "metadata": {},
   "source": [
    "## Encontrar los mejores parámetros con _Random Forest_"
   ]
  },
  {
   "cell_type": "markdown",
   "metadata": {},
   "source": [
    "14:00\n",
    "\n",
    "Con 18 de procesamiento. Terminaría 8 am."
   ]
  },
  {
   "cell_type": "code",
   "execution_count": 11,
   "metadata": {},
   "outputs": [],
   "source": [
    "param_grid = ParameterGrid(\n",
    "                {\n",
    "                 'n_estimators'      : range(120, 390, 25),\n",
    "                 'criterion'         : ['gini', 'entropy'],\n",
    "                 'min_samples_split' : range(285, 580, 25),\n",
    "                 'min_samples_leaf'  : range(150, 200, 2),\n",
    "                 'max_depth'         : [6],\n",
    "                 'random_state'      : [5],\n",
    "                }\n",
    "            )\n"
   ]
  },
  {
   "cell_type": "code",
   "execution_count": 12,
   "metadata": {},
   "outputs": [
    {
     "name": "stdout",
     "output_type": "stream",
     "text": [
      "Modelo 0: {'criterion': 'gini', 'max_depth': 6, 'min_samples_leaf': 150, 'min_samples_split': 285, 'n_estimators': 120, 'random_state': 5} ✓\n",
      "Modelo 300: {'criterion': 'gini', 'max_depth': 6, 'min_samples_leaf': 154, 'min_samples_split': 360, 'n_estimators': 195, 'random_state': 5} ✓\n",
      "Modelo 600: {'criterion': 'gini', 'max_depth': 6, 'min_samples_leaf': 158, 'min_samples_split': 435, 'n_estimators': 270, 'random_state': 5} ✓\n",
      "Modelo 900: {'criterion': 'gini', 'max_depth': 6, 'min_samples_leaf': 162, 'min_samples_split': 510, 'n_estimators': 345, 'random_state': 5} ✓\n",
      "Modelo 1200: {'criterion': 'gini', 'max_depth': 6, 'min_samples_leaf': 168, 'min_samples_split': 310, 'n_estimators': 145, 'random_state': 5} ✓\n",
      "Modelo 1500: {'criterion': 'gini', 'max_depth': 6, 'min_samples_leaf': 172, 'min_samples_split': 385, 'n_estimators': 220, 'random_state': 5} ✓\n",
      "Modelo 1800: {'criterion': 'gini', 'max_depth': 6, 'min_samples_leaf': 176, 'min_samples_split': 460, 'n_estimators': 295, 'random_state': 5} ✓\n",
      "Modelo 2100: {'criterion': 'gini', 'max_depth': 6, 'min_samples_leaf': 180, 'min_samples_split': 535, 'n_estimators': 370, 'random_state': 5} ✓\n",
      "Modelo 2400: {'criterion': 'gini', 'max_depth': 6, 'min_samples_leaf': 186, 'min_samples_split': 335, 'n_estimators': 170, 'random_state': 5} ✓\n",
      "Modelo 2700: {'criterion': 'gini', 'max_depth': 6, 'min_samples_leaf': 190, 'min_samples_split': 410, 'n_estimators': 245, 'random_state': 5} ✓\n",
      "Modelo 3000: {'criterion': 'gini', 'max_depth': 6, 'min_samples_leaf': 194, 'min_samples_split': 485, 'n_estimators': 320, 'random_state': 5} ✓\n",
      "Modelo 3300: {'criterion': 'entropy', 'max_depth': 6, 'min_samples_leaf': 150, 'min_samples_split': 285, 'n_estimators': 120, 'random_state': 5} ✓\n",
      "Modelo 3600: {'criterion': 'entropy', 'max_depth': 6, 'min_samples_leaf': 154, 'min_samples_split': 360, 'n_estimators': 195, 'random_state': 5} ✓\n",
      "Modelo 3900: {'criterion': 'entropy', 'max_depth': 6, 'min_samples_leaf': 158, 'min_samples_split': 435, 'n_estimators': 270, 'random_state': 5} ✓\n",
      "Modelo 4200: {'criterion': 'entropy', 'max_depth': 6, 'min_samples_leaf': 162, 'min_samples_split': 510, 'n_estimators': 345, 'random_state': 5} ✓\n",
      "Modelo 4500: {'criterion': 'entropy', 'max_depth': 6, 'min_samples_leaf': 168, 'min_samples_split': 310, 'n_estimators': 145, 'random_state': 5} ✓\n",
      "Modelo 4800: {'criterion': 'entropy', 'max_depth': 6, 'min_samples_leaf': 172, 'min_samples_split': 385, 'n_estimators': 220, 'random_state': 5} ✓\n",
      "Modelo 5100: {'criterion': 'entropy', 'max_depth': 6, 'min_samples_leaf': 176, 'min_samples_split': 460, 'n_estimators': 295, 'random_state': 5} ✓\n",
      "Modelo 5400: {'criterion': 'entropy', 'max_depth': 6, 'min_samples_leaf': 180, 'min_samples_split': 535, 'n_estimators': 370, 'random_state': 5} ✓\n",
      "Modelo 5700: {'criterion': 'entropy', 'max_depth': 6, 'min_samples_leaf': 186, 'min_samples_split': 335, 'n_estimators': 170, 'random_state': 5} ✓\n",
      "Modelo 6000: {'criterion': 'entropy', 'max_depth': 6, 'min_samples_leaf': 190, 'min_samples_split': 410, 'n_estimators': 245, 'random_state': 5} ✓\n",
      "Modelo 6300: {'criterion': 'entropy', 'max_depth': 6, 'min_samples_leaf': 194, 'min_samples_split': 485, 'n_estimators': 320, 'random_state': 5} ✓\n",
      "CPU times: user 1d 2h 17min 19s, sys: 53min 54s, total: 1d 3h 11min 14s\n",
      "Wall time: 13h 37min 30s\n"
     ]
    }
   ],
   "source": [
    "%time resultados, importances = grid(param_grid, endireh, y, cv=5)"
   ]
  },
  {
   "cell_type": "raw",
   "metadata": {},
   "source": [
    "tn, fp, fn, tp"
   ]
  },
  {
   "cell_type": "code",
   "execution_count": 13,
   "metadata": {},
   "outputs": [
    {
     "data": {
      "text/html": [
       "<div>\n",
       "<style scoped>\n",
       "    .dataframe tbody tr th:only-of-type {\n",
       "        vertical-align: middle;\n",
       "    }\n",
       "\n",
       "    .dataframe tbody tr th {\n",
       "        vertical-align: top;\n",
       "    }\n",
       "\n",
       "    .dataframe thead th {\n",
       "        text-align: right;\n",
       "    }\n",
       "</style>\n",
       "<table border=\"1\" class=\"dataframe\">\n",
       "  <thead>\n",
       "    <tr style=\"text-align: right;\">\n",
       "      <th></th>\n",
       "      <th>oob_accuracy</th>\n",
       "      <th>f1_abuso</th>\n",
       "      <th>cm_abuso</th>\n",
       "      <th>f1_atencion</th>\n",
       "      <th>cm_atencion</th>\n",
       "      <th>criterion</th>\n",
       "      <th>max_depth</th>\n",
       "      <th>min_samples_leaf</th>\n",
       "      <th>min_samples_split</th>\n",
       "      <th>n_estimators</th>\n",
       "      <th>random_state</th>\n",
       "    </tr>\n",
       "  </thead>\n",
       "  <tbody>\n",
       "    <tr>\n",
       "      <th>2660</th>\n",
       "      <td>0.789016</td>\n",
       "      <td>0.0</td>\n",
       "      <td>[2785, 0, 996, 0]</td>\n",
       "      <td>[3193, 0, 588, 0]</td>\n",
       "      <td>0.0</td>\n",
       "      <td>gini</td>\n",
       "      <td>6</td>\n",
       "      <td>190</td>\n",
       "      <td>310</td>\n",
       "      <td>345</td>\n",
       "      <td>5</td>\n",
       "    </tr>\n",
       "    <tr>\n",
       "      <th>6287</th>\n",
       "      <td>0.788804</td>\n",
       "      <td>0.0</td>\n",
       "      <td>[2792, 0, 989, 0]</td>\n",
       "      <td>[3160, 0, 621, 0]</td>\n",
       "      <td>0.0</td>\n",
       "      <td>entropy</td>\n",
       "      <td>6</td>\n",
       "      <td>194</td>\n",
       "      <td>460</td>\n",
       "      <td>270</td>\n",
       "      <td>5</td>\n",
       "    </tr>\n",
       "    <tr>\n",
       "      <th>5246</th>\n",
       "      <td>0.788619</td>\n",
       "      <td>0.0</td>\n",
       "      <td>[2840, 0, 941, 0]</td>\n",
       "      <td>[3225, 0, 556, 0]</td>\n",
       "      <td>0.0</td>\n",
       "      <td>entropy</td>\n",
       "      <td>6</td>\n",
       "      <td>178</td>\n",
       "      <td>485</td>\n",
       "      <td>370</td>\n",
       "      <td>5</td>\n",
       "    </tr>\n",
       "    <tr>\n",
       "      <th>6181</th>\n",
       "      <td>0.788605</td>\n",
       "      <td>0.0</td>\n",
       "      <td>[2800, 0, 981, 0]</td>\n",
       "      <td>[3167, 0, 614, 0]</td>\n",
       "      <td>0.0</td>\n",
       "      <td>entropy</td>\n",
       "      <td>6</td>\n",
       "      <td>192</td>\n",
       "      <td>510</td>\n",
       "      <td>370</td>\n",
       "      <td>5</td>\n",
       "    </tr>\n",
       "    <tr>\n",
       "      <th>2960</th>\n",
       "      <td>0.788454</td>\n",
       "      <td>0.0</td>\n",
       "      <td>[2799, 0, 982, 0]</td>\n",
       "      <td>[3155, 0, 626, 0]</td>\n",
       "      <td>0.0</td>\n",
       "      <td>gini</td>\n",
       "      <td>6</td>\n",
       "      <td>194</td>\n",
       "      <td>410</td>\n",
       "      <td>145</td>\n",
       "      <td>5</td>\n",
       "    </tr>\n",
       "  </tbody>\n",
       "</table>\n",
       "</div>"
      ],
      "text/plain": [
       "      oob_accuracy  f1_abuso           cm_abuso        f1_atencion  \\\n",
       "2660      0.789016       0.0  [2785, 0, 996, 0]  [3193, 0, 588, 0]   \n",
       "6287      0.788804       0.0  [2792, 0, 989, 0]  [3160, 0, 621, 0]   \n",
       "5246      0.788619       0.0  [2840, 0, 941, 0]  [3225, 0, 556, 0]   \n",
       "6181      0.788605       0.0  [2800, 0, 981, 0]  [3167, 0, 614, 0]   \n",
       "2960      0.788454       0.0  [2799, 0, 982, 0]  [3155, 0, 626, 0]   \n",
       "\n",
       "      cm_atencion criterion  max_depth  min_samples_leaf  min_samples_split  \\\n",
       "2660          0.0      gini          6               190                310   \n",
       "6287          0.0   entropy          6               194                460   \n",
       "5246          0.0   entropy          6               178                485   \n",
       "6181          0.0   entropy          6               192                510   \n",
       "2960          0.0      gini          6               194                410   \n",
       "\n",
       "      n_estimators  random_state  \n",
       "2660           345             5  \n",
       "6287           270             5  \n",
       "5246           370             5  \n",
       "6181           370             5  \n",
       "2960           145             5  "
      ]
     },
     "execution_count": 13,
     "metadata": {},
     "output_type": "execute_result"
    }
   ],
   "source": [
    "resultados.sort_values(by=['oob_accuracy'], ascending=False).head()"
   ]
  },
  {
   "cell_type": "code",
   "execution_count": 14,
   "metadata": {},
   "outputs": [
    {
     "data": {
      "image/png": "[encoded data removed]",
      "text/plain": [
       "<Figure size 720x360 with 1 Axes>"
      ]
     },
     "metadata": {
      "needs_background": "light"
     },
     "output_type": "display_data"
    }
   ],
   "source": [
    "forest_importances = pd.Series(np.mean(importances, axis = 0), index=endireh.columns)\n",
    "forest_importances.sort_values(ascending=False, inplace=True)\n",
    "\n",
    "fig, ax = plt.subplots(figsize=(10,5))\n",
    "#forest_importances[:15].plot.bar(yerr=std, ax=ax)\n",
    "forest_importances.plot.bar(ax=ax)\n",
    "ax.set_title(\"Feature importances using MDI\")\n",
    "ax.set_ylabel(\"Mean decrease in impurity\")\n",
    "fig.tight_layout()"
   ]
  },
  {
   "cell_type": "code",
   "execution_count": 15,
   "metadata": {},
   "outputs": [
    {
     "data": {
      "text/plain": [
       "33000"
      ]
     },
     "execution_count": 15,
     "metadata": {},
     "output_type": "execute_result"
    }
   ],
   "source": [
    "len(importances)"
   ]
  },
  {
   "cell_type": "code",
   "execution_count": 16,
   "metadata": {},
   "outputs": [],
   "source": [
    "textfile = open(\"FI/multiple/Ambos4_feature_importance_RF_Org_All.txt\", \"w\")\n",
    "textfile.write(','.join(endireh.columns) + \"\\n\")\n",
    "for imp in importances:\n",
    "    textfile.write(','.join(map(str, imp)) + \"\\n\")\n",
    "textfile.close()"
   ]
  },
  {
   "cell_type": "code",
   "execution_count": 17,
   "metadata": {},
   "outputs": [
    {
     "data": {
      "text/plain": [
       "0.9999999999999993"
      ]
     },
     "execution_count": 17,
     "metadata": {},
     "output_type": "execute_result"
    }
   ],
   "source": [
    "sum(np.mean(importances, axis = 0))"
   ]
  },
  {
   "cell_type": "code",
   "execution_count": 18,
   "metadata": {},
   "outputs": [
    {
     "data": {
      "text/plain": [
       "P9_8_11           0.278999\n",
       "DOMINIO           0.106668\n",
       "EDAD              0.090630\n",
       "CVE_ENT           0.051539\n",
       "P9_5              0.041624\n",
       "ESCOLARIDAD       0.040679\n",
       "CVE_MUN           0.034901\n",
       "DRENAJE           0.031223\n",
       "P9_7              0.031100\n",
       "FOCOS             0.029200\n",
       "P9_1              0.020491\n",
       "P1_7              0.018872\n",
       "PISOS             0.018487\n",
       "P1_4_5            0.015741\n",
       "P1_2_A            0.015262\n",
       "P2_14             0.013470\n",
       "P1_4_9            0.013419\n",
       "P9_6              0.012909\n",
       "GRA               0.011813\n",
       "P2_15             0.011143\n",
       "RES_PADRE         0.009341\n",
       "P9_3              0.009074\n",
       "P1_4_1            0.008867\n",
       "AGUA              0.008715\n",
       "ABORTO            0.007543\n",
       "P1_2              0.007451\n",
       "P1_4_8            0.006608\n",
       "PAREN             0.006004\n",
       "PERT_INDIGENA     0.005486\n",
       "TRABAJO           0.005345\n",
       "P1_4_3            0.004922\n",
       "RES_MADRE         0.004703\n",
       "P1_4_7            0.004273\n",
       "ASISTENCIA_ESC    0.003871\n",
       "NACIO_MUERT       0.003830\n",
       "T_INSTRUM         0.003323\n",
       "P1_4_4            0.003270\n",
       "NACIO_VIV         0.002932\n",
       "LENG_INDIGENA     0.002912\n",
       "P1_4_6            0.002454\n",
       "P1_4_2            0.000497\n",
       "P1_9              0.000264\n",
       "P1_10_2           0.000120\n",
       "ALFABETISMO       0.000027\n",
       "P1_10_1           0.000000\n",
       "P1_10_4           0.000000\n",
       "LENG_ESPAÑOL      0.000000\n",
       "P1_10_3           0.000000\n",
       "dtype: float64"
      ]
     },
     "execution_count": 18,
     "metadata": {},
     "output_type": "execute_result"
    }
   ],
   "source": [
    "forest_importances"
   ]
  }
 ],
 "metadata": {
  "kernelspec": {
   "display_name": "Python 3",
   "language": "python",
   "name": "python3"
  },
  "language_info": {
   "codemirror_mode": {
    "name": "ipython",
    "version": 3
   },
   "file_extension": ".py",
   "mimetype": "text/x-python",
   "name": "python",
   "nbconvert_exporter": "python",
   "pygments_lexer": "ipython3",
   "version": "3.6.9"
  }
 },
 "nbformat": 4,
 "nbformat_minor": 4
}
